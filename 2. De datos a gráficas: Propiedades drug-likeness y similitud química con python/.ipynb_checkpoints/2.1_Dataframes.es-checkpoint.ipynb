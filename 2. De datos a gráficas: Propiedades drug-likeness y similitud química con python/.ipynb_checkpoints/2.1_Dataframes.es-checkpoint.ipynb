{
 "cells": [
  {
   "cell_type": "markdown",
   "id": "4697f74c",
   "metadata": {},
   "source": [
    "# Introducción a la manipulación de Estructuras de Datos avanzadas con Pandas\n",
    "\n",
    "## Librería Numpy\n",
    "\n",
    "*Numpy* es una librería de Python fundamental para la computación científica. Entre sus características está la creación de arreglos multidimensionales, que se pueden tratar como vectores, y posee una gran rapidez a la hora de hacer operaciones matemáticas sobre los mismos. Lo cual la hace una herramienta necesaria para proyectos con requerimientos de alta computación y cálculo matemático y es por eso de su gran popularidad en el ecosistema científico.\n",
    "\n",
    "### Operaciones matemáticas con Arreglos de Numpy\n",
    "\n",
    "Para empezar, importaremos la librería y creamos nuestro primer Arreglo de Numpy, luego lo afectaremos con algunas operaciones matemáticas básicas. Es común renombrar la librería `Numpy` como `np`.\n"
   ]
  },
  {
   "cell_type": "code",
   "execution_count": 1,
   "id": "af82d819",
   "metadata": {
    "ExecuteTime": {
     "end_time": "2023-04-11T16:50:31.357654Z",
     "start_time": "2023-04-11T16:50:30.429326Z"
    },
    "tags": []
   },
   "outputs": [
    {
     "data": {
      "text/plain": [
       "array([ 0,  1,  2,  3,  4,  5,  6,  7,  8,  9, 10])"
      ]
     },
     "execution_count": 1,
     "metadata": {},
     "output_type": "execute_result"
    }
   ],
   "source": [
    "# Se importa la librería numpy. Por lo general el acrónimo para la librería numpy es np.\n",
    "import numpy as np\n",
    "\n",
    "# Se crea un arreglo de números\n",
    "nums = np.array([0, 1, 2, 3, 4, 5, 6, 7, 8, 9, 10])\n",
    "\n",
    "# Se imprime el valor del arreglo\n",
    "nums"
   ]
  },
  {
   "cell_type": "markdown",
   "id": "97c4e2c7",
   "metadata": {},
   "source": [
    "**Vale la pena mencionar que un arreglo de Numpy se parece mucho a una lista nativa de Python.** La diferencia principal radica en el tipo de operaciones de orden matemático que se pueden realizar sobre un arreglo de la librería y las listas nativas de Python.\n",
    "\n",
    "Tomemos como punto de partida la suma de dos arreglos de `Numpy`, comparado con una suma de listas de Python:"
   ]
  },
  {
   "cell_type": "code",
   "execution_count": 2,
   "id": "f07b4c21",
   "metadata": {
    "ExecuteTime": {
     "end_time": "2023-04-11T16:50:31.357654Z",
     "start_time": "2023-04-11T16:50:30.526583Z"
    },
    "tags": []
   },
   "outputs": [
    {
     "data": {
      "text/plain": [
       "array([ 0,  2,  4,  6,  8, 10, 12, 14, 16, 18, 20])"
      ]
     },
     "execution_count": 2,
     "metadata": {},
     "output_type": "execute_result"
    }
   ],
   "source": [
    "# Se imprime la suma del arreglo de Numpy\n",
    "nums + nums"
   ]
  },
  {
   "cell_type": "markdown",
   "id": "60595dbe",
   "metadata": {},
   "source": [
    "Se mantuvo el tamaño de la lista, pero sus elementos fueron sumados, y es aquí el potencial y la simpleza de los arreglos de `Numpy`, y el porque de su basto uso en el mundo científico.\n",
    "\n",
    "Miremos un código equivalente con una lista nativa de Python:"
   ]
  },
  {
   "cell_type": "code",
   "execution_count": 3,
   "id": "272f70d4",
   "metadata": {
    "ExecuteTime": {
     "end_time": "2023-04-11T16:50:31.357654Z",
     "start_time": "2023-04-11T16:50:30.543538Z"
    },
    "tags": []
   },
   "outputs": [
    {
     "data": {
      "text/plain": [
       "[0, 2, 4, 6, 8, 10, 12, 14, 16, 18, 20]"
      ]
     },
     "execution_count": 3,
     "metadata": {},
     "output_type": "execute_result"
    }
   ],
   "source": [
    "# Lista por compresión con adición de sus elementos\n",
    "lista_nums = [0, 1, 2, 3, 4, 5, 6, 7, 8, 9, 10]\n",
    "[x + x for x in lista_nums]"
   ]
  },
  {
   "cell_type": "markdown",
   "id": "7124e3af",
   "metadata": {},
   "source": [
    "No creemos que sea complicado estar creando *listas de comprensión* de Python, pero claramente se reducirían las líneas de código en nuestro programa usando los arreglos de **Numpy**. Y sería imposible lograrlo si necesitamos sumar dos listas.\n",
    "\n",
    "Los *arreglos de Numpy* también pueden realizar las demás operaciones siguiendo el mismo modelo:\n",
    "\n",
    "```markdown\n",
    "<arreglo_numpy> <operacion (+, -, *, /)> <arreglo_numpy>\n",
    "```\n",
    "*Tengamos cuidado con la división si hay ceros en el denominador, recordemos que no es posible dividir entre cero, en tal caso saldría un error*\n",
    "\n",
    "Ahora, para ver el potencial de los arreglos de Numpy, ¿qué pasaría si intentamos sumar dos arreglos de tamaño $n$, hablemos de arreglos de $10000000$ elementos?"
   ]
  },
  {
   "cell_type": "code",
   "execution_count": 4,
   "id": "198d8fc3",
   "metadata": {
    "ExecuteTime": {
     "end_time": "2023-04-11T16:50:31.359650Z",
     "start_time": "2023-04-11T16:50:30.559495Z"
    },
    "tags": []
   },
   "outputs": [
    {
     "name": "stdout",
     "output_type": "stream",
     "text": [
      "[ 4  0 16 ... 63 63  6]\n"
     ]
    }
   ],
   "source": [
    "#Se importa la libreria de Numpy\n",
    "import numpy as np\n",
    "\n",
    "#Se crean dos arreglos con 1 millón de elementos, en donde cada elemento tiene un valor aleatorio entre 0-10\n",
    "x = np.random.choice(10, 10000000)\n",
    "y = np.random.choice(10, 10000000)\n",
    "\n",
    "print(x * y)"
   ]
  },
  {
   "cell_type": "markdown",
   "id": "eaac0abd",
   "metadata": {},
   "source": [
    "¿Lo vieron? La multiplicación tomo tan solo milisegundos. Y es ahí donde usar la librería vale la pena."
   ]
  },
  {
   "cell_type": "markdown",
   "id": "0a9e3ca6",
   "metadata": {},
   "source": [
    "##  Introducción a las Series de Pandas\n",
    "\n",
    "Antes de hablar de Dataframes es importante que hagamos un pequeño repaso sobre las **Series**, al mismo tiempo empezaremos a interactuar con la librería de Pandas.\n",
    "\n",
    "**`Pandas`** es una librería de Python (Al igual que `Numpy`), que se caracteriza por proveer estructuras de datos que son de rápido procesamiento, que son fáciles de expresar para hacer que el trabajo con datos relacionales sea muy fácil e intuitivo. [Mas info aqui](https://pandas.pydata.org/docs/getting_started/overview.html)\n",
    "\n",
    "¿Qué es una Serie? ¿Cómo se crea una Serie? Veamos las respuestas a estas preguntas:\n",
    "\n",
    "Las Series son un tipo de estructura unidimensional *(1D)* muy parecida a un arreglo, con la característica de que podemos etiquetar en cierta medida sus datos a través de índices.\n",
    "\n",
    "Para estudiar el potencial de las series vamos a interactuar con el archivo `iris.data` (./data/iris.data) que proviene del repositorio de datos de la [UCI Machine Learning](https://archive-beta.ics.uci.edu/)."
   ]
  },
  {
   "cell_type": "code",
   "execution_count": 5,
   "id": "20ebe0f3",
   "metadata": {
    "ExecuteTime": {
     "end_time": "2023-04-11T16:50:31.359650Z",
     "start_time": "2023-04-11T16:50:30.779018Z"
    },
    "tags": []
   },
   "outputs": [
    {
     "data": {
      "text/plain": [
       "0         [5.1, 3.5, 1.4, 0.2, Iris-setosa]\n",
       "1         [4.9, 3.0, 1.4, 0.2, Iris-setosa]\n",
       "2         [4.7, 3.2, 1.3, 0.2, Iris-setosa]\n",
       "3         [4.6, 3.1, 1.5, 0.2, Iris-setosa]\n",
       "4         [5.0, 3.6, 1.4, 0.2, Iris-setosa]\n",
       "                       ...                 \n",
       "145    [6.7, 3.0, 5.2, 2.3, Iris-virginica]\n",
       "146    [6.3, 2.5, 5.0, 1.9, Iris-virginica]\n",
       "147    [6.5, 3.0, 5.2, 2.0, Iris-virginica]\n",
       "148    [6.2, 3.4, 5.4, 2.3, Iris-virginica]\n",
       "149    [5.9, 3.0, 5.1, 1.8, Iris-virginica]\n",
       "Length: 150, dtype: object"
      ]
     },
     "execution_count": 5,
     "metadata": {},
     "output_type": "execute_result"
    }
   ],
   "source": [
    "import pandas as pd\n",
    "\n",
    "# Se importa el archivo iris.data y se lee su contenido\n",
    "with open(\"data/iris.data\", \"r\") as DATA:\n",
    "    iris_dataset = DATA.read()\n",
    "\n",
    "# Se limpia el dataset y se construye la serie a partir del arreglo generado por el `split` \n",
    "iris_dataset = iris_dataset.split('\\n')\n",
    "iris_dataset = [i.split(',') for i in iris_dataset]\n",
    "\n",
    "# Se crea la serie con los datos del dataset\n",
    "serie_de_iris = pd.Series(iris_dataset)\n",
    "\n",
    "# Se imprime la serie\n",
    "serie_de_iris"
   ]
  },
  {
   "cell_type": "markdown",
   "id": "8fe775c9",
   "metadata": {},
   "source": [
    "*De ahora en adelante siempre que queramos visualizar el contenido de una serie y/o un Dataframe usaremos el método `head`, el cual solo muestra los primeros datos y no todo el conjunto.*\n",
    "\n",
    "Y así de fácil se construye una estructura de datos básica pero potente que nos da la libreria de *Pandas*. Exploremos lo que tenemos:\n",
    "\n",
    "- Cada renglón es un arreglo de una dimensión con cinco elementos, se imprimieron $150$ filas, cada una con una lista de 5 elementos, más la columna de enumeración.\n",
    "\n",
    "- Las *series* al igual que las listas y arreglos de *Numpy* poseen métodos y su manipulación también se logra por medio de indexación.\n"
   ]
  },
  {
   "cell_type": "code",
   "execution_count": 6,
   "id": "85d36d26",
   "metadata": {
    "ExecuteTime": {
     "end_time": "2023-04-11T16:50:31.359650Z",
     "start_time": "2023-04-11T16:50:31.046900Z"
    },
    "tags": []
   },
   "outputs": [
    {
     "data": {
      "text/plain": [
       "0    [5.1, 3.5, 1.4, 0.2, Iris-setosa]\n",
       "1    [4.9, 3.0, 1.4, 0.2, Iris-setosa]\n",
       "2    [4.7, 3.2, 1.3, 0.2, Iris-setosa]\n",
       "3    [4.6, 3.1, 1.5, 0.2, Iris-setosa]\n",
       "4    [5.0, 3.6, 1.4, 0.2, Iris-setosa]\n",
       "dtype: object"
      ]
     },
     "execution_count": 6,
     "metadata": {},
     "output_type": "execute_result"
    }
   ],
   "source": [
    "# Ejemplo 1: Se imprime los primeros datos de la serie utilizando el método head.\n",
    "serie_de_iris.head()"
   ]
  },
  {
   "cell_type": "markdown",
   "id": "276e3909",
   "metadata": {},
   "source": [
    "Otro método útil es el método `index`, devuelve la lista de índices y su rango."
   ]
  },
  {
   "cell_type": "code",
   "execution_count": 7,
   "id": "f314a01e",
   "metadata": {
    "ExecuteTime": {
     "end_time": "2023-04-11T16:50:31.359650Z",
     "start_time": "2023-04-11T16:50:31.062857Z"
    },
    "tags": []
   },
   "outputs": [
    {
     "data": {
      "text/plain": [
       "RangeIndex(start=0, stop=150, step=1)"
      ]
     },
     "execution_count": 7,
     "metadata": {},
     "output_type": "execute_result"
    }
   ],
   "source": [
    "# Se imprimen los indexes del arreglo, en este caso hace referencia a la primera columna\n",
    "serie_de_iris.index"
   ]
  },
  {
   "cell_type": "markdown",
   "id": "804edc42",
   "metadata": {},
   "source": [
    "Que tal si quisieramos acceder a los elementos de la posicion $120$ en adelante:"
   ]
  },
  {
   "cell_type": "code",
   "execution_count": 8,
   "id": "8d588ebf",
   "metadata": {
    "ExecuteTime": {
     "end_time": "2023-04-11T16:50:31.360647Z",
     "start_time": "2023-04-11T16:50:31.078814Z"
    }
   },
   "outputs": [
    {
     "data": {
      "text/plain": [
       "120    [6.9, 3.2, 5.7, 2.3, Iris-virginica]\n",
       "121    [5.6, 2.8, 4.9, 2.0, Iris-virginica]\n",
       "122    [7.7, 2.8, 6.7, 2.0, Iris-virginica]\n",
       "123    [6.3, 2.7, 4.9, 1.8, Iris-virginica]\n",
       "124    [6.7, 3.3, 5.7, 2.1, Iris-virginica]\n",
       "125    [7.2, 3.2, 6.0, 1.8, Iris-virginica]\n",
       "126    [6.2, 2.8, 4.8, 1.8, Iris-virginica]\n",
       "127    [6.1, 3.0, 4.9, 1.8, Iris-virginica]\n",
       "128    [6.4, 2.8, 5.6, 2.1, Iris-virginica]\n",
       "129    [7.2, 3.0, 5.8, 1.6, Iris-virginica]\n",
       "130    [7.4, 2.8, 6.1, 1.9, Iris-virginica]\n",
       "131    [7.9, 3.8, 6.4, 2.0, Iris-virginica]\n",
       "132    [6.4, 2.8, 5.6, 2.2, Iris-virginica]\n",
       "133    [6.3, 2.8, 5.1, 1.5, Iris-virginica]\n",
       "134    [6.1, 2.6, 5.6, 1.4, Iris-virginica]\n",
       "135    [7.7, 3.0, 6.1, 2.3, Iris-virginica]\n",
       "136    [6.3, 3.4, 5.6, 2.4, Iris-virginica]\n",
       "137    [6.4, 3.1, 5.5, 1.8, Iris-virginica]\n",
       "138    [6.0, 3.0, 4.8, 1.8, Iris-virginica]\n",
       "139    [6.9, 3.1, 5.4, 2.1, Iris-virginica]\n",
       "140    [6.7, 3.1, 5.6, 2.4, Iris-virginica]\n",
       "141    [6.9, 3.1, 5.1, 2.3, Iris-virginica]\n",
       "142    [5.8, 2.7, 5.1, 1.9, Iris-virginica]\n",
       "143    [6.8, 3.2, 5.9, 2.3, Iris-virginica]\n",
       "144    [6.7, 3.3, 5.7, 2.5, Iris-virginica]\n",
       "145    [6.7, 3.0, 5.2, 2.3, Iris-virginica]\n",
       "146    [6.3, 2.5, 5.0, 1.9, Iris-virginica]\n",
       "147    [6.5, 3.0, 5.2, 2.0, Iris-virginica]\n",
       "148    [6.2, 3.4, 5.4, 2.3, Iris-virginica]\n",
       "149    [5.9, 3.0, 5.1, 1.8, Iris-virginica]\n",
       "dtype: object"
      ]
     },
     "execution_count": 8,
     "metadata": {},
     "output_type": "execute_result"
    }
   ],
   "source": [
    "# Se imprimen los elementos desde la posición 120 en adelante\n",
    "serie_de_iris[120:]"
   ]
  },
  {
   "cell_type": "markdown",
   "id": "8143e447",
   "metadata": {},
   "source": [
    "Como una *Serie* es una arreglo de una dimensión *(1D)*, cada fila contiene toda la información devuelta por el dataset original, representada en un arreglo nativo de *Python* para su manipulación. **Técnicamente esto hace que sea difícil** la manipulación de los datos al interior de cada serie (por ejemplo, hallar la media de la primera columna, lo que conlleva a que desperdiciemos las funcionalidades nativas de una Serie, porque tendríamos que crear una serie por cada columna de datos, luego serie ineficiente.\n",
    "\n",
    "Veamos un ejemplo de cómo extraer los valores de la primera columna en cuestión, para esto, comenzamos cargando nuevamente el dataset original pero esta vez solo tomamos la primera columna:"
   ]
  },
  {
   "cell_type": "code",
   "execution_count": 9,
   "id": "25af5138",
   "metadata": {
    "ExecuteTime": {
     "end_time": "2023-04-11T16:50:31.360647Z",
     "start_time": "2023-04-11T16:50:31.094789Z"
    }
   },
   "outputs": [
    {
     "data": {
      "text/plain": [
       "0      5.1\n",
       "1      4.9\n",
       "2      4.7\n",
       "3      4.6\n",
       "4      5.0\n",
       "      ... \n",
       "145    6.7\n",
       "146    6.3\n",
       "147    6.5\n",
       "148    6.2\n",
       "149    5.9\n",
       "Length: 150, dtype: float64"
      ]
     },
     "execution_count": 9,
     "metadata": {},
     "output_type": "execute_result"
    }
   ],
   "source": [
    "import pandas as pd\n",
    "\n",
    "with open(\"data/iris.data\", \"r\") as DATA:\n",
    "    iris_dataset = DATA.read()\n",
    "\n",
    "# Se limpia el dataset y se construye la serie a partir del arreglo generado por el `split` \n",
    "iris_dataset = iris_dataset.split('\\n')\n",
    "\n",
    "# Se extrae del dataset la primera columna y se convierte sus datos a tipo float\n",
    "iris_dataset = [float(j[0]) if j[0] != '' else 0  for j in [i.split(',') for i in iris_dataset]]\n",
    "\n",
    "# Se crea la serie con los datos del dataset\n",
    "serie_de_iris_col_1 = pd.Series(iris_dataset)\n",
    "\n",
    "# Se imprime la serie con la primera columna del dataset\n",
    "serie_de_iris_col_1"
   ]
  },
  {
   "cell_type": "markdown",
   "id": "ce77d826",
   "metadata": {},
   "source": [
    "Y ahora si podemos encontrar algunas estadísticas como la media de todos los valores, y usaremos *Numpy* para esto:"
   ]
  },
  {
   "cell_type": "code",
   "execution_count": 10,
   "id": "d546f85f",
   "metadata": {
    "ExecuteTime": {
     "end_time": "2023-04-11T16:50:31.360647Z",
     "start_time": "2023-04-11T16:50:31.110274Z"
    }
   },
   "outputs": [
    {
     "name": "stdout",
     "output_type": "stream",
     "text": [
      "Tamaño promedio los datos:\n"
     ]
    },
    {
     "data": {
      "text/plain": [
       "5.843333333333334"
      ]
     },
     "execution_count": 10,
     "metadata": {},
     "output_type": "execute_result"
    }
   ],
   "source": [
    "import numpy as np\n",
    "\n",
    "# Se calcula la media de la serie a partir del metodo mean de numpy\n",
    "print('Tamaño promedio los datos:')\n",
    "np.mean(serie_de_iris_col_1)"
   ]
  },
  {
   "cell_type": "markdown",
   "id": "f7a47f49",
   "metadata": {},
   "source": [
    "Debido a las limitaciones de las *Series (como lo vimos previamente)* tendremos que dar paso a una nueva estructura de datos, y es aquí en donde los *Dataframes* entran en juego. Pero, ¿qué tal si primero describimos las columnas que vienen de nuestro dataset?\n",
    "\n",
    "De acuerdo con la descripcion encontrada en la página sabemos que tiene la siguiente estructura:\n",
    "\n",
    "| No. |      Columna         |  Tipo de dato | Posibles Valores                                |\n",
    "|-----|:--------------------:|--------------:|:------------------------------------------------|\n",
    "| 1   |  longitud del sepalo | float/cm      | Positivos                                       |\n",
    "| 2   |    ancho del sepalo  |   float/cm    | Positivos                                       |\n",
    "| 3   |  longitud del petalo |    float/cm   | Positivos                                       |\n",
    "| 4   |   ancho del petalo   |    float/cm   | Positivos                                       |\n",
    "| 5   |    clase             | string/texto  | Iris Setosa, Iris Versicolour,  Iris Virginica  |\n",
    "\n",
    "Es momento de que modifiquemos la *Serie*, y la convirtamos en un *Dataframe* y usemos a nuestro favor todo su potencial."
   ]
  },
  {
   "cell_type": "markdown",
   "id": "57870dbb",
   "metadata": {},
   "source": [
    "##  Introducción a los DataFrames\n",
    "\n",
    "Un *DataFrame* es un arreglo de $n$ dimensiones de datos estructurados que puede almacenar datos de diferentes tipos. Si, es como una hoja de cálculo o una tabla de una base de datos.\n",
    "\n",
    "Los DataFrame son más comunes que las Series *(Aparecen por todos lados en la computación científica, en el análisis y visualización de datos y entre otros)*  y es por esta razón que serán objeto de estudio en la práctica.\n",
    "\n",
    "Por lo general se puede crear un `DataFrame` desde diferentes fuentes de datos, pero en esta ocasión seguiremos usando el dataset de los [`iris`](./data/iris.data).\n"
   ]
  },
  {
   "cell_type": "code",
   "execution_count": 11,
   "id": "fbed6374",
   "metadata": {
    "ExecuteTime": {
     "end_time": "2023-04-11T16:50:31.360647Z",
     "start_time": "2023-04-11T16:50:31.125234Z"
    }
   },
   "outputs": [
    {
     "data": {
      "text/html": [
       "<div>\n",
       "<style scoped>\n",
       "    .dataframe tbody tr th:only-of-type {\n",
       "        vertical-align: middle;\n",
       "    }\n",
       "\n",
       "    .dataframe tbody tr th {\n",
       "        vertical-align: top;\n",
       "    }\n",
       "\n",
       "    .dataframe thead th {\n",
       "        text-align: right;\n",
       "    }\n",
       "</style>\n",
       "<table border=\"1\" class=\"dataframe\">\n",
       "  <thead>\n",
       "    <tr style=\"text-align: right;\">\n",
       "      <th></th>\n",
       "      <th>long_sepalo</th>\n",
       "      <th>ancho_sepalo</th>\n",
       "      <th>long_petalo</th>\n",
       "      <th>ancho_petalo</th>\n",
       "      <th>clase</th>\n",
       "    </tr>\n",
       "  </thead>\n",
       "  <tbody>\n",
       "    <tr>\n",
       "      <th>0</th>\n",
       "      <td>5.1</td>\n",
       "      <td>3.5</td>\n",
       "      <td>1.4</td>\n",
       "      <td>0.2</td>\n",
       "      <td>Iris-setosa</td>\n",
       "    </tr>\n",
       "    <tr>\n",
       "      <th>1</th>\n",
       "      <td>4.9</td>\n",
       "      <td>3.0</td>\n",
       "      <td>1.4</td>\n",
       "      <td>0.2</td>\n",
       "      <td>Iris-setosa</td>\n",
       "    </tr>\n",
       "    <tr>\n",
       "      <th>2</th>\n",
       "      <td>4.7</td>\n",
       "      <td>3.2</td>\n",
       "      <td>1.3</td>\n",
       "      <td>0.2</td>\n",
       "      <td>Iris-setosa</td>\n",
       "    </tr>\n",
       "    <tr>\n",
       "      <th>3</th>\n",
       "      <td>4.6</td>\n",
       "      <td>3.1</td>\n",
       "      <td>1.5</td>\n",
       "      <td>0.2</td>\n",
       "      <td>Iris-setosa</td>\n",
       "    </tr>\n",
       "    <tr>\n",
       "      <th>4</th>\n",
       "      <td>5.0</td>\n",
       "      <td>3.6</td>\n",
       "      <td>1.4</td>\n",
       "      <td>0.2</td>\n",
       "      <td>Iris-setosa</td>\n",
       "    </tr>\n",
       "  </tbody>\n",
       "</table>\n",
       "</div>"
      ],
      "text/plain": [
       "   long_sepalo  ancho_sepalo  long_petalo  ancho_petalo        clase\n",
       "0          5.1           3.5          1.4           0.2  Iris-setosa\n",
       "1          4.9           3.0          1.4           0.2  Iris-setosa\n",
       "2          4.7           3.2          1.3           0.2  Iris-setosa\n",
       "3          4.6           3.1          1.5           0.2  Iris-setosa\n",
       "4          5.0           3.6          1.4           0.2  Iris-setosa"
      ]
     },
     "execution_count": 11,
     "metadata": {},
     "output_type": "execute_result"
    }
   ],
   "source": [
    "import pandas as pd\n",
    "\n",
    "# Creamos el DataFrame a partir de iris_dataset, el parámetro names permite nombrar las columnas\n",
    "df_iris = pd.read_csv(\"./data/iris.data\", names=[\"long_sepalo\", \"ancho_sepalo\", \"long_petalo\", \"ancho_petalo\", \"clase\"])\n",
    "\n",
    "# Se imprimen los primeros 5 elementos del dataframe\n",
    "df_iris.head()"
   ]
  },
  {
   "cell_type": "markdown",
   "id": "01532f75",
   "metadata": {},
   "source": [
    "*Nota: de ahora en adelante siempre que queramos importar el contenido de un dataset local usaremos el método `read_csv` de la librería de Pandas.*\n",
    "\n",
    "Como vimos fue muy fácil construir el `DataFrame`, ahora, ¿qué tal si lo manipulamos?, podríamos contestar preguntas del tipo: ¿cuántas clases de iris tenemos?, ¿cuál es el tamaño promedio de la longitud del pétalo?, ¿para todas las clases o para una en particular? Veamos cómo se hace:"
   ]
  },
  {
   "cell_type": "markdown",
   "id": "579d741e",
   "metadata": {},
   "source": [
    "Si queremos trabajar con la primera columna, podemos hacerlo fácimente de esta manera:"
   ]
  },
  {
   "cell_type": "code",
   "execution_count": 12,
   "id": "ba52e749",
   "metadata": {
    "ExecuteTime": {
     "end_time": "2023-04-11T16:50:31.360647Z",
     "start_time": "2023-04-11T16:50:31.140206Z"
    },
    "jupyter": {
     "outputs_hidden": false
    }
   },
   "outputs": [
    {
     "data": {
      "text/plain": [
       "0    5.1\n",
       "1    4.9\n",
       "2    4.7\n",
       "3    4.6\n",
       "4    5.0\n",
       "Name: long_sepalo, dtype: float64"
      ]
     },
     "execution_count": 12,
     "metadata": {},
     "output_type": "execute_result"
    }
   ],
   "source": [
    "df_iris['long_sepalo'].head()"
   ]
  },
  {
   "cell_type": "markdown",
   "id": "f07f8fc1",
   "metadata": {},
   "source": [
    "Los elementos de la columna se almacenan como una `Serie`, con la que se puede operar fácilmente, por ejemplo encontrar el promedio de la longitud del sépalo."
   ]
  },
  {
   "cell_type": "code",
   "execution_count": 13,
   "id": "af42aa48",
   "metadata": {
    "ExecuteTime": {
     "end_time": "2023-04-11T16:50:31.360647Z",
     "start_time": "2023-04-11T16:50:31.156151Z"
    }
   },
   "outputs": [
    {
     "name": "stdout",
     "output_type": "stream",
     "text": [
      "Tamaño promedio del pétalo de las iris:\n",
      "5.843333333333334\n"
     ]
    }
   ],
   "source": [
    "### Ejemplo 1: Promedio de Longitud del Sépalo sin importar la clase\n",
    "mean_long_sepalo = np.mean(df_iris['long_sepalo'])\n",
    "print('Tamaño promedio del pétalo de las iris:')\n",
    "print(mean_long_sepalo)"
   ]
  },
  {
   "cell_type": "markdown",
   "id": "a924b72a",
   "metadata": {},
   "source": [
    "Eso fue sencillo, hallar la media de $150$ filas y con ello, darle un poquito más de significado al dataset.\n",
    "\n",
    "Los *Dataframe* tienen muchos métodos que permiten operar, manipular, agrupar, filtrar los datos, entre otros. Veamos algunos de los más importantes:\n",
    "\n",
    "* **groupby**: sirve para agrupar las filas en torno al valor de alguna de sus columnas\n",
    "* **assign**: sirve para agregar nuevas columnas a partir de los valores de otras\n",
    "* **query**: sirve para filtrar el dataset a partir de alguna condición *(Como por ejemplo el valor de una columna)*\n",
    "* **filter**: filtra un Dataframe por columnas o filas de acuerdo con sus etiquetas en los índices. *(En buena medida, como el método `query` pero el filtro se basa en los índices)\n",
    "* **value_counts()**: sirve para contar cuantos valores en una columna\n",
    "\n",
    "¿Y ahora qué tal si calculamos la cantidad de clases de iris que tenemos? Veamos cómo se hace:"
   ]
  },
  {
   "cell_type": "code",
   "execution_count": 14,
   "id": "cbeb0801",
   "metadata": {
    "ExecuteTime": {
     "end_time": "2023-04-11T16:50:31.360647Z",
     "start_time": "2023-04-11T16:50:31.172109Z"
    }
   },
   "outputs": [
    {
     "name": "stdout",
     "output_type": "stream",
     "text": [
      "El número de clases en el dataset es: \n"
     ]
    },
    {
     "data": {
      "text/plain": [
       "3"
      ]
     },
     "execution_count": 14,
     "metadata": {},
     "output_type": "execute_result"
    }
   ],
   "source": [
    "# Ejemplo 2: se hace uso del método groupby para agrupar el dataframe por la columna clase\n",
    "print('El número de clases en el dataset es: ') \n",
    "len(df_iris.groupby('clase'))"
   ]
  },
  {
   "cell_type": "code",
   "execution_count": 15,
   "id": "547bbd08",
   "metadata": {
    "ExecuteTime": {
     "end_time": "2023-04-11T16:50:31.360647Z",
     "start_time": "2023-04-11T16:50:31.188081Z"
    },
    "jupyter": {
     "outputs_hidden": false
    }
   },
   "outputs": [
    {
     "data": {
      "text/plain": [
       "clase\n",
       "Iris-setosa        50\n",
       "Iris-versicolor    50\n",
       "Iris-virginica     50\n",
       "Name: count, dtype: int64"
      ]
     },
     "execution_count": 15,
     "metadata": {},
     "output_type": "execute_result"
    }
   ],
   "source": [
    "# cuántos datos hay de cada clase\n",
    "df_iris['clase'].value_counts()"
   ]
  },
  {
   "cell_type": "markdown",
   "id": "7a619f7b",
   "metadata": {},
   "source": [
    "Ahora vamos a darle paso a las respuestas de las preguntas faltantes, veamos cúál es la media de la longitud del pétalo para la clase de *Iris-setosa* por medio del método **query**:"
   ]
  },
  {
   "cell_type": "code",
   "execution_count": 16,
   "id": "c029c74f",
   "metadata": {
    "ExecuteTime": {
     "end_time": "2023-04-11T16:50:31.360647Z",
     "start_time": "2023-04-11T16:50:31.203553Z"
    }
   },
   "outputs": [
    {
     "name": "stdout",
     "output_type": "stream",
     "text": [
      "Tamaño promedio del pétalo de la clase Iris-setosa:\n",
      "1.464\n"
     ]
    }
   ],
   "source": [
    "# Ejemplo 2: Promedio de la Longitud del Pétalo para la clase Iris-setosa\n",
    "df_iris_setosa = df_iris.query(\"clase == 'Iris-setosa'\")\n",
    "mean_long_petalo = np.mean(df_iris_setosa['long_petalo'])\n",
    "print('Tamaño promedio del pétalo de la clase Iris-setosa:')\n",
    "print(mean_long_petalo)"
   ]
  },
  {
   "cell_type": "markdown",
   "id": "47a29b84",
   "metadata": {},
   "source": [
    "Y ahora haremos uso del **Method Chain** para calcular un valor computado en una nueva columna usando el método `assign`, ¿que significa eso del Method Chain?, difícil traducirlo al español pero digamos que es la posibilidad de invocar diferentes métodos sobre un mismo objeto en una misma línea de código, separando cada uno por un punto `.`\n",
    " Un ejemplo es mejor que mil palabras:"
   ]
  },
  {
   "cell_type": "code",
   "execution_count": 17,
   "id": "1830a52c",
   "metadata": {
    "ExecuteTime": {
     "end_time": "2023-04-11T16:50:31.361645Z",
     "start_time": "2023-04-11T16:50:31.225492Z"
    }
   },
   "outputs": [
    {
     "data": {
      "text/html": [
       "<div>\n",
       "<style scoped>\n",
       "    .dataframe tbody tr th:only-of-type {\n",
       "        vertical-align: middle;\n",
       "    }\n",
       "\n",
       "    .dataframe tbody tr th {\n",
       "        vertical-align: top;\n",
       "    }\n",
       "\n",
       "    .dataframe thead th {\n",
       "        text-align: right;\n",
       "    }\n",
       "</style>\n",
       "<table border=\"1\" class=\"dataframe\">\n",
       "  <thead>\n",
       "    <tr style=\"text-align: right;\">\n",
       "      <th></th>\n",
       "      <th>long_sepalo</th>\n",
       "      <th>ancho_sepalo</th>\n",
       "      <th>long_petalo</th>\n",
       "      <th>ancho_petalo</th>\n",
       "      <th>clase</th>\n",
       "      <th>proporcion_petalo</th>\n",
       "    </tr>\n",
       "  </thead>\n",
       "  <tbody>\n",
       "    <tr>\n",
       "      <th>100</th>\n",
       "      <td>6.3</td>\n",
       "      <td>3.3</td>\n",
       "      <td>6.0</td>\n",
       "      <td>2.5</td>\n",
       "      <td>Iris-virginica</td>\n",
       "      <td>0.416667</td>\n",
       "    </tr>\n",
       "    <tr>\n",
       "      <th>101</th>\n",
       "      <td>5.8</td>\n",
       "      <td>2.7</td>\n",
       "      <td>5.1</td>\n",
       "      <td>1.9</td>\n",
       "      <td>Iris-virginica</td>\n",
       "      <td>0.372549</td>\n",
       "    </tr>\n",
       "    <tr>\n",
       "      <th>102</th>\n",
       "      <td>7.1</td>\n",
       "      <td>3.0</td>\n",
       "      <td>5.9</td>\n",
       "      <td>2.1</td>\n",
       "      <td>Iris-virginica</td>\n",
       "      <td>0.355932</td>\n",
       "    </tr>\n",
       "    <tr>\n",
       "      <th>103</th>\n",
       "      <td>6.3</td>\n",
       "      <td>2.9</td>\n",
       "      <td>5.6</td>\n",
       "      <td>1.8</td>\n",
       "      <td>Iris-virginica</td>\n",
       "      <td>0.321429</td>\n",
       "    </tr>\n",
       "    <tr>\n",
       "      <th>104</th>\n",
       "      <td>6.5</td>\n",
       "      <td>3.0</td>\n",
       "      <td>5.8</td>\n",
       "      <td>2.2</td>\n",
       "      <td>Iris-virginica</td>\n",
       "      <td>0.379310</td>\n",
       "    </tr>\n",
       "  </tbody>\n",
       "</table>\n",
       "</div>"
      ],
      "text/plain": [
       "     long_sepalo  ancho_sepalo  long_petalo  ancho_petalo           clase   \n",
       "100          6.3           3.3          6.0           2.5  Iris-virginica  \\\n",
       "101          5.8           2.7          5.1           1.9  Iris-virginica   \n",
       "102          7.1           3.0          5.9           2.1  Iris-virginica   \n",
       "103          6.3           2.9          5.6           1.8  Iris-virginica   \n",
       "104          6.5           3.0          5.8           2.2  Iris-virginica   \n",
       "\n",
       "     proporcion_petalo  \n",
       "100           0.416667  \n",
       "101           0.372549  \n",
       "102           0.355932  \n",
       "103           0.321429  \n",
       "104           0.379310  "
      ]
     },
     "execution_count": 17,
     "metadata": {},
     "output_type": "execute_result"
    }
   ],
   "source": [
    "# Ejemplo 3: Proporción computada del tamaño del pétalo para la clase Iris-virginica\n",
    "# Primero se filtran los elementos de clase Iris-virginica, luego se crea una nueva columna donde se divide el ancho y la longitud del pétalo, finalmente se muestran solo los primeros cinco elementos.\n",
    "df_iris.query('clase == \"Iris-virginica\"').assign(proporcion_petalo=lambda i: i['ancho_petalo'] / i['long_petalo']).head()"
   ]
  },
  {
   "cell_type": "markdown",
   "id": "888c2bcf",
   "metadata": {},
   "source": [
    "Y con esto logramos contestar las preguntas propuestas previamente. De forma que es fácil manipular un *DataFrame* al tiempo que jugamos con sus datos."
   ]
  },
  {
   "cell_type": "markdown",
   "id": "6bfa7b68",
   "metadata": {},
   "source": [
    "## Más sobre los DataFrames\n",
    "\n",
    "\n",
    "Para continuar con la práctica, sería bueno dar un pequeño repaso sobre las ideas de manipulación más básicas y estándar de los *DataFrames*. Lo haremos al mismo tiempo que encontraremos la *desviación estándar sobre la longitud de los pétalos* de la clase *Iris-versicolor*.\n",
    "\n",
    "Este proceso demostrativo, de manipulación básica será paso a paso al mismo tiempo que nuevas columnas son agregadas, y para mayor comodidad trabajaremos con una porción del dataset original:"
   ]
  },
  {
   "cell_type": "code",
   "execution_count": 18,
   "id": "313446cc",
   "metadata": {
    "ExecuteTime": {
     "end_time": "2023-04-11T16:50:31.361645Z",
     "start_time": "2023-04-11T16:50:31.236476Z"
    }
   },
   "outputs": [
    {
     "name": "stdout",
     "output_type": "stream",
     "text": [
      "DevSt = 0.04682896000000002\n"
     ]
    },
    {
     "data": {
      "text/html": [
       "<div>\n",
       "<style scoped>\n",
       "    .dataframe tbody tr th:only-of-type {\n",
       "        vertical-align: middle;\n",
       "    }\n",
       "\n",
       "    .dataframe tbody tr th {\n",
       "        vertical-align: top;\n",
       "    }\n",
       "\n",
       "    .dataframe thead th {\n",
       "        text-align: right;\n",
       "    }\n",
       "</style>\n",
       "<table border=\"1\" class=\"dataframe\">\n",
       "  <thead>\n",
       "    <tr style=\"text-align: right;\">\n",
       "      <th></th>\n",
       "      <th>long_sepalo</th>\n",
       "      <th>ancho_sepalo</th>\n",
       "      <th>long_petalo</th>\n",
       "      <th>ancho_petalo</th>\n",
       "      <th>clase</th>\n",
       "      <th>long_petalo_minus_media</th>\n",
       "      <th>long_petalo_minus_media_square</th>\n",
       "    </tr>\n",
       "  </thead>\n",
       "  <tbody>\n",
       "    <tr>\n",
       "      <th>50</th>\n",
       "      <td>7.0</td>\n",
       "      <td>3.2</td>\n",
       "      <td>4.7</td>\n",
       "      <td>1.4</td>\n",
       "      <td>Iris-versicolor</td>\n",
       "      <td>0.44</td>\n",
       "      <td>0.1936</td>\n",
       "    </tr>\n",
       "    <tr>\n",
       "      <th>51</th>\n",
       "      <td>6.4</td>\n",
       "      <td>3.2</td>\n",
       "      <td>4.5</td>\n",
       "      <td>1.5</td>\n",
       "      <td>Iris-versicolor</td>\n",
       "      <td>0.24</td>\n",
       "      <td>0.0576</td>\n",
       "    </tr>\n",
       "    <tr>\n",
       "      <th>52</th>\n",
       "      <td>6.9</td>\n",
       "      <td>3.1</td>\n",
       "      <td>4.9</td>\n",
       "      <td>1.5</td>\n",
       "      <td>Iris-versicolor</td>\n",
       "      <td>0.64</td>\n",
       "      <td>0.4096</td>\n",
       "    </tr>\n",
       "    <tr>\n",
       "      <th>53</th>\n",
       "      <td>5.5</td>\n",
       "      <td>2.3</td>\n",
       "      <td>4.0</td>\n",
       "      <td>1.3</td>\n",
       "      <td>Iris-versicolor</td>\n",
       "      <td>-0.26</td>\n",
       "      <td>0.0676</td>\n",
       "    </tr>\n",
       "    <tr>\n",
       "      <th>54</th>\n",
       "      <td>6.5</td>\n",
       "      <td>2.8</td>\n",
       "      <td>4.6</td>\n",
       "      <td>1.5</td>\n",
       "      <td>Iris-versicolor</td>\n",
       "      <td>0.34</td>\n",
       "      <td>0.1156</td>\n",
       "    </tr>\n",
       "    <tr>\n",
       "      <th>55</th>\n",
       "      <td>5.7</td>\n",
       "      <td>2.8</td>\n",
       "      <td>4.5</td>\n",
       "      <td>1.3</td>\n",
       "      <td>Iris-versicolor</td>\n",
       "      <td>0.24</td>\n",
       "      <td>0.0576</td>\n",
       "    </tr>\n",
       "    <tr>\n",
       "      <th>56</th>\n",
       "      <td>6.3</td>\n",
       "      <td>3.3</td>\n",
       "      <td>4.7</td>\n",
       "      <td>1.6</td>\n",
       "      <td>Iris-versicolor</td>\n",
       "      <td>0.44</td>\n",
       "      <td>0.1936</td>\n",
       "    </tr>\n",
       "    <tr>\n",
       "      <th>57</th>\n",
       "      <td>4.9</td>\n",
       "      <td>2.4</td>\n",
       "      <td>3.3</td>\n",
       "      <td>1.0</td>\n",
       "      <td>Iris-versicolor</td>\n",
       "      <td>-0.96</td>\n",
       "      <td>0.9216</td>\n",
       "    </tr>\n",
       "    <tr>\n",
       "      <th>58</th>\n",
       "      <td>6.6</td>\n",
       "      <td>2.9</td>\n",
       "      <td>4.6</td>\n",
       "      <td>1.3</td>\n",
       "      <td>Iris-versicolor</td>\n",
       "      <td>0.34</td>\n",
       "      <td>0.1156</td>\n",
       "    </tr>\n",
       "    <tr>\n",
       "      <th>59</th>\n",
       "      <td>5.2</td>\n",
       "      <td>2.7</td>\n",
       "      <td>3.9</td>\n",
       "      <td>1.4</td>\n",
       "      <td>Iris-versicolor</td>\n",
       "      <td>-0.36</td>\n",
       "      <td>0.1296</td>\n",
       "    </tr>\n",
       "    <tr>\n",
       "      <th>60</th>\n",
       "      <td>5.0</td>\n",
       "      <td>2.0</td>\n",
       "      <td>3.5</td>\n",
       "      <td>1.0</td>\n",
       "      <td>Iris-versicolor</td>\n",
       "      <td>-0.76</td>\n",
       "      <td>0.5776</td>\n",
       "    </tr>\n",
       "    <tr>\n",
       "      <th>61</th>\n",
       "      <td>5.9</td>\n",
       "      <td>3.0</td>\n",
       "      <td>4.2</td>\n",
       "      <td>1.5</td>\n",
       "      <td>Iris-versicolor</td>\n",
       "      <td>-0.06</td>\n",
       "      <td>0.0036</td>\n",
       "    </tr>\n",
       "    <tr>\n",
       "      <th>62</th>\n",
       "      <td>6.0</td>\n",
       "      <td>2.2</td>\n",
       "      <td>4.0</td>\n",
       "      <td>1.0</td>\n",
       "      <td>Iris-versicolor</td>\n",
       "      <td>-0.26</td>\n",
       "      <td>0.0676</td>\n",
       "    </tr>\n",
       "    <tr>\n",
       "      <th>63</th>\n",
       "      <td>6.1</td>\n",
       "      <td>2.9</td>\n",
       "      <td>4.7</td>\n",
       "      <td>1.4</td>\n",
       "      <td>Iris-versicolor</td>\n",
       "      <td>0.44</td>\n",
       "      <td>0.1936</td>\n",
       "    </tr>\n",
       "    <tr>\n",
       "      <th>64</th>\n",
       "      <td>5.6</td>\n",
       "      <td>2.9</td>\n",
       "      <td>3.6</td>\n",
       "      <td>1.3</td>\n",
       "      <td>Iris-versicolor</td>\n",
       "      <td>-0.66</td>\n",
       "      <td>0.4356</td>\n",
       "    </tr>\n",
       "    <tr>\n",
       "      <th>65</th>\n",
       "      <td>6.7</td>\n",
       "      <td>3.1</td>\n",
       "      <td>4.4</td>\n",
       "      <td>1.4</td>\n",
       "      <td>Iris-versicolor</td>\n",
       "      <td>0.14</td>\n",
       "      <td>0.0196</td>\n",
       "    </tr>\n",
       "    <tr>\n",
       "      <th>66</th>\n",
       "      <td>5.6</td>\n",
       "      <td>3.0</td>\n",
       "      <td>4.5</td>\n",
       "      <td>1.5</td>\n",
       "      <td>Iris-versicolor</td>\n",
       "      <td>0.24</td>\n",
       "      <td>0.0576</td>\n",
       "    </tr>\n",
       "    <tr>\n",
       "      <th>67</th>\n",
       "      <td>5.8</td>\n",
       "      <td>2.7</td>\n",
       "      <td>4.1</td>\n",
       "      <td>1.0</td>\n",
       "      <td>Iris-versicolor</td>\n",
       "      <td>-0.16</td>\n",
       "      <td>0.0256</td>\n",
       "    </tr>\n",
       "    <tr>\n",
       "      <th>68</th>\n",
       "      <td>6.2</td>\n",
       "      <td>2.2</td>\n",
       "      <td>4.5</td>\n",
       "      <td>1.5</td>\n",
       "      <td>Iris-versicolor</td>\n",
       "      <td>0.24</td>\n",
       "      <td>0.0576</td>\n",
       "    </tr>\n",
       "    <tr>\n",
       "      <th>69</th>\n",
       "      <td>5.6</td>\n",
       "      <td>2.5</td>\n",
       "      <td>3.9</td>\n",
       "      <td>1.1</td>\n",
       "      <td>Iris-versicolor</td>\n",
       "      <td>-0.36</td>\n",
       "      <td>0.1296</td>\n",
       "    </tr>\n",
       "    <tr>\n",
       "      <th>70</th>\n",
       "      <td>5.9</td>\n",
       "      <td>3.2</td>\n",
       "      <td>4.8</td>\n",
       "      <td>1.8</td>\n",
       "      <td>Iris-versicolor</td>\n",
       "      <td>0.54</td>\n",
       "      <td>0.2916</td>\n",
       "    </tr>\n",
       "    <tr>\n",
       "      <th>71</th>\n",
       "      <td>6.1</td>\n",
       "      <td>2.8</td>\n",
       "      <td>4.0</td>\n",
       "      <td>1.3</td>\n",
       "      <td>Iris-versicolor</td>\n",
       "      <td>-0.26</td>\n",
       "      <td>0.0676</td>\n",
       "    </tr>\n",
       "    <tr>\n",
       "      <th>72</th>\n",
       "      <td>6.3</td>\n",
       "      <td>2.5</td>\n",
       "      <td>4.9</td>\n",
       "      <td>1.5</td>\n",
       "      <td>Iris-versicolor</td>\n",
       "      <td>0.64</td>\n",
       "      <td>0.4096</td>\n",
       "    </tr>\n",
       "    <tr>\n",
       "      <th>73</th>\n",
       "      <td>6.1</td>\n",
       "      <td>2.8</td>\n",
       "      <td>4.7</td>\n",
       "      <td>1.2</td>\n",
       "      <td>Iris-versicolor</td>\n",
       "      <td>0.44</td>\n",
       "      <td>0.1936</td>\n",
       "    </tr>\n",
       "    <tr>\n",
       "      <th>74</th>\n",
       "      <td>6.4</td>\n",
       "      <td>2.9</td>\n",
       "      <td>4.3</td>\n",
       "      <td>1.3</td>\n",
       "      <td>Iris-versicolor</td>\n",
       "      <td>0.04</td>\n",
       "      <td>0.0016</td>\n",
       "    </tr>\n",
       "    <tr>\n",
       "      <th>75</th>\n",
       "      <td>6.6</td>\n",
       "      <td>3.0</td>\n",
       "      <td>4.4</td>\n",
       "      <td>1.4</td>\n",
       "      <td>Iris-versicolor</td>\n",
       "      <td>0.14</td>\n",
       "      <td>0.0196</td>\n",
       "    </tr>\n",
       "    <tr>\n",
       "      <th>76</th>\n",
       "      <td>6.8</td>\n",
       "      <td>2.8</td>\n",
       "      <td>4.8</td>\n",
       "      <td>1.4</td>\n",
       "      <td>Iris-versicolor</td>\n",
       "      <td>0.54</td>\n",
       "      <td>0.2916</td>\n",
       "    </tr>\n",
       "    <tr>\n",
       "      <th>77</th>\n",
       "      <td>6.7</td>\n",
       "      <td>3.0</td>\n",
       "      <td>5.0</td>\n",
       "      <td>1.7</td>\n",
       "      <td>Iris-versicolor</td>\n",
       "      <td>0.74</td>\n",
       "      <td>0.5476</td>\n",
       "    </tr>\n",
       "    <tr>\n",
       "      <th>78</th>\n",
       "      <td>6.0</td>\n",
       "      <td>2.9</td>\n",
       "      <td>4.5</td>\n",
       "      <td>1.5</td>\n",
       "      <td>Iris-versicolor</td>\n",
       "      <td>0.24</td>\n",
       "      <td>0.0576</td>\n",
       "    </tr>\n",
       "    <tr>\n",
       "      <th>79</th>\n",
       "      <td>5.7</td>\n",
       "      <td>2.6</td>\n",
       "      <td>3.5</td>\n",
       "      <td>1.0</td>\n",
       "      <td>Iris-versicolor</td>\n",
       "      <td>-0.76</td>\n",
       "      <td>0.5776</td>\n",
       "    </tr>\n",
       "    <tr>\n",
       "      <th>80</th>\n",
       "      <td>5.5</td>\n",
       "      <td>2.4</td>\n",
       "      <td>3.8</td>\n",
       "      <td>1.1</td>\n",
       "      <td>Iris-versicolor</td>\n",
       "      <td>-0.46</td>\n",
       "      <td>0.2116</td>\n",
       "    </tr>\n",
       "    <tr>\n",
       "      <th>81</th>\n",
       "      <td>5.5</td>\n",
       "      <td>2.4</td>\n",
       "      <td>3.7</td>\n",
       "      <td>1.0</td>\n",
       "      <td>Iris-versicolor</td>\n",
       "      <td>-0.56</td>\n",
       "      <td>0.3136</td>\n",
       "    </tr>\n",
       "    <tr>\n",
       "      <th>82</th>\n",
       "      <td>5.8</td>\n",
       "      <td>2.7</td>\n",
       "      <td>3.9</td>\n",
       "      <td>1.2</td>\n",
       "      <td>Iris-versicolor</td>\n",
       "      <td>-0.36</td>\n",
       "      <td>0.1296</td>\n",
       "    </tr>\n",
       "    <tr>\n",
       "      <th>83</th>\n",
       "      <td>6.0</td>\n",
       "      <td>2.7</td>\n",
       "      <td>5.1</td>\n",
       "      <td>1.6</td>\n",
       "      <td>Iris-versicolor</td>\n",
       "      <td>0.84</td>\n",
       "      <td>0.7056</td>\n",
       "    </tr>\n",
       "    <tr>\n",
       "      <th>84</th>\n",
       "      <td>5.4</td>\n",
       "      <td>3.0</td>\n",
       "      <td>4.5</td>\n",
       "      <td>1.5</td>\n",
       "      <td>Iris-versicolor</td>\n",
       "      <td>0.24</td>\n",
       "      <td>0.0576</td>\n",
       "    </tr>\n",
       "    <tr>\n",
       "      <th>85</th>\n",
       "      <td>6.0</td>\n",
       "      <td>3.4</td>\n",
       "      <td>4.5</td>\n",
       "      <td>1.6</td>\n",
       "      <td>Iris-versicolor</td>\n",
       "      <td>0.24</td>\n",
       "      <td>0.0576</td>\n",
       "    </tr>\n",
       "    <tr>\n",
       "      <th>86</th>\n",
       "      <td>6.7</td>\n",
       "      <td>3.1</td>\n",
       "      <td>4.7</td>\n",
       "      <td>1.5</td>\n",
       "      <td>Iris-versicolor</td>\n",
       "      <td>0.44</td>\n",
       "      <td>0.1936</td>\n",
       "    </tr>\n",
       "    <tr>\n",
       "      <th>87</th>\n",
       "      <td>6.3</td>\n",
       "      <td>2.3</td>\n",
       "      <td>4.4</td>\n",
       "      <td>1.3</td>\n",
       "      <td>Iris-versicolor</td>\n",
       "      <td>0.14</td>\n",
       "      <td>0.0196</td>\n",
       "    </tr>\n",
       "    <tr>\n",
       "      <th>88</th>\n",
       "      <td>5.6</td>\n",
       "      <td>3.0</td>\n",
       "      <td>4.1</td>\n",
       "      <td>1.3</td>\n",
       "      <td>Iris-versicolor</td>\n",
       "      <td>-0.16</td>\n",
       "      <td>0.0256</td>\n",
       "    </tr>\n",
       "    <tr>\n",
       "      <th>89</th>\n",
       "      <td>5.5</td>\n",
       "      <td>2.5</td>\n",
       "      <td>4.0</td>\n",
       "      <td>1.3</td>\n",
       "      <td>Iris-versicolor</td>\n",
       "      <td>-0.26</td>\n",
       "      <td>0.0676</td>\n",
       "    </tr>\n",
       "    <tr>\n",
       "      <th>90</th>\n",
       "      <td>5.5</td>\n",
       "      <td>2.6</td>\n",
       "      <td>4.4</td>\n",
       "      <td>1.2</td>\n",
       "      <td>Iris-versicolor</td>\n",
       "      <td>0.14</td>\n",
       "      <td>0.0196</td>\n",
       "    </tr>\n",
       "    <tr>\n",
       "      <th>91</th>\n",
       "      <td>6.1</td>\n",
       "      <td>3.0</td>\n",
       "      <td>4.6</td>\n",
       "      <td>1.4</td>\n",
       "      <td>Iris-versicolor</td>\n",
       "      <td>0.34</td>\n",
       "      <td>0.1156</td>\n",
       "    </tr>\n",
       "    <tr>\n",
       "      <th>92</th>\n",
       "      <td>5.8</td>\n",
       "      <td>2.6</td>\n",
       "      <td>4.0</td>\n",
       "      <td>1.2</td>\n",
       "      <td>Iris-versicolor</td>\n",
       "      <td>-0.26</td>\n",
       "      <td>0.0676</td>\n",
       "    </tr>\n",
       "    <tr>\n",
       "      <th>93</th>\n",
       "      <td>5.0</td>\n",
       "      <td>2.3</td>\n",
       "      <td>3.3</td>\n",
       "      <td>1.0</td>\n",
       "      <td>Iris-versicolor</td>\n",
       "      <td>-0.96</td>\n",
       "      <td>0.9216</td>\n",
       "    </tr>\n",
       "    <tr>\n",
       "      <th>94</th>\n",
       "      <td>5.6</td>\n",
       "      <td>2.7</td>\n",
       "      <td>4.2</td>\n",
       "      <td>1.3</td>\n",
       "      <td>Iris-versicolor</td>\n",
       "      <td>-0.06</td>\n",
       "      <td>0.0036</td>\n",
       "    </tr>\n",
       "    <tr>\n",
       "      <th>95</th>\n",
       "      <td>5.7</td>\n",
       "      <td>3.0</td>\n",
       "      <td>4.2</td>\n",
       "      <td>1.2</td>\n",
       "      <td>Iris-versicolor</td>\n",
       "      <td>-0.06</td>\n",
       "      <td>0.0036</td>\n",
       "    </tr>\n",
       "    <tr>\n",
       "      <th>96</th>\n",
       "      <td>5.7</td>\n",
       "      <td>2.9</td>\n",
       "      <td>4.2</td>\n",
       "      <td>1.3</td>\n",
       "      <td>Iris-versicolor</td>\n",
       "      <td>-0.06</td>\n",
       "      <td>0.0036</td>\n",
       "    </tr>\n",
       "    <tr>\n",
       "      <th>97</th>\n",
       "      <td>6.2</td>\n",
       "      <td>2.9</td>\n",
       "      <td>4.3</td>\n",
       "      <td>1.3</td>\n",
       "      <td>Iris-versicolor</td>\n",
       "      <td>0.04</td>\n",
       "      <td>0.0016</td>\n",
       "    </tr>\n",
       "    <tr>\n",
       "      <th>98</th>\n",
       "      <td>5.1</td>\n",
       "      <td>2.5</td>\n",
       "      <td>3.0</td>\n",
       "      <td>1.1</td>\n",
       "      <td>Iris-versicolor</td>\n",
       "      <td>-1.26</td>\n",
       "      <td>1.5876</td>\n",
       "    </tr>\n",
       "    <tr>\n",
       "      <th>99</th>\n",
       "      <td>5.7</td>\n",
       "      <td>2.8</td>\n",
       "      <td>4.1</td>\n",
       "      <td>1.3</td>\n",
       "      <td>Iris-versicolor</td>\n",
       "      <td>-0.16</td>\n",
       "      <td>0.0256</td>\n",
       "    </tr>\n",
       "  </tbody>\n",
       "</table>\n",
       "</div>"
      ],
      "text/plain": [
       "    long_sepalo  ancho_sepalo  long_petalo  ancho_petalo            clase   \n",
       "50          7.0           3.2          4.7           1.4  Iris-versicolor  \\\n",
       "51          6.4           3.2          4.5           1.5  Iris-versicolor   \n",
       "52          6.9           3.1          4.9           1.5  Iris-versicolor   \n",
       "53          5.5           2.3          4.0           1.3  Iris-versicolor   \n",
       "54          6.5           2.8          4.6           1.5  Iris-versicolor   \n",
       "55          5.7           2.8          4.5           1.3  Iris-versicolor   \n",
       "56          6.3           3.3          4.7           1.6  Iris-versicolor   \n",
       "57          4.9           2.4          3.3           1.0  Iris-versicolor   \n",
       "58          6.6           2.9          4.6           1.3  Iris-versicolor   \n",
       "59          5.2           2.7          3.9           1.4  Iris-versicolor   \n",
       "60          5.0           2.0          3.5           1.0  Iris-versicolor   \n",
       "61          5.9           3.0          4.2           1.5  Iris-versicolor   \n",
       "62          6.0           2.2          4.0           1.0  Iris-versicolor   \n",
       "63          6.1           2.9          4.7           1.4  Iris-versicolor   \n",
       "64          5.6           2.9          3.6           1.3  Iris-versicolor   \n",
       "65          6.7           3.1          4.4           1.4  Iris-versicolor   \n",
       "66          5.6           3.0          4.5           1.5  Iris-versicolor   \n",
       "67          5.8           2.7          4.1           1.0  Iris-versicolor   \n",
       "68          6.2           2.2          4.5           1.5  Iris-versicolor   \n",
       "69          5.6           2.5          3.9           1.1  Iris-versicolor   \n",
       "70          5.9           3.2          4.8           1.8  Iris-versicolor   \n",
       "71          6.1           2.8          4.0           1.3  Iris-versicolor   \n",
       "72          6.3           2.5          4.9           1.5  Iris-versicolor   \n",
       "73          6.1           2.8          4.7           1.2  Iris-versicolor   \n",
       "74          6.4           2.9          4.3           1.3  Iris-versicolor   \n",
       "75          6.6           3.0          4.4           1.4  Iris-versicolor   \n",
       "76          6.8           2.8          4.8           1.4  Iris-versicolor   \n",
       "77          6.7           3.0          5.0           1.7  Iris-versicolor   \n",
       "78          6.0           2.9          4.5           1.5  Iris-versicolor   \n",
       "79          5.7           2.6          3.5           1.0  Iris-versicolor   \n",
       "80          5.5           2.4          3.8           1.1  Iris-versicolor   \n",
       "81          5.5           2.4          3.7           1.0  Iris-versicolor   \n",
       "82          5.8           2.7          3.9           1.2  Iris-versicolor   \n",
       "83          6.0           2.7          5.1           1.6  Iris-versicolor   \n",
       "84          5.4           3.0          4.5           1.5  Iris-versicolor   \n",
       "85          6.0           3.4          4.5           1.6  Iris-versicolor   \n",
       "86          6.7           3.1          4.7           1.5  Iris-versicolor   \n",
       "87          6.3           2.3          4.4           1.3  Iris-versicolor   \n",
       "88          5.6           3.0          4.1           1.3  Iris-versicolor   \n",
       "89          5.5           2.5          4.0           1.3  Iris-versicolor   \n",
       "90          5.5           2.6          4.4           1.2  Iris-versicolor   \n",
       "91          6.1           3.0          4.6           1.4  Iris-versicolor   \n",
       "92          5.8           2.6          4.0           1.2  Iris-versicolor   \n",
       "93          5.0           2.3          3.3           1.0  Iris-versicolor   \n",
       "94          5.6           2.7          4.2           1.3  Iris-versicolor   \n",
       "95          5.7           3.0          4.2           1.2  Iris-versicolor   \n",
       "96          5.7           2.9          4.2           1.3  Iris-versicolor   \n",
       "97          6.2           2.9          4.3           1.3  Iris-versicolor   \n",
       "98          5.1           2.5          3.0           1.1  Iris-versicolor   \n",
       "99          5.7           2.8          4.1           1.3  Iris-versicolor   \n",
       "\n",
       "    long_petalo_minus_media  long_petalo_minus_media_square  \n",
       "50                     0.44                          0.1936  \n",
       "51                     0.24                          0.0576  \n",
       "52                     0.64                          0.4096  \n",
       "53                    -0.26                          0.0676  \n",
       "54                     0.34                          0.1156  \n",
       "55                     0.24                          0.0576  \n",
       "56                     0.44                          0.1936  \n",
       "57                    -0.96                          0.9216  \n",
       "58                     0.34                          0.1156  \n",
       "59                    -0.36                          0.1296  \n",
       "60                    -0.76                          0.5776  \n",
       "61                    -0.06                          0.0036  \n",
       "62                    -0.26                          0.0676  \n",
       "63                     0.44                          0.1936  \n",
       "64                    -0.66                          0.4356  \n",
       "65                     0.14                          0.0196  \n",
       "66                     0.24                          0.0576  \n",
       "67                    -0.16                          0.0256  \n",
       "68                     0.24                          0.0576  \n",
       "69                    -0.36                          0.1296  \n",
       "70                     0.54                          0.2916  \n",
       "71                    -0.26                          0.0676  \n",
       "72                     0.64                          0.4096  \n",
       "73                     0.44                          0.1936  \n",
       "74                     0.04                          0.0016  \n",
       "75                     0.14                          0.0196  \n",
       "76                     0.54                          0.2916  \n",
       "77                     0.74                          0.5476  \n",
       "78                     0.24                          0.0576  \n",
       "79                    -0.76                          0.5776  \n",
       "80                    -0.46                          0.2116  \n",
       "81                    -0.56                          0.3136  \n",
       "82                    -0.36                          0.1296  \n",
       "83                     0.84                          0.7056  \n",
       "84                     0.24                          0.0576  \n",
       "85                     0.24                          0.0576  \n",
       "86                     0.44                          0.1936  \n",
       "87                     0.14                          0.0196  \n",
       "88                    -0.16                          0.0256  \n",
       "89                    -0.26                          0.0676  \n",
       "90                     0.14                          0.0196  \n",
       "91                     0.34                          0.1156  \n",
       "92                    -0.26                          0.0676  \n",
       "93                    -0.96                          0.9216  \n",
       "94                    -0.06                          0.0036  \n",
       "95                    -0.06                          0.0036  \n",
       "96                    -0.06                          0.0036  \n",
       "97                     0.04                          0.0016  \n",
       "98                    -1.26                          1.5876  \n",
       "99                    -0.16                          0.0256  "
      ]
     },
     "execution_count": 18,
     "metadata": {},
     "output_type": "execute_result"
    }
   ],
   "source": [
    "# Ejemplo 4: Calcular la desviación estándar del largo del pétalo para la clase Iris Versicolor\n",
    "df_iris_versicolor = df_iris.query('clase == \"Iris-versicolor\"').copy()\n",
    "\n",
    "# Se calcula la media del largo del pétalo\n",
    "media_long_petalo = np.mean(df_iris_versicolor['long_petalo'])\n",
    "\n",
    "# Se crea una columna con la resta de la media de cada largo del pétalo\n",
    "df_iris_versicolor['long_petalo_minus_media'] = df_iris_versicolor['long_petalo'] - media_long_petalo\n",
    "\n",
    "# Se crea una columna con la diferencia anterior al cuadrado\n",
    "df_iris_versicolor['long_petalo_minus_media_square'] = (df_iris_versicolor['long_petalo'] - media_long_petalo)**2\n",
    "\n",
    "# Se calcula la media elevada al cuadrado\n",
    "media_long_petalo_error = np.mean(df_iris_versicolor['long_petalo_minus_media_square'])\n",
    "\n",
    "# Se calcula desviación estándar\n",
    "print(f'DevSt = {np.square(media_long_petalo_error)}')\n",
    "\n",
    "# Se imprime el dataset\n",
    "df_iris_versicolor"
   ]
  },
  {
   "cell_type": "markdown",
   "id": "6c6df894",
   "metadata": {},
   "source": [
    "Como observamos, el cálculo fue bastante abrumador y es por esto por lo que los métodos previamente expuestos permiten de alguna forma que en tan pocas líneas de código se logre mucho.\n",
    "Por ejemplo, podemos hacer lo mismo mucho más eficiente con el método `np.std()`. Tomando como parámetro la columna 'long_petalo'"
   ]
  },
  {
   "cell_type": "code",
   "execution_count": 19,
   "id": "d27936d6",
   "metadata": {
    "ExecuteTime": {
     "end_time": "2023-04-11T16:50:31.361645Z",
     "start_time": "2023-04-11T16:50:31.267394Z"
    },
    "jupyter": {
     "outputs_hidden": false
    }
   },
   "outputs": [
    {
     "name": "stdout",
     "output_type": "stream",
     "text": [
      "DevSt = 0.4651881339845203\n"
     ]
    }
   ],
   "source": [
    "devstd_long_petalo = np.std(df_iris_versicolor['long_petalo'])\n",
    "print(f'DevSt = {devstd_long_petalo}')"
   ]
  },
  {
   "cell_type": "markdown",
   "id": "efa16fbb-1a4e-48a9-ac27-b627b2c602da",
   "metadata": {},
   "source": [
    "# Práctica 1: Adquirir datos de ChEMBL\n",
    "\n",
    "## Conceptos a trabajar\n",
    "**[Uniprot](https://www.uniprot.org/):** Es una base de datos que busca proporcionar a la comunidad científica un recurso integral, de alta calidad y de libre acceso de secuencias de proteínas e información funcional<sup> **1** </sup>.\n",
    "\n",
    "**[ChEMBL](https://www.ebi.ac.uk/chembl/):** Es una base de datos que contiene moléculas bioactivas, reune datos químicos, de bioactividad y genómicos<sup> **2** </sup>.\n",
    "\n",
    "**Mitad de la concentración inhibitoria máxima (IC50):** Expresa la cantidad de fármaco necesaria para inhibir un proceso biológico a la mitad del valor no inhibido, es la medida más utilizada de la eficacia o potencia de un fármaco<sup> **3** </sup>.\n",
    "\n",
    "**pIC50:** Es el logaritmo negativo en base diez del IC50, cuando las unidades de son **molares (M)**. Se usa para facilitar la comparación entre distintos IC50. También, es importante saber que a mayor pIC50 el fármaco tiene una mayor eficacia o mayor potencial<sup> **3** </sup>.\n",
    "\n",
    "**Mitad de la concentración máxima efectiva (EC50):** Es la concentración efectiva para producir el 50% de la respuesta máxima, se usa para comparar las potencias de los fármacos. También, es importante saber que a menor valor del EC50 más potente será el fármaco. A esta medida también se le calcula el logaritmo negativo en base diez **(pEC50)** para facilitar su comprensión<sup> **4** </sup>.\n",
    "\n",
    "**Constante de inhibición (Ki):** Es la concentración requerida para producir la mitad de la inhibición máxima, es útil para describir la afinidad de unión de una molécula a un receptor.\n",
    "\n",
    "**SMILES (Simplified Molecular-Input Line-Entry System):** Es una notación de línea para describir estructuras químicas utilizando cadenas ASCII cortas<sup> **5** </sup>."
   ]
  },
  {
   "cell_type": "markdown",
   "id": "d7663773-6f54-47bf-9c9a-1eff4eb5b10a",
   "metadata": {},
   "source": [
    "## Planteamiento del problema\n",
    "Para una investigación queremos identificar los compuestos que actúan con un target específico, la proteína Glucógeno sintasa quinasa-3 beta, actúa como un regulador negativo en el control hormonal de la homeostasis de la glucosa, señalización Wnt y regulación de factores de transcripción y microtúbulos.\n",
    "\n",
    "En esta práctica vamos a explorar y conocer los compuestos bioactivos de la proteína, sus estructuras y algunas características fisicoquímicas.\n",
    "\n",
    "Para lo cual, usaremos la información que proporciona la base de datos **ChEMBL**, que nos permite filtrar y descargar los datos de bioactividad conocidos de los compuestos que interactúan con nuestro target de interés. Posteriormente, trabajaremos los datos en un ` DataFrame `, que nos permitirá organizarlos, visualizarlos y manipularlos fácilmente.\n",
    "\n",
    "Lo primero que debemos hacer es conectarnos a **ChEMBL**, empleando la biblioteca **webresource client**"
   ]
  },
  {
   "cell_type": "markdown",
   "id": "f84dc1df-030e-4a1d-a809-4ac8edd672fd",
   "metadata": {},
   "source": [
    "## Conectarse a la base de datos ChEMBL\n"
   ]
  },
  {
   "cell_type": "code",
   "execution_count": 20,
   "id": "99e2612c-a497-4cb8-bd51-fdcefcb13e42",
   "metadata": {
    "ExecuteTime": {
     "end_time": "2023-04-11T16:50:33.179240Z",
     "start_time": "2023-04-11T16:50:31.283340Z"
    }
   },
   "outputs": [],
   "source": [
    "from chembl_webresource_client.new_client import new_client #Se importa la biblioteca webresource client que permite conectase a ChEMBL\n",
    "import pandas as pd\n",
    "import math\n",
    "from rdkit.Chem import PandasTools"
   ]
  },
  {
   "cell_type": "markdown",
   "id": "88b8cdc0-6939-4c4c-a183-374eacace60b",
   "metadata": {},
   "source": [
    "Se deben crear para el acceso a la API"
   ]
  },
  {
   "cell_type": "code",
   "execution_count": 21,
   "id": "568fddfc-ef9a-4189-911d-8f0e3d00c5ce",
   "metadata": {
    "ExecuteTime": {
     "end_time": "2023-04-11T16:50:33.192402Z",
     "start_time": "2023-04-11T16:50:33.178242Z"
    }
   },
   "outputs": [],
   "source": [
    "targets = new_client.target\n",
    "compounds = new_client.molecule\n",
    "bioactivities = new_client.activity"
   ]
  },
  {
   "cell_type": "markdown",
   "id": "d6d7e2d7-f5a2-4473-83bd-2daff23ef7d3",
   "metadata": {},
   "source": [
    "## Datos del target \n",
    "Luego, debemos buscar el ID del target de interés en la base de datos Uniprot, que en este caso es Glucógeno sintasa quinasa-3 beta, ID: [P49841](https://www.uniprot.org/uniprot/P49841)."
   ]
  },
  {
   "cell_type": "code",
   "execution_count": 22,
   "id": "aaaf0217-bde5-40ea-be59-73092c07b5c0",
   "metadata": {
    "ExecuteTime": {
     "end_time": "2023-04-11T16:50:33.267767Z",
     "start_time": "2023-04-11T16:50:33.194384Z"
    }
   },
   "outputs": [
    {
     "data": {
      "text/html": [
       "<div>\n",
       "<style scoped>\n",
       "    .dataframe tbody tr th:only-of-type {\n",
       "        vertical-align: middle;\n",
       "    }\n",
       "\n",
       "    .dataframe tbody tr th {\n",
       "        vertical-align: top;\n",
       "    }\n",
       "\n",
       "    .dataframe thead th {\n",
       "        text-align: right;\n",
       "    }\n",
       "</style>\n",
       "<table border=\"1\" class=\"dataframe\">\n",
       "  <thead>\n",
       "    <tr style=\"text-align: right;\">\n",
       "      <th></th>\n",
       "      <th>organism</th>\n",
       "      <th>pref_name</th>\n",
       "      <th>target_chembl_id</th>\n",
       "      <th>target_type</th>\n",
       "    </tr>\n",
       "  </thead>\n",
       "  <tbody>\n",
       "    <tr>\n",
       "      <th>0</th>\n",
       "      <td>Homo sapiens</td>\n",
       "      <td>Glycogen synthase kinase-3 beta</td>\n",
       "      <td>CHEMBL262</td>\n",
       "      <td>SINGLE PROTEIN</td>\n",
       "    </tr>\n",
       "    <tr>\n",
       "      <th>1</th>\n",
       "      <td>Homo sapiens</td>\n",
       "      <td>Glycogen synthase kinase-3 beta</td>\n",
       "      <td>CHEMBL262</td>\n",
       "      <td>SINGLE PROTEIN</td>\n",
       "    </tr>\n",
       "    <tr>\n",
       "      <th>2</th>\n",
       "      <td>Homo sapiens</td>\n",
       "      <td>Glycogen synthase kinase-3</td>\n",
       "      <td>CHEMBL2095188</td>\n",
       "      <td>PROTEIN FAMILY</td>\n",
       "    </tr>\n",
       "    <tr>\n",
       "      <th>3</th>\n",
       "      <td>Homo sapiens</td>\n",
       "      <td>Axin-1/Glycogen synthase kinase-3 beta</td>\n",
       "      <td>CHEMBL3883309</td>\n",
       "      <td>PROTEIN-PROTEIN INTERACTION</td>\n",
       "    </tr>\n",
       "  </tbody>\n",
       "</table>\n",
       "</div>"
      ],
      "text/plain": [
       "       organism                               pref_name target_chembl_id   \n",
       "0  Homo sapiens         Glycogen synthase kinase-3 beta        CHEMBL262  \\\n",
       "1  Homo sapiens         Glycogen synthase kinase-3 beta        CHEMBL262   \n",
       "2  Homo sapiens              Glycogen synthase kinase-3    CHEMBL2095188   \n",
       "3  Homo sapiens  Axin-1/Glycogen synthase kinase-3 beta    CHEMBL3883309   \n",
       "\n",
       "                   target_type  \n",
       "0               SINGLE PROTEIN  \n",
       "1               SINGLE PROTEIN  \n",
       "2               PROTEIN FAMILY  \n",
       "3  PROTEIN-PROTEIN INTERACTION  "
      ]
     },
     "execution_count": 22,
     "metadata": {},
     "output_type": "execute_result"
    }
   ],
   "source": [
    "uniprot_id = 'P49841'\n",
    "# Se toma sola alguna información de  ChEMBL que sea de interés\n",
    "target_P49841 = targets.get(target_components__accession=uniprot_id) \\\n",
    "                     .only('target_chembl_id', 'organism', 'pref_name', 'target_type')\n",
    "pd.DataFrame.from_records(target_P49841)"
   ]
  },
  {
   "cell_type": "markdown",
   "id": "26b05cd6-df7a-47fc-b396-f181a6118b97",
   "metadata": {},
   "source": [
    "Vamos a seleccionar el target de interés `CHEMBL262` y guardar el ChEMBL-ID\n"
   ]
  },
  {
   "cell_type": "code",
   "execution_count": 23,
   "id": "dab282de-f599-4496-b5b3-78158b787d8e",
   "metadata": {
    "ExecuteTime": {
     "end_time": "2023-04-11T16:50:33.267767Z",
     "start_time": "2023-04-11T16:50:33.224894Z"
    }
   },
   "outputs": [
    {
     "name": "stdout",
     "output_type": "stream",
     "text": [
      "El target de interés es: {'organism': 'Homo sapiens', 'pref_name': 'Glycogen synthase kinase-3 beta', 'target_chembl_id': 'CHEMBL262', 'target_type': 'SINGLE PROTEIN'}\n"
     ]
    }
   ],
   "source": [
    "# Seleccionar el target de interes\n",
    "target = target_P49841[0]\n",
    "print(f'El target de interés es: {str(target)}')"
   ]
  },
  {
   "cell_type": "code",
   "execution_count": 24,
   "id": "c522cf8d-d0eb-478e-90c7-86fd833bc412",
   "metadata": {
    "ExecuteTime": {
     "end_time": "2023-04-11T16:50:33.267767Z",
     "start_time": "2023-04-11T16:50:33.240839Z"
    }
   },
   "outputs": [
    {
     "name": "stdout",
     "output_type": "stream",
     "text": [
      "El ChEMBL-ID de interés es: CHEMBL262\n"
     ]
    }
   ],
   "source": [
    "# Guardar el ChEMBL-ID\n",
    "chembl_id = target['target_chembl_id']\n",
    "print(f'El ChEMBL-ID de interés es: {chembl_id}')"
   ]
  },
  {
   "cell_type": "markdown",
   "id": "d287d52d",
   "metadata": {
    "tags": []
   },
   "source": [
    "## Datos de bioactividad\n",
    "\n",
    "Ahora consultamos los datos de bioactividad que son de interés. Los pasos a seguir son:\n",
    "1. Descargar y filtrar bioactividades para el target\n",
    "    Los datos de bioactividad se van a filtrar de la siguiente manera:\n",
    "        * Tipo de bioactividad: IC50, EC50, Ki\n",
    "        * Relación: \"=\"\n",
    "2. Convertir los datos descargados en un data frame:\n",
    "    Las columnas de interés son: `molecule_chembl_id`, `type`, `relation`, `pchembl_value`\n",
    "\n",
    "\n"
   ]
  },
  {
   "cell_type": "code",
   "execution_count": 25,
   "id": "7aab8630",
   "metadata": {
    "ExecuteTime": {
     "end_time": "2023-04-11T16:50:34.349617Z",
     "start_time": "2023-04-11T16:50:33.257792Z"
    }
   },
   "outputs": [
    {
     "data": {
      "text/html": [
       "<div>\n",
       "<style scoped>\n",
       "    .dataframe tbody tr th:only-of-type {\n",
       "        vertical-align: middle;\n",
       "    }\n",
       "\n",
       "    .dataframe tbody tr th {\n",
       "        vertical-align: top;\n",
       "    }\n",
       "\n",
       "    .dataframe thead th {\n",
       "        text-align: right;\n",
       "    }\n",
       "</style>\n",
       "<table border=\"1\" class=\"dataframe\">\n",
       "  <thead>\n",
       "    <tr style=\"text-align: right;\">\n",
       "      <th></th>\n",
       "      <th>molecule_chembl_id</th>\n",
       "      <th>type</th>\n",
       "      <th>relation</th>\n",
       "      <th>value</th>\n",
       "      <th>units</th>\n",
       "      <th>pchembl_value</th>\n",
       "    </tr>\n",
       "  </thead>\n",
       "  <tbody>\n",
       "    <tr>\n",
       "      <th>0</th>\n",
       "      <td>CHEMBL322970</td>\n",
       "      <td>IC50</td>\n",
       "      <td>=</td>\n",
       "      <td>0.38</td>\n",
       "      <td>uM</td>\n",
       "      <td>6.42</td>\n",
       "    </tr>\n",
       "    <tr>\n",
       "      <th>1</th>\n",
       "      <td>CHEMBL322970</td>\n",
       "      <td>EC50</td>\n",
       "      <td>=</td>\n",
       "      <td>45.6</td>\n",
       "      <td>uM</td>\n",
       "      <td>4.34</td>\n",
       "    </tr>\n",
       "    <tr>\n",
       "      <th>2</th>\n",
       "      <td>CHEMBL322970</td>\n",
       "      <td>EC50</td>\n",
       "      <td>=</td>\n",
       "      <td>30.62</td>\n",
       "      <td>uM</td>\n",
       "      <td>4.51</td>\n",
       "    </tr>\n",
       "    <tr>\n",
       "      <th>3</th>\n",
       "      <td>CHEMBL322970</td>\n",
       "      <td>Fold stimulation</td>\n",
       "      <td>=</td>\n",
       "      <td>1.3</td>\n",
       "      <td>None</td>\n",
       "      <td>None</td>\n",
       "    </tr>\n",
       "    <tr>\n",
       "      <th>4</th>\n",
       "      <td>CHEMBL112564</td>\n",
       "      <td>IC50</td>\n",
       "      <td>=</td>\n",
       "      <td>6.92</td>\n",
       "      <td>uM</td>\n",
       "      <td>5.16</td>\n",
       "    </tr>\n",
       "    <tr>\n",
       "      <th>...</th>\n",
       "      <td>...</td>\n",
       "      <td>...</td>\n",
       "      <td>...</td>\n",
       "      <td>...</td>\n",
       "      <td>...</td>\n",
       "      <td>...</td>\n",
       "    </tr>\n",
       "    <tr>\n",
       "      <th>8081</th>\n",
       "      <td>CHEMBL2165191</td>\n",
       "      <td>Delta TM</td>\n",
       "      <td>=</td>\n",
       "      <td>1.33</td>\n",
       "      <td>C</td>\n",
       "      <td>None</td>\n",
       "    </tr>\n",
       "    <tr>\n",
       "      <th>8082</th>\n",
       "      <td>CHEMBL215152</td>\n",
       "      <td>Delta TM</td>\n",
       "      <td>=</td>\n",
       "      <td>0.88</td>\n",
       "      <td>C</td>\n",
       "      <td>None</td>\n",
       "    </tr>\n",
       "    <tr>\n",
       "      <th>8083</th>\n",
       "      <td>CHEMBL3545096</td>\n",
       "      <td>Delta TM</td>\n",
       "      <td>=</td>\n",
       "      <td>7.52</td>\n",
       "      <td>C</td>\n",
       "      <td>None</td>\n",
       "    </tr>\n",
       "    <tr>\n",
       "      <th>8084</th>\n",
       "      <td>CHEMBL513909</td>\n",
       "      <td>% of control</td>\n",
       "      <td>=</td>\n",
       "      <td>69.0</td>\n",
       "      <td>%</td>\n",
       "      <td>None</td>\n",
       "    </tr>\n",
       "    <tr>\n",
       "      <th>8085</th>\n",
       "      <td>CHEMBL300138</td>\n",
       "      <td>Kd</td>\n",
       "      <td>=</td>\n",
       "      <td>8.3</td>\n",
       "      <td>nM</td>\n",
       "      <td>8.08</td>\n",
       "    </tr>\n",
       "  </tbody>\n",
       "</table>\n",
       "<p>8086 rows × 6 columns</p>\n",
       "</div>"
      ],
      "text/plain": [
       "     molecule_chembl_id              type relation  value units pchembl_value\n",
       "0          CHEMBL322970              IC50        =   0.38    uM          6.42\n",
       "1          CHEMBL322970              EC50        =   45.6    uM          4.34\n",
       "2          CHEMBL322970              EC50        =  30.62    uM          4.51\n",
       "3          CHEMBL322970  Fold stimulation        =    1.3  None          None\n",
       "4          CHEMBL112564              IC50        =   6.92    uM          5.16\n",
       "...                 ...               ...      ...    ...   ...           ...\n",
       "8081      CHEMBL2165191          Delta TM        =   1.33     C          None\n",
       "8082       CHEMBL215152          Delta TM        =   0.88     C          None\n",
       "8083      CHEMBL3545096          Delta TM        =   7.52     C          None\n",
       "8084       CHEMBL513909      % of control        =   69.0     %          None\n",
       "8085       CHEMBL300138                Kd        =    8.3    nM          8.08\n",
       "\n",
       "[8086 rows x 6 columns]"
      ]
     },
     "execution_count": 25,
     "metadata": {},
     "output_type": "execute_result"
    }
   ],
   "source": [
    "# Primero, descargamos toda la base de datos\n",
    "bioact_temp = bioactivities.filter(target_chembl_id = chembl_id)\\\n",
    "                      .filter(relation = '=') \\\n",
    "                      .only('molecule_chembl_id', 'type', 'relation', 'standar_value', 'standar_units', 'pchembl_value', )\n",
    "df_bioact_temp = pd.DataFrame(bioact_temp)\n",
    "# se re organizan las columnas\n",
    "df_bioact_temp = df_bioact_temp[['molecule_chembl_id', 'type', 'relation', 'value', 'units', 'pchembl_value']]\n",
    "df_bioact_temp"
   ]
  },
  {
   "cell_type": "code",
   "execution_count": 26,
   "id": "662bad24",
   "metadata": {
    "ExecuteTime": {
     "end_time": "2023-04-11T16:50:34.420960Z",
     "start_time": "2023-04-11T16:50:34.350614Z"
    }
   },
   "outputs": [
    {
     "name": "stdout",
     "output_type": "stream",
     "text": [
      "Total de datos cargados: 3207\n"
     ]
    }
   ],
   "source": [
    "# Luego, filtramos por el tipo de actividad deseada\n",
    "df_bioact = df_bioact_temp[(df_bioact_temp['type'] == 'IC50') |\n",
    "                             (df_bioact_temp['type'] == 'EC50')|\n",
    "                             (df_bioact_temp['type'] == 'Ki')]\n",
    "print(f'Total de datos cargados: {len(df_bioact)}')"
   ]
  },
  {
   "cell_type": "code",
   "execution_count": 27,
   "id": "e21ad0fc",
   "metadata": {
    "ExecuteTime": {
     "end_time": "2023-04-11T16:50:34.487781Z",
     "start_time": "2023-04-11T16:50:34.364575Z"
    },
    "jupyter": {
     "outputs_hidden": false
    }
   },
   "outputs": [
    {
     "data": {
      "text/html": [
       "<div>\n",
       "<style scoped>\n",
       "    .dataframe tbody tr th:only-of-type {\n",
       "        vertical-align: middle;\n",
       "    }\n",
       "\n",
       "    .dataframe tbody tr th {\n",
       "        vertical-align: top;\n",
       "    }\n",
       "\n",
       "    .dataframe thead th {\n",
       "        text-align: right;\n",
       "    }\n",
       "</style>\n",
       "<table border=\"1\" class=\"dataframe\">\n",
       "  <thead>\n",
       "    <tr style=\"text-align: right;\">\n",
       "      <th></th>\n",
       "      <th>molecule_chembl_id</th>\n",
       "      <th>type</th>\n",
       "      <th>relation</th>\n",
       "      <th>value</th>\n",
       "      <th>units</th>\n",
       "      <th>pchembl_value</th>\n",
       "    </tr>\n",
       "  </thead>\n",
       "  <tbody>\n",
       "    <tr>\n",
       "      <th>0</th>\n",
       "      <td>CHEMBL322970</td>\n",
       "      <td>IC50</td>\n",
       "      <td>=</td>\n",
       "      <td>0.38</td>\n",
       "      <td>uM</td>\n",
       "      <td>6.42</td>\n",
       "    </tr>\n",
       "    <tr>\n",
       "      <th>1</th>\n",
       "      <td>CHEMBL322970</td>\n",
       "      <td>EC50</td>\n",
       "      <td>=</td>\n",
       "      <td>45.6</td>\n",
       "      <td>uM</td>\n",
       "      <td>4.34</td>\n",
       "    </tr>\n",
       "    <tr>\n",
       "      <th>2</th>\n",
       "      <td>CHEMBL322970</td>\n",
       "      <td>EC50</td>\n",
       "      <td>=</td>\n",
       "      <td>30.62</td>\n",
       "      <td>uM</td>\n",
       "      <td>4.51</td>\n",
       "    </tr>\n",
       "    <tr>\n",
       "      <th>4</th>\n",
       "      <td>CHEMBL112564</td>\n",
       "      <td>IC50</td>\n",
       "      <td>=</td>\n",
       "      <td>6.92</td>\n",
       "      <td>uM</td>\n",
       "      <td>5.16</td>\n",
       "    </tr>\n",
       "    <tr>\n",
       "      <th>5</th>\n",
       "      <td>CHEMBL321421</td>\n",
       "      <td>IC50</td>\n",
       "      <td>=</td>\n",
       "      <td>0.41</td>\n",
       "      <td>uM</td>\n",
       "      <td>6.39</td>\n",
       "    </tr>\n",
       "  </tbody>\n",
       "</table>\n",
       "</div>"
      ],
      "text/plain": [
       "  molecule_chembl_id  type relation  value units pchembl_value\n",
       "0       CHEMBL322970  IC50        =   0.38    uM          6.42\n",
       "1       CHEMBL322970  EC50        =   45.6    uM          4.34\n",
       "2       CHEMBL322970  EC50        =  30.62    uM          4.51\n",
       "4       CHEMBL112564  IC50        =   6.92    uM          5.16\n",
       "5       CHEMBL321421  IC50        =   0.41    uM          6.39"
      ]
     },
     "execution_count": 27,
     "metadata": {},
     "output_type": "execute_result"
    }
   ],
   "source": [
    "# primeros compuestos del dataframe\n",
    "df_bioact.head()"
   ]
  },
  {
   "cell_type": "markdown",
   "id": "83ef393e",
   "metadata": {},
   "source": [
    "Recordemos que el método `.head()` muestra los cinco primeros elementos del `dataframe`, sin embargo, podemos ver rápidamente qué elementos hay en las columnas *relation* y *type*."
   ]
  },
  {
   "cell_type": "code",
   "execution_count": 28,
   "id": "24e950a1",
   "metadata": {
    "ExecuteTime": {
     "end_time": "2023-04-11T16:50:34.487781Z",
     "start_time": "2023-04-11T16:50:34.399501Z"
    },
    "jupyter": {
     "outputs_hidden": false
    }
   },
   "outputs": [
    {
     "data": {
      "text/plain": [
       "relation\n",
       "=    3207\n",
       "Name: count, dtype: int64"
      ]
     },
     "execution_count": 28,
     "metadata": {},
     "output_type": "execute_result"
    }
   ],
   "source": [
    "df_bioact['relation'].value_counts()"
   ]
  },
  {
   "cell_type": "code",
   "execution_count": 29,
   "id": "b9af663a",
   "metadata": {
    "ExecuteTime": {
     "end_time": "2023-04-11T16:50:34.506260Z",
     "start_time": "2023-04-11T16:50:34.412982Z"
    },
    "jupyter": {
     "outputs_hidden": false
    }
   },
   "outputs": [
    {
     "data": {
      "text/plain": [
       "type\n",
       "IC50    2849\n",
       "Ki       289\n",
       "EC50      69\n",
       "Name: count, dtype: int64"
      ]
     },
     "execution_count": 29,
     "metadata": {},
     "output_type": "execute_result"
    }
   ],
   "source": [
    "df_bioact['type'].value_counts()"
   ]
  },
  {
   "cell_type": "markdown",
   "id": "0e7f216e",
   "metadata": {},
   "source": [
    "Ya que la columna *relation* tiene solo un tipo (esto se debe al filtro inicial de la base de datos), podemos quitarla:"
   ]
  },
  {
   "cell_type": "code",
   "execution_count": 30,
   "id": "7b947b7e",
   "metadata": {
    "ExecuteTime": {
     "end_time": "2023-04-11T16:50:34.510249Z",
     "start_time": "2023-04-11T16:50:34.435920Z"
    },
    "jupyter": {
     "outputs_hidden": false
    }
   },
   "outputs": [
    {
     "data": {
      "text/html": [
       "<div>\n",
       "<style scoped>\n",
       "    .dataframe tbody tr th:only-of-type {\n",
       "        vertical-align: middle;\n",
       "    }\n",
       "\n",
       "    .dataframe tbody tr th {\n",
       "        vertical-align: top;\n",
       "    }\n",
       "\n",
       "    .dataframe thead th {\n",
       "        text-align: right;\n",
       "    }\n",
       "</style>\n",
       "<table border=\"1\" class=\"dataframe\">\n",
       "  <thead>\n",
       "    <tr style=\"text-align: right;\">\n",
       "      <th></th>\n",
       "      <th>molecule_chembl_id</th>\n",
       "      <th>type</th>\n",
       "      <th>value</th>\n",
       "      <th>units</th>\n",
       "      <th>pchembl_value</th>\n",
       "    </tr>\n",
       "  </thead>\n",
       "  <tbody>\n",
       "    <tr>\n",
       "      <th>0</th>\n",
       "      <td>CHEMBL322970</td>\n",
       "      <td>IC50</td>\n",
       "      <td>0.38</td>\n",
       "      <td>uM</td>\n",
       "      <td>6.42</td>\n",
       "    </tr>\n",
       "    <tr>\n",
       "      <th>1</th>\n",
       "      <td>CHEMBL322970</td>\n",
       "      <td>EC50</td>\n",
       "      <td>45.6</td>\n",
       "      <td>uM</td>\n",
       "      <td>4.34</td>\n",
       "    </tr>\n",
       "    <tr>\n",
       "      <th>2</th>\n",
       "      <td>CHEMBL322970</td>\n",
       "      <td>EC50</td>\n",
       "      <td>30.62</td>\n",
       "      <td>uM</td>\n",
       "      <td>4.51</td>\n",
       "    </tr>\n",
       "    <tr>\n",
       "      <th>4</th>\n",
       "      <td>CHEMBL112564</td>\n",
       "      <td>IC50</td>\n",
       "      <td>6.92</td>\n",
       "      <td>uM</td>\n",
       "      <td>5.16</td>\n",
       "    </tr>\n",
       "    <tr>\n",
       "      <th>5</th>\n",
       "      <td>CHEMBL321421</td>\n",
       "      <td>IC50</td>\n",
       "      <td>0.41</td>\n",
       "      <td>uM</td>\n",
       "      <td>6.39</td>\n",
       "    </tr>\n",
       "  </tbody>\n",
       "</table>\n",
       "</div>"
      ],
      "text/plain": [
       "  molecule_chembl_id  type  value units pchembl_value\n",
       "0       CHEMBL322970  IC50   0.38    uM          6.42\n",
       "1       CHEMBL322970  EC50   45.6    uM          4.34\n",
       "2       CHEMBL322970  EC50  30.62    uM          4.51\n",
       "4       CHEMBL112564  IC50   6.92    uM          5.16\n",
       "5       CHEMBL321421  IC50   0.41    uM          6.39"
      ]
     },
     "execution_count": 30,
     "metadata": {},
     "output_type": "execute_result"
    }
   ],
   "source": [
    "df_bioact.pop('relation')\n",
    "df_bioact.head()"
   ]
  },
  {
   "cell_type": "markdown",
   "id": "58875462-fe53-4001-8cb3-b8513708d37a",
   "metadata": {},
   "source": [
    "### Limpiar los datos\n",
    "Es posible que algunos compuestos tengan valores faltantes y también duplicados, ya que el mismo compuesto puede haber sido probado más de una vez (nosotros nos quedaremos solo con el que primero haya sido probado)"
   ]
  },
  {
   "cell_type": "code",
   "execution_count": 31,
   "id": "c1d74226-b9dc-4143-8048-872b15ddbc0f",
   "metadata": {
    "ExecuteTime": {
     "end_time": "2023-04-11T16:50:34.639437Z",
     "start_time": "2023-04-11T16:50:34.442903Z"
    }
   },
   "outputs": [
    {
     "name": "stdout",
     "output_type": "stream",
     "text": [
      "Total de compuestos originales es: 3207\n"
     ]
    }
   ],
   "source": [
    "# Primero verificamos cuantos compuestos tenemos en total\n",
    "ori_len = len(df_bioact)\n",
    "print(f'Total de compuestos originales es: {ori_len}')"
   ]
  },
  {
   "cell_type": "code",
   "execution_count": 32,
   "id": "6e013877-f792-4177-8b3f-4740f67a8176",
   "metadata": {
    "ExecuteTime": {
     "end_time": "2023-04-11T16:50:34.640447Z",
     "start_time": "2023-04-11T16:50:34.458880Z"
    }
   },
   "outputs": [
    {
     "name": "stdout",
     "output_type": "stream",
     "text": [
      "Total de compuestos después de eliminar aquellos con datos faltantes: 3175\n",
      "Total compuestos eliminados 32\n"
     ]
    }
   ],
   "source": [
    "# Se eliminan los compuestos que no tienen pChEMBL_value\n",
    "df_bioact = df_bioact.dropna(axis=0, how = 'any')\n",
    "new_len = len(df_bioact)\n",
    "print(f'Total de compuestos después de eliminar aquellos con datos faltantes: {new_len}')\n",
    "# Se le resta al número total de compuestos el número total de compuestos al eliminar los que no tienen pChEMBL_value\n",
    "print(f'Total compuestos eliminados {ori_len - new_len}')\n",
    "ori_len = new_len"
   ]
  },
  {
   "cell_type": "code",
   "execution_count": 33,
   "id": "9a4fdcc5-ac95-4ddf-be47-2ef940619532",
   "metadata": {
    "ExecuteTime": {
     "end_time": "2023-04-11T16:50:34.640447Z",
     "start_time": "2023-04-11T16:50:34.475827Z"
    }
   },
   "outputs": [
    {
     "name": "stdout",
     "output_type": "stream",
     "text": [
      "Total de compuestos sin duplicados : 2698\n",
      "Total compuestos eliminados 477\n"
     ]
    }
   ],
   "source": [
    "# Se eliminan los compuestos duplicados y nos quedamos con el primer compuesto probado\n",
    "df_bioact = df_bioact.drop_duplicates('molecule_chembl_id', keep = 'first')\n",
    "new_len = len(df_bioact)\n",
    "print(f'Total de compuestos sin duplicados : {new_len}')\n",
    "# Se le resta al número total de compuestos al eliminar los que no tienen pChEMBL_value el número total de compuestos sin duplicados\n",
    "print(f'Total compuestos eliminados {ori_len - new_len}')\n",
    "ori_len = new_len"
   ]
  },
  {
   "cell_type": "code",
   "execution_count": 34,
   "id": "71ee296c",
   "metadata": {
    "ExecuteTime": {
     "end_time": "2023-04-11T16:50:34.640447Z",
     "start_time": "2023-04-11T16:50:34.490776Z"
    },
    "jupyter": {
     "outputs_hidden": false
    }
   },
   "outputs": [
    {
     "data": {
      "text/html": [
       "<div>\n",
       "<style scoped>\n",
       "    .dataframe tbody tr th:only-of-type {\n",
       "        vertical-align: middle;\n",
       "    }\n",
       "\n",
       "    .dataframe tbody tr th {\n",
       "        vertical-align: top;\n",
       "    }\n",
       "\n",
       "    .dataframe thead th {\n",
       "        text-align: right;\n",
       "    }\n",
       "</style>\n",
       "<table border=\"1\" class=\"dataframe\">\n",
       "  <thead>\n",
       "    <tr style=\"text-align: right;\">\n",
       "      <th></th>\n",
       "      <th>molecule_chembl_id</th>\n",
       "      <th>type</th>\n",
       "      <th>value</th>\n",
       "      <th>units</th>\n",
       "      <th>pchembl_value</th>\n",
       "    </tr>\n",
       "  </thead>\n",
       "  <tbody>\n",
       "    <tr>\n",
       "      <th>0</th>\n",
       "      <td>CHEMBL322970</td>\n",
       "      <td>IC50</td>\n",
       "      <td>0.38</td>\n",
       "      <td>uM</td>\n",
       "      <td>6.42</td>\n",
       "    </tr>\n",
       "    <tr>\n",
       "      <th>4</th>\n",
       "      <td>CHEMBL112564</td>\n",
       "      <td>IC50</td>\n",
       "      <td>6.92</td>\n",
       "      <td>uM</td>\n",
       "      <td>5.16</td>\n",
       "    </tr>\n",
       "    <tr>\n",
       "      <th>5</th>\n",
       "      <td>CHEMBL321421</td>\n",
       "      <td>IC50</td>\n",
       "      <td>0.41</td>\n",
       "      <td>uM</td>\n",
       "      <td>6.39</td>\n",
       "    </tr>\n",
       "    <tr>\n",
       "      <th>6</th>\n",
       "      <td>CHEMBL388978</td>\n",
       "      <td>IC50</td>\n",
       "      <td>0.16</td>\n",
       "      <td>uM</td>\n",
       "      <td>6.80</td>\n",
       "    </tr>\n",
       "    <tr>\n",
       "      <th>8</th>\n",
       "      <td>CHEMBL115875</td>\n",
       "      <td>IC50</td>\n",
       "      <td>9.6</td>\n",
       "      <td>uM</td>\n",
       "      <td>5.02</td>\n",
       "    </tr>\n",
       "  </tbody>\n",
       "</table>\n",
       "</div>"
      ],
      "text/plain": [
       "  molecule_chembl_id  type value units pchembl_value\n",
       "0       CHEMBL322970  IC50  0.38    uM          6.42\n",
       "4       CHEMBL112564  IC50  6.92    uM          5.16\n",
       "5       CHEMBL321421  IC50  0.41    uM          6.39\n",
       "6       CHEMBL388978  IC50  0.16    uM          6.80\n",
       "8       CHEMBL115875  IC50   9.6    uM          5.02"
      ]
     },
     "execution_count": 34,
     "metadata": {},
     "output_type": "execute_result"
    }
   ],
   "source": [
    "df_bioact.head()"
   ]
  },
  {
   "cell_type": "markdown",
   "id": "5a26f580-dd5b-4c51-a8c1-889b9621c64e",
   "metadata": {},
   "source": [
    "Ahora que hemos eliminado algunas filas restableceremos el índice para que este sea continuo"
   ]
  },
  {
   "cell_type": "code",
   "execution_count": 35,
   "id": "548bbf5d-c428-4bc5-bd97-e04d669295bd",
   "metadata": {
    "ExecuteTime": {
     "end_time": "2023-04-11T16:50:34.662391Z",
     "start_time": "2023-04-11T16:50:34.506260Z"
    }
   },
   "outputs": [
    {
     "data": {
      "text/html": [
       "<div>\n",
       "<style scoped>\n",
       "    .dataframe tbody tr th:only-of-type {\n",
       "        vertical-align: middle;\n",
       "    }\n",
       "\n",
       "    .dataframe tbody tr th {\n",
       "        vertical-align: top;\n",
       "    }\n",
       "\n",
       "    .dataframe thead th {\n",
       "        text-align: right;\n",
       "    }\n",
       "</style>\n",
       "<table border=\"1\" class=\"dataframe\">\n",
       "  <thead>\n",
       "    <tr style=\"text-align: right;\">\n",
       "      <th></th>\n",
       "      <th>molecule_chembl_id</th>\n",
       "      <th>type</th>\n",
       "      <th>value</th>\n",
       "      <th>units</th>\n",
       "      <th>pchembl_value</th>\n",
       "    </tr>\n",
       "  </thead>\n",
       "  <tbody>\n",
       "    <tr>\n",
       "      <th>0</th>\n",
       "      <td>CHEMBL322970</td>\n",
       "      <td>IC50</td>\n",
       "      <td>0.38</td>\n",
       "      <td>uM</td>\n",
       "      <td>6.42</td>\n",
       "    </tr>\n",
       "    <tr>\n",
       "      <th>1</th>\n",
       "      <td>CHEMBL112564</td>\n",
       "      <td>IC50</td>\n",
       "      <td>6.92</td>\n",
       "      <td>uM</td>\n",
       "      <td>5.16</td>\n",
       "    </tr>\n",
       "    <tr>\n",
       "      <th>2</th>\n",
       "      <td>CHEMBL321421</td>\n",
       "      <td>IC50</td>\n",
       "      <td>0.41</td>\n",
       "      <td>uM</td>\n",
       "      <td>6.39</td>\n",
       "    </tr>\n",
       "    <tr>\n",
       "      <th>3</th>\n",
       "      <td>CHEMBL388978</td>\n",
       "      <td>IC50</td>\n",
       "      <td>0.16</td>\n",
       "      <td>uM</td>\n",
       "      <td>6.80</td>\n",
       "    </tr>\n",
       "    <tr>\n",
       "      <th>4</th>\n",
       "      <td>CHEMBL115875</td>\n",
       "      <td>IC50</td>\n",
       "      <td>9.6</td>\n",
       "      <td>uM</td>\n",
       "      <td>5.02</td>\n",
       "    </tr>\n",
       "  </tbody>\n",
       "</table>\n",
       "</div>"
      ],
      "text/plain": [
       "  molecule_chembl_id  type value units pchembl_value\n",
       "0       CHEMBL322970  IC50  0.38    uM          6.42\n",
       "1       CHEMBL112564  IC50  6.92    uM          5.16\n",
       "2       CHEMBL321421  IC50  0.41    uM          6.39\n",
       "3       CHEMBL388978  IC50  0.16    uM          6.80\n",
       "4       CHEMBL115875  IC50   9.6    uM          5.02"
      ]
     },
     "execution_count": 35,
     "metadata": {},
     "output_type": "execute_result"
    }
   ],
   "source": [
    "df_bioact.reset_index(drop=True, inplace=True)\n",
    "df_bioact.head()"
   ]
  },
  {
   "cell_type": "markdown",
   "id": "6bf55ab4-486f-485a-9414-b1c4e38682be",
   "metadata": {},
   "source": [
    "### Organizar los datos\n",
    "Vamos a organizar el DataFrame de mayor a menor pchembl_value. Notemos que los valores de la columna no son numéricos"
   ]
  },
  {
   "cell_type": "code",
   "execution_count": 36,
   "id": "b7ee74b2",
   "metadata": {
    "ExecuteTime": {
     "end_time": "2023-04-11T16:50:34.663373Z",
     "start_time": "2023-04-11T16:50:34.522217Z"
    },
    "jupyter": {
     "outputs_hidden": false
    }
   },
   "outputs": [
    {
     "name": "stdout",
     "output_type": "stream",
     "text": [
      "6.42 <class 'str'>\n"
     ]
    }
   ],
   "source": [
    "print(df_bioact['pchembl_value'][0],type(df_bioact['pchembl_value'][0]))"
   ]
  },
  {
   "cell_type": "markdown",
   "id": "4e8e0d7c",
   "metadata": {},
   "source": [
    "Por tanto, primero debemos convertirlos en tipo `float`."
   ]
  },
  {
   "cell_type": "code",
   "execution_count": 37,
   "id": "e98268ea",
   "metadata": {
    "ExecuteTime": {
     "end_time": "2023-04-11T16:50:34.721811Z",
     "start_time": "2023-04-11T16:50:34.538174Z"
    },
    "jupyter": {
     "outputs_hidden": false
    }
   },
   "outputs": [
    {
     "name": "stdout",
     "output_type": "stream",
     "text": [
      "6.42 <class 'numpy.float64'>\n"
     ]
    }
   ],
   "source": [
    "df_bioact['pchembl_value'] = df_bioact['pchembl_value'].astype(float)\n",
    "print(df_bioact['pchembl_value'][0],type(df_bioact['pchembl_value'][0]))"
   ]
  },
  {
   "cell_type": "markdown",
   "id": "2022d9ed",
   "metadata": {},
   "source": [
    "Ahora procedemos a organizar el DataFrame"
   ]
  },
  {
   "cell_type": "code",
   "execution_count": 38,
   "id": "648690df-a26b-486b-83fd-d812139fa3df",
   "metadata": {
    "ExecuteTime": {
     "end_time": "2023-04-11T16:50:34.725789Z",
     "start_time": "2023-04-11T16:50:34.552137Z"
    }
   },
   "outputs": [
    {
     "data": {
      "text/html": [
       "<div>\n",
       "<style scoped>\n",
       "    .dataframe tbody tr th:only-of-type {\n",
       "        vertical-align: middle;\n",
       "    }\n",
       "\n",
       "    .dataframe tbody tr th {\n",
       "        vertical-align: top;\n",
       "    }\n",
       "\n",
       "    .dataframe thead th {\n",
       "        text-align: right;\n",
       "    }\n",
       "</style>\n",
       "<table border=\"1\" class=\"dataframe\">\n",
       "  <thead>\n",
       "    <tr style=\"text-align: right;\">\n",
       "      <th></th>\n",
       "      <th>molecule_chembl_id</th>\n",
       "      <th>type</th>\n",
       "      <th>value</th>\n",
       "      <th>units</th>\n",
       "      <th>pchembl_value</th>\n",
       "    </tr>\n",
       "  </thead>\n",
       "  <tbody>\n",
       "    <tr>\n",
       "      <th>0</th>\n",
       "      <td>CHEMBL2386094</td>\n",
       "      <td>IC50</td>\n",
       "      <td>0.013</td>\n",
       "      <td>nM</td>\n",
       "      <td>10.89</td>\n",
       "    </tr>\n",
       "    <tr>\n",
       "      <th>1</th>\n",
       "      <td>CHEMBL3895998</td>\n",
       "      <td>IC50</td>\n",
       "      <td>0.1</td>\n",
       "      <td>nM</td>\n",
       "      <td>10.00</td>\n",
       "    </tr>\n",
       "    <tr>\n",
       "      <th>2</th>\n",
       "      <td>CHEMBL4084855</td>\n",
       "      <td>IC50</td>\n",
       "      <td>0.1</td>\n",
       "      <td>nM</td>\n",
       "      <td>10.00</td>\n",
       "    </tr>\n",
       "    <tr>\n",
       "      <th>3</th>\n",
       "      <td>CHEMBL564450</td>\n",
       "      <td>IC50</td>\n",
       "      <td>0.00014</td>\n",
       "      <td>uM</td>\n",
       "      <td>9.85</td>\n",
       "    </tr>\n",
       "    <tr>\n",
       "      <th>4</th>\n",
       "      <td>CHEMBL3957649</td>\n",
       "      <td>IC50</td>\n",
       "      <td>0.2</td>\n",
       "      <td>nM</td>\n",
       "      <td>9.70</td>\n",
       "    </tr>\n",
       "  </tbody>\n",
       "</table>\n",
       "</div>"
      ],
      "text/plain": [
       "  molecule_chembl_id  type    value units  pchembl_value\n",
       "0      CHEMBL2386094  IC50    0.013    nM          10.89\n",
       "1      CHEMBL3895998  IC50      0.1    nM          10.00\n",
       "2      CHEMBL4084855  IC50      0.1    nM          10.00\n",
       "3       CHEMBL564450  IC50  0.00014    uM           9.85\n",
       "4      CHEMBL3957649  IC50      0.2    nM           9.70"
      ]
     },
     "execution_count": 38,
     "metadata": {},
     "output_type": "execute_result"
    }
   ],
   "source": [
    "# Organizamos de mayor a menor pchembl_value\n",
    "df_bioact.sort_values(by=\"pchembl_value\", ascending=False, inplace=True)\n",
    "# Restablecemos el índice\n",
    "df_bioact.reset_index(drop=True, inplace=True)\n",
    "# Imprimimos los primeros datos del Dataframe\n",
    "df_bioact.head()"
   ]
  },
  {
   "cell_type": "markdown",
   "id": "626601c2-45ff-4868-90f6-398cfb500bcd",
   "metadata": {},
   "source": [
    "### Guardar y cargar los datos\n",
    "Para continuar usando el Data Frame en la práctica sin necesidad de siempre estarnos conectando a ChEMBL, vamos a guardar el Data Frame obtenido como un archivo separado por comas (data/compuestos_uniprot_id.csv)"
   ]
  },
  {
   "cell_type": "code",
   "execution_count": 39,
   "id": "93433e81-f986-4cab-86ce-6ce498637102",
   "metadata": {
    "ExecuteTime": {
     "end_time": "2023-04-11T16:50:34.725789Z",
     "start_time": "2023-04-11T16:50:34.568094Z"
    }
   },
   "outputs": [],
   "source": [
    "df_bioact.to_csv(f\"./data/compuestos_{uniprot_id}.csv\", index=0)"
   ]
  },
  {
   "cell_type": "markdown",
   "id": "ffce212f",
   "metadata": {},
   "source": [
    "En adelante, si queremos utilizar el Dataframe, podemos cargar el archivo guardado"
   ]
  },
  {
   "cell_type": "code",
   "execution_count": 40,
   "id": "4d3a4eb8",
   "metadata": {
    "ExecuteTime": {
     "end_time": "2023-04-11T16:50:34.725789Z",
     "start_time": "2023-04-11T16:50:34.584051Z"
    }
   },
   "outputs": [
    {
     "data": {
      "text/html": [
       "<div>\n",
       "<style scoped>\n",
       "    .dataframe tbody tr th:only-of-type {\n",
       "        vertical-align: middle;\n",
       "    }\n",
       "\n",
       "    .dataframe tbody tr th {\n",
       "        vertical-align: top;\n",
       "    }\n",
       "\n",
       "    .dataframe thead th {\n",
       "        text-align: right;\n",
       "    }\n",
       "</style>\n",
       "<table border=\"1\" class=\"dataframe\">\n",
       "  <thead>\n",
       "    <tr style=\"text-align: right;\">\n",
       "      <th></th>\n",
       "      <th>molecule_chembl_id</th>\n",
       "      <th>type</th>\n",
       "      <th>value</th>\n",
       "      <th>units</th>\n",
       "      <th>pchembl_value</th>\n",
       "    </tr>\n",
       "  </thead>\n",
       "  <tbody>\n",
       "    <tr>\n",
       "      <th>0</th>\n",
       "      <td>CHEMBL2386094</td>\n",
       "      <td>IC50</td>\n",
       "      <td>0.01300</td>\n",
       "      <td>nM</td>\n",
       "      <td>10.89</td>\n",
       "    </tr>\n",
       "    <tr>\n",
       "      <th>1</th>\n",
       "      <td>CHEMBL3895998</td>\n",
       "      <td>IC50</td>\n",
       "      <td>0.10000</td>\n",
       "      <td>nM</td>\n",
       "      <td>10.00</td>\n",
       "    </tr>\n",
       "    <tr>\n",
       "      <th>2</th>\n",
       "      <td>CHEMBL4084855</td>\n",
       "      <td>IC50</td>\n",
       "      <td>0.10000</td>\n",
       "      <td>nM</td>\n",
       "      <td>10.00</td>\n",
       "    </tr>\n",
       "    <tr>\n",
       "      <th>3</th>\n",
       "      <td>CHEMBL564450</td>\n",
       "      <td>IC50</td>\n",
       "      <td>0.00014</td>\n",
       "      <td>uM</td>\n",
       "      <td>9.85</td>\n",
       "    </tr>\n",
       "    <tr>\n",
       "      <th>4</th>\n",
       "      <td>CHEMBL3957649</td>\n",
       "      <td>IC50</td>\n",
       "      <td>0.20000</td>\n",
       "      <td>nM</td>\n",
       "      <td>9.70</td>\n",
       "    </tr>\n",
       "  </tbody>\n",
       "</table>\n",
       "</div>"
      ],
      "text/plain": [
       "  molecule_chembl_id  type    value units  pchembl_value\n",
       "0      CHEMBL2386094  IC50  0.01300    nM          10.89\n",
       "1      CHEMBL3895998  IC50  0.10000    nM          10.00\n",
       "2      CHEMBL4084855  IC50  0.10000    nM          10.00\n",
       "3       CHEMBL564450  IC50  0.00014    uM           9.85\n",
       "4      CHEMBL3957649  IC50  0.20000    nM           9.70"
      ]
     },
     "execution_count": 40,
     "metadata": {},
     "output_type": "execute_result"
    }
   ],
   "source": [
    "df_bioact = pd.read_csv(f\"data/compuestos_{uniprot_id}.csv\")\n",
    "df_bioact.head()"
   ]
  },
  {
   "cell_type": "markdown",
   "id": "11f74443-157b-4a05-8619-846f9b0df968",
   "metadata": {},
   "source": [
    "## Datos de los compuestos\n",
    "\n",
    "A continuación vamos a obtener los datos de las moléculas que estan almacenados dentro de cada molecule_chembl_id"
   ]
  },
  {
   "cell_type": "code",
   "execution_count": 41,
   "id": "77d28bf9-cc57-4907-b947-7079ae41f8e0",
   "metadata": {
    "ExecuteTime": {
     "end_time": "2023-04-11T16:50:34.726787Z",
     "start_time": "2023-04-11T16:50:34.599029Z"
    }
   },
   "outputs": [],
   "source": [
    "# Cargamos el archivo antes guardado\n",
    "df_bioact = pd.read_csv(f\"data/compuestos_{uniprot_id}.csv\")"
   ]
  },
  {
   "cell_type": "code",
   "execution_count": 42,
   "id": "c96968a6-8b33-4a9b-8072-5c7db156fb88",
   "metadata": {
    "ExecuteTime": {
     "end_time": "2023-04-11T16:50:34.726787Z",
     "start_time": "2023-04-11T16:50:34.615517Z"
    }
   },
   "outputs": [],
   "source": [
    "# Primero tenemos que obtener la lista de los compuestos que definimos como bioactivos\n",
    "lista_comp_id = list(df_bioact['molecule_chembl_id'])\n",
    "# Obtener la estructura de cada compuesto\n",
    "lista_compuestos = compounds.filter(molecule_chembl_id__in = lista_comp_id) \\\n",
    "                            .only('molecule_chembl_id','molecule_structures')"
   ]
  },
  {
   "cell_type": "code",
   "execution_count": 43,
   "id": "c7061d81-a918-4fa3-9e85-acf4d0882a0b",
   "metadata": {
    "ExecuteTime": {
     "end_time": "2023-04-11T16:50:35.206201Z",
     "start_time": "2023-04-11T16:50:34.630462Z"
    }
   },
   "outputs": [
    {
     "name": "stdout",
     "output_type": "stream",
     "text": [
      "Total de compuestos es: 2698\n"
     ]
    },
    {
     "data": {
      "text/html": [
       "<div>\n",
       "<style scoped>\n",
       "    .dataframe tbody tr th:only-of-type {\n",
       "        vertical-align: middle;\n",
       "    }\n",
       "\n",
       "    .dataframe tbody tr th {\n",
       "        vertical-align: top;\n",
       "    }\n",
       "\n",
       "    .dataframe thead th {\n",
       "        text-align: right;\n",
       "    }\n",
       "</style>\n",
       "<table border=\"1\" class=\"dataframe\">\n",
       "  <thead>\n",
       "    <tr style=\"text-align: right;\">\n",
       "      <th></th>\n",
       "      <th>molecule_chembl_id</th>\n",
       "      <th>molecule_structures</th>\n",
       "    </tr>\n",
       "  </thead>\n",
       "  <tbody>\n",
       "    <tr>\n",
       "      <th>0</th>\n",
       "      <td>CHEMBL6246</td>\n",
       "      <td>{'canonical_smiles': 'O=c1oc2c(O)c(O)cc3c(=O)o...</td>\n",
       "    </tr>\n",
       "    <tr>\n",
       "      <th>1</th>\n",
       "      <td>CHEMBL6291</td>\n",
       "      <td>{'canonical_smiles': 'Cn1cc(C2=C(c3cn(CCCSC(=N...</td>\n",
       "    </tr>\n",
       "    <tr>\n",
       "      <th>2</th>\n",
       "      <td>CHEMBL269538</td>\n",
       "      <td>{'canonical_smiles': 'COc1ccc2c(c1)[nH]c1c(C)n...</td>\n",
       "    </tr>\n",
       "    <tr>\n",
       "      <th>3</th>\n",
       "      <td>CHEMBL28</td>\n",
       "      <td>{'canonical_smiles': 'O=c1cc(-c2ccc(O)cc2)oc2c...</td>\n",
       "    </tr>\n",
       "    <tr>\n",
       "      <th>4</th>\n",
       "      <td>CHEMBL7463</td>\n",
       "      <td>{'canonical_smiles': 'CN(C)CCCn1cc(C2=C(c3c[nH...</td>\n",
       "    </tr>\n",
       "  </tbody>\n",
       "</table>\n",
       "</div>"
      ],
      "text/plain": [
       "  molecule_chembl_id                                molecule_structures\n",
       "0         CHEMBL6246  {'canonical_smiles': 'O=c1oc2c(O)c(O)cc3c(=O)o...\n",
       "1         CHEMBL6291  {'canonical_smiles': 'Cn1cc(C2=C(c3cn(CCCSC(=N...\n",
       "2       CHEMBL269538  {'canonical_smiles': 'COc1ccc2c(c1)[nH]c1c(C)n...\n",
       "3           CHEMBL28  {'canonical_smiles': 'O=c1cc(-c2ccc(O)cc2)oc2c...\n",
       "4         CHEMBL7463  {'canonical_smiles': 'CN(C)CCCn1cc(C2=C(c3c[nH..."
      ]
     },
     "execution_count": 43,
     "metadata": {},
     "output_type": "execute_result"
    }
   ],
   "source": [
    "# Debemos convertir la lista obtenida en un dataframe. Esto puede tardar unos minutos\n",
    "df_comp = pd.DataFrame(lista_compuestos)\n",
    "# Eliminamos duplicados\n",
    "df_comp = df_comp.drop_duplicates('molecule_chembl_id', keep = 'first')\n",
    "print(f'Total de compuestos es: {str(len(df_comp))}')\n",
    "df_comp.head()"
   ]
  },
  {
   "cell_type": "markdown",
   "id": "b28ba27f-1564-40ff-aaf2-873ddce01521",
   "metadata": {},
   "source": [
    "Los compuestos tienen distintos tipos de representaciones como el SMILES, el InChI y el InChI Key. Nos interesa únicamente quedarnos con el SMILES, ya que describe la estructura química."
   ]
  },
  {
   "cell_type": "code",
   "execution_count": 44,
   "id": "314eef2a-838b-459e-af78-3b3799d5db3e",
   "metadata": {
    "ExecuteTime": {
     "end_time": "2023-04-11T16:50:35.459661Z",
     "start_time": "2023-04-11T16:50:35.113933Z"
    }
   },
   "outputs": [
    {
     "name": "stdout",
     "output_type": "stream",
     "text": [
      "Total de compuestos: 2698\n"
     ]
    },
    {
     "data": {
      "text/html": [
       "<div>\n",
       "<style scoped>\n",
       "    .dataframe tbody tr th:only-of-type {\n",
       "        vertical-align: middle;\n",
       "    }\n",
       "\n",
       "    .dataframe tbody tr th {\n",
       "        vertical-align: top;\n",
       "    }\n",
       "\n",
       "    .dataframe thead th {\n",
       "        text-align: right;\n",
       "    }\n",
       "</style>\n",
       "<table border=\"1\" class=\"dataframe\">\n",
       "  <thead>\n",
       "    <tr style=\"text-align: right;\">\n",
       "      <th></th>\n",
       "      <th>molecule_chembl_id</th>\n",
       "      <th>molecule_structures</th>\n",
       "    </tr>\n",
       "  </thead>\n",
       "  <tbody>\n",
       "    <tr>\n",
       "      <th>0</th>\n",
       "      <td>CHEMBL6246</td>\n",
       "      <td>O=c1oc2c(O)c(O)cc3c(=O)oc4c(O)c(O)cc1c4c23</td>\n",
       "    </tr>\n",
       "    <tr>\n",
       "      <th>1</th>\n",
       "      <td>CHEMBL6291</td>\n",
       "      <td>Cn1cc(C2=C(c3cn(CCCSC(=N)N)c4ccccc34)C(=O)NC2=...</td>\n",
       "    </tr>\n",
       "    <tr>\n",
       "      <th>2</th>\n",
       "      <td>CHEMBL269538</td>\n",
       "      <td>COc1ccc2c(c1)[nH]c1c(C)nccc12</td>\n",
       "    </tr>\n",
       "    <tr>\n",
       "      <th>3</th>\n",
       "      <td>CHEMBL28</td>\n",
       "      <td>O=c1cc(-c2ccc(O)cc2)oc2cc(O)cc(O)c12</td>\n",
       "    </tr>\n",
       "    <tr>\n",
       "      <th>4</th>\n",
       "      <td>CHEMBL7463</td>\n",
       "      <td>CN(C)CCCn1cc(C2=C(c3c[nH]c4ccccc34)C(=O)NC2=O)...</td>\n",
       "    </tr>\n",
       "  </tbody>\n",
       "</table>\n",
       "</div>"
      ],
      "text/plain": [
       "  molecule_chembl_id                                molecule_structures\n",
       "0         CHEMBL6246         O=c1oc2c(O)c(O)cc3c(=O)oc4c(O)c(O)cc1c4c23\n",
       "1         CHEMBL6291  Cn1cc(C2=C(c3cn(CCCSC(=N)N)c4ccccc34)C(=O)NC2=...\n",
       "2       CHEMBL269538                      COc1ccc2c(c1)[nH]c1c(C)nccc12\n",
       "3           CHEMBL28               O=c1cc(-c2ccc(O)cc2)oc2cc(O)cc(O)c12\n",
       "4         CHEMBL7463  CN(C)CCCn1cc(C2=C(c3c[nH]c4ccccc34)C(=O)NC2=O)..."
      ]
     },
     "execution_count": 44,
     "metadata": {},
     "output_type": "execute_result"
    }
   ],
   "source": [
    "# Vamos a utilizar un ciclo for para iterar por cada renglón (df_comp.iterrows())\n",
    "for i, cmpd in df_comp.iterrows():\n",
    "    if df_comp.loc[i]['molecule_structures'] is not None:\n",
    "        df_comp.loc[i]['molecule_structures'] = cmpd['molecule_structures']['canonical_smiles']\n",
    "print(f'Total de compuestos: {len(df_comp)}')\n",
    "df_comp.head()"
   ]
  },
  {
   "cell_type": "markdown",
   "id": "862083ee",
   "metadata": {},
   "source": [
    "### Limpiar las sales de los smiles\n",
    "Si se revisa con detalle la representación de *smiles* de cada molécula, podemos ver que algunas tienen *sales* que se deben limpiar.\n",
    "Primero filtremos las moleculas que tienen sales, usualmente se puede ver en los smiles porque tienen un punto en la cadena de texto:"
   ]
  },
  {
   "cell_type": "code",
   "execution_count": 45,
   "id": "6f13bb8a",
   "metadata": {
    "ExecuteTime": {
     "end_time": "2023-04-11T16:50:35.466654Z",
     "start_time": "2023-04-11T16:50:35.429740Z"
    },
    "jupyter": {
     "outputs_hidden": false
    }
   },
   "outputs": [
    {
     "data": {
      "text/html": [
       "<div>\n",
       "<style scoped>\n",
       "    .dataframe tbody tr th:only-of-type {\n",
       "        vertical-align: middle;\n",
       "    }\n",
       "\n",
       "    .dataframe tbody tr th {\n",
       "        vertical-align: top;\n",
       "    }\n",
       "\n",
       "    .dataframe thead th {\n",
       "        text-align: right;\n",
       "    }\n",
       "</style>\n",
       "<table border=\"1\" class=\"dataframe\">\n",
       "  <thead>\n",
       "    <tr style=\"text-align: right;\">\n",
       "      <th></th>\n",
       "      <th>molecule_chembl_id</th>\n",
       "      <th>molecule_structures</th>\n",
       "    </tr>\n",
       "  </thead>\n",
       "  <tbody>\n",
       "    <tr>\n",
       "      <th>168</th>\n",
       "      <td>CHEMBL69710</td>\n",
       "      <td>[Cl-].[Li+]</td>\n",
       "    </tr>\n",
       "    <tr>\n",
       "      <th>712</th>\n",
       "      <td>CHEMBL492244</td>\n",
       "      <td>CN1CCN(CCO/N=C2C(=C3/C(=O)Nc4cc(Br)ccc43)/Nc3c...</td>\n",
       "    </tr>\n",
       "    <tr>\n",
       "      <th>826</th>\n",
       "      <td>CHEMBL558982</td>\n",
       "      <td>Br.c1ccc(/N=c2/nc(-c3ccccc3)n(-c3ccccc3)s2)cc1</td>\n",
       "    </tr>\n",
       "    <tr>\n",
       "      <th>1254</th>\n",
       "      <td>CHEMBL1801613</td>\n",
       "      <td>Cl.NCC(=O)c1ccc(Br)cc1</td>\n",
       "    </tr>\n",
       "    <tr>\n",
       "      <th>1371</th>\n",
       "      <td>CHEMBL2022412</td>\n",
       "      <td>Br.c1ccc(-c2n/c(=N\\Cc3cccnc3)sn2-c2cccc3ccccc2...</td>\n",
       "    </tr>\n",
       "    <tr>\n",
       "      <th>...</th>\n",
       "      <td>...</td>\n",
       "      <td>...</td>\n",
       "    </tr>\n",
       "    <tr>\n",
       "      <th>2093</th>\n",
       "      <td>CHEMBL4098458</td>\n",
       "      <td>COc1cc(F)cc(F)c1C1CN(c2nc(-c3ccncc3)cc(=O)n2C)...</td>\n",
       "    </tr>\n",
       "    <tr>\n",
       "      <th>2095</th>\n",
       "      <td>CHEMBL4099428</td>\n",
       "      <td>Cl.Cn1c(N2CCNC(c3ccc(Br)cc3)C2)nc(-c2ccncc2)cc1=O</td>\n",
       "    </tr>\n",
       "    <tr>\n",
       "      <th>2110</th>\n",
       "      <td>CHEMBL4103742</td>\n",
       "      <td>Cl.Cn1c(N2CCNC(c3ccccc3)C2)nc(-c2ccncc2)cc1=O</td>\n",
       "    </tr>\n",
       "    <tr>\n",
       "      <th>2116</th>\n",
       "      <td>CHEMBL4105346</td>\n",
       "      <td>Cl.Cn1c(N2CCN[C@@H](c3ccc(Cl)cc3)C2)nc(-c2ccnc...</td>\n",
       "    </tr>\n",
       "    <tr>\n",
       "      <th>2504</th>\n",
       "      <td>CHEMBL4763626</td>\n",
       "      <td>Cl.NCCO/N=C1C(=C2/C(=O)Nc3ccc([N+](=O)[O-])cc3...</td>\n",
       "    </tr>\n",
       "  </tbody>\n",
       "</table>\n",
       "<p>67 rows × 2 columns</p>\n",
       "</div>"
      ],
      "text/plain": [
       "     molecule_chembl_id                                molecule_structures\n",
       "168         CHEMBL69710                                        [Cl-].[Li+]\n",
       "712        CHEMBL492244  CN1CCN(CCO/N=C2C(=C3/C(=O)Nc4cc(Br)ccc43)/Nc3c...\n",
       "826        CHEMBL558982     Br.c1ccc(/N=c2/nc(-c3ccccc3)n(-c3ccccc3)s2)cc1\n",
       "1254      CHEMBL1801613                             Cl.NCC(=O)c1ccc(Br)cc1\n",
       "1371      CHEMBL2022412  Br.c1ccc(-c2n/c(=N\\Cc3cccnc3)sn2-c2cccc3ccccc2...\n",
       "...                 ...                                                ...\n",
       "2093      CHEMBL4098458  COc1cc(F)cc(F)c1C1CN(c2nc(-c3ccncc3)cc(=O)n2C)...\n",
       "2095      CHEMBL4099428  Cl.Cn1c(N2CCNC(c3ccc(Br)cc3)C2)nc(-c2ccncc2)cc1=O\n",
       "2110      CHEMBL4103742      Cl.Cn1c(N2CCNC(c3ccccc3)C2)nc(-c2ccncc2)cc1=O\n",
       "2116      CHEMBL4105346  Cl.Cn1c(N2CCN[C@@H](c3ccc(Cl)cc3)C2)nc(-c2ccnc...\n",
       "2504      CHEMBL4763626  Cl.NCCO/N=C1C(=C2/C(=O)Nc3ccc([N+](=O)[O-])cc3...\n",
       "\n",
       "[67 rows x 2 columns]"
      ]
     },
     "execution_count": 45,
     "metadata": {},
     "output_type": "execute_result"
    }
   ],
   "source": [
    "df_comp[df_comp.molecule_structures.str.contains(\"\\.\")]"
   ]
  },
  {
   "cell_type": "markdown",
   "id": "80a57c07",
   "metadata": {},
   "source": [
    "Es decir, de los 2658 compuestos iniciales, 67 tienen sales que deben ser limpiadas. Podemos utilizar un módulo de `rdkit` para limpiar sales llamado `rdkit.Chem.SaltRemover`.\n",
    "Supongamos que queremos eliminar la sal del smile \"CN1CCN(CCO/N=C2C(=C3/C(=O)Nc4cc(Br)ccc43)/Nc3ccccc3/2)CC1.Cl\", se puede hacer los siguiente:"
   ]
  },
  {
   "cell_type": "code",
   "execution_count": 46,
   "id": "e5a68348",
   "metadata": {
    "ExecuteTime": {
     "end_time": "2023-04-11T16:50:35.466654Z",
     "start_time": "2023-04-11T16:50:35.447691Z"
    },
    "jupyter": {
     "outputs_hidden": false
    }
   },
   "outputs": [
    {
     "data": {
      "text/plain": [
       "'CCCCCc1n/c(=N\\\\Cc2cccnc2)sn1-c1ccccc1'"
      ]
     },
     "execution_count": 46,
     "metadata": {},
     "output_type": "execute_result"
    }
   ],
   "source": [
    "# librerías\n",
    "from rdkit.Chem.SaltRemover import SaltRemover\n",
    "from rdkit.Chem import MolFromSmiles, MolToSmiles\n",
    "\n",
    "# Se carga el módulo para remover las sales\n",
    "remover = SaltRemover()\n",
    "# se convierte el smile a un objeto mol\n",
    "mol = MolFromSmiles('Br.CCCCCc1n/c(=N\\Cc2cccnc2)sn1-c1ccccc1')\n",
    "# se remueve las sales (res=molécula, deleted=fragmento eliminado)\n",
    "res, deleted = remover.StripMolWithDeleted(mol)\n",
    "# se convierte el objeto mol a smiles nuevamente y se eliminan espacios en blanco\n",
    "MolToSmiles(res).strip()"
   ]
  },
  {
   "cell_type": "markdown",
   "id": "add065c8",
   "metadata": {},
   "source": [
    "Ahora vamos a crear una función que haga este proceso para pasarla por el dataframe `df_comp`"
   ]
  },
  {
   "cell_type": "code",
   "execution_count": 47,
   "id": "1ff1bd4e",
   "metadata": {
    "ExecuteTime": {
     "end_time": "2023-04-11T16:50:35.612315Z",
     "start_time": "2023-04-11T16:50:35.462653Z"
    },
    "jupyter": {
     "outputs_hidden": false
    }
   },
   "outputs": [],
   "source": [
    "def remover_sales(smile):\n",
    "    remover = SaltRemover()\n",
    "    mol = MolFromSmiles(smile)\n",
    "    res, deleted = remover.StripMolWithDeleted(mol)\n",
    "    return MolToSmiles(res)"
   ]
  },
  {
   "cell_type": "markdown",
   "id": "73f50571",
   "metadata": {},
   "source": [
    "Aplicamos la función a la columna de los smiles"
   ]
  },
  {
   "cell_type": "code",
   "execution_count": 48,
   "id": "ed4510c4",
   "metadata": {
    "ExecuteTime": {
     "end_time": "2023-04-11T16:50:40.034378Z",
     "start_time": "2023-04-11T16:50:35.477613Z"
    },
    "jupyter": {
     "outputs_hidden": false
    }
   },
   "outputs": [],
   "source": [
    "df_comp['molecule_structures'] = df_comp['molecule_structures'].apply(remover_sales)\n",
    "# Eliminar los espacios en blanco en los bordes de cada cadena en la columna \"molecule_structures\"\n",
    "df_comp[\"molecule_structures\"] = df_comp[\"molecule_structures\"].str.strip()"
   ]
  },
  {
   "cell_type": "markdown",
   "id": "d0ff19ae",
   "metadata": {},
   "source": [
    "Volvemos a buscar smiles que tengan sales para comprobar que la limpieza fue exitosa"
   ]
  },
  {
   "cell_type": "code",
   "execution_count": 49,
   "id": "cfd09f0a",
   "metadata": {
    "ExecuteTime": {
     "end_time": "2023-04-11T16:50:40.050925Z",
     "start_time": "2023-04-11T16:50:40.036391Z"
    },
    "jupyter": {
     "outputs_hidden": false
    }
   },
   "outputs": [
    {
     "data": {
      "text/html": [
       "<div>\n",
       "<style scoped>\n",
       "    .dataframe tbody tr th:only-of-type {\n",
       "        vertical-align: middle;\n",
       "    }\n",
       "\n",
       "    .dataframe tbody tr th {\n",
       "        vertical-align: top;\n",
       "    }\n",
       "\n",
       "    .dataframe thead th {\n",
       "        text-align: right;\n",
       "    }\n",
       "</style>\n",
       "<table border=\"1\" class=\"dataframe\">\n",
       "  <thead>\n",
       "    <tr style=\"text-align: right;\">\n",
       "      <th></th>\n",
       "      <th>molecule_chembl_id</th>\n",
       "      <th>molecule_structures</th>\n",
       "    </tr>\n",
       "  </thead>\n",
       "  <tbody>\n",
       "  </tbody>\n",
       "</table>\n",
       "</div>"
      ],
      "text/plain": [
       "Empty DataFrame\n",
       "Columns: [molecule_chembl_id, molecule_structures]\n",
       "Index: []"
      ]
     },
     "execution_count": 49,
     "metadata": {},
     "output_type": "execute_result"
    }
   ],
   "source": [
    "df_comp[df_comp.molecule_structures.str.contains(\"\\.\")]"
   ]
  },
  {
   "cell_type": "markdown",
   "id": "348f3024",
   "metadata": {},
   "source": [
    "Ya limpiamos las sales de las moléculas, ahora debemos eliminar las moléculas con datos vacíos. Por ejemplo al limpiar la molécula \"[Cl-].[Li+]\" se eliminan las dos sales y la salida queda vacía `('')`. Para eliminar estos campos podemos utilizar `dropna` y filtrar por los que no son vacíos."
   ]
  },
  {
   "cell_type": "code",
   "execution_count": 50,
   "id": "66037601",
   "metadata": {
    "ExecuteTime": {
     "end_time": "2023-04-11T16:50:40.128343Z",
     "start_time": "2023-04-11T16:50:40.051923Z"
    },
    "jupyter": {
     "outputs_hidden": false
    }
   },
   "outputs": [],
   "source": [
    "df_comp.dropna(subset=[\"molecule_structures\"], inplace=True)\n",
    "df_comp = df_comp[df_comp['molecule_structures'] != '']"
   ]
  },
  {
   "cell_type": "markdown",
   "id": "f63efe03",
   "metadata": {},
   "source": [
    "Y ya tenemos el conjunto de moléculas limpias."
   ]
  },
  {
   "cell_type": "markdown",
   "id": "16416518-adc0-461c-8ba8-1cd0d8c8f03d",
   "metadata": {},
   "source": [
    "## Combinar los Dataframe\n",
    "\n",
    "Ahora tenemos dos dataframes que vamos a combinar para tener todos los datos en uno solo dataframe y poder guardarlos"
   ]
  },
  {
   "cell_type": "code",
   "execution_count": 51,
   "id": "c2aeec75-3767-4444-a6c7-8875303f87a8",
   "metadata": {
    "ExecuteTime": {
     "end_time": "2023-04-11T16:50:40.190178Z",
     "start_time": "2023-04-11T16:50:40.067991Z"
    }
   },
   "outputs": [
    {
     "name": "stdout",
     "output_type": "stream",
     "text": [
      "Total de compuestos es: 2697\n"
     ]
    },
    {
     "data": {
      "text/html": [
       "<div>\n",
       "<style scoped>\n",
       "    .dataframe tbody tr th:only-of-type {\n",
       "        vertical-align: middle;\n",
       "    }\n",
       "\n",
       "    .dataframe tbody tr th {\n",
       "        vertical-align: top;\n",
       "    }\n",
       "\n",
       "    .dataframe thead th {\n",
       "        text-align: right;\n",
       "    }\n",
       "</style>\n",
       "<table border=\"1\" class=\"dataframe\">\n",
       "  <thead>\n",
       "    <tr style=\"text-align: right;\">\n",
       "      <th></th>\n",
       "      <th>molecule_chembl_id</th>\n",
       "      <th>pchembl_value</th>\n",
       "      <th>molecule_structures</th>\n",
       "    </tr>\n",
       "  </thead>\n",
       "  <tbody>\n",
       "    <tr>\n",
       "      <th>0</th>\n",
       "      <td>CHEMBL2386094</td>\n",
       "      <td>10.89</td>\n",
       "      <td>O=C1NC(=O)C(c2cn3c4c(cc(F)cc24)CN(C(=O)N2CCOCC...</td>\n",
       "    </tr>\n",
       "    <tr>\n",
       "      <th>1</th>\n",
       "      <td>CHEMBL3895998</td>\n",
       "      <td>10.00</td>\n",
       "      <td>Nc1ncc(-c2ccccc2F)nc1C(=O)Nc1cnccc1N1CCC(N)CC1</td>\n",
       "    </tr>\n",
       "    <tr>\n",
       "      <th>2</th>\n",
       "      <td>CHEMBL4084855</td>\n",
       "      <td>10.00</td>\n",
       "      <td>COc1ccc(N2CCN(c3nc(-c4ccncn4)cc(=O)n3C)[C@H](C...</td>\n",
       "    </tr>\n",
       "    <tr>\n",
       "      <th>3</th>\n",
       "      <td>CHEMBL564450</td>\n",
       "      <td>9.85</td>\n",
       "      <td>COc1cc(C2=C(c3cn(CCN4CCN(C)CC4)c4ccccc34)C(=O)...</td>\n",
       "    </tr>\n",
       "    <tr>\n",
       "      <th>4</th>\n",
       "      <td>CHEMBL3957649</td>\n",
       "      <td>9.70</td>\n",
       "      <td>Nc1ncc(-c2ccccc2F)nc1C(=O)Nc1cnccc1N1CCNCC1</td>\n",
       "    </tr>\n",
       "  </tbody>\n",
       "</table>\n",
       "</div>"
      ],
      "text/plain": [
       "  molecule_chembl_id  pchembl_value   \n",
       "0      CHEMBL2386094          10.89  \\\n",
       "1      CHEMBL3895998          10.00   \n",
       "2      CHEMBL4084855          10.00   \n",
       "3       CHEMBL564450           9.85   \n",
       "4      CHEMBL3957649           9.70   \n",
       "\n",
       "                                 molecule_structures  \n",
       "0  O=C1NC(=O)C(c2cn3c4c(cc(F)cc24)CN(C(=O)N2CCOCC...  \n",
       "1     Nc1ncc(-c2ccccc2F)nc1C(=O)Nc1cnccc1N1CCC(N)CC1  \n",
       "2  COc1ccc(N2CCN(c3nc(-c4ccncn4)cc(=O)n3C)[C@H](C...  \n",
       "3  COc1cc(C2=C(c3cn(CCN4CCN(C)CC4)c4ccccc34)C(=O)...  \n",
       "4        Nc1ncc(-c2ccccc2F)nc1C(=O)Nc1cnccc1N1CCNCC1  "
      ]
     },
     "execution_count": 51,
     "metadata": {},
     "output_type": "execute_result"
    }
   ],
   "source": [
    "# En el Dataframe de bioactividad se filtran solamente dos columnas\n",
    "df_output = pd.merge(df_bioact[['molecule_chembl_id','pchembl_value']], df_comp, on='molecule_chembl_id')\n",
    "print(f'Total de compuestos es: {str(len(df_output))}')\n",
    "df_output.head()"
   ]
  },
  {
   "cell_type": "markdown",
   "id": "153402ff-b090-48f6-9a92-aff104c892e4",
   "metadata": {},
   "source": [
    "Se pueden renombrar las columnas"
   ]
  },
  {
   "cell_type": "code",
   "execution_count": 52,
   "id": "cfaff736-a9ee-4547-be51-d77260de6f9f",
   "metadata": {
    "ExecuteTime": {
     "end_time": "2023-04-11T16:50:40.190178Z",
     "start_time": "2023-04-11T16:50:40.083949Z"
    }
   },
   "outputs": [
    {
     "name": "stdout",
     "output_type": "stream",
     "text": [
      "Total de compuestos es: 2697\n"
     ]
    },
    {
     "data": {
      "text/html": [
       "<div>\n",
       "<style scoped>\n",
       "    .dataframe tbody tr th:only-of-type {\n",
       "        vertical-align: middle;\n",
       "    }\n",
       "\n",
       "    .dataframe tbody tr th {\n",
       "        vertical-align: top;\n",
       "    }\n",
       "\n",
       "    .dataframe thead th {\n",
       "        text-align: right;\n",
       "    }\n",
       "</style>\n",
       "<table border=\"1\" class=\"dataframe\">\n",
       "  <thead>\n",
       "    <tr style=\"text-align: right;\">\n",
       "      <th></th>\n",
       "      <th>molecule_chembl_id</th>\n",
       "      <th>pchembl_value</th>\n",
       "      <th>smiles</th>\n",
       "    </tr>\n",
       "  </thead>\n",
       "  <tbody>\n",
       "    <tr>\n",
       "      <th>0</th>\n",
       "      <td>CHEMBL2386094</td>\n",
       "      <td>10.89</td>\n",
       "      <td>O=C1NC(=O)C(c2cn3c4c(cc(F)cc24)CN(C(=O)N2CCOCC...</td>\n",
       "    </tr>\n",
       "    <tr>\n",
       "      <th>1</th>\n",
       "      <td>CHEMBL3895998</td>\n",
       "      <td>10.00</td>\n",
       "      <td>Nc1ncc(-c2ccccc2F)nc1C(=O)Nc1cnccc1N1CCC(N)CC1</td>\n",
       "    </tr>\n",
       "    <tr>\n",
       "      <th>2</th>\n",
       "      <td>CHEMBL4084855</td>\n",
       "      <td>10.00</td>\n",
       "      <td>COc1ccc(N2CCN(c3nc(-c4ccncn4)cc(=O)n3C)[C@H](C...</td>\n",
       "    </tr>\n",
       "    <tr>\n",
       "      <th>3</th>\n",
       "      <td>CHEMBL564450</td>\n",
       "      <td>9.85</td>\n",
       "      <td>COc1cc(C2=C(c3cn(CCN4CCN(C)CC4)c4ccccc34)C(=O)...</td>\n",
       "    </tr>\n",
       "    <tr>\n",
       "      <th>4</th>\n",
       "      <td>CHEMBL3957649</td>\n",
       "      <td>9.70</td>\n",
       "      <td>Nc1ncc(-c2ccccc2F)nc1C(=O)Nc1cnccc1N1CCNCC1</td>\n",
       "    </tr>\n",
       "  </tbody>\n",
       "</table>\n",
       "</div>"
      ],
      "text/plain": [
       "  molecule_chembl_id  pchembl_value   \n",
       "0      CHEMBL2386094          10.89  \\\n",
       "1      CHEMBL3895998          10.00   \n",
       "2      CHEMBL4084855          10.00   \n",
       "3       CHEMBL564450           9.85   \n",
       "4      CHEMBL3957649           9.70   \n",
       "\n",
       "                                              smiles  \n",
       "0  O=C1NC(=O)C(c2cn3c4c(cc(F)cc24)CN(C(=O)N2CCOCC...  \n",
       "1     Nc1ncc(-c2ccccc2F)nc1C(=O)Nc1cnccc1N1CCC(N)CC1  \n",
       "2  COc1ccc(N2CCN(c3nc(-c4ccncn4)cc(=O)n3C)[C@H](C...  \n",
       "3  COc1cc(C2=C(c3cn(CCN4CCN(C)CC4)c4ccccc34)C(=O)...  \n",
       "4        Nc1ncc(-c2ccccc2F)nc1C(=O)Nc1cnccc1N1CCNCC1  "
      ]
     },
     "execution_count": 52,
     "metadata": {},
     "output_type": "execute_result"
    }
   ],
   "source": [
    "df_output = df_output.rename(columns= {'molecule_structures':'smiles'})\n",
    "print(f'Total de compuestos es: {str(len(df_output))}')\n",
    "df_output.head()"
   ]
  },
  {
   "cell_type": "markdown",
   "id": "aba828e0-2ab3-4a0d-a638-35f81d237f7e",
   "metadata": {},
   "source": [
    "Para poder emplear la siguiente función de rdkit es necesario que todos los compuestos tengan SMILES, por esto eliminamos los compuestos sin SMILES en el dataframe"
   ]
  },
  {
   "cell_type": "code",
   "execution_count": 53,
   "id": "b680a0e6-1220-4078-a235-40c2fc86173d",
   "metadata": {
    "ExecuteTime": {
     "end_time": "2023-04-11T16:50:40.191176Z",
     "start_time": "2023-04-11T16:50:40.099906Z"
    }
   },
   "outputs": [
    {
     "name": "stdout",
     "output_type": "stream",
     "text": [
      "Total de compuestos es: 2697\n"
     ]
    },
    {
     "data": {
      "text/html": [
       "<div>\n",
       "<style scoped>\n",
       "    .dataframe tbody tr th:only-of-type {\n",
       "        vertical-align: middle;\n",
       "    }\n",
       "\n",
       "    .dataframe tbody tr th {\n",
       "        vertical-align: top;\n",
       "    }\n",
       "\n",
       "    .dataframe thead th {\n",
       "        text-align: right;\n",
       "    }\n",
       "</style>\n",
       "<table border=\"1\" class=\"dataframe\">\n",
       "  <thead>\n",
       "    <tr style=\"text-align: right;\">\n",
       "      <th></th>\n",
       "      <th>molecule_chembl_id</th>\n",
       "      <th>pchembl_value</th>\n",
       "      <th>smiles</th>\n",
       "    </tr>\n",
       "  </thead>\n",
       "  <tbody>\n",
       "    <tr>\n",
       "      <th>0</th>\n",
       "      <td>CHEMBL2386094</td>\n",
       "      <td>10.89</td>\n",
       "      <td>O=C1NC(=O)C(c2cn3c4c(cc(F)cc24)CN(C(=O)N2CCOCC...</td>\n",
       "    </tr>\n",
       "    <tr>\n",
       "      <th>1</th>\n",
       "      <td>CHEMBL3895998</td>\n",
       "      <td>10.00</td>\n",
       "      <td>Nc1ncc(-c2ccccc2F)nc1C(=O)Nc1cnccc1N1CCC(N)CC1</td>\n",
       "    </tr>\n",
       "    <tr>\n",
       "      <th>2</th>\n",
       "      <td>CHEMBL4084855</td>\n",
       "      <td>10.00</td>\n",
       "      <td>COc1ccc(N2CCN(c3nc(-c4ccncn4)cc(=O)n3C)[C@H](C...</td>\n",
       "    </tr>\n",
       "    <tr>\n",
       "      <th>3</th>\n",
       "      <td>CHEMBL564450</td>\n",
       "      <td>9.85</td>\n",
       "      <td>COc1cc(C2=C(c3cn(CCN4CCN(C)CC4)c4ccccc34)C(=O)...</td>\n",
       "    </tr>\n",
       "    <tr>\n",
       "      <th>4</th>\n",
       "      <td>CHEMBL3957649</td>\n",
       "      <td>9.70</td>\n",
       "      <td>Nc1ncc(-c2ccccc2F)nc1C(=O)Nc1cnccc1N1CCNCC1</td>\n",
       "    </tr>\n",
       "  </tbody>\n",
       "</table>\n",
       "</div>"
      ],
      "text/plain": [
       "  molecule_chembl_id  pchembl_value   \n",
       "0      CHEMBL2386094          10.89  \\\n",
       "1      CHEMBL3895998          10.00   \n",
       "2      CHEMBL4084855          10.00   \n",
       "3       CHEMBL564450           9.85   \n",
       "4      CHEMBL3957649           9.70   \n",
       "\n",
       "                                              smiles  \n",
       "0  O=C1NC(=O)C(c2cn3c4c(cc(F)cc24)CN(C(=O)N2CCOCC...  \n",
       "1     Nc1ncc(-c2ccccc2F)nc1C(=O)Nc1cnccc1N1CCC(N)CC1  \n",
       "2  COc1ccc(N2CCN(c3nc(-c4ccncn4)cc(=O)n3C)[C@H](C...  \n",
       "3  COc1cc(C2=C(c3cn(CCN4CCN(C)CC4)c4ccccc34)C(=O)...  \n",
       "4        Nc1ncc(-c2ccccc2F)nc1C(=O)Nc1cnccc1N1CCNCC1  "
      ]
     },
     "execution_count": 53,
     "metadata": {},
     "output_type": "execute_result"
    }
   ],
   "source": [
    "df_output = df_output[~df_output['smiles'].isnull()]\n",
    "print(f'Total de compuestos es: {str(len(df_output))}')\n",
    "df_output.head()"
   ]
  },
  {
   "cell_type": "markdown",
   "id": "bf8ab5d4-0762-4983-ad1b-bff5e5d82357",
   "metadata": {},
   "source": [
    "## Dibujar la molécula\n",
    "\n",
    "Vamos a añadir una nueva columna al dataframe con la función `.AddMoleculeColumnToFrame` la cual convierte las moléculas contenidas en \"smilesCol\" en moléculas RDKit y las agrega al dataframe"
   ]
  },
  {
   "cell_type": "code",
   "execution_count": 54,
   "id": "fdf4de68-a012-464c-93ee-4f316a4d950d",
   "metadata": {
    "ExecuteTime": {
     "end_time": "2023-04-11T16:50:40.751761Z",
     "start_time": "2023-04-11T16:50:40.114868Z"
    }
   },
   "outputs": [
    {
     "data": {
      "text/html": [
       "<div>\n",
       "<style scoped>\n",
       "    .dataframe tbody tr th:only-of-type {\n",
       "        vertical-align: middle;\n",
       "    }\n",
       "\n",
       "    .dataframe tbody tr th {\n",
       "        vertical-align: top;\n",
       "    }\n",
       "\n",
       "    .dataframe thead th {\n",
       "        text-align: right;\n",
       "    }\n",
       "</style>\n",
       "<table border=\"1\" class=\"dataframe\">\n",
       "  <thead>\n",
       "    <tr style=\"text-align: right;\">\n",
       "      <th></th>\n",
       "      <th>molecule_chembl_id</th>\n",
       "      <th>pchembl_value</th>\n",
       "      <th>smiles</th>\n",
       "      <th>ROMol</th>\n",
       "    </tr>\n",
       "  </thead>\n",
       "  <tbody>\n",
       "    <tr>\n",
       "      <th>0</th>\n",
       "      <td>CHEMBL2386094</td>\n",
       "      <td>10.89</td>\n",
       "      <td>O=C1NC(=O)C(c2cn3c4c(cc(F)cc24)CN(C(=O)N2CCOCC...</td>\n",
       "      <td>&lt;rdkit.Chem.rdchem.Mol object at 0x000001FE3FB...</td>\n",
       "    </tr>\n",
       "    <tr>\n",
       "      <th>1</th>\n",
       "      <td>CHEMBL3895998</td>\n",
       "      <td>10.00</td>\n",
       "      <td>Nc1ncc(-c2ccccc2F)nc1C(=O)Nc1cnccc1N1CCC(N)CC1</td>\n",
       "      <td>&lt;rdkit.Chem.rdchem.Mol object at 0x000001FE3FB...</td>\n",
       "    </tr>\n",
       "    <tr>\n",
       "      <th>2</th>\n",
       "      <td>CHEMBL4084855</td>\n",
       "      <td>10.00</td>\n",
       "      <td>COc1ccc(N2CCN(c3nc(-c4ccncn4)cc(=O)n3C)[C@H](C...</td>\n",
       "      <td>&lt;rdkit.Chem.rdchem.Mol object at 0x000001FE3FB...</td>\n",
       "    </tr>\n",
       "    <tr>\n",
       "      <th>3</th>\n",
       "      <td>CHEMBL564450</td>\n",
       "      <td>9.85</td>\n",
       "      <td>COc1cc(C2=C(c3cn(CCN4CCN(C)CC4)c4ccccc34)C(=O)...</td>\n",
       "      <td>&lt;rdkit.Chem.rdchem.Mol object at 0x000001FE3FB...</td>\n",
       "    </tr>\n",
       "    <tr>\n",
       "      <th>4</th>\n",
       "      <td>CHEMBL3957649</td>\n",
       "      <td>9.70</td>\n",
       "      <td>Nc1ncc(-c2ccccc2F)nc1C(=O)Nc1cnccc1N1CCNCC1</td>\n",
       "      <td>&lt;rdkit.Chem.rdchem.Mol object at 0x000001FE3FB...</td>\n",
       "    </tr>\n",
       "  </tbody>\n",
       "</table>\n",
       "</div>"
      ],
      "text/plain": [
       "  molecule_chembl_id  pchembl_value   \n",
       "0      CHEMBL2386094          10.89  \\\n",
       "1      CHEMBL3895998          10.00   \n",
       "2      CHEMBL4084855          10.00   \n",
       "3       CHEMBL564450           9.85   \n",
       "4      CHEMBL3957649           9.70   \n",
       "\n",
       "                                              smiles   \n",
       "0  O=C1NC(=O)C(c2cn3c4c(cc(F)cc24)CN(C(=O)N2CCOCC...  \\\n",
       "1     Nc1ncc(-c2ccccc2F)nc1C(=O)Nc1cnccc1N1CCC(N)CC1   \n",
       "2  COc1ccc(N2CCN(c3nc(-c4ccncn4)cc(=O)n3C)[C@H](C...   \n",
       "3  COc1cc(C2=C(c3cn(CCN4CCN(C)CC4)c4ccccc34)C(=O)...   \n",
       "4        Nc1ncc(-c2ccccc2F)nc1C(=O)Nc1cnccc1N1CCNCC1   \n",
       "\n",
       "                                               ROMol  \n",
       "0  <rdkit.Chem.rdchem.Mol object at 0x000001FE3FB...  \n",
       "1  <rdkit.Chem.rdchem.Mol object at 0x000001FE3FB...  \n",
       "2  <rdkit.Chem.rdchem.Mol object at 0x000001FE3FB...  \n",
       "3  <rdkit.Chem.rdchem.Mol object at 0x000001FE3FB...  \n",
       "4  <rdkit.Chem.rdchem.Mol object at 0x000001FE3FB...  "
      ]
     },
     "execution_count": 54,
     "metadata": {},
     "output_type": "execute_result"
    }
   ],
   "source": [
    "PandasTools.AddMoleculeColumnToFrame(df_output, smilesCol='smiles')\n",
    "df_output.head()"
   ]
  },
  {
   "cell_type": "markdown",
   "id": "8f573681",
   "metadata": {},
   "source": [
    "Ahora podemos llamar a cualquier compuesto para ver su representación en 2D"
   ]
  },
  {
   "cell_type": "code",
   "execution_count": 55,
   "id": "65947622",
   "metadata": {
    "ExecuteTime": {
     "end_time": "2023-04-11T16:50:40.782678Z",
     "start_time": "2023-04-11T16:50:40.730817Z"
    }
   },
   "outputs": [
    {
     "data": {
      "image/png": "[encoded data removed]",
      "text/plain": [
       "<rdkit.Chem.rdchem.Mol at 0x1fe3fbea190>"
      ]
     },
     "execution_count": 55,
     "metadata": {},
     "output_type": "execute_result"
    }
   ],
   "source": [
    "df_output.ROMol.iloc[0]"
   ]
  },
  {
   "cell_type": "markdown",
   "id": "3d27814b-50c3-476e-8eb4-2784d28a7cd1",
   "metadata": {},
   "source": [
    "## Guardar el dataframe obtenido\n",
    "\n",
    "Se va a guardar el dataframe como un archivo csv"
   ]
  },
  {
   "cell_type": "code",
   "execution_count": 56,
   "id": "1887019d-902a-4e22-b721-7239dd9533a6",
   "metadata": {
    "ExecuteTime": {
     "end_time": "2023-04-11T16:50:40.876996Z",
     "start_time": "2023-04-11T16:50:40.739793Z"
    }
   },
   "outputs": [],
   "source": [
    "df_output.to_csv(f\"data/compounds_{uniprot_id}_full.csv\", index=0)"
   ]
  },
  {
   "cell_type": "markdown",
   "id": "eb180565-c7d3-4f26-bb57-f4f7360a57e4",
   "metadata": {},
   "source": [
    "## Actividad práctica\n",
    "Teniendo en cuenta lo aprendido en este Notebook, responda:\n",
    "1. ¿Qué otros datos podemos obtener de ChEMBL del target de interés?\n",
    "2. ¿Se podría realizar una nueva clasificación de los compuestos filtrándolos únicamente por el pEC50?, compruébelo y observe las diferencias\n",
    "3. Obtenga los datos conocidos de los compuestos, referentes a inhibición y actividad."
   ]
  },
  {
   "cell_type": "markdown",
   "id": "caf9d893-0c03-402a-89d8-f2cc46c18ede",
   "metadata": {},
   "source": [
    "## Conclusiones\n",
    "En esta práctica se empleó la base de datos ChEMBL para obtener datos de compuestos bioactivos frente a nuestro target de interés. Estos datos extraidos en forma de diccionarios y listas se convirtieron en un DataFrame el cual permite visualizar fácilmente la información obtenida. Además, se obtuvieron datos de los compuestos bioactivos, combinaron DataFrames, se renombraron columnas y se utilizó una herramienta de panda para añadir una nueva columna al DataFrame construido."
   ]
  },
  {
   "cell_type": "markdown",
   "id": "73f4c114",
   "metadata": {},
   "source": [
    "# Referencias\n",
    "1. Coudert, E., Gehant, S., De Castro, E., Pozzato, M., Baratin, D., Neto, T., Sigrist, C. J. A., Redaschi, N., Bridge, A., The UniProt Consortium, Bridge, A. J., Aimo, L., Argoud-Puy, G., Auchincloss, A. H., Axelsen, K. B., Bansal, P., Baratin, D., Neto, T. M. B., Blatter, M.-C., … Wang, Y. (2023). Annotation of biologically relevant ligands in UniProtKB using ChEBI. Bioinformatics, 39(1), btac793. https://doi.org/10.1093/bioinformatics/btac793\n",
    "2. Mendez, D., Gaulton, A., Bento, A. P., Chambers, J., De Veij, M., Félix, E., Magariños, M. P., Mosquera, J. F., Mutowo, P., Nowotka, M., Gordillo-Marañón, M., Hunter, F., Junco, L., Mugumbate, G., Rodriguez-Lopez, M., Atkinson, F., Bosc, N., Radoux, C. J., Segura-Cabrera, A., … Leach, A. R. (2019). ChEMBL: Towards direct deposition of bioassay data. Nucleic Acids Research, 47(D1), D930-D940. https://doi.org/10.1093/nar/gky1075\n",
    "3. Aykul, S., & Martinez-Hackert, E. (2016). Determination of half-maximal inhibitory concentration using biosensor-based protein interaction analysis. Analytical Biochemistry, 508, 97-103. https://doi.org/10.1016/j.ab.2016.06.025\n",
    "4. Waller, D. G., & Sampson, A. P. (2018). Principles of pharmacology and mechanisms of drug action. En Medical Pharmacology and Therapeutics (pp. 3-31). Elsevier. https://doi.org/10.1016/B978-0-7020-7167-6.00001-4\n",
    "5. Daylight>cheminformatics. (2022). https://www.daylight.com/smiles/ \n"
   ]
  }
 ],
 "metadata": {
  "kernelspec": {
   "display_name": "Python 3 (ipykernel)",
   "language": "python",
   "name": "python3"
  },
  "language_info": {
   "codemirror_mode": {
    "name": "ipython",
    "version": 3
   },
   "file_extension": ".py",
   "mimetype": "text/x-python",
   "name": "python",
   "nbconvert_exporter": "python",
   "pygments_lexer": "ipython3",
   "version": "3.8.17"
  }
 },
 "nbformat": 4,
 "nbformat_minor": 5
}
