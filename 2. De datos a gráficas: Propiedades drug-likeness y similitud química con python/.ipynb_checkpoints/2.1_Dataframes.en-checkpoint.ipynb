{
 "cells": [
  {
   "cell_type": "markdown",
   "metadata": {},
   "source": [
    "# Introduction to handling advanced Data Structures with Pandas\n",
    "\n",
    "This book is available in two ways:\n",
    "1. Downloading the repository and following the instructions in the file [README.md](https://github.com/ramirezlab/CHEMO/blob/main/README.md)\n",
    "2. Clicking here on [google collab]\n",
    "\n",
    "\n",
    "## Numpy Library\n",
    "\n",
    "*Numpy* is a fundamental Python library for scientific computing. Among its features is the creation of multidimensional arrays, which can be treated as vectors, and is very fast when performing mathematical operations on them. Which makes it a necessary tool for projects with high computing and mathematical calculation requirements and that is why it is so popular in the scientific ecosystem.\n",
    "\n",
    "### Math Operations with Numpy Arrays\n",
    "\n",
    "To get started, we'll import the library and create our first Numpy Array, then affect it with some basic math. It is common to rename the `Numpy` library as `np`."
   ]
  },
  {
   "cell_type": "code",
   "execution_count": 1,
   "metadata": {
    "tags": []
   },
   "outputs": [
    {
     "data": {
      "text/plain": [
       "array([ 0,  1,  2,  3,  4,  5,  6,  7,  8,  9, 10])"
      ]
     },
     "execution_count": 1,
     "metadata": {},
     "output_type": "execute_result"
    }
   ],
   "source": [
    "# The numpy library is imported. The acronym for the numpy library is usually np.\n",
    "import numpy as np\n",
    "\n",
    "# Create an array of numbers\n",
    "nums = np.array([0, 1, 2, 3, 4, 5, 6, 7, 8, 9, 10])\n",
    "\n",
    "# print the value of the array\n",
    "nums"
   ]
  },
  {
   "cell_type": "markdown",
   "metadata": {},
   "source": [
    "**It is worth mentioning that a Numpy array is very similar to a native Python list.** The main difference lies in the type of mathematical ordering operations that can be performed on a library array and the native lists of Python. python.\n",
    "\n",
    "Let's take as a starting point the sum of two `Numpy` arrays, compared to a Python sum of lists:"
   ]
  },
  {
   "cell_type": "code",
   "execution_count": 2,
   "metadata": {
    "tags": []
   },
   "outputs": [
    {
     "data": {
      "text/plain": [
       "array([ 0,  2,  4,  6,  8, 10, 12, 14, 16, 18, 20])"
      ]
     },
     "execution_count": 2,
     "metadata": {},
     "output_type": "execute_result"
    }
   ],
   "source": [
    "# Print the sum of the Numpy array\n",
    "nums+nums"
   ]
  },
  {
   "cell_type": "markdown",
   "metadata": {},
   "source": [
    "The size of the list was kept, but its elements were added, and this is the potential and simplicity of Numpy arrays, and because of its vast use in the scientific world.\n",
    "\n",
    "Let's look at equivalent code with a native Python list:"
   ]
  },
  {
   "cell_type": "code",
   "execution_count": 3,
   "metadata": {
    "tags": []
   },
   "outputs": [
    {
     "data": {
      "text/plain": [
       "[0, 2, 4, 6, 8, 10, 12, 14, 16, 18, 20]"
      ]
     },
     "execution_count": 3,
     "metadata": {},
     "output_type": "execute_result"
    }
   ],
   "source": [
    "# Compressed list with addition of its elements\n",
    "list_nums = [0, 1, 2, 3, 4, 5, 6, 7, 8, 9, 10]\n",
    "[x + x for x in list_nums]"
   ]
  },
  {
   "cell_type": "markdown",
   "metadata": {},
   "source": [
    "We don't think it's complicated to be creating Python *list comprehensions*, but it would clearly reduce the lines of code in our program using **Numpy** arrays. And it would be impossible to achieve it if we need to add two lists.\n",
    "\n",
    "*Numpy arrays* can also perform the other operations following the same pattern:\n",
    "\n",
    "```markdown\n",
    "<numpy_array> <operation (+, -, *, /)> <numpy_array>\n",
    "```\n",
    "*Let's be careful with division if there are zeros in the denominator, remember that it is not possible to divide by zero, in which case an error would appear*\n",
    "\n",
    "Now, to see the potential of Numpy arrays, what would happen if we tried to add two arrays of size $n$, let's talk arrays of $10,000,000 elements?"
   ]
  },
  {
   "cell_type": "code",
   "execution_count": 4,
   "metadata": {
    "tags": []
   },
   "outputs": [
    {
     "name": "stdout",
     "output_type": "stream",
     "text": [
      "[42 28  6 ... 21 40 56]\n"
     ]
    }
   ],
   "source": [
    "#Numpy library is imported\n",
    "import numpy as np\n",
    "\n",
    "# Two arrays with 1 million elements are created, where each element has a random value between 0-10\n",
    "x = np.random.choice(10, 1000000)\n",
    "y = np.random.choice(10, 1000000)\n",
    "\n",
    "print(x * y)"
   ]
  },
  {
   "cell_type": "markdown",
   "metadata": {},
   "source": [
    "Did you see it? The multiplication took just milliseconds. And that's where it makes using the library worthwhile."
   ]
  },
  {
   "cell_type": "markdown",
   "metadata": {},
   "source": [
    "## Introduction to the Panda Series\n",
    "\n",
    "Before talking about Dataframes it is important that we do a little review about the **Series**, at the same time we will begin to interact with the Pandas library.\n",
    "\n",
    "**`Pandas`** is a Python library (like `Numpy`), which is characterized by providing data structures that are fast processing, that are easy to express to make working with relational data it's easy and intuitive. [More information here](https://pandas.pydata.org/docs/getting_started/overview.html)\n",
    "\n",
    "What is a Serie? How do you create a Serie? Let's see the answers to these questions:\n",
    "\n",
    "Series are a type of one-dimensional structure *(1D)* very similar to an array, with the characteristic that we can label its data to a certain extent through indices.\n",
    "\n",
    "To study the potential of the series we are going to interact with the `iris.data` file (./data/iris.data) that comes from the data repository of the [UCI Machine Learning](https://archive-beta.ics.uci.edu/)."
   ]
  },
  {
   "cell_type": "code",
   "execution_count": 5,
   "metadata": {
    "tags": []
   },
   "outputs": [
    {
     "data": {
      "text/plain": [
       "0         [5.1, 3.5, 1.4, 0.2, Iris-setosa]\n",
       "1         [4.9, 3.0, 1.4, 0.2, Iris-setosa]\n",
       "2         [4.7, 3.2, 1.3, 0.2, Iris-setosa]\n",
       "3         [4.6, 3.1, 1.5, 0.2, Iris-setosa]\n",
       "4         [5.0, 3.6, 1.4, 0.2, Iris-setosa]\n",
       "                       ...                 \n",
       "145    [6.7, 3.0, 5.2, 2.3, Iris-virginica]\n",
       "146    [6.3, 2.5, 5.0, 1.9, Iris-virginica]\n",
       "147    [6.5, 3.0, 5.2, 2.0, Iris-virginica]\n",
       "148    [6.2, 3.4, 5.4, 2.3, Iris-virginica]\n",
       "149    [5.9, 3.0, 5.1, 1.8, Iris-virginica]\n",
       "Length: 150, dtype: object"
      ]
     },
     "execution_count": 5,
     "metadata": {},
     "output_type": "execute_result"
    }
   ],
   "source": [
    "import pandas as pd\n",
    "\n",
    "# The iris.data file is imported and its contents are read\n",
    "with open(\"data/iris.data\", \"r\") as DATA:\n",
    "     iris_dataset = DATA.read()\n",
    "\n",
    "# The dataset is cleaned and the series is built from the array generated by the `split`\n",
    "iris_dataset = iris_dataset.split('\\n')\n",
    "iris_dataset = [i.split(',') for i in iris_dataset]\n",
    "\n",
    "# The series will be created with the dataset data\n",
    "iris_series = pd.Series(iris_dataset)\n",
    "\n",
    "# print the string\n",
    "iris_series"
   ]
  },
  {
   "cell_type": "markdown",
   "metadata": {},
   "source": [
    "*From now on whenever we want to display the content of a series and/or a Dataframe we will use the `head` method, which only displays the first data and not the entire set.*\n",
    "\n",
    "And that's how easy a basic but powerful data structure is built that gives us the *Pandas* library. Let's explore what we have:\n",
    "\n",
    "- Each row is a one-dimensional array with five elements, $150$ rows were printed, each with a list of 5 elements, plus the enumeration column.\n",
    "\n",
    "- The *series* as well as the lists and arrays of *Numpy* have methods and their manipulation is also achieved through indexing."
   ]
  },
  {
   "cell_type": "code",
   "execution_count": 6,
   "metadata": {
    "tags": []
   },
   "outputs": [
    {
     "data": {
      "text/plain": [
       "0    [5.1, 3.5, 1.4, 0.2, Iris-setosa]\n",
       "1    [4.9, 3.0, 1.4, 0.2, Iris-setosa]\n",
       "2    [4.7, 3.2, 1.3, 0.2, Iris-setosa]\n",
       "3    [4.6, 3.1, 1.5, 0.2, Iris-setosa]\n",
       "4    [5.0, 3.6, 1.4, 0.2, Iris-setosa]\n",
       "dtype: object"
      ]
     },
     "execution_count": 6,
     "metadata": {},
     "output_type": "execute_result"
    }
   ],
   "source": [
    "# Example 1: The first data in the series is printed using the head method.\n",
    "iris_series.head()"
   ]
  },
  {
   "cell_type": "markdown",
   "metadata": {},
   "source": [
    "Another useful method is the `index` method, it returns the list of indices and their range."
   ]
  },
  {
   "cell_type": "code",
   "execution_count": 7,
   "metadata": {
    "tags": []
   },
   "outputs": [
    {
     "data": {
      "text/plain": [
       "RangeIndex(start=0, stop=150, step=1)"
      ]
     },
     "execution_count": 7,
     "metadata": {},
     "output_type": "execute_result"
    }
   ],
   "source": [
    "# The array indices are printed, in this case it refers to the first column serie_de_iris.index\n",
    "iris_series.index"
   ]
  },
  {
   "cell_type": "markdown",
   "metadata": {},
   "source": [
    "What if we wanted to access the elements of position $120$ and up:"
   ]
  },
  {
   "cell_type": "code",
   "execution_count": 8,
   "metadata": {
    "tags": []
   },
   "outputs": [
    {
     "data": {
      "text/plain": [
       "120    [6.9, 3.2, 5.7, 2.3, Iris-virginica]\n",
       "121    [5.6, 2.8, 4.9, 2.0, Iris-virginica]\n",
       "122    [7.7, 2.8, 6.7, 2.0, Iris-virginica]\n",
       "123    [6.3, 2.7, 4.9, 1.8, Iris-virginica]\n",
       "124    [6.7, 3.3, 5.7, 2.1, Iris-virginica]\n",
       "125    [7.2, 3.2, 6.0, 1.8, Iris-virginica]\n",
       "126    [6.2, 2.8, 4.8, 1.8, Iris-virginica]\n",
       "127    [6.1, 3.0, 4.9, 1.8, Iris-virginica]\n",
       "128    [6.4, 2.8, 5.6, 2.1, Iris-virginica]\n",
       "129    [7.2, 3.0, 5.8, 1.6, Iris-virginica]\n",
       "130    [7.4, 2.8, 6.1, 1.9, Iris-virginica]\n",
       "131    [7.9, 3.8, 6.4, 2.0, Iris-virginica]\n",
       "132    [6.4, 2.8, 5.6, 2.2, Iris-virginica]\n",
       "133    [6.3, 2.8, 5.1, 1.5, Iris-virginica]\n",
       "134    [6.1, 2.6, 5.6, 1.4, Iris-virginica]\n",
       "135    [7.7, 3.0, 6.1, 2.3, Iris-virginica]\n",
       "136    [6.3, 3.4, 5.6, 2.4, Iris-virginica]\n",
       "137    [6.4, 3.1, 5.5, 1.8, Iris-virginica]\n",
       "138    [6.0, 3.0, 4.8, 1.8, Iris-virginica]\n",
       "139    [6.9, 3.1, 5.4, 2.1, Iris-virginica]\n",
       "140    [6.7, 3.1, 5.6, 2.4, Iris-virginica]\n",
       "141    [6.9, 3.1, 5.1, 2.3, Iris-virginica]\n",
       "142    [5.8, 2.7, 5.1, 1.9, Iris-virginica]\n",
       "143    [6.8, 3.2, 5.9, 2.3, Iris-virginica]\n",
       "144    [6.7, 3.3, 5.7, 2.5, Iris-virginica]\n",
       "145    [6.7, 3.0, 5.2, 2.3, Iris-virginica]\n",
       "146    [6.3, 2.5, 5.0, 1.9, Iris-virginica]\n",
       "147    [6.5, 3.0, 5.2, 2.0, Iris-virginica]\n",
       "148    [6.2, 3.4, 5.4, 2.3, Iris-virginica]\n",
       "149    [5.9, 3.0, 5.1, 1.8, Iris-virginica]\n",
       "dtype: object"
      ]
     },
     "execution_count": 8,
     "metadata": {},
     "output_type": "execute_result"
    }
   ],
   "source": [
    "# Print the elements from position 120 onwards\n",
    "iris_series[120:]"
   ]
  },
  {
   "cell_type": "markdown",
   "metadata": {},
   "source": [
    "As a *Series* is a one-dimensional *(1D)* array, each row contains all the information returned by the original dataset, represented in a native *Python* array for manipulation. **Technically this makes it difficult** to manipulate the data within each series (for example, finding the mean of the first column, which leads to us wasting the native functionality of a Series, because we would have to create a new one). series for each column of data, then inefficient series.\n",
    "\n",
    "Let's see an example of how to extract the values of the first column in question, for this, we start loading the original dataset again but this time we only take the first column:"
   ]
  },
  {
   "cell_type": "code",
   "execution_count": 9,
   "metadata": {
    "tags": []
   },
   "outputs": [
    {
     "data": {
      "text/plain": [
       "0      5.1\n",
       "1      4.9\n",
       "2      4.7\n",
       "3      4.6\n",
       "4      5.0\n",
       "      ... \n",
       "145    6.7\n",
       "146    6.3\n",
       "147    6.5\n",
       "148    6.2\n",
       "149    5.9\n",
       "Length: 150, dtype: float64"
      ]
     },
     "execution_count": 9,
     "metadata": {},
     "output_type": "execute_result"
    }
   ],
   "source": [
    "import pandas as pd\n",
    "\n",
    "with open(\"data/iris.data\", \"r\") as DATA:\n",
    "     iris_dataset = DATA.read()\n",
    "\n",
    "# The dataset is cleaned and the series is built from the array generated by the `split`\n",
    "iris_dataset = iris_dataset.split('\\n')\n",
    "\n",
    "# The first column is extracted from the dataset and its data is converted to float type\n",
    "iris_dataset = [float(j[0]) if j[0] != '' else 0 for j in [i.split(',') for i in iris_dataset]]\n",
    "\n",
    "# The series is created with the dataset data\n",
    "iris_series_col_1 = pd.Series(iris_dataset)\n",
    "\n",
    "# The series is printed with the first column of the dataset\n",
    "iris_series_col_1"
   ]
  },
  {
   "cell_type": "markdown",
   "metadata": {},
   "source": [
    "And now if we can find some statistics as the mean of all the values, and we'll use *Numpy* for this:"
   ]
  },
  {
   "cell_type": "code",
   "execution_count": 10,
   "metadata": {
    "tags": []
   },
   "outputs": [
    {
     "name": "stdout",
     "output_type": "stream",
     "text": [
      "Average data size:\n"
     ]
    },
    {
     "data": {
      "text/plain": [
       "5.843333333333334"
      ]
     },
     "execution_count": 10,
     "metadata": {},
     "output_type": "execute_result"
    }
   ],
   "source": [
    "import numpy as np\n",
    "\n",
    "# The mean of the series is calculated from the mean method of numpy\n",
    "print('Average data size:')\n",
    "np.mean(iris_series_col_1)"
   ]
  },
  {
   "cell_type": "markdown",
   "metadata": {},
   "source": [
    "Due to the limitations of the *Series (as we saw previously)* we will have to give way to a new data structure, and this is where the *Dataframes* come into play. But how about we first describe the columns coming from our dataset?\n",
    "\n",
    "According to the description found on the page we know that it has the following structure:\n",
    "\n",
    "| No. |      Column          |  Data type    | Possible Values                                   |\n",
    "|-----|:--------------------:|--------------:|:------------------------------------------------|\n",
    "| 1   |    sepal length      |   float/cm    | Positives                                       |\n",
    "| 2   |     sepal width      |   float/cm    | Positives                                       |\n",
    "| 3   |    petal length      |   float/cm    | Positives                                       |\n",
    "| 4   |     petal width      |    float/cm   | Positives                                       |\n",
    "| 5   |        class         |  string/text  | Iris Setosa, Iris Versicolour,  Iris Virginica  |\n",
    "\n",
    "It is time for us to modify the *Series*, and convert it into a *Dataframe* and use its full potential to our advantage."
   ]
  },
  {
   "cell_type": "markdown",
   "metadata": {},
   "source": [
    "## Introduction to DataFrames\n",
    "\n",
    "A *DataFrame* is an $n$ dimensional array of structured data that can store data of different types. Yes, it's like a spreadsheet or a database table.\n",
    "\n",
    "The DataFrame are more common than the Series *(They appear everywhere in scientific computing, in the analysis and visualization of data and among others)* and it is for this reason that they will be studied in practice.\n",
    "\n",
    "Usually you can create a `DataFrame` from different data sources, but this time we will continue using the [`iris`](./data/iris.data) dataset."
   ]
  },
  {
   "cell_type": "code",
   "execution_count": 11,
   "metadata": {},
   "outputs": [
    {
     "data": {
      "text/html": [
       "<div>\n",
       "<style scoped>\n",
       "    .dataframe tbody tr th:only-of-type {\n",
       "        vertical-align: middle;\n",
       "    }\n",
       "\n",
       "    .dataframe tbody tr th {\n",
       "        vertical-align: top;\n",
       "    }\n",
       "\n",
       "    .dataframe thead th {\n",
       "        text-align: right;\n",
       "    }\n",
       "</style>\n",
       "<table border=\"1\" class=\"dataframe\">\n",
       "  <thead>\n",
       "    <tr style=\"text-align: right;\">\n",
       "      <th></th>\n",
       "      <th>long_sepal</th>\n",
       "      <th>width_sepal</th>\n",
       "      <th>long_petal</th>\n",
       "      <th>width_petal</th>\n",
       "      <th>class_1</th>\n",
       "    </tr>\n",
       "  </thead>\n",
       "  <tbody>\n",
       "    <tr>\n",
       "      <th>0</th>\n",
       "      <td>5.1</td>\n",
       "      <td>3.5</td>\n",
       "      <td>1.4</td>\n",
       "      <td>0.2</td>\n",
       "      <td>Iris-setosa</td>\n",
       "    </tr>\n",
       "    <tr>\n",
       "      <th>1</th>\n",
       "      <td>4.9</td>\n",
       "      <td>3.0</td>\n",
       "      <td>1.4</td>\n",
       "      <td>0.2</td>\n",
       "      <td>Iris-setosa</td>\n",
       "    </tr>\n",
       "    <tr>\n",
       "      <th>2</th>\n",
       "      <td>4.7</td>\n",
       "      <td>3.2</td>\n",
       "      <td>1.3</td>\n",
       "      <td>0.2</td>\n",
       "      <td>Iris-setosa</td>\n",
       "    </tr>\n",
       "    <tr>\n",
       "      <th>3</th>\n",
       "      <td>4.6</td>\n",
       "      <td>3.1</td>\n",
       "      <td>1.5</td>\n",
       "      <td>0.2</td>\n",
       "      <td>Iris-setosa</td>\n",
       "    </tr>\n",
       "    <tr>\n",
       "      <th>4</th>\n",
       "      <td>5.0</td>\n",
       "      <td>3.6</td>\n",
       "      <td>1.4</td>\n",
       "      <td>0.2</td>\n",
       "      <td>Iris-setosa</td>\n",
       "    </tr>\n",
       "  </tbody>\n",
       "</table>\n",
       "</div>"
      ],
      "text/plain": [
       "   long_sepal  width_sepal  long_petal  width_petal      class_1\n",
       "0         5.1          3.5         1.4          0.2  Iris-setosa\n",
       "1         4.9          3.0         1.4          0.2  Iris-setosa\n",
       "2         4.7          3.2         1.3          0.2  Iris-setosa\n",
       "3         4.6          3.1         1.5          0.2  Iris-setosa\n",
       "4         5.0          3.6         1.4          0.2  Iris-setosa"
      ]
     },
     "execution_count": 11,
     "metadata": {},
     "output_type": "execute_result"
    }
   ],
   "source": [
    "import pandas as pd\n",
    "\n",
    "# We create the DataFrame from iris_dataset, the names parameter allows us to name the columns\n",
    "df_iris = pd.read_csv(\"./data/iris.data\", names=[\"long_sepal\", \"width_sepal\", \"long_petal\", \"width_petal\", \"class_1\"])\n",
    "\n",
    "# Print the first 5 elements of the dataframe\n",
    "df_iris.head()"
   ]
  },
  {
   "cell_type": "markdown",
   "metadata": {},
   "source": [
    "*Note: from now on whenever we want to import the content of a local dataset we will use the `read_csv` method of the Pandas library.*\n",
    "\n",
    "As we saw it was very easy to build the `DataFrame`, now, how about we manipulate it? We could answer questions like: how many kinds of iris do we have? What is the average size of the petal length? all classes or one in particular? Let's see how it's done:"
   ]
  },
  {
   "cell_type": "markdown",
   "metadata": {},
   "source": [
    "If we want to work with the first column, we can easily do it like this:"
   ]
  },
  {
   "cell_type": "code",
   "execution_count": 12,
   "metadata": {},
   "outputs": [
    {
     "data": {
      "text/plain": [
       "0    5.1\n",
       "1    4.9\n",
       "2    4.7\n",
       "3    4.6\n",
       "4    5.0\n",
       "Name: long_sepal, dtype: float64"
      ]
     },
     "execution_count": 12,
     "metadata": {},
     "output_type": "execute_result"
    }
   ],
   "source": [
    "df_iris['long_sepal'].head()"
   ]
  },
  {
   "cell_type": "markdown",
   "metadata": {},
   "source": [
    "The column elements are stored as a `Range`, which can be easily operated on, for example finding the average sepal length."
   ]
  },
  {
   "cell_type": "code",
   "execution_count": 13,
   "metadata": {},
   "outputs": [
    {
     "name": "stdout",
     "output_type": "stream",
     "text": [
      "Average Iris Petal Size:\n",
      "5.843333333333334\n"
     ]
    }
   ],
   "source": [
    "### Example 1: Average Sepal Length regardless of class\n",
    "mean_long_sepal = np.mean(df_iris['long_sepal'])\n",
    "print('Average Iris Petal Size:')\n",
    "print(mean_long_sepal)"
   ]
  },
  {
   "cell_type": "markdown",
   "metadata": {},
   "source": [
    "That was easy, find the average of $150$ rows and with it, give a little more meaning to the dataset.\n",
    "\n",
    "The *Dataframe* have many methods that allow to operate, manipulate, group, filter the data, among others. Let's see some of the most important:\n",
    "\n",
    "* **groupby**: used to group the rows around the value of one of its columns\n",
    "* **assign**: used to add new columns from the values of other\n",
    "* **query**: used to filter the dataset based on some condition *(such as the value of a column)*\n",
    "* **filter**: filters a Dataframe by columns or rows according to their labels in the indexes. *(Kindly like the `query` method but the filter is based on the indices)\n",
    "* **value_counts()**: used to count how many values in a column\n",
    "\n",
    "And now how about we now calculate the number of iris classes we have? Let's see how it's done:"
   ]
  },
  {
   "cell_type": "code",
   "execution_count": 14,
   "metadata": {},
   "outputs": [
    {
     "name": "stdout",
     "output_type": "stream",
     "text": [
      "The number of classes in the dataset is: \n"
     ]
    },
    {
     "data": {
      "text/plain": [
       "3"
      ]
     },
     "execution_count": 14,
     "metadata": {},
     "output_type": "execute_result"
    }
   ],
   "source": [
    "# Example 2: the groupby method is used to group the dataframe by the class column\n",
    "print('The number of classes in the dataset is: ') \n",
    "len(df_iris.groupby('class_1'))"
   ]
  },
  {
   "cell_type": "code",
   "execution_count": 15,
   "metadata": {},
   "outputs": [
    {
     "data": {
      "text/plain": [
       "class_1\n",
       "Iris-setosa        50\n",
       "Iris-versicolor    50\n",
       "Iris-virginica     50\n",
       "Name: count, dtype: int64"
      ]
     },
     "execution_count": 15,
     "metadata": {},
     "output_type": "execute_result"
    }
   ],
   "source": [
    "# how much data there is of each class\n",
    "df_iris['class_1'].value_counts()"
   ]
  },
  {
   "cell_type": "markdown",
   "metadata": {},
   "source": [
    "Now we are going to give way to the answers of the missing questions, let's see what the mean of the petal length for the Iris-setosa class through the query method:"
   ]
  },
  {
   "cell_type": "code",
   "execution_count": 16,
   "metadata": {},
   "outputs": [
    {
     "name": "stdout",
     "output_type": "stream",
     "text": [
      "Average petal size of the Iris-setosa class:\n",
      "1.464\n"
     ]
    }
   ],
   "source": [
    "# Example 2: Average Petal Length for the class Iris-setosa\n",
    "df_iris_setosa = df_iris.query(\"class_1 == 'Iris-setosa'\")\n",
    "mean_long_petal = np.mean(df_iris_setosa['long_petal'])\n",
    "print('Average petal size of the Iris-setosa class:')\n",
    "print(mean_long_petal)"
   ]
  },
  {
   "cell_type": "markdown",
   "metadata": {},
   "source": [
    "And now we will use the **Method Chain** to calculate a computed value in a new column using the `assign` method, what does that mean about the Method Chain? on the same object in the same line of code, separating each one by a period `.`\n",
    "  An example is better than a thousand words:"
   ]
  },
  {
   "cell_type": "code",
   "execution_count": 17,
   "metadata": {},
   "outputs": [
    {
     "data": {
      "text/html": [
       "<div>\n",
       "<style scoped>\n",
       "    .dataframe tbody tr th:only-of-type {\n",
       "        vertical-align: middle;\n",
       "    }\n",
       "\n",
       "    .dataframe tbody tr th {\n",
       "        vertical-align: top;\n",
       "    }\n",
       "\n",
       "    .dataframe thead th {\n",
       "        text-align: right;\n",
       "    }\n",
       "</style>\n",
       "<table border=\"1\" class=\"dataframe\">\n",
       "  <thead>\n",
       "    <tr style=\"text-align: right;\">\n",
       "      <th></th>\n",
       "      <th>long_sepal</th>\n",
       "      <th>width_sepal</th>\n",
       "      <th>long_petal</th>\n",
       "      <th>width_petal</th>\n",
       "      <th>class_1</th>\n",
       "      <th>petal_proportion</th>\n",
       "    </tr>\n",
       "  </thead>\n",
       "  <tbody>\n",
       "    <tr>\n",
       "      <th>100</th>\n",
       "      <td>6.3</td>\n",
       "      <td>3.3</td>\n",
       "      <td>6.0</td>\n",
       "      <td>2.5</td>\n",
       "      <td>Iris-virginica</td>\n",
       "      <td>0.416667</td>\n",
       "    </tr>\n",
       "    <tr>\n",
       "      <th>101</th>\n",
       "      <td>5.8</td>\n",
       "      <td>2.7</td>\n",
       "      <td>5.1</td>\n",
       "      <td>1.9</td>\n",
       "      <td>Iris-virginica</td>\n",
       "      <td>0.372549</td>\n",
       "    </tr>\n",
       "    <tr>\n",
       "      <th>102</th>\n",
       "      <td>7.1</td>\n",
       "      <td>3.0</td>\n",
       "      <td>5.9</td>\n",
       "      <td>2.1</td>\n",
       "      <td>Iris-virginica</td>\n",
       "      <td>0.355932</td>\n",
       "    </tr>\n",
       "    <tr>\n",
       "      <th>103</th>\n",
       "      <td>6.3</td>\n",
       "      <td>2.9</td>\n",
       "      <td>5.6</td>\n",
       "      <td>1.8</td>\n",
       "      <td>Iris-virginica</td>\n",
       "      <td>0.321429</td>\n",
       "    </tr>\n",
       "    <tr>\n",
       "      <th>104</th>\n",
       "      <td>6.5</td>\n",
       "      <td>3.0</td>\n",
       "      <td>5.8</td>\n",
       "      <td>2.2</td>\n",
       "      <td>Iris-virginica</td>\n",
       "      <td>0.379310</td>\n",
       "    </tr>\n",
       "  </tbody>\n",
       "</table>\n",
       "</div>"
      ],
      "text/plain": [
       "     long_sepal  width_sepal  long_petal  width_petal         class_1   \n",
       "100         6.3          3.3         6.0          2.5  Iris-virginica  \\\n",
       "101         5.8          2.7         5.1          1.9  Iris-virginica   \n",
       "102         7.1          3.0         5.9          2.1  Iris-virginica   \n",
       "103         6.3          2.9         5.6          1.8  Iris-virginica   \n",
       "104         6.5          3.0         5.8          2.2  Iris-virginica   \n",
       "\n",
       "     petal_proportion  \n",
       "100          0.416667  \n",
       "101          0.372549  \n",
       "102          0.355932  \n",
       "103          0.321429  \n",
       "104          0.379310  "
      ]
     },
     "execution_count": 17,
     "metadata": {},
     "output_type": "execute_result"
    }
   ],
   "source": [
    "# Example 3: Computed ratio of petal size for class Iris-virginica\n",
    "# First the Iris-virginica class elements are filtered, then a new column is created where the width and the length of the petal are divided, finally only the first five elements are shown.\n",
    "df_iris.query('class_1 == \"Iris-virginica\"').assign(petal_proportion=lambda i: i['width_petal'] / i['long_petal']).head()"
   ]
  },
  {
   "cell_type": "markdown",
   "metadata": {},
   "source": [
    "And with this we managed to answer the questions previously proposed. So it's easy to manipulate a *DataFrame* while playing with its data."
   ]
  },
  {
   "cell_type": "markdown",
   "metadata": {},
   "source": [
    "## More about DataFrames\n",
    "\n",
    "\n",
    "To continue with the practice, it would be good to give a little review on the most basic and standard manipulation ideas of *DataFrames*. We will do this at the same time that we will find the *standard deviation on the length of the petals* of the class *Iris-versicolor*.\n",
    "\n",
    "This demo, basic manipulation process will be step by step as new columns are added, and for convenience we will work with a portion of the original dataset:"
   ]
  },
  {
   "cell_type": "code",
   "execution_count": 18,
   "metadata": {},
   "outputs": [
    {
     "name": "stdout",
     "output_type": "stream",
     "text": [
      "DevSt = 0.04682896000000002\n"
     ]
    },
    {
     "data": {
      "text/html": [
       "<div>\n",
       "<style scoped>\n",
       "    .dataframe tbody tr th:only-of-type {\n",
       "        vertical-align: middle;\n",
       "    }\n",
       "\n",
       "    .dataframe tbody tr th {\n",
       "        vertical-align: top;\n",
       "    }\n",
       "\n",
       "    .dataframe thead th {\n",
       "        text-align: right;\n",
       "    }\n",
       "</style>\n",
       "<table border=\"1\" class=\"dataframe\">\n",
       "  <thead>\n",
       "    <tr style=\"text-align: right;\">\n",
       "      <th></th>\n",
       "      <th>long_sepal</th>\n",
       "      <th>width_sepal</th>\n",
       "      <th>long_petal</th>\n",
       "      <th>width_petal</th>\n",
       "      <th>class_1</th>\n",
       "      <th>long_petal_minus_media</th>\n",
       "      <th>long_petal_minus_media_square</th>\n",
       "    </tr>\n",
       "  </thead>\n",
       "  <tbody>\n",
       "    <tr>\n",
       "      <th>50</th>\n",
       "      <td>7.0</td>\n",
       "      <td>3.2</td>\n",
       "      <td>4.7</td>\n",
       "      <td>1.4</td>\n",
       "      <td>Iris-versicolor</td>\n",
       "      <td>0.44</td>\n",
       "      <td>0.1936</td>\n",
       "    </tr>\n",
       "    <tr>\n",
       "      <th>51</th>\n",
       "      <td>6.4</td>\n",
       "      <td>3.2</td>\n",
       "      <td>4.5</td>\n",
       "      <td>1.5</td>\n",
       "      <td>Iris-versicolor</td>\n",
       "      <td>0.24</td>\n",
       "      <td>0.0576</td>\n",
       "    </tr>\n",
       "    <tr>\n",
       "      <th>52</th>\n",
       "      <td>6.9</td>\n",
       "      <td>3.1</td>\n",
       "      <td>4.9</td>\n",
       "      <td>1.5</td>\n",
       "      <td>Iris-versicolor</td>\n",
       "      <td>0.64</td>\n",
       "      <td>0.4096</td>\n",
       "    </tr>\n",
       "    <tr>\n",
       "      <th>53</th>\n",
       "      <td>5.5</td>\n",
       "      <td>2.3</td>\n",
       "      <td>4.0</td>\n",
       "      <td>1.3</td>\n",
       "      <td>Iris-versicolor</td>\n",
       "      <td>-0.26</td>\n",
       "      <td>0.0676</td>\n",
       "    </tr>\n",
       "    <tr>\n",
       "      <th>54</th>\n",
       "      <td>6.5</td>\n",
       "      <td>2.8</td>\n",
       "      <td>4.6</td>\n",
       "      <td>1.5</td>\n",
       "      <td>Iris-versicolor</td>\n",
       "      <td>0.34</td>\n",
       "      <td>0.1156</td>\n",
       "    </tr>\n",
       "    <tr>\n",
       "      <th>55</th>\n",
       "      <td>5.7</td>\n",
       "      <td>2.8</td>\n",
       "      <td>4.5</td>\n",
       "      <td>1.3</td>\n",
       "      <td>Iris-versicolor</td>\n",
       "      <td>0.24</td>\n",
       "      <td>0.0576</td>\n",
       "    </tr>\n",
       "    <tr>\n",
       "      <th>56</th>\n",
       "      <td>6.3</td>\n",
       "      <td>3.3</td>\n",
       "      <td>4.7</td>\n",
       "      <td>1.6</td>\n",
       "      <td>Iris-versicolor</td>\n",
       "      <td>0.44</td>\n",
       "      <td>0.1936</td>\n",
       "    </tr>\n",
       "    <tr>\n",
       "      <th>57</th>\n",
       "      <td>4.9</td>\n",
       "      <td>2.4</td>\n",
       "      <td>3.3</td>\n",
       "      <td>1.0</td>\n",
       "      <td>Iris-versicolor</td>\n",
       "      <td>-0.96</td>\n",
       "      <td>0.9216</td>\n",
       "    </tr>\n",
       "    <tr>\n",
       "      <th>58</th>\n",
       "      <td>6.6</td>\n",
       "      <td>2.9</td>\n",
       "      <td>4.6</td>\n",
       "      <td>1.3</td>\n",
       "      <td>Iris-versicolor</td>\n",
       "      <td>0.34</td>\n",
       "      <td>0.1156</td>\n",
       "    </tr>\n",
       "    <tr>\n",
       "      <th>59</th>\n",
       "      <td>5.2</td>\n",
       "      <td>2.7</td>\n",
       "      <td>3.9</td>\n",
       "      <td>1.4</td>\n",
       "      <td>Iris-versicolor</td>\n",
       "      <td>-0.36</td>\n",
       "      <td>0.1296</td>\n",
       "    </tr>\n",
       "    <tr>\n",
       "      <th>60</th>\n",
       "      <td>5.0</td>\n",
       "      <td>2.0</td>\n",
       "      <td>3.5</td>\n",
       "      <td>1.0</td>\n",
       "      <td>Iris-versicolor</td>\n",
       "      <td>-0.76</td>\n",
       "      <td>0.5776</td>\n",
       "    </tr>\n",
       "    <tr>\n",
       "      <th>61</th>\n",
       "      <td>5.9</td>\n",
       "      <td>3.0</td>\n",
       "      <td>4.2</td>\n",
       "      <td>1.5</td>\n",
       "      <td>Iris-versicolor</td>\n",
       "      <td>-0.06</td>\n",
       "      <td>0.0036</td>\n",
       "    </tr>\n",
       "    <tr>\n",
       "      <th>62</th>\n",
       "      <td>6.0</td>\n",
       "      <td>2.2</td>\n",
       "      <td>4.0</td>\n",
       "      <td>1.0</td>\n",
       "      <td>Iris-versicolor</td>\n",
       "      <td>-0.26</td>\n",
       "      <td>0.0676</td>\n",
       "    </tr>\n",
       "    <tr>\n",
       "      <th>63</th>\n",
       "      <td>6.1</td>\n",
       "      <td>2.9</td>\n",
       "      <td>4.7</td>\n",
       "      <td>1.4</td>\n",
       "      <td>Iris-versicolor</td>\n",
       "      <td>0.44</td>\n",
       "      <td>0.1936</td>\n",
       "    </tr>\n",
       "    <tr>\n",
       "      <th>64</th>\n",
       "      <td>5.6</td>\n",
       "      <td>2.9</td>\n",
       "      <td>3.6</td>\n",
       "      <td>1.3</td>\n",
       "      <td>Iris-versicolor</td>\n",
       "      <td>-0.66</td>\n",
       "      <td>0.4356</td>\n",
       "    </tr>\n",
       "    <tr>\n",
       "      <th>65</th>\n",
       "      <td>6.7</td>\n",
       "      <td>3.1</td>\n",
       "      <td>4.4</td>\n",
       "      <td>1.4</td>\n",
       "      <td>Iris-versicolor</td>\n",
       "      <td>0.14</td>\n",
       "      <td>0.0196</td>\n",
       "    </tr>\n",
       "    <tr>\n",
       "      <th>66</th>\n",
       "      <td>5.6</td>\n",
       "      <td>3.0</td>\n",
       "      <td>4.5</td>\n",
       "      <td>1.5</td>\n",
       "      <td>Iris-versicolor</td>\n",
       "      <td>0.24</td>\n",
       "      <td>0.0576</td>\n",
       "    </tr>\n",
       "    <tr>\n",
       "      <th>67</th>\n",
       "      <td>5.8</td>\n",
       "      <td>2.7</td>\n",
       "      <td>4.1</td>\n",
       "      <td>1.0</td>\n",
       "      <td>Iris-versicolor</td>\n",
       "      <td>-0.16</td>\n",
       "      <td>0.0256</td>\n",
       "    </tr>\n",
       "    <tr>\n",
       "      <th>68</th>\n",
       "      <td>6.2</td>\n",
       "      <td>2.2</td>\n",
       "      <td>4.5</td>\n",
       "      <td>1.5</td>\n",
       "      <td>Iris-versicolor</td>\n",
       "      <td>0.24</td>\n",
       "      <td>0.0576</td>\n",
       "    </tr>\n",
       "    <tr>\n",
       "      <th>69</th>\n",
       "      <td>5.6</td>\n",
       "      <td>2.5</td>\n",
       "      <td>3.9</td>\n",
       "      <td>1.1</td>\n",
       "      <td>Iris-versicolor</td>\n",
       "      <td>-0.36</td>\n",
       "      <td>0.1296</td>\n",
       "    </tr>\n",
       "    <tr>\n",
       "      <th>70</th>\n",
       "      <td>5.9</td>\n",
       "      <td>3.2</td>\n",
       "      <td>4.8</td>\n",
       "      <td>1.8</td>\n",
       "      <td>Iris-versicolor</td>\n",
       "      <td>0.54</td>\n",
       "      <td>0.2916</td>\n",
       "    </tr>\n",
       "    <tr>\n",
       "      <th>71</th>\n",
       "      <td>6.1</td>\n",
       "      <td>2.8</td>\n",
       "      <td>4.0</td>\n",
       "      <td>1.3</td>\n",
       "      <td>Iris-versicolor</td>\n",
       "      <td>-0.26</td>\n",
       "      <td>0.0676</td>\n",
       "    </tr>\n",
       "    <tr>\n",
       "      <th>72</th>\n",
       "      <td>6.3</td>\n",
       "      <td>2.5</td>\n",
       "      <td>4.9</td>\n",
       "      <td>1.5</td>\n",
       "      <td>Iris-versicolor</td>\n",
       "      <td>0.64</td>\n",
       "      <td>0.4096</td>\n",
       "    </tr>\n",
       "    <tr>\n",
       "      <th>73</th>\n",
       "      <td>6.1</td>\n",
       "      <td>2.8</td>\n",
       "      <td>4.7</td>\n",
       "      <td>1.2</td>\n",
       "      <td>Iris-versicolor</td>\n",
       "      <td>0.44</td>\n",
       "      <td>0.1936</td>\n",
       "    </tr>\n",
       "    <tr>\n",
       "      <th>74</th>\n",
       "      <td>6.4</td>\n",
       "      <td>2.9</td>\n",
       "      <td>4.3</td>\n",
       "      <td>1.3</td>\n",
       "      <td>Iris-versicolor</td>\n",
       "      <td>0.04</td>\n",
       "      <td>0.0016</td>\n",
       "    </tr>\n",
       "    <tr>\n",
       "      <th>75</th>\n",
       "      <td>6.6</td>\n",
       "      <td>3.0</td>\n",
       "      <td>4.4</td>\n",
       "      <td>1.4</td>\n",
       "      <td>Iris-versicolor</td>\n",
       "      <td>0.14</td>\n",
       "      <td>0.0196</td>\n",
       "    </tr>\n",
       "    <tr>\n",
       "      <th>76</th>\n",
       "      <td>6.8</td>\n",
       "      <td>2.8</td>\n",
       "      <td>4.8</td>\n",
       "      <td>1.4</td>\n",
       "      <td>Iris-versicolor</td>\n",
       "      <td>0.54</td>\n",
       "      <td>0.2916</td>\n",
       "    </tr>\n",
       "    <tr>\n",
       "      <th>77</th>\n",
       "      <td>6.7</td>\n",
       "      <td>3.0</td>\n",
       "      <td>5.0</td>\n",
       "      <td>1.7</td>\n",
       "      <td>Iris-versicolor</td>\n",
       "      <td>0.74</td>\n",
       "      <td>0.5476</td>\n",
       "    </tr>\n",
       "    <tr>\n",
       "      <th>78</th>\n",
       "      <td>6.0</td>\n",
       "      <td>2.9</td>\n",
       "      <td>4.5</td>\n",
       "      <td>1.5</td>\n",
       "      <td>Iris-versicolor</td>\n",
       "      <td>0.24</td>\n",
       "      <td>0.0576</td>\n",
       "    </tr>\n",
       "    <tr>\n",
       "      <th>79</th>\n",
       "      <td>5.7</td>\n",
       "      <td>2.6</td>\n",
       "      <td>3.5</td>\n",
       "      <td>1.0</td>\n",
       "      <td>Iris-versicolor</td>\n",
       "      <td>-0.76</td>\n",
       "      <td>0.5776</td>\n",
       "    </tr>\n",
       "    <tr>\n",
       "      <th>80</th>\n",
       "      <td>5.5</td>\n",
       "      <td>2.4</td>\n",
       "      <td>3.8</td>\n",
       "      <td>1.1</td>\n",
       "      <td>Iris-versicolor</td>\n",
       "      <td>-0.46</td>\n",
       "      <td>0.2116</td>\n",
       "    </tr>\n",
       "    <tr>\n",
       "      <th>81</th>\n",
       "      <td>5.5</td>\n",
       "      <td>2.4</td>\n",
       "      <td>3.7</td>\n",
       "      <td>1.0</td>\n",
       "      <td>Iris-versicolor</td>\n",
       "      <td>-0.56</td>\n",
       "      <td>0.3136</td>\n",
       "    </tr>\n",
       "    <tr>\n",
       "      <th>82</th>\n",
       "      <td>5.8</td>\n",
       "      <td>2.7</td>\n",
       "      <td>3.9</td>\n",
       "      <td>1.2</td>\n",
       "      <td>Iris-versicolor</td>\n",
       "      <td>-0.36</td>\n",
       "      <td>0.1296</td>\n",
       "    </tr>\n",
       "    <tr>\n",
       "      <th>83</th>\n",
       "      <td>6.0</td>\n",
       "      <td>2.7</td>\n",
       "      <td>5.1</td>\n",
       "      <td>1.6</td>\n",
       "      <td>Iris-versicolor</td>\n",
       "      <td>0.84</td>\n",
       "      <td>0.7056</td>\n",
       "    </tr>\n",
       "    <tr>\n",
       "      <th>84</th>\n",
       "      <td>5.4</td>\n",
       "      <td>3.0</td>\n",
       "      <td>4.5</td>\n",
       "      <td>1.5</td>\n",
       "      <td>Iris-versicolor</td>\n",
       "      <td>0.24</td>\n",
       "      <td>0.0576</td>\n",
       "    </tr>\n",
       "    <tr>\n",
       "      <th>85</th>\n",
       "      <td>6.0</td>\n",
       "      <td>3.4</td>\n",
       "      <td>4.5</td>\n",
       "      <td>1.6</td>\n",
       "      <td>Iris-versicolor</td>\n",
       "      <td>0.24</td>\n",
       "      <td>0.0576</td>\n",
       "    </tr>\n",
       "    <tr>\n",
       "      <th>86</th>\n",
       "      <td>6.7</td>\n",
       "      <td>3.1</td>\n",
       "      <td>4.7</td>\n",
       "      <td>1.5</td>\n",
       "      <td>Iris-versicolor</td>\n",
       "      <td>0.44</td>\n",
       "      <td>0.1936</td>\n",
       "    </tr>\n",
       "    <tr>\n",
       "      <th>87</th>\n",
       "      <td>6.3</td>\n",
       "      <td>2.3</td>\n",
       "      <td>4.4</td>\n",
       "      <td>1.3</td>\n",
       "      <td>Iris-versicolor</td>\n",
       "      <td>0.14</td>\n",
       "      <td>0.0196</td>\n",
       "    </tr>\n",
       "    <tr>\n",
       "      <th>88</th>\n",
       "      <td>5.6</td>\n",
       "      <td>3.0</td>\n",
       "      <td>4.1</td>\n",
       "      <td>1.3</td>\n",
       "      <td>Iris-versicolor</td>\n",
       "      <td>-0.16</td>\n",
       "      <td>0.0256</td>\n",
       "    </tr>\n",
       "    <tr>\n",
       "      <th>89</th>\n",
       "      <td>5.5</td>\n",
       "      <td>2.5</td>\n",
       "      <td>4.0</td>\n",
       "      <td>1.3</td>\n",
       "      <td>Iris-versicolor</td>\n",
       "      <td>-0.26</td>\n",
       "      <td>0.0676</td>\n",
       "    </tr>\n",
       "    <tr>\n",
       "      <th>90</th>\n",
       "      <td>5.5</td>\n",
       "      <td>2.6</td>\n",
       "      <td>4.4</td>\n",
       "      <td>1.2</td>\n",
       "      <td>Iris-versicolor</td>\n",
       "      <td>0.14</td>\n",
       "      <td>0.0196</td>\n",
       "    </tr>\n",
       "    <tr>\n",
       "      <th>91</th>\n",
       "      <td>6.1</td>\n",
       "      <td>3.0</td>\n",
       "      <td>4.6</td>\n",
       "      <td>1.4</td>\n",
       "      <td>Iris-versicolor</td>\n",
       "      <td>0.34</td>\n",
       "      <td>0.1156</td>\n",
       "    </tr>\n",
       "    <tr>\n",
       "      <th>92</th>\n",
       "      <td>5.8</td>\n",
       "      <td>2.6</td>\n",
       "      <td>4.0</td>\n",
       "      <td>1.2</td>\n",
       "      <td>Iris-versicolor</td>\n",
       "      <td>-0.26</td>\n",
       "      <td>0.0676</td>\n",
       "    </tr>\n",
       "    <tr>\n",
       "      <th>93</th>\n",
       "      <td>5.0</td>\n",
       "      <td>2.3</td>\n",
       "      <td>3.3</td>\n",
       "      <td>1.0</td>\n",
       "      <td>Iris-versicolor</td>\n",
       "      <td>-0.96</td>\n",
       "      <td>0.9216</td>\n",
       "    </tr>\n",
       "    <tr>\n",
       "      <th>94</th>\n",
       "      <td>5.6</td>\n",
       "      <td>2.7</td>\n",
       "      <td>4.2</td>\n",
       "      <td>1.3</td>\n",
       "      <td>Iris-versicolor</td>\n",
       "      <td>-0.06</td>\n",
       "      <td>0.0036</td>\n",
       "    </tr>\n",
       "    <tr>\n",
       "      <th>95</th>\n",
       "      <td>5.7</td>\n",
       "      <td>3.0</td>\n",
       "      <td>4.2</td>\n",
       "      <td>1.2</td>\n",
       "      <td>Iris-versicolor</td>\n",
       "      <td>-0.06</td>\n",
       "      <td>0.0036</td>\n",
       "    </tr>\n",
       "    <tr>\n",
       "      <th>96</th>\n",
       "      <td>5.7</td>\n",
       "      <td>2.9</td>\n",
       "      <td>4.2</td>\n",
       "      <td>1.3</td>\n",
       "      <td>Iris-versicolor</td>\n",
       "      <td>-0.06</td>\n",
       "      <td>0.0036</td>\n",
       "    </tr>\n",
       "    <tr>\n",
       "      <th>97</th>\n",
       "      <td>6.2</td>\n",
       "      <td>2.9</td>\n",
       "      <td>4.3</td>\n",
       "      <td>1.3</td>\n",
       "      <td>Iris-versicolor</td>\n",
       "      <td>0.04</td>\n",
       "      <td>0.0016</td>\n",
       "    </tr>\n",
       "    <tr>\n",
       "      <th>98</th>\n",
       "      <td>5.1</td>\n",
       "      <td>2.5</td>\n",
       "      <td>3.0</td>\n",
       "      <td>1.1</td>\n",
       "      <td>Iris-versicolor</td>\n",
       "      <td>-1.26</td>\n",
       "      <td>1.5876</td>\n",
       "    </tr>\n",
       "    <tr>\n",
       "      <th>99</th>\n",
       "      <td>5.7</td>\n",
       "      <td>2.8</td>\n",
       "      <td>4.1</td>\n",
       "      <td>1.3</td>\n",
       "      <td>Iris-versicolor</td>\n",
       "      <td>-0.16</td>\n",
       "      <td>0.0256</td>\n",
       "    </tr>\n",
       "  </tbody>\n",
       "</table>\n",
       "</div>"
      ],
      "text/plain": [
       "    long_sepal  width_sepal  long_petal  width_petal          class_1   \n",
       "50         7.0          3.2         4.7          1.4  Iris-versicolor  \\\n",
       "51         6.4          3.2         4.5          1.5  Iris-versicolor   \n",
       "52         6.9          3.1         4.9          1.5  Iris-versicolor   \n",
       "53         5.5          2.3         4.0          1.3  Iris-versicolor   \n",
       "54         6.5          2.8         4.6          1.5  Iris-versicolor   \n",
       "55         5.7          2.8         4.5          1.3  Iris-versicolor   \n",
       "56         6.3          3.3         4.7          1.6  Iris-versicolor   \n",
       "57         4.9          2.4         3.3          1.0  Iris-versicolor   \n",
       "58         6.6          2.9         4.6          1.3  Iris-versicolor   \n",
       "59         5.2          2.7         3.9          1.4  Iris-versicolor   \n",
       "60         5.0          2.0         3.5          1.0  Iris-versicolor   \n",
       "61         5.9          3.0         4.2          1.5  Iris-versicolor   \n",
       "62         6.0          2.2         4.0          1.0  Iris-versicolor   \n",
       "63         6.1          2.9         4.7          1.4  Iris-versicolor   \n",
       "64         5.6          2.9         3.6          1.3  Iris-versicolor   \n",
       "65         6.7          3.1         4.4          1.4  Iris-versicolor   \n",
       "66         5.6          3.0         4.5          1.5  Iris-versicolor   \n",
       "67         5.8          2.7         4.1          1.0  Iris-versicolor   \n",
       "68         6.2          2.2         4.5          1.5  Iris-versicolor   \n",
       "69         5.6          2.5         3.9          1.1  Iris-versicolor   \n",
       "70         5.9          3.2         4.8          1.8  Iris-versicolor   \n",
       "71         6.1          2.8         4.0          1.3  Iris-versicolor   \n",
       "72         6.3          2.5         4.9          1.5  Iris-versicolor   \n",
       "73         6.1          2.8         4.7          1.2  Iris-versicolor   \n",
       "74         6.4          2.9         4.3          1.3  Iris-versicolor   \n",
       "75         6.6          3.0         4.4          1.4  Iris-versicolor   \n",
       "76         6.8          2.8         4.8          1.4  Iris-versicolor   \n",
       "77         6.7          3.0         5.0          1.7  Iris-versicolor   \n",
       "78         6.0          2.9         4.5          1.5  Iris-versicolor   \n",
       "79         5.7          2.6         3.5          1.0  Iris-versicolor   \n",
       "80         5.5          2.4         3.8          1.1  Iris-versicolor   \n",
       "81         5.5          2.4         3.7          1.0  Iris-versicolor   \n",
       "82         5.8          2.7         3.9          1.2  Iris-versicolor   \n",
       "83         6.0          2.7         5.1          1.6  Iris-versicolor   \n",
       "84         5.4          3.0         4.5          1.5  Iris-versicolor   \n",
       "85         6.0          3.4         4.5          1.6  Iris-versicolor   \n",
       "86         6.7          3.1         4.7          1.5  Iris-versicolor   \n",
       "87         6.3          2.3         4.4          1.3  Iris-versicolor   \n",
       "88         5.6          3.0         4.1          1.3  Iris-versicolor   \n",
       "89         5.5          2.5         4.0          1.3  Iris-versicolor   \n",
       "90         5.5          2.6         4.4          1.2  Iris-versicolor   \n",
       "91         6.1          3.0         4.6          1.4  Iris-versicolor   \n",
       "92         5.8          2.6         4.0          1.2  Iris-versicolor   \n",
       "93         5.0          2.3         3.3          1.0  Iris-versicolor   \n",
       "94         5.6          2.7         4.2          1.3  Iris-versicolor   \n",
       "95         5.7          3.0         4.2          1.2  Iris-versicolor   \n",
       "96         5.7          2.9         4.2          1.3  Iris-versicolor   \n",
       "97         6.2          2.9         4.3          1.3  Iris-versicolor   \n",
       "98         5.1          2.5         3.0          1.1  Iris-versicolor   \n",
       "99         5.7          2.8         4.1          1.3  Iris-versicolor   \n",
       "\n",
       "    long_petal_minus_media  long_petal_minus_media_square  \n",
       "50                    0.44                         0.1936  \n",
       "51                    0.24                         0.0576  \n",
       "52                    0.64                         0.4096  \n",
       "53                   -0.26                         0.0676  \n",
       "54                    0.34                         0.1156  \n",
       "55                    0.24                         0.0576  \n",
       "56                    0.44                         0.1936  \n",
       "57                   -0.96                         0.9216  \n",
       "58                    0.34                         0.1156  \n",
       "59                   -0.36                         0.1296  \n",
       "60                   -0.76                         0.5776  \n",
       "61                   -0.06                         0.0036  \n",
       "62                   -0.26                         0.0676  \n",
       "63                    0.44                         0.1936  \n",
       "64                   -0.66                         0.4356  \n",
       "65                    0.14                         0.0196  \n",
       "66                    0.24                         0.0576  \n",
       "67                   -0.16                         0.0256  \n",
       "68                    0.24                         0.0576  \n",
       "69                   -0.36                         0.1296  \n",
       "70                    0.54                         0.2916  \n",
       "71                   -0.26                         0.0676  \n",
       "72                    0.64                         0.4096  \n",
       "73                    0.44                         0.1936  \n",
       "74                    0.04                         0.0016  \n",
       "75                    0.14                         0.0196  \n",
       "76                    0.54                         0.2916  \n",
       "77                    0.74                         0.5476  \n",
       "78                    0.24                         0.0576  \n",
       "79                   -0.76                         0.5776  \n",
       "80                   -0.46                         0.2116  \n",
       "81                   -0.56                         0.3136  \n",
       "82                   -0.36                         0.1296  \n",
       "83                    0.84                         0.7056  \n",
       "84                    0.24                         0.0576  \n",
       "85                    0.24                         0.0576  \n",
       "86                    0.44                         0.1936  \n",
       "87                    0.14                         0.0196  \n",
       "88                   -0.16                         0.0256  \n",
       "89                   -0.26                         0.0676  \n",
       "90                    0.14                         0.0196  \n",
       "91                    0.34                         0.1156  \n",
       "92                   -0.26                         0.0676  \n",
       "93                   -0.96                         0.9216  \n",
       "94                   -0.06                         0.0036  \n",
       "95                   -0.06                         0.0036  \n",
       "96                   -0.06                         0.0036  \n",
       "97                    0.04                         0.0016  \n",
       "98                   -1.26                         1.5876  \n",
       "99                   -0.16                         0.0256  "
      ]
     },
     "execution_count": 18,
     "metadata": {},
     "output_type": "execute_result"
    }
   ],
   "source": [
    "# Example 4: Calculate the standard deviation of the petal length for the Iris Versicolor class\n",
    "df_iris_versicolor = df_iris.query('class_1 == \"Iris-versicolor\"').copy()\n",
    "\n",
    "# Calculate the mean length of the petal\n",
    "media_long_petal = np.mean(df_iris_versicolor['long_petal'])\n",
    "\n",
    "# A column is created with the subtraction of the average of each length of the petal\n",
    "df_iris_versicolor['long_petal_minus_media'] = df_iris_versicolor['long_petal'] - media_long_petal\n",
    "\n",
    "# Create a column with the difference above the square\n",
    "df_iris_versicolor['long_petal_minus_media_square'] = (df_iris_versicolor['long_petal'] - media_long_petal)**2\n",
    "\n",
    "# Calculate the mean squared\n",
    "media_long_petal_error = np.mean(df_iris_versicolor['long_petal_minus_media_square'])\n",
    "\n",
    "# Calculate standard deviation\n",
    "print(f'DevSt = {np.square(media_long_petal_error)}')\n",
    "\n",
    "# Print the dataset\n",
    "df_iris_versicolor\n"
   ]
  },
  {
   "cell_type": "markdown",
   "metadata": {},
   "source": [
    "As we observed, the calculation was quite overwhelming and that is why the previously exposed methods somehow allow a lot to be achieved in so few lines of code.\n",
    "For example, we can do the same thing much more efficiently with the `np.std()` method. Taking the column 'long_petalo' as a parameter"
   ]
  },
  {
   "cell_type": "code",
   "execution_count": 19,
   "metadata": {},
   "outputs": [
    {
     "name": "stdout",
     "output_type": "stream",
     "text": [
      "DevSt = 0.4651881339845203\n"
     ]
    }
   ],
   "source": [
    "devstd_long_petal = np.std(df_iris_versicolor['long_petal'])\n",
    "print(f'DevSt = {devstd_long_petal}')"
   ]
  },
  {
   "cell_type": "markdown",
   "metadata": {},
   "source": [
    "# Practice 1: Acquire data from ChEMBL\n",
    "\n",
    "## Concepts to work\n",
    "**[Uniprot](https://www.uniprot.org/):** It is a database that seeks to provide the scientific community with a comprehensive, high-quality and freely accessible resource of protein sequences and functional information<sup> **1** </sup>.\n",
    "\n",
    "**[ChEMBL](https://www.ebi.ac.uk/chembl/):** It is a database that contains bioactive molecules, it gathers chemical, bioactivity and genomic data<sup> **2** </sup>.\n",
    "\n",
    "**Half-maximal inhibitory concentration (IC50):** Expresses the amount of drug necessary to inhibit a biological process by half the uninhibited value, it is the most widely used measure of drug efficacy or potency<sup> **3** </sup>.\n",
    "\n",
    "**pIC50:** Is the negative logarithm to the base ten of the IC50, when the units of are **molars (M)**. It is used to facilitate the comparison between different IC50. Also, it is important to know that the higher the pIC50 the drug has a greater efficacy or greater potential<sup> **3** </sup>.\n",
    "\n",
    "**Half maximal effective concentration (EC50):** It is the effective concentration to produce 50% of the maximum response, it is used to compare the potencies of the drugs. Also, it is important to know that the lower the EC50, the more potent the drug will be. The negative logarithm in base ten **(pEC50)** is also calculated for this request to facilitate its understanding<sup> **4** </sup>.\n",
    "\n",
    "**Inhibitor constant (Ki):** It is the concentration required to produce half of the maximum inhibition, it is useful to describe the binding affinity of a molecule to a receptor.\n",
    "\n",
    "**SMILES (Simplified Molecular-Input Line-Entry System):** This is a line notation for describing chemical structures using short ASCII strings<sup> **5** </sup>."
   ]
  },
  {
   "cell_type": "markdown",
   "metadata": {},
   "source": [
    "## Problem Statement\n",
    "For an investigation we want to identify the compounds that act with a specific target, the glycogen synthase kinase-3 beta protein, which acts as a negative regulator in the hormonal control of glucose homeostasis, Wnt signaling and regulation of transcription factors and microtubules .\n",
    "\n",
    "In this practice we are going to explore and learn about the bioactive compounds of the protein, their structures and some physicochemical characteristics.\n",
    "\n",
    "For which, we will use the information provided by the **ChEMBL** database, which allows us to filter and download the known bioactivity data of the compounds that interact with our target of interest. Later, we will work the data in a ` DataFrame `, which will allow us to easily organize, visualize and manipulate it.\n",
    "\n",
    "The first thing to do is connect to **ChEMBL**, using the **webresource client** library."
   ]
  },
  {
   "cell_type": "markdown",
   "metadata": {},
   "source": [
    "## Connect to the ChEMBL database"
   ]
  },
  {
   "cell_type": "code",
   "execution_count": 20,
   "metadata": {},
   "outputs": [],
   "source": [
    "from chembl_webresource_client.new_client import new_client # The webresource client library is imported that allows connecting to ChEMBL\n",
    "import pandas as pd\n",
    "import math\n",
    "from rdkit.Chem import PandasTools"
   ]
  },
  {
   "cell_type": "markdown",
   "metadata": {},
   "source": [
    "Must be created for API access"
   ]
  },
  {
   "cell_type": "code",
   "execution_count": 21,
   "metadata": {},
   "outputs": [],
   "source": [
    "targets = new_client.target\n",
    "compounds = new_client.molecule\n",
    "bioactivities = new_client.activity"
   ]
  },
  {
   "cell_type": "markdown",
   "metadata": {},
   "source": [
    "## Target data\n",
    "Then, we must look for the ID of the target of interest in the Uniprot database, which in this case is Glycogen synthase kinase-3 beta, ID: [P49841](https://www.uniprot.org/uniprot/P49841)."
   ]
  },
  {
   "cell_type": "code",
   "execution_count": 22,
   "metadata": {},
   "outputs": [
    {
     "data": {
      "text/html": [
       "<div>\n",
       "<style scoped>\n",
       "    .dataframe tbody tr th:only-of-type {\n",
       "        vertical-align: middle;\n",
       "    }\n",
       "\n",
       "    .dataframe tbody tr th {\n",
       "        vertical-align: top;\n",
       "    }\n",
       "\n",
       "    .dataframe thead th {\n",
       "        text-align: right;\n",
       "    }\n",
       "</style>\n",
       "<table border=\"1\" class=\"dataframe\">\n",
       "  <thead>\n",
       "    <tr style=\"text-align: right;\">\n",
       "      <th></th>\n",
       "      <th>organism</th>\n",
       "      <th>pref_name</th>\n",
       "      <th>target_chembl_id</th>\n",
       "      <th>target_type</th>\n",
       "    </tr>\n",
       "  </thead>\n",
       "  <tbody>\n",
       "    <tr>\n",
       "      <th>0</th>\n",
       "      <td>Homo sapiens</td>\n",
       "      <td>Glycogen synthase kinase-3 beta</td>\n",
       "      <td>CHEMBL262</td>\n",
       "      <td>SINGLE PROTEIN</td>\n",
       "    </tr>\n",
       "    <tr>\n",
       "      <th>1</th>\n",
       "      <td>Homo sapiens</td>\n",
       "      <td>Glycogen synthase kinase-3 beta</td>\n",
       "      <td>CHEMBL262</td>\n",
       "      <td>SINGLE PROTEIN</td>\n",
       "    </tr>\n",
       "    <tr>\n",
       "      <th>2</th>\n",
       "      <td>Homo sapiens</td>\n",
       "      <td>Glycogen synthase kinase-3</td>\n",
       "      <td>CHEMBL2095188</td>\n",
       "      <td>PROTEIN FAMILY</td>\n",
       "    </tr>\n",
       "    <tr>\n",
       "      <th>3</th>\n",
       "      <td>Homo sapiens</td>\n",
       "      <td>Axin-1/Glycogen synthase kinase-3 beta</td>\n",
       "      <td>CHEMBL3883309</td>\n",
       "      <td>PROTEIN-PROTEIN INTERACTION</td>\n",
       "    </tr>\n",
       "  </tbody>\n",
       "</table>\n",
       "</div>"
      ],
      "text/plain": [
       "       organism                               pref_name target_chembl_id   \n",
       "0  Homo sapiens         Glycogen synthase kinase-3 beta        CHEMBL262  \\\n",
       "1  Homo sapiens         Glycogen synthase kinase-3 beta        CHEMBL262   \n",
       "2  Homo sapiens              Glycogen synthase kinase-3    CHEMBL2095188   \n",
       "3  Homo sapiens  Axin-1/Glycogen synthase kinase-3 beta    CHEMBL3883309   \n",
       "\n",
       "                   target_type  \n",
       "0               SINGLE PROTEIN  \n",
       "1               SINGLE PROTEIN  \n",
       "2               PROTEIN FAMILY  \n",
       "3  PROTEIN-PROTEIN INTERACTION  "
      ]
     },
     "execution_count": 22,
     "metadata": {},
     "output_type": "execute_result"
    }
   ],
   "source": [
    "uniprot_id = 'P49841'\n",
    "# It takes only some information from ChEMBL that is of interest\n",
    "target_P49841 = targets.get(target_components__accession=uniprot_id) \\\n",
    "                     .only('target_chembl_id', 'organism', 'pref_name', 'target_type')\n",
    "pd.DataFrame.from_records(target_P49841)"
   ]
  },
  {
   "cell_type": "code",
   "execution_count": 23,
   "metadata": {},
   "outputs": [
    {
     "name": "stdout",
     "output_type": "stream",
     "text": [
      "The target of interest is: {'organism': 'Homo sapiens', 'pref_name': 'Glycogen synthase kinase-3 beta', 'target_chembl_id': 'CHEMBL262', 'target_type': 'SINGLE PROTEIN'}\n"
     ]
    }
   ],
   "source": [
    "# Select the target of interest\n",
    "target = target_P49841[0]\n",
    "print(f'The target of interest is: {str(target)}')"
   ]
  },
  {
   "cell_type": "code",
   "execution_count": 24,
   "metadata": {},
   "outputs": [
    {
     "name": "stdout",
     "output_type": "stream",
     "text": [
      "The ChEMBL-ID of interest is: CHEMBL262\n"
     ]
    }
   ],
   "source": [
    "# Save the ChEMBL-ID\n",
    "chembl_id = target['target_chembl_id']\n",
    "print(f'The ChEMBL-ID of interest is: {chembl_id}')"
   ]
  },
  {
   "cell_type": "markdown",
   "metadata": {},
   "source": [
    "## Bioactivity data\n",
    "\n",
    "Now we consult the bioactivity data that is of interest. The steps to follow are:\n",
    "1. Download and filter bioactivities for the target\n",
    "     Bioactivity data will be filtered as follows:\n",
    "         * Type of bioactivity: IC50, EC50, Ki\n",
    "         * Relationship: \"=\"\n",
    "2. Convert the downloaded data into a data frame:\n",
    "     The columns of interest are: `molecule_chembl_id`, `type`, `relation`, `pchembl_value`"
   ]
  },
  {
   "cell_type": "code",
   "execution_count": 25,
   "metadata": {},
   "outputs": [
    {
     "data": {
      "text/html": [
       "<div>\n",
       "<style scoped>\n",
       "    .dataframe tbody tr th:only-of-type {\n",
       "        vertical-align: middle;\n",
       "    }\n",
       "\n",
       "    .dataframe tbody tr th {\n",
       "        vertical-align: top;\n",
       "    }\n",
       "\n",
       "    .dataframe thead th {\n",
       "        text-align: right;\n",
       "    }\n",
       "</style>\n",
       "<table border=\"1\" class=\"dataframe\">\n",
       "  <thead>\n",
       "    <tr style=\"text-align: right;\">\n",
       "      <th></th>\n",
       "      <th>molecule_chembl_id</th>\n",
       "      <th>type</th>\n",
       "      <th>relation</th>\n",
       "      <th>value</th>\n",
       "      <th>units</th>\n",
       "      <th>pchembl_value</th>\n",
       "    </tr>\n",
       "  </thead>\n",
       "  <tbody>\n",
       "    <tr>\n",
       "      <th>0</th>\n",
       "      <td>CHEMBL322970</td>\n",
       "      <td>IC50</td>\n",
       "      <td>=</td>\n",
       "      <td>0.38</td>\n",
       "      <td>uM</td>\n",
       "      <td>6.42</td>\n",
       "    </tr>\n",
       "    <tr>\n",
       "      <th>1</th>\n",
       "      <td>CHEMBL322970</td>\n",
       "      <td>EC50</td>\n",
       "      <td>=</td>\n",
       "      <td>45.6</td>\n",
       "      <td>uM</td>\n",
       "      <td>4.34</td>\n",
       "    </tr>\n",
       "    <tr>\n",
       "      <th>2</th>\n",
       "      <td>CHEMBL322970</td>\n",
       "      <td>EC50</td>\n",
       "      <td>=</td>\n",
       "      <td>30.62</td>\n",
       "      <td>uM</td>\n",
       "      <td>4.51</td>\n",
       "    </tr>\n",
       "    <tr>\n",
       "      <th>3</th>\n",
       "      <td>CHEMBL322970</td>\n",
       "      <td>Fold stimulation</td>\n",
       "      <td>=</td>\n",
       "      <td>1.3</td>\n",
       "      <td>None</td>\n",
       "      <td>None</td>\n",
       "    </tr>\n",
       "    <tr>\n",
       "      <th>4</th>\n",
       "      <td>CHEMBL112564</td>\n",
       "      <td>IC50</td>\n",
       "      <td>=</td>\n",
       "      <td>6.92</td>\n",
       "      <td>uM</td>\n",
       "      <td>5.16</td>\n",
       "    </tr>\n",
       "    <tr>\n",
       "      <th>...</th>\n",
       "      <td>...</td>\n",
       "      <td>...</td>\n",
       "      <td>...</td>\n",
       "      <td>...</td>\n",
       "      <td>...</td>\n",
       "      <td>...</td>\n",
       "    </tr>\n",
       "    <tr>\n",
       "      <th>8081</th>\n",
       "      <td>CHEMBL2165191</td>\n",
       "      <td>Delta TM</td>\n",
       "      <td>=</td>\n",
       "      <td>1.33</td>\n",
       "      <td>C</td>\n",
       "      <td>None</td>\n",
       "    </tr>\n",
       "    <tr>\n",
       "      <th>8082</th>\n",
       "      <td>CHEMBL215152</td>\n",
       "      <td>Delta TM</td>\n",
       "      <td>=</td>\n",
       "      <td>0.88</td>\n",
       "      <td>C</td>\n",
       "      <td>None</td>\n",
       "    </tr>\n",
       "    <tr>\n",
       "      <th>8083</th>\n",
       "      <td>CHEMBL3545096</td>\n",
       "      <td>Delta TM</td>\n",
       "      <td>=</td>\n",
       "      <td>7.52</td>\n",
       "      <td>C</td>\n",
       "      <td>None</td>\n",
       "    </tr>\n",
       "    <tr>\n",
       "      <th>8084</th>\n",
       "      <td>CHEMBL513909</td>\n",
       "      <td>% of control</td>\n",
       "      <td>=</td>\n",
       "      <td>69.0</td>\n",
       "      <td>%</td>\n",
       "      <td>None</td>\n",
       "    </tr>\n",
       "    <tr>\n",
       "      <th>8085</th>\n",
       "      <td>CHEMBL300138</td>\n",
       "      <td>Kd</td>\n",
       "      <td>=</td>\n",
       "      <td>8.3</td>\n",
       "      <td>nM</td>\n",
       "      <td>8.08</td>\n",
       "    </tr>\n",
       "  </tbody>\n",
       "</table>\n",
       "<p>8086 rows × 6 columns</p>\n",
       "</div>"
      ],
      "text/plain": [
       "     molecule_chembl_id              type relation  value units pchembl_value\n",
       "0          CHEMBL322970              IC50        =   0.38    uM          6.42\n",
       "1          CHEMBL322970              EC50        =   45.6    uM          4.34\n",
       "2          CHEMBL322970              EC50        =  30.62    uM          4.51\n",
       "3          CHEMBL322970  Fold stimulation        =    1.3  None          None\n",
       "4          CHEMBL112564              IC50        =   6.92    uM          5.16\n",
       "...                 ...               ...      ...    ...   ...           ...\n",
       "8081      CHEMBL2165191          Delta TM        =   1.33     C          None\n",
       "8082       CHEMBL215152          Delta TM        =   0.88     C          None\n",
       "8083      CHEMBL3545096          Delta TM        =   7.52     C          None\n",
       "8084       CHEMBL513909      % of control        =   69.0     %          None\n",
       "8085       CHEMBL300138                Kd        =    8.3    nM          8.08\n",
       "\n",
       "[8086 rows x 6 columns]"
      ]
     },
     "execution_count": 25,
     "metadata": {},
     "output_type": "execute_result"
    }
   ],
   "source": [
    "# First, we download the entire database\n",
    "bioact_temp = bioactivities.filter(target_chembl_id = chembl_id)\\\n",
    "                       .filter(relation = '=') \\\n",
    "                       .only('molecule_chembl_id', 'type', 'relation', 'standard_value', 'standard_units', 'pchembl_value', )\n",
    "df_bioact_temp = pd.DataFrame(bioact_temp)\n",
    "# rearrange the columns\n",
    "df_bioact_temp = df_bioact_temp[['molecule_chembl_id', 'type', 'relation', 'value', 'units', 'pchembl_value']]\n",
    "df_bioact_temp"
   ]
  },
  {
   "cell_type": "code",
   "execution_count": 26,
   "metadata": {},
   "outputs": [
    {
     "name": "stdout",
     "output_type": "stream",
     "text": [
      "Total data loaded: 3207\n"
     ]
    }
   ],
   "source": [
    "# Then, we filter by the type of activity desired\n",
    "df_bioact = df_bioact_temp[(df_bioact_temp['type'] == 'IC50') |\n",
    "                              (df_bioact_temp['type'] == 'EC50')|\n",
    "                              (df_bioact_temp['type'] == 'Ki')]\n",
    "print(f'Total data loaded: {len(df_bioact)}')"
   ]
  },
  {
   "cell_type": "code",
   "execution_count": 27,
   "metadata": {},
   "outputs": [
    {
     "data": {
      "text/html": [
       "<div>\n",
       "<style scoped>\n",
       "    .dataframe tbody tr th:only-of-type {\n",
       "        vertical-align: middle;\n",
       "    }\n",
       "\n",
       "    .dataframe tbody tr th {\n",
       "        vertical-align: top;\n",
       "    }\n",
       "\n",
       "    .dataframe thead th {\n",
       "        text-align: right;\n",
       "    }\n",
       "</style>\n",
       "<table border=\"1\" class=\"dataframe\">\n",
       "  <thead>\n",
       "    <tr style=\"text-align: right;\">\n",
       "      <th></th>\n",
       "      <th>molecule_chembl_id</th>\n",
       "      <th>type</th>\n",
       "      <th>relation</th>\n",
       "      <th>value</th>\n",
       "      <th>units</th>\n",
       "      <th>pchembl_value</th>\n",
       "    </tr>\n",
       "  </thead>\n",
       "  <tbody>\n",
       "    <tr>\n",
       "      <th>0</th>\n",
       "      <td>CHEMBL322970</td>\n",
       "      <td>IC50</td>\n",
       "      <td>=</td>\n",
       "      <td>0.38</td>\n",
       "      <td>uM</td>\n",
       "      <td>6.42</td>\n",
       "    </tr>\n",
       "    <tr>\n",
       "      <th>1</th>\n",
       "      <td>CHEMBL322970</td>\n",
       "      <td>EC50</td>\n",
       "      <td>=</td>\n",
       "      <td>45.6</td>\n",
       "      <td>uM</td>\n",
       "      <td>4.34</td>\n",
       "    </tr>\n",
       "    <tr>\n",
       "      <th>2</th>\n",
       "      <td>CHEMBL322970</td>\n",
       "      <td>EC50</td>\n",
       "      <td>=</td>\n",
       "      <td>30.62</td>\n",
       "      <td>uM</td>\n",
       "      <td>4.51</td>\n",
       "    </tr>\n",
       "    <tr>\n",
       "      <th>4</th>\n",
       "      <td>CHEMBL112564</td>\n",
       "      <td>IC50</td>\n",
       "      <td>=</td>\n",
       "      <td>6.92</td>\n",
       "      <td>uM</td>\n",
       "      <td>5.16</td>\n",
       "    </tr>\n",
       "    <tr>\n",
       "      <th>5</th>\n",
       "      <td>CHEMBL321421</td>\n",
       "      <td>IC50</td>\n",
       "      <td>=</td>\n",
       "      <td>0.41</td>\n",
       "      <td>uM</td>\n",
       "      <td>6.39</td>\n",
       "    </tr>\n",
       "  </tbody>\n",
       "</table>\n",
       "</div>"
      ],
      "text/plain": [
       "  molecule_chembl_id  type relation  value units pchembl_value\n",
       "0       CHEMBL322970  IC50        =   0.38    uM          6.42\n",
       "1       CHEMBL322970  EC50        =   45.6    uM          4.34\n",
       "2       CHEMBL322970  EC50        =  30.62    uM          4.51\n",
       "4       CHEMBL112564  IC50        =   6.92    uM          5.16\n",
       "5       CHEMBL321421  IC50        =   0.41    uM          6.39"
      ]
     },
     "execution_count": 27,
     "metadata": {},
     "output_type": "execute_result"
    }
   ],
   "source": [
    "# first composites of the dataframe\n",
    "df_bioact.head()"
   ]
  },
  {
   "cell_type": "markdown",
   "metadata": {},
   "source": [
    "Recall that the `.head()` method displays the first five elements of the `dataframe`, however, we can quickly see what elements are in the *realtion* and *type* columns."
   ]
  },
  {
   "cell_type": "code",
   "execution_count": 28,
   "metadata": {},
   "outputs": [
    {
     "data": {
      "text/plain": [
       "relation\n",
       "=    3207\n",
       "Name: count, dtype: int64"
      ]
     },
     "execution_count": 28,
     "metadata": {},
     "output_type": "execute_result"
    }
   ],
   "source": [
    "df_bioact['relation'].value_counts()"
   ]
  },
  {
   "cell_type": "code",
   "execution_count": 29,
   "metadata": {},
   "outputs": [
    {
     "data": {
      "text/plain": [
       "type\n",
       "IC50    2849\n",
       "Ki       289\n",
       "EC50      69\n",
       "Name: count, dtype: int64"
      ]
     },
     "execution_count": 29,
     "metadata": {},
     "output_type": "execute_result"
    }
   ],
   "source": [
    "df_bioact['type'].value_counts()"
   ]
  },
  {
   "cell_type": "markdown",
   "metadata": {},
   "source": [
    "Since the *realtion* column has only one type (this is due to the initial database filter), we can remove it:"
   ]
  },
  {
   "cell_type": "code",
   "execution_count": 30,
   "metadata": {},
   "outputs": [
    {
     "data": {
      "text/html": [
       "<div>\n",
       "<style scoped>\n",
       "    .dataframe tbody tr th:only-of-type {\n",
       "        vertical-align: middle;\n",
       "    }\n",
       "\n",
       "    .dataframe tbody tr th {\n",
       "        vertical-align: top;\n",
       "    }\n",
       "\n",
       "    .dataframe thead th {\n",
       "        text-align: right;\n",
       "    }\n",
       "</style>\n",
       "<table border=\"1\" class=\"dataframe\">\n",
       "  <thead>\n",
       "    <tr style=\"text-align: right;\">\n",
       "      <th></th>\n",
       "      <th>molecule_chembl_id</th>\n",
       "      <th>type</th>\n",
       "      <th>value</th>\n",
       "      <th>units</th>\n",
       "      <th>pchembl_value</th>\n",
       "    </tr>\n",
       "  </thead>\n",
       "  <tbody>\n",
       "    <tr>\n",
       "      <th>0</th>\n",
       "      <td>CHEMBL322970</td>\n",
       "      <td>IC50</td>\n",
       "      <td>0.38</td>\n",
       "      <td>uM</td>\n",
       "      <td>6.42</td>\n",
       "    </tr>\n",
       "    <tr>\n",
       "      <th>1</th>\n",
       "      <td>CHEMBL322970</td>\n",
       "      <td>EC50</td>\n",
       "      <td>45.6</td>\n",
       "      <td>uM</td>\n",
       "      <td>4.34</td>\n",
       "    </tr>\n",
       "    <tr>\n",
       "      <th>2</th>\n",
       "      <td>CHEMBL322970</td>\n",
       "      <td>EC50</td>\n",
       "      <td>30.62</td>\n",
       "      <td>uM</td>\n",
       "      <td>4.51</td>\n",
       "    </tr>\n",
       "    <tr>\n",
       "      <th>4</th>\n",
       "      <td>CHEMBL112564</td>\n",
       "      <td>IC50</td>\n",
       "      <td>6.92</td>\n",
       "      <td>uM</td>\n",
       "      <td>5.16</td>\n",
       "    </tr>\n",
       "    <tr>\n",
       "      <th>5</th>\n",
       "      <td>CHEMBL321421</td>\n",
       "      <td>IC50</td>\n",
       "      <td>0.41</td>\n",
       "      <td>uM</td>\n",
       "      <td>6.39</td>\n",
       "    </tr>\n",
       "  </tbody>\n",
       "</table>\n",
       "</div>"
      ],
      "text/plain": [
       "  molecule_chembl_id  type  value units pchembl_value\n",
       "0       CHEMBL322970  IC50   0.38    uM          6.42\n",
       "1       CHEMBL322970  EC50   45.6    uM          4.34\n",
       "2       CHEMBL322970  EC50  30.62    uM          4.51\n",
       "4       CHEMBL112564  IC50   6.92    uM          5.16\n",
       "5       CHEMBL321421  IC50   0.41    uM          6.39"
      ]
     },
     "execution_count": 30,
     "metadata": {},
     "output_type": "execute_result"
    }
   ],
   "source": [
    "df_bioact.pop('relation')\n",
    "df_bioact.head()"
   ]
  },
  {
   "cell_type": "markdown",
   "metadata": {},
   "source": [
    "### Clear data\n",
    "It is possible that some compounds have missing values and also duplicates, since the same compound may have been tested more than once (we will keep only the one that was tested first)"
   ]
  },
  {
   "cell_type": "code",
   "execution_count": 31,
   "metadata": {},
   "outputs": [
    {
     "name": "stdout",
     "output_type": "stream",
     "text": [
      "Total original compounds is: 3207\n"
     ]
    }
   ],
   "source": [
    "# First we check how many compounds we have in total\n",
    "ori_len = len(df_bioact)\n",
    "print(f'Total original compounds is: {ori_len}')"
   ]
  },
  {
   "cell_type": "code",
   "execution_count": 32,
   "metadata": {},
   "outputs": [
    {
     "name": "stdout",
     "output_type": "stream",
     "text": [
      "Total compounds after removing those with missing data: 3175\n",
      "Total compounds removed 32\n"
     ]
    }
   ],
   "source": [
    "# Remove compounds that do not have pChEMBL_value\n",
    "df_bioact = df_bioact.dropna(axis=0, how = 'any')\n",
    "new_len = len(df_bioact)\n",
    "print(f'Total compounds after removing those with missing data: {new_len}')\n",
    "# Subtract the total number of compounds from the total number of compounds by removing those without pChEMBL_value\n",
    "print(f'Total compounds removed {ori_len - new_len}')\n",
    "ori_len = new_len"
   ]
  },
  {
   "cell_type": "code",
   "execution_count": 33,
   "metadata": {},
   "outputs": [
    {
     "name": "stdout",
     "output_type": "stream",
     "text": [
      "Total compounds without duplicates : 2698\n",
      "Total compounds removed 477\n"
     ]
    }
   ],
   "source": [
    "# Duplicate compounds are removed and we are left with the first tested compound\n",
    "df_bioact = df_bioact.drop_duplicates('molecule_chembl_id', keep = 'first')\n",
    "new_len = len(df_bioact)\n",
    "print(f'Total compounds without duplicates : {new_len}')\n",
    "# Subtract from the total number of compounds by removing those without pChEMBL_value the total number of compounds without duplicates\n",
    "print(f'Total compounds removed {ori_len - new_len}')\n",
    "ori_len = new_len"
   ]
  },
  {
   "cell_type": "code",
   "execution_count": 34,
   "metadata": {},
   "outputs": [
    {
     "data": {
      "text/html": [
       "<div>\n",
       "<style scoped>\n",
       "    .dataframe tbody tr th:only-of-type {\n",
       "        vertical-align: middle;\n",
       "    }\n",
       "\n",
       "    .dataframe tbody tr th {\n",
       "        vertical-align: top;\n",
       "    }\n",
       "\n",
       "    .dataframe thead th {\n",
       "        text-align: right;\n",
       "    }\n",
       "</style>\n",
       "<table border=\"1\" class=\"dataframe\">\n",
       "  <thead>\n",
       "    <tr style=\"text-align: right;\">\n",
       "      <th></th>\n",
       "      <th>molecule_chembl_id</th>\n",
       "      <th>type</th>\n",
       "      <th>value</th>\n",
       "      <th>units</th>\n",
       "      <th>pchembl_value</th>\n",
       "    </tr>\n",
       "  </thead>\n",
       "  <tbody>\n",
       "    <tr>\n",
       "      <th>0</th>\n",
       "      <td>CHEMBL322970</td>\n",
       "      <td>IC50</td>\n",
       "      <td>0.38</td>\n",
       "      <td>uM</td>\n",
       "      <td>6.42</td>\n",
       "    </tr>\n",
       "    <tr>\n",
       "      <th>4</th>\n",
       "      <td>CHEMBL112564</td>\n",
       "      <td>IC50</td>\n",
       "      <td>6.92</td>\n",
       "      <td>uM</td>\n",
       "      <td>5.16</td>\n",
       "    </tr>\n",
       "    <tr>\n",
       "      <th>5</th>\n",
       "      <td>CHEMBL321421</td>\n",
       "      <td>IC50</td>\n",
       "      <td>0.41</td>\n",
       "      <td>uM</td>\n",
       "      <td>6.39</td>\n",
       "    </tr>\n",
       "    <tr>\n",
       "      <th>6</th>\n",
       "      <td>CHEMBL388978</td>\n",
       "      <td>IC50</td>\n",
       "      <td>0.16</td>\n",
       "      <td>uM</td>\n",
       "      <td>6.80</td>\n",
       "    </tr>\n",
       "    <tr>\n",
       "      <th>8</th>\n",
       "      <td>CHEMBL115875</td>\n",
       "      <td>IC50</td>\n",
       "      <td>9.6</td>\n",
       "      <td>uM</td>\n",
       "      <td>5.02</td>\n",
       "    </tr>\n",
       "  </tbody>\n",
       "</table>\n",
       "</div>"
      ],
      "text/plain": [
       "  molecule_chembl_id  type value units pchembl_value\n",
       "0       CHEMBL322970  IC50  0.38    uM          6.42\n",
       "4       CHEMBL112564  IC50  6.92    uM          5.16\n",
       "5       CHEMBL321421  IC50  0.41    uM          6.39\n",
       "6       CHEMBL388978  IC50  0.16    uM          6.80\n",
       "8       CHEMBL115875  IC50   9.6    uM          5.02"
      ]
     },
     "execution_count": 34,
     "metadata": {},
     "output_type": "execute_result"
    }
   ],
   "source": [
    "df_bioact.head()"
   ]
  },
  {
   "cell_type": "markdown",
   "metadata": {},
   "source": [
    "Now that we have removed some rows we will reset the index so that it is continuous"
   ]
  },
  {
   "cell_type": "code",
   "execution_count": 35,
   "metadata": {},
   "outputs": [
    {
     "data": {
      "text/html": [
       "<div>\n",
       "<style scoped>\n",
       "    .dataframe tbody tr th:only-of-type {\n",
       "        vertical-align: middle;\n",
       "    }\n",
       "\n",
       "    .dataframe tbody tr th {\n",
       "        vertical-align: top;\n",
       "    }\n",
       "\n",
       "    .dataframe thead th {\n",
       "        text-align: right;\n",
       "    }\n",
       "</style>\n",
       "<table border=\"1\" class=\"dataframe\">\n",
       "  <thead>\n",
       "    <tr style=\"text-align: right;\">\n",
       "      <th></th>\n",
       "      <th>molecule_chembl_id</th>\n",
       "      <th>type</th>\n",
       "      <th>value</th>\n",
       "      <th>units</th>\n",
       "      <th>pchembl_value</th>\n",
       "    </tr>\n",
       "  </thead>\n",
       "  <tbody>\n",
       "    <tr>\n",
       "      <th>0</th>\n",
       "      <td>CHEMBL322970</td>\n",
       "      <td>IC50</td>\n",
       "      <td>0.38</td>\n",
       "      <td>uM</td>\n",
       "      <td>6.42</td>\n",
       "    </tr>\n",
       "    <tr>\n",
       "      <th>1</th>\n",
       "      <td>CHEMBL112564</td>\n",
       "      <td>IC50</td>\n",
       "      <td>6.92</td>\n",
       "      <td>uM</td>\n",
       "      <td>5.16</td>\n",
       "    </tr>\n",
       "    <tr>\n",
       "      <th>2</th>\n",
       "      <td>CHEMBL321421</td>\n",
       "      <td>IC50</td>\n",
       "      <td>0.41</td>\n",
       "      <td>uM</td>\n",
       "      <td>6.39</td>\n",
       "    </tr>\n",
       "    <tr>\n",
       "      <th>3</th>\n",
       "      <td>CHEMBL388978</td>\n",
       "      <td>IC50</td>\n",
       "      <td>0.16</td>\n",
       "      <td>uM</td>\n",
       "      <td>6.80</td>\n",
       "    </tr>\n",
       "    <tr>\n",
       "      <th>4</th>\n",
       "      <td>CHEMBL115875</td>\n",
       "      <td>IC50</td>\n",
       "      <td>9.6</td>\n",
       "      <td>uM</td>\n",
       "      <td>5.02</td>\n",
       "    </tr>\n",
       "  </tbody>\n",
       "</table>\n",
       "</div>"
      ],
      "text/plain": [
       "  molecule_chembl_id  type value units pchembl_value\n",
       "0       CHEMBL322970  IC50  0.38    uM          6.42\n",
       "1       CHEMBL112564  IC50  6.92    uM          5.16\n",
       "2       CHEMBL321421  IC50  0.41    uM          6.39\n",
       "3       CHEMBL388978  IC50  0.16    uM          6.80\n",
       "4       CHEMBL115875  IC50   9.6    uM          5.02"
      ]
     },
     "execution_count": 35,
     "metadata": {},
     "output_type": "execute_result"
    }
   ],
   "source": [
    "df_bioact.reset_index(drop=True, inplace=True)\n",
    "df_bioact.head()"
   ]
  },
  {
   "cell_type": "markdown",
   "metadata": {},
   "source": [
    "### Organize the data\n",
    "Let's arrange the DataFrame from largest to smallest pchembl_value. Notice that the column values are not numeric"
   ]
  },
  {
   "cell_type": "code",
   "execution_count": 36,
   "metadata": {},
   "outputs": [
    {
     "name": "stdout",
     "output_type": "stream",
     "text": [
      "6.42 <class 'str'>\n"
     ]
    }
   ],
   "source": [
    "print(df_bioact['pchembl_value'][0],type(df_bioact['pchembl_value'][0]))"
   ]
  },
  {
   "cell_type": "markdown",
   "metadata": {},
   "source": [
    "Therefore, we must first convert them to type `float`."
   ]
  },
  {
   "cell_type": "code",
   "execution_count": 37,
   "metadata": {},
   "outputs": [
    {
     "name": "stdout",
     "output_type": "stream",
     "text": [
      "6.42 <class 'numpy.float64'>\n"
     ]
    }
   ],
   "source": [
    "df_bioact['pchembl_value'] = df_bioact['pchembl_value'].astype(float)\n",
    "print(df_bioact['pchembl_value'][0],type(df_bioact['pchembl_value'][0]))"
   ]
  },
  {
   "cell_type": "markdown",
   "metadata": {},
   "source": [
    "Now we proceed to organize the DataFrame"
   ]
  },
  {
   "cell_type": "code",
   "execution_count": 38,
   "metadata": {},
   "outputs": [
    {
     "data": {
      "text/html": [
       "<div>\n",
       "<style scoped>\n",
       "    .dataframe tbody tr th:only-of-type {\n",
       "        vertical-align: middle;\n",
       "    }\n",
       "\n",
       "    .dataframe tbody tr th {\n",
       "        vertical-align: top;\n",
       "    }\n",
       "\n",
       "    .dataframe thead th {\n",
       "        text-align: right;\n",
       "    }\n",
       "</style>\n",
       "<table border=\"1\" class=\"dataframe\">\n",
       "  <thead>\n",
       "    <tr style=\"text-align: right;\">\n",
       "      <th></th>\n",
       "      <th>molecule_chembl_id</th>\n",
       "      <th>type</th>\n",
       "      <th>value</th>\n",
       "      <th>units</th>\n",
       "      <th>pchembl_value</th>\n",
       "    </tr>\n",
       "  </thead>\n",
       "  <tbody>\n",
       "    <tr>\n",
       "      <th>0</th>\n",
       "      <td>CHEMBL2386094</td>\n",
       "      <td>IC50</td>\n",
       "      <td>0.013</td>\n",
       "      <td>nM</td>\n",
       "      <td>10.89</td>\n",
       "    </tr>\n",
       "    <tr>\n",
       "      <th>1</th>\n",
       "      <td>CHEMBL3895998</td>\n",
       "      <td>IC50</td>\n",
       "      <td>0.1</td>\n",
       "      <td>nM</td>\n",
       "      <td>10.00</td>\n",
       "    </tr>\n",
       "    <tr>\n",
       "      <th>2</th>\n",
       "      <td>CHEMBL4084855</td>\n",
       "      <td>IC50</td>\n",
       "      <td>0.1</td>\n",
       "      <td>nM</td>\n",
       "      <td>10.00</td>\n",
       "    </tr>\n",
       "    <tr>\n",
       "      <th>3</th>\n",
       "      <td>CHEMBL564450</td>\n",
       "      <td>IC50</td>\n",
       "      <td>0.00014</td>\n",
       "      <td>uM</td>\n",
       "      <td>9.85</td>\n",
       "    </tr>\n",
       "    <tr>\n",
       "      <th>4</th>\n",
       "      <td>CHEMBL3957649</td>\n",
       "      <td>IC50</td>\n",
       "      <td>0.2</td>\n",
       "      <td>nM</td>\n",
       "      <td>9.70</td>\n",
       "    </tr>\n",
       "  </tbody>\n",
       "</table>\n",
       "</div>"
      ],
      "text/plain": [
       "  molecule_chembl_id  type    value units  pchembl_value\n",
       "0      CHEMBL2386094  IC50    0.013    nM          10.89\n",
       "1      CHEMBL3895998  IC50      0.1    nM          10.00\n",
       "2      CHEMBL4084855  IC50      0.1    nM          10.00\n",
       "3       CHEMBL564450  IC50  0.00014    uM           9.85\n",
       "4      CHEMBL3957649  IC50      0.2    nM           9.70"
      ]
     },
     "execution_count": 38,
     "metadata": {},
     "output_type": "execute_result"
    }
   ],
   "source": [
    "# Arrange from highest to lowest pchembl_value\n",
    "df_bioact.sort_values(by=\"pchembl_value\", ascending=False, inplace=True)\n",
    "# reset the index\n",
    "df_bioact.reset_index(drop=True, inplace=True)\n",
    "# We print the first data\n",
    "df_bioact.head()"
   ]
  },
  {
   "cell_type": "markdown",
   "metadata": {},
   "source": [
    "### Save and load the data\n",
    "To continue using the Data Frame in practice without always having to connect to ChEMBL, we are going to save the obtained Data Frame as a file separated by commas (data/composites_uniprot_id.csv)"
   ]
  },
  {
   "cell_type": "code",
   "execution_count": 39,
   "metadata": {},
   "outputs": [],
   "source": [
    "df_bioact.to_csv(f\"./data/compounds_{uniprot_id}.csv\", index=0)"
   ]
  },
  {
   "cell_type": "markdown",
   "metadata": {},
   "source": [
    "From now on, if we want to use the Dataframe, we can load the saved file"
   ]
  },
  {
   "cell_type": "code",
   "execution_count": 40,
   "metadata": {},
   "outputs": [
    {
     "data": {
      "text/html": [
       "<div>\n",
       "<style scoped>\n",
       "    .dataframe tbody tr th:only-of-type {\n",
       "        vertical-align: middle;\n",
       "    }\n",
       "\n",
       "    .dataframe tbody tr th {\n",
       "        vertical-align: top;\n",
       "    }\n",
       "\n",
       "    .dataframe thead th {\n",
       "        text-align: right;\n",
       "    }\n",
       "</style>\n",
       "<table border=\"1\" class=\"dataframe\">\n",
       "  <thead>\n",
       "    <tr style=\"text-align: right;\">\n",
       "      <th></th>\n",
       "      <th>molecule_chembl_id</th>\n",
       "      <th>type</th>\n",
       "      <th>value</th>\n",
       "      <th>units</th>\n",
       "      <th>pchembl_value</th>\n",
       "    </tr>\n",
       "  </thead>\n",
       "  <tbody>\n",
       "    <tr>\n",
       "      <th>0</th>\n",
       "      <td>CHEMBL2386094</td>\n",
       "      <td>IC50</td>\n",
       "      <td>0.01300</td>\n",
       "      <td>nM</td>\n",
       "      <td>10.89</td>\n",
       "    </tr>\n",
       "    <tr>\n",
       "      <th>1</th>\n",
       "      <td>CHEMBL3895998</td>\n",
       "      <td>IC50</td>\n",
       "      <td>0.10000</td>\n",
       "      <td>nM</td>\n",
       "      <td>10.00</td>\n",
       "    </tr>\n",
       "    <tr>\n",
       "      <th>2</th>\n",
       "      <td>CHEMBL4084855</td>\n",
       "      <td>IC50</td>\n",
       "      <td>0.10000</td>\n",
       "      <td>nM</td>\n",
       "      <td>10.00</td>\n",
       "    </tr>\n",
       "    <tr>\n",
       "      <th>3</th>\n",
       "      <td>CHEMBL564450</td>\n",
       "      <td>IC50</td>\n",
       "      <td>0.00014</td>\n",
       "      <td>uM</td>\n",
       "      <td>9.85</td>\n",
       "    </tr>\n",
       "    <tr>\n",
       "      <th>4</th>\n",
       "      <td>CHEMBL3957649</td>\n",
       "      <td>IC50</td>\n",
       "      <td>0.20000</td>\n",
       "      <td>nM</td>\n",
       "      <td>9.70</td>\n",
       "    </tr>\n",
       "  </tbody>\n",
       "</table>\n",
       "</div>"
      ],
      "text/plain": [
       "  molecule_chembl_id  type    value units  pchembl_value\n",
       "0      CHEMBL2386094  IC50  0.01300    nM          10.89\n",
       "1      CHEMBL3895998  IC50  0.10000    nM          10.00\n",
       "2      CHEMBL4084855  IC50  0.10000    nM          10.00\n",
       "3       CHEMBL564450  IC50  0.00014    uM           9.85\n",
       "4      CHEMBL3957649  IC50  0.20000    nM           9.70"
      ]
     },
     "execution_count": 40,
     "metadata": {},
     "output_type": "execute_result"
    }
   ],
   "source": [
    "df_bioact = pd.read_csv(f\"data/compounds_{uniprot_id}.csv\")\n",
    "df_bioact.head()"
   ]
  },
  {
   "cell_type": "markdown",
   "metadata": {},
   "source": [
    "## Compound data\n",
    "\n",
    "Next we are going to obtain the data of the molecules that are stored within each molecule_chembl_id"
   ]
  },
  {
   "cell_type": "code",
   "execution_count": 41,
   "metadata": {},
   "outputs": [],
   "source": [
    "# Load the previously saved file\n",
    "df_bioact = pd.read_csv(f\"data/compounds_{uniprot_id}.csv\")"
   ]
  },
  {
   "cell_type": "code",
   "execution_count": 42,
   "metadata": {},
   "outputs": [],
   "source": [
    "# First we need to get the list of compounds that we define as bioactive\n",
    "list_comp_id = list(df_bioact['molecule_chembl_id'])\n",
    "# Get the structure of each compound\n",
    "compounds_list = compounds.filter(molecule_chembl_id__in = list_comp_id) \\\n",
    "                             .only('molecule_chembl_id','molecule_structures')"
   ]
  },
  {
   "cell_type": "code",
   "execution_count": 43,
   "metadata": {},
   "outputs": [
    {
     "name": "stdout",
     "output_type": "stream",
     "text": [
      "Total of compounds is: 2698\n"
     ]
    },
    {
     "data": {
      "text/html": [
       "<div>\n",
       "<style scoped>\n",
       "    .dataframe tbody tr th:only-of-type {\n",
       "        vertical-align: middle;\n",
       "    }\n",
       "\n",
       "    .dataframe tbody tr th {\n",
       "        vertical-align: top;\n",
       "    }\n",
       "\n",
       "    .dataframe thead th {\n",
       "        text-align: right;\n",
       "    }\n",
       "</style>\n",
       "<table border=\"1\" class=\"dataframe\">\n",
       "  <thead>\n",
       "    <tr style=\"text-align: right;\">\n",
       "      <th></th>\n",
       "      <th>molecule_chembl_id</th>\n",
       "      <th>molecule_structures</th>\n",
       "    </tr>\n",
       "  </thead>\n",
       "  <tbody>\n",
       "    <tr>\n",
       "      <th>0</th>\n",
       "      <td>CHEMBL6246</td>\n",
       "      <td>{'canonical_smiles': 'O=c1oc2c(O)c(O)cc3c(=O)o...</td>\n",
       "    </tr>\n",
       "    <tr>\n",
       "      <th>1</th>\n",
       "      <td>CHEMBL6291</td>\n",
       "      <td>{'canonical_smiles': 'Cn1cc(C2=C(c3cn(CCCSC(=N...</td>\n",
       "    </tr>\n",
       "    <tr>\n",
       "      <th>2</th>\n",
       "      <td>CHEMBL269538</td>\n",
       "      <td>{'canonical_smiles': 'COc1ccc2c(c1)[nH]c1c(C)n...</td>\n",
       "    </tr>\n",
       "    <tr>\n",
       "      <th>3</th>\n",
       "      <td>CHEMBL28</td>\n",
       "      <td>{'canonical_smiles': 'O=c1cc(-c2ccc(O)cc2)oc2c...</td>\n",
       "    </tr>\n",
       "    <tr>\n",
       "      <th>4</th>\n",
       "      <td>CHEMBL7463</td>\n",
       "      <td>{'canonical_smiles': 'CN(C)CCCn1cc(C2=C(c3c[nH...</td>\n",
       "    </tr>\n",
       "  </tbody>\n",
       "</table>\n",
       "</div>"
      ],
      "text/plain": [
       "  molecule_chembl_id                                molecule_structures\n",
       "0         CHEMBL6246  {'canonical_smiles': 'O=c1oc2c(O)c(O)cc3c(=O)o...\n",
       "1         CHEMBL6291  {'canonical_smiles': 'Cn1cc(C2=C(c3cn(CCCSC(=N...\n",
       "2       CHEMBL269538  {'canonical_smiles': 'COc1ccc2c(c1)[nH]c1c(C)n...\n",
       "3           CHEMBL28  {'canonical_smiles': 'O=c1cc(-c2ccc(O)cc2)oc2c...\n",
       "4         CHEMBL7463  {'canonical_smiles': 'CN(C)CCCn1cc(C2=C(c3c[nH..."
      ]
     },
     "execution_count": 43,
     "metadata": {},
     "output_type": "execute_result"
    }
   ],
   "source": [
    "# We must convert the obtained list into a dataframe. This may take a few minutes\n",
    "df_comp = pd.DataFrame(compounds_list)\n",
    "# remove duplicates\n",
    "df_comp = df_comp.drop_duplicates('molecule_chembl_id', keep = 'first')\n",
    "# print(f'The total number of compounds is: ' + str(len(dataframe_comp)))\n",
    "print(f'Total of compounds is: {str(len(df_comp))}')\n",
    "df_comp.head()"
   ]
  },
  {
   "cell_type": "markdown",
   "metadata": {},
   "source": [
    "Compounds have different types of representations such as the SMILES, the InChI and the InChI Key. We are only interested in staying with the SMILES since it describes the chemical structure."
   ]
  },
  {
   "cell_type": "code",
   "execution_count": 44,
   "metadata": {},
   "outputs": [
    {
     "data": {
      "text/html": [
       "<div>\n",
       "<style scoped>\n",
       "    .dataframe tbody tr th:only-of-type {\n",
       "        vertical-align: middle;\n",
       "    }\n",
       "\n",
       "    .dataframe tbody tr th {\n",
       "        vertical-align: top;\n",
       "    }\n",
       "\n",
       "    .dataframe thead th {\n",
       "        text-align: right;\n",
       "    }\n",
       "</style>\n",
       "<table border=\"1\" class=\"dataframe\">\n",
       "  <thead>\n",
       "    <tr style=\"text-align: right;\">\n",
       "      <th></th>\n",
       "      <th>molecule_chembl_id</th>\n",
       "      <th>molecule_structures</th>\n",
       "    </tr>\n",
       "  </thead>\n",
       "  <tbody>\n",
       "    <tr>\n",
       "      <th>0</th>\n",
       "      <td>CHEMBL6246</td>\n",
       "      <td>O=c1oc2c(O)c(O)cc3c(=O)oc4c(O)c(O)cc1c4c23</td>\n",
       "    </tr>\n",
       "    <tr>\n",
       "      <th>1</th>\n",
       "      <td>CHEMBL6291</td>\n",
       "      <td>Cn1cc(C2=C(c3cn(CCCSC(=N)N)c4ccccc34)C(=O)NC2=...</td>\n",
       "    </tr>\n",
       "    <tr>\n",
       "      <th>2</th>\n",
       "      <td>CHEMBL269538</td>\n",
       "      <td>COc1ccc2c(c1)[nH]c1c(C)nccc12</td>\n",
       "    </tr>\n",
       "    <tr>\n",
       "      <th>3</th>\n",
       "      <td>CHEMBL28</td>\n",
       "      <td>O=c1cc(-c2ccc(O)cc2)oc2cc(O)cc(O)c12</td>\n",
       "    </tr>\n",
       "    <tr>\n",
       "      <th>4</th>\n",
       "      <td>CHEMBL7463</td>\n",
       "      <td>CN(C)CCCn1cc(C2=C(c3c[nH]c4ccccc34)C(=O)NC2=O)...</td>\n",
       "    </tr>\n",
       "  </tbody>\n",
       "</table>\n",
       "</div>"
      ],
      "text/plain": [
       "  molecule_chembl_id                                molecule_structures\n",
       "0         CHEMBL6246         O=c1oc2c(O)c(O)cc3c(=O)oc4c(O)c(O)cc1c4c23\n",
       "1         CHEMBL6291  Cn1cc(C2=C(c3cn(CCCSC(=N)N)c4ccccc34)C(=O)NC2=...\n",
       "2       CHEMBL269538                      COc1ccc2c(c1)[nH]c1c(C)nccc12\n",
       "3           CHEMBL28               O=c1cc(-c2ccc(O)cc2)oc2cc(O)cc(O)c12\n",
       "4         CHEMBL7463  CN(C)CCCn1cc(C2=C(c3c[nH]c4ccccc34)C(=O)NC2=O)..."
      ]
     },
     "execution_count": 44,
     "metadata": {},
     "output_type": "execute_result"
    }
   ],
   "source": [
    "# We are going to use a for loop to iterate through each row (df_comp.iterrows())\n",
    "for i, cmpd in df_comp.iterrows():\n",
    "     if df_comp.loc[i]['molecule_structures'] is not None:\n",
    "         df_comp.loc[i]['molecule_structures'] = cmpd['molecule_structures']['canonical_smiles']\n",
    "\n",
    "df_comp.head()"
   ]
  },
  {
   "cell_type": "markdown",
   "metadata": {},
   "source": [
    "### Clear salts of smiles\n",
    "If we look closely at the *smiles* representation of each molecule, we can see that some have *salts* that need to be cleaned up.\n",
    "First we will filter the molecules that have salts, usually you can see it in the smileies because they have a dot in the text string:"
   ]
  },
  {
   "cell_type": "code",
   "execution_count": 45,
   "metadata": {},
   "outputs": [
    {
     "data": {
      "text/html": [
       "<div>\n",
       "<style scoped>\n",
       "    .dataframe tbody tr th:only-of-type {\n",
       "        vertical-align: middle;\n",
       "    }\n",
       "\n",
       "    .dataframe tbody tr th {\n",
       "        vertical-align: top;\n",
       "    }\n",
       "\n",
       "    .dataframe thead th {\n",
       "        text-align: right;\n",
       "    }\n",
       "</style>\n",
       "<table border=\"1\" class=\"dataframe\">\n",
       "  <thead>\n",
       "    <tr style=\"text-align: right;\">\n",
       "      <th></th>\n",
       "      <th>molecule_chembl_id</th>\n",
       "      <th>molecule_structures</th>\n",
       "    </tr>\n",
       "  </thead>\n",
       "  <tbody>\n",
       "    <tr>\n",
       "      <th>168</th>\n",
       "      <td>CHEMBL69710</td>\n",
       "      <td>[Cl-].[Li+]</td>\n",
       "    </tr>\n",
       "    <tr>\n",
       "      <th>712</th>\n",
       "      <td>CHEMBL492244</td>\n",
       "      <td>CN1CCN(CCO/N=C2C(=C3/C(=O)Nc4cc(Br)ccc43)/Nc3c...</td>\n",
       "    </tr>\n",
       "    <tr>\n",
       "      <th>826</th>\n",
       "      <td>CHEMBL558982</td>\n",
       "      <td>Br.c1ccc(/N=c2/nc(-c3ccccc3)n(-c3ccccc3)s2)cc1</td>\n",
       "    </tr>\n",
       "    <tr>\n",
       "      <th>1254</th>\n",
       "      <td>CHEMBL1801613</td>\n",
       "      <td>Cl.NCC(=O)c1ccc(Br)cc1</td>\n",
       "    </tr>\n",
       "    <tr>\n",
       "      <th>1371</th>\n",
       "      <td>CHEMBL2022412</td>\n",
       "      <td>Br.c1ccc(-c2n/c(=N\\Cc3cccnc3)sn2-c2cccc3ccccc2...</td>\n",
       "    </tr>\n",
       "    <tr>\n",
       "      <th>...</th>\n",
       "      <td>...</td>\n",
       "      <td>...</td>\n",
       "    </tr>\n",
       "    <tr>\n",
       "      <th>2093</th>\n",
       "      <td>CHEMBL4098458</td>\n",
       "      <td>COc1cc(F)cc(F)c1C1CN(c2nc(-c3ccncc3)cc(=O)n2C)...</td>\n",
       "    </tr>\n",
       "    <tr>\n",
       "      <th>2095</th>\n",
       "      <td>CHEMBL4099428</td>\n",
       "      <td>Cl.Cn1c(N2CCNC(c3ccc(Br)cc3)C2)nc(-c2ccncc2)cc1=O</td>\n",
       "    </tr>\n",
       "    <tr>\n",
       "      <th>2110</th>\n",
       "      <td>CHEMBL4103742</td>\n",
       "      <td>Cl.Cn1c(N2CCNC(c3ccccc3)C2)nc(-c2ccncc2)cc1=O</td>\n",
       "    </tr>\n",
       "    <tr>\n",
       "      <th>2116</th>\n",
       "      <td>CHEMBL4105346</td>\n",
       "      <td>Cl.Cn1c(N2CCN[C@@H](c3ccc(Cl)cc3)C2)nc(-c2ccnc...</td>\n",
       "    </tr>\n",
       "    <tr>\n",
       "      <th>2504</th>\n",
       "      <td>CHEMBL4763626</td>\n",
       "      <td>Cl.NCCO/N=C1C(=C2/C(=O)Nc3ccc([N+](=O)[O-])cc3...</td>\n",
       "    </tr>\n",
       "  </tbody>\n",
       "</table>\n",
       "<p>67 rows × 2 columns</p>\n",
       "</div>"
      ],
      "text/plain": [
       "     molecule_chembl_id                                molecule_structures\n",
       "168         CHEMBL69710                                        [Cl-].[Li+]\n",
       "712        CHEMBL492244  CN1CCN(CCO/N=C2C(=C3/C(=O)Nc4cc(Br)ccc43)/Nc3c...\n",
       "826        CHEMBL558982     Br.c1ccc(/N=c2/nc(-c3ccccc3)n(-c3ccccc3)s2)cc1\n",
       "1254      CHEMBL1801613                             Cl.NCC(=O)c1ccc(Br)cc1\n",
       "1371      CHEMBL2022412  Br.c1ccc(-c2n/c(=N\\Cc3cccnc3)sn2-c2cccc3ccccc2...\n",
       "...                 ...                                                ...\n",
       "2093      CHEMBL4098458  COc1cc(F)cc(F)c1C1CN(c2nc(-c3ccncc3)cc(=O)n2C)...\n",
       "2095      CHEMBL4099428  Cl.Cn1c(N2CCNC(c3ccc(Br)cc3)C2)nc(-c2ccncc2)cc1=O\n",
       "2110      CHEMBL4103742      Cl.Cn1c(N2CCNC(c3ccccc3)C2)nc(-c2ccncc2)cc1=O\n",
       "2116      CHEMBL4105346  Cl.Cn1c(N2CCN[C@@H](c3ccc(Cl)cc3)C2)nc(-c2ccnc...\n",
       "2504      CHEMBL4763626  Cl.NCCO/N=C1C(=C2/C(=O)Nc3ccc([N+](=O)[O-])cc3...\n",
       "\n",
       "[67 rows x 2 columns]"
      ]
     },
     "execution_count": 45,
     "metadata": {},
     "output_type": "execute_result"
    }
   ],
   "source": [
    "df_comp[df_comp.molecule_structures.str.contains(\"\\.\")]"
   ]
  },
  {
   "cell_type": "markdown",
   "metadata": {},
   "source": [
    "That is, of the 2658 initial compounds, 67 have salts that must be cleaned. We can use a `rdkit` module to clean up salts called `rdkit.Chem.SaltRemover`.\n",
    "Suppose we want to remove the salt from the smile \"CN1CCN(CCO/N=C2C(=C3/C(=O)Nc4cc(Br)ccc43)/Nc3ccccc3/2)CC1.Cl\", the following can be done:"
   ]
  },
  {
   "cell_type": "code",
   "execution_count": 46,
   "metadata": {},
   "outputs": [
    {
     "data": {
      "text/plain": [
       "'CCCCCc1n/c(=N\\\\Cc2cccnc2)sn1-c1ccccc1'"
      ]
     },
     "execution_count": 46,
     "metadata": {},
     "output_type": "execute_result"
    }
   ],
   "source": [
    "# libraries\n",
    "from rdkit.Chem.SaltRemover import SaltRemover\n",
    "from rdkit.Chem import MolFromSmiles, MolToSmiles\n",
    "\n",
    "# The module to remove salts is loaded\n",
    "remover = SaltRemover()\n",
    "# convert the smiley to a mol object\n",
    "mol = MolFromSmiles('Br.CCCCCc1n/c(=N\\Cc2cccnc2)sn1-c1ccccc1')\n",
    "# remove salts (res=molecule, deleted=deleted fragment) smile to a mol object\n",
    "res, deleted = remover.StripMolWithDeleted(mol)\n",
    "# convert the mol object to smiles again and remove whitespace\n",
    "MolToSmiles(res).strip()"
   ]
  },
  {
   "cell_type": "markdown",
   "metadata": {},
   "source": [
    "Now we are going to create a function that does this process to pass it through the `df_comp` dataframe"
   ]
  },
  {
   "cell_type": "code",
   "execution_count": 47,
   "metadata": {},
   "outputs": [],
   "source": [
    "def remover_salts(smile):\n",
    "    remover = SaltRemover()\n",
    "    mol = MolFromSmiles(smile)\n",
    "    res, deleted = remover.StripMolWithDeleted(mol)\n",
    "    return MolToSmiles(res)"
   ]
  },
  {
   "cell_type": "markdown",
   "metadata": {},
   "source": [
    "We apply the function to the smiles column"
   ]
  },
  {
   "cell_type": "code",
   "execution_count": 48,
   "metadata": {},
   "outputs": [],
   "source": [
    "df_comp['molecule_structures'] = df_comp['molecule_structures'].apply(remover_salts)\n",
    "# Remove whitespace around the edges of each string in the \"molecule_structures\" column\n",
    "df_comp[\"molecule_structures\"] = df_comp[\"molecule_structures\"].str.strip()"
   ]
  },
  {
   "cell_type": "markdown",
   "metadata": {},
   "source": [
    "We look again for smiles that have salts to verify that the cleaning was successful"
   ]
  },
  {
   "cell_type": "code",
   "execution_count": 49,
   "metadata": {},
   "outputs": [
    {
     "data": {
      "text/html": [
       "<div>\n",
       "<style scoped>\n",
       "    .dataframe tbody tr th:only-of-type {\n",
       "        vertical-align: middle;\n",
       "    }\n",
       "\n",
       "    .dataframe tbody tr th {\n",
       "        vertical-align: top;\n",
       "    }\n",
       "\n",
       "    .dataframe thead th {\n",
       "        text-align: right;\n",
       "    }\n",
       "</style>\n",
       "<table border=\"1\" class=\"dataframe\">\n",
       "  <thead>\n",
       "    <tr style=\"text-align: right;\">\n",
       "      <th></th>\n",
       "      <th>molecule_chembl_id</th>\n",
       "      <th>molecule_structures</th>\n",
       "    </tr>\n",
       "  </thead>\n",
       "  <tbody>\n",
       "  </tbody>\n",
       "</table>\n",
       "</div>"
      ],
      "text/plain": [
       "Empty DataFrame\n",
       "Columns: [molecule_chembl_id, molecule_structures]\n",
       "Index: []"
      ]
     },
     "execution_count": 49,
     "metadata": {},
     "output_type": "execute_result"
    }
   ],
   "source": [
    "df_comp[df_comp.molecule_structures.str.contains(\"\\.\")]"
   ]
  },
  {
   "cell_type": "markdown",
   "metadata": {},
   "source": [
    "We already cleaned the salts from the molecules, now we must remove the molecules with empty data. For example, cleaning the molecule \"[Cl-].[Li+]\" removes the two salts and leaves the output empty `('')`. To remove these fields we can use `dropna` and filter for those that are not empty."
   ]
  },
  {
   "cell_type": "code",
   "execution_count": 50,
   "metadata": {},
   "outputs": [],
   "source": [
    "df_comp.dropna(subset=[\"molecule_structures\"], inplace=True)\n",
    "df_comp = df_comp[df_comp['molecule_structures'] != '']"
   ]
  },
  {
   "cell_type": "markdown",
   "metadata": {},
   "source": [
    "And we already have the set of clean molecules."
   ]
  },
  {
   "cell_type": "markdown",
   "metadata": {},
   "source": [
    "## Merge the Dataframes\n",
    "\n",
    "Now we have two dataframes that we are going to combine to have all the data in a single dataframe and be able to save it."
   ]
  },
  {
   "cell_type": "code",
   "execution_count": 51,
   "metadata": {},
   "outputs": [
    {
     "name": "stdout",
     "output_type": "stream",
     "text": [
      "Total of compounds is: 2697\n"
     ]
    },
    {
     "data": {
      "text/html": [
       "<div>\n",
       "<style scoped>\n",
       "    .dataframe tbody tr th:only-of-type {\n",
       "        vertical-align: middle;\n",
       "    }\n",
       "\n",
       "    .dataframe tbody tr th {\n",
       "        vertical-align: top;\n",
       "    }\n",
       "\n",
       "    .dataframe thead th {\n",
       "        text-align: right;\n",
       "    }\n",
       "</style>\n",
       "<table border=\"1\" class=\"dataframe\">\n",
       "  <thead>\n",
       "    <tr style=\"text-align: right;\">\n",
       "      <th></th>\n",
       "      <th>molecule_chembl_id</th>\n",
       "      <th>pchembl_value</th>\n",
       "      <th>molecule_structures</th>\n",
       "    </tr>\n",
       "  </thead>\n",
       "  <tbody>\n",
       "    <tr>\n",
       "      <th>0</th>\n",
       "      <td>CHEMBL2386094</td>\n",
       "      <td>10.89</td>\n",
       "      <td>O=C1NC(=O)C(c2cn3c4c(cc(F)cc24)CN(C(=O)N2CCOCC...</td>\n",
       "    </tr>\n",
       "    <tr>\n",
       "      <th>1</th>\n",
       "      <td>CHEMBL3895998</td>\n",
       "      <td>10.00</td>\n",
       "      <td>Nc1ncc(-c2ccccc2F)nc1C(=O)Nc1cnccc1N1CCC(N)CC1</td>\n",
       "    </tr>\n",
       "    <tr>\n",
       "      <th>2</th>\n",
       "      <td>CHEMBL4084855</td>\n",
       "      <td>10.00</td>\n",
       "      <td>COc1ccc(N2CCN(c3nc(-c4ccncn4)cc(=O)n3C)[C@H](C...</td>\n",
       "    </tr>\n",
       "    <tr>\n",
       "      <th>3</th>\n",
       "      <td>CHEMBL564450</td>\n",
       "      <td>9.85</td>\n",
       "      <td>COc1cc(C2=C(c3cn(CCN4CCN(C)CC4)c4ccccc34)C(=O)...</td>\n",
       "    </tr>\n",
       "    <tr>\n",
       "      <th>4</th>\n",
       "      <td>CHEMBL3957649</td>\n",
       "      <td>9.70</td>\n",
       "      <td>Nc1ncc(-c2ccccc2F)nc1C(=O)Nc1cnccc1N1CCNCC1</td>\n",
       "    </tr>\n",
       "  </tbody>\n",
       "</table>\n",
       "</div>"
      ],
      "text/plain": [
       "  molecule_chembl_id  pchembl_value   \n",
       "0      CHEMBL2386094          10.89  \\\n",
       "1      CHEMBL3895998          10.00   \n",
       "2      CHEMBL4084855          10.00   \n",
       "3       CHEMBL564450           9.85   \n",
       "4      CHEMBL3957649           9.70   \n",
       "\n",
       "                                 molecule_structures  \n",
       "0  O=C1NC(=O)C(c2cn3c4c(cc(F)cc24)CN(C(=O)N2CCOCC...  \n",
       "1     Nc1ncc(-c2ccccc2F)nc1C(=O)Nc1cnccc1N1CCC(N)CC1  \n",
       "2  COc1ccc(N2CCN(c3nc(-c4ccncn4)cc(=O)n3C)[C@H](C...  \n",
       "3  COc1cc(C2=C(c3cn(CCN4CCN(C)CC4)c4ccccc34)C(=O)...  \n",
       "4        Nc1ncc(-c2ccccc2F)nc1C(=O)Nc1cnccc1N1CCNCC1  "
      ]
     },
     "execution_count": 51,
     "metadata": {},
     "output_type": "execute_result"
    }
   ],
   "source": [
    "# In the Bioactivity Dataframe, only two columns are filtered\n",
    "df_output = pd.merge(df_bioact[['molecule_chembl_id','pchembl_value']], df_comp, on='molecule_chembl_id')\n",
    "print(f'Total of compounds is: {str(len(df_output))}')\n",
    "df_output.head()"
   ]
  },
  {
   "cell_type": "markdown",
   "metadata": {},
   "source": [
    "Columns can be renamed"
   ]
  },
  {
   "cell_type": "code",
   "execution_count": 52,
   "metadata": {},
   "outputs": [
    {
     "name": "stdout",
     "output_type": "stream",
     "text": [
      "Total of compounds is: 2697\n"
     ]
    },
    {
     "data": {
      "text/html": [
       "<div>\n",
       "<style scoped>\n",
       "    .dataframe tbody tr th:only-of-type {\n",
       "        vertical-align: middle;\n",
       "    }\n",
       "\n",
       "    .dataframe tbody tr th {\n",
       "        vertical-align: top;\n",
       "    }\n",
       "\n",
       "    .dataframe thead th {\n",
       "        text-align: right;\n",
       "    }\n",
       "</style>\n",
       "<table border=\"1\" class=\"dataframe\">\n",
       "  <thead>\n",
       "    <tr style=\"text-align: right;\">\n",
       "      <th></th>\n",
       "      <th>molecule_chembl_id</th>\n",
       "      <th>pchembl_value</th>\n",
       "      <th>smiles</th>\n",
       "    </tr>\n",
       "  </thead>\n",
       "  <tbody>\n",
       "    <tr>\n",
       "      <th>0</th>\n",
       "      <td>CHEMBL2386094</td>\n",
       "      <td>10.89</td>\n",
       "      <td>O=C1NC(=O)C(c2cn3c4c(cc(F)cc24)CN(C(=O)N2CCOCC...</td>\n",
       "    </tr>\n",
       "    <tr>\n",
       "      <th>1</th>\n",
       "      <td>CHEMBL3895998</td>\n",
       "      <td>10.00</td>\n",
       "      <td>Nc1ncc(-c2ccccc2F)nc1C(=O)Nc1cnccc1N1CCC(N)CC1</td>\n",
       "    </tr>\n",
       "    <tr>\n",
       "      <th>2</th>\n",
       "      <td>CHEMBL4084855</td>\n",
       "      <td>10.00</td>\n",
       "      <td>COc1ccc(N2CCN(c3nc(-c4ccncn4)cc(=O)n3C)[C@H](C...</td>\n",
       "    </tr>\n",
       "    <tr>\n",
       "      <th>3</th>\n",
       "      <td>CHEMBL564450</td>\n",
       "      <td>9.85</td>\n",
       "      <td>COc1cc(C2=C(c3cn(CCN4CCN(C)CC4)c4ccccc34)C(=O)...</td>\n",
       "    </tr>\n",
       "    <tr>\n",
       "      <th>4</th>\n",
       "      <td>CHEMBL3957649</td>\n",
       "      <td>9.70</td>\n",
       "      <td>Nc1ncc(-c2ccccc2F)nc1C(=O)Nc1cnccc1N1CCNCC1</td>\n",
       "    </tr>\n",
       "  </tbody>\n",
       "</table>\n",
       "</div>"
      ],
      "text/plain": [
       "  molecule_chembl_id  pchembl_value   \n",
       "0      CHEMBL2386094          10.89  \\\n",
       "1      CHEMBL3895998          10.00   \n",
       "2      CHEMBL4084855          10.00   \n",
       "3       CHEMBL564450           9.85   \n",
       "4      CHEMBL3957649           9.70   \n",
       "\n",
       "                                              smiles  \n",
       "0  O=C1NC(=O)C(c2cn3c4c(cc(F)cc24)CN(C(=O)N2CCOCC...  \n",
       "1     Nc1ncc(-c2ccccc2F)nc1C(=O)Nc1cnccc1N1CCC(N)CC1  \n",
       "2  COc1ccc(N2CCN(c3nc(-c4ccncn4)cc(=O)n3C)[C@H](C...  \n",
       "3  COc1cc(C2=C(c3cn(CCN4CCN(C)CC4)c4ccccc34)C(=O)...  \n",
       "4        Nc1ncc(-c2ccccc2F)nc1C(=O)Nc1cnccc1N1CCNCC1  "
      ]
     },
     "execution_count": 52,
     "metadata": {},
     "output_type": "execute_result"
    }
   ],
   "source": [
    "df_output = df_output.rename(columns= {'molecule_structures':'smiles'})\n",
    "print(f'Total of compounds is: {str(len(df_output))}')\n",
    "df_output.head()"
   ]
  },
  {
   "cell_type": "markdown",
   "metadata": {},
   "source": [
    "In order to use the following rdkit function, it is necessary that all the compounds have SMILES, for this reason we eliminate the compounds without SMILES in the dataframe"
   ]
  },
  {
   "cell_type": "code",
   "execution_count": 53,
   "metadata": {},
   "outputs": [
    {
     "name": "stdout",
     "output_type": "stream",
     "text": [
      "Total of compounds is: 2697\n"
     ]
    },
    {
     "data": {
      "text/html": [
       "<div>\n",
       "<style scoped>\n",
       "    .dataframe tbody tr th:only-of-type {\n",
       "        vertical-align: middle;\n",
       "    }\n",
       "\n",
       "    .dataframe tbody tr th {\n",
       "        vertical-align: top;\n",
       "    }\n",
       "\n",
       "    .dataframe thead th {\n",
       "        text-align: right;\n",
       "    }\n",
       "</style>\n",
       "<table border=\"1\" class=\"dataframe\">\n",
       "  <thead>\n",
       "    <tr style=\"text-align: right;\">\n",
       "      <th></th>\n",
       "      <th>molecule_chembl_id</th>\n",
       "      <th>pchembl_value</th>\n",
       "      <th>smiles</th>\n",
       "    </tr>\n",
       "  </thead>\n",
       "  <tbody>\n",
       "    <tr>\n",
       "      <th>0</th>\n",
       "      <td>CHEMBL2386094</td>\n",
       "      <td>10.89</td>\n",
       "      <td>O=C1NC(=O)C(c2cn3c4c(cc(F)cc24)CN(C(=O)N2CCOCC...</td>\n",
       "    </tr>\n",
       "    <tr>\n",
       "      <th>1</th>\n",
       "      <td>CHEMBL3895998</td>\n",
       "      <td>10.00</td>\n",
       "      <td>Nc1ncc(-c2ccccc2F)nc1C(=O)Nc1cnccc1N1CCC(N)CC1</td>\n",
       "    </tr>\n",
       "    <tr>\n",
       "      <th>2</th>\n",
       "      <td>CHEMBL4084855</td>\n",
       "      <td>10.00</td>\n",
       "      <td>COc1ccc(N2CCN(c3nc(-c4ccncn4)cc(=O)n3C)[C@H](C...</td>\n",
       "    </tr>\n",
       "    <tr>\n",
       "      <th>3</th>\n",
       "      <td>CHEMBL564450</td>\n",
       "      <td>9.85</td>\n",
       "      <td>COc1cc(C2=C(c3cn(CCN4CCN(C)CC4)c4ccccc34)C(=O)...</td>\n",
       "    </tr>\n",
       "    <tr>\n",
       "      <th>4</th>\n",
       "      <td>CHEMBL3957649</td>\n",
       "      <td>9.70</td>\n",
       "      <td>Nc1ncc(-c2ccccc2F)nc1C(=O)Nc1cnccc1N1CCNCC1</td>\n",
       "    </tr>\n",
       "  </tbody>\n",
       "</table>\n",
       "</div>"
      ],
      "text/plain": [
       "  molecule_chembl_id  pchembl_value   \n",
       "0      CHEMBL2386094          10.89  \\\n",
       "1      CHEMBL3895998          10.00   \n",
       "2      CHEMBL4084855          10.00   \n",
       "3       CHEMBL564450           9.85   \n",
       "4      CHEMBL3957649           9.70   \n",
       "\n",
       "                                              smiles  \n",
       "0  O=C1NC(=O)C(c2cn3c4c(cc(F)cc24)CN(C(=O)N2CCOCC...  \n",
       "1     Nc1ncc(-c2ccccc2F)nc1C(=O)Nc1cnccc1N1CCC(N)CC1  \n",
       "2  COc1ccc(N2CCN(c3nc(-c4ccncn4)cc(=O)n3C)[C@H](C...  \n",
       "3  COc1cc(C2=C(c3cn(CCN4CCN(C)CC4)c4ccccc34)C(=O)...  \n",
       "4        Nc1ncc(-c2ccccc2F)nc1C(=O)Nc1cnccc1N1CCNCC1  "
      ]
     },
     "execution_count": 53,
     "metadata": {},
     "output_type": "execute_result"
    }
   ],
   "source": [
    "df_output = df_output[~df_output['smiles'].isnull()]\n",
    "print(f'Total of compounds is: {str(len(df_output))}')\n",
    "df_output.head()"
   ]
  },
  {
   "cell_type": "markdown",
   "metadata": {},
   "source": [
    "## Draw the molecule\n",
    "\n",
    "Let's add a new column to the dataframe with the `.AddMoleculeColumnToFrame` function which converts the molecules contained in \"smilesCol\" into RDKit molecules and adds them to the dataframe"
   ]
  },
  {
   "cell_type": "code",
   "execution_count": 54,
   "metadata": {},
   "outputs": [
    {
     "data": {
      "text/html": [
       "<div>\n",
       "<style scoped>\n",
       "    .dataframe tbody tr th:only-of-type {\n",
       "        vertical-align: middle;\n",
       "    }\n",
       "\n",
       "    .dataframe tbody tr th {\n",
       "        vertical-align: top;\n",
       "    }\n",
       "\n",
       "    .dataframe thead th {\n",
       "        text-align: right;\n",
       "    }\n",
       "</style>\n",
       "<table border=\"1\" class=\"dataframe\">\n",
       "  <thead>\n",
       "    <tr style=\"text-align: right;\">\n",
       "      <th></th>\n",
       "      <th>molecule_chembl_id</th>\n",
       "      <th>pchembl_value</th>\n",
       "      <th>smiles</th>\n",
       "      <th>ROMol</th>\n",
       "    </tr>\n",
       "  </thead>\n",
       "  <tbody>\n",
       "    <tr>\n",
       "      <th>0</th>\n",
       "      <td>CHEMBL2386094</td>\n",
       "      <td>10.89</td>\n",
       "      <td>O=C1NC(=O)C(c2cn3c4c(cc(F)cc24)CN(C(=O)N2CCOCC...</td>\n",
       "      <td>&lt;rdkit.Chem.rdchem.Mol object at 0x0000022DE1B...</td>\n",
       "    </tr>\n",
       "    <tr>\n",
       "      <th>1</th>\n",
       "      <td>CHEMBL3895998</td>\n",
       "      <td>10.00</td>\n",
       "      <td>Nc1ncc(-c2ccccc2F)nc1C(=O)Nc1cnccc1N1CCC(N)CC1</td>\n",
       "      <td>&lt;rdkit.Chem.rdchem.Mol object at 0x0000022DE1B...</td>\n",
       "    </tr>\n",
       "    <tr>\n",
       "      <th>2</th>\n",
       "      <td>CHEMBL4084855</td>\n",
       "      <td>10.00</td>\n",
       "      <td>COc1ccc(N2CCN(c3nc(-c4ccncn4)cc(=O)n3C)[C@H](C...</td>\n",
       "      <td>&lt;rdkit.Chem.rdchem.Mol object at 0x0000022DE1B...</td>\n",
       "    </tr>\n",
       "    <tr>\n",
       "      <th>3</th>\n",
       "      <td>CHEMBL564450</td>\n",
       "      <td>9.85</td>\n",
       "      <td>COc1cc(C2=C(c3cn(CCN4CCN(C)CC4)c4ccccc34)C(=O)...</td>\n",
       "      <td>&lt;rdkit.Chem.rdchem.Mol object at 0x0000022DE1B...</td>\n",
       "    </tr>\n",
       "    <tr>\n",
       "      <th>4</th>\n",
       "      <td>CHEMBL3957649</td>\n",
       "      <td>9.70</td>\n",
       "      <td>Nc1ncc(-c2ccccc2F)nc1C(=O)Nc1cnccc1N1CCNCC1</td>\n",
       "      <td>&lt;rdkit.Chem.rdchem.Mol object at 0x0000022DE1B...</td>\n",
       "    </tr>\n",
       "  </tbody>\n",
       "</table>\n",
       "</div>"
      ],
      "text/plain": [
       "  molecule_chembl_id  pchembl_value   \n",
       "0      CHEMBL2386094          10.89  \\\n",
       "1      CHEMBL3895998          10.00   \n",
       "2      CHEMBL4084855          10.00   \n",
       "3       CHEMBL564450           9.85   \n",
       "4      CHEMBL3957649           9.70   \n",
       "\n",
       "                                              smiles   \n",
       "0  O=C1NC(=O)C(c2cn3c4c(cc(F)cc24)CN(C(=O)N2CCOCC...  \\\n",
       "1     Nc1ncc(-c2ccccc2F)nc1C(=O)Nc1cnccc1N1CCC(N)CC1   \n",
       "2  COc1ccc(N2CCN(c3nc(-c4ccncn4)cc(=O)n3C)[C@H](C...   \n",
       "3  COc1cc(C2=C(c3cn(CCN4CCN(C)CC4)c4ccccc34)C(=O)...   \n",
       "4        Nc1ncc(-c2ccccc2F)nc1C(=O)Nc1cnccc1N1CCNCC1   \n",
       "\n",
       "                                               ROMol  \n",
       "0  <rdkit.Chem.rdchem.Mol object at 0x0000022DE1B...  \n",
       "1  <rdkit.Chem.rdchem.Mol object at 0x0000022DE1B...  \n",
       "2  <rdkit.Chem.rdchem.Mol object at 0x0000022DE1B...  \n",
       "3  <rdkit.Chem.rdchem.Mol object at 0x0000022DE1B...  \n",
       "4  <rdkit.Chem.rdchem.Mol object at 0x0000022DE1B...  "
      ]
     },
     "execution_count": 54,
     "metadata": {},
     "output_type": "execute_result"
    }
   ],
   "source": [
    "PandasTools.AddMoleculeColumnToFrame(df_output, smilesCol='smiles')\n",
    "df_output.head()"
   ]
  },
  {
   "cell_type": "markdown",
   "metadata": {},
   "source": [
    "Now we can call any compound to see its 2D representation"
   ]
  },
  {
   "cell_type": "code",
   "execution_count": 55,
   "metadata": {},
   "outputs": [
    {
     "data": {
      "image/png": "[encoded data removed]",
      "text/plain": [
       "<rdkit.Chem.rdchem.Mol at 0x22de1b88510>"
      ]
     },
     "execution_count": 55,
     "metadata": {},
     "output_type": "execute_result"
    }
   ],
   "source": [
    "df_output.ROMol.iloc[0]"
   ]
  },
  {
   "cell_type": "markdown",
   "metadata": {},
   "source": [
    "## Save the obtained dataframe\n",
    "\n",
    "It will save the dataframe as a csv file"
   ]
  },
  {
   "cell_type": "code",
   "execution_count": 56,
   "metadata": {},
   "outputs": [],
   "source": [
    "df_output.to_csv(f\"data/compounds_{uniprot_id}_full.csv\", index=0)"
   ]
  },
  {
   "cell_type": "markdown",
   "metadata": {},
   "source": [
    "## Practice Activity\n",
    "Taking into account what you have learned in this Notebook, answer:\n",
    "1. What other data can we obtain from ChEMBL of the target of interest?\n",
    "2. Could a new classification of the compounds be carried out filtering them only by the pEC50?, check it and observe the differences\n",
    "3. Obtain the known data of the compounds, referring to inhibition and activity."
   ]
  },
  {
   "cell_type": "markdown",
   "metadata": {},
   "source": [
    "## Conclusions\n",
    "In this practice, the ChEMBL database was used to obtain data on bioactive compounds against our target of interest. These extracted data in the form of dictionaries and lists were converted into a DataFrame which allows easy visualization of the information obtained. In addition, data from the bioactive compounds were obtained, DataFrames were combined, columns were renamed and a panda tool was used to add a new column to the constructed DataFrame."
   ]
  },
  {
   "cell_type": "markdown",
   "metadata": {},
   "source": [
    "# References\n",
    "1. Coudert, E., Gehant, S., De Castro, E., Pozzato, M., Baratin, D., Neto, T., Sigrist, C. J. A., Redaschi, N., Bridge, A., The UniProt Consortium, Bridge, A. J., Aimo, L., Argoud-Puy, G., Auchincloss, A. H., Axelsen, K. B., Bansal, P., Baratin, D., Neto, T. M. B., Blatter, M.-C., … Wang, Y. (2023). Annotation of biologically relevant ligands in UniProtKB using ChEBI. Bioinformatics, 39(1), btac793. https://doi.org/10.1093/bioinformatics/btac793\n",
    "\n",
    "2. Mendez, D., Gaulton, A., Bento, A. P., Chambers, J., De Veij, M., Félix, E., Magariños, M. P., Mosquera, J. F., Mutowo, P., Nowotka, M., Gordillo-Marañón, M., Hunter, F., Junco, L., Mugumbate, G., Rodriguez-Lopez, M., Atkinson, F., Bosc, N., Radoux, C. J., Segura-Cabrera, A., … Leach, A. R. (2019). ChEMBL: Towards direct deposition of bioassay data. Nucleic Acids Research, 47(D1), D930-D940. https://doi.org/10.1093/nar/gky1075\n",
    "\n",
    "3. Aykul, S., & Martinez-Hackert, E. (2016). Determination of half-maximal inhibitory concentration using biosensor-based protein interaction analysis. Analytical Biochemistry, 508, 97-103. https://doi.org/10.1016/j.ab.2016.06.025\n",
    "\n",
    "4. Waller, D. G., & Sampson, A. P. (2018). Principles of pharmacology and mechanisms of drug action. En Medical Pharmacology and Therapeutics (pp. 3-31). Elsevier. https://doi.org/10.1016/B978-0-7020-7167-6.00001-4\n",
    "\n",
    "5. Daylight>cheminformatics. (2022). https://www.daylight.com/smiles/\n"
   ]
  }
 ],
 "metadata": {
  "kernelspec": {
   "display_name": "Python 3 (ipykernel)",
   "language": "python",
   "name": "python3"
  },
  "language_info": {
   "codemirror_mode": {
    "name": "ipython",
    "version": 3
   },
   "file_extension": ".py",
   "mimetype": "text/x-python",
   "name": "python",
   "nbconvert_exporter": "python",
   "pygments_lexer": "ipython3",
   "version": "3.8.17"
  }
 },
 "nbformat": 4,
 "nbformat_minor": 4
}
