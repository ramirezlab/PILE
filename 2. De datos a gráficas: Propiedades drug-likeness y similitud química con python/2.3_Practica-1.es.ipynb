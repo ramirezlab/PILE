{
 "cells": [
  {
   "cell_type": "markdown",
   "metadata": {},
   "source": [
    "# Práctica 1: Análisis estadístico de la Regla de Lipinski\n",
    "\n",
    "> **Note:** Este libro esta disponible de dos maneras: \n",
    "> 1. Descargando el repositorio y siguiendo las instrucciones que estan en el archivo [README.md](https://github.com/ramirezlab/PILE/blob/main/README.md)\n",
    "> 2. Haciendo clic aquí en [![Open In Colab](https://colab.research.google.com/assets/colab-badge.svg)](https://colab.research.google.com/github/ramirezlab/PILE/blob/main/2.%20De%20datos%20a%20gráficas%3A%20Propiedades%20drug-likeness%20y%20similitud%20química%20con%20python/2.3_Practica-1.es.ipynb?hl=es)\n",
    "\n",
    "## Conceptos a trabajar\n",
    "\n",
    "### **Farmacocinética**\n",
    "\n",
    "La farmacocinética es el estudio de lo que le sucede a un compuesto en un organismo durante un período de tiempo<sup> **1** </sup> . Se divide en cuatro pasos: **A**bsorción, **D**istribución, **M**etabolismo y **E**xcreción (ADME)**<sup> 1, </sup>** **<sup> 2 </sup>**. En ocasiones también se incluye **T**oxicología (ADMET) y **L**iberación (LADME).\n",
    "\n",
    " \n",
    "<img src=\"img/ADME-es.jpg\" alt=\"ADME\" width=\"800\"/>\n",
    "\n",
    "*Figura 1*. Pasos que componen la farmacocinética. Adaptada de: [Somvanshi, Kharat, Jadhav, Thorat y Townley, 2021](https://doi.org/10.1016/B978-0-323-85050-6.00007-4)\n",
    "\n",
    "   * **Absorción:** Se refiere a la cantidad y el tiempo que tarda un compuesto o sustancia en ingresar a la circulación sistémica desde el sitio de administración. Depende de múltiples factores como la capacidad del compuesto para penetrar la pared intestinal, la solubilidad del compuesto, el tiempo de vaciado gástrico, la estabilidad química del compuesto en el estómago, entre otros<sup> **1, 2** </sup>.\n",
    "   * **Distribución:** Se refiere a cómo una sustancia se distribuye por todo el cuerpo. Depende de la difusión y la convección, que pueden verse influidas por la polaridad, el tamaño o la capacidad de unión del fármaco, el estado de líquidos del paciente o la constitución corporal del individuo. Es muy importante lograr la concentración eficaz del fármaco en el sitio del receptor porque, para ser eficaz, un medicamento debe llegar a su destino compartimental designado<sup> **1,2** </sup>.\n",
    "   * **Metabolismo:** Se refiere al procesamiento del fármaco por parte del cuerpo en compuestos posteriores. También puede ser convertir un fármaco en sustancias más solubles en agua para que sea más fácil de excretar o, en el caso de los profármacos, se requiere el metabolismo para convertir el fármaco en metabolitos activos<sup> **1,2** </sup>.\n",
    "   * **Excreción:** Se refiere al proceso por el cual el fármaco es eliminado del organismo. Generalmente, los riñones son conductos de excreción por filtración pasiva en los glomérulos o secreción en los túbulos<sup> **1, 2** </sup>.\n",
    "\n",
    "### **Reglas de Lipinski:**\n",
    "\n",
    "Las reglas de Lipinski es una forma de descartar compuestos con probables problemas de absorción. Esta regla establece que la mala absorción o penetración de un fármaco es más probable cuando la estructura química cumple con dos o más de los siguientes criterios<sup> **3** </sup>:\n",
    "1. El peso molecular (MW) es superior a 500.\n",
    "2. El valor de log P calculado es superior a 5.\n",
    "3. Hay más de 5 donantes de enlaces de hidrógeno (–NH–, –OH).\n",
    "4. El número de aceptores de enlaces de hidrógeno (–N ¼ , –O–) es mayor que 10.\n",
    "\n",
    "Es importante saber que la regla de cinco no categoriza definitivamente todos los compuestos bien y mal absorbidos, aunque es simple, rápida y proporciona un grado razonable de clasificación."
   ]
  },
  {
   "cell_type": "markdown",
   "metadata": {},
   "source": [
    "## Planteamiento del problema\n",
    "\n",
    "Para una investigación de un nuevo fármaco queremos saber si realmente es absorbido por el cuerpo, si es capaz de cruzar ciertas barreras para llegar a su objetivo, cómo se metaboliza y cómo se excreta del cuerpo. De esta manera, los médicos tendrán mayor flexibilidad en la prescripción y administración de medicamentos, brindando así mayor beneficio con menor riesgo y haciendo los ajustes necesarios, dada la variada fisiología y estilos de vida de los pacientes.\n",
    "\n",
    "Para conocer la absorción de los compuestos utilizaremos herramientas bioinformáticas para poder calcular la regla de cinco de Lipinski y luego calcularemos unos estadísticos para graficarlos y analizarlos."
   ]
  },
  {
   "cell_type": "markdown",
   "metadata": {},
   "source": [
    "## Importar las bibliotecas necesarias"
   ]
  },
  {
   "cell_type": "code",
   "execution_count": 4,
   "metadata": {
    "ExecuteTime": {
     "end_time": "2023-04-18T15:57:25.068700Z",
     "start_time": "2023-04-18T15:57:24.942647Z"
    }
   },
   "outputs": [
    {
     "name": "stdout",
     "output_type": "stream",
     "text": [
      "Requirement already satisfied: rdkit in /Users/jessicavalero/anaconda3/envs/chemo/lib/python3.8/site-packages (2023.3.2)\n",
      "Requirement already satisfied: numpy in /Users/jessicavalero/anaconda3/envs/chemo/lib/python3.8/site-packages (from rdkit) (1.24.4)\n",
      "Requirement already satisfied: Pillow in /Users/jessicavalero/anaconda3/envs/chemo/lib/python3.8/site-packages (from rdkit) (10.0.0)\n"
     ]
    }
   ],
   "source": [
    "!pip install rdkit\n",
    "from rdkit import Chem\n",
    "from rdkit.Chem import Descriptors\n",
    "import pandas as pd\n",
    "from rdkit.Chem import Draw\n",
    "import numpy as np\n",
    "\n",
    "import seaborn as sns\n",
    "import matplotlib.pyplot as plt\n",
    "import matplotlib.patches as mpatches\n",
    "from matplotlib.lines import Line2D\n",
    "from math import pi\n",
    "import os\n",
    "from pathlib import Path\n",
    "import requests\n",
    "from io import StringIO"
   ]
  },
  {
   "cell_type": "markdown",
   "metadata": {},
   "source": [
    "## Cargar conjunto de datos de P49841\n",
    "El conjunto de datos contiene los compuestos bioactivos contra la glucógeno sintasa quinasa-3 beta que construimos en el tutorial 2.1_Dataframes.\n",
    "Lo primero que vamos a hacer es importar la base de datos, tenemos que crear un `directorio raíz` (`ROOT_DIR`) para poder navegar hasta el archivo."
   ]
  },
  {
   "cell_type": "code",
   "execution_count": null,
   "metadata": {},
   "outputs": [],
   "source": [
    "# URL del archivo CSV\n",
    "csv_url = 'https://raw.githubusercontent.com/ramirezlab/PILE/main/2.%20De%20datos%20a%20gráficas%3A%20Propiedades%20drug-likeness%20y%20similitud%20química%20con%20python/data/compounds_P49841_full.csv'\n",
    "\n",
    "# Descargar el archivo\n",
    "response = requests.get(csv_url)\n",
    "response.encoding = 'utf-8'  # Asegurar la codificación correcta\n",
    "\n",
    "# Leer el archivo descargado como un DataFrame de pandas\n",
    "df_output = pd.read_csv(StringIO(response.text), encoding='utf-8')\n",
    "\n",
    "# Mostrar las primeras 5 filas\n",
    "df_output.head()"
   ]
  },
  {
   "cell_type": "markdown",
   "metadata": {},
   "source": [
    "## Las reglas de Lipinski (Ro5)\n",
    "\n",
    "La siguiente función nos permitirá calcular las propiedades químicas de la regla de cinco de Lipinski teniendo como entrada los `SMILES`. Luego se definirán las condiciones de la regla de cinco y finalmente tendremos información de si se viola la regla de cinco."
   ]
  },
  {
   "cell_type": "code",
   "execution_count": 6,
   "metadata": {
    "ExecuteTime": {
     "end_time": "2023-04-18T15:57:31.359366Z",
     "start_time": "2023-04-18T15:57:31.323036Z"
    }
   },
   "outputs": [],
   "source": [
    "def Ro5(df):\n",
    "    \n",
    "    smi = df['smiles']\n",
    "    m = Chem.MolFromSmiles(smi)\n",
    "    \n",
    "    # Calcular la regla de cinco propiedades químicas\n",
    "    MW = Descriptors.ExactMolWt(m)\n",
    "    HBA = Descriptors.NumHAcceptors(m)\n",
    "    HBD = Descriptors.NumHDonors(m)\n",
    "    LogP = Descriptors.MolLogP(m)\n",
    "    \n",
    "    # Regla de cinco condiciones\n",
    "    conditions = [MW <= 500, HBA <= 10, HBD <= 5, LogP <= 5]\n",
    "    \n",
    "    # Crear una fila de pandas para resultados de condiciones con valores e información sobre si se viola la regla de cinco\n",
    "    return pd.Series([MW, HBA, HBD, LogP, 'yes']) if conditions.count(True) >= 3 else pd.Series([MW, HBA, HBD, LogP, 'no'])"
   ]
  },
  {
   "cell_type": "markdown",
   "metadata": {},
   "source": [
    "Ahora vamos a aplicar las Ro5 a nuestro conjunto de datos"
   ]
  },
  {
   "cell_type": "code",
   "execution_count": null,
   "metadata": {
    "ExecuteTime": {
     "end_time": "2023-04-18T15:57:36.441804Z",
     "start_time": "2023-04-18T15:57:33.861469Z"
    }
   },
   "outputs": [],
   "source": [
    "# Aplica la función Ro5 a cada fila del DataFrame df_output y almacena el resultado en df_rule5\n",
    "df_rule5 = df_output.apply(Ro5, axis=1)\n",
    "\n",
    "# Asigna nombres a las columnas del DataFrame df_rule5\n",
    "df_rule5.columns = ['MW', 'HBA', 'HBD', 'LogP', 'rule_of_five_conform']\n",
    "\n",
    "# Muestra las primeras 5 filas del DataFrame actualizado\n",
    "df_rule5.head()"
   ]
  },
  {
   "cell_type": "code",
   "execution_count": null,
   "metadata": {
    "ExecuteTime": {
     "end_time": "2023-04-18T15:57:37.996635Z",
     "start_time": "2023-04-18T15:57:37.948483Z"
    }
   },
   "outputs": [],
   "source": [
    "# Une el DataFrame df_output con df_rule5 agregando las columnas generadas por la regla de los cinco (Ro5)\n",
    "df_molecule = df_output.join(df_rule5)\n",
    "\n",
    "# Muestra las primeras 5 filas del DataFrame actualizado\n",
    "df_molecule.head()"
   ]
  },
  {
   "cell_type": "code",
   "execution_count": null,
   "metadata": {
    "ExecuteTime": {
     "end_time": "2023-04-18T15:57:39.373540Z",
     "start_time": "2023-04-18T15:57:39.176650Z"
    }
   },
   "outputs": [],
   "source": [
    "# Filtrar el DataFrame para mantener solo los compuestos que cumplen con la regla de cinco (Ro5)\n",
    "fil_df = df_molecule[df_molecule['rule_of_five_conform'] == 'yes']\n",
    "\n",
    "# Imprimir el número total de compuestos en el DataFrame original\n",
    "print('# de compuestos:', len(df_molecule))\n",
    "\n",
    "# Imprimir el número de compuestos que cumplen con la regla de cinco\n",
    "print('# de compuestos en conjunto de datos filtrados:', len(fil_df))\n",
    "\n",
    "# Imprimir el número de compuestos que NO cumplen con la regla de cinco de Lipinski\n",
    "print(\"# de compuestos que no cumplen con la regla de cinco de Lipinski:\", (len(df_molecule) - len(fil_df)))\n",
    "\n",
    "# Contar y mostrar cuántos compuestos cumplen y cuántos no cumplen la regla de cinco\n",
    "print(df_molecule.rule_of_five_conform.value_counts())\n",
    "\n",
    "# Generar un gráfico de barras con la distribución de compuestos que cumplen y no cumplen la regla de cinco\n",
    "df_molecule.rule_of_five_conform.value_counts().plot.bar()"
   ]
  },
  {
   "cell_type": "code",
   "execution_count": 10,
   "metadata": {
    "ExecuteTime": {
     "end_time": "2023-04-18T15:57:41.089802Z",
     "start_time": "2023-04-18T15:57:41.044127Z"
    }
   },
   "outputs": [],
   "source": [
    "# Crea un directorio llamado 'data/' si no existe\n",
    "!mkdir -p data/\n",
    "\n",
    "# Guarda el DataFrame df_molecule en un archivo CSV dentro del directorio 'data/'\n",
    "df_molecule.to_csv('data/compounds_P49841_lipinski.csv', index=False)"
   ]
  },
  {
   "cell_type": "markdown",
   "metadata": {},
   "source": [
    "## Graficar las propiedades de la regla de cinco por molécula como gráficos de barras."
   ]
  },
  {
   "cell_type": "code",
   "execution_count": null,
   "metadata": {
    "ExecuteTime": {
     "end_time": "2023-04-18T15:57:41.985500Z",
     "start_time": "2023-04-18T15:57:41.952048Z"
    }
   },
   "outputs": [],
   "source": [
    "# Importar las librerías necesarias\n",
    "import pandas as pd\n",
    "import requests\n",
    "from io import StringIO\n",
    "\n",
    "# URL del archivo CSV con el conjunto de datos\n",
    "csv_url = 'https://raw.githubusercontent.com/ramirezlab/PILE/main/2.%20De%20datos%20a%20gráficas%3A%20Propiedades%20drug-likeness%20y%20similitud%20química%20con%20python/data/compounds_P49841_lipinski.csv'\n",
    "\n",
    "# Descargar el archivo desde la URL\n",
    "response = requests.get(csv_url)\n",
    "response.encoding = 'utf-8'  # Asegurar que el archivo se interprete correctamente con codificación UTF-8\n",
    "\n",
    "# Intentar leer el archivo CSV con la codificación 'utf-8'\n",
    "try:\n",
    "    lipinski_comp = pd.read_csv(StringIO(response.text), encoding='utf-8')\n",
    "except UnicodeDecodeError:  \n",
    "    # Si ocurre un error de codificación, intentar con 'latin1'\n",
    "    lipinski_comp = pd.read_csv(StringIO(response.text), encoding='latin1')\n",
    "\n",
    "# Mostrar las primeras 10 filas del DataFrame para verificar la correcta importación de los datos\n",
    "lipinski_comp.head(10)"
   ]
  },
  {
   "cell_type": "code",
   "execution_count": null,
   "metadata": {
    "ExecuteTime": {
     "end_time": "2023-04-18T15:57:43.292601Z",
     "start_time": "2023-04-18T15:57:43.265661Z"
    }
   },
   "outputs": [],
   "source": [
    "# Seleccionar las primeras 5 filas del DataFrame lipinski_comp\n",
    "comp_5_lipinski = lipinski_comp.iloc[:5]\n",
    "\n",
    "# Mostrar el subconjunto de los primeros 5 compuestos\n",
    "comp_5_lipinski"
   ]
  },
  {
   "cell_type": "markdown",
   "metadata": {},
   "source": [
    "#### Ahora haremos el gráfico de barras."
   ]
  },
  {
   "cell_type": "code",
   "execution_count": 14,
   "metadata": {
    "ExecuteTime": {
     "end_time": "2023-04-18T15:57:44.780652Z",
     "start_time": "2023-04-18T15:57:44.763697Z"
    }
   },
   "outputs": [],
   "source": [
    "# Definir un diccionario con las propiedades de la regla de cinco de Lipinski\n",
    "ro5_properties = {\n",
    "    \"MW\": (500, \"molecular weight (g/mol)\"),  # Peso molecular máximo permitido: 500 g/mol\n",
    "    \"HBA\": (10, \"# HBA\"),  # Máximo 10 aceptores de enlaces de hidrógeno (HBA)\n",
    "    \"HBD\": (5, \"# HBD\"),  # Máximo 5 donantes de enlaces de hidrógeno (HBD)\n",
    "    \"LogP\": (5, \"logP\"),  # Coeficiente de partición logP máximo de 5\n",
    "}\n"
   ]
  },
  {
   "cell_type": "code",
   "execution_count": null,
   "metadata": {
    "ExecuteTime": {
     "end_time": "2023-04-18T15:57:46.542958Z",
     "start_time": "2023-04-18T15:57:46.115944Z"
    }
   },
   "outputs": [],
   "source": [
    "# Crear una figura con 4 subgráficas en una sola fila (1 row, 4 columns)\n",
    "fig, axes = plt.subplots(figsize=(10, 2.5), nrows=1, ncols=4)\n",
    "\n",
    "# Crear un array con las posiciones en el eje X para los 5 compuestos seleccionados\n",
    "x = np.arange(1, len(comp_5_lipinski) + 1)\n",
    "\n",
    "# Definir colores para las barras de cada compuesto\n",
    "colors = [\"DarkMagenta\", \"LightGreen\", \"blue\", \"DarkSalmon\", \"yellow\"]\n",
    "\n",
    "# Crear subgráficas para cada propiedad de la regla de cinco (Ro5)\n",
    "for index, (key, (threshold, title)) in enumerate(ro5_properties.items()):\n",
    "    # Generar gráfico de barras para cada propiedad de la Ro5\n",
    "    axes[index].bar([0, 1, 2, 3, 4], comp_5_lipinski[key], color=colors)\n",
    "    \n",
    "    # Agregar una línea de referencia en la posición del umbral definido por la Ro5\n",
    "    axes[index].axhline(y=threshold, color=\"black\", linestyle=\"dashed\")\n",
    "    \n",
    "    # Asignar título a la subgráfica con el nombre de la propiedad\n",
    "    axes[index].set_title(title)\n",
    "    \n",
    "    # Remover las etiquetas del eje X para mayor claridad\n",
    "    axes[index].set_xticks([])\n",
    "\n",
    "# Crear una leyenda con los identificadores de las moléculas y la línea de umbral\n",
    "legend_elements = [mpatches.Patch(color=color, label=row[\"molecule_chembl_id\"]) \n",
    "                   for color, (_, row) in zip(colors, comp_5_lipinski.iterrows())]\n",
    "\n",
    "# Agregar la línea de referencia a la leyenda\n",
    "legend_elements.append(Line2D([0], [0], color=\"black\", ls=\"dashed\", label=\"Threshold\"))\n",
    "\n",
    "# Posicionar la leyenda fuera de la figura para mejor visualización\n",
    "fig.legend(handles=legend_elements, bbox_to_anchor=(1.2, 0.8))\n",
    "\n",
    "# Ajustar el diseño de las subgráficas para evitar superposición\n",
    "plt.tight_layout()\n",
    "\n",
    "# Mostrar la figura\n",
    "plt.show()\n"
   ]
  },
  {
   "cell_type": "markdown",
   "metadata": {},
   "source": [
    "## Graficar las propiedades de la regla de cinco por molécula como diagramas de dispersión."
   ]
  },
  {
   "cell_type": "code",
   "execution_count": null,
   "metadata": {
    "ExecuteTime": {
     "end_time": "2023-04-18T15:57:52.693578Z",
     "start_time": "2023-04-18T15:57:47.611198Z"
    }
   },
   "outputs": [],
   "source": [
    "# Crear una figura de tamaño 20x20 para mejorar la visualización de los gráficos\n",
    "fig = plt.figure(figsize=(20, 20))\n",
    "\n",
    "# Generar un gráfico de pares (pairplot) usando Seaborn\n",
    "ax = sns.pairplot(\n",
    "    data=lipinski_comp,  # Usar el DataFrame con los compuestos filtrados\n",
    "    vars=['HBD', 'HBA', 'MW', 'LogP'],  # Seleccionar las variables a comparar\n",
    "    hue='rule_of_five_conform'  # Colorear los puntos según si cumplen la regla de cinco o no\n",
    ")\n",
    "\n",
    "# Mostrar el gráfico\n",
    "plt.show()\n",
    "\n",
    "# Cerrar la figura para liberar memoria\n",
    "plt.close()"
   ]
  },
  {
   "cell_type": "markdown",
   "metadata": {},
   "source": [
    "## Graficar las propiedades de la regla de cinco por molécula como gráfico de radar."
   ]
  },
  {
   "cell_type": "code",
   "execution_count": null,
   "metadata": {
    "ExecuteTime": {
     "end_time": "2023-04-18T15:57:54.277089Z",
     "start_time": "2023-04-18T15:57:54.250138Z"
    }
   },
   "outputs": [],
   "source": [
    "# URL del archivo CSV con el conjunto de datos\n",
    "csv_url = 'https://raw.githubusercontent.com/ramirezlab/PILE/main/2.%20De%20datos%20a%20gráficas%3A%20Propiedades%20drug-likeness%20y%20similitud%20química%20con%20python/data/compounds_P49841_lipinski.csv'\n",
    "\n",
    "# Descargar el archivo desde la URL\n",
    "response = requests.get(csv_url)\n",
    "response.encoding = 'utf-8'  # Asegurar que el archivo se interprete correctamente con codificación UTF-8\n",
    "\n",
    "# Leer el archivo CSV\n",
    "lipinski_comp = pd.read_csv(StringIO(response.text), encoding='utf-8')\n",
    "\n",
    "# Mostrar las primeras 10 filas del DataFrame para verificar la correcta importación de los datos\n",
    "lipinski_comp.head(10)"
   ]
  },
  {
   "cell_type": "markdown",
   "metadata": {},
   "source": [
    "Debido a que las propiedades químicas de la regla de cinco están en diferentes órdenes de magnitud, necesitamos transformarlas para poder visualizarlas en el diagrama de radar. En este caso, la mejor forma es transformar los datos de tal manera que los límites de validación sean todos 5:\n",
    "\n",
    "- MW original: 500 g/mol - MW modificado: 5 - regla: NW/100 (Masa molecular (g/mol)/100)\n",
    "- HBA original: 10 - HBA modificado: 5 - regla: HBA/2 (# Aceptores de enlaces de hidrogeno/2)\n",
    "- HBD original: 5 - no cambia (# Donores de enlaces de hidrógeno)\n",
    "- LogP original: 5 - no cambia (LogP)\n",
    "\n",
    "Por tanto, vamos a transformar las columnas `MW` y `HBA`, (los nuevos se agregan en las últimas columnas):"
   ]
  },
  {
   "cell_type": "code",
   "execution_count": null,
   "metadata": {
    "ExecuteTime": {
     "end_time": "2023-04-18T15:57:56.045882Z",
     "start_time": "2023-04-18T15:57:56.018703Z"
    },
    "collapsed": false,
    "jupyter": {
     "outputs_hidden": false
    }
   },
   "outputs": [],
   "source": [
    "# Escalar la masa molecular dividiéndola entre 100 y almacenarla en una nueva columna 'MW*100'\n",
    "lipinski_comp['MW*100'] = lipinski_comp['MW'] / 100\n",
    "\n",
    "# Escalar el número de aceptores de enlaces de hidrógeno dividiéndolo entre 2 y almacenarlo en 'HBA*2'\n",
    "lipinski_comp['HBA*2'] = lipinski_comp['HBA'] / 2\n",
    "\n",
    "# Mostrar las primeras 10 filas del DataFrame actualizado\n",
    "lipinski_comp.head(10)"
   ]
  },
  {
   "cell_type": "markdown",
   "metadata": {},
   "source": [
    "Para el gráfico de radar necesitamos las desviaciones media y estándar de un conjunto de datos, por lo que crearemos una función que nos permita calcular estas dos estadísticas para los valores escalados."
   ]
  },
  {
   "cell_type": "code",
   "execution_count": null,
   "metadata": {
    "ExecuteTime": {
     "end_time": "2023-04-18T15:57:57.674213Z",
     "start_time": "2023-04-18T15:57:57.647100Z"
    },
    "collapsed": false,
    "jupyter": {
     "outputs_hidden": false
    }
   },
   "outputs": [],
   "source": [
    "# Calcular estadísticas (media y desviación estándar) de las propiedades de la regla de cinco escaladas\n",
    "metrics_Ro5_stats_scaled = lipinski_comp[['MW*100', 'HBA*2', 'HBD', 'LogP']].agg([\"mean\", \"std\"])\n",
    "\n",
    "# Mostrar el DataFrame con las métricas calculadas\n",
    "metrics_Ro5_stats_scaled\n"
   ]
  },
  {
   "cell_type": "markdown",
   "metadata": {},
   "source": [
    "Ahora vamos a crear la función que realiza el gráfico. El conjunto de datos debe proporcionarse como entrada.\n",
    "La función escala los datos y encuentra la media y la desviación estándar para el diagrama de radar."
   ]
  },
  {
   "cell_type": "code",
   "execution_count": 21,
   "metadata": {
    "ExecuteTime": {
     "end_time": "2023-04-18T15:57:59.461521Z",
     "start_time": "2023-04-18T15:57:59.440842Z"
    }
   },
   "outputs": [],
   "source": [
    "def plot_radar(dataframe):\n",
    "    from math import pi\n",
    "    import numpy as np\n",
    "\n",
    "    # ------- PARTE 0: Conjunto de datos escalados / Métricas -------\n",
    "    df = dataframe.copy()  # Crear una copia del DataFrame original para no modificarlo directamente\n",
    "\n",
    "    # Escalar la masa molecular y los aceptores de enlaces de hidrógeno\n",
    "    df['MW*100'] = df['MW'] / 100\n",
    "    df['HBA*2'] = df['HBA'] / 2\n",
    "\n",
    "    # Calcular la media y la desviación estándar de las propiedades\n",
    "    metrics_Ro5_stats_scaled = df[['MW*100', 'HBA*2', 'HBD', 'LogP']].agg([\"mean\", \"std\"])\n",
    "    stats_mean = metrics_Ro5_stats_scaled.loc['mean']  # Extraer la media\n",
    "    stats_std = metrics_Ro5_stats_scaled.loc['std']  # Extraer la desviación estándar\n",
    "\n",
    "    # ------- PARTE 1: Crear el fondo del gráfico de radar -------\n",
    "    \n",
    "    # Número de variables a representar\n",
    "    N = 4\n",
    "\n",
    "    # Calcular los ángulos de cada eje en el gráfico de radar\n",
    "    angles = [n / float(N) * 2 * pi for n in range(N)]\n",
    "    angles += angles[:1]  # Cerrar el polígono\n",
    "\n",
    "    # Inicializar la figura y los ejes polares\n",
    "    fig = plt.figure(figsize=(8, 8))\n",
    "    ax = plt.subplot(111, polar=True)\n",
    "\n",
    "    # Si se desea rotar el gráfico para que el primer eje esté en la parte superior:\n",
    "    # ax.set_theta_offset(pi/2)\n",
    "    # ax.set_theta_direction(-1)\n",
    "\n",
    "    # Definir las categorías del gráfico\n",
    "    categories = ['MW (g/mol)*100', '# HBA*2', '# HBD', 'LogP']\n",
    "    plt.xticks(angles[:-1], categories, size=14)  # Etiquetas de los ejes\n",
    "\n",
    "    # Dibujar etiquetas del eje Y\n",
    "    ax.set_rlabel_position(0)\n",
    "    plt.yticks([1, 3, 5, 7], [\"1\", \"3\", \"5\", \"7\"], color=\"grey\", size=12)\n",
    "    plt.ylim(0, 7)  # Límite superior del eje Y\n",
    "\n",
    "    # ------- PARTE 2: Agregar datos al gráfico -------\n",
    "\n",
    "    # Datos de la media\n",
    "    data = stats_mean.values\n",
    "    data = np.append(data, data[0])  # Cerrar polígono\n",
    "    ax.plot(angles, data, linewidth=3, linestyle='solid', color='purple', label=\"mean\")\n",
    "\n",
    "    # Datos de la media + desviación estándar\n",
    "    data_std_up = stats_mean.values + stats_std.values\n",
    "    data_std_up = np.append(data_std_up, data_std_up[0])  # Cerrar polígono\n",
    "    ax.plot(angles, data_std_up, linewidth=2, linestyle='dashed', color='limegreen', label=\"mean + std\")\n",
    "\n",
    "    # Datos de la media - desviación estándar\n",
    "    data_std_down = stats_mean.values - stats_std.values\n",
    "    data_std_down = np.append(data_std_down, data_std_down[0])  # Cerrar polígono\n",
    "    ax.plot(angles, data_std_down, linewidth=2, linestyle='dashed', color='limegreen', label=\"mean - std\")\n",
    "\n",
    "    # Agregar texto con el número total de compuestos en el conjunto de datos\n",
    "    ax.text(-np.pi/3, 8, f'# Total data: {len(dataframe)}', size=14)\n",
    "\n",
    "    # Área correspondiente a la regla de cinco de Lipinski (valores de referencia)\n",
    "    ro5_properties = [5, 5, 5, 5, 5]  # Representa los límites de MW/100, HBA/2, HBD y LogP\n",
    "    ax.fill(angles, ro5_properties, 'thistle', alpha=0.6, label=\"rule of five area\")\n",
    "\n",
    "    # Agregar leyenda\n",
    "    plt.legend(loc='upper right')\n",
    "\n",
    "    # Mostrar el gráfico\n",
    "    plt.show()"
   ]
  },
  {
   "cell_type": "code",
   "execution_count": null,
   "metadata": {
    "ExecuteTime": {
     "end_time": "2023-04-18T15:58:01.520966Z",
     "start_time": "2023-04-18T15:58:01.326442Z"
    }
   },
   "outputs": [],
   "source": [
    "# Trazamos el radarplot para el conjunto de datos de compuestos (TODOS).\n",
    "plot_radar(df_molecule)"
   ]
  },
  {
   "cell_type": "markdown",
   "metadata": {},
   "source": [
    "### Radar plot - Rof confort: SÍ\n",
    "Ahora vamos a repetir el proceso, pero solo con las moléculas que pasaron la prueba de la regla de cinco.\n",
    "Primero debemos filtrar el conjunto `rule_of_five_conform: yes`"
   ]
  },
  {
   "cell_type": "code",
   "execution_count": null,
   "metadata": {
    "ExecuteTime": {
     "end_time": "2023-04-11T17:00:25.508424Z",
     "start_time": "2023-04-11T17:00:25.449052Z"
    }
   },
   "outputs": [],
   "source": [
    "# Filtrar el DataFrame para obtener solo los compuestos que cumplen con la regla de cinco de Lipinski\n",
    "df_molecule_Ro5_yes = df_molecule[df_molecule['rule_of_five_conform'] == 'yes']\n",
    "\n",
    "# Restablecer el índice del DataFrame, eliminando el índice anterior\n",
    "df_molecule_Ro5_yes.reset_index(inplace=True, drop=True)\n",
    "\n",
    "# Mostrar el conjunto de datos de compuestos que cumplen con la regla de cinco\n",
    "df_molecule_Ro5_yes\n"
   ]
  },
  {
   "cell_type": "markdown",
   "metadata": {},
   "source": [
    "Trazamos el radarplot para el conjunto de datos filtrado"
   ]
  },
  {
   "cell_type": "code",
   "execution_count": null,
   "metadata": {
    "ExecuteTime": {
     "end_time": "2023-04-11T17:00:25.750855Z",
     "start_time": "2023-04-11T17:00:25.465042Z"
    }
   },
   "outputs": [],
   "source": [
    "plot_radar(df_molecule_Ro5_yes)"
   ]
  },
  {
   "cell_type": "markdown",
   "metadata": {},
   "source": [
    "## Radar plot - Rof confort: NO\n",
    "Ahora vamos a repetir el proceso, pero solo con las moléculas que pasaron la prueba de la regla de cinco.\n",
    "Primero debemos filtrar el conjunto `rule_of_five_conform: no`"
   ]
  },
  {
   "cell_type": "code",
   "execution_count": null,
   "metadata": {
    "ExecuteTime": {
     "end_time": "2023-04-11T17:00:25.750855Z",
     "start_time": "2023-04-11T17:00:25.669539Z"
    }
   },
   "outputs": [],
   "source": [
    "# Filtrar el DataFrame para obtener solo los compuestos que NO cumplen con la regla de cinco de Lipinski\n",
    "df_molecule_Ro5_no = df_molecule[df_molecule['rule_of_five_conform'] == 'no']\n",
    "\n",
    "# Restablecer el índice del DataFrame, eliminando el índice anterior\n",
    "df_molecule_Ro5_no.reset_index(inplace=True, drop=True)\n",
    "\n",
    "# Mostrar el conjunto de datos de compuestos que NO cumplen con la regla de cinco\n",
    "df_molecule_Ro5_no\n"
   ]
  },
  {
   "cell_type": "markdown",
   "metadata": {},
   "source": [
    "Trazamos el diagrama de radar para el conjunto de datos de compuestos que violan el Ro5"
   ]
  },
  {
   "cell_type": "code",
   "execution_count": null,
   "metadata": {
    "ExecuteTime": {
     "end_time": "2023-04-11T17:00:26.009899Z",
     "start_time": "2023-04-11T17:00:25.685030Z"
    }
   },
   "outputs": [],
   "source": [
    "plot_radar(df_molecule_Ro5_no)"
   ]
  },
  {
   "cell_type": "markdown",
   "metadata": {},
   "source": [
    "##  Estimación cuantitativa de la similitud con un fármaco (QED)\n",
    "\n",
    "El QED es un descriptor utilizado para medir la similitud farmacológica de un compuesto. Aunque la regla de cinco (Ro5) se emplea comúnmente con este propósito, no todos los fármacos cumplen estrictamente con sus criterios. Aproximadamente el 16% de los medicamentos orales incumplen al menos uno de los parámetros de Ro5, y un 6% no satisface dos o más. Para cuantificar la calidad de los compuestos, se aplica el concepto de deseabilidad, lo que permite establecer una métrica cuantitativa denominada QED (Estimación Cuantitativa de la Similitud con los Fármacos). Los valores de QED oscilan entre cero, indicando la presencia de todas las propiedades desfavorables, y uno, representando un perfil con todas las propiedades favorables."
   ]
  },
  {
   "cell_type": "code",
   "execution_count": null,
   "metadata": {},
   "outputs": [],
   "source": [
    "# Importar librerías necesarias\n",
    "import pandas as pd\n",
    "import requests\n",
    "from io import StringIO\n",
    "from rdkit import Chem\n",
    "from rdkit.Chem import QED\n",
    "\n",
    "# URL del archivo CSV con los datos de los compuestos\n",
    "csv_url = 'https://raw.githubusercontent.com/ramirezlab/PILE/main/2.%20De%20datos%20a%20gráficas%3A%20Propiedades%20drug-likeness%20y%20similitud%20química%20con%20python/data/compounds_P49841_full.csv'\n",
    "\n",
    "# Descargar el archivo desde la URL\n",
    "response = requests.get(csv_url)\n",
    "response.encoding = 'utf-8'  # Asegurar la correcta codificación\n",
    "\n",
    "# Leer el archivo CSV en un DataFrame de pandas\n",
    "df_output = pd.read_csv(StringIO(response.text), encoding='utf-8')\n",
    "\n",
    "# Verificar las columnas disponibles\n",
    "print(df_output.columns)\n",
    "\n",
    "# Convertir SMILES a moléculas RDKit y calcular el QED\n",
    "def calculate_qed(smiles):\n",
    "    mol = Chem.MolFromSmiles(smiles)  # Convertir SMILES a objeto Mol de RDKit\n",
    "    if mol:  # Verificar si la conversión fue exitosa\n",
    "        return QED.qed(mol)  # Calcular QED\n",
    "    return None  # Devolver None si no se pudo calcular\n",
    "\n",
    "# Asegurar que la columna que contiene los SMILES se llama 'smiles' o renombrarla si es necesario\n",
    "if 'smiles' not in df_output.columns:\n",
    "    # Intentar detectar el nombre correcto de la columna de SMILES\n",
    "    smiles_col = [col for col in df_output.columns if 'smiles' in col.lower()]\n",
    "    if smiles_col:\n",
    "        df_output.rename(columns={smiles_col[0]: 'smiles'}, inplace=True)\n",
    "    else:\n",
    "        raise ValueError(\"No se encontró una columna con los valores SMILES en el archivo.\")\n",
    "\n",
    "# Aplicar la función para calcular el QED y agregarlo como nueva columna\n",
    "df_output['QED'] = df_output['smiles'].apply(calculate_qed)\n",
    "\n",
    "# Mostrar las primeras filas del DataFrame con la nueva columna QED\n",
    "df_output[['smiles', 'QED']].head()\n"
   ]
  },
  {
   "cell_type": "code",
   "execution_count": null,
   "metadata": {},
   "outputs": [],
   "source": [
    "# Importar librerías necesarias\n",
    "from rdkit import Chem\n",
    "from rdkit.Chem import QED\n",
    "\n",
    "# Crear una copia explícita del DataFrame df_molecule_Ro5_yes y asignarla a df_molecule_QED\n",
    "df_molecule_QED = df_molecule_Ro5_yes.copy()\n",
    "\n",
    "# Verificar las columnas disponibles\n",
    "print(df_molecule_QED.columns)\n",
    "\n",
    "# Intentar encontrar la columna correcta que contiene los SMILES\n",
    "smiles_col = [col for col in df_molecule_QED.columns if 'smiles' in col.lower()]\n",
    "if smiles_col:\n",
    "    df_molecule_QED = df_molecule_QED.rename(columns={smiles_col[0]: 'smiles'})\n",
    "else:\n",
    "    raise KeyError(\"No se encontró una columna con los valores SMILES en df_molecule_QED.\")\n",
    "\n",
    "# Función para calcular el QED\n",
    "def calculate_qed(smiles):\n",
    "    mol = Chem.MolFromSmiles(smiles)  # Convertir SMILES a objeto Mol de RDKit\n",
    "    return QED.qed(mol) if mol else None  # Calcular QED solo si la conversión fue exitosa\n",
    "\n",
    "# Aplicar la función a cada fila usando .loc para evitar el warning\n",
    "df_molecule_QED.loc[:, 'QED'] = df_molecule_QED['smiles'].apply(calculate_qed)\n",
    "\n",
    "# Ordenar por QED de mayor a menor\n",
    "df_molecule_QED_sorted = df_molecule_QED.sort_values(by='QED', ascending=False).reset_index(drop=True)\n",
    "\n",
    "# Seleccionar solo las columnas relevantes\n",
    "columns_to_show = ['smiles', 'molecule_chembl_id', 'MW', 'HBA', 'HBD', 'LogP', 'QED']\n",
    "df_molecule_QED_sorted = df_molecule_QED_sorted[columns_to_show]\n",
    "\n",
    "# Mostrar las primeras filas del DataFrame con la nueva columna QED\n",
    "df_molecule_QED_sorted.head(10)\n"
   ]
  },
  {
   "cell_type": "code",
   "execution_count": null,
   "metadata": {},
   "outputs": [],
   "source": [
    "# Ordenar el DataFrame por la columna 'QED' de mayor a menor\n",
    "df_molecule_QED_sorted = df_molecule_QED.sort_values(by='QED', ascending=False).reset_index(drop=True)\n",
    "\n",
    "# Seleccionar solo las columnas deseadas (ajusta los nombres según corresponda)\n",
    "columns_to_show = ['smiles', 'molecule_chembl_id', 'MW', 'HBA', 'HBD', 'LogP', 'QED']\n",
    "\n",
    "# Mostrar solo las columnas seleccionadas\n",
    "df_molecule_QED_sorted[columns_to_show].head(10)\n"
   ]
  },
  {
   "cell_type": "code",
   "execution_count": null,
   "metadata": {},
   "outputs": [],
   "source": [
    "# Verificar las columnas disponibles en el DataFrame\n",
    "print(df_molecule_QED_sorted.columns)"
   ]
  },
  {
   "cell_type": "code",
   "execution_count": null,
   "metadata": {},
   "outputs": [],
   "source": [
    "import numpy as np\n",
    "import matplotlib.pyplot as plt\n",
    "from math import pi\n",
    "\n",
    "def plot_radar(dataframe):\n",
    "    # ------- PARTE 0: Conjunto de datos escalados / Métricas -------\n",
    "    df = dataframe.copy()  # Crear una copia del DataFrame original para no modificarlo directamente\n",
    "\n",
    "    # Escalar MW, HBA y otros valores para que estén en una escala similar\n",
    "    df['MW*100'] = df['MW'] / 100\n",
    "    df['HBA*2'] = df['HBA'] / 2\n",
    "    df['QED*10'] = df['QED'] * 10  # Normalizar QED para que 10 sea equivalente a 1\n",
    "\n",
    "    # Calcular la media y la desviación estándar de las propiedades\n",
    "    metrics_Ro5_stats_scaled = df[['MW*100', 'HBA*2', 'HBD', 'LogP', 'QED*10']].agg([\"mean\", \"std\"])\n",
    "    stats_mean = metrics_Ro5_stats_scaled.loc['mean']  # Extraer la media\n",
    "    stats_std = metrics_Ro5_stats_scaled.loc['std']  # Extraer la desviación estándar\n",
    "\n",
    "    # ------- PARTE 1: Crear el fondo del gráfico de radar -------\n",
    "    \n",
    "    # Número de variables a representar\n",
    "    N = 5\n",
    "\n",
    "    # Calcular los ángulos de cada eje en el gráfico de radar\n",
    "    angles = [n / float(N) * 2 * pi for n in range(N)]\n",
    "    angles += angles[:1]  # Cerrar el polígono\n",
    "\n",
    "    # Inicializar la figura y los ejes polares\n",
    "    fig = plt.figure(figsize=(8, 8))\n",
    "    ax = plt.subplot(111, polar=True)\n",
    "\n",
    "    # Definir las categorías del gráfico\n",
    "    categories = ['MW (g/mol)*100', '# HBA', '# HBD', 'LogP', 'QED*10']\n",
    "    plt.xticks(angles[:-1], categories, size=14)  # Etiquetas de los ejes\n",
    "\n",
    "    # Dibujar etiquetas del eje Y\n",
    "    ax.set_rlabel_position(0)\n",
    "    plt.yticks([0.5, 2.5, 5, 7, 9, 11], [\"0.5\", \"2.5\", \"5\", \"7\", \"9\", \"11\"], color=\"grey\", size=12)\n",
    "    plt.ylim(0, 11)  # Límite superior del eje Y\n",
    "\n",
    "    # ------- PARTE 2: Agregar datos al gráfico -------\n",
    "\n",
    "    # Datos de la media\n",
    "    data = stats_mean.values\n",
    "    data = np.append(data, data[0])  # Cerrar polígono\n",
    "    ax.plot(angles, data, linewidth=3, linestyle='solid', color='purple', label=\"Media\")\n",
    "\n",
    "    # Datos de la media + desviación estándar\n",
    "    data_std_up = stats_mean.values + stats_std.values\n",
    "    data_std_up = np.append(data_std_up, data_std_up[0])  # Cerrar polígono\n",
    "    ax.plot(angles, data_std_up, linewidth=2, linestyle='dashed', color='limegreen', label=\"Media + Desv. Est.\")\n",
    "\n",
    "    # Datos de la media - desviación estándar\n",
    "    data_std_down = stats_mean.values - stats_std.values\n",
    "    data_std_down = np.append(data_std_down, data_std_down[0])  # Cerrar polígono\n",
    "    ax.plot(angles, data_std_down, linewidth=2, linestyle='dashed', color='limegreen', label=\"Media - Desv. Est.\")\n",
    "\n",
    "    # Agregar texto con el número total de compuestos en el conjunto de datos\n",
    "    ax.text(-np.pi/3, 8, f'# Total data: {len(dataframe)}', size=14)\n",
    "\n",
    "    # Área correspondiente a la regla de cinco de Lipinski (valores de referencia)\n",
    "    ro5_properties = [5, 5, 5, 5, 10]  # Ajustado con valores escalares + QED normalizado\n",
    "    ro5_properties = np.append(ro5_properties, ro5_properties[0])  # Cerrar el polígono\n",
    "\n",
    "    ax.fill(angles, ro5_properties, 'thistle', alpha=0.7, label=\"Regla de 5 de Lipinski + QED\")\n",
    "\n",
    "    # Agregar leyenda\n",
    "    plt.legend(loc='upper right')\n",
    "\n",
    "    # Mostrar el gráfico\n",
    "    plt.show()\n",
    "\n",
    "# Llamar a la función con el DataFrame ordenado por QED\n",
    "plot_radar(df_molecule_QED_sorted)\n",
    "\n"
   ]
  },
  {
   "cell_type": "markdown",
   "metadata": {},
   "source": [
    "## Actividad práctica\n",
    "\n",
    "Teniendo en cuenta lo revisado en esta segunda parte, realice un codigo en python con el cual pueda:\n",
    "\n",
    "1. Hacer un gráfico de barras para los últimos 5 compuestos que no cumplen con la regla de Lipinski, en el cual se observe cada compuesto frente a las 4 reglas de Lipinski con sus respectivos límites asi como el valor del QED.\n",
    "\n",
    "Al finalizar deberá preparar un documento en formato \"ipynb\" (Jupyter notebook)\" en el cual adjunte:\n",
    "1. El código propuesto para la selección de los compuestos a gráficar con su recpectiva salida. \n",
    "2. El código propuesto para realizar el gráfico solicitado con su respectiva salida."
   ]
  },
  {
   "cell_type": "markdown",
   "metadata": {},
   "source": [
    "## Conclusión\n",
    "\n",
    "En esta práctica, hemos aprendido sobre la regla de Lipinski como una medida para estimar la biodisponibilidad oral de un compuesto y hemos aplicado la regla en un conjunto de datos para poder filtrarlos y descartar aquellos compuestos que cumplen con dos o más de los criterios. Además, aprendemos a realizar gráficos sencillos como los de barras que nos permiten visualizar el conjunto de datos en total o cada compuesto del conjunto de datos. También, aprendimos a realizar, gráficos de dispersión que nos permiten observar el conjunto de datos frente a los cuatro criterios de la regla de Lipinski. Finalmente, construimos un gráfico más complejo como el gráfico de radar el cual nos permite comparar múltiples variables (reglas de Lipinski) en un solo gráfico."
   ]
  },
  {
   "cell_type": "markdown",
   "metadata": {},
   "source": [
    "# Referencias\n",
    "1. Grogan, S., & Preuss, C. V. (2022). Pharmacokinetics. En StatPearls. StatPearls Publishing. http://www.ncbi.nlm.nih.gov/books/NBK557744/\n",
    "2. Doogue, M. P., & Polasek, T. M. (2013). The ABCD of clinical pharmacokinetics. Therapeutic Advances in Drug Safety, 4(1), 5-7. https://doi.org/10.1177/2042098612469335\n",
    "3. Turner, J. V., & Agatonovic-Kustrin, S. (2007). In silico prediction of oral bioavailability. En Comprehensive Medicinal Chemistry II (pp. 699-724). Elsevier. https://doi.org/10.1016/B0-08-045044-X/00147-4\n"
   ]
  }
 ],
 "metadata": {
  "kernelspec": {
   "display_name": "chemo",
   "language": "python",
   "name": "python3"
  },
  "language_info": {
   "codemirror_mode": {
    "name": "ipython",
    "version": 3
   },
   "file_extension": ".py",
   "mimetype": "text/x-python",
   "name": "python",
   "nbconvert_exporter": "python",
   "pygments_lexer": "ipython3",
   "version": "3.8.17"
  }
 },
 "nbformat": 4,
 "nbformat_minor": 4
}
