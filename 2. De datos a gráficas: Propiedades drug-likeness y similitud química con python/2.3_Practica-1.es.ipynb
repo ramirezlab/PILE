{
 "cells": [
  {
   "cell_type": "markdown",
   "metadata": {},
   "source": [
    "# Práctica 1: Análisis estadístico de la Regla de Lipinski\n",
    "\n",
    "> **Note:** Este libro esta disponible de dos maneras: \n",
    "> 1. Descargando el repositorio y siguiendo las instrucciones que estan en el archivo [README.md](https://github.com/ramirezlab/PILE/blob/main/README.md)\n",
    "> 2. Haciendo clic aquí en [![Open In Colab](https://colab.research.google.com/assets/colab-badge.svg)](https://colab.research.google.com/github/ramirezlab/PILE/blob/main/2.%20De%20datos%20a%20gráficas%3A%20Propiedades%20drug-likeness%20y%20similitud%20química%20con%20python/2.3_Practica-1.es.ipynb?hl=es)\n",
    "\n",
    "## Conceptos a trabajar\n",
    "\n",
    "### **Farmacocinética**\n",
    "\n",
    "La farmacocinética es el estudio de lo que le sucede a un compuesto en un organismo durante un período de tiempo<sup> **1** </sup> . Se divide en cuatro pasos: **A**bsorción, **D**istribución, **M**etabolismo y **E**xcreción (ADME)**<sup> 1, </sup>** **<sup> 2 </sup>**. En ocasiones también se incluye **T**oxicología (ADMET) y **L**iberación (LADME).\n",
    "\n",
    " \n",
    "<img src=\"img/ADME-es.jpg\" alt=\"ADME\" width=\"800\"/>\n",
    "\n",
    "*Figura 1*. Pasos que componen la farmacocinética. Adaptada de: [Somvanshi, Kharat, Jadhav, Thorat y Townley, 2021](https://doi.org/10.1016/B978-0-323-85050-6.00007-4)\n",
    "\n",
    "   * **Absorción:** Se refiere a la cantidad y el tiempo que tarda un compuesto o sustancia en ingresar a la circulación sistémica desde el sitio de administración. Depende de múltiples factores como la capacidad del compuesto para penetrar la pared intestinal, la solubilidad del compuesto, el tiempo de vaciado gástrico, la estabilidad química del compuesto en el estómago, entre otros<sup> **1, 2** </sup>.\n",
    "   * **Distribución:** Se refiere a cómo una sustancia se distribuye por todo el cuerpo. Depende de la difusión y la convección, que pueden verse influidas por la polaridad, el tamaño o la capacidad de unión del fármaco, el estado de líquidos del paciente o la constitución corporal del individuo. Es muy importante lograr la concentración eficaz del fármaco en el sitio del receptor porque, para ser eficaz, un medicamento debe llegar a su destino compartimental designado<sup> **1,2** </sup>.\n",
    "   * **Metabolismo:** Se refiere al procesamiento del fármaco por parte del cuerpo en compuestos posteriores. También puede ser convertir un fármaco en sustancias más solubles en agua para que sea más fácil de excretar o, en el caso de los profármacos, se requiere el metabolismo para convertir el fármaco en metabolitos activos<sup> **1,2** </sup>.\n",
    "   * **Excreción:** Se refiere al proceso por el cual el fármaco es eliminado del organismo. Generalmente, los riñones son conductos de excreción por filtración pasiva en los glomérulos o secreción en los túbulos<sup> **1, 2** </sup>.\n",
    "\n",
    "### **Reglas de Lipinski:**\n",
    "\n",
    "Las reglas de Lipinski es una forma de descartar compuestos con probables problemas de absorción. Esta regla establece que la mala absorción o penetración de un fármaco es más probable cuando la estructura química cumple con dos o más de los siguientes criterios<sup> **3** </sup>:\n",
    "1. El peso molecular (MW) es superior a 500.\n",
    "2. El valor de log P calculado es superior a 5.\n",
    "3. Hay más de 5 donantes de enlaces de hidrógeno (–NH–, –OH).\n",
    "4. El número de aceptores de enlaces de hidrógeno (–N ¼ , –O–) es mayor que 10.\n",
    "\n",
    "Es importante saber que la regla de cinco no categoriza definitivamente todos los compuestos bien y mal absorbidos, aunque es simple, rápida y proporciona un grado razonable de clasificación."
   ]
  },
  {
   "cell_type": "markdown",
   "metadata": {},
   "source": [
    "## Planteamiento del problema\n",
    "\n",
    "Para una investigación de un nuevo fármaco queremos saber si realmente es absorbido por el cuerpo, si es capaz de cruzar ciertas barreras para llegar a su objetivo, cómo se metaboliza y cómo se excreta del cuerpo. De esta manera, los médicos tendrán mayor flexibilidad en la prescripción y administración de medicamentos, brindando así mayor beneficio con menor riesgo y haciendo los ajustes necesarios, dada la variada fisiología y estilos de vida de los pacientes.\n",
    "\n",
    "Para conocer la absorción de los compuestos utilizaremos herramientas bioinformáticas para poder calcular la regla de cinco de Lipinski y luego calcularemos unos estadísticos para graficarlos y analizarlos."
   ]
  },
  {
   "cell_type": "markdown",
   "metadata": {},
   "source": [
    "## Importar las bibliotecas necesarias"
   ]
  },
  {
   "cell_type": "code",
   "execution_count": 2,
   "metadata": {
    "ExecuteTime": {
     "end_time": "2023-04-18T15:57:25.068700Z",
     "start_time": "2023-04-18T15:57:24.942647Z"
    }
   },
   "outputs": [
    {
     "name": "stdout",
     "output_type": "stream",
     "text": [
      "Requirement already satisfied: rdkit in /Users/jessicavalero/anaconda3/envs/chemo/lib/python3.8/site-packages (2023.3.2)\n",
      "Requirement already satisfied: numpy in /Users/jessicavalero/anaconda3/envs/chemo/lib/python3.8/site-packages (from rdkit) (1.24.4)\n",
      "Requirement already satisfied: Pillow in /Users/jessicavalero/anaconda3/envs/chemo/lib/python3.8/site-packages (from rdkit) (10.0.0)\n"
     ]
    }
   ],
   "source": [
    "!pip install rdkit\n",
    "from rdkit import Chem\n",
    "from rdkit.Chem import Descriptors\n",
    "import pandas as pd\n",
    "from rdkit.Chem import Draw\n",
    "import numpy as np\n",
    "\n",
    "import seaborn as sns\n",
    "import matplotlib.pyplot as plt\n",
    "import matplotlib.patches as mpatches\n",
    "from matplotlib.lines import Line2D\n",
    "from math import pi\n",
    "import os\n",
    "from pathlib import Path"
   ]
  },
  {
   "cell_type": "markdown",
   "metadata": {},
   "source": [
    "## Cargar conjunto de datos de P49841\n",
    "El conjunto de datos contiene los compuestos bioactivos contra la glucógeno sintasa quinasa-3 beta que construimos en el tutorial 2.1_Dataframes.\n",
    "Lo primero que vamos a hacer es importar la base de datos, tenemos que crear un `directorio raíz` (`ROOT_DIR`) para poder navegar hasta el archivo."
   ]
  },
  {
   "cell_type": "code",
   "execution_count": null,
   "metadata": {},
   "outputs": [],
   "source": [
    "# Importa la librería pandas para la manipulación de datos\n",
    "import pandas as pd\n",
    "\n",
    "# URL del archivo CSV que contiene los datos\n",
    "csv_url = 'https://raw.githubusercontent.com/ramirezlab/PILE/main/2.%20De%20datos%20a%20gráficas%3A%20Propiedades%20drug-likeness%20y%20similitud%20química%20con%20python/data/compounds_P49841_full.csv'\n",
    "\n",
    "# Carga el archivo CSV desde la URL en un DataFrame de pandas\n",
    "df_output = pd.read_csv(csv_url)\n",
    "\n",
    "# Muestra las primeras 5 filas del DataFrame para verificar la correcta importación de los datos\n",
    "df_output.head()"
   ]
  },
  {
   "cell_type": "markdown",
   "metadata": {},
   "source": [
    "## Las reglas de Lipinski (Ro5)\n",
    "\n",
    "La siguiente función nos permitirá calcular las propiedades químicas de la regla de cinco de Lipinski teniendo como entrada los `SMILES`. Luego se definirán las condiciones de la regla de cinco y finalmente tendremos información de si se viola la regla de cinco."
   ]
  },
  {
   "cell_type": "code",
   "execution_count": null,
   "metadata": {
    "ExecuteTime": {
     "end_time": "2023-04-18T15:57:31.359366Z",
     "start_time": "2023-04-18T15:57:31.323036Z"
    }
   },
   "outputs": [],
   "source": [
    "def Ro5(df):\n",
    "    \n",
    "    smi = df['smiles']\n",
    "    m = Chem.MolFromSmiles(smi)\n",
    "    \n",
    "    # Calcular la regla de cinco propiedades químicas\n",
    "    MW = Descriptors.ExactMolWt(m)\n",
    "    HBA = Descriptors.NumHAcceptors(m)\n",
    "    HBD = Descriptors.NumHDonors(m)\n",
    "    LogP = Descriptors.MolLogP(m)\n",
    "    \n",
    "    # Regla de cinco condiciones\n",
    "    conditions = [MW <= 500, HBA <= 10, HBD <= 5, LogP <= 5]\n",
    "    \n",
    "    # Crear una fila de pandas para resultados de condiciones con valores e información sobre si se viola la regla de cinco\n",
    "    return pd.Series([MW, HBA, HBD, LogP, 'yes']) if conditions.count(True) >= 3 else pd.Series([MW, HBA, HBD, LogP, 'no'])"
   ]
  },
  {
   "cell_type": "markdown",
   "metadata": {},
   "source": [
    "Ahora vamos a aplicar las Ro5 a nuestro conjunto de datos"
   ]
  },
  {
   "cell_type": "code",
   "execution_count": null,
   "metadata": {
    "ExecuteTime": {
     "end_time": "2023-04-18T15:57:36.441804Z",
     "start_time": "2023-04-18T15:57:33.861469Z"
    }
   },
   "outputs": [],
   "source": [
    "# Aplica la función Ro5 a cada fila del DataFrame df_output y almacena el resultado en df_rule5\n",
    "df_rule5 = df_output.apply(Ro5, axis=1)\n",
    "\n",
    "# Asigna nombres a las columnas del DataFrame df_rule5\n",
    "df_rule5.columns = ['MW', 'HBA', 'HBD', 'LogP', 'rule_of_five_conform']\n",
    "\n",
    "# Muestra las primeras 5 filas del DataFrame actualizado\n",
    "df_rule5.head()"
   ]
  },
  {
   "cell_type": "code",
   "execution_count": null,
   "metadata": {
    "ExecuteTime": {
     "end_time": "2023-04-18T15:57:37.996635Z",
     "start_time": "2023-04-18T15:57:37.948483Z"
    }
   },
   "outputs": [],
   "source": [
    "# Une el DataFrame df_output con df_rule5 agregando las columnas generadas por la regla de los cinco (Ro5)\n",
    "df_molecule = df_output.join(df_rule5)\n",
    "\n",
    "# Muestra las primeras 5 filas del DataFrame actualizado\n",
    "df_molecule.head()"
   ]
  },
  {
   "cell_type": "code",
   "execution_count": null,
   "metadata": {
    "ExecuteTime": {
     "end_time": "2023-04-18T15:57:39.373540Z",
     "start_time": "2023-04-18T15:57:39.176650Z"
    }
   },
   "outputs": [],
   "source": [
    "# Filtrar el DataFrame para mantener solo los compuestos que cumplen con la regla de cinco (Ro5)\n",
    "fil_df = df_molecule[df_molecule['rule_of_five_conform'] == 'yes']\n",
    "\n",
    "# Imprimir el número total de compuestos en el DataFrame original\n",
    "print('# de compuestos:', len(df_molecule))\n",
    "\n",
    "# Imprimir el número de compuestos que cumplen con la regla de cinco\n",
    "print('# de compuestos en conjunto de datos filtrados:', len(fil_df))\n",
    "\n",
    "# Imprimir el número de compuestos que NO cumplen con la regla de cinco de Lipinski\n",
    "print(\"# de compuestos que no cumplen con la regla de cinco de Lipinski:\", (len(df_molecule) - len(fil_df)))\n",
    "\n",
    "# Contar y mostrar cuántos compuestos cumplen y cuántos no cumplen la regla de cinco\n",
    "print(df_molecule.rule_of_five_conform.value_counts())\n",
    "\n",
    "# Generar un gráfico de barras con la distribución de compuestos que cumplen y no cumplen la regla de cinco\n",
    "df_molecule.rule_of_five_conform.value_counts().plot.bar()"
   ]
  },
  {
   "cell_type": "code",
   "execution_count": null,
   "metadata": {
    "ExecuteTime": {
     "end_time": "2023-04-18T15:57:41.089802Z",
     "start_time": "2023-04-18T15:57:41.044127Z"
    }
   },
   "outputs": [],
   "source": [
    "# Crea un directorio llamado 'data/' si no existe\n",
    "!mkdir -p data/\n",
    "\n",
    "# Guarda el DataFrame df_molecule en un archivo CSV dentro del directorio 'data/'\n",
    "df_molecule.to_csv('data/compounds_P49841_lipinski.csv', index=False)"
   ]
  },
  {
   "cell_type": "markdown",
   "metadata": {},
   "source": [
    "## Graficar las propiedades de la regla de cinco por molécula como gráficos de barras."
   ]
  },
  {
   "cell_type": "code",
   "execution_count": null,
   "metadata": {
    "ExecuteTime": {
     "end_time": "2023-04-18T15:57:41.985500Z",
     "start_time": "2023-04-18T15:57:41.952048Z"
    }
   },
   "outputs": [],
   "source": [
    "# Importar el conjunto de datos desde la URL y cargarlo en un DataFrame de pandas\n",
    "lipinski_comp = pd.read_csv('https://raw.githubusercontent.com/ramirezlab/PILE/main/2.%20De%20datos%20a%20gráficas%3A%20Propiedades%20drug-likeness%20y%20similitud%20química%20con%20python/data/compounds_P49841_lipinski.csv')\n",
    "\n",
    "# Mostrar las primeras 10 filas del DataFrame para verificar la correcta importación de los datos\n",
    "lipinski_comp.head(10)"
   ]
  },
  {
   "cell_type": "code",
   "execution_count": null,
   "metadata": {
    "ExecuteTime": {
     "end_time": "2023-04-18T15:57:43.292601Z",
     "start_time": "2023-04-18T15:57:43.265661Z"
    }
   },
   "outputs": [],
   "source": [
    "# Seleccionar las primeras 5 filas del DataFrame lipinski_comp\n",
    "comp_5_lipinski = lipinski_comp.iloc[:5]\n",
    "\n",
    "# Mostrar el subconjunto de los primeros 5 compuestos\n",
    "comp_5_lipinski"
   ]
  },
  {
   "cell_type": "markdown",
   "metadata": {},
   "source": [
    "#### Ahora haremos el gráfico de barras."
   ]
  },
  {
   "cell_type": "code",
   "execution_count": null,
   "metadata": {
    "ExecuteTime": {
     "end_time": "2023-04-18T15:57:44.780652Z",
     "start_time": "2023-04-18T15:57:44.763697Z"
    }
   },
   "outputs": [],
   "source": [
    "# Definir un diccionario con las propiedades de la regla de cinco de Lipinski\n",
    "ro5_properties = {\n",
    "    \"MW\": (500, \"molecular weight (g/mol)\"),  # Peso molecular máximo permitido: 500 g/mol\n",
    "    \"HBA\": (10, \"# HBA\"),  # Máximo 10 aceptores de enlaces de hidrógeno (HBA)\n",
    "    \"HBD\": (5, \"# HBD\"),  # Máximo 5 donantes de enlaces de hidrógeno (HBD)\n",
    "    \"LogP\": (5, \"logP\"),  # Coeficiente de partición logP máximo de 5\n",
    "}\n"
   ]
  },
  {
   "cell_type": "code",
   "execution_count": null,
   "metadata": {
    "ExecuteTime": {
     "end_time": "2023-04-18T15:57:46.542958Z",
     "start_time": "2023-04-18T15:57:46.115944Z"
    }
   },
   "outputs": [],
   "source": [
    "# Crear una figura con 4 subgráficas en una sola fila (1 row, 4 columns)\n",
    "fig, axes = plt.subplots(figsize=(10, 2.5), nrows=1, ncols=4)\n",
    "\n",
    "# Crear un array con las posiciones en el eje X para los 5 compuestos seleccionados\n",
    "x = np.arange(1, len(comp_5_lipinski) + 1)\n",
    "\n",
    "# Definir colores para las barras de cada compuesto\n",
    "colors = [\"DarkMagenta\", \"LightGreen\", \"blue\", \"DarkSalmon\", \"yellow\"]\n",
    "\n",
    "# Crear subgráficas para cada propiedad de la regla de cinco (Ro5)\n",
    "for index, (key, (threshold, title)) in enumerate(ro5_properties.items()):\n",
    "    # Generar gráfico de barras para cada propiedad de la Ro5\n",
    "    axes[index].bar([0, 1, 2, 3, 4], comp_5_lipinski[key], color=colors)\n",
    "    \n",
    "    # Agregar una línea de referencia en la posición del umbral definido por la Ro5\n",
    "    axes[index].axhline(y=threshold, color=\"black\", linestyle=\"dashed\")\n",
    "    \n",
    "    # Asignar título a la subgráfica con el nombre de la propiedad\n",
    "    axes[index].set_title(title)\n",
    "    \n",
    "    # Remover las etiquetas del eje X para mayor claridad\n",
    "    axes[index].set_xticks([])\n",
    "\n",
    "# Crear una leyenda con los identificadores de las moléculas y la línea de umbral\n",
    "legend_elements = [mpatches.Patch(color=color, label=row[\"molecule_chembl_id\"]) \n",
    "                   for color, (_, row) in zip(colors, comp_5_lipinski.iterrows())]\n",
    "\n",
    "# Agregar la línea de referencia a la leyenda\n",
    "legend_elements.append(Line2D([0], [0], color=\"black\", ls=\"dashed\", label=\"Threshold\"))\n",
    "\n",
    "# Posicionar la leyenda fuera de la figura para mejor visualización\n",
    "fig.legend(handles=legend_elements, bbox_to_anchor=(1.2, 0.8))\n",
    "\n",
    "# Ajustar el diseño de las subgráficas para evitar superposición\n",
    "plt.tight_layout()\n",
    "\n",
    "# Mostrar la figura\n",
    "plt.show()\n"
   ]
  },
  {
   "cell_type": "markdown",
   "metadata": {},
   "source": [
    "## Graficar las propiedades de la regla de cinco por molécula como diagramas de dispersión."
   ]
  },
  {
   "cell_type": "code",
   "execution_count": null,
   "metadata": {
    "ExecuteTime": {
     "end_time": "2023-04-18T15:57:52.693578Z",
     "start_time": "2023-04-18T15:57:47.611198Z"
    }
   },
   "outputs": [],
   "source": [
    "# Crear una figura de tamaño 20x20 para mejorar la visualización de los gráficos\n",
    "fig = plt.figure(figsize=(20, 20))\n",
    "\n",
    "# Generar un gráfico de pares (pairplot) usando Seaborn\n",
    "ax = sns.pairplot(\n",
    "    data=lipinski_comp,  # Usar el DataFrame con los compuestos filtrados\n",
    "    vars=['HBD', 'HBA', 'MW', 'LogP'],  # Seleccionar las variables a comparar\n",
    "    hue='rule_of_five_conform'  # Colorear los puntos según si cumplen la regla de cinco o no\n",
    ")\n",
    "\n",
    "# Mostrar el gráfico\n",
    "plt.show()\n",
    "\n",
    "# Cerrar la figura para liberar memoria\n",
    "plt.close()"
   ]
  },
  {
   "cell_type": "markdown",
   "metadata": {},
   "source": [
    "## Graficar las propiedades de la regla de cinco por molécula como gráfico de radar."
   ]
  },
  {
   "cell_type": "code",
   "execution_count": null,
   "metadata": {
    "ExecuteTime": {
     "end_time": "2023-04-18T15:57:54.277089Z",
     "start_time": "2023-04-18T15:57:54.250138Z"
    }
   },
   "outputs": [],
   "source": [
    "# Importar el conjunto de datos\n",
    "lipinski_comp = pd.read_csv('https://raw.githubusercontent.com/ramirezlab/PILE/main/2.%20De%20datos%20a%20gráficas%3A%20Propiedades%20drug-likeness%20y%20similitud%20química%20con%20python/data/compounds_P49841_lipinski.csv')\n",
    "# Mostrar las primeras 10 filas del DataFrame para verificar la correcta importación de los datos\n",
    "lipinski_comp.head(10)"
   ]
  },
  {
   "cell_type": "markdown",
   "metadata": {},
   "source": [
    "Debido a que las propiedades químicas de la regla de cinco están en diferentes órdenes de magnitud, necesitamos transformarlas para poder visualizarlas en el diagrama de radar. En este caso, la mejor forma es transformar los datos de tal manera que los límites de validación sean todos 5:\n",
    "\n",
    "- MW original: 500 g/mol - MW modificado: 5 - regla: NW/100 (Masa molecular (g/mol)/100)\n",
    "- HBA original: 10 - HBA modificado: 5 - regla: HBA/2 (# Aceptores de enlaces de hidrogeno/2)\n",
    "- HBD original: 5 - no cambia (# Donores de enlaces de hidrógeno)\n",
    "- LogP original: 5 - no cambia (LogP)\n",
    "\n",
    "Por tanto, vamos a transformar las columnas `MW` y `HBA`, (los nuevos se agregan en las últimas columnas):"
   ]
  },
  {
   "cell_type": "code",
   "execution_count": null,
   "metadata": {
    "ExecuteTime": {
     "end_time": "2023-04-18T15:57:56.045882Z",
     "start_time": "2023-04-18T15:57:56.018703Z"
    },
    "collapsed": false,
    "jupyter": {
     "outputs_hidden": false
    }
   },
   "outputs": [],
   "source": [
    "# Escalar la masa molecular dividiéndola entre 100 y almacenarla en una nueva columna 'MW*100'\n",
    "lipinski_comp['MW*100'] = lipinski_comp['MW'] / 100\n",
    "\n",
    "# Escalar el número de aceptores de enlaces de hidrógeno dividiéndolo entre 2 y almacenarlo en 'HBA*2'\n",
    "lipinski_comp['HBA*2'] = lipinski_comp['HBA'] / 2\n",
    "\n",
    "# Mostrar las primeras 10 filas del DataFrame actualizado\n",
    "lipinski_comp.head(10)"
   ]
  },
  {
   "cell_type": "markdown",
   "metadata": {},
   "source": [
    "Para el gráfico de radar necesitamos las desviaciones media y estándar de un conjunto de datos, por lo que crearemos una función que nos permita calcular estas dos estadísticas para los valores escalados."
   ]
  },
  {
   "cell_type": "code",
   "execution_count": null,
   "metadata": {
    "ExecuteTime": {
     "end_time": "2023-04-18T15:57:57.674213Z",
     "start_time": "2023-04-18T15:57:57.647100Z"
    },
    "collapsed": false,
    "jupyter": {
     "outputs_hidden": false
    }
   },
   "outputs": [],
   "source": [
    "# Calcular estadísticas (media y desviación estándar) de las propiedades de la regla de cinco escaladas\n",
    "metrics_Ro5_stats_scaled = lipinski_comp[['MW*100', 'HBA*2', 'HBD', 'LogP']].agg([\"mean\", \"std\"])\n",
    "\n",
    "# Mostrar el DataFrame con las métricas calculadas\n",
    "metrics_Ro5_stats_scaled\n"
   ]
  },
  {
   "cell_type": "markdown",
   "metadata": {},
   "source": [
    "Ahora vamos a crear la función que realiza el gráfico. El conjunto de datos debe proporcionarse como entrada.\n",
    "La función escala los datos y encuentra la media y la desviación estándar para el diagrama de radar."
   ]
  },
  {
   "cell_type": "code",
   "execution_count": null,
   "metadata": {
    "ExecuteTime": {
     "end_time": "2023-04-18T15:57:59.461521Z",
     "start_time": "2023-04-18T15:57:59.440842Z"
    }
   },
   "outputs": [],
   "source": [
    "def plot_radar(dataframe):\n",
    "    from math import pi\n",
    "    import numpy as np\n",
    "\n",
    "    # ------- PARTE 0: Conjunto de datos escalados / Métricas -------\n",
    "    df = dataframe.copy()  # Crear una copia del DataFrame original para no modificarlo directamente\n",
    "\n",
    "    # Escalar la masa molecular y los aceptores de enlaces de hidrógeno\n",
    "    df['MW*100'] = df['MW'] / 100\n",
    "    df['HBA*2'] = df['HBA'] / 2\n",
    "\n",
    "    # Calcular la media y la desviación estándar de las propiedades\n",
    "    metrics_Ro5_stats_scaled = df[['MW*100', 'HBA*2', 'HBD', 'LogP']].agg([\"mean\", \"std\"])\n",
    "    stats_mean = metrics_Ro5_stats_scaled.loc['mean']  # Extraer la media\n",
    "    stats_std = metrics_Ro5_stats_scaled.loc['std']  # Extraer la desviación estándar\n",
    "\n",
    "    # ------- PARTE 1: Crear el fondo del gráfico de radar -------\n",
    "    \n",
    "    # Número de variables a representar\n",
    "    N = 4\n",
    "\n",
    "    # Calcular los ángulos de cada eje en el gráfico de radar\n",
    "    angles = [n / float(N) * 2 * pi for n in range(N)]\n",
    "    angles += angles[:1]  # Cerrar el polígono\n",
    "\n",
    "    # Inicializar la figura y los ejes polares\n",
    "    fig = plt.figure(figsize=(8, 8))\n",
    "    ax = plt.subplot(111, polar=True)\n",
    "\n",
    "    # Si se desea rotar el gráfico para que el primer eje esté en la parte superior:\n",
    "    # ax.set_theta_offset(pi/2)\n",
    "    # ax.set_theta_direction(-1)\n",
    "\n",
    "    # Definir las categorías del gráfico\n",
    "    categories = ['MW (g/mol)*100', '# HBA*2', '# HBD', 'LogP']\n",
    "    plt.xticks(angles[:-1], categories, size=14)  # Etiquetas de los ejes\n",
    "\n",
    "    # Dibujar etiquetas del eje Y\n",
    "    ax.set_rlabel_position(0)\n",
    "    plt.yticks([1, 3, 5, 7], [\"1\", \"3\", \"5\", \"7\"], color=\"grey\", size=12)\n",
    "    plt.ylim(0, 7)  # Límite superior del eje Y\n",
    "\n",
    "    # ------- PARTE 2: Agregar datos al gráfico -------\n",
    "\n",
    "    # Datos de la media\n",
    "    data = stats_mean.values\n",
    "    data = np.append(data, data[0])  # Cerrar polígono\n",
    "    ax.plot(angles, data, linewidth=3, linestyle='solid', color='purple', label=\"mean\")\n",
    "\n",
    "    # Datos de la media + desviación estándar\n",
    "    data_std_up = stats_mean.values + stats_std.values\n",
    "    data_std_up = np.append(data_std_up, data_std_up[0])  # Cerrar polígono\n",
    "    ax.plot(angles, data_std_up, linewidth=2, linestyle='dashed', color='limegreen', label=\"mean + std\")\n",
    "\n",
    "    # Datos de la media - desviación estándar\n",
    "    data_std_down = stats_mean.values - stats_std.values\n",
    "    data_std_down = np.append(data_std_down, data_std_down[0])  # Cerrar polígono\n",
    "    ax.plot(angles, data_std_down, linewidth=2, linestyle='dashed', color='limegreen', label=\"mean - std\")\n",
    "\n",
    "    # Agregar texto con el número total de compuestos en el conjunto de datos\n",
    "    ax.text(-np.pi/3, 8, f'# Total data: {len(dataframe)}', size=14)\n",
    "\n",
    "    # Área correspondiente a la regla de cinco de Lipinski (valores de referencia)\n",
    "    ro5_properties = [5, 5, 5, 5, 5]  # Representa los límites de MW/100, HBA/2, HBD y LogP\n",
    "    ax.fill(angles, ro5_properties, 'thistle', alpha=0.6, label=\"rule of five area\")\n",
    "\n",
    "    # Agregar leyenda\n",
    "    plt.legend(loc='upper right')\n",
    "\n",
    "    # Mostrar el gráfico\n",
    "    plt.show()"
   ]
  },
  {
   "cell_type": "code",
   "execution_count": null,
   "metadata": {
    "ExecuteTime": {
     "end_time": "2023-04-18T15:58:01.520966Z",
     "start_time": "2023-04-18T15:58:01.326442Z"
    }
   },
   "outputs": [],
   "source": [
    "# Trazamos el radarplot para el conjunto de datos de compuestos (TODOS).\n",
    "plot_radar(df_molecule)"
   ]
  },
  {
   "cell_type": "markdown",
   "metadata": {},
   "source": [
    "### Radar plot - Rof confort: SÍ\n",
    "Ahora vamos a repetir el proceso, pero solo con las moléculas que pasaron la prueba de la regla de cinco.\n",
    "Primero debemos filtrar el conjunto `rule_of_five_conform: yes`"
   ]
  },
  {
   "cell_type": "code",
   "execution_count": null,
   "metadata": {
    "ExecuteTime": {
     "end_time": "2023-04-11T17:00:25.508424Z",
     "start_time": "2023-04-11T17:00:25.449052Z"
    }
   },
   "outputs": [],
   "source": [
    "# Filtrar el DataFrame para obtener solo los compuestos que cumplen con la regla de cinco de Lipinski\n",
    "df_molecule_Ro5_yes = df_molecule[df_molecule['rule_of_five_conform'] == 'yes']\n",
    "\n",
    "# Restablecer el índice del DataFrame, eliminando el índice anterior\n",
    "df_molecule_Ro5_yes.reset_index(inplace=True, drop=True)\n",
    "\n",
    "# Mostrar el conjunto de datos de compuestos que cumplen con la regla de cinco\n",
    "df_molecule_Ro5_yes\n"
   ]
  },
  {
   "cell_type": "markdown",
   "metadata": {},
   "source": [
    "Trazamos el radarplot para el conjunto de datos filtrado"
   ]
  },
  {
   "cell_type": "code",
   "execution_count": null,
   "metadata": {
    "ExecuteTime": {
     "end_time": "2023-04-11T17:00:25.750855Z",
     "start_time": "2023-04-11T17:00:25.465042Z"
    }
   },
   "outputs": [],
   "source": [
    "plot_radar(df_molecule_Ro5_yes)"
   ]
  },
  {
   "cell_type": "markdown",
   "metadata": {},
   "source": [
    "## Radar plot - Rof confort: NO\n",
    "Ahora vamos a repetir el proceso, pero solo con las moléculas que pasaron la prueba de la regla de cinco.\n",
    "Primero debemos filtrar el conjunto `rule_of_five_conform: no`"
   ]
  },
  {
   "cell_type": "code",
   "execution_count": null,
   "metadata": {
    "ExecuteTime": {
     "end_time": "2023-04-11T17:00:25.750855Z",
     "start_time": "2023-04-11T17:00:25.669539Z"
    }
   },
   "outputs": [],
   "source": [
    "# Filtrar el DataFrame para obtener solo los compuestos que NO cumplen con la regla de cinco de Lipinski\n",
    "df_molecule_Ro5_no = df_molecule[df_molecule['rule_of_five_conform'] == 'no']\n",
    "\n",
    "# Restablecer el índice del DataFrame, eliminando el índice anterior\n",
    "df_molecule_Ro5_no.reset_index(inplace=True, drop=True)\n",
    "\n",
    "# Mostrar el conjunto de datos de compuestos que NO cumplen con la regla de cinco\n",
    "df_molecule_Ro5_no\n"
   ]
  },
  {
   "cell_type": "markdown",
   "metadata": {},
   "source": [
    "Trazamos el diagrama de radar para el conjunto de datos de compuestos que violan el Ro5"
   ]
  },
  {
   "cell_type": "code",
   "execution_count": null,
   "metadata": {
    "ExecuteTime": {
     "end_time": "2023-04-11T17:00:26.009899Z",
     "start_time": "2023-04-11T17:00:25.685030Z"
    }
   },
   "outputs": [],
   "source": [
    "plot_radar(df_molecule_Ro5_no)"
   ]
  },
  {
   "cell_type": "markdown",
   "metadata": {},
   "source": [
    "##  Estimación cuantitativa de la similitud con un fármaco (QED)\n",
    "\n",
    "El QED es un descriptor utilizado para medir la similitud farmacológica de un compuesto. Aunque la regla de cinco (Ro5) se emplea comúnmente con este propósito, no todos los fármacos cumplen estrictamente con sus criterios. Aproximadamente el 16% de los medicamentos orales incumplen al menos uno de los parámetros de Ro5, y un 6% no satisface dos o más. Para cuantificar la calidad de los compuestos, se aplica el concepto de deseabilidad, lo que permite establecer una métrica cuantitativa denominada QED (Estimación Cuantitativa de la Similitud con los Fármacos). Los valores de QED oscilan entre cero, indicando la presencia de todas las propiedades desfavorables, y uno, representando un perfil con todas las propiedades favorables."
   ]
  },
  {
   "cell_type": "code",
   "execution_count": 3,
   "metadata": {},
   "outputs": [
    {
     "ename": "UnicodeEncodeError",
     "evalue": "'ascii' codec can't encode character '\\xe1' in position 50: ordinal not in range(128)",
     "output_type": "error",
     "traceback": [
      "\u001b[0;31m---------------------------------------------------------------------------\u001b[0m",
      "\u001b[0;31mUnicodeEncodeError\u001b[0m                        Traceback (most recent call last)",
      "Cell \u001b[0;32mIn[3], line 2\u001b[0m\n\u001b[1;32m      1\u001b[0m \u001b[38;5;66;03m# Importar el conjunto de datos desde la URL y cargarlo en un DataFrame de pandas\u001b[39;00m\n\u001b[0;32m----> 2\u001b[0m lipinski_comp \u001b[38;5;241m=\u001b[39m \u001b[43mpd\u001b[49m\u001b[38;5;241;43m.\u001b[39;49m\u001b[43mread_csv\u001b[49m\u001b[43m(\u001b[49m\u001b[38;5;124;43m'\u001b[39;49m\u001b[38;5;124;43mhttps://raw.githubusercontent.com/ramirezlab/PILE/main/2.\u001b[39;49m\u001b[38;5;124;43m%\u001b[39;49m\u001b[38;5;124;43m20De\u001b[39;49m\u001b[38;5;132;43;01m%20d\u001b[39;49;00m\u001b[38;5;124;43matos\u001b[39;49m\u001b[38;5;132;43;01m%20a\u001b[39;49;00m\u001b[38;5;132;43;01m%20g\u001b[39;49;00m\u001b[38;5;124;43mráficas\u001b[39;49m\u001b[38;5;124;43m%\u001b[39;49m\u001b[38;5;124;43m3A\u001b[39;49m\u001b[38;5;124;43m%\u001b[39;49m\u001b[38;5;124;43m20Propiedades\u001b[39;49m\u001b[38;5;132;43;01m%20d\u001b[39;49;00m\u001b[38;5;124;43mrug-likeness\u001b[39;49m\u001b[38;5;124;43m%\u001b[39;49m\u001b[38;5;124;43m20y\u001b[39;49m\u001b[38;5;132;43;01m%20s\u001b[39;49;00m\u001b[38;5;124;43mimilitud\u001b[39;49m\u001b[38;5;124;43m%\u001b[39;49m\u001b[38;5;124;43m20química\u001b[39;49m\u001b[38;5;132;43;01m%20c\u001b[39;49;00m\u001b[38;5;124;43mon\u001b[39;49m\u001b[38;5;124;43m%\u001b[39;49m\u001b[38;5;124;43m20python/data/compounds_P49841_lipinski.csv\u001b[39;49m\u001b[38;5;124;43m'\u001b[39;49m\u001b[43m)\u001b[49m\n\u001b[1;32m      4\u001b[0m \u001b[38;5;66;03m# Mostrar las primeras 10 filas del DataFrame para verificar la correcta importación de los datos\u001b[39;00m\n\u001b[1;32m      5\u001b[0m lipinski_comp\u001b[38;5;241m.\u001b[39mhead(\u001b[38;5;241m10\u001b[39m)\n",
      "File \u001b[0;32m~/anaconda3/envs/chemo/lib/python3.8/site-packages/pandas/io/parsers/readers.py:912\u001b[0m, in \u001b[0;36mread_csv\u001b[0;34m(filepath_or_buffer, sep, delimiter, header, names, index_col, usecols, dtype, engine, converters, true_values, false_values, skipinitialspace, skiprows, skipfooter, nrows, na_values, keep_default_na, na_filter, verbose, skip_blank_lines, parse_dates, infer_datetime_format, keep_date_col, date_parser, date_format, dayfirst, cache_dates, iterator, chunksize, compression, thousands, decimal, lineterminator, quotechar, quoting, doublequote, escapechar, comment, encoding, encoding_errors, dialect, on_bad_lines, delim_whitespace, low_memory, memory_map, float_precision, storage_options, dtype_backend)\u001b[0m\n\u001b[1;32m    899\u001b[0m kwds_defaults \u001b[38;5;241m=\u001b[39m _refine_defaults_read(\n\u001b[1;32m    900\u001b[0m     dialect,\n\u001b[1;32m    901\u001b[0m     delimiter,\n\u001b[0;32m   (...)\u001b[0m\n\u001b[1;32m    908\u001b[0m     dtype_backend\u001b[38;5;241m=\u001b[39mdtype_backend,\n\u001b[1;32m    909\u001b[0m )\n\u001b[1;32m    910\u001b[0m kwds\u001b[38;5;241m.\u001b[39mupdate(kwds_defaults)\n\u001b[0;32m--> 912\u001b[0m \u001b[38;5;28;01mreturn\u001b[39;00m \u001b[43m_read\u001b[49m\u001b[43m(\u001b[49m\u001b[43mfilepath_or_buffer\u001b[49m\u001b[43m,\u001b[49m\u001b[43m \u001b[49m\u001b[43mkwds\u001b[49m\u001b[43m)\u001b[49m\n",
      "File \u001b[0;32m~/anaconda3/envs/chemo/lib/python3.8/site-packages/pandas/io/parsers/readers.py:577\u001b[0m, in \u001b[0;36m_read\u001b[0;34m(filepath_or_buffer, kwds)\u001b[0m\n\u001b[1;32m    574\u001b[0m _validate_names(kwds\u001b[38;5;241m.\u001b[39mget(\u001b[38;5;124m\"\u001b[39m\u001b[38;5;124mnames\u001b[39m\u001b[38;5;124m\"\u001b[39m, \u001b[38;5;28;01mNone\u001b[39;00m))\n\u001b[1;32m    576\u001b[0m \u001b[38;5;66;03m# Create the parser.\u001b[39;00m\n\u001b[0;32m--> 577\u001b[0m parser \u001b[38;5;241m=\u001b[39m \u001b[43mTextFileReader\u001b[49m\u001b[43m(\u001b[49m\u001b[43mfilepath_or_buffer\u001b[49m\u001b[43m,\u001b[49m\u001b[43m \u001b[49m\u001b[38;5;241;43m*\u001b[39;49m\u001b[38;5;241;43m*\u001b[39;49m\u001b[43mkwds\u001b[49m\u001b[43m)\u001b[49m\n\u001b[1;32m    579\u001b[0m \u001b[38;5;28;01mif\u001b[39;00m chunksize \u001b[38;5;129;01mor\u001b[39;00m iterator:\n\u001b[1;32m    580\u001b[0m     \u001b[38;5;28;01mreturn\u001b[39;00m parser\n",
      "File \u001b[0;32m~/anaconda3/envs/chemo/lib/python3.8/site-packages/pandas/io/parsers/readers.py:1407\u001b[0m, in \u001b[0;36mTextFileReader.__init__\u001b[0;34m(self, f, engine, **kwds)\u001b[0m\n\u001b[1;32m   1404\u001b[0m     \u001b[38;5;28mself\u001b[39m\u001b[38;5;241m.\u001b[39moptions[\u001b[38;5;124m\"\u001b[39m\u001b[38;5;124mhas_index_names\u001b[39m\u001b[38;5;124m\"\u001b[39m] \u001b[38;5;241m=\u001b[39m kwds[\u001b[38;5;124m\"\u001b[39m\u001b[38;5;124mhas_index_names\u001b[39m\u001b[38;5;124m\"\u001b[39m]\n\u001b[1;32m   1406\u001b[0m \u001b[38;5;28mself\u001b[39m\u001b[38;5;241m.\u001b[39mhandles: IOHandles \u001b[38;5;241m|\u001b[39m \u001b[38;5;28;01mNone\u001b[39;00m \u001b[38;5;241m=\u001b[39m \u001b[38;5;28;01mNone\u001b[39;00m\n\u001b[0;32m-> 1407\u001b[0m \u001b[38;5;28mself\u001b[39m\u001b[38;5;241m.\u001b[39m_engine \u001b[38;5;241m=\u001b[39m \u001b[38;5;28;43mself\u001b[39;49m\u001b[38;5;241;43m.\u001b[39;49m\u001b[43m_make_engine\u001b[49m\u001b[43m(\u001b[49m\u001b[43mf\u001b[49m\u001b[43m,\u001b[49m\u001b[43m \u001b[49m\u001b[38;5;28;43mself\u001b[39;49m\u001b[38;5;241;43m.\u001b[39;49m\u001b[43mengine\u001b[49m\u001b[43m)\u001b[49m\n",
      "File \u001b[0;32m~/anaconda3/envs/chemo/lib/python3.8/site-packages/pandas/io/parsers/readers.py:1661\u001b[0m, in \u001b[0;36mTextFileReader._make_engine\u001b[0;34m(self, f, engine)\u001b[0m\n\u001b[1;32m   1659\u001b[0m     \u001b[38;5;28;01mif\u001b[39;00m \u001b[38;5;124m\"\u001b[39m\u001b[38;5;124mb\u001b[39m\u001b[38;5;124m\"\u001b[39m \u001b[38;5;129;01mnot\u001b[39;00m \u001b[38;5;129;01min\u001b[39;00m mode:\n\u001b[1;32m   1660\u001b[0m         mode \u001b[38;5;241m+\u001b[39m\u001b[38;5;241m=\u001b[39m \u001b[38;5;124m\"\u001b[39m\u001b[38;5;124mb\u001b[39m\u001b[38;5;124m\"\u001b[39m\n\u001b[0;32m-> 1661\u001b[0m \u001b[38;5;28mself\u001b[39m\u001b[38;5;241m.\u001b[39mhandles \u001b[38;5;241m=\u001b[39m \u001b[43mget_handle\u001b[49m\u001b[43m(\u001b[49m\n\u001b[1;32m   1662\u001b[0m \u001b[43m    \u001b[49m\u001b[43mf\u001b[49m\u001b[43m,\u001b[49m\n\u001b[1;32m   1663\u001b[0m \u001b[43m    \u001b[49m\u001b[43mmode\u001b[49m\u001b[43m,\u001b[49m\n\u001b[1;32m   1664\u001b[0m \u001b[43m    \u001b[49m\u001b[43mencoding\u001b[49m\u001b[38;5;241;43m=\u001b[39;49m\u001b[38;5;28;43mself\u001b[39;49m\u001b[38;5;241;43m.\u001b[39;49m\u001b[43moptions\u001b[49m\u001b[38;5;241;43m.\u001b[39;49m\u001b[43mget\u001b[49m\u001b[43m(\u001b[49m\u001b[38;5;124;43m\"\u001b[39;49m\u001b[38;5;124;43mencoding\u001b[39;49m\u001b[38;5;124;43m\"\u001b[39;49m\u001b[43m,\u001b[49m\u001b[43m \u001b[49m\u001b[38;5;28;43;01mNone\u001b[39;49;00m\u001b[43m)\u001b[49m\u001b[43m,\u001b[49m\n\u001b[1;32m   1665\u001b[0m \u001b[43m    \u001b[49m\u001b[43mcompression\u001b[49m\u001b[38;5;241;43m=\u001b[39;49m\u001b[38;5;28;43mself\u001b[39;49m\u001b[38;5;241;43m.\u001b[39;49m\u001b[43moptions\u001b[49m\u001b[38;5;241;43m.\u001b[39;49m\u001b[43mget\u001b[49m\u001b[43m(\u001b[49m\u001b[38;5;124;43m\"\u001b[39;49m\u001b[38;5;124;43mcompression\u001b[39;49m\u001b[38;5;124;43m\"\u001b[39;49m\u001b[43m,\u001b[49m\u001b[43m \u001b[49m\u001b[38;5;28;43;01mNone\u001b[39;49;00m\u001b[43m)\u001b[49m\u001b[43m,\u001b[49m\n\u001b[1;32m   1666\u001b[0m \u001b[43m    \u001b[49m\u001b[43mmemory_map\u001b[49m\u001b[38;5;241;43m=\u001b[39;49m\u001b[38;5;28;43mself\u001b[39;49m\u001b[38;5;241;43m.\u001b[39;49m\u001b[43moptions\u001b[49m\u001b[38;5;241;43m.\u001b[39;49m\u001b[43mget\u001b[49m\u001b[43m(\u001b[49m\u001b[38;5;124;43m\"\u001b[39;49m\u001b[38;5;124;43mmemory_map\u001b[39;49m\u001b[38;5;124;43m\"\u001b[39;49m\u001b[43m,\u001b[49m\u001b[43m \u001b[49m\u001b[38;5;28;43;01mFalse\u001b[39;49;00m\u001b[43m)\u001b[49m\u001b[43m,\u001b[49m\n\u001b[1;32m   1667\u001b[0m \u001b[43m    \u001b[49m\u001b[43mis_text\u001b[49m\u001b[38;5;241;43m=\u001b[39;49m\u001b[43mis_text\u001b[49m\u001b[43m,\u001b[49m\n\u001b[1;32m   1668\u001b[0m \u001b[43m    \u001b[49m\u001b[43merrors\u001b[49m\u001b[38;5;241;43m=\u001b[39;49m\u001b[38;5;28;43mself\u001b[39;49m\u001b[38;5;241;43m.\u001b[39;49m\u001b[43moptions\u001b[49m\u001b[38;5;241;43m.\u001b[39;49m\u001b[43mget\u001b[49m\u001b[43m(\u001b[49m\u001b[38;5;124;43m\"\u001b[39;49m\u001b[38;5;124;43mencoding_errors\u001b[39;49m\u001b[38;5;124;43m\"\u001b[39;49m\u001b[43m,\u001b[49m\u001b[43m \u001b[49m\u001b[38;5;124;43m\"\u001b[39;49m\u001b[38;5;124;43mstrict\u001b[39;49m\u001b[38;5;124;43m\"\u001b[39;49m\u001b[43m)\u001b[49m\u001b[43m,\u001b[49m\n\u001b[1;32m   1669\u001b[0m \u001b[43m    \u001b[49m\u001b[43mstorage_options\u001b[49m\u001b[38;5;241;43m=\u001b[39;49m\u001b[38;5;28;43mself\u001b[39;49m\u001b[38;5;241;43m.\u001b[39;49m\u001b[43moptions\u001b[49m\u001b[38;5;241;43m.\u001b[39;49m\u001b[43mget\u001b[49m\u001b[43m(\u001b[49m\u001b[38;5;124;43m\"\u001b[39;49m\u001b[38;5;124;43mstorage_options\u001b[39;49m\u001b[38;5;124;43m\"\u001b[39;49m\u001b[43m,\u001b[49m\u001b[43m \u001b[49m\u001b[38;5;28;43;01mNone\u001b[39;49;00m\u001b[43m)\u001b[49m\u001b[43m,\u001b[49m\n\u001b[1;32m   1670\u001b[0m \u001b[43m\u001b[49m\u001b[43m)\u001b[49m\n\u001b[1;32m   1671\u001b[0m \u001b[38;5;28;01massert\u001b[39;00m \u001b[38;5;28mself\u001b[39m\u001b[38;5;241m.\u001b[39mhandles \u001b[38;5;129;01mis\u001b[39;00m \u001b[38;5;129;01mnot\u001b[39;00m \u001b[38;5;28;01mNone\u001b[39;00m\n\u001b[1;32m   1672\u001b[0m f \u001b[38;5;241m=\u001b[39m \u001b[38;5;28mself\u001b[39m\u001b[38;5;241m.\u001b[39mhandles\u001b[38;5;241m.\u001b[39mhandle\n",
      "File \u001b[0;32m~/anaconda3/envs/chemo/lib/python3.8/site-packages/pandas/io/common.py:716\u001b[0m, in \u001b[0;36mget_handle\u001b[0;34m(path_or_buf, mode, encoding, compression, memory_map, is_text, errors, storage_options)\u001b[0m\n\u001b[1;32m    713\u001b[0m     codecs\u001b[38;5;241m.\u001b[39mlookup_error(errors)\n\u001b[1;32m    715\u001b[0m \u001b[38;5;66;03m# open URLs\u001b[39;00m\n\u001b[0;32m--> 716\u001b[0m ioargs \u001b[38;5;241m=\u001b[39m \u001b[43m_get_filepath_or_buffer\u001b[49m\u001b[43m(\u001b[49m\n\u001b[1;32m    717\u001b[0m \u001b[43m    \u001b[49m\u001b[43mpath_or_buf\u001b[49m\u001b[43m,\u001b[49m\n\u001b[1;32m    718\u001b[0m \u001b[43m    \u001b[49m\u001b[43mencoding\u001b[49m\u001b[38;5;241;43m=\u001b[39;49m\u001b[43mencoding\u001b[49m\u001b[43m,\u001b[49m\n\u001b[1;32m    719\u001b[0m \u001b[43m    \u001b[49m\u001b[43mcompression\u001b[49m\u001b[38;5;241;43m=\u001b[39;49m\u001b[43mcompression\u001b[49m\u001b[43m,\u001b[49m\n\u001b[1;32m    720\u001b[0m \u001b[43m    \u001b[49m\u001b[43mmode\u001b[49m\u001b[38;5;241;43m=\u001b[39;49m\u001b[43mmode\u001b[49m\u001b[43m,\u001b[49m\n\u001b[1;32m    721\u001b[0m \u001b[43m    \u001b[49m\u001b[43mstorage_options\u001b[49m\u001b[38;5;241;43m=\u001b[39;49m\u001b[43mstorage_options\u001b[49m\u001b[43m,\u001b[49m\n\u001b[1;32m    722\u001b[0m \u001b[43m\u001b[49m\u001b[43m)\u001b[49m\n\u001b[1;32m    724\u001b[0m handle \u001b[38;5;241m=\u001b[39m ioargs\u001b[38;5;241m.\u001b[39mfilepath_or_buffer\n\u001b[1;32m    725\u001b[0m handles: \u001b[38;5;28mlist\u001b[39m[BaseBuffer]\n",
      "File \u001b[0;32m~/anaconda3/envs/chemo/lib/python3.8/site-packages/pandas/io/common.py:368\u001b[0m, in \u001b[0;36m_get_filepath_or_buffer\u001b[0;34m(filepath_or_buffer, encoding, compression, mode, storage_options)\u001b[0m\n\u001b[1;32m    366\u001b[0m \u001b[38;5;66;03m# assuming storage_options is to be interpreted as headers\u001b[39;00m\n\u001b[1;32m    367\u001b[0m req_info \u001b[38;5;241m=\u001b[39m urllib\u001b[38;5;241m.\u001b[39mrequest\u001b[38;5;241m.\u001b[39mRequest(filepath_or_buffer, headers\u001b[38;5;241m=\u001b[39mstorage_options)\n\u001b[0;32m--> 368\u001b[0m \u001b[38;5;28;01mwith\u001b[39;00m \u001b[43murlopen\u001b[49m\u001b[43m(\u001b[49m\u001b[43mreq_info\u001b[49m\u001b[43m)\u001b[49m \u001b[38;5;28;01mas\u001b[39;00m req:\n\u001b[1;32m    369\u001b[0m     content_encoding \u001b[38;5;241m=\u001b[39m req\u001b[38;5;241m.\u001b[39mheaders\u001b[38;5;241m.\u001b[39mget(\u001b[38;5;124m\"\u001b[39m\u001b[38;5;124mContent-Encoding\u001b[39m\u001b[38;5;124m\"\u001b[39m, \u001b[38;5;28;01mNone\u001b[39;00m)\n\u001b[1;32m    370\u001b[0m     \u001b[38;5;28;01mif\u001b[39;00m content_encoding \u001b[38;5;241m==\u001b[39m \u001b[38;5;124m\"\u001b[39m\u001b[38;5;124mgzip\u001b[39m\u001b[38;5;124m\"\u001b[39m:\n\u001b[1;32m    371\u001b[0m         \u001b[38;5;66;03m# Override compression based on Content-Encoding header\u001b[39;00m\n",
      "File \u001b[0;32m~/anaconda3/envs/chemo/lib/python3.8/site-packages/pandas/io/common.py:270\u001b[0m, in \u001b[0;36murlopen\u001b[0;34m(*args, **kwargs)\u001b[0m\n\u001b[1;32m    264\u001b[0m \u001b[38;5;250m\u001b[39m\u001b[38;5;124;03m\"\"\"\u001b[39;00m\n\u001b[1;32m    265\u001b[0m \u001b[38;5;124;03mLazy-import wrapper for stdlib urlopen, as that imports a big chunk of\u001b[39;00m\n\u001b[1;32m    266\u001b[0m \u001b[38;5;124;03mthe stdlib.\u001b[39;00m\n\u001b[1;32m    267\u001b[0m \u001b[38;5;124;03m\"\"\"\u001b[39;00m\n\u001b[1;32m    268\u001b[0m \u001b[38;5;28;01mimport\u001b[39;00m \u001b[38;5;21;01murllib\u001b[39;00m\u001b[38;5;21;01m.\u001b[39;00m\u001b[38;5;21;01mrequest\u001b[39;00m\n\u001b[0;32m--> 270\u001b[0m \u001b[38;5;28;01mreturn\u001b[39;00m \u001b[43murllib\u001b[49m\u001b[38;5;241;43m.\u001b[39;49m\u001b[43mrequest\u001b[49m\u001b[38;5;241;43m.\u001b[39;49m\u001b[43murlopen\u001b[49m\u001b[43m(\u001b[49m\u001b[38;5;241;43m*\u001b[39;49m\u001b[43margs\u001b[49m\u001b[43m,\u001b[49m\u001b[43m \u001b[49m\u001b[38;5;241;43m*\u001b[39;49m\u001b[38;5;241;43m*\u001b[39;49m\u001b[43mkwargs\u001b[49m\u001b[43m)\u001b[49m\n",
      "File \u001b[0;32m~/anaconda3/envs/chemo/lib/python3.8/urllib/request.py:222\u001b[0m, in \u001b[0;36murlopen\u001b[0;34m(url, data, timeout, cafile, capath, cadefault, context)\u001b[0m\n\u001b[1;32m    220\u001b[0m \u001b[38;5;28;01melse\u001b[39;00m:\n\u001b[1;32m    221\u001b[0m     opener \u001b[38;5;241m=\u001b[39m _opener\n\u001b[0;32m--> 222\u001b[0m \u001b[38;5;28;01mreturn\u001b[39;00m \u001b[43mopener\u001b[49m\u001b[38;5;241;43m.\u001b[39;49m\u001b[43mopen\u001b[49m\u001b[43m(\u001b[49m\u001b[43murl\u001b[49m\u001b[43m,\u001b[49m\u001b[43m \u001b[49m\u001b[43mdata\u001b[49m\u001b[43m,\u001b[49m\u001b[43m \u001b[49m\u001b[43mtimeout\u001b[49m\u001b[43m)\u001b[49m\n",
      "File \u001b[0;32m~/anaconda3/envs/chemo/lib/python3.8/urllib/request.py:525\u001b[0m, in \u001b[0;36mOpenerDirector.open\u001b[0;34m(self, fullurl, data, timeout)\u001b[0m\n\u001b[1;32m    522\u001b[0m     req \u001b[38;5;241m=\u001b[39m meth(req)\n\u001b[1;32m    524\u001b[0m sys\u001b[38;5;241m.\u001b[39maudit(\u001b[38;5;124m'\u001b[39m\u001b[38;5;124murllib.Request\u001b[39m\u001b[38;5;124m'\u001b[39m, req\u001b[38;5;241m.\u001b[39mfull_url, req\u001b[38;5;241m.\u001b[39mdata, req\u001b[38;5;241m.\u001b[39mheaders, req\u001b[38;5;241m.\u001b[39mget_method())\n\u001b[0;32m--> 525\u001b[0m response \u001b[38;5;241m=\u001b[39m \u001b[38;5;28;43mself\u001b[39;49m\u001b[38;5;241;43m.\u001b[39;49m\u001b[43m_open\u001b[49m\u001b[43m(\u001b[49m\u001b[43mreq\u001b[49m\u001b[43m,\u001b[49m\u001b[43m \u001b[49m\u001b[43mdata\u001b[49m\u001b[43m)\u001b[49m\n\u001b[1;32m    527\u001b[0m \u001b[38;5;66;03m# post-process response\u001b[39;00m\n\u001b[1;32m    528\u001b[0m meth_name \u001b[38;5;241m=\u001b[39m protocol\u001b[38;5;241m+\u001b[39m\u001b[38;5;124m\"\u001b[39m\u001b[38;5;124m_response\u001b[39m\u001b[38;5;124m\"\u001b[39m\n",
      "File \u001b[0;32m~/anaconda3/envs/chemo/lib/python3.8/urllib/request.py:542\u001b[0m, in \u001b[0;36mOpenerDirector._open\u001b[0;34m(self, req, data)\u001b[0m\n\u001b[1;32m    539\u001b[0m     \u001b[38;5;28;01mreturn\u001b[39;00m result\n\u001b[1;32m    541\u001b[0m protocol \u001b[38;5;241m=\u001b[39m req\u001b[38;5;241m.\u001b[39mtype\n\u001b[0;32m--> 542\u001b[0m result \u001b[38;5;241m=\u001b[39m \u001b[38;5;28;43mself\u001b[39;49m\u001b[38;5;241;43m.\u001b[39;49m\u001b[43m_call_chain\u001b[49m\u001b[43m(\u001b[49m\u001b[38;5;28;43mself\u001b[39;49m\u001b[38;5;241;43m.\u001b[39;49m\u001b[43mhandle_open\u001b[49m\u001b[43m,\u001b[49m\u001b[43m \u001b[49m\u001b[43mprotocol\u001b[49m\u001b[43m,\u001b[49m\u001b[43m \u001b[49m\u001b[43mprotocol\u001b[49m\u001b[43m \u001b[49m\u001b[38;5;241;43m+\u001b[39;49m\n\u001b[1;32m    543\u001b[0m \u001b[43m                          \u001b[49m\u001b[38;5;124;43m'\u001b[39;49m\u001b[38;5;124;43m_open\u001b[39;49m\u001b[38;5;124;43m'\u001b[39;49m\u001b[43m,\u001b[49m\u001b[43m \u001b[49m\u001b[43mreq\u001b[49m\u001b[43m)\u001b[49m\n\u001b[1;32m    544\u001b[0m \u001b[38;5;28;01mif\u001b[39;00m result:\n\u001b[1;32m    545\u001b[0m     \u001b[38;5;28;01mreturn\u001b[39;00m result\n",
      "File \u001b[0;32m~/anaconda3/envs/chemo/lib/python3.8/urllib/request.py:502\u001b[0m, in \u001b[0;36mOpenerDirector._call_chain\u001b[0;34m(self, chain, kind, meth_name, *args)\u001b[0m\n\u001b[1;32m    500\u001b[0m \u001b[38;5;28;01mfor\u001b[39;00m handler \u001b[38;5;129;01min\u001b[39;00m handlers:\n\u001b[1;32m    501\u001b[0m     func \u001b[38;5;241m=\u001b[39m \u001b[38;5;28mgetattr\u001b[39m(handler, meth_name)\n\u001b[0;32m--> 502\u001b[0m     result \u001b[38;5;241m=\u001b[39m \u001b[43mfunc\u001b[49m\u001b[43m(\u001b[49m\u001b[38;5;241;43m*\u001b[39;49m\u001b[43margs\u001b[49m\u001b[43m)\u001b[49m\n\u001b[1;32m    503\u001b[0m     \u001b[38;5;28;01mif\u001b[39;00m result \u001b[38;5;129;01mis\u001b[39;00m \u001b[38;5;129;01mnot\u001b[39;00m \u001b[38;5;28;01mNone\u001b[39;00m:\n\u001b[1;32m    504\u001b[0m         \u001b[38;5;28;01mreturn\u001b[39;00m result\n",
      "File \u001b[0;32m~/anaconda3/envs/chemo/lib/python3.8/urllib/request.py:1397\u001b[0m, in \u001b[0;36mHTTPSHandler.https_open\u001b[0;34m(self, req)\u001b[0m\n\u001b[1;32m   1396\u001b[0m \u001b[38;5;28;01mdef\u001b[39;00m \u001b[38;5;21mhttps_open\u001b[39m(\u001b[38;5;28mself\u001b[39m, req):\n\u001b[0;32m-> 1397\u001b[0m     \u001b[38;5;28;01mreturn\u001b[39;00m \u001b[38;5;28;43mself\u001b[39;49m\u001b[38;5;241;43m.\u001b[39;49m\u001b[43mdo_open\u001b[49m\u001b[43m(\u001b[49m\u001b[43mhttp\u001b[49m\u001b[38;5;241;43m.\u001b[39;49m\u001b[43mclient\u001b[49m\u001b[38;5;241;43m.\u001b[39;49m\u001b[43mHTTPSConnection\u001b[49m\u001b[43m,\u001b[49m\u001b[43m \u001b[49m\u001b[43mreq\u001b[49m\u001b[43m,\u001b[49m\n\u001b[1;32m   1398\u001b[0m \u001b[43m        \u001b[49m\u001b[43mcontext\u001b[49m\u001b[38;5;241;43m=\u001b[39;49m\u001b[38;5;28;43mself\u001b[39;49m\u001b[38;5;241;43m.\u001b[39;49m\u001b[43m_context\u001b[49m\u001b[43m,\u001b[49m\u001b[43m \u001b[49m\u001b[43mcheck_hostname\u001b[49m\u001b[38;5;241;43m=\u001b[39;49m\u001b[38;5;28;43mself\u001b[39;49m\u001b[38;5;241;43m.\u001b[39;49m\u001b[43m_check_hostname\u001b[49m\u001b[43m)\u001b[49m\n",
      "File \u001b[0;32m~/anaconda3/envs/chemo/lib/python3.8/urllib/request.py:1354\u001b[0m, in \u001b[0;36mAbstractHTTPHandler.do_open\u001b[0;34m(self, http_class, req, **http_conn_args)\u001b[0m\n\u001b[1;32m   1352\u001b[0m \u001b[38;5;28;01mtry\u001b[39;00m:\n\u001b[1;32m   1353\u001b[0m     \u001b[38;5;28;01mtry\u001b[39;00m:\n\u001b[0;32m-> 1354\u001b[0m         \u001b[43mh\u001b[49m\u001b[38;5;241;43m.\u001b[39;49m\u001b[43mrequest\u001b[49m\u001b[43m(\u001b[49m\u001b[43mreq\u001b[49m\u001b[38;5;241;43m.\u001b[39;49m\u001b[43mget_method\u001b[49m\u001b[43m(\u001b[49m\u001b[43m)\u001b[49m\u001b[43m,\u001b[49m\u001b[43m \u001b[49m\u001b[43mreq\u001b[49m\u001b[38;5;241;43m.\u001b[39;49m\u001b[43mselector\u001b[49m\u001b[43m,\u001b[49m\u001b[43m \u001b[49m\u001b[43mreq\u001b[49m\u001b[38;5;241;43m.\u001b[39;49m\u001b[43mdata\u001b[49m\u001b[43m,\u001b[49m\u001b[43m \u001b[49m\u001b[43mheaders\u001b[49m\u001b[43m,\u001b[49m\n\u001b[1;32m   1355\u001b[0m \u001b[43m                  \u001b[49m\u001b[43mencode_chunked\u001b[49m\u001b[38;5;241;43m=\u001b[39;49m\u001b[43mreq\u001b[49m\u001b[38;5;241;43m.\u001b[39;49m\u001b[43mhas_header\u001b[49m\u001b[43m(\u001b[49m\u001b[38;5;124;43m'\u001b[39;49m\u001b[38;5;124;43mTransfer-encoding\u001b[39;49m\u001b[38;5;124;43m'\u001b[39;49m\u001b[43m)\u001b[49m\u001b[43m)\u001b[49m\n\u001b[1;32m   1356\u001b[0m     \u001b[38;5;28;01mexcept\u001b[39;00m \u001b[38;5;167;01mOSError\u001b[39;00m \u001b[38;5;28;01mas\u001b[39;00m err: \u001b[38;5;66;03m# timeout error\u001b[39;00m\n\u001b[1;32m   1357\u001b[0m         \u001b[38;5;28;01mraise\u001b[39;00m URLError(err)\n",
      "File \u001b[0;32m~/anaconda3/envs/chemo/lib/python3.8/http/client.py:1256\u001b[0m, in \u001b[0;36mHTTPConnection.request\u001b[0;34m(self, method, url, body, headers, encode_chunked)\u001b[0m\n\u001b[1;32m   1253\u001b[0m \u001b[38;5;28;01mdef\u001b[39;00m \u001b[38;5;21mrequest\u001b[39m(\u001b[38;5;28mself\u001b[39m, method, url, body\u001b[38;5;241m=\u001b[39m\u001b[38;5;28;01mNone\u001b[39;00m, headers\u001b[38;5;241m=\u001b[39m{}, \u001b[38;5;241m*\u001b[39m,\n\u001b[1;32m   1254\u001b[0m             encode_chunked\u001b[38;5;241m=\u001b[39m\u001b[38;5;28;01mFalse\u001b[39;00m):\n\u001b[1;32m   1255\u001b[0m \u001b[38;5;250m    \u001b[39m\u001b[38;5;124;03m\"\"\"Send a complete request to the server.\"\"\"\u001b[39;00m\n\u001b[0;32m-> 1256\u001b[0m     \u001b[38;5;28;43mself\u001b[39;49m\u001b[38;5;241;43m.\u001b[39;49m\u001b[43m_send_request\u001b[49m\u001b[43m(\u001b[49m\u001b[43mmethod\u001b[49m\u001b[43m,\u001b[49m\u001b[43m \u001b[49m\u001b[43murl\u001b[49m\u001b[43m,\u001b[49m\u001b[43m \u001b[49m\u001b[43mbody\u001b[49m\u001b[43m,\u001b[49m\u001b[43m \u001b[49m\u001b[43mheaders\u001b[49m\u001b[43m,\u001b[49m\u001b[43m \u001b[49m\u001b[43mencode_chunked\u001b[49m\u001b[43m)\u001b[49m\n",
      "File \u001b[0;32m~/anaconda3/envs/chemo/lib/python3.8/http/client.py:1267\u001b[0m, in \u001b[0;36mHTTPConnection._send_request\u001b[0;34m(self, method, url, body, headers, encode_chunked)\u001b[0m\n\u001b[1;32m   1264\u001b[0m \u001b[38;5;28;01mif\u001b[39;00m \u001b[38;5;124m'\u001b[39m\u001b[38;5;124maccept-encoding\u001b[39m\u001b[38;5;124m'\u001b[39m \u001b[38;5;129;01min\u001b[39;00m header_names:\n\u001b[1;32m   1265\u001b[0m     skips[\u001b[38;5;124m'\u001b[39m\u001b[38;5;124mskip_accept_encoding\u001b[39m\u001b[38;5;124m'\u001b[39m] \u001b[38;5;241m=\u001b[39m \u001b[38;5;241m1\u001b[39m\n\u001b[0;32m-> 1267\u001b[0m \u001b[38;5;28;43mself\u001b[39;49m\u001b[38;5;241;43m.\u001b[39;49m\u001b[43mputrequest\u001b[49m\u001b[43m(\u001b[49m\u001b[43mmethod\u001b[49m\u001b[43m,\u001b[49m\u001b[43m \u001b[49m\u001b[43murl\u001b[49m\u001b[43m,\u001b[49m\u001b[43m \u001b[49m\u001b[38;5;241;43m*\u001b[39;49m\u001b[38;5;241;43m*\u001b[39;49m\u001b[43mskips\u001b[49m\u001b[43m)\u001b[49m\n\u001b[1;32m   1269\u001b[0m \u001b[38;5;66;03m# chunked encoding will happen if HTTP/1.1 is used and either\u001b[39;00m\n\u001b[1;32m   1270\u001b[0m \u001b[38;5;66;03m# the caller passes encode_chunked=True or the following\u001b[39;00m\n\u001b[1;32m   1271\u001b[0m \u001b[38;5;66;03m# conditions hold:\u001b[39;00m\n\u001b[1;32m   1272\u001b[0m \u001b[38;5;66;03m# 1. content-length has not been explicitly set\u001b[39;00m\n\u001b[1;32m   1273\u001b[0m \u001b[38;5;66;03m# 2. the body is a file or iterable, but not a str or bytes-like\u001b[39;00m\n\u001b[1;32m   1274\u001b[0m \u001b[38;5;66;03m# 3. Transfer-Encoding has NOT been explicitly set by the caller\u001b[39;00m\n\u001b[1;32m   1276\u001b[0m \u001b[38;5;28;01mif\u001b[39;00m \u001b[38;5;124m'\u001b[39m\u001b[38;5;124mcontent-length\u001b[39m\u001b[38;5;124m'\u001b[39m \u001b[38;5;129;01mnot\u001b[39;00m \u001b[38;5;129;01min\u001b[39;00m header_names:\n\u001b[1;32m   1277\u001b[0m     \u001b[38;5;66;03m# only chunk body if not explicitly set for backwards\u001b[39;00m\n\u001b[1;32m   1278\u001b[0m     \u001b[38;5;66;03m# compatibility, assuming the client code is already handling the\u001b[39;00m\n\u001b[1;32m   1279\u001b[0m     \u001b[38;5;66;03m# chunking\u001b[39;00m\n",
      "File \u001b[0;32m~/anaconda3/envs/chemo/lib/python3.8/http/client.py:1105\u001b[0m, in \u001b[0;36mHTTPConnection.putrequest\u001b[0;34m(self, method, url, skip_host, skip_accept_encoding)\u001b[0m\n\u001b[1;32m   1101\u001b[0m \u001b[38;5;28mself\u001b[39m\u001b[38;5;241m.\u001b[39m_validate_path(url)\n\u001b[1;32m   1103\u001b[0m request \u001b[38;5;241m=\u001b[39m \u001b[38;5;124m'\u001b[39m\u001b[38;5;132;01m%s\u001b[39;00m\u001b[38;5;124m \u001b[39m\u001b[38;5;132;01m%s\u001b[39;00m\u001b[38;5;124m \u001b[39m\u001b[38;5;132;01m%s\u001b[39;00m\u001b[38;5;124m'\u001b[39m \u001b[38;5;241m%\u001b[39m (method, url, \u001b[38;5;28mself\u001b[39m\u001b[38;5;241m.\u001b[39m_http_vsn_str)\n\u001b[0;32m-> 1105\u001b[0m \u001b[38;5;28mself\u001b[39m\u001b[38;5;241m.\u001b[39m_output(\u001b[38;5;28;43mself\u001b[39;49m\u001b[38;5;241;43m.\u001b[39;49m\u001b[43m_encode_request\u001b[49m\u001b[43m(\u001b[49m\u001b[43mrequest\u001b[49m\u001b[43m)\u001b[49m)\n\u001b[1;32m   1107\u001b[0m \u001b[38;5;28;01mif\u001b[39;00m \u001b[38;5;28mself\u001b[39m\u001b[38;5;241m.\u001b[39m_http_vsn \u001b[38;5;241m==\u001b[39m \u001b[38;5;241m11\u001b[39m:\n\u001b[1;32m   1108\u001b[0m     \u001b[38;5;66;03m# Issue some standard headers for better HTTP/1.1 compliance\u001b[39;00m\n\u001b[1;32m   1110\u001b[0m     \u001b[38;5;28;01mif\u001b[39;00m \u001b[38;5;129;01mnot\u001b[39;00m skip_host:\n\u001b[1;32m   1111\u001b[0m         \u001b[38;5;66;03m# this header is issued *only* for HTTP/1.1\u001b[39;00m\n\u001b[1;32m   1112\u001b[0m         \u001b[38;5;66;03m# connections. more specifically, this means it is\u001b[39;00m\n\u001b[0;32m   (...)\u001b[0m\n\u001b[1;32m   1122\u001b[0m         \u001b[38;5;66;03m# but the host of the actual URL, not the host of the\u001b[39;00m\n\u001b[1;32m   1123\u001b[0m         \u001b[38;5;66;03m# proxy.\u001b[39;00m\n",
      "File \u001b[0;32m~/anaconda3/envs/chemo/lib/python3.8/http/client.py:1185\u001b[0m, in \u001b[0;36mHTTPConnection._encode_request\u001b[0;34m(self, request)\u001b[0m\n\u001b[1;32m   1183\u001b[0m \u001b[38;5;28;01mdef\u001b[39;00m \u001b[38;5;21m_encode_request\u001b[39m(\u001b[38;5;28mself\u001b[39m, request):\n\u001b[1;32m   1184\u001b[0m     \u001b[38;5;66;03m# ASCII also helps prevent CVE-2019-9740.\u001b[39;00m\n\u001b[0;32m-> 1185\u001b[0m     \u001b[38;5;28;01mreturn\u001b[39;00m \u001b[43mrequest\u001b[49m\u001b[38;5;241;43m.\u001b[39;49m\u001b[43mencode\u001b[49m\u001b[43m(\u001b[49m\u001b[38;5;124;43m'\u001b[39;49m\u001b[38;5;124;43mascii\u001b[39;49m\u001b[38;5;124;43m'\u001b[39;49m\u001b[43m)\u001b[49m\n",
      "\u001b[0;31mUnicodeEncodeError\u001b[0m: 'ascii' codec can't encode character '\\xe1' in position 50: ordinal not in range(128)"
     ]
    }
   ],
   "source": [
    "# Importar el conjunto de datos desde la URL y cargarlo en un DataFrame de pandas\n",
    "lipinski_comp = pd.read_csv('https://raw.githubusercontent.com/ramirezlab/PILE/main/2.%20De%20datos%20a%20gráficas%3A%20Propiedades%20drug-likeness%20y%20similitud%20química%20con%20python/data/compounds_P49841_lipinski.csv')\n",
    "\n",
    "# Mostrar las primeras 10 filas del DataFrame para verificar la correcta importación de los datos\n",
    "lipinski_comp.head(10)"
   ]
  },
  {
   "cell_type": "markdown",
   "metadata": {},
   "source": [
    "## Actividad práctica\n",
    "\n",
    "Teniendo en cuenta lo revisado en esta segunda parte, realice un codigo en python con el cual pueda:\n",
    "\n",
    "1. Hacer un gráfico de barras para los últimos 5 compuestos que no cumplen con la regla de Lipinski, en el cual se observe cada compuesto frente a las 4 reglas de Lipinski con sus respectivos límites.\n",
    "\n",
    "Al finalizar deberá preparar un documento en formato \"ipynb\" (Jupyter notebook)\" en el cual adjunte:\n",
    "1. El código propuesto para la selección de los compuestos a gráficar con su recpectiva salida. \n",
    "2. El código propuesto para realizar el gráfico solicitado con su respectiva salida."
   ]
  },
  {
   "cell_type": "markdown",
   "metadata": {},
   "source": [
    "## Conclusión\n",
    "\n",
    "En esta práctica, hemos aprendido sobre la regla de Lipinski como una medida para estimar la biodisponibilidad oral de un compuesto y hemos aplicado la regla en un conjunto de datos para poder filtrarlos y descartar aquellos compuestos que cumplen con dos o más de los criterios. Además, aprendemos a realizar gráficos sencillos como los de barras que nos permiten visualizar el conjunto de datos en total o cada compuesto del conjunto de datos. También, aprendimos a realizar, gráficos de dispersión que nos permiten observar el conjunto de datos frente a los cuatro criterios de la regla de Lipinski. Finalmente, construimos un gráfico más complejo como el gráfico de radar el cual nos permite comparar múltiples variables (reglas de Lipinski) en un solo gráfico."
   ]
  },
  {
   "cell_type": "markdown",
   "metadata": {},
   "source": [
    "# Referencias\n",
    "1. Grogan, S., & Preuss, C. V. (2022). Pharmacokinetics. En StatPearls. StatPearls Publishing. http://www.ncbi.nlm.nih.gov/books/NBK557744/\n",
    "2. Doogue, M. P., & Polasek, T. M. (2013). The ABCD of clinical pharmacokinetics. Therapeutic Advances in Drug Safety, 4(1), 5-7. https://doi.org/10.1177/2042098612469335\n",
    "3. Turner, J. V., & Agatonovic-Kustrin, S. (2007). In silico prediction of oral bioavailability. En Comprehensive Medicinal Chemistry II (pp. 699-724). Elsevier. https://doi.org/10.1016/B0-08-045044-X/00147-4\n"
   ]
  }
 ],
 "metadata": {
  "kernelspec": {
   "display_name": "chemo",
   "language": "python",
   "name": "python3"
  },
  "language_info": {
   "codemirror_mode": {
    "name": "ipython",
    "version": 3
   },
   "file_extension": ".py",
   "mimetype": "text/x-python",
   "name": "python",
   "nbconvert_exporter": "python",
   "pygments_lexer": "ipython3",
   "version": "3.8.17"
  }
 },
 "nbformat": 4,
 "nbformat_minor": 4
}
