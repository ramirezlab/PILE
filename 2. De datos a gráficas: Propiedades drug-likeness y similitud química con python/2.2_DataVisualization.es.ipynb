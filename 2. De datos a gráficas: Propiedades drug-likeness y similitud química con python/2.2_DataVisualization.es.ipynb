{
 "cells": [
  {
   "cell_type": "markdown",
   "id": "cd0dd5c4",
   "metadata": {},
   "source": [
    "# Introducción a la visualización de Datos.\n",
    "\n",
    "> **Nota:** Este libro esta disponible de dos maneras: \n",
    "> 1. Descargando el repositorio y siguiendo las instrucciones que estan en el archivo [README.md](https://github.com/ramirezlab/CHEMO/blob/main/README.md)\n",
    "> 2. Haciendo clic aquí en [![Open In Colab](https://colab.research.google.com/assets/colab-badge.svg)](https://colab.research.google.com/github/ramirezlab/CHEMO/blob/main/2_PART_TWO/2.2_DataVisualization.es.ipynb?hl=es)\n",
    "\n",
    "Algunos años atrás el reto era como obtener millones de datos, pero en la actualidad esto ya no es un problema, no más hay que visitar el sitio web de [ChEMBL](https://www.ebi.ac.uk/chembl/) donde podemos encontrar una cantidad interesante de moléculas bioactivas con ciertas características para ser utilizadas como parte de análisis en el desarrollo de nuevos medicamentos.\n",
    "\n",
    "Pero el campo de los datos va más allá de su manipulación, también como científicos es valioso desarrollar habilidades relacionadas con la presentación de nuestros hallazgos. Y si quisiéramos ir un poco más allá, algo a tener en cuenta, es que aparte de una buena visualización es bueno tener una historia que contar.\n",
    "\n",
    "En Notebooks anteriores aprendimos a manipular algunos conjuntos de datos y para ello hemos visto desde lo básico de Python hasta elementos más avanzados como lo son los [DataFrame](../2_PART_TWO/2.1_Dataframes.ipynb), ahora es tiempo de aprender a crear gráficas *(Visualizaciones)* utilizando dos de las librerías más famosas: `Matplotlib` y `Seaborn`. Para la mayoría de los escenarios, con la primera de estas será más que suficiente, pero para realizar gráficas un poco más complejas usualmente se usa la segunda. Con ellas dos trataremos de generar la mayoría de las visualizaciones más populares a lo largo de este Notebook.\n"
   ]
  },
  {
   "cell_type": "markdown",
   "id": "aa823ff7",
   "metadata": {},
   "source": [
    "### Introducción a Matplotlib\n",
    "\n",
    "Según su sitio web, **[Matplotlib](https://matplotlib.org/stable/index.html) es una librería para la creación de visualizaciones estáticas, animadas e interactivas en Python**<sup> **1** </sup>. Simple, ¿recuerdan el concepto de librería? Si no [aqui](https://www.geeksforgeeks.org/libraries-in-python/), pueden leer un poco más al respecto. No hay mucho que agregar, más allá de que la librería ya se encuentra instalada como parte de las dependencias del ambiente virtual del curso.\n",
    "\n",
    "> En caso de que la librería no esté instalada, puede utilizar el comando `pip install matplotlib`, o `conda install matplotlib` en el *Command Prompt* o en su respectivo terminal.\n",
    "\n",
    "Antes de empezar a graficar es bueno desarrollar un entendimiento básico de cómo funciona esta librería, dado que en muchos escenarios veremos que es necesario realizar ciertas configuraciones.\n",
    "\n",
    "#### El módulo Pyplot\n",
    "\n",
    "Por lo general el módulo `pyplot` es el foco de interés cuando queremos gráficar con `Matplotlib`, a pesar de que la librería posee una gran variedad de funcionalidades asociadas a otras características como la configuración de los estilos y las animaciones. En la mayoría de los casos se suele importar el módulo de la siguiente forma:\n",
    "\n",
    "```\n",
    "    import matplotlib.pyplot as plt\n",
    "```\n",
    "\n",
    "Acto seguido, para crear una gráfica o **plot** debemos seguir una serie de pasos o llamados de ciertas funciones *(métodos)* que pertenecen al módulo `pyplot`. Veamos un ejemplo dentro de un contexto específico a continuación."
   ]
  },
  {
   "cell_type": "markdown",
   "id": "5aeea67d",
   "metadata": {},
   "source": [
    "# Base de datos de EEG\n",
    "Vamos a trabajar con el [conjunto de datos de la base de datos de EEG](https://archive.ics.uci.edu/ml/datasets/eeg+database). Estos datos surgen de un gran estudio para examinar las correlaciones de un Electroencefalograma (EEG) de la predisposición genética al alcoholismo. Contiene mediciones de 64 electrodos colocados en el cuero cabelludo muestreados a 256 Hz (256 datos por segundo) durante un segundo.\n",
    "\n",
    "Vamos a descargar e importar los datos de dos sujetos de prueba: el dataset de [EGG del invididuo 364](https://archive.ics.uci.edu/ml/machine-learning-databases/eeg-mld/eeg_full/co2a0000364.tar.gz) y el [EEG del individuo 365](https://archive.ics.uci.edu/ml/machine-learning-databases/eeg-mld/eeg_full/co2a0000365.tar.gz).\n",
    "\n",
    "Una vez descargados los guardamos en la carpeta [../data/co2a0000364](2_PART_TWO/data/co2a0000364) y [../data/co2a0000365](2_PART_TWO/data/co2a0000365) y los convertimos en un `Dataframe`.\n"
   ]
  },
  {
   "cell_type": "code",
   "execution_count": null,
   "id": "157391a4",
   "metadata": {},
   "outputs": [],
   "source": [
    "import requests\n",
    "import tarfile\n",
    "import gzip\n",
    "import pandas as pd\n",
    "\n",
    "# Se descarga el archivo de datos por medio de la librería requests.\n",
    "with requests.get(\"https://archive.ics.uci.edu/ml/machine-learning-databases/eeg-mld/eeg_full/co2a0000364.tar.gz\", stream=True) as rx, tarfile.open(fileobj=rx.raw, mode=\"r:gz\") as tarobj:\n",
    "    tarobj.extractall('./data/')\n",
    "with requests.get(\"https://archive.ics.uci.edu/ml/machine-learning-databases/eeg-mld/eeg_full/co2a0000365.tar.gz\", stream=True) as rx, tarfile.open(fileobj=rx.raw, mode=\"r:gz\") as tarobj:\n",
    "    tarobj.extractall('./data/')\n",
    "\n",
    "# Una vez descargados los datos, se convierten en un Dataframe\n",
    "with gzip.open('data/co2a0000364/co2a0000364.rd.000.gz', \"rb\") as f:\n",
    "    df364 = pd.read_csv(f, delimiter=\" \", skiprows=5, names=[\"trial_number\", \"sensor_position\", \"sample_number\", \"sensor_value\"])\n",
    "with gzip.open('data/co2a0000365/co2a0000365.rd.003.gz', \"rb\") as f:\n",
    "    df365 = pd.read_csv(f, delimiter=\" \", skiprows=5, names=[\"trial_number\", \"sensor_position\", \"sample_number\", \"sensor_value\"])"
   ]
  },
  {
   "cell_type": "markdown",
   "id": "0536595a",
   "metadata": {},
   "source": [
    "Ahora inspeccionemos un poco la data que previamente descargamos, en el dataset encontraremos el `número del trial o test`, `la posición del sensor` y `el valor leído por el sensor`, esto tanto para el individuo 364 como para el individuo 365:\n"
   ]
  },
  {
   "cell_type": "code",
   "execution_count": null,
   "id": "7214e1b1",
   "metadata": {},
   "outputs": [],
   "source": [
    "df364.head()"
   ]
  },
  {
   "cell_type": "markdown",
   "id": "4a996901",
   "metadata": {},
   "source": [
    "Podemos comprobar el número de sensores de cada base y la cantidad de datos por sensor (Son 256 datos + el marcador de inicio de las lecturas)."
   ]
  },
  {
   "cell_type": "code",
   "execution_count": null,
   "id": "99f010bc",
   "metadata": {
    "collapsed": false,
    "jupyter": {
     "outputs_hidden": false
    }
   },
   "outputs": [],
   "source": [
    "df364.sensor_position.value_counts()"
   ]
  },
  {
   "cell_type": "markdown",
   "id": "8d967013",
   "metadata": {},
   "source": [
    "## Graficando con Matplotlib\n",
    "\n",
    "Bien, ya que los datos se encuentran cargados y listos, podemos explorarlos de forma visual a través de nuestras primeras visualizaciones, pero primero debemos hacer un pequeño ajuste sobre el `Dataframe`. De acuerdo con la BD, el dispositivo *EEG* es un dispositivo que mide la actividad eléctrica del cerebro<sup> **2** </sup>. A nosotros nos interesa representar los datos con gráficas que nos den información al respecto de los individuos.\n",
    "\n",
    "Los datos son obtenidos de colocar 64 sensores en la cabeza *(sobre el cuero cabelludo)* en posiciones específicas y recibir la actividad cerebral durante un segundo (la medida de la fluctuación eléctrica del cerebro en voltios). Ya que se reciben 256 impulsos en un segundo, podemos agregar una nueva columna: `time` que nos permita medir el instante respectivo en donde se recibió la señal."
   ]
  },
  {
   "cell_type": "code",
   "execution_count": null,
   "id": "4d612c26",
   "metadata": {
    "collapsed": false,
    "jupyter": {
     "outputs_hidden": false
    }
   },
   "outputs": [],
   "source": [
    "import numpy as  np\n",
    "\n",
    "# Se eliminan los valores del dataframe que no están asociados a ningún trial (Test).\n",
    "dfA = df364[df364['trial_number'] != '#'].copy()\n",
    "dfB = df365[df365['trial_number'] != '#'].copy()\n",
    "\n",
    "# los datos son de un segundo (256 datos en un segundo, por sensor), crear la variable de tiempo para cada sensor\n",
    "# ver https://kdd.ics.uci.edu/databases/eeg/eeg.data.html\n",
    "time = np.linspace(0,1,256)\n",
    "\n",
    "# colocar time en cada sensor (64 veces)\n",
    "all_time = np.array(list(time) * 64)\n",
    "#crear columna con el tiempo en milisegundos\n",
    "dfA['time'] = all_time\n",
    "dfB['time'] = all_time\n",
    "# Se eliminan las columnas 'trial_number' y 'sample_number'\n",
    "dfA.drop(['trial_number', 'sample_number'], axis=1, inplace=True)\n",
    "dfB.drop(['trial_number', 'sample_number'], axis=1, inplace=True)"
   ]
  },
  {
   "cell_type": "markdown",
   "id": "70032df2",
   "metadata": {},
   "source": [
    "Ahora si los datasets se encuentran listos! Una pequeña nota aclaratoria: desde este punto en adelante, haremos referencia a los dos individuos como individuos **A** y **B**.  Antes de continuar hagamos una revisión final del dataset del individuo **A**:"
   ]
  },
  {
   "cell_type": "code",
   "execution_count": null,
   "id": "56068f85",
   "metadata": {},
   "outputs": [],
   "source": [
    "print(len(dfA))\n",
    "dfA.head()"
   ]
  },
  {
   "cell_type": "markdown",
   "id": "dde5511a",
   "metadata": {},
   "source": [
    "> *Observación*: Los 16384 datos son 256 datos por sensor (Y el EEG cuenta con 64 sensores)"
   ]
  },
  {
   "cell_type": "markdown",
   "id": "36c38aed",
   "metadata": {},
   "source": [
    "### Nuestra Primera Gráfica: LinePlot\n",
    "\n",
    "Empezaremos con la creación de la primera gráfica y para ello, es necesario invocar el método `plot`, de la siguiente forma:\n",
    "```comand\n",
    "    plt.plot(x-axis, y-axis)\n",
    "```\n",
    "\n",
    "en donde `x-axis` y `y-axis` son los valores para los ejes respectivos del plano cartesiano, y notemos que aun a este punto no tenemos nuestra visualización, porque para ello es necesario invocar el método `show` como lo vemos a continuación:\n"
   ]
  },
  {
   "cell_type": "code",
   "execution_count": null,
   "id": "154a91c2",
   "metadata": {
    "collapsed": false,
    "jupyter": {
     "outputs_hidden": false
    }
   },
   "outputs": [],
   "source": [
    "# Se importa el módulo pyplot de matplotlib\n",
    "import matplotlib.pyplot as plt\n",
    "\n",
    "# Se filtra el Dataframe con solo las lecturas de un sensor: T8\n",
    "df_sample = dfA[dfA[\"sensor_position\"] == \"T8\"]\n",
    "\n",
    "# Se configura el tamaño del plot\n",
    "plt.subplots(figsize=(20, 10))\n",
    "\n",
    "# Se crea la gráfica por medio del método plot\n",
    "plt.plot(df_sample.time, df_sample.sensor_value)\n",
    "\n",
    "# Se visualiza la gráfica\n",
    "plt.show()"
   ]
  },
  {
   "cell_type": "markdown",
   "id": "d77c0606",
   "metadata": {},
   "source": [
    "Como resultado tenemos un gráfico de líneas o por su nombre en inglés un **Line Plot** *(A veces también se le dice Line Chart)*. En él se puede observar la lectura del sensor **T8** del EEG del individuo **A**, recuerden que este valor se encuentra en microvoltios.\n",
    "\n",
    "Recapitulando, para la realización de una gráfica con `Matplotlib`, se deben seguir los siguientes pasos:\n",
    "\n",
    "1. Se debe importar el módulo `pyplot` de la librería `Matplotlib`\n",
    "2. Se debe inicializar la gráfica por medio del método `plot`.\n",
    "3. Una vez terminada la inicialización y configuración del **plot** se debe invocar la visualización por medio del método `show`.\n"
   ]
  },
  {
   "cell_type": "markdown",
   "id": "03053617",
   "metadata": {},
   "source": [
    "Una de las utilidades más comunes de este tipo de visualizaciones es la de comparar dos variables. Por ejemplo, si quisiéramos ver la gráfica de la variación de los valores del sensor en la posición **P5** del individuo **A** y **B**, haríamos lo siguiente:"
   ]
  },
  {
   "cell_type": "code",
   "execution_count": null,
   "id": "2be87ce8",
   "metadata": {},
   "outputs": [],
   "source": [
    "# Se importa el módulo pyplot de matplotlib\n",
    "import matplotlib.pyplot as plt\n",
    "\n",
    "# Se hace un Dataframe a partir de las lecturas de los sensores en la posición P5 del individuo A y B\n",
    "dfA_sample = dfA[dfA[\"sensor_position\"] == \"P5\"]\n",
    "dfB_sample = dfB[dfB[\"sensor_position\"] == \"P5\"]\n",
    "\n",
    "# Se configura el tamaño  del plot\n",
    "plt.subplots(figsize=(20, 10))\n",
    "\n",
    "# Se crea la gráfica por medio del método plot\n",
    "plt.plot(dfA_sample.time, dfA_sample.sensor_value)\n",
    "plt.plot(dfB_sample.time, dfB_sample.sensor_value)\n",
    "\n",
    "\n",
    "# Se visualiza la gráfica\n",
    "plt.show()"
   ]
  },
  {
   "cell_type": "markdown",
   "id": "fe4fa6e4",
   "metadata": {},
   "source": [
    "Se pueden notar como los valores siguen una tendencia muy similar pero la gráfica a primera vista no nos dice de qué se trata. ¿Qué tal si le agregamos un poco de presentación?, además, ¿qué tal si guardamos la figura para utilizarla más adelante?\n",
    "\n",
    "Veamos cómo es de sencillo darle un título y un nombre a sus ejes *(Atención a las líneas 16-26)*,\n",
    "y el comando para guardar una imagen es: `plt.savefig(filepath, opciones)` *(línea 29)*.\n"
   ]
  },
  {
   "cell_type": "code",
   "execution_count": null,
   "id": "ec49d532",
   "metadata": {
    "tags": [
     "Inicia configuración de presentación"
    ]
   },
   "outputs": [],
   "source": [
    "# Se importa el módulo pyplot de matplotlib\n",
    "import matplotlib.pyplot as plt\n",
    "\n",
    "# Se hace un Dataframe a partir de las lecturas de los sensores en la posición P5 del individuo A y B\n",
    "dfA_sample = dfA[dfA[\"sensor_position\"] == \"P5\"]\n",
    "dfB_sample = dfB[dfB[\"sensor_position\"] == \"P5\"]\n",
    "\n",
    "# Se configura el tamaño  del plot\n",
    "plt.subplots(figsize=(20, 10))\n",
    "\n",
    "# Se crea la gráfica por medio del método plot\n",
    "plt.plot(dfA_sample.time, dfA_sample.sensor_value)\n",
    "plt.plot(dfB_sample.time, dfB_sample.sensor_value)\n",
    "\n",
    "# Se habilita la grilla\n",
    "plt.grid(True)\n",
    "\n",
    "# Se le dan nombre a los ejes\n",
    "plt.xlabel('Tiempo (seg)')\n",
    "plt.ylabel('Voltage (mV)')\n",
    "\n",
    "# Se le da un título a la gráfica\n",
    "plt.title('EEG - Sensor P5')\n",
    "\n",
    "# Se configura las leyendas de las líneas\n",
    "plt.legend(['INDIVIDUO A', 'INDIVIDUO B'])\n",
    "\n",
    "# Se guarda la imagen en la carpeta data, nombre: imagen1.png (.png es la extensión de la imagen)\n",
    "plt.savefig(f'./data/imagen1.png', bbox_inches='tight')\n",
    "# Se visualiza la gráfica\n",
    "plt.show()"
   ]
  },
  {
   "cell_type": "markdown",
   "id": "d2b7071e",
   "metadata": {},
   "source": [
    "A ojos de cualquier lector, nuestra gráfica ahora tiene un poco más de sentido. \n",
    "\n",
    "Hasta aquí hemos visto como crear un gráfico de una línea y de múltiples líneas y con ello hemos aprendido algunos de los métodos básicos de configuración de la librería `Matplotlib`, ahora es el turno para configurar `Colores`, `Estilos` y `Marcadores`.\n",
    "\n",
    "En especial hablaremos del tercer parámetro del método `plot`:\n",
    "\n",
    "```\n",
    "    plt.plot(x, y, '[color][marker][linestyle]')\n",
    "```\n",
    "\n",
    "En este caso y retomando la gráfica anterior cambiaremos el color de las líneas:\n",
    "\n"
   ]
  },
  {
   "cell_type": "code",
   "execution_count": null,
   "id": "6a1cc6a8",
   "metadata": {},
   "outputs": [],
   "source": [
    "# Se importa el módulo pyplot de matplotlib\n",
    "import matplotlib.pyplot as plt\n",
    "\n",
    "# Se hace un Dataframe a partir de las lecturas de los sensores en la posición TP7 del individuo A y B\n",
    "dfA_sample = dfA[dfA[\"sensor_position\"] == \"TP7\"]\n",
    "dfB_sample = dfB[dfB[\"sensor_position\"] == \"TP7\"]\n",
    "\n",
    "# Se configura el tamaño del plot\n",
    "plt.subplots(figsize=(20, 10))\n",
    "\n",
    "# Se crea la gráfica por medio del método plot\n",
    "plt.plot(dfA_sample.time, dfA_sample.sensor_value, 'ob-')\n",
    "plt.plot(dfB_sample.time, dfB_sample.sensor_value, 'og-')\n",
    "\n",
    "# Se habilita la grilla\n",
    "plt.grid(True)\n",
    "\n",
    "# Se le dan nombre a los ejes\n",
    "plt.xlabel('Tiempo (seg)')\n",
    "plt.ylabel('Voltage (mV)')\n",
    "\n",
    "# Se le da un título a la gráfica\n",
    "plt.title('EEG - Sensor TP7')\n",
    "\n",
    "# Se configura las leyendas de las líneas graficadas\n",
    "plt.legend(['INDIVIDUO A', 'INDIVIDUO B'])\n",
    "\n",
    "# Se visualiza la gráfica\n",
    "plt.show()"
   ]
  },
  {
   "cell_type": "markdown",
   "id": "6a333b3a",
   "metadata": {},
   "source": [
    "A pesar de que nuestra salida es la misma, las líneas tienen ahora un estilo diferente. Aquí el único cambio fue el tercer argumento del método `plot` *(Líneas 12 y 13)* , en donde se pueden configurar las opciones de visualizaciones y estilos del gráfico. \n",
    "\n",
    "*Para saber cómo darle colores, estilos y marcadores a tus gráficas lo mejores es que des [click aquí](https://matplotlib.org/api/_as_gen/matplotlib.pyplot.plot.html).*\n"
   ]
  },
  {
   "cell_type": "markdown",
   "id": "81bd9b83",
   "metadata": {},
   "source": [
    "## Matplotlib directamente desde un Dataset\n",
    "\n",
    "Como hemos visto hasta ahora, hay que hacer mucho trabajo para construir una gráfica de visualización directamente con la libreria `Matplotlib`, pero ¿qué tal si hay una manera más sencilla de lograrlo? Bueno seria por intermedio de librería de `DataFrames`, tan solo se necesitan una o un par de líneas de código para configurar una gráfica. \n",
    "\n",
    "Miremos el ejemplo a continuación:\n"
   ]
  },
  {
   "cell_type": "code",
   "execution_count": null,
   "id": "b6c9fc0c",
   "metadata": {},
   "outputs": [],
   "source": [
    "dfA[dfA[\"sensor_position\"] == \"FP2\"].plot(x=\"time\", y=\"sensor_value\", figsize=(20,10))"
   ]
  },
  {
   "cell_type": "markdown",
   "id": "8472c750",
   "metadata": {},
   "source": [
    "## Gráficos 3D\n",
    "Los datos que estamos estudiando se pueden presentar en una sola gráfica de tal forma que se pueden visualizar todos los sensores *(canales)* de un individuo en particular. Veamos cómo lograrlo por medio de una gráfica en tres dimensiones donde el $eje-x$ representa el tiempo (1 segundo), el $eje-y$ los canales (64) y el $eje-z$ el voltaje medido de cada canal durante el tiempo. \n",
    "\n",
    "Para este proposito usaremos `El mplot3d Toolkit`, en [este enlace](https://matplotlib.org/stable/tutorials/toolkits/mplot3d.html) se puede ver algunos ejemplos de cómo usarla.\n"
   ]
  },
  {
   "cell_type": "markdown",
   "id": "4f8a3854",
   "metadata": {},
   "source": [
    "Como los sensores tienen nombres categóricos, debemos cambiarlos a ordinales, para eso creamos un diccionario que asigne a cada sensor un número entre 0 y 63 (canales)."
   ]
  },
  {
   "cell_type": "code",
   "execution_count": null,
   "id": "1219208c",
   "metadata": {
    "collapsed": false,
    "jupyter": {
     "outputs_hidden": false
    }
   },
   "outputs": [],
   "source": [
    "sensor_list = dict()\n",
    "for ind, sensor in enumerate(dfA.sensor_position.unique()):\n",
    "    sensor_list[sensor] =  ind\n",
    "sensor_list"
   ]
  },
  {
   "cell_type": "markdown",
   "id": "c22efbd8",
   "metadata": {},
   "source": [
    "Ahora creamos la columna `canal` para asignar el número a cada sensor utilizando el diccionario.\n",
    "Finalmente organizamos las columnas para representar los datos de cada eje (`time`: $eje-x$, `canal`: $eje-y$, `sensor_value`: $eje-z$)"
   ]
  },
  {
   "cell_type": "code",
   "execution_count": null,
   "id": "d80d36ff",
   "metadata": {
    "collapsed": false,
    "jupyter": {
     "outputs_hidden": false
    }
   },
   "outputs": [],
   "source": [
    "dfA['canal'] = dfA.sensor_position.apply(lambda x: sensor_list[x])\n",
    "dfA = dfA[['time', 'sensor_position', 'canal', 'sensor_value']]\n",
    "dfA.head()"
   ]
  },
  {
   "cell_type": "code",
   "execution_count": null,
   "id": "34b7098c",
   "metadata": {},
   "outputs": [],
   "source": [
    "from mpl_toolkits import mplot3d\n",
    "import numpy as np\n",
    "import matplotlib.pyplot as plt\n",
    "from mpl_toolkits.mplot3d import Axes3D\n",
    "\n",
    "# Se generan los valores para los diferentes ejes de la gráfica\n",
    "x = dfA.time\n",
    "y = dfA.canal\n",
    "z = dfA.sensor_value\n",
    "\n",
    "# Se crea el mapa de color\n",
    "my_cmap = plt.get_cmap('hot')\n",
    "\n",
    "# Se genera la gráfica\n",
    "fig = plt.figure(figsize=(15, 15))\n",
    "ax = plt.axes(projection ='3d')\n",
    "ax.plot_trisurf(x, y, z,\n",
    "                edgecolor = 'black', alpha=0.5, cmap=plt.get_cmap('autumn'), shade=False,\n",
    "                linewidth = 0.3, antialiased = True)\n",
    "\n",
    "# Se configuran los estilos de la gráfica\n",
    "ax.set_xlabel('Tiempo (seg)')\n",
    "ax.set_ylabel('Canales')\n",
    "ax.set_zlabel('Voltage (mV)')\n",
    "ax.set_title('3D EEG Individuo A')\n",
    "\n",
    "# Se visualiza la gráfica\n",
    "plt.show()"
   ]
  },
  {
   "cell_type": "markdown",
   "id": "a55d7887",
   "metadata": {},
   "source": [
    "Otra manera de representar las señales, es por medio de visualizaciones en tres dimensiones, de tal forma que formen una superficie, se les conoce como *surface plot* o grafico de superficies y pueden ser en 2 y 3 dimensiones. \n",
    "\n",
    "> Una gráfica de una Superficie 3D permite la representación visual de un dataset en 3 dimensiones, y describe la relación funcional entre dos variables independientes, en nuestro caso `tiempo` y `sensor` y una variable dependiente que seria en nuestro caso `el valor del sensor`.\n",
    "\n",
    "Iniciamos separando los valores y creando un Dataframe para cada canal:\n"
   ]
  },
  {
   "cell_type": "code",
   "execution_count": null,
   "id": "e1441eed",
   "metadata": {
    "collapsed": false,
    "jupyter": {
     "outputs_hidden": false
    }
   },
   "outputs": [],
   "source": [
    "# Separación de los dataframes, se crea un dataframe por cada canal\n",
    "df_canal = list()\n",
    "for canal in dfA.canal.unique():\n",
    "    df_canal.append(dfA[dfA['canal'] == canal])\n",
    "df_canal[0].head() # Dataframe del primer sensor"
   ]
  },
  {
   "cell_type": "markdown",
   "id": "6c28c06e",
   "metadata": {},
   "source": [
    "Ahora creamos una **superficie**, pero la modificamos un poco para que solamente muestre las curvas de las señales."
   ]
  },
  {
   "cell_type": "code",
   "execution_count": null,
   "id": "a17aaa74",
   "metadata": {
    "collapsed": false,
    "jupyter": {
     "outputs_hidden": false
    }
   },
   "outputs": [],
   "source": [
    "from mpl_toolkits import mplot3d\n",
    "import numpy as np\n",
    "import matplotlib.pyplot as plt\n",
    "from mpl_toolkits.mplot3d import Axes3D\n",
    "\n",
    "# Se generan los valores para los diferentes ejes de la gráfica\n",
    "x = dfA.time.unique()\n",
    "y = dfA.canal.unique()\n",
    "X,Y = np.meshgrid(x,y)\n",
    "Z = np.zeros((len(y),len(x)))\n",
    "for i in dfA.canal.unique():\n",
    "    Z[i] = df_canal[i].sensor_value\n",
    "\n",
    "# Se crea el mapa de colores\n",
    "my_cmap = plt.get_cmap('hot')\n",
    "\n",
    "# Se genera la gráfica\n",
    "fig = plt.figure(figsize=(15, 15))\n",
    "ax = plt.axes(projection ='3d')\n",
    "ax.plot_surface(X, Y, Z, edgecolor = 'black', rstride=1, cstride=256, color='w', shade=False, lw=.4)\n",
    "\n",
    "# Se configura los detalles de la gráfica\n",
    "ax.set_xlabel('Tiempo (seg)')\n",
    "ax.set_ylabel('Canales')\n",
    "ax.set_zlabel('Voltage (mV)')\n",
    "ax.set_title('3D EEG Individuo A')\n",
    "\n",
    "# Se visualiza la gráfica\n",
    "plt.show()"
   ]
  },
  {
   "cell_type": "markdown",
   "id": "551832a4",
   "metadata": {},
   "source": [
    "# Gráficando con Pandas\n",
    "\n",
    "Desde la librería de `Pandas` podemos invocar directamente la creación de una gráfica, como lo vimos en el anterior ejemplo. Lo interesante es que, los métodos más usuales de la librería, como lo son `Series` y `DataFrame` tienen su propia función `plot`, que no es más que una envoltura del método `plot` de `Matplotlib`.\n",
    "\n",
    "## Gráfico de Barras\n",
    "\n",
    "Otra de las visualizaciones más conocidas es el gráfico de Barras o en inglés el **Bar Chart**. Por lo general estos son los tipos de visualizaciones con los que quizás más interactuamos y nos encontramos familiarizados, aunque no seamos tan letrados en el universo de las estadísticas, este es un gráfico que se entiende a primera vista.\n",
    "\n",
    "Tratemos ahora de visualizar y resumir la información de nuestro dataset [adult](./data/adult.data):\n",
    "\n",
    "\n"
   ]
  },
  {
   "cell_type": "code",
   "execution_count": null,
   "id": "e3676489",
   "metadata": {
    "scrolled": true
   },
   "outputs": [],
   "source": [
    "import pandas as pd\n",
    "import numpy as np\n",
    "\n",
    "df_adults = pd.read_csv(\"https://archive.ics.uci.edu/ml/machine-learning-databases/adult/adult.data\",\n",
    "    names=['age', 'workclass', 'fnlwgt', 'education', 'educationnum', 'maritalstatus', 'occupation', 'relationship', 'race', 'sex', 'capitalgain', 'capitalloss', 'hoursperweek', 'nativecountry', 'income'],\n",
    "    header=None,\n",
    "    skipinitialspace=True\n",
    ")\n",
    "\n",
    "df_adults.head()"
   ]
  },
  {
   "cell_type": "markdown",
   "id": "fe42fd9f",
   "metadata": {},
   "source": [
    "Empecemos visualizando el estado marital de los adultos presentes en el dataset:"
   ]
  },
  {
   "cell_type": "code",
   "execution_count": null,
   "id": "11928263",
   "metadata": {},
   "outputs": [],
   "source": [
    "df_adults.groupby([\"maritalstatus\"]).agg(\"size\").plot.bar(legend=False, figsize=(10, 5))"
   ]
  },
  {
   "cell_type": "markdown",
   "id": "6a291851",
   "metadata": {},
   "source": [
    "Ahora agreguemos dos `plots`, para saber quiénes bajo la categoría del estado marital ganan entre **>= 50** y **<= 50**, es decir cómo se distribuyen los ingresos por categoría:"
   ]
  },
  {
   "cell_type": "code",
   "execution_count": null,
   "id": "bb55bdd3",
   "metadata": {},
   "outputs": [],
   "source": [
    "df_adults.groupby(['maritalstatus', 'income']).agg('size').unstack().plot.bar(figsize=(10, 5))"
   ]
  },
  {
   "cell_type": "markdown",
   "id": "2e58719d",
   "metadata": {},
   "source": [
    "Ahora se puede apreciar que algunos tienen ingresos mejores que otros. Otra de sus aplicaciones más comunes es el llamado **histograma**, veamos un ejemplo retomando el `Dataframe del EEG del individuo A`:"
   ]
  },
  {
   "cell_type": "code",
   "execution_count": null,
   "id": "503d3beb",
   "metadata": {},
   "outputs": [],
   "source": [
    "dfA[dfA[\"sensor_position\"] == \"FP1\"][\"sensor_value\"].plot.hist(bins=12)"
   ]
  },
  {
   "cell_type": "markdown",
   "id": "aaca8e2e",
   "metadata": {},
   "source": [
    "¿Y qué distribución siguen los datos? ¿Una distribución normal o binomial? Por lo general un **histograma** nos pueden dar una pista sobre la distribución de probabilidad que sigue un conjunto de datos.\n"
   ]
  },
  {
   "cell_type": "markdown",
   "id": "2adfd14b",
   "metadata": {},
   "source": [
    "## Gráfico de Torta\n",
    "\n",
    "Retomemos el dataset de `Adultos` y vamos a ver cuáles son las ocupaciones que tienen los adultos y  aquí es ideal el uso del famosísimo grafico de torta o por su nombre en inglés **Pie Chart**:\n",
    "\n"
   ]
  },
  {
   "cell_type": "code",
   "execution_count": null,
   "id": "9f6f9f2e",
   "metadata": {},
   "outputs": [],
   "source": [
    "df_adults.groupby([\"workclass\", \"income\"]).agg(\"size\").unstack().plot.pie(subplots=True, figsize=(14, 14), legend=True)"
   ]
  },
  {
   "cell_type": "markdown",
   "id": "00b628fb",
   "metadata": {},
   "source": [
    "Parece que las personas que trabajan en el sector privado son las de mayores ingresos."
   ]
  },
  {
   "cell_type": "markdown",
   "id": "ecf23120",
   "metadata": {},
   "source": [
    "# Gráficando con Seaborn\n",
    "\n",
    "Bien ingresemos al mundo de `Seaborn`. Por lo general y para graficar la relación de dos variables se hace uso del aclamado y venerado `Scatter Plot`, para ello vamos a trabajar ahora con el dataset de [iris](./data/iris.data), empecemos por importar sus datos:"
   ]
  },
  {
   "cell_type": "code",
   "execution_count": null,
   "id": "5cd4034d",
   "metadata": {
    "collapsed": false,
    "jupyter": {
     "outputs_hidden": false
    }
   },
   "outputs": [],
   "source": [
    "import numpy as np\n",
    "import pandas as pd\n",
    "import matplotlib.pyplot as plt\n",
    "import seaborn as sns\n",
    "\n",
    "sns.set_theme(style=\"darkgrid\")\n",
    "\n",
    "# Se importa los datos del dataset y se convierten en un DataFrame.\n",
    "df_iris = pd.read_csv(\"https://archive.ics.uci.edu/ml/machine-learning-databases/iris/iris.data\", names=[\"largo_sepalo\", \"ancho_sepalo\", \"largo_petalo\", \"ancho_petalo\", \"clase\"])\n",
    "df_iris.head()"
   ]
  },
  {
   "cell_type": "markdown",
   "id": "dc184295",
   "metadata": {},
   "source": [
    "`Seaborn` es una de las librerías más usadas en la actualidad, debido a que con poco se logra mucho. Por lo general abstrae en buena medida la complejidad de la libreria `MatPlotLib` y con ello logra que graficar sea una experiencia placentera.\n",
    "\n",
    "Empecemos realizando una visualización donde podamos ver la relación que existe entre el `largo_sepalo` y `ancho_sepalo`, para ello haremos del método `replot`:\n",
    "\n"
   ]
  },
  {
   "cell_type": "code",
   "execution_count": null,
   "id": "c93e2689",
   "metadata": {},
   "outputs": [],
   "source": [
    "sns.relplot(data=df_iris.query('clase == \"Iris-setosa\"'), x=\"largo_sepalo\", y=\"ancho_sepalo\")"
   ]
  },
  {
   "cell_type": "markdown",
   "id": "ef0fb4bc",
   "metadata": {},
   "source": [
    "Esto en cierta medida, muestra la relación que existe entre el largo del pétalo y el ancho, y es que claramente se sigue qué *a mayor largo del sépalo es mayor el ancho de este*. Y nos tocaría hacer lo mismo por cada clase de iris.\n",
    "\n",
    "¿Sera que es posible visualizar todo el dataset de una vez en una misma gráfica? Dado que tenemos 3 clases de iris y seria bastante trabajo tener que crear una a una estas visualizaciones. \n",
    "\n",
    "Para ello haremos uso del parámetro **hue** y **style**:\n",
    "\n"
   ]
  },
  {
   "cell_type": "code",
   "execution_count": null,
   "id": "372545f5",
   "metadata": {},
   "outputs": [],
   "source": [
    "sns.relplot(data=df_iris, x=\"largo_sepalo\", y=\"ancho_sepalo\", hue=\"clase\", style=\"clase\")"
   ]
  },
  {
   "cell_type": "markdown",
   "id": "952646b1",
   "metadata": {},
   "source": [
    "Quizás un solo gráfico sea complejo de leer. ¿Es posible separarlos por clase? Claro que sí, hagamos uso del parámetro **col**:"
   ]
  },
  {
   "cell_type": "code",
   "execution_count": null,
   "id": "cf56bc4c",
   "metadata": {},
   "outputs": [],
   "source": [
    "sns.relplot(data=df_iris, x=\"largo_sepalo\", y=\"ancho_sepalo\",  hue=\"clase\", col=\"clase\")"
   ]
  },
  {
   "cell_type": "markdown",
   "id": "35d6e5a5",
   "metadata": {},
   "source": [
    "¿Mejora su visualización? Por supuesto que sí, y es ahí donde `Seaborn` nos demuestra que es una gran herramienta en el mundo de las visualizaciones.\n"
   ]
  },
  {
   "cell_type": "markdown",
   "id": "f083eef7",
   "metadata": {
    "tags": []
   },
   "source": [
    "# Gráficas de Radar (Radar Plot)\n",
    "\n",
    "Para finalizar, tratemos de comparar las clases de iris en sus cuatro variables por medio de un gráfico comúnmente conocido como **Radar Plot**. \n",
    "\n",
    "> Este tipo de visualizaciones es de gran ayuda para disponer datos de múltiples variables en 2D, las variables se encuentran en los ejes (que por su nombre siguen la forma de un radar). Los ejes se encuentran en positiva relativa al centro y siguen una disposición uniforme.\n",
    "\n",
    "Cuando las características se miden en diferente orden de magnitud, en este tipo de gráficos se suelen *modificar* los datos (por ejemplo, escalar, normalizar, etc.), de tal manera que todos los datos se puedan visualizar en la misma \"escala\". Una transformación frecuentemente utilizada es la *normalización mínimo-máximo*, donde todos los datos se transforman proporcionalmente en una escala de 0 a 1, para saber un poco más al respecto [click aquí](https://ml-concepts.com/2021/10/08/min-max-normalization/).\n",
    "\n"
   ]
  },
  {
   "cell_type": "code",
   "execution_count": null,
   "id": "0e87332a",
   "metadata": {},
   "outputs": [],
   "source": [
    "# Se crea una copia del dataset por cada clase de iris (sin la columna clase)\n",
    "df_setosa = df_iris[df_iris['clase'] == 'Iris-setosa'].drop(\"clase\", axis=1)\n",
    "df_versicolor = df_iris[df_iris['clase'] == 'Iris-versicolor'].drop(\"clase\", axis=1)\n",
    "df_virginica = df_iris[df_iris['clase'] == 'Iris-virginica'].drop(\"clase\", axis=1)\n",
    "\n",
    "# Se escala por MinMax.\n",
    "df_setosa = (df_setosa - df_setosa.min()) / (df_setosa.max() - df_setosa.min())\n",
    "df_versicolor = (df_versicolor - df_versicolor.min()) / (df_versicolor.max() - df_versicolor.min())\n",
    "df_virginica = (df_virginica - df_virginica.min()) / (df_virginica.max() - df_virginica.min())"
   ]
  },
  {
   "cell_type": "markdown",
   "id": "8ede3217",
   "metadata": {},
   "source": [
    "Con los datos normalizados podemos encontrar el promedio de cada variable *(ancho_sepalo, largo_sepalo, ...)* de cada tipo de iris (Para ello hacemos uso del método  `mean`):"
   ]
  },
  {
   "cell_type": "code",
   "execution_count": null,
   "id": "f5cbd887",
   "metadata": {
    "collapsed": false,
    "jupyter": {
     "outputs_hidden": false
    }
   },
   "outputs": [],
   "source": [
    "# Se crea el DataFrame con los datos normalizados\n",
    "df_iris_normalized = pd.DataFrame([\n",
    "    df_setosa.mean(),\n",
    "    df_versicolor.mean(),\n",
    "    df_virginica.mean()\n",
    "], index=[\"Iris-setosa\", \"Iris-versicolor\", \"Iris-virginica\"])\n",
    "\n",
    "df_iris_normalized"
   ]
  },
  {
   "cell_type": "markdown",
   "id": "d617b1dd",
   "metadata": {},
   "source": [
    "Y con estos valores promediados podemos crear nuestro `Radar Plot`:"
   ]
  },
  {
   "cell_type": "code",
   "execution_count": null,
   "id": "07fd72e6",
   "metadata": {
    "collapsed": false,
    "jupyter": {
     "outputs_hidden": false
    }
   },
   "outputs": [],
   "source": [
    "# Se crea una copia del DataFrame\n",
    "df_radar = df_iris_normalized.copy()\n",
    "\n",
    "# Se configuran las etiquetas\n",
    "label_loc = np.linspace(start=0, stop=2 * np.pi, num=len([*df_radar.iloc[[0]].values.tolist()[0], df_radar.iloc[[0]].values.tolist()[0][0]]))\n",
    "plt.figure(figsize=(8, 8))\n",
    "\n",
    "# Se crear el subplot\n",
    "plt.subplot(polar=True)\n",
    "\n",
    "# Por cada clase de iris se crea el plot\n",
    "plt.plot(label_loc, [*df_radar.iloc[[0]].values.tolist()[0], df_radar.iloc[[0]].values.tolist()[0][0]], label=\"Iris-setosa\")\n",
    "plt.plot(label_loc, [*df_radar.iloc[[1]].values.tolist()[0], df_radar.iloc[[1]].values.tolist()[0][0]], label=\"Iris-versicolor\")\n",
    "plt.plot(label_loc, [*df_radar.iloc[[2]].values.tolist()[0], df_radar.iloc[[2]].values.tolist()[0][0]], label=\"Iris-virginica\")\n",
    "\n",
    "# Se organizan las etiquetas alrededor del gráfico\n",
    "plt.thetagrids(np.degrees(label_loc), labels=['Largo Sepalo', 'Ancho Sepalo', 'Largo Pétalo', 'Ancho Pétalo', ''])\n",
    "\n",
    "# Se configura la presentación y se visualiza el gráfico\n",
    "plt.title('Comparación de Iris')\n",
    "plt.legend()\n",
    "plt.show()"
   ]
  },
  {
   "cell_type": "markdown",
   "id": "acc63626-592a-4244-97a1-4ddbf9871d7a",
   "metadata": {},
   "source": [
    "# Conclusión\n",
    "\n",
    "En este notebook, abordamos ejemplos básicos par entender como se realizan distintos tipos de gráficas con `MatPlotLib`, `Pandas` y `Seaborn`, con la finalidad de que el usuario se familiazará con distintas formas de visualizar datos. Es importante tener en cuenta que todavía hay muchos aspectos por abordar y otros que no serán tratados en profundidad. Continue con la sección práctica, en donde aplicaremos a la quimioinformática algunas de las gráficas vistas aquí."
   ]
  },
  {
   "cell_type": "markdown",
   "id": "374c2f7d-be0c-4e11-8655-624fa75bf636",
   "metadata": {},
   "source": [
    "# Referencias\n",
    "1.\tUCI Machine Learning Repository. (s. f.). EEG Database. Recuperado de https://archive.ics.uci.edu/ml/datasets/eeg+database\n",
    "2. Waskom, M. (n.d.). Seaborn: Statistical data visualization. Recuperado de https://seaborn.pydata.org/\n",
    "3. Hunter, J. D. (n.d.). Matplotlib: A 2D graphics environment. Recuperado de https://matplotlib.org/"
   ]
  }
 ],
 "metadata": {
  "kernelspec": {
   "display_name": "Python 3 (ipykernel)",
   "language": "python",
   "name": "python3"
  },
  "language_info": {
   "codemirror_mode": {
    "name": "ipython",
    "version": 3
   },
   "file_extension": ".py",
   "mimetype": "text/x-python",
   "name": "python",
   "nbconvert_exporter": "python",
   "pygments_lexer": "ipython3",
   "version": "3.8.17"
  },
  "vscode": {
   "interpreter": {
    "hash": "fee31c63b4acacf7632ca8e3d61ceb5fcbb4c0c0b5cdfa424159c0350f34c501"
   }
  }
 },
 "nbformat": 4,
 "nbformat_minor": 5
}
