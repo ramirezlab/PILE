{
 "cells": [
  {
   "cell_type": "markdown",
   "id": "18cf1170",
   "metadata": {},
   "source": [
    "# Practice 1: Molecular filtering: ADME and lead-likeness criteria\n",
    "\n",
    "> **Note:** This book is available in two ways:\n",
    "> 1. Downloading the repository and following the instructions in the file [README.md](https://github.com/ramirezlab/PILE/blob/main/README.md)\n",
    "> 2. Clicking here on [![Open In Colab](https://colab.research.google.com/assets/colab-badge.svg)](https://colab.research.google.com/github/ramirezlab/PILE/blob/main/2.%20De%20datos%20a%20gráficas%3A%20Propiedades%20drug-likeness%20y%20similitud%20química%20con%20python/2.3_Practice-1.en.ipynb?hl=es)\n",
    "\n",
    "## Concepts to work\n",
    "\n",
    "### **Pharmacokinetics**\n",
    "\n",
    "Pharmacokinetics are the study of what happens to a compound in an organism over a period of time<sup> **1** </sup>. It is divide into four steps: **A**bsorption, **D**istribution, **M**etabolism and **E**xcretion (ADME)<sup> **1, 2** </sup> . Some times also is includes **T**oxicology (ADMET) and **L**iberation (LADME).\n",
    "\n",
    " \n",
    "<img src=\"img/ADME-en.jpg\" alt=\"ADME\" width=\"800\"/>\n",
    "\n",
    "*Figure 1*. Steps that make up the pharmacokinetics. From: [Somvanshi, Kharat, Jadhav, Thorat & Townley, 2021](https://doi.org/10.1016/B978-0-323-85050-6.00007-4)\n",
    "\n",
    "   * **Absorption:** It refers to the amount and time it takes for a compound or substance to enter to the systemic circulation from the site of administration. It depends on multiple factors such as the ability of the compound to penetrate the intestinal wall, the solubility of the compound, the gastric emptying time, the chemical stability of the compound in the stomach, among others<sup> **1, 2** </sup>.\n",
    "   * **Distribution:** It refers to how a substance is spread throughout the body. It depends on the diffusion and convection which may be influenced by the polarity, size, or binding abilities of the drug, the fluid status of the patient, or the body habitus of the individual. It is very important to achieve the effective drug concentration in the receptor site because to be effective a medication must reach its designated compartmental destination<sup> **1, 2** </sup>.\n",
    "   * **Metabolism:** It refers to the processing of the drug by the body into subsequent compounds. It can be also to convert a drug  into more water-soluble substances in order to be more easily to excreted or in the case of prodrugs the metabolism is required to convert the drug into active metabolites<sup> **1, 2** </sup>.\n",
    "   * **Excretion:** It refers to the process by which the drug is eliminated from the body. Generally the kidneys are the conduct of excretion by a passive filtration in the glomerulus or secretion in the tubules<sup> **1, 2** </sup>.\n",
    "\n",
    "### **Lipinski's rule of five:**\n",
    "\n",
    "The Lipinski's rule of five is one way to screen out compounds with probable absorption problems. This rule states that poor absorption or permeation of a drug is more probable when the chemical structure fulfils two or more of the following criteria<sup> **3** </sup>:\n",
    "1. Molecular weight (MW) is greater than 500.\n",
    "2. The calculated log P value is above 5.\n",
    "3. There are more than 5 hydrogen bond donors (–NH–, –OH).\n",
    "4. The number of hydrogen bond acceptors (–N ¼ , –O–) is greater than 10.\n",
    "\n",
    "It is important to know that the rule of five does not definitively categorize all well and poorly absorbed compounds, although it is simple, fast, and provides a reasonable degree of classification."
   ]
  },
  {
   "cell_type": "markdown",
   "id": "2181ed10",
   "metadata": {},
   "source": [
    "## Problem Statement\n",
    "\n",
    "For an investigation of a new drug we want to know if it is really absorbed by the body, if it is able to cross certain barriers to reach his target, how is it metabolized and how is excreted from the body. In this way doctors will have greater flexibility in prescribing and administering medications thus providing greater benefit with less risk and making adjustments as necessary, given the varied physiology and lifestyles of patients.\n",
    "\n",
    "In order to know the absorption of the compounds we will use bioinformatic tools to be able to calculate Lipinski's rule of five and then we will calculate some statistics to plot them and analyze."
   ]
  },
  {
   "cell_type": "markdown",
   "id": "3e856bbb",
   "metadata": {},
   "source": [
    "## Import the necessary libraries"
   ]
  },
  {
   "cell_type": "code",
   "execution_count": null,
   "id": "e8ec9453",
   "metadata": {
    "ExecuteTime": {
     "end_time": "2023-04-11T16:59:31.761212Z",
     "start_time": "2023-04-11T16:59:31.663391Z"
    }
   },
   "outputs": [],
   "source": [
    "!pip install rdkit\n",
    "from rdkit import Chem\n",
    "from rdkit.Chem import Descriptors\n",
    "import pandas as pd\n",
    "from rdkit.Chem import Draw\n",
    "import numpy as np\n",
    "from rdkit.Chem import QED\n",
    "\n",
    "import seaborn as sns\n",
    "import matplotlib.pyplot as plt\n",
    "import matplotlib.patches as mpatches\n",
    "from matplotlib.lines import Line2D\n",
    "from math import pi\n",
    "import os\n",
    "from pathlib import Path\n",
    "import requests\n",
    "from io import StringIO"
   ]
  },
  {
   "cell_type": "markdown",
   "id": "5d062265",
   "metadata": {},
   "source": [
    "## Load dataset of P49841\n",
    "The dataset contain the bioactive compounds against Glycogen synthase kinase-3 beta that we built in the tutorial 2.1_Dataframes.\n",
    "The first thing we are going to do is import the database, we have to create a `root directory` (`ROOT_DIR`) to be able to navigate to the file.\n"
   ]
  },
  {
   "cell_type": "code",
   "execution_count": null,
   "id": "7696a495",
   "metadata": {
    "ExecuteTime": {
     "end_time": "2023-04-11T17:01:34.197042Z",
     "start_time": "2023-04-11T17:01:34.138887Z"
    },
    "scrolled": true
   },
   "outputs": [],
   "source": [
    "# URL of the CSV file\n",
    "csv_url = 'https://raw.githubusercontent.com/ramirezlab/PILE/main/2.%20De%20datos%20a%20gráficas%3A%20Propiedades%20drug-likeness%20y%20similitud%20química%20con%20python/data/compounds_P49841_full.csv'\n",
    "\n",
    "# Download the file\n",
    "response = requests.get(csv_url)\n",
    "response.encoding = 'utf-8'  # Ensure the correct encoding\n",
    "\n",
    "# Read the downloaded file as a pandas DataFrame\n",
    "df_output = pd.read_csv(StringIO(response.text), encoding='utf-8')\n",
    "\n",
    "# Display the first 5 rows\n",
    "df_output.head()"
   ]
  },
  {
   "cell_type": "markdown",
   "id": "c80dc13d",
   "metadata": {},
   "source": [
    "## Lipinski's rule of five\n",
    "\n",
    "The function below will allow us to calculate the chemical properties of Lipinski's rule of five having as input the `SMILES`. Then the conditions of the rule of five will be defined and finally we will have information whetherrule of five is violated."
   ]
  },
  {
   "cell_type": "code",
   "execution_count": null,
   "id": "d4b6a515",
   "metadata": {
    "ExecuteTime": {
     "end_time": "2023-04-11T16:59:31.893901Z",
     "start_time": "2023-04-11T16:59:31.789608Z"
    }
   },
   "outputs": [],
   "source": [
    "def Ro5(df):\n",
    "    \n",
    "    smi = df['smiles']\n",
    "    m = Chem.MolFromSmiles(smi)\n",
    "    \n",
    "    # Calculate rule of five chemical properties\n",
    "    MW = Descriptors.ExactMolWt(m)\n",
    "    HBA = Descriptors.NumHAcceptors(m)\n",
    "    HBD = Descriptors.NumHDonors(m)\n",
    "    LogP = Descriptors.MolLogP(m)\n",
    "    \n",
    "    # Rule of five conditions\n",
    "    conditions = [MW <= 500, HBA <= 10, HBD <= 5, LogP <= 5]\n",
    "    \n",
    "    # Create pandas row for conditions results with values and information whether rule of five is violated \n",
    "    return pd.Series([MW, HBA, HBD, LogP, 'yes']) if conditions.count(True) >= 3 else pd.Series([MW, HBA, HBD, LogP, 'no'])"
   ]
  },
  {
   "cell_type": "markdown",
   "id": "61e0d4df",
   "metadata": {},
   "source": [
    "Now we are going to apply Lipinski's rule of 5 to our data set"
   ]
  },
  {
   "cell_type": "code",
   "execution_count": null,
   "id": "e5765ce4",
   "metadata": {
    "ExecuteTime": {
     "end_time": "2023-04-11T16:59:34.456722Z",
     "start_time": "2023-04-11T16:59:31.804094Z"
    }
   },
   "outputs": [],
   "source": [
    "# Apply the Ro5 function to each row of the DataFrame df_output and store the result in df_rule5\n",
    "df_rule5 = df_output.apply(Ro5, axis=1)\n",
    "\n",
    "# Assign column names to the DataFrame df_rule5\n",
    "df_rule5.columns = ['MW', 'HBA', 'HBD', 'LogP', 'rule_of_five_conform']\n",
    "\n",
    "# Display the first 5 rows of the updated DataFrame\n",
    "df_rule5.head()"
   ]
  },
  {
   "cell_type": "code",
   "execution_count": null,
   "id": "8a7f6589",
   "metadata": {
    "ExecuteTime": {
     "end_time": "2023-04-11T16:59:34.483637Z",
     "start_time": "2023-04-11T16:59:34.463700Z"
    }
   },
   "outputs": [],
   "source": [
    "# Merge the DataFrame df_output with df_rule5, adding the columns generated by the rule of five (Ro5)\n",
    "df_molecule = df_output.join(df_rule5)\n",
    "\n",
    "# Display the first 5 rows of the updated DataFrame\n",
    "df_molecule.head()"
   ]
  },
  {
   "cell_type": "code",
   "execution_count": null,
   "id": "6b87b68b",
   "metadata": {
    "ExecuteTime": {
     "end_time": "2023-04-11T16:59:34.676212Z",
     "start_time": "2023-04-11T16:59:34.474659Z"
    }
   },
   "outputs": [],
   "source": [
    "# Filter the DataFrame to keep only compounds that comply with the rule of five (Ro5)\n",
    "fil_df = df_molecule[df_molecule['rule_of_five_conform'] == 'yes']\n",
    "\n",
    "# Print the total number of compounds in the original DataFrame\n",
    "print('# of compounds:', len(df_molecule))\n",
    "\n",
    "# Print the number of compounds that comply with the rule of five\n",
    "print('# of compounds in the filtered dataset:', len(fil_df))\n",
    "\n",
    "# Print the number of compounds that do NOT comply with Lipinski's rule of five\n",
    "print(\"# of compounds that do not comply with Lipinski's rule of five:\", (len(df_molecule) - len(fil_df)))\n",
    "\n",
    "# Count and display how many compounds comply and how many do not comply with the rule of five\n",
    "print(df_molecule.rule_of_five_conform.value_counts())\n",
    "\n",
    "# Generate a bar chart showing the distribution of compounds that comply and do not comply with the rule of five\n",
    "df_molecule.rule_of_five_conform.value_counts().plot.bar()"
   ]
  },
  {
   "cell_type": "markdown",
   "id": "b3c15b44",
   "metadata": {},
   "source": [
    "Now we will save the dataset that has not been filtered"
   ]
  },
  {
   "cell_type": "code",
   "execution_count": null,
   "id": "be1dbc5a",
   "metadata": {
    "ExecuteTime": {
     "end_time": "2023-04-11T16:59:34.677213Z",
     "start_time": "2023-04-11T16:59:34.628868Z"
    }
   },
   "outputs": [],
   "source": [
    "# Create a directory named 'data/' if it does not exist\n",
    "!mkdir -p data/\n",
    "\n",
    "# Save the DataFrame df_molecule as a CSV file inside the 'data/' directory\n",
    "df_molecule.to_csv('data/compounds_P49841_lipinski.csv', index=False)"
   ]
  },
  {
   "cell_type": "markdown",
   "id": "be508952",
   "metadata": {},
   "source": [
    "## Plot the properties of the rule of five per molecule as bar plots."
   ]
  },
  {
   "cell_type": "code",
   "execution_count": null,
   "id": "924f8d8c",
   "metadata": {
    "ExecuteTime": {
     "end_time": "2023-04-11T16:59:34.761027Z",
     "start_time": "2023-04-11T16:59:34.660256Z"
    }
   },
   "outputs": [],
   "source": [
    "# Import the necessary libraries\n",
    "import pandas as pd\n",
    "import requests\n",
    "from io import StringIO\n",
    "\n",
    "# URL of the CSV file containing the dataset\n",
    "csv_url = 'https://raw.githubusercontent.com/ramirezlab/PILE/main/2.%20De%20datos%20a%20gráficas%3A%20Propiedades%20drug-likeness%20y%20similitud%20química%20con%20python/data/compounds_P49841_lipinski.csv'\n",
    "\n",
    "# Download the file from the URL\n",
    "response = requests.get(csv_url)\n",
    "response.encoding = 'utf-8'  # Ensure the file is correctly interpreted with UTF-8 encoding\n",
    "\n",
    "# Attempt to read the CSV file using 'utf-8' encoding\n",
    "try:\n",
    "    lipinski_comp = pd.read_csv(StringIO(response.text), encoding='utf-8')\n",
    "except UnicodeDecodeError:  \n",
    "    # If an encoding error occurs, try reading with 'latin1'\n",
    "    lipinski_comp = pd.read_csv(StringIO(response.text), encoding='latin1')\n",
    "\n",
    "# Display the first 10 rows of the DataFrame to verify correct data import\n",
    "lipinski_comp.head(10)"
   ]
  },
  {
   "cell_type": "code",
   "execution_count": null,
   "id": "a2ef2e3e",
   "metadata": {
    "ExecuteTime": {
     "end_time": "2023-04-11T16:59:34.762025Z",
     "start_time": "2023-04-11T16:59:34.691706Z"
    }
   },
   "outputs": [],
   "source": [
    "# Select the first 5 rows of the DataFrame lipinski_comp\n",
    "comp_5_lipinski = lipinski_comp.iloc[:5]\n",
    "\n",
    "# Display the subset of the first 5 compounds\n",
    "comp_5_lipinski"
   ]
  },
  {
   "cell_type": "markdown",
   "id": "37ec2efa",
   "metadata": {},
   "source": [
    "#### Now we will make the bar plot."
   ]
  },
  {
   "cell_type": "code",
   "execution_count": null,
   "id": "ed9691f7",
   "metadata": {
    "ExecuteTime": {
     "end_time": "2023-04-11T16:59:34.762025Z",
     "start_time": "2023-04-11T16:59:34.709166Z"
    }
   },
   "outputs": [],
   "source": [
    "# Define a dictionary with the properties of Lipinski's rule of five\n",
    "ro5_properties = {\n",
    "    \"MW\": (500, \"molecular weight (g/mol)\"),  # Maximum molecular weight allowed: 500 g/mol\n",
    "    \"HBA\": (10, \"# HBA\"),  # Maximum 10 hydrogen bond acceptors (HBA)\n",
    "    \"HBD\": (5, \"# HBD\"),  # Maximum 5 hydrogen bond donors (HBD)\n",
    "    \"LogP\": (5, \"logP\"),  # Maximum logP partition coefficient of 5\n",
    "}"
   ]
  },
  {
   "cell_type": "code",
   "execution_count": null,
   "id": "282b54af",
   "metadata": {
    "ExecuteTime": {
     "end_time": "2023-04-11T16:59:35.130132Z",
     "start_time": "2023-04-11T16:59:34.726138Z"
    }
   },
   "outputs": [],
   "source": [
    "# Create a figure with 4 subplots in a single row (1 row, 4 columns)\n",
    "fig, axes = plt.subplots(figsize=(10, 2.5), nrows=1, ncols=4)\n",
    "\n",
    "# Create an array with X-axis positions for the 5 selected compounds\n",
    "x = np.arange(1, len(comp_5_lipinski) + 1)\n",
    "\n",
    "# Define colors for the bars of each compound\n",
    "colors = [\"DarkMagenta\", \"LightGreen\", \"blue\", \"DarkSalmon\", \"yellow\"]\n",
    "\n",
    "# Create subplots for each property of Lipinski's rule of five (Ro5)\n",
    "for index, (key, (threshold, title)) in enumerate(ro5_properties.items()):\n",
    "    # Generate a bar plot for each Ro5 property\n",
    "    axes[index].bar([0, 1, 2, 3, 4], comp_5_lipinski[key], color=colors)\n",
    "    \n",
    "    # Add a reference line at the threshold defined by Ro5\n",
    "    axes[index].axhline(y=threshold, color=\"black\", linestyle=\"dashed\")\n",
    "    \n",
    "    # Assign a title to the subplot with the property name\n",
    "    axes[index].set_title(title)\n",
    "    \n",
    "    # Remove X-axis labels for better clarity\n",
    "    axes[index].set_xticks([])\n",
    "\n",
    "# Create a legend with molecule identifiers and the threshold line\n",
    "legend_elements = [mpatches.Patch(color=color, label=row[\"molecule_chembl_id\"]) \n",
    "                   for color, (_, row) in zip(colors, comp_5_lipinski.iterrows())]\n",
    "\n",
    "# Add the reference line to the legend\n",
    "legend_elements.append(Line2D([0], [0], color=\"black\", ls=\"dashed\", label=\"Threshold\"))\n",
    "\n",
    "# Position the legend outside the figure for better visualization\n",
    "fig.legend(handles=legend_elements, bbox_to_anchor=(1.2, 0.8))\n",
    "\n",
    "# Adjust subplot layout to avoid overlap\n",
    "plt.tight_layout()\n",
    "\n",
    "# Show the figure\n",
    "plt.show()"
   ]
  },
  {
   "cell_type": "markdown",
   "id": "ce4af7ab",
   "metadata": {},
   "source": [
    "## Plot the properties of the rule of five per molecule as scatter plots."
   ]
  },
  {
   "cell_type": "code",
   "execution_count": null,
   "id": "1bba15c6",
   "metadata": {
    "ExecuteTime": {
     "end_time": "2023-04-11T16:59:40.917313Z",
     "start_time": "2023-04-11T16:59:35.135118Z"
    }
   },
   "outputs": [],
   "source": [
    "# Create a 20x20 figure to improve visualization of the plots\n",
    "fig = plt.figure(figsize=(20, 20))\n",
    "\n",
    "# Generate a pairplot using Seaborn\n",
    "ax = sns.pairplot(\n",
    "    data=lipinski_comp,  # Use the DataFrame with the filtered compounds\n",
    "    vars=['HBD', 'HBA', 'MW', 'LogP'],  # Select the variables to compare\n",
    "    hue='rule_of_five_conform'  # Color the points based on whether they comply with the rule of five or not\n",
    ")\n",
    "\n",
    "# Display the plot\n",
    "plt.show()\n",
    "\n",
    "# Close the figure to free up memory\n",
    "plt.close()"
   ]
  },
  {
   "cell_type": "markdown",
   "id": "c8385f26",
   "metadata": {},
   "source": [
    "## Plot the properties of the rule of five per molecule as radar plot."
   ]
  },
  {
   "cell_type": "code",
   "execution_count": null,
   "id": "1b3629d7",
   "metadata": {
    "ExecuteTime": {
     "end_time": "2023-04-11T16:59:41.085399Z",
     "start_time": "2023-04-11T16:59:40.917313Z"
    }
   },
   "outputs": [],
   "source": [
    "# URL of the CSV file containing the dataset\n",
    "csv_url = 'https://raw.githubusercontent.com/ramirezlab/PILE/main/2.%20De%20datos%20a%20gráficas%3A%20Propiedades%20drug-likeness%20y%20similitud%20química%20con%20python/data/compounds_P49841_lipinski.csv'\n",
    "\n",
    "# Download the file from the URL\n",
    "response = requests.get(csv_url)\n",
    "response.encoding = 'utf-8'  # Ensure the file is correctly interpreted with UTF-8 encoding\n",
    "\n",
    "# Read the CSV file\n",
    "lipinski_comp = pd.read_csv(StringIO(response.text), encoding='utf-8')\n",
    "\n",
    "# Display the first 10 rows of the DataFrame to verify the correct import of the data\n",
    "lipinski_comp.head(10)"
   ]
  },
  {
   "cell_type": "markdown",
   "id": "6a87141e",
   "metadata": {},
   "source": [
    "Because the chemical properties of the rule of five are on different orders of magnitude, we need to transform them in order to visualize them on the radar diagram. In this case, the best way is to transform the data in such a way that the validation bounds are all 5:\n",
    "\n",
    "- Original MW: 500 g/mol - Modified NW: 5 - Rule: MW/100 (Molecular weight (g/mol)/100)\n",
    "- Original HBA: 10 - Modified HBA: 5 - Rule: HBA/2 (# H-bond acceptors/2)\n",
    "- Original HBD: 5 - does not change (# H-bond donors)\n",
    "- Original LogP: 5 - does not change (LogP)\n",
    "\n",
    "Therefore, we are going to transform the `MW` and `HBA` columns, (the new ones are added in the last columns):"
   ]
  },
  {
   "cell_type": "code",
   "execution_count": null,
   "id": "f63a890b",
   "metadata": {
    "ExecuteTime": {
     "end_time": "2023-04-11T16:59:41.085399Z",
     "start_time": "2023-04-11T16:59:40.941249Z"
    },
    "collapsed": false,
    "jupyter": {
     "outputs_hidden": false
    }
   },
   "outputs": [],
   "source": [
    "# Scale the molecular weight by dividing it by 100 and store it in a new column 'MW*100'\n",
    "lipinski_comp['MW*100'] = lipinski_comp['MW'] / 100\n",
    "\n",
    "# Scale the number of hydrogen bond acceptors by dividing it by 2 and store it in 'HBA*2'\n",
    "lipinski_comp['HBA*2'] = lipinski_comp['HBA'] / 2\n",
    "\n",
    "# Display the first 10 rows of the updated DataFrame\n",
    "lipinski_comp.head(10)"
   ]
  },
  {
   "cell_type": "markdown",
   "id": "87f5a1fe",
   "metadata": {},
   "source": [
    "For the radar chart we need the mean and standard deviations of a data set, so we will create a function that allows us to calculate these two statistics for the scaled values."
   ]
  },
  {
   "cell_type": "code",
   "execution_count": null,
   "id": "836e34d1",
   "metadata": {
    "ExecuteTime": {
     "end_time": "2023-04-11T16:59:41.085399Z",
     "start_time": "2023-04-11T16:59:40.957206Z"
    },
    "collapsed": false,
    "jupyter": {
     "outputs_hidden": false
    }
   },
   "outputs": [],
   "source": [
    "# Calculate statistics (mean and standard deviation) of the scaled Rule of Five properties\n",
    "metrics_Ro5_stats_scaled = lipinski_comp[['MW*100', 'HBA*2', 'HBD', 'LogP']].agg([\"mean\", \"std\"])\n",
    "\n",
    "# Display the DataFrame with the calculated metrics\n",
    "metrics_Ro5_stats_scaled"
   ]
  },
  {
   "cell_type": "markdown",
   "id": "4dff4488",
   "metadata": {},
   "source": [
    "Now let's create the function that performs the graph. The dataset must be given as input.\n",
    "The function scales the data and finds the mean and standard deviation for the radarplot."
   ]
  },
  {
   "cell_type": "code",
   "execution_count": null,
   "id": "d4773645",
   "metadata": {
    "ExecuteTime": {
     "end_time": "2023-04-11T16:59:41.086395Z",
     "start_time": "2023-04-11T16:59:40.977153Z"
    },
    "collapsed": false,
    "jupyter": {
     "outputs_hidden": false
    }
   },
   "outputs": [],
   "source": [
    "def plot_radar(dataframe):\n",
    "    from math import pi\n",
    "    import numpy as np\n",
    "\n",
    "    # ------- PART 0: Scaled dataset / Metrics -------\n",
    "    df = dataframe.copy()  # Create a copy of the original DataFrame to avoid modifying it directly\n",
    "\n",
    "    # Scale molecular weight and hydrogen bond acceptors\n",
    "    df['MW*100'] = df['MW'] / 100\n",
    "    df['HBA*2'] = df['HBA'] / 2\n",
    "\n",
    "    # Calculate the mean and standard deviation of the properties\n",
    "    metrics_Ro5_stats_scaled = df[['MW*100', 'HBA*2', 'HBD', 'LogP']].agg([\"mean\", \"std\"])\n",
    "    stats_mean = metrics_Ro5_stats_scaled.loc['mean']  # Extract the mean\n",
    "    stats_std = metrics_Ro5_stats_scaled.loc['std']  # Extract the standard deviation\n",
    "\n",
    "    # ------- PART 1: Create the background of the radar chart -------\n",
    "\n",
    "    # Number of variables to plot\n",
    "    N = 4\n",
    "\n",
    "    # Calculate the angles for each axis in the radar chart\n",
    "    angles = [n / float(N) * 2 * pi for n in range(N)]\n",
    "    angles += angles[:1]  # Close the polygon\n",
    "\n",
    "    # Initialize the figure and polar axes\n",
    "    fig = plt.figure(figsize=(8, 8))\n",
    "    ax = plt.subplot(111, polar=True)\n",
    "\n",
    "    # If you want to rotate the chart so the first axis is at the top:\n",
    "    # ax.set_theta_offset(pi/2)\n",
    "    # ax.set_theta_direction(-1)\n",
    "\n",
    "    # Define the categories for the chart\n",
    "    categories = ['MW (g/mol)*100', '# HBA*2', '# HBD', 'LogP']\n",
    "    plt.xticks(angles[:-1], categories, size=14)  # Axis labels\n",
    "\n",
    "    # Draw Y-axis labels\n",
    "    ax.set_rlabel_position(0)\n",
    "    plt.yticks([1, 3, 5, 7], [\"1\", \"3\", \"5\", \"7\"], color=\"grey\", size=12)\n",
    "    plt.ylim(0, 7)  # Upper limit of the Y-axis\n",
    "\n",
    "    # ------- PART 2: Add data to the chart -------\n",
    "\n",
    "    # Mean data\n",
    "    data = stats_mean.values\n",
    "    data = np.append(data, data[0])  # Close the polygon\n",
    "    ax.plot(angles, data, linewidth=3, linestyle='solid', color='purple', label=\"mean\")\n",
    "\n",
    "    # Mean + standard deviation data\n",
    "    data_std_up = stats_mean.values + stats_std.values\n",
    "    data_std_up = np.append(data_std_up, data_std_up[0])  # Close the polygon\n",
    "    ax.plot(angles, data_std_up, linewidth=2, linestyle='dashed', color='limegreen', label=\"mean + std\")\n",
    "\n",
    "    # Mean - standard deviation data\n",
    "    data_std_down = stats_mean.values - stats_std.values\n",
    "    data_std_down = np.append(data_std_down, data_std_down[0])  # Close the polygon\n",
    "    ax.plot(angles, data_std_down, linewidth=2, linestyle='dashed', color='limegreen', label=\"mean - std\")\n",
    "\n",
    "    # Add text with the total number of compounds in the dataset\n",
    "    ax.text(-np.pi/3, 8, f'# Total data: {len(dataframe)}', size=14)\n",
    "\n",
    "    # Area corresponding to Lipinski's Rule of Five (reference values)\n",
    "    ro5_properties = [5, 5, 5, 5, 5]  # Represents the limits for MW/100, HBA/2, HBD, and LogP\n",
    "    ax.fill(angles, ro5_properties, 'thistle', alpha=0.6, label=\"rule of five area\")\n",
    "\n",
    "    # Position the legend outside the figure for better visualization\n",
    "    plt.legend(loc='upper right', bbox_to_anchor=(1.2, 1))\n",
    "\n",
    "    # Display the chart\n",
    "    plt.show()"
   ]
  },
  {
   "cell_type": "code",
   "execution_count": null,
   "id": "6178d8cd",
   "metadata": {
    "ExecuteTime": {
     "end_time": "2023-04-11T16:59:41.293877Z",
     "start_time": "2023-04-11T16:59:40.987126Z"
    },
    "collapsed": false,
    "jupyter": {
     "outputs_hidden": false
    }
   },
   "outputs": [],
   "source": [
    "# We plot the radarplot for the dataset of compounds (ALL).\n",
    "plot_radar(df_molecule)"
   ]
  },
  {
   "cell_type": "markdown",
   "id": "e6388f2a",
   "metadata": {},
   "source": [
    "### Radar plot - Rof comfort: YES\n",
    "Now we are going to repeat the process, but only with the molecules that passed the rule of five test.\n",
    "We must first filter the set `rule_of_five_conform: yes`"
   ]
  },
  {
   "cell_type": "code",
   "execution_count": null,
   "id": "2296518c",
   "metadata": {
    "ExecuteTime": {
     "end_time": "2023-04-11T16:59:41.294874Z",
     "start_time": "2023-04-11T16:59:41.202604Z"
    },
    "collapsed": false,
    "jupyter": {
     "outputs_hidden": false
    }
   },
   "outputs": [],
   "source": [
    "# Filter the DataFrame to get only the compounds that comply with Lipinski's Rule of Five\n",
    "df_molecule_Ro5_yes = df_molecule[df_molecule['rule_of_five_conform'] == 'yes']\n",
    "\n",
    "# Reset the index of the DataFrame, dropping the previous index\n",
    "df_molecule_Ro5_yes.reset_index(inplace=True, drop=True)\n",
    "\n",
    "# Display the dataset of compounds that comply with the Rule of Five\n",
    "df_molecule_Ro5_yes"
   ]
  },
  {
   "cell_type": "markdown",
   "id": "c2da3585",
   "metadata": {},
   "source": [
    "We plot the radarplot for the filtered dataset"
   ]
  },
  {
   "cell_type": "code",
   "execution_count": null,
   "id": "cd236f6f",
   "metadata": {
    "ExecuteTime": {
     "end_time": "2023-04-11T16:59:41.524867Z",
     "start_time": "2023-04-11T16:59:41.208100Z"
    }
   },
   "outputs": [],
   "source": [
    "plot_radar(df_molecule_Ro5_yes)"
   ]
  },
  {
   "cell_type": "markdown",
   "id": "42ddf6e6",
   "metadata": {},
   "source": [
    "## Radar plot - Rof comfort: NO\n",
    "Now we are going to repeat the process, but only with the molecules that passed the rule of five test.\n",
    "We must first filter the set `rule_of_five_conform: no`\n"
   ]
  },
  {
   "cell_type": "code",
   "execution_count": null,
   "id": "241ec7d2",
   "metadata": {
    "ExecuteTime": {
     "end_time": "2023-04-11T16:59:41.525865Z",
     "start_time": "2023-04-11T16:59:41.411619Z"
    }
   },
   "outputs": [],
   "source": [
    "# Filter the DataFrame to get only the compounds that do NOT comply with Lipinski's Rule of Five\n",
    "df_molecule_Ro5_no = df_molecule[df_molecule['rule_of_five_conform'] == 'no']\n",
    "\n",
    "# Reset the index of the DataFrame, dropping the previous index\n",
    "df_molecule_Ro5_no.reset_index(inplace=True, drop=True)\n",
    "\n",
    "# Display the dataset of compounds that do NOT comply with the Rule of Five\n",
    "df_molecule_Ro5_no"
   ]
  },
  {
   "cell_type": "markdown",
   "id": "46de9dcd",
   "metadata": {},
   "source": [
    "We plot the radarplot for the dataset of compounds that violate the Ro5"
   ]
  },
  {
   "cell_type": "code",
   "execution_count": null,
   "id": "dbbb61d0",
   "metadata": {
    "ExecuteTime": {
     "end_time": "2023-04-11T16:59:41.742412Z",
     "start_time": "2023-04-11T16:59:41.426579Z"
    },
    "collapsed": false,
    "jupyter": {
     "outputs_hidden": false
    }
   },
   "outputs": [],
   "source": [
    "plot_radar(df_molecule_Ro5_no)"
   ]
  },
  {
   "cell_type": "markdown",
   "id": "bd8c803e",
   "metadata": {},
   "source": [
    "## Quantitative Estimation of Drug-likeness (QED)\n",
    "QED is a descriptor used to measure the drug-likeness of a compound. Although the Rule of Five (Ro5) is commonly used for this purpose, not all drugs strictly comply with its criteria. Approximately 16% of oral drugs fail to meet at least one of the Ro5 parameters, and 6% fail to meet two or more. To quantify the quality of compounds, the concept of desirability is applied, allowing for the establishment of a quantitative metric called QED (Quantitative Estimation of Drug-likeness). QED values range from zero, indicating the presence of all unfavorable properties, to one, representing a profile with all favorable properties<sup> **4** </sup>."
   ]
  },
  {
   "cell_type": "code",
   "execution_count": null,
   "id": "8d85d007",
   "metadata": {},
   "outputs": [],
   "source": [
    "# URL of the CSV file containing the compound data\n",
    "csv_url = 'https://raw.githubusercontent.com/ramirezlab/PILE/main/2.%20De%20datos%20a%20gráficas%3A%20Propiedades%20drug-likeness%20y%20similitud%20química%20con%20python/data/compounds_P49841_full.csv'\n",
    "\n",
    "# Download the file from the URL\n",
    "response = requests.get(csv_url)\n",
    "response.encoding = 'utf-8'  # Ensure correct encoding\n",
    "\n",
    "# Read the CSV file into a pandas DataFrame\n",
    "df_output = pd.read_csv(StringIO(response.text), encoding='utf-8')\n",
    "\n",
    "# Verify the available columns\n",
    "print(df_output.columns)\n",
    "\n",
    "# Convert SMILES to RDKit molecules and calculate QED\n",
    "def calculate_qed(smiles):\n",
    "    mol = Chem.MolFromSmiles(smiles)  # Convert SMILES to RDKit Mol object\n",
    "    if mol:  # Check if the conversion was successful\n",
    "        return QED.qed(mol)  # Calculate QED\n",
    "    return None  # Return None if calculation was not possible\n",
    "\n",
    "# Ensure the column containing SMILES is named 'smiles' or rename it if necessary\n",
    "if 'smiles' not in df_output.columns:\n",
    "    # Attempt to detect the correct name of the SMILES column\n",
    "    smiles_col = [col for col in df_output.columns if 'smiles' in col.lower()]\n",
    "    if smiles_col:\n",
    "        df_output.rename(columns={smiles_col[0]: 'smiles'}, inplace=True)\n",
    "    else:\n",
    "        raise ValueError(\"No column with SMILES values was found in the file.\")\n",
    "\n",
    "# Apply the function to calculate QED and add it as a new column\n",
    "df_output['QED'] = df_output['smiles'].apply(calculate_qed)\n",
    "\n",
    "# Display the first rows of the DataFrame with the new QED column\n",
    "df_output[['smiles', 'QED']].head()"
   ]
  },
  {
   "cell_type": "markdown",
   "id": "f7e42980",
   "metadata": {},
   "source": [
    "To calculate the QED (Quantitative Estimation of Drug-likeness) for compounds that comply with Lipinski's Rule of Five."
   ]
  },
  {
   "cell_type": "code",
   "execution_count": null,
   "id": "27472075",
   "metadata": {},
   "outputs": [],
   "source": [
    "# Create an explicit copy of the DataFrame df_molecule_Ro5_yes and assign it to df_molecule_QED\n",
    "df_molecule_QED = df_molecule_Ro5_yes.copy()\n",
    "\n",
    "# Verify the available columns\n",
    "print(df_molecule_QED.columns)\n",
    "\n",
    "# Attempt to find the correct column containing SMILES\n",
    "smiles_col = [col for col in df_molecule_QED.columns if 'smiles' in col.lower()]\n",
    "if smiles_col:\n",
    "    df_molecule_QED = df_molecule_QED.rename(columns={smiles_col[0]: 'smiles'})\n",
    "else:\n",
    "    raise KeyError(\"No column with SMILES values was found in df_molecule_QED.\")\n",
    "\n",
    "# Function to calculate QED\n",
    "def calculate_qed(smiles):\n",
    "    mol = Chem.MolFromSmiles(smiles)  # Convert SMILES to an RDKit Mol object\n",
    "    return QED.qed(mol) if mol else None  # Calculate QED only if the conversion was successful\n",
    "\n",
    "# Apply the function to each row using .loc to avoid the warning\n",
    "df_molecule_QED.loc[:, 'QED'] = df_molecule_QED['smiles'].apply(calculate_qed)\n",
    "\n",
    "# Sort by QED in descending order\n",
    "df_molecule_QED_sorted = df_molecule_QED.sort_values(by='QED', ascending=False).reset_index(drop=True)\n",
    "\n",
    "# Select only the relevant columns\n",
    "columns_to_show = ['smiles', 'molecule_chembl_id', 'MW', 'HBA', 'HBD', 'LogP', 'QED']\n",
    "df_molecule_QED_sorted = df_molecule_QED_sorted[columns_to_show]\n",
    "\n",
    "# Display the first rows of the DataFrame with the new QED column\n",
    "df_molecule_QED_sorted.head(10)"
   ]
  },
  {
   "cell_type": "code",
   "execution_count": null,
   "id": "84a209bc",
   "metadata": {},
   "outputs": [],
   "source": [
    "# Sort the DataFrame by the 'QED' column in descending order\n",
    "df_molecule_QED_sorted = df_molecule_QED.sort_values(by='QED', ascending=False).reset_index(drop=True)\n",
    "\n",
    "# Select only the desired columns (adjust the names as needed)\n",
    "columns_to_show = ['smiles', 'molecule_chembl_id', 'MW', 'HBA', 'HBD', 'LogP', 'QED']\n",
    "\n",
    "# Display only the selected columns\n",
    "df_molecule_QED_sorted[columns_to_show].head(10)"
   ]
  },
  {
   "cell_type": "code",
   "execution_count": null,
   "id": "0f1caef2",
   "metadata": {},
   "outputs": [],
   "source": [
    "# Verify the available columns in the DataFrame\n",
    "print(df_molecule_QED_sorted.columns)"
   ]
  },
  {
   "cell_type": "code",
   "execution_count": null,
   "id": "179db4ec",
   "metadata": {},
   "outputs": [],
   "source": [
    "def plot_radar(dataframe):\n",
    "    # ------- PART 0: Scaled dataset / Metrics -------\n",
    "    df = dataframe.copy()  # Create a copy of the original DataFrame to avoid modifying it directly\n",
    "\n",
    "    # Scale MW, HBA, and other values to bring them to a similar scale\n",
    "    df['MW*100'] = df['MW'] / 100\n",
    "    df['HBA*2'] = df['HBA'] / 2\n",
    "    df['QED*10'] = df['QED'] * 10  # Normalize QED so that 10 is equivalent to 1\n",
    "\n",
    "    # Calculate the mean and standard deviation of the properties\n",
    "    metrics_Ro5_stats_scaled = df[['MW*100', 'HBA*2', 'HBD', 'LogP', 'QED*10']].agg([\"mean\", \"std\"])\n",
    "    stats_mean = metrics_Ro5_stats_scaled.loc['mean']  # Extract the mean\n",
    "    stats_std = metrics_Ro5_stats_scaled.loc['std']  # Extract the standard deviation\n",
    "\n",
    "    # ------- PART 1: Create the background of the radar chart -------\n",
    "\n",
    "    # Number of variables to plot\n",
    "    N = 5\n",
    "\n",
    "    # Calculate the angles for each axis in the radar chart\n",
    "    angles = [n / float(N) * 2 * pi for n in range(N)]\n",
    "    angles += angles[:1]  # Close the polygon\n",
    "\n",
    "    # Initialize the figure and polar axes\n",
    "    fig = plt.figure(figsize=(8, 8))\n",
    "    ax = plt.subplot(111, polar=True)\n",
    "\n",
    "    # Define the categories for the chart\n",
    "    categories = ['MW (g/mol)*100', '# HBA', '# HBD', 'LogP', 'QED*10']\n",
    "    plt.xticks(angles[:-1], categories, size=14)  # Axis labels\n",
    "\n",
    "    # Draw Y-axis labels\n",
    "    ax.set_rlabel_position(0)\n",
    "    plt.yticks([0.5, 2.5, 5, 7, 9, 11], [\"0.5\", \"2.5\", \"5\", \"7\", \"9\", \"11\"], color=\"grey\", size=12)\n",
    "    plt.ylim(0, 11)  # Upper limit of the Y-axis\n",
    "\n",
    "    # ------- PART 2: Add data to the chart -------\n",
    "\n",
    "    # Mean data\n",
    "    data = stats_mean.values\n",
    "    data = np.append(data, data[0])  # Close the polygon\n",
    "    ax.plot(angles, data, linewidth=3, linestyle='solid', color='purple', label=\"Mean\")\n",
    "\n",
    "    # Mean + standard deviation data\n",
    "    data_std_up = stats_mean.values + stats_std.values\n",
    "    data_std_up = np.append(data_std_up, data_std_up[0])  # Close the polygon\n",
    "    ax.plot(angles, data_std_up, linewidth=2, linestyle='dashed', color='limegreen', label=\"Mean + Std. Dev.\")\n",
    "\n",
    "    # Mean - standard deviation data\n",
    "    data_std_down = stats_mean.values - stats_std.values\n",
    "    data_std_down = np.append(data_std_down, data_std_down[0])  # Close the polygon\n",
    "    ax.plot(angles, data_std_down, linewidth=2, linestyle='dashed', color='limegreen', label=\"Mean - Std. Dev.\")\n",
    "\n",
    "    # Add text with the total number of compounds in the dataset\n",
    "    ax.text(-np.pi/3, 8, f'# Total data: {len(dataframe)}', size=14)\n",
    "\n",
    "    # Area corresponding to Lipinski's Rule of Five (reference values)\n",
    "    ro5_properties = [5, 5, 5, 5, 10]  # Adjusted with scaled values + normalized QED\n",
    "    ro5_properties = np.append(ro5_properties, ro5_properties[0])  # Close the polygon\n",
    "\n",
    "    ax.fill(angles, ro5_properties, 'thistle', alpha=0.7, label=\"Lipinski's Rule of 5 + QED\")\n",
    "\n",
    "    # Add legend\n",
    "    plt.legend(loc='upper right')\n",
    "\n",
    "    # Display the chart\n",
    "    plt.show()\n",
    "\n",
    "# Call the function with the DataFrame sorted by QED\n",
    "plot_radar(df_molecule_QED_sorted)"
   ]
  },
  {
   "cell_type": "markdown",
   "id": "924aa190",
   "metadata": {},
   "source": [
    "## Practice Activity\n",
    "\n",
    "Considering what has been reviewed in this second part, write a Python code that can:\n",
    "\n",
    "Create a bar chart for the last 5 compounds that do not comply with Lipinski's Rule of Five, showing each compound against the 4 Lipinski rules with their respective limits, as well as the QED value.\n",
    "\n",
    "Upon completion, you should prepare a document in \"ipynb\" format (Jupyter Notebook) that includes:\n",
    "\n",
    "1. The proposed code for selecting the compounds to be plotted, along with its corresponding output.\n",
    "\n",
    "2. The proposed code for creating the requested chart, along with its corresponding output."
   ]
  },
  {
   "cell_type": "markdown",
   "id": "7ce374dd",
   "metadata": {},
   "source": [
    "## Conclusion\n",
    "\n",
    "In this practice, we have learned about Lipinski's rule of five as a measure to estimate a compound's oral bioavailability and we have applied the rule on a dataset n order to filter it and discard those compounds that meet two or more of the criteria. Also, we learn dto make simple graphs such as bar graphs that allow us to visualize the data set as a whole or each compound of the data set. In addition, we learned to make scatterplots that allow us to observe the data set against the four criteria of the Lipinski rule. Finally, we build a more complex plot like the radar plot which allows us to compare multiple variables (Lipinski rules) on a single plot."
   ]
  },
  {
   "cell_type": "markdown",
   "id": "56840262-7a7d-4f8c-8897-9f09f8a758e9",
   "metadata": {},
   "source": [
    "# References\n",
    "1. Grogan, S., & Preuss, C. V. (2022). Pharmacokinetics. En StatPearls. StatPearls Publishing. http://www.ncbi.nlm.nih.gov/books/NBK557744/\n",
    "2. Doogue, M. P., & Polasek, T. M. (2013). The ABCD of clinical pharmacokinetics. Therapeutic Advances in Drug Safety, 4(1), 5-7. https://doi.org/10.1177/2042098612469335\n",
    "3. Turner, J. V., & Agatonovic-Kustrin, S. (2007). In silico prediction of oral bioavailability. En Comprehensive Medicinal Chemistry II (pp. 699-724). Elsevier. https://doi.org/10.1016/B0-08-045044-X/00147-4\n",
    "4. Bickerton, G. R., Paolini, G. V., Besnard, J., Muresan, S., & Hopkins, A. L. (2012). Quantifying the chemical beauty of drugs. Nature chemistry, 4(2), 90–98. https://doi.org/10.1038/nchem.1243"
   ]
  }
 ],
 "metadata": {
  "kernelspec": {
   "display_name": "Python 3 (ipykernel)",
   "language": "python",
   "name": "python3"
  },
  "language_info": {
   "codemirror_mode": {
    "name": "ipython",
    "version": 3
   },
   "file_extension": ".py",
   "mimetype": "text/x-python",
   "name": "python",
   "nbconvert_exporter": "python",
   "pygments_lexer": "ipython3",
   "version": "3.10.13"
  }
 },
 "nbformat": 4,
 "nbformat_minor": 5
}
