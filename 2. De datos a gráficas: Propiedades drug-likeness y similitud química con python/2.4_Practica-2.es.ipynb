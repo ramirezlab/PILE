{
 "cells": [
  {
   "cell_type": "markdown",
   "metadata": {},
   "source": [
    "# Práctica 2: Detección basada en ligandos: similitud de compuestos y agrupamiento de compuestos\n",
    "\n",
    "> **Note:** Este libro esta disponible de dos maneras: \n",
    "> 1. Descargando el repositorio y siguiendo las instrucciones que estan en el archivo [README.md](https://github.com/ramirezlab/PILE/blob/main/README.md)\n",
    "> 2. Haciendo clic aquí en [![Open In Colab](https://colab.research.google.com/assets/colab-badge.svg)](https://colab.research.google.com/github/ramirezlab/PILE/blob/main/2.%20De%20datos%20a%20gráficas%3A%20Propiedades%20drug-likeness%20y%20similitud%20química%20con%20python/2.4_Practica-2.es.ipynb?hl=es)\n",
    "\n",
    "## Teoría\n",
    "\n",
    "### **Huellas dactilares moleculares**\n",
    "Las huellas dactilares moleculares son herramientas quimioinformáticas esenciales para el cribado virtual y el mapeo del espacio químico. Esta es una forma de describir una estructura molecular que puede convertir una estructura molecular en una cadena de bits<sup> **1** </sup>. Cada bit corresponde a una característica o entorno molecular predefinido, donde \"1\" representa la presencia y \"0\" la ausencia de una característica. Dado que la huella digital molecular codifica la estructura de una molécula, es un método útil para describir la similitud estructural entre las moléculas como un descriptor molecular.\n",
    "\n",
    "#### **Huellas dactilares de Morgan**\n",
    "La huella digital molecular más popular es la huella dactilar de Morgan que se basa en el algoritmo de Morgan. Estos bits generados por algoritmos corresponden a los entornos circulares de cada átomo en una molécula y el número de enlaces y átomos vecinos a considerar está establecido por el radio, que son predictivos de las actividades biológicas de las moléculas orgánicas pequeñas<sup> **2** </sup>.\n",
    "\n",
    "### **Medida de similitud molecular: coeficiente de Tanimoto**\n",
    "Dos de estas huellas dactilares se comparan más comúnmente con la métrica de similitud de Tanimoto. Estas métricas toman un valor entre 0 y 1, correspondiendo 1 a huellas dactilares idénticas<sup> **3** </sup>.\n",
    "\n",
    "\n",
    "<img src=\"img/Coeficiente de tanimoto-es.jpg\" alt=\"Tanimoto-coefficient\" width=\"800\"/>\n",
    "\n",
    "### **Agrupación**\n",
    "Es la tarea de agrupar un conjunto de objetos de tal manera que los objetos del mismo grupo (llamado clúster) sean más similares entre sí que a los de otros grupos (clusters). La agrupación de compuestos en la investigación farmacéutica a menudo se basa en la similitud química o estructural entre compuestos para encontrar grupos que comparten propiedades.\n",
    "\n",
    "Hay [pasos clave](https://www.sciencedirect.com/science/article/pii/B008045044X001474) en el enfoque de agrupación que seguiremos:\n",
    "\n",
    "**1. Preparación de datos y codificación compuesta:**\n",
    "\n",
    "- Los compuestos en los datos de entrada se codificarán como huellas dactilares moleculares.\n",
    "    \n",
    "**2. Matriz de similitud (o distancia) de Tanimoto:**\n",
    "\n",
    "- La similitud entre dos huellas dactilares se calcula mediante el coeficiente de Tanimoto.\n",
    "- Matriz con similitudes de Tanimoto entre todos los posibles pares de moléculas/huellas dactilares (matriz de similitud n * n con = número de moléculas, solo se usa la matriz del triángulo superior).\n",
    "- Igualmente, se puede calcular la matriz de distancias (1 - semejanza).\n",
    "    \n",
    "**3. Agrupación de moléculas**\n",
    "\n",
    "- El resultado de la agrupación depende del umbral elegido por el usuario:\n",
    "    - Cuanto menor sea el valor de corte de la distancia, más similares se requieren los compuestos para pertenecer a un grupo.\n",
    "    - Cuanto mayor sea el umbral (corte de distancia), más moléculas se considerarán similares, tendrá menos grupos.\n",
    "    - Cuanto más bajo es el umbral, más pequeños grupos y \"singletons\" aparecen."
   ]
  },
  {
   "cell_type": "markdown",
   "metadata": {},
   "source": [
    "## Planteamiento del problema\n",
    "Tenemos un conjunto de datos con muchos compuestos y queremos agruparlos porque compuestos similares pueden unirse a los mismos objetivos y mostrar efectos similares. A partir de dicha agrupación, también se puede seleccionar un conjunto diverso de compuestos de un conjunto más grande de compuestos de detección para realizar más pruebas experimentales."
   ]
  },
  {
   "cell_type": "code",
   "execution_count": null,
   "metadata": {
    "ExecuteTime": {
     "end_time": "2023-04-11T17:05:31.662207Z",
     "start_time": "2023-04-11T17:05:31.556355Z"
    }
   },
   "outputs": [],
   "source": [
    "# Importar librerias necesarias para ejecutar este cuaderno\n",
    "!pip install rdkit\n",
    "from pathlib import Path\n",
    "import seaborn as sns\n",
    "import pandas as pd\n",
    "import numpy as np\n",
    "import matplotlib.pyplot as plt\n",
    "from scipy.cluster.hierarchy import linkage, dendrogram, fcluster\n",
    "from rdkit import Chem, DataStructs\n",
    "from rdkit.ML.Cluster import Butina\n",
    "from rdkit.Chem import (\n",
    "    PandasTools,\n",
    "    Draw,\n",
    "    Descriptors,\n",
    "    rdFingerprintGenerator,\n",
    ")"
   ]
  },
  {
   "cell_type": "markdown",
   "metadata": {},
   "source": [
    "# Ejemplo 1: Comparar una molécula con un conjunto de datos\n",
    "\n",
    "Inicialmente, queremos comparar una molécula de consulta con todas las moléculas del conjunto de datos que contiene los compuestos bioactivos contra la *glucógeno sintasa quinasa-3 beta*. En este caso la molécula de consulta es **Ruboxistaurin**, queremos buscar moléculas similares.\n",
    "\n",
    "## Paso 1: Cargar conjunto de datos\n",
    "El conjunto de datos que contiene los compuestos bioactivos contra la *glucógeno sintasa quinasa-3 beta* lo construimos en el tutorial 2.1_Dataframes."
   ]
  },
  {
   "cell_type": "code",
   "execution_count": null,
   "metadata": {},
   "outputs": [],
   "source": [
    "# Importar las bibliotecas necesarias\n",
    "import pandas as pd            # Para manejar datos en formato tabular\n",
    "import urllib.parse            # Para codificar correctamente URLs con caracteres especiales\n",
    "\n",
    "# URL del archivo CSV en GitHub\n",
    "# Nota: Esta URL contiene espacios y caracteres especiales como acentos,\n",
    "# por lo que debe ser codificada antes de usarse en funciones como pd.read_csv\n",
    "csv_url = 'https://raw.githubusercontent.com/ramirezlab/PILE/main/2. De datos a gráficas: Propiedades drug-likeness y similitud química con python/data/compounds_P49841_full.csv'\n",
    "\n",
    "# Codificar la URL para que los espacios y caracteres especiales se transformen en un formato válido para la web\n",
    "# El parámetro 'safe=:/'' indica que no se codifiquen los dos puntos ni las barras, necesarios en URLs\n",
    "csv_url_encoded = urllib.parse.quote(csv_url, safe=':/')\n",
    "\n",
    "# Leer el archivo CSV desde la URL codificada\n",
    "# pd.read_csv puede leer directamente desde URLs, siempre y cuando sean válidas\n",
    "molecule_dataset = pd.read_csv(csv_url_encoded)\n",
    "\n",
    "# Imprimir el número total de compuestos en el dataset\n",
    "print(f'# total de compuestos: {len(molecule_dataset)}')\n",
    "\n",
    "# Mostrar las primeras filas del DataFrame para inspección rápida\n",
    "molecule_dataset.head()"
   ]
  },
  {
   "cell_type": "markdown",
   "metadata": {},
   "source": [
    "## Paso 2: Generar el fingerprint de la molécula de consulta\n",
    "Para la molécula Ruboxistaurin, generramos el objeto ROMol a partir de SMILES."
   ]
  },
  {
   "cell_type": "code",
   "execution_count": null,
   "metadata": {
    "ExecuteTime": {
     "end_time": "2023-04-11T17:05:31.762820Z",
     "start_time": "2023-04-11T17:05:31.695149Z"
    }
   },
   "outputs": [],
   "source": [
    "from rdkit import Chem  # Asegúrate de haber importado Chem desde RDKit\n",
    "\n",
    "# Crear una molécula a partir de una cadena SMILES (Simplified Molecular Input Line Entry System)\n",
    "# Esta cadena representa la estructura química de la Ruboxistaurina, un inhibidor de la proteína quinasa C\n",
    "# RDKit interpreta la cadena SMILES y construye internamente un objeto de tipo Mol (molécula)\n",
    "query = Chem.MolFromSmiles(\"CN(C)CC1CCN2C=C(C3=CC=CC=C32)C4=C(C5=CN(CCO1)C6=CC=CC=C65)C(=O)NC4=O\")\n",
    "\n",
    "# Mostrar el objeto Mol generado. Este objeto puede ser utilizado en cálculos químicos,\n",
    "# búsquedas por subestructura, comparación de similitud, visualización, etc.\n",
    "query"
   ]
  },
  {
   "cell_type": "markdown",
   "metadata": {},
   "source": [
    "Luego generamos las huella dactilar de Morgan para la molécula de Ruboxistaurin"
   ]
  },
  {
   "cell_type": "code",
   "execution_count": null,
   "metadata": {
    "ExecuteTime": {
     "end_time": "2023-04-11T17:05:31.786769Z",
     "start_time": "2023-04-11T17:05:31.710632Z"
    }
   },
   "outputs": [],
   "source": [
    "# Generar la huella digital (fingerprint) de tipo circular para la molécula \"query\"\n",
    "# Este tipo de huella digital, también conocida como ECFP (Extended Connectivity Fingerprint),\n",
    "# codifica información estructural local de la molécula, como átomos y sus entornos vecinos\n",
    "# La función GetFPs genera una lista de huellas digitales; en este caso, usamos solo la del primer elemento ([0])\n",
    "circular_fp_query = rdFingerprintGenerator.GetFPs([query])[0]\n",
    "\n",
    "# Convertir la huella digital a una cadena de bits (0s y 1s)\n",
    "# Cada bit representa la presencia (1) o ausencia (0) de un determinado patrón estructural\n",
    "# Esto es útil para análisis de similitud, clustering, o entrenamiento de modelos de ML\n",
    "bitstring = circular_fp_query.ToBitString()\n",
    "\n",
    "# Mostrar la huella digital como cadena binaria\n",
    "bitstring"
   ]
  },
  {
   "cell_type": "markdown",
   "metadata": {},
   "source": [
    "## Paso 3: Calcular las fingerprint del conjunto de datos\n",
    "Ahora generamos las huellas dactilares de Morgan para todas las moléculas en nuestro conjunto de datos."
   ]
  },
  {
   "cell_type": "code",
   "execution_count": null,
   "metadata": {
    "ExecuteTime": {
     "end_time": "2023-04-11T17:05:32.576866Z",
     "start_time": "2023-04-11T17:05:32.312664Z"
    }
   },
   "outputs": [],
   "source": [
    "# Agrega una columna de moléculas al DataFrame a partir de la columna \"smiles\"\n",
    "PandasTools.AddMoleculeColumnToFrame(molecule_dataset, \"smiles\")\n",
    "\n",
    "# Genera una lista de huellas digitales circulares (fingerprints) para las moléculas en el DataFrame\n",
    "circular_fp_list = rdFingerprintGenerator.GetFPs(molecule_dataset[\"ROMol\"].tolist())"
   ]
  },
  {
   "cell_type": "markdown",
   "metadata": {},
   "source": [
    "## Paso 4: Calculamos la similitud entre la molécula y el conjunto de datos\n",
    "Calculamos la similitud de Tanimoto entre la molécula Ruboxistaurin y todas las moléculas de nuestro conjunto de datos utilizando las huellas dactilares de Morgan"
   ]
  },
  {
   "cell_type": "code",
   "execution_count": null,
   "metadata": {
    "ExecuteTime": {
     "end_time": "2023-04-11T17:05:32.633014Z",
     "start_time": "2023-04-11T17:05:32.568876Z"
    }
   },
   "outputs": [],
   "source": [
    "# Calcula la similitud de Tanimoto entre la huella digital de la consulta y las huellas digitales de las moléculas en el DataFrame\n",
    "molecule_dataset[\"tanimoto_morgan\"] = DataStructs.BulkTanimotoSimilarity(circular_fp_query, circular_fp_list)\n",
    "\n",
    "# Muestra las primeras filas con el identificador ChEMBL de la molécula y su similitud de Tanimoto\n",
    "molecule_dataset[[\"molecule_chembl_id\", \"tanimoto_morgan\"]].head()"
   ]
  },
  {
   "cell_type": "markdown",
   "metadata": {},
   "source": [
    "Ahora podemos organizar los valores para identificar las moléculas más similares a la Ruboxistaurin"
   ]
  },
  {
   "cell_type": "code",
   "execution_count": null,
   "metadata": {
    "ExecuteTime": {
     "end_time": "2023-04-11T17:05:32.634027Z",
     "start_time": "2023-04-11T17:05:32.616059Z"
    }
   },
   "outputs": [],
   "source": [
    "# Ordena el DataFrame en función de la similitud de Tanimoto en orden descendente\n",
    "molecule_dataset.sort_values(by=[\"tanimoto_morgan\"], ascending=False, inplace=True)\n",
    "\n",
    "# Muestra las cinco primeras moléculas con mayor similitud de Tanimoto\n",
    "molecule_dataset.head(5)"
   ]
  },
  {
   "cell_type": "markdown",
   "metadata": {},
   "source": [
    "Finalmente, podemos ver la molécula Ruboxistaurin y las cinco moléculas más parecidas del conjunto de datos"
   ]
  },
  {
   "cell_type": "code",
   "execution_count": null,
   "metadata": {
    "ExecuteTime": {
     "end_time": "2023-04-11T17:05:32.707926Z",
     "start_time": "2023-04-11T17:05:32.665927Z"
    }
   },
   "outputs": [],
   "source": [
    "# Número de moléculas principales a visualizar\n",
    "top_n_molecules = 5\n",
    "\n",
    "# Selecciona las 'top_n_molecules' con mayor similitud de Tanimoto\n",
    "top_molecules = molecule_dataset[:top_n_molecules]\n",
    "\n",
    "# Crea una lista de leyendas con los identificadores ChEMBL de las moléculas seleccionadas\n",
    "legends = [\n",
    "    f\"#{index} {molecule['molecule_chembl_id']}\"\n",
    "    for index, molecule in top_molecules.iterrows()\n",
    "]\n",
    "\n",
    "# Genera una imagen en forma de cuadrícula con la molécula de consulta (Ruboxistaurina) y las moléculas más similares\n",
    "Chem.Draw.MolsToGridImage(\n",
    "    mols=[query] + top_molecules[\"ROMol\"].tolist(),  # Incluye la molécula de consulta y las más similares\n",
    "    legends=([\"Ruboxistaurin\"] + legends),  # Asigna las leyendas a cada molécula\n",
    "    molsPerRow=4,  # Número de moléculas por fila en la cuadrícula\n",
    "    subImgSize=(250, 270),  # Tamaño de cada imagen de molécula\n",
    ")"
   ]
  },
  {
   "cell_type": "markdown",
   "metadata": {},
   "source": [
    "## Distribución de similitud\n",
    "Para ver gráficamente la distribución de la similitud de Tanimoto, podemos hacer un histograma, recordemos que entre más cerca sea el número a 1, más similares son las moléculas."
   ]
  },
  {
   "cell_type": "code",
   "execution_count": null,
   "metadata": {
    "ExecuteTime": {
     "end_time": "2023-04-11T17:05:32.967576Z",
     "start_time": "2023-04-11T17:05:32.678891Z"
    }
   },
   "outputs": [],
   "source": [
    "# Configurar la figura de Matplotlib con un tamaño de 10x6\n",
    "fig, axes = plt.subplots(figsize=(10, 6), nrows=1, ncols=1)\n",
    "\n",
    "# Generar un histograma de los valores de similitud de Tanimoto en la columna \"tanimoto_morgan\"\n",
    "# Puedes ver más nombres de colores en el enlace: https://www.w3schools.com/colors/colors_names.asp\n",
    "molecule_dataset.hist([\"tanimoto_morgan\"], ax=axes, color=\"darkorchid\")\n",
    "\n",
    "# Etiqueta del eje X\n",
    "axes.set_xlabel(\"Valor de similitud\")\n",
    "\n",
    "# Etiqueta del eje Y\n",
    "axes.set_ylabel(\"# moléculas\")\n",
    "\n",
    "# Mostrar la figura\n",
    "fig;"
   ]
  },
  {
   "cell_type": "markdown",
   "metadata": {},
   "source": [
    "También podemos hacer un histograma con una curva de estimaciones de densidad kernel usando seaborn. Con este gráfico, podemos ver la manera como se distribuye el conjunto de datos."
   ]
  },
  {
   "cell_type": "code",
   "execution_count": null,
   "metadata": {
    "ExecuteTime": {
     "end_time": "2023-04-11T17:05:33.410140Z",
     "start_time": "2023-04-11T17:05:32.960583Z"
    }
   },
   "outputs": [],
   "source": [
    "# Generar un gráfico de distribución (displot) con la densidad de kernel (kde) habilitada\n",
    "# Configurar la altura en 8 y la relación de aspecto en 2 para una visualización más amplia\n",
    "# Se usa el color \"darkorchid\" para el gráfico\n",
    "sns.displot(data=molecule_dataset[\"tanimoto_morgan\"], kde=True, height=8, aspect=2, color=\"darkorchid\")"
   ]
  },
  {
   "cell_type": "markdown",
   "metadata": {},
   "source": [
    "# Ejemplo 2: Agrupación jerárquica (hierarchical clustering)\n",
    "El agrupamiento jerárquico (**Hierarchical Clustering** en inglés), es un método comúnmente utilizado para agrupar datos con características similares (los grupos de datos se llaman **clústers**)<sup> **4**</sup>.\n",
    "\n",
    "El algortimo de agrupamiento jerárquico agrupa los datos basándose en la distancia entre cada uno y buscando que los datos que están dentro de un clúster sean los más similares entre sí. Para nuestro caso, podemos agrupar los compuestos más similares de acuerdo a la distancia de Tanimonoto.\n",
    "\n",
    "Inicialmente, vamos a utilizar el **agrupamiento tipo Aglomerativo** el cual inicia con cada compuesto como un clúster separado. A cada paso, los dos clústers más cercanos se fusionan creando un nuevo clúster. Estas fusiones se siguen produciendo de manera sucesiva hasta que al final del proceso solo queda un único clúster que aglomera todos los elementos.\n",
    "\n",
    "Otro aspecto a tener en cuenta es la forma como se mide la **distancia** entre dos clústers, por definición se utiliza la * distancia euclidiana*, pero los algoritmos permiten modificar esta métrica."
   ]
  },
  {
   "cell_type": "markdown",
   "metadata": {},
   "source": [
    "## Preparación de datos\n",
    "\n",
    "Iniciamos cargando el conjunto de datos que contiene los compuestos bioactivos contra la *glucógeno sintasa quinasa-3 beta* lo construimos en el tutorial 2.1_Dataframes.\n",
    "\n",
    "A partir de los SMILES creamos los objetos *ROMol* y las *fingerprints* de cada compuesto"
   ]
  },
  {
   "cell_type": "code",
   "execution_count": null,
   "metadata": {
    "ExecuteTime": {
     "end_time": "2023-04-11T17:05:34.467655Z",
     "start_time": "2023-04-11T17:05:33.411137Z"
    }
   },
   "outputs": [],
   "source": [
    "# Definir la URL del archivo CSV alojado en un repositorio de GitHub\n",
    "# Esta ruta contiene espacios y caracteres especiales (como acentos), que deben ser codificados si se usa directamente\n",
    "csv_url = 'https://raw.githubusercontent.com/ramirezlab/PILE/main/2. De datos a gráficas: Propiedades drug-likeness y similitud química con python/data/compounds_P49841_full.csv'\n",
    "\n",
    "# Imprimir el número total de compuestos (filas) contenidos en el dataset\n",
    "print(f'# total de compuestos: {len(molecule_dataset)}')\n",
    "\n",
    "# Convertir las cadenas SMILES a objetos Mol de RDKit\n",
    "# Esto agrega una nueva columna llamada \"ROMol\", que se requiere para operaciones químicas como cálculo de fingerprints\n",
    "PandasTools.AddMoleculeColumnToFrame(molecule_dataset, \"smiles\")  # Agregar columna ROMol a partir de SMILES\n",
    "\n",
    "# Generar fingerprints de tipo Morgan (tipo ECFP) para todas las moléculas del dataset\n",
    "# Se obtiene una lista de huellas digitales, una por cada molécula\n",
    "morgan_fp_list = rdFingerprintGenerator.GetFPs(molecule_dataset[\"ROMol\"].tolist())  # Fingerprints de Morgan\n",
    "\n",
    "# Almacenar los fingerprints en una nueva columna del DataFrame para análisis posteriores\n",
    "# Esto permitirá calcular similitudes, agrupar compuestos, etc.\n",
    "molecule_dataset['morgan_fp'] = morgan_fp_list\n",
    "\n",
    "# Mostrar las primeras filas del DataFrame para inspección visual\n",
    "molecule_dataset.head()\n",
    "\n"
   ]
  },
  {
   "cell_type": "markdown",
   "metadata": {},
   "source": [
    "## Matriz de la similitud de Tanimoto\n",
    "Similar a lo trabajado en el ejemplo 1, vamos a encontrar la similitud de cada molécula con el resto de moléculas del conjunto.\n",
    "\n",
    "Vamos a crear una función cuya entrada es el conjunto de *fingerprints* de los compuestos, y cuya salida es la matriz de similitud de Tanimoto, donde se mide la similitud entre dos compuestos."
   ]
  },
  {
   "cell_type": "code",
   "execution_count": null,
   "metadata": {
    "ExecuteTime": {
     "end_time": "2023-04-11T17:05:34.529090Z",
     "start_time": "2023-04-11T17:05:34.469668Z"
    }
   },
   "outputs": [],
   "source": [
    "def tanimoto_matrix(fp_list):\n",
    "    # Crear una matriz identidad de tamaño N x N, donde N es el número de fingerprints\n",
    "    N = len(fp_list)\n",
    "    similarity_matrix = np.identity(N)\n",
    "    \n",
    "    # Obtener los índices de las posiciones de la matriz triangular inferior (incluyendo la diagonal)\n",
    "    a, b = np.tril_indices(N, 0)\n",
    "    \n",
    "    # Inicializar una lista para almacenar los valores de similitud\n",
    "    similarities = list()\n",
    "    \n",
    "    # Iterar sobre la lista de fingerprints\n",
    "    for ind, i in enumerate(fp_list):\n",
    "        # Comparar el fingerprint actual con todos los anteriores en la lista y almacenar los valores de similitud\n",
    "        similarities = np.append(similarities, DataStructs.BulkTanimotoSimilarity(i, fp_list[:ind+1]))\n",
    "        \n",
    "    # Llenar la matriz de similitud con los valores calculados en la parte inferior\n",
    "    similarity_matrix[a, b] = similarities\n",
    "    \n",
    "    # Hacer la matriz simétrica copiando los valores de la parte inferior a la parte superior\n",
    "    similarity_matrix[b, a] = similarity_matrix[a, b]\n",
    "    \n",
    "    # Retornar la matriz de similitud de Tanimoto\n",
    "    return similarity_matrix"
   ]
  },
  {
   "cell_type": "markdown",
   "metadata": {},
   "source": [
    "### Agrupamiento de diez moléculas\n",
    "Para entender el proceso de agrupamiento vamos a trabajar solamente con las primeras diez moléculas del conjunto. Comenzamos creando una lista con los fingerprints de las diez moléculas."
   ]
  },
  {
   "cell_type": "code",
   "execution_count": null,
   "metadata": {
    "ExecuteTime": {
     "end_time": "2023-04-11T17:05:34.561004Z",
     "start_time": "2023-04-11T17:05:34.484665Z"
    }
   },
   "outputs": [],
   "source": [
    "# Seleccionar los primeros 10 fingerprints de la lista de huellas digitales de Morgan\n",
    "list_fingerprints = circular_fp_list[0:10]"
   ]
  },
  {
   "cell_type": "markdown",
   "metadata": {},
   "source": [
    "Ahora, encontramos la matriz de similitud de tanimoto con los diez fingerprints"
   ]
  },
  {
   "cell_type": "code",
   "execution_count": null,
   "metadata": {
    "ExecuteTime": {
     "end_time": "2023-04-11T17:05:34.561004Z",
     "start_time": "2023-04-11T17:05:34.500627Z"
    }
   },
   "outputs": [],
   "source": [
    "# Calcular la matriz de similitud de Tanimoto solo para los primeros 10 compuestos\n",
    "similarity_matrix = tanimoto_matrix(list_fingerprints)\n",
    "\n",
    "# Mostrar la matriz de similitud\n",
    "similarity_matrix"
   ]
  },
  {
   "cell_type": "markdown",
   "metadata": {},
   "source": [
    "Podemos representarla por medio de un mapa de calor:"
   ]
  },
  {
   "cell_type": "code",
   "execution_count": null,
   "metadata": {
    "ExecuteTime": {
     "end_time": "2023-04-11T17:05:34.957033Z",
     "start_time": "2023-04-11T17:05:34.517122Z"
    }
   },
   "outputs": [],
   "source": [
    "similarity_matrix = tanimoto_matrix(list_fingerprints) # Solo para los 10 primeros compuestos\n",
    "ax = sns.heatmap(similarity_matrix, annot=True, fmt='.2f', cmap=\"vlag\") # annot= True imprime el coeficiente de Tanimoto y fmt='.2f' me da solo dos decimales\n",
    "ax.set(xlabel=\"\", ylabel=\"\")\n",
    "ax.xaxis.tick_top()"
   ]
  },
  {
   "cell_type": "markdown",
   "metadata": {},
   "source": [
    "#### Agrupamiento por distancias\n",
    "Como lo explicamos inicialmente, el **agrupamiento por aglomeración** consiste en fusionar consecutivamente aquellos clústers que estén más cercados, para entender el agrupamiento podemos utilizar el método [`linkage`](https://docs.scipy.org/doc/scipy/reference/generated/scipy.cluster.hierarchy.linkage.html#scipy.cluster.hierarchy.linkage), el cual crea una *matriz de enlace* (linkage matrix) con el orden con el cual se agruparon los diferentes clústers (por defecto, la metrica de medida es la *distancia euclideana* y el método de agrupamiento es el *punto más cercano*), nosotros vamos a trabajar con la distancia media de los elementos del agrupamiento (*average*)."
   ]
  },
  {
   "cell_type": "code",
   "execution_count": null,
   "metadata": {
    "ExecuteTime": {
     "end_time": "2023-04-11T17:05:35.059279Z",
     "start_time": "2023-04-11T17:05:34.957033Z"
    }
   },
   "outputs": [],
   "source": [
    "# Realizar el clustering jerárquico utilizando el método de enlace promedio (average linkage)\n",
    "# 'similarity_matrix' es la matriz de similitud de Tanimoto calculada previamente\n",
    "Z = linkage(similarity_matrix, method='average')\n",
    "\n",
    "# Mostrar la estructura del clustering jerárquico resultante\n",
    "Z"
   ]
  },
  {
   "cell_type": "markdown",
   "metadata": {},
   "source": [
    "En la *i-ésima* fila, `Z[i,0]` y `Z[i,1]` indican los clusters que son combinaron para formar el clúster $n+i$. `Z[i,2]` indica la distancia entre los clústers y `Z[i,3]` representa el número de compuestos del nuevo clúster.\n",
    "Recordemos que iniciamos con diez clústers enumerados del 0 al 9 (las diez moléculas iniciales), así, las filas de la matriz de enlace Z son:\n",
    "- **fila-0**: Se crea el clúster 10, conformado por la molécula 1 (clúster 1) y la mólecula 5 (clúster 5), la distancia entre el clúster 1 y 5 es de 0.235548, y el nuevo clúster tiene 2 moléculas\n",
    "- **fila-1**: Se crea el clúster 11, conformado por la molécula 8 (clúster 8) y la mólecula 9 (clúster 9), la distancia entre el clúster 8 y 9 es de 0.343349, y el nuevo clúster tiene 2 moléculas\n",
    "- **fila-2**: Se crea el clúster 12, conformado por la molécula 2 (clúster 2) y la mólecula 7 (clúster 7), la distancia entre el clúster 2 y 7 es de 0.364662, y el nuevo clúster tiene 2 moléculas\n",
    "- **fila-3**: Se crea el clúster 13, conformado por la molécula 4 (clúster 4) y el clúster 10 (creado en la **fila-0**), la distancia entre el clúster 4 y 10 es de 0.500123, y el nuevo clúster tiene 3 moléculas\n",
    "- **fila-4**: Se crea el clúster 14, conformado por el clúster 11 (creado en la **fila-1**) y el clúster 12 (creado en la **fila-2**), la distancia entre el clúster 11 y 12 es de 0.571593, y el nuevo clúster tiene 4 moléculas\n",
    "- **fila-5**: Se crea el clúster 15, conformado por la molécula 0 (clúster 0) y la mólecula 6 (clúster 6), la distancia entre el clúster 0 y 6 es de 0.639747, y el nuevo clúster tiene 2 moléculas\n",
    "- **fila-6**: Se crea el clúster 16, conformado por la molécula 3 (clúster 3) y el clúster 15 (creado en la **fila-5**), la distancia entre el clúster 3 y 15 es de 1.084561, y el nuevo clúster tiene 3 moléculas\n",
    "- **fila-7**: Se crea el clúster 17, conformado por el clúster 13 (creado en la **fila-3**) y el clúster 16 (creado en la **fila-6**), la distancia entre el clúster 13 y 16 es de 1.555059, y el nuevo clúster tiene 6 moléculas\n",
    "- **fila-8**: Se crea el clúster 18, conformado por el clúster 14 (creado en la **fila-4**) y el clúster 17 (creado en la **fila-17**), la distancia entre el clúster 14 y 17 es de 1.611812, y el nuevo clúster tiene 10 moléculas"
   ]
  },
  {
   "cell_type": "markdown",
   "metadata": {},
   "source": [
    "#### Representación: el *dendograma*\n",
    "La manera de representar un agrupamiento jerárquico es con un dendrograma"
   ]
  },
  {
   "cell_type": "code",
   "execution_count": null,
   "metadata": {
    "ExecuteTime": {
     "end_time": "2023-04-11T17:05:35.158846Z",
     "start_time": "2023-04-11T17:05:34.971992Z"
    }
   },
   "outputs": [],
   "source": [
    "# Generar el dendrograma a partir de la matriz de clustering 'Z'\n",
    "dn = dendrogram(Z)"
   ]
  },
  {
   "cell_type": "markdown",
   "metadata": {},
   "source": [
    "Las líneas verticales del dendrograma ilustran las fusiones (o divisiones) realizadas en cada etapa del agrupamiento. Podemos ver la distancia, los distintos niveles de asociaciones entre los datos individuales y también las asociaciones entre clústers. Recordemos que la distancia utilizada fue la euclidiana, la cual podemos modificar cuando armamos Z."
   ]
  },
  {
   "cell_type": "markdown",
   "metadata": {},
   "source": [
    "#### Clustermap\n",
    "Todo lo anterior se puede organizar en una matriz y graficar por medio de un mapa de calor de agrupamiento jerárquico, note que el orden de los compuestos no necesariamente es el mismo orden que el del dendograma"
   ]
  },
  {
   "cell_type": "code",
   "execution_count": null,
   "metadata": {
    "ExecuteTime": {
     "end_time": "2023-04-11T17:05:35.802237Z",
     "start_time": "2023-04-11T17:05:35.161823Z"
    }
   },
   "outputs": [],
   "source": [
    "# Crear un clustermap (mapa de calor con clustering jerárquico) basado en la matriz de similitud de Tanimoto\n",
    "g = sns.clustermap(similarity_matrix, method='average',\n",
    "                   cmap=\"vlag\",  # Mapa de colores\n",
    "                   dendrogram_ratio=(.1, .2),  # Proporción del dendrograma en los ejes (filas, columnas)\n",
    "                   linewidths=.5)  # Grosor de las líneas de separación en el mapa de calor\n",
    "\n",
    "# Eliminar el dendrograma de las filas para una visualización más clara\n",
    "g.ax_row_dendrogram.remove()"
   ]
  },
  {
   "cell_type": "markdown",
   "metadata": {},
   "source": [
    "#### Umbral de agrupamiento\n",
    "Podemos utilizar la distancia entre los clústers como **límite** para agrupar los compuestos, por ejemplo, si elegimos agrupar con una distancia es menor o igual que 0.6, se formarían 5 grupos con los siguientes compuestos:\n",
    "- Clúster-1: (1, 4, 8, 9)\n",
    "- Clúster-2: (7, 2, 5)\n",
    "- Clúster-3: 3\n",
    "- Clúster-4: 0\n",
    "- Clúster-5: 6\n",
    "\n",
    "El método ['fcluster'](https://docs.scipy.org/doc/scipy/reference/generated/scipy.cluster.hierarchy.fcluster.html#scipy.cluster.hierarchy.fcluster) organiza un arreglo de $n$ elementos, donde cada elemento indica número del clúster al que pertenece el compuesto de esa posición"
   ]
  },
  {
   "cell_type": "code",
   "execution_count": null,
   "metadata": {
    "ExecuteTime": {
     "end_time": "2023-04-11T17:05:35.816674Z",
     "start_time": "2023-04-11T17:05:35.803234Z"
    }
   },
   "outputs": [],
   "source": [
    "# Realizar el clustering jerárquico sobre la matriz de similitud de Tanimoto\n",
    "Z = linkage(similarity_matrix)\n",
    "\n",
    "# Obtener los clusters a partir de la matriz de enlace Z\n",
    "# 't=0.6' define el umbral de distancia para la formación de clusters\n",
    "# 'criterion=\"distance\"' indica que se usará la distancia de enlace para definir los clusters\n",
    "clusters = fcluster(Z, t=0.6, criterion='distance')\n",
    "\n",
    "# Mostrar los clusters asignados a cada molécula\n",
    "clusters"
   ]
  },
  {
   "cell_type": "markdown",
   "metadata": {},
   "source": [
    "### Algoritmo de agrupamiento *Butina*: Centroides y esferas de exclusión\n",
    "Un algoritmo utilizado comunmente para agrupar moléculas es el conocido como el *algortimo de agrupamiento Butina* (Butina clustering algorithm)<sup> **5** </sup>\n",
    "\n",
    "Podemos utilizar la librería `rdkit` para implementar este algorítmo (`Butina.ClusterData`). Como entrada se necesita una lista con las distancias de Tanimoto de los compuestos. Esta lista la podemos encontrar a partir de la matriz de similitud de Tanimoto donde las distancias se pueden hallar con la fórmula $distancia = 1 - similitud$.\n",
    "\n",
    "Para armar la lista podemos utilizar la función de la matriz de tanimoto, separar solamente los elementos que están debajo de la diagonal principal y hallar la distancia"
   ]
  },
  {
   "cell_type": "code",
   "execution_count": null,
   "metadata": {
    "ExecuteTime": {
     "end_time": "2023-04-11T17:05:35.966814Z",
     "start_time": "2023-04-11T17:05:35.818669Z"
    }
   },
   "outputs": [],
   "source": [
    "similarity_matrix = tanimoto_matrix(list_fingerprints)  # Matriz de similitud\n",
    "a, b = np.tril_indices(len(list_fingerprints), -1)  # índices de los elementos debajo de la diagonal principal\n",
    "dist_similarity_matrix = 1 - similarity_matrix[a, b]  # distancias de los compuestos"
   ]
  },
  {
   "cell_type": "markdown",
   "metadata": {},
   "source": [
    "Ahora escogemos un umbral de distancia para realizar el agrupamiento, por ejemplo, si escogemos como umbral 0.4, se obtienen cinco clústers."
   ]
  },
  {
   "cell_type": "code",
   "execution_count": null,
   "metadata": {
    "ExecuteTime": {
     "end_time": "2023-04-11T17:05:35.966814Z",
     "start_time": "2023-04-11T17:05:35.835642Z"
    }
   },
   "outputs": [],
   "source": [
    "# Aplicar el algoritmo de clustering de Butina basado en la matriz de similitud\n",
    "# 'dist_similarity_matrix' es la matriz de similitud de Tanimoto transformada en una matriz de distancia\n",
    "# 'len(list_fingerprints)' es el número total de fingerprints a considerar\n",
    "# 'distThresh=0.4' establece un umbral de distancia para definir los clusters\n",
    "# 'isDistData=True' indica que los datos de entrada son una matriz de distancias\n",
    "clusters = Butina.ClusterData(dist_similarity_matrix, len(list_fingerprints), distThresh=0.4, isDistData=True)\n",
    "\n",
    "# Ordenar los clusters por tamaño en orden descendente (los más grandes primero)\n",
    "clusters = sorted(clusters, key=len, reverse=True)\n",
    "\n",
    "# Mostrar los clusters obtenidos\n",
    "clusters\n"
   ]
  },
  {
   "cell_type": "markdown",
   "metadata": {},
   "source": [
    "**Observación**: Aunque el agrupamiento es similar al encontrado con el método `fcluster` note que el umbral utilizado es diferente, adicionalmente, el algoritmo de `Butina` determina el *centroide* del clúster, el cual será similar a cualquier otra molécula del clúster de acuerdo al valor del umbral dado. El primer elemento de cada clúster es el centroide."
   ]
  },
  {
   "cell_type": "markdown",
   "metadata": {},
   "source": [
    "## Método del codo (Elbow Method)\n",
    "Uno de los problemas que nos encontramos a la hora de aplicar el agrupamiento es la elección del número de Clusters. No existe un criterio objetivo ni ampliamente válido para la elección de un número óptimo de Clusters; pero tenemos que tener en cuenta, que una mala elección de los mismos puede dar lugar a realizar agrupaciones de datos muy heterogéneos (pocos Clusters); o datos, que siendo muy similares unos a otros los agrupemos en Clusters diferentes (muchos Clusters).\n",
    "\n",
    "El método del codo utiliza los valores de la inercia obtenidos tras aplicar el agrupamiento para diferentes números de clusters (desde 1 a N Clusters), siendo la **inercia** la *suma de las distancias al cuadrado de cada objeto del Cluster a su centroide*. Luego, podemos hallar el *promedio* de las inercias para cada N (comúnmente llamado *distorsión*) y representamos en una gráfica la distorsión respecto al número de clústers<sup> **6** </sup>. La gráfica nos dirve para apreciar el cambio y a partir de esta podemos estimar el número óptimo de clústers a seleccionar.\n",
    "\n",
    "Comenzamos definiendo una función que determine la inercia y distorsión, ya que vamos a utilizar el método de Butina para hacer el clústering, debemos tener en cuenta que este depende del *umbral de similitud* y a partir de este umbral se halla el número de clústers (entre más pequeño sea el umbral, más clústers, pues es menor la cantidad de moléculas similares)."
   ]
  },
  {
   "cell_type": "code",
   "execution_count": null,
   "metadata": {
    "ExecuteTime": {
     "end_time": "2023-04-11T17:05:35.966814Z",
     "start_time": "2023-04-11T17:05:35.852597Z"
    }
   },
   "outputs": [],
   "source": [
    "def distorion_tanimoto(clusters, full_dataset):\n",
    "    inertia = list()\n",
    "    for cluster in clusters:\n",
    "        cluster_dataset = full_dataset.iloc[list(cluster)]\n",
    "        # centroide\n",
    "        circular_fp_query = cluster_dataset['morgan_fp'].iloc[0]\n",
    "        # lista de elementos del clúster\n",
    "        circular_fp_list = list(cluster_dataset['morgan_fp'])\n",
    "        #cuadrado de la distancia intra-cluster\n",
    "        sqrt_dist_to_centroid = (1 - np.array(DataStructs.BulkTanimotoSimilarity(circular_fp_query, circular_fp_list)))**2\n",
    "        # suma del cuadrado de la distancia de cada elemento al centro del clúster\n",
    "        inertia.append(sum(sqrt_dist_to_centroid))\n",
    "    # media de las inercias de cada clúster\n",
    "    distortion = np.mean(inertia)\n",
    "    return len(clusters), distortion"
   ]
  },
  {
   "cell_type": "markdown",
   "metadata": {},
   "source": [
    "Ahora repetimos el proceso anterior, variando el umbral de similitud de 0 a 1 con pasos de 0.05 (*observe la linea 7: `np.arange(0,1,0.05)`*), luego creamos una tabla de resultados para poder graficarlos"
   ]
  },
  {
   "cell_type": "code",
   "execution_count": null,
   "metadata": {
    "ExecuteTime": {
     "end_time": "2023-04-11T17:05:35.966814Z",
     "start_time": "2023-04-11T17:05:35.868568Z"
    }
   },
   "outputs": [],
   "source": [
    "from rdkit import Chem\n",
    "from rdkit.Chem import AllChem\n",
    "from rdkit.DataStructs import BulkTanimotoSimilarity\n",
    "\n",
    "result = list()\n",
    "molecule_mini_dataset = molecule_dataset[:10]\n",
    "list_fingerprints = molecule_mini_dataset['morgan_fp']\n",
    "similarity_matrix = tanimoto_matrix(list_fingerprints)  # Matriz de similitud\n",
    "a, b = np.tril_indices(len(list_fingerprints), -1)  # índices de los elementos debajo de la diagonal principal\n",
    "dist_similarity_matrix = 1 - similarity_matrix[a, b] # distancias de los compuestos\n",
    "for i in np.arange(0,1,0.05):\n",
    "    cutoff = round(i,2)\n",
    "    clusters = Butina.ClusterData(dist_similarity_matrix,len(list_fingerprints), distThresh=cutoff, isDistData=True)\n",
    "    n, dist = distorion_tanimoto(clusters, molecule_mini_dataset)\n",
    "    result.append((cutoff, n, dist))\n",
    "table = pd.DataFrame(result, columns=['cutoff', 'N_clusters', 'distortion'])\n",
    "table"
   ]
  },
  {
   "cell_type": "code",
   "execution_count": null,
   "metadata": {
    "ExecuteTime": {
     "end_time": "2023-04-11T17:05:36.189833Z",
     "start_time": "2023-04-11T17:05:35.912946Z"
    }
   },
   "outputs": [],
   "source": [
    "# Graficar la distorsión promedio intra-cluster en función del número de clusters\n",
    "# ---------------------------------------------------------------\n",
    "# Este gráfico permite visualizar cómo cambia la distorsión (1 - similitud media)\n",
    "# al variar el número de clusters generados con diferentes umbrales de corte (cutoff).\n",
    "# Un buen valor de \"cutoff\" se encuentra típicamente donde se balancea\n",
    "# un número razonable de clusters con una baja distorsión.\n",
    "# ---------------------------------------------------------------\n",
    "table.plot(x='N_clusters', y='distortion')"
   ]
  },
  {
   "cell_type": "markdown",
   "metadata": {},
   "source": [
    "La gráfica muestra que cuando el número de clústers es `N=4` hay un cambio brusco (como si fuera el codo de un brazo), por tanto, podemos escoger este como el número óptimo de clústers. Al revisar la tabla vemos que el umbral que debemos escoger es `cutoff=0.45`."
   ]
  },
  {
   "cell_type": "markdown",
   "metadata": {},
   "source": [
    "## Agrupamiento jeráquico del total de datos\n",
    "Podemos utilizar lo aprendido con el agrupamiento de diez compuestos para representar el agrupamiento de todo el conjunto de compuestos.\n",
    "\n",
    "Iniciemos encontrando la matriz de similitud de Tanimoto, ya que son 2605 compuestos, la matriz de similitud tiene un tamaño de 2605 x 2605\n",
    "\n",
    "**Observación**: la variable *circular_fp_list* tiene la lista de todas las fingerprints de los compuestos"
   ]
  },
  {
   "cell_type": "code",
   "execution_count": null,
   "metadata": {
    "ExecuteTime": {
     "end_time": "2023-04-11T17:05:41.880036Z",
     "start_time": "2023-04-11T17:05:36.100845Z"
    }
   },
   "outputs": [],
   "source": [
    "# Calcular la matriz de similitud de Tanimoto para todas las moléculas en la lista de fingerprints\n",
    "# ----------------------------------------------------------------------------\n",
    "# Esta matriz es cuadrada (n x n), donde n es el número total de moléculas.\n",
    "# Cada elemento [i, j] de la matriz representa la similitud de Tanimoto entre la molécula i y la j.\n",
    "# La similitud de Tanimoto compara la superposición entre dos vectores binarios (fingerprints).\n",
    "# ----------------------------------------------------------------------------\n",
    "similarity_matrix_full = tanimoto_matrix(circular_fp_list)\n",
    "\n",
    "# Mostrar la forma (dimensiones) de la matriz de similitud\n",
    "# Debe devolver una tupla (n, n), confirmando que hay una fila y columna por molécula\n",
    "similarity_matrix_full.shape"
   ]
  },
  {
   "cell_type": "markdown",
   "metadata": {},
   "source": [
    "Observemos el mapa de calor de la matriz de similitud, la cual aún no está organizada"
   ]
  },
  {
   "cell_type": "code",
   "execution_count": null,
   "metadata": {
    "ExecuteTime": {
     "end_time": "2023-04-11T17:05:48.088979Z",
     "start_time": "2023-04-11T17:05:41.881017Z"
    }
   },
   "outputs": [],
   "source": [
    "# Crear una figura y ejes para visualizar la matriz de similitud\n",
    "# --------------------------------------------------------------\n",
    "# figsize=(10, 10) define el tamaño de la figura en pulgadas.\n",
    "# Esto es útil para evitar que una matriz grande se vea comprimida o ilegible.\n",
    "fig, ax = plt.subplots(figsize=(10, 10))\n",
    "\n",
    "# Dibujar la matriz de similitud como un mapa de calor (heatmap)\n",
    "# --------------------------------------------------------------\n",
    "# sns.heatmap visualiza los valores de la matriz como colores.\n",
    "# cmap=\"vlag\" define la paleta de colores, que en este caso es divergente\n",
    "# (útil para representar diferencias centradas en un valor medio, como la similitud ~0.5).\n",
    "# yticklabels=False y xticklabels=False eliminan las etiquetas de los ejes para una vista más limpia,\n",
    "# especialmente útil cuando se visualiza una gran cantidad de moléculas.\n",
    "ax = sns.heatmap(similarity_matrix_full, cmap=\"vlag\",\n",
    "                 yticklabels=False, xticklabels=False)\n"
   ]
  },
  {
   "cell_type": "markdown",
   "metadata": {},
   "source": [
    "### Agrupación: Algoritmo de agrupamiento Butina\n",
    "Similar a la agrupación realizada con los diez compuestos, vamos a crear una función en donde podemos decidir el umbral de la distancia de Tanimoto, por ejemplo, supongamos que queremos agrupar moléculas cuya similitud es menor o igual a *cutoff*=0.2.\n",
    "**Observación**: Recordemos que estamos utilizando el algoritmo de agrupamiento *Butina*"
   ]
  },
  {
   "cell_type": "code",
   "execution_count": null,
   "metadata": {
    "ExecuteTime": {
     "end_time": "2023-04-11T17:05:48.097955Z",
     "start_time": "2023-04-11T17:05:48.088979Z"
    }
   },
   "outputs": [],
   "source": [
    "def cluster_fingerprints(fp_list, cutoff=0.2):\n",
    "    # Calcular la matriz similitud de Tanimoto\n",
    "    similarity_matrix = tanimoto_matrix(fp_list)  # Matriz de similitud\n",
    "    # Encontrar la distancias entre los compuestos, guardar los datos como una lista\n",
    "    a, b = np.tril_indices(len(fp_list), -1)\n",
    "    dist_similarity_matrix = 1 - similarity_matrix[a, b]\n",
    "    # Ahora agrupar los datos con el algoritmo Butina:\n",
    "    clusters = Butina.ClusterData(dist_similarity_matrix, len(fp_list), cutoff, isDistData=True)\n",
    "    clusters = sorted(clusters, key=len, reverse=True)\n",
    "    return clusters"
   ]
  },
  {
   "cell_type": "markdown",
   "metadata": {},
   "source": [
    "Al ejecutar la función *cluster_fingerprints* se crean los agrupamientos, iniciando por aquellos que mayor cantidad de moléculas tiene, veamos los 10 primeros."
   ]
  },
  {
   "cell_type": "code",
   "execution_count": null,
   "metadata": {
    "ExecuteTime": {
     "end_time": "2023-04-11T17:05:54.358519Z",
     "start_time": "2023-04-11T17:05:48.097955Z"
    }
   },
   "outputs": [],
   "source": [
    "# Ejecutar el procedimiento de agrupación para el conjunto de datos, distancia: 0.2\n",
    "clusters = cluster_fingerprints(morgan_fp_list, cutoff=0.2)\n",
    "# Clústers más grandes\n",
    "print(clusters[:10])"
   ]
  },
  {
   "cell_type": "markdown",
   "metadata": {},
   "source": [
    "Como estamos trabajando con un conjunto grande de datos, no es buena idea imprimir toda la lista de los clústers, sin embargo, podemos resumir la información en una tabla de frecuencias."
   ]
  },
  {
   "cell_type": "code",
   "execution_count": null,
   "metadata": {
    "ExecuteTime": {
     "end_time": "2023-04-11T17:05:54.365052Z",
     "start_time": "2023-04-11T17:05:54.349524Z"
    }
   },
   "outputs": [],
   "source": [
    "# Obtener el tamaño de cada grupo (número de elementos en cada cluster)\n",
    "# 'clusters' es una lista de listas, donde cada sublista contiene los índices de las moléculas en ese cluster\n",
    "agrup = list(map(len, clusters))\n",
    "\n",
    "# Calcular cuántos clusters tienen la misma cantidad de elementos\n",
    "# np.unique devuelve los valores únicos (tamaños de cluster) y cuántas veces se repiten\n",
    "unique, counts = np.unique(agrup, return_counts=True)\n",
    "\n",
    "# Crear una tabla de frecuencias donde:\n",
    "# - Cada fila representa un tamaño de cluster y su frecuencia\n",
    "# - np.flip invierte el orden de las filas para mostrar los clusters grandes primero\n",
    "frec_table = np.flip(np.array([unique, counts]).T)  # orden invertido para claridad\n",
    "\n",
    "# Mostrar la tabla: cada fila indica [tamaño del cluster, cantidad de clusters de ese tamaño]\n",
    "frec_table"
   ]
  },
  {
   "cell_type": "markdown",
   "metadata": {},
   "source": [
    "Podemos ver que el clúster más grande (el primero) tiene 14 elementos y que hay 1494 compuestos que no se agruparon (clústers individuales)\n",
    "Veamos gráficamente la cantidad de elementos en los clústers de mayor tamaño y cuántos hay de cada uno"
   ]
  },
  {
   "cell_type": "code",
   "execution_count": null,
   "metadata": {
    "ExecuteTime": {
     "end_time": "2023-04-11T17:05:54.534200Z",
     "start_time": "2023-04-11T17:05:54.365052Z"
    }
   },
   "outputs": [],
   "source": [
    "fig, ax = plt.subplots(figsize=(10, 3))  # Configurar la figura de matplotlib\n",
    "ax.bar(list(map(str, frec_table[:, 0])), frec_table[:, 1])\n",
    "ax.set_xlabel(\"# total de clústers\")\n",
    "ax.set_ylabel(\"# total de elementos\")\n",
    "plt.show()\n",
    "plt.close()"
   ]
  },
  {
   "cell_type": "markdown",
   "metadata": {},
   "source": [
    "Podemos examinar con más detalle el primer clúster de 14 elementos:"
   ]
  },
  {
   "cell_type": "code",
   "execution_count": null,
   "metadata": {
    "ExecuteTime": {
     "end_time": "2023-04-11T17:05:54.640459Z",
     "start_time": "2023-04-11T17:05:54.561666Z"
    }
   },
   "outputs": [],
   "source": [
    "list_ind_cluster0 = list(clusters[0])\n",
    "molecules_cluster0 = molecule_dataset.iloc[list_ind_cluster0]\n",
    "molecules_cluster0"
   ]
  },
  {
   "cell_type": "code",
   "execution_count": null,
   "metadata": {
    "ExecuteTime": {
     "end_time": "2023-04-11T17:05:54.813826Z",
     "start_time": "2023-04-11T17:05:54.566656Z"
    }
   },
   "outputs": [],
   "source": [
    "print(f'{len(molecules_cluster0)} moleculas del clúster de mayor tamaño')\n",
    "legends = [\n",
    "    f\"#{index} {molecule['molecule_chembl_id']}\"\n",
    "    for index, molecule in molecules_cluster0.iterrows()\n",
    "]\n",
    "\n",
    "Chem.Draw.MolsToGridImage(\n",
    "    mols= molecules_cluster0[\"ROMol\"].tolist(),\n",
    "    legends=legends,\n",
    "    molsPerRow=5,\n",
    "    subImgSize=(250, 270),\n",
    ")"
   ]
  },
  {
   "cell_type": "markdown",
   "metadata": {},
   "source": [
    "También podemos tener un breve informe sobre el número de grupos y sus tamaños, dependiendo del tamaño del cúlster:"
   ]
  },
  {
   "cell_type": "code",
   "execution_count": null,
   "metadata": {
    "ExecuteTime": {
     "end_time": "2023-04-11T17:05:54.988385Z",
     "start_time": "2023-04-11T17:05:54.662993Z"
    }
   },
   "outputs": [],
   "source": [
    "num_clust_g1 = sum(1 for c in clusters if len(c) == 1)\n",
    "num_clust_g5 = sum(1 for c in clusters if len(c) > 5)\n",
    "num_clust_g10 = sum(1 for c in clusters if len(c) > 10)\n",
    "\n",
    "print(\"Número total de clústeres: \", len(clusters))\n",
    "print(\"# clusters con solo 1 compuesto: \", num_clust_g1)\n",
    "print(\"# clusters con >5 compuestos: \", num_clust_g5)\n",
    "print(\"# clusters con >10 compuestos: \", num_clust_g10)"
   ]
  },
  {
   "cell_type": "markdown",
   "metadata": {},
   "source": [
    "#### Número óptimo de clústers y umbral de similitid"
   ]
  },
  {
   "cell_type": "markdown",
   "metadata": {},
   "source": [
    "Utilizando el algoritmo que usamos para los diez elementos, podemos hallar la *distorsión* para diferentes números de clúster (`N`).\n"
   ]
  },
  {
   "cell_type": "code",
   "execution_count": null,
   "metadata": {
    "ExecuteTime": {
     "end_time": "2023-04-11T17:07:43.910318Z",
     "start_time": "2023-04-11T17:07:19.005223Z"
    }
   },
   "outputs": [],
   "source": [
    "result = list()\n",
    "# Ahora utilizamos el total de moléculas\n",
    "list_fingerprints = molecule_dataset['morgan_fp']\n",
    "similarity_matrix = tanimoto_matrix(list_fingerprints)  # Matriz de similitud\n",
    "a, b = np.tril_indices(len(list_fingerprints), -1)  # índices de los elementos debajo de la diagonal principal\n",
    "dist_similarity_matrix = 1 - similarity_matrix[a, b] # distancias de los compuestos\n",
    "for i in np.arange(0,1,0.05):\n",
    "    cutoff = round(i,2)\n",
    "    clusters = Butina.ClusterData(dist_similarity_matrix,len(list_fingerprints), distThresh=cutoff, isDistData=True)\n",
    "    n, dist = distorion_tanimoto(clusters, molecule_dataset)\n",
    "    result.append((cutoff, n, dist))\n",
    "table = pd.DataFrame(result, columns=['cutoff', 'N_clusters', 'distortion'])\n",
    "table"
   ]
  },
  {
   "cell_type": "code",
   "execution_count": null,
   "metadata": {
    "ExecuteTime": {
     "end_time": "2023-04-11T17:06:20.415126Z",
     "start_time": "2023-04-11T17:06:20.146829Z"
    }
   },
   "outputs": [],
   "source": [
    "table.plot(x='N_clusters', y='distortion')"
   ]
  },
  {
   "cell_type": "markdown",
   "metadata": {},
   "source": [
    "Como vemos, después de `N=200` (número de clústers) no hay gran variación de la distorsión, por tanto, no necesitamos variar de 0 a 1 el umbral de similitud (`cutoff`).  Vamos a cambiar la línea 7 para que solo llegue a 0.5 en lugar de 1."
   ]
  },
  {
   "cell_type": "code",
   "execution_count": null,
   "metadata": {
    "ExecuteTime": {
     "end_time": "2023-04-11T17:06:40.052874Z",
     "start_time": "2023-04-11T17:06:20.353292Z"
    }
   },
   "outputs": [],
   "source": [
    "result = list()\n",
    "# Ahora utilizamos el total de moléculas\n",
    "list_fingerprints = molecule_dataset['morgan_fp']\n",
    "similarity_matrix = tanimoto_matrix(list_fingerprints)  # Matriz de similitud\n",
    "a, b = np.tril_indices(len(list_fingerprints), -1)  # índices de los elementos debajo de la diagonal principal\n",
    "dist_similarity_matrix = 1 - similarity_matrix[a, b] # distancias de los compuestos\n",
    "for i in np.arange(0,0.5,0.05):\n",
    "    cutoff = round(i,2)\n",
    "    clusters = Butina.ClusterData(dist_similarity_matrix,len(list_fingerprints), distThresh=cutoff, isDistData=True)\n",
    "    n, dist = distorion_tanimoto(clusters, molecule_dataset)\n",
    "    result.append((cutoff, n, dist))\n",
    "table = pd.DataFrame(result, columns=['cutoff', 'N_clusters', 'distortion'])\n",
    "table"
   ]
  },
  {
   "cell_type": "code",
   "execution_count": null,
   "metadata": {
    "ExecuteTime": {
     "end_time": "2023-04-11T17:06:40.373637Z",
     "start_time": "2023-04-11T17:06:40.068848Z"
    }
   },
   "outputs": [],
   "source": [
    "table.plot(x='N_clusters', y='distortion')"
   ]
  },
  {
   "cell_type": "markdown",
   "metadata": {},
   "source": [
    "En la gráfica pordemos apreciar que al rededor de `N = 1500` hay un cambio brusco en la distorsión. La Tabla nos permite ver que para `N=1502` el `cutoff=0.25`. Veamos como queda el clústering con este valor:"
   ]
  },
  {
   "cell_type": "code",
   "execution_count": null,
   "metadata": {
    "ExecuteTime": {
     "end_time": "2023-04-11T17:06:47.163667Z",
     "start_time": "2023-04-11T17:06:40.319765Z"
    }
   },
   "outputs": [],
   "source": [
    "clusters = cluster_fingerprints(morgan_fp_list, cutoff=0.25)\n",
    "fig, ax = plt.subplots(figsize=(10, 3)) # Configurar la figura de matplotlib\n",
    "agrup = list(map(len, clusters))\n",
    "unique, counts = np.unique(agrup, return_counts=True)\n",
    "frec_table = np.flip(np.array([unique, counts]).T) # reversed order\n",
    "\n",
    "ax.bar(list(map(str, frec_table[:, 0])), frec_table[:, 1], color=\"mediumseagreen\")\n",
    "ax.set_title(f\"Límite: 0.25\")\n",
    "ax.set_xlabel(\"# total de clústers\")\n",
    "ax.set_ylabel(\"# total de elementos\")\n",
    "plt.show()\n",
    "plt.close()"
   ]
  },
  {
   "cell_type": "markdown",
   "metadata": {},
   "source": [
    "El clúster con más moléculas similares tiene 18 moléculas"
   ]
  },
  {
   "cell_type": "code",
   "execution_count": null,
   "metadata": {
    "ExecuteTime": {
     "end_time": "2023-04-11T17:06:47.256999Z",
     "start_time": "2023-04-11T17:06:47.163667Z"
    }
   },
   "outputs": [],
   "source": [
    "list_ind_cluster0 = list(clusters[0])\n",
    "molecules_cluster0 = molecule_dataset.iloc[list_ind_cluster0]\n",
    "molecules_cluster0"
   ]
  },
  {
   "cell_type": "code",
   "execution_count": null,
   "metadata": {
    "ExecuteTime": {
     "end_time": "2023-04-11T17:06:47.381205Z",
     "start_time": "2023-04-11T17:06:47.210124Z"
    }
   },
   "outputs": [],
   "source": [
    "print(f'{len(molecules_cluster0)} moleculas del clúster de mayor tamaño')\n",
    "legends = [\n",
    "    f\"#{index} {molecule['molecule_chembl_id']}\"\n",
    "    for index, molecule in molecules_cluster0.iterrows()\n",
    "]\n",
    "\n",
    "Chem.Draw.MolsToGridImage(\n",
    "    mols= molecules_cluster0[\"ROMol\"].tolist(),\n",
    "    legends=legends,\n",
    "    molsPerRow=5,\n",
    "    subImgSize=(250, 270),\n",
    ")"
   ]
  },
  {
   "cell_type": "markdown",
   "metadata": {},
   "source": [
    "## Clustermap\n",
    "También podemos organizar la matriz de similitud de Tanimoto en un mapa de calor del agrupamiento jerárquico donde podemos ver cómo se agrupan las moléculas que mayor simlitud presentan"
   ]
  },
  {
   "cell_type": "code",
   "execution_count": null,
   "metadata": {
    "ExecuteTime": {
     "end_time": "2023-04-11T17:07:14.489055Z",
     "start_time": "2023-04-11T17:06:47.305884Z"
    }
   },
   "outputs": [],
   "source": [
    "from matplotlib.pyplot import figure\n",
    "similarity_matrix_full = tanimoto_matrix(circular_fp_list)\n",
    "\n",
    "g = sns.clustermap(similarity_matrix_full, cmap=\"vlag\",\n",
    "                   dendrogram_ratio=(.1,.2),\n",
    "                   yticklabels=False,xticklabels=False,\n",
    "                   figsize=(10,10))\n",
    "g.ax_row_dendrogram.remove()\n",
    "!mkdir -p data/\n",
    "plt.savefig('./data/TanimotoSimilarity.png', bbox_inches='tight', dpi=500)\n",
    "plt.show()\n",
    "plt.close()"
   ]
  },
  {
   "cell_type": "markdown",
   "metadata": {},
   "source": [
    "# Actividad práctica\n",
    "\n",
    "Teniendo en cuenta lo revisado en esta segunda parte, realice un código en python con el cual pueda:\n",
    "\n",
    "1. Seleccionar el clúster número 20 realizado con el algoritmo de agrupamiento Butina y un cutoff de 0.25 en esta práctica.\n",
    "2. Calcular la matriz de similitud de Tanimoto, encontrar las distancias entre los compuestos que integran este clúster y hallar la distorsión para diferentes números de clústers utilizando el algoritmo de agrupamiento Butina.\n",
    "3. Selecionar el umbral de similitud más adecuado según el método del codo.\n",
    "\n",
    "\n",
    "Al finalizar deberá preparar un documento en formato PDF en el cual adjunte el input y como resultado de ejecución:\n",
    "1. Tabla con cutoff, N_clusters y distortion.\n",
    "2. Gráfico de lineas N_clusters vs Distortion.\n",
    "3. Gráfico de barras para el # total de clústers y # total de elementos según el cutoff seleccionado.\n"
   ]
  },
  {
   "cell_type": "markdown",
   "metadata": {},
   "source": [
    "# Conclusión\n",
    "\n",
    "En esta práctica, hemos aprendido cómo usar huellas dactilares y medidas de similitud para comparar una molécula de consulta con un conjunto de datos de moléculas y clasificar la molécula por similitud. Además, aprendimos sobre la agrupación en clústeres de un conjunto de datos compuesto y discutimos cómo elegir un umbral de agrupación razonable."
   ]
  },
  {
   "cell_type": "markdown",
   "metadata": {},
   "source": [
    "# Referencias\n",
    "\n",
    "1.  Seo, M., Shin, H. K., Myung, Y., Hwang, S., & No, K. T. (2020). Development of natural compound molecular fingerprint (Nc-mfp) with the dictionary of natural products (Dnp) for natural product-based drug development. Journal of Cheminformatics, 12(1), 6. https://doi.org/10.1186/s13321-020-0410-3\n",
    "2. Capecchi, A., Probst, D., & Reymond, J.-L. (2020). One molecular fingerprint to rule them all: Drugs, biomolecules, and the metabolome. Journal of Cheminformatics, 12(1), 43. https://doi.org/10.1186/s13321-020-00445-4\n",
    "3. Rácz, A., Bajusz, D., & Héberger, K. (2018). Life beyond the Tanimoto coefficient: Similarity measures for interaction fingerprints. Journal of Cheminformatics, 10(1), 48. https://doi.org/10.1186/s13321-018-0302-y\n",
    "4. Nielsen, F. (2016). Hierarchical clustering. En F. Nielsen (Ed.), Introduction to HPC with MPI for Data Science (pp. 195-211). Springer International Publishing. https://doi.org/10.1007/978-3-319-21903-5_8\n",
    "5. Butina, D. (1999). Unsupervised data base clustering based on daylight’s fingerprint and tanimoto similarity: A fast and automated way to cluster small and large data sets. Journal of Chemical Information and Computer Sciences, 39(4), 747-750. https://doi.org/10.1021/ci9803381\n",
    "6. Shi, C., Wei, B., Wei, S., Wang, W., Liu, H., & Liu, J. (2021). A quantitative discriminant method of elbow point for the optimal number of clusters in clustering algorithm. EURASIP Journal on Wireless Communications and Networking, 2021(1), 31. https://doi.org/10.1186/s13638-021-01910-w"
   ]
  }
 ],
 "metadata": {
  "kernelspec": {
   "display_name": "chemo",
   "language": "python",
   "name": "python3"
  },
  "language_info": {
   "codemirror_mode": {
    "name": "ipython",
    "version": 3
   },
   "file_extension": ".py",
   "mimetype": "text/x-python",
   "name": "python",
   "nbconvert_exporter": "python",
   "pygments_lexer": "ipython3",
   "version": "3.8.17"
  }
 },
 "nbformat": 4,
 "nbformat_minor": 4
}
