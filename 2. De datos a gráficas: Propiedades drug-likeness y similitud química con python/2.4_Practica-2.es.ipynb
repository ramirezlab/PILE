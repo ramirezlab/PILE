{
 "cells": [
  {
   "cell_type": "markdown",
   "metadata": {},
   "source": [
    "# Práctica 2: Detección basada en ligandos: similitud de compuestos y agrupamiento de compuestos\n",
    "\n",
    "> **Note:** Este libro esta disponible de dos maneras: \n",
    "> 1. Descargando el repositorio y siguiendo las instrucciones que estan en el archivo [README.md](https://github.com/ramirezlab/PILE/blob/main/README.md)\n",
    "> 2. Haciendo clic aquí en [![Open In Colab](https://colab.research.google.com/assets/colab-badge.svg)](https://colab.research.google.com/github/ramirezlab/PILE/blob/main/2.%20De%20datos%20a%20gráficas%3A%20Propiedades%20drug-likeness%20y%20similitud%20química%20con%20python/2.4_Practica-2.es.ipynb?hl=es)\n",
    "\n",
    "## Teoría\n",
    "\n",
    "### **Huellas dactilares moleculares**\n",
    "Las huellas dactilares moleculares son herramientas quimioinformáticas esenciales para el cribado virtual y el mapeo del espacio químico. Esta es una forma de describir una estructura molecular que puede convertir una estructura molecular en una cadena de bits<sup> **1** </sup>. Cada bit corresponde a una característica o entorno molecular predefinido, donde \"1\" representa la presencia y \"0\" la ausencia de una característica. Dado que la huella digital molecular codifica la estructura de una molécula, es un método útil para describir la similitud estructural entre las moléculas como un descriptor molecular.\n",
    "\n",
    "#### **Huellas dactilares de Morgan**\n",
    "La huella digital molecular más popular es la huella dactilar de Morgan que se basa en el algoritmo de Morgan. Estos bits generados por algoritmos corresponden a los entornos circulares de cada átomo en una molécula y el número de enlaces y átomos vecinos a considerar está establecido por el radio, que son predictivos de las actividades biológicas de las moléculas orgánicas pequeñas<sup> **2** </sup>.\n",
    "\n",
    "### **Medida de similitud molecular: coeficiente de Tanimoto**\n",
    "Dos de estas huellas dactilares se comparan más comúnmente con la métrica de similitud de Tanimoto. Estas métricas toman un valor entre 0 y 1, correspondiendo 1 a huellas dactilares idénticas<sup> **3** </sup>.\n",
    "\n",
    "\n",
    "<img src=\"img/Coeficiente de tanimoto-es.jpg\" alt=\"Tanimoto-coefficient\" width=\"800\"/>\n",
    "\n",
    "### **Agrupación**\n",
    "Es la tarea de agrupar un conjunto de objetos de tal manera que los objetos del mismo grupo (llamado clúster) sean más similares entre sí que a los de otros grupos (clusters). La agrupación de compuestos en la investigación farmacéutica a menudo se basa en la similitud química o estructural entre compuestos para encontrar grupos que comparten propiedades.\n",
    "\n",
    "Hay [pasos clave](https://www.sciencedirect.com/science/article/pii/B008045044X001474) en el enfoque de agrupación que seguiremos:\n",
    "\n",
    "**1. Preparación de datos y codificación compuesta:**\n",
    "\n",
    "- Los compuestos en los datos de entrada se codificarán como huellas dactilares moleculares.\n",
    "    \n",
    "**2. Matriz de similitud (o distancia) de Tanimoto:**\n",
    "\n",
    "- La similitud entre dos huellas dactilares se calcula mediante el coeficiente de Tanimoto.\n",
    "- Matriz con similitudes de Tanimoto entre todos los posibles pares de moléculas/huellas dactilares (matriz de similitud n * n con = número de moléculas, solo se usa la matriz del triángulo superior).\n",
    "- Igualmente, se puede calcular la matriz de distancias (1 - semejanza).\n",
    "    \n",
    "**3. Agrupación de moléculas**\n",
    "\n",
    "- El resultado de la agrupación depende del umbral elegido por el usuario:\n",
    "    - Cuanto menor sea el valor de corte de la distancia, más similares se requieren los compuestos para pertenecer a un grupo.\n",
    "    - Cuanto mayor sea el umbral (corte de distancia), más moléculas se considerarán similares, tendrá menos grupos.\n",
    "    - Cuanto más bajo es el umbral, más pequeños grupos y \"singletons\" aparecen."
   ]
  },
  {
   "cell_type": "markdown",
   "metadata": {},
   "source": [
    "## Planteamiento del problema\n",
    "Tenemos un conjunto de datos con muchos compuestos y queremos agruparlos porque compuestos similares pueden unirse a los mismos objetivos y mostrar efectos similares. A partir de dicha agrupación, también se puede seleccionar un conjunto diverso de compuestos de un conjunto más grande de compuestos de detección para realizar más pruebas experimentales."
   ]
  },
  {
   "cell_type": "code",
   "execution_count": null,
   "metadata": {
    "ExecuteTime": {
     "end_time": "2023-04-11T17:05:31.662207Z",
     "start_time": "2023-04-11T17:05:31.556355Z"
    }
   },
   "outputs": [],
   "source": [
    "# Importar librerias necesarias para ejecutar este cuaderno\n",
    "!pip install rdkit\n",
    "from pathlib import Path\n",
    "import seaborn as sns\n",
    "import pandas as pd\n",
    "import numpy as np\n",
    "import matplotlib.pyplot as plt\n",
    "from scipy.cluster.hierarchy import linkage, dendrogram, fcluster\n",
    "from rdkit import Chem, DataStructs\n",
    "from rdkit.ML.Cluster import Butina\n",
    "from rdkit.Chem import (\n",
    "    PandasTools,\n",
    "    Draw,\n",
    "    Descriptors,\n",
    "    rdFingerprintGenerator,\n",
    ")"
   ]
  },
  {
   "cell_type": "markdown",
   "metadata": {},
   "source": [
    "# Ejemplo 1: Comparar una molécula con un conjunto de datos\n",
    "\n",
    "Inicialmente, queremos comparar una molécula de consulta con todas las moléculas del conjunto de datos que contiene los compuestos bioactivos contra la *glucógeno sintasa quinasa-3 beta*. En este caso la molécula de consulta es **Ruboxistaurin**, queremos buscar moléculas similares.\n",
    "\n",
    "## Paso 1: Cargar conjunto de datos\n",
    "El conjunto de datos que contiene los compuestos bioactivos contra la *glucógeno sintasa quinasa-3 beta* lo construimos en el tutorial 2.1_Dataframes."
   ]
  },
  {
   "cell_type": "code",
   "execution_count": null,
   "metadata": {},
   "outputs": [],
   "source": [
    "import pandas as pd\n",
    "\n",
    "# URL del archivo CSV\n",
    "csv_url = 'https://raw.githubusercontent.com/ramirezlab/PILE/refs/heads/main/2.%20De%20datos%20a%20gr%C3%A1ficas%3A%20Propiedades%20drug-likeness%20y%20similitud%20qu%C3%ADmica%20con%20python/data/compounds_P49841_full.csv'\n",
    "# Leer el archivo CSV desde la URL y extraer columnas específicas\n",
    "columnas_a_usar = [\"molecule_chembl_id\", \"smiles\"]\n",
    "molecule_dataset = pd.read_csv(csv_url, usecols=columnas_a_usar)\n",
    "\n",
    "# Imprimir el número total de compuestos y mostrar las primeras filas\n",
    "print(f'# total de compuestos: {len(molecule_dataset)}')\n",
    "molecule_dataset.head()"
   ]
  },
  {
   "cell_type": "markdown",
   "metadata": {},
   "source": [
    "## Paso 2: Generar el fingerprint de la molécula de consulta\n",
    "Para la molécula Ruboxistaurin, generramos el objeto ROMol a partir de SMILES."
   ]
  },
  {
   "cell_type": "code",
   "execution_count": null,
   "metadata": {
    "ExecuteTime": {
     "end_time": "2023-04-11T17:05:31.762820Z",
     "start_time": "2023-04-11T17:05:31.695149Z"
    }
   },
   "outputs": [],
   "source": [
    "from rdkit import Chem  # Asegúrate de haber importado Chem desde RDKit\n",
    "\n",
    "# Crear una molécula a partir de una cadena SMILES (Simplified Molecular Input Line Entry System)\n",
    "# Esta cadena representa la estructura química de la Ruboxistaurina, un inhibidor de la proteína quinasa C\n",
    "# RDKit interpreta la cadena SMILES y construye internamente un objeto de tipo Mol (molécula)\n",
    "query = Chem.MolFromSmiles(\"CN(C)CC1CCN2C=C(C3=CC=CC=C32)C4=C(C5=CN(CCO1)C6=CC=CC=C65)C(=O)NC4=O\")\n",
    "\n",
    "# Mostrar el objeto Mol generado. Este objeto puede ser utilizado en cálculos químicos,\n",
    "# búsquedas por subestructura, comparación de similitud, visualización, etc.\n",
    "query"
   ]
  },
  {
   "cell_type": "markdown",
   "metadata": {},
   "source": [
    "Luego generamos las huella dactilar de Morgan para la molécula de Ruboxistaurin"
   ]
  },
  {
   "cell_type": "code",
   "execution_count": null,
   "metadata": {
    "ExecuteTime": {
     "end_time": "2023-04-11T17:05:31.786769Z",
     "start_time": "2023-04-11T17:05:31.710632Z"
    }
   },
   "outputs": [],
   "source": [
    "\n",
    "# Genera el fingerprint circular (ECFP) para la molécula representada por 'query'.\n",
    "# GetFPs toma una lista de moléculas como entrada.  Aquí, se le pasa una lista\n",
    "# que contiene solo una molécula ('[query]').  El resultado es una lista de\n",
    "# fingerprints, incluso si solo se procesa una molécula.\n",
    "# [0] se utiliza para extraer el primer (y único) fingerprint de la lista resultante.\n",
    "circular_fp_query = rdFingerprintGenerator.GetFPs([query])[0]\n",
    "\n",
    "# Convierte el fingerprint circular, que está en un formato de objeto,\n",
    "# a una cadena de bits (una secuencia de 0s y 1s).\n",
    "# Esto permite ver el fingerprint como una representación de cadena.\n",
    "circular_fp_query.ToBitString()"
   ]
  },
  {
   "cell_type": "markdown",
   "metadata": {},
   "source": [
    "## Paso 3: Calcular las fingerprint del conjunto de datos\n",
    "Ahora generamos las huellas dactilares de Morgan para todas las moléculas en nuestro conjunto de datos."
   ]
  },
  {
   "cell_type": "code",
   "execution_count": null,
   "metadata": {
    "ExecuteTime": {
     "end_time": "2023-04-11T17:05:32.576866Z",
     "start_time": "2023-04-11T17:05:32.312664Z"
    }
   },
   "outputs": [],
   "source": [
    "# Añade una columna llamada \"ROMol\" al DataFrame molecule_dataset.\n",
    "# Esta columna contiene objetos Mol de RDKit generados a partir de las cadenas SMILES\n",
    "# en la columna \"smiles\" del DataFrame.\n",
    "PandasTools.AddMoleculeColumnToFrame(molecule_dataset, \"smiles\")\n",
    "\n",
    "# Genera una lista de fingerprints circulares (ECFP) para las moléculas\n",
    "# en el DataFrame molecule_dataset.\n",
    "# molecule_dataset[\"ROMol\"] accede a la columna \"ROMol\" (que contiene objetos Mol de RDKit).\n",
    "# .tolist() convierte esta columna en una lista de Python de objetos Mol de RDKit, que es\n",
    "# la entrada esperada para rdFingerprintGenerator.GetFPs().\n",
    "# El resultado, circular_fp_list, es una lista de objetos fingerprint.\n",
    "circular_fp_list = rdFingerprintGenerator.GetFPs(molecule_dataset[\"ROMol\"].tolist())\n"
   ]
  },
  {
   "cell_type": "markdown",
   "metadata": {},
   "source": [
    "## Paso 4: Calculamos la similitud entre la molécula y el conjunto de datos\n",
    "Calculamos la similitud de Tanimoto entre la molécula Ruboxistaurin y todas las moléculas de nuestro conjunto de datos utilizando las huellas dactilares de Morgan"
   ]
  },
  {
   "cell_type": "code",
   "execution_count": null,
   "metadata": {
    "ExecuteTime": {
     "end_time": "2023-04-11T17:05:32.633014Z",
     "start_time": "2023-04-11T17:05:32.568876Z"
    }
   },
   "outputs": [],
   "source": [
    "# Calcula la similitud de Tanimoto entre la huella digital de la consulta y las huellas digitales de las moléculas en el DataFrame\n",
    "molecule_dataset[\"tanimoto_morgan\"] = DataStructs.BulkTanimotoSimilarity(circular_fp_query, circular_fp_list)\n",
    "\n",
    "# Muestra las primeras filas con el identificador ChEMBL de la molécula y su similitud de Tanimoto\n",
    "molecule_dataset[[\"molecule_chembl_id\", \"tanimoto_morgan\"]].head()"
   ]
  },
  {
   "cell_type": "markdown",
   "metadata": {},
   "source": [
    "Ahora podemos organizar los valores para identificar las moléculas más similares a la Ruboxistaurin"
   ]
  },
  {
   "cell_type": "code",
   "execution_count": null,
   "metadata": {
    "ExecuteTime": {
     "end_time": "2023-04-11T17:05:32.634027Z",
     "start_time": "2023-04-11T17:05:32.616059Z"
    }
   },
   "outputs": [],
   "source": [
    "# Ordena el DataFrame molecule_dataset en orden descendente según los valores de la columna \"tanimoto_morgan\".\n",
    "# El argumento 'by' especifica la columna para ordenar, 'ascending=False' indica orden descendente,\n",
    "# e 'inplace=True' modifica el DataFrame original en lugar de devolver uno nuevo.\n",
    "molecule_dataset.sort_values(by = [\"tanimoto_morgan\"], ascending=False, inplace=True)\n",
    "# Devuelve las primeras 5 filas del DataFrame molecule_dataset ordenado.\n",
    "# Esto permite inspeccionar las moléculas con los valores más altos de \"tanimoto_morgan\".\n",
    "molecule_dataset.head(5)\n",
    "\n"
   ]
  },
  {
   "cell_type": "markdown",
   "metadata": {},
   "source": [
    "Finalmente, podemos ver la molécula Ruboxistaurin y las cinco moléculas más parecidas del conjunto de datos"
   ]
  },
  {
   "cell_type": "code",
   "execution_count": null,
   "metadata": {
    "ExecuteTime": {
     "end_time": "2023-04-11T17:05:32.707926Z",
     "start_time": "2023-04-11T17:05:32.665927Z"
    }
   },
   "outputs": [],
   "source": [
    "# Establece la variable top_n_molecules en 5, indicando que se seleccionarán las 5 moléculas principales.\n",
    "top_n_molecules = 5\n",
    "\n",
    "# Crea un nuevo DataFrame, top_molecules, que contiene las primeras 5 filas de molecule_dataset.\n",
    "# Esto selecciona las 5 moléculas con los valores más altos de \"tanimoto_morgan\" (debido a la ordenación anterior).\n",
    "top_molecules = molecule_dataset[:top_n_molecules]\n",
    "\n",
    "legends = [\n",
    "    f\"#{index} {molecule['molecule_chembl_id']}\"\n",
    "    for index, molecule in top_molecules.iterrows()\n",
    "]\n",
    "# Crea una lista de leyendas para las moléculas que se van a dibujar.\n",
    "# Itera sobre las filas del DataFrame top_molecules.\n",
    "# Para cada molécula, formatea una cadena que incluye el índice de la fila y el valor de la columna 'molecule_chembl_id'.\n",
    "# Esta lista se usará para etiquetar las moléculas en la imagen de la cuadrícula.\n",
    "\n",
    "Chem.Draw.MolsToGridImage(\n",
    "    mols=[query] + top_molecules[\"ROMol\"].tolist(),\n",
    "    # Genera una imagen de cuadrícula que muestra las moléculas.\n",
    "    # 'mols' es una lista de objetos Mol de RDKit para dibujar.\n",
    "    #  [query] es la molécula de referencia.\n",
    "    #  top_molecules[\"ROMol\"].tolist() es la lista de objetos Mol de las 5 moléculas más similares.\n",
    "    legends=([\"Ruboxistaurin\"] + legends),\n",
    "    # 'legends' es una lista de cadenas para etiquetar cada molécula en la cuadrícula.\n",
    "    #  [\"Ruboxistaurin\"] es la etiqueta para la molécula de referencia ('query').\n",
    "    molsPerRow=4,\n",
    "    # 'molsPerRow' especifica el número de moléculas por fila en la cuadrícula.\n",
    "    subImgSize=(250, 270),\n",
    "    # 'subImgSize' especifica el tamaño de cada subimagen (molécula) en la cuadrícula.\n",
    ")\n",
    "# Genera la imagen de la cuadrícula usando la función MolsToGridImage de RDKit."
   ]
  },
  {
   "cell_type": "markdown",
   "metadata": {},
   "source": [
    "## Distribución de similitud\n",
    "Para ver gráficamente la distribución de la similitud de Tanimoto, podemos hacer un histograma, recordemos que entre más cerca sea el número a 1, más similares son las moléculas."
   ]
  },
  {
   "cell_type": "code",
   "execution_count": null,
   "metadata": {
    "ExecuteTime": {
     "end_time": "2023-04-11T17:05:32.967576Z",
     "start_time": "2023-04-11T17:05:32.678891Z"
    }
   },
   "outputs": [],
   "source": [
    "# Configurar la figura de Matplotlib con un tamaño de 10x6\n",
    "fig, axes = plt.subplots(figsize=(10, 6), nrows=1, ncols=1)\n",
    "\n",
    "# Generar un histograma de los valores de similitud de Tanimoto en la columna \"tanimoto_morgan\"\n",
    "# Puedes ver más nombres de colores en el enlace: https://www.w3schools.com/colors/colors_names.asp\n",
    "molecule_dataset.hist([\"tanimoto_morgan\"], ax=axes, color=\"darkorchid\")\n",
    "\n",
    "# Etiqueta del eje X\n",
    "axes.set_xlabel(\"Valor de similitud\")\n",
    "\n",
    "# Etiqueta del eje Y\n",
    "axes.set_ylabel(\"# moléculas\")\n",
    "\n",
    "# Mostrar la figura\n",
    "fig;"
   ]
  },
  {
   "cell_type": "markdown",
   "metadata": {},
   "source": [
    "También podemos hacer un histograma con una curva de estimaciones de densidad kernel usando seaborn. Con este gráfico, podemos ver la manera como se distribuye el conjunto de datos."
   ]
  },
  {
   "cell_type": "code",
   "execution_count": null,
   "metadata": {
    "ExecuteTime": {
     "end_time": "2023-04-11T17:05:33.410140Z",
     "start_time": "2023-04-11T17:05:32.960583Z"
    }
   },
   "outputs": [],
   "source": [
    "# Generar un gráfico de distribución (displot) con la densidad de kernel (kde) habilitada\n",
    "# Configurar la altura en 8 y la relación de aspecto en 2 para una visualización más amplia\n",
    "# Se usa el color \"darkorchid\" para el gráfico\n",
    "sns.displot(data=molecule_dataset[\"tanimoto_morgan\"], kde=True, height=8, aspect=2, color=\"darkorchid\")"
   ]
  },
  {
   "cell_type": "markdown",
   "metadata": {},
   "source": [
    "# Ejemplo 2: Agrupación jerárquica (hierarchical clustering)\n",
    "El agrupamiento jerárquico (**Hierarchical Clustering** en inglés), es un método comúnmente utilizado para agrupar datos con características similares (los grupos de datos se llaman **clústers**)<sup> **4**</sup>.\n",
    "\n",
    "El algortimo de agrupamiento jerárquico agrupa los datos basándose en la distancia entre cada uno y buscando que los datos que están dentro de un clúster sean los más similares entre sí. Para nuestro caso, podemos agrupar los compuestos más similares de acuerdo a la distancia de Tanimonoto.\n",
    "\n",
    "Inicialmente, vamos a utilizar el **agrupamiento tipo Aglomerativo** el cual inicia con cada compuesto como un clúster separado. A cada paso, los dos clústers más cercanos se fusionan creando un nuevo clúster. Estas fusiones se siguen produciendo de manera sucesiva hasta que al final del proceso solo queda un único clúster que aglomera todos los elementos.\n",
    "\n",
    "Otro aspecto a tener en cuenta es la forma como se mide la **distancia** entre dos clústers, por definición se utiliza la * distancia euclidiana*, pero los algoritmos permiten modificar esta métrica."
   ]
  },
  {
   "cell_type": "markdown",
   "metadata": {},
   "source": [
    "## Preparación de datos\n",
    "\n",
    "Iniciamos cargando el conjunto de datos que contiene los compuestos bioactivos contra la *glucógeno sintasa quinasa-3 beta* lo construimos en el tutorial 2.1_Dataframes.\n",
    "\n",
    "A partir de los SMILES creamos los objetos *ROMol* y las *fingerprints* de cada compuesto"
   ]
  },
  {
   "cell_type": "code",
   "execution_count": null,
   "metadata": {
    "ExecuteTime": {
     "end_time": "2023-04-11T17:05:34.467655Z",
     "start_time": "2023-04-11T17:05:33.411137Z"
    }
   },
   "outputs": [],
   "source": [
    "# Lee un archivo CSV desde una URL de GitHub y lo carga en un DataFrame de Pandas.\n",
    "# El archivo contiene datos de compuestos, y solo se leen las columnas 'molecule_chembl_id' y 'smiles'.\n",
    "molecule_dataset = pd.read_csv('https://raw.githubusercontent.com/ramirezlab/PILE/refs/heads/main/2.%20De%20datos%20a%20gr%C3%A1ficas%3A%20Propiedades%20drug-likeness%20y%20similitud%20qu%C3%ADmica%20con%20python/data/compounds_P49841_full.csv', usecols=[\"molecule_chembl_id\", \"smiles\"])\n",
    "\n",
    "# Imprime el número total de compuestos (filas) en el DataFrame molecule_dataset.\n",
    "print(f'# total de compuestos: {len(molecule_dataset)}')\n",
    "\n",
    "# Añade una columna llamada \"ROMol\" al DataFrame molecule_dataset.\n",
    "# Esta columna contiene objetos Mol de RDKit, que son representaciones de las moléculas\n",
    "# obtenidas a partir de las cadenas SMILES en la columna \"smiles\".\n",
    "PandasTools.AddMoleculeColumnToFrame(molecule_dataset, \"smiles\") # add ROMol\n",
    "\n",
    "# Genera una lista de fingerprints de Morgan (ECFP) para las moléculas en el DataFrame.\n",
    "# Primero, se extrae la columna \"ROMol\" del DataFrame, que contiene los objetos Mol de RDKit.\n",
    "# .tolist() se utiliza para convertir la columna en una lista de objetos Mol.\n",
    "# rdFingerprintGenerator.GetFPs() genera los fingerprints para cada molécula en la lista.\n",
    "morgan_fp_list = rdFingerprintGenerator.GetFPs(molecule_dataset[\"ROMol\"].tolist()) # Morrgan FP\n",
    "\n",
    "# Añade una nueva columna llamada \"morgan_fp\" al DataFrame molecule_dataset.\n",
    "# Esta columna contiene los fingerprints de Morgan generados en el paso anterior.\n",
    "molecule_dataset['morgan_fp'] = morgan_fp_list\n",
    "\n",
    "# Imprime las primeras 5 filas del DataFrame molecule_dataset.\n",
    "# Esto permite ver las columnas y los primeros datos, incluyendo la nueva columna \"morgan_fp\".\n",
    "molecule_dataset.head()"
   ]
  },
  {
   "cell_type": "markdown",
   "metadata": {},
   "source": [
    "## Matriz de la similitud de Tanimoto\n",
    "Similar a lo trabajado en el ejemplo 1, vamos a encontrar la similitud de cada molécula con el resto de moléculas del conjunto.\n",
    "\n",
    "Vamos a crear una función cuya entrada es el conjunto de *fingerprints* de los compuestos, y cuya salida es la matriz de similitud de Tanimoto, donde se mide la similitud entre dos compuestos."
   ]
  },
  {
   "cell_type": "code",
   "execution_count": null,
   "metadata": {
    "ExecuteTime": {
     "end_time": "2023-04-11T17:05:34.529090Z",
     "start_time": "2023-04-11T17:05:34.469668Z"
    }
   },
   "outputs": [],
   "source": [
    "def tanimoto_matrix(fp_list):\n",
    "    # Crear una matriz identidad\n",
    "    N = len(fp_list)\n",
    "    similarity_matrix = np.identity(N)\n",
    "    # índices de las posiciones de la matriz triangular inferior\n",
    "    a, b = np.tril_indices(N, 0)\n",
    "    similarities = list()\n",
    "    for ind, i in enumerate(fp_list):\n",
    "        # Compare el fingerprint actual con todos los anteriores en la lista\n",
    "        similarities = np.append(similarities, DataStructs.BulkTanimotoSimilarity(i, fp_list[:ind+1]))\n",
    "        # Armar la matriz de distancia\n",
    "    similarity_matrix[a,b] = similarities\n",
    "    similarity_matrix[b,a] = similarity_matrix[a,b]\n",
    "    return similarity_matrix"
   ]
  },
  {
   "cell_type": "markdown",
   "metadata": {},
   "source": [
    "### Agrupamiento de diez moléculas\n",
    "Para entender el proceso de agrupamiento vamos a trabajar solamente con las primeras diez moléculas del conjunto. Comenzamos creando una lista con los fingerprints de las diez moléculas."
   ]
  },
  {
   "cell_type": "code",
   "execution_count": null,
   "metadata": {
    "ExecuteTime": {
     "end_time": "2023-04-11T17:05:34.561004Z",
     "start_time": "2023-04-11T17:05:34.484665Z"
    }
   },
   "outputs": [],
   "source": [
    "# Seleccionar los primeros 10 fingerprints de la lista de huellas digitales de Morgan\n",
    "list_fingerprints = morgan_fp_list[0:10]"
   ]
  },
  {
   "cell_type": "markdown",
   "metadata": {},
   "source": [
    "Ahora, encontramos la matriz de similitud de tanimoto con los diez fingerprints"
   ]
  },
  {
   "cell_type": "code",
   "execution_count": null,
   "metadata": {
    "ExecuteTime": {
     "end_time": "2023-04-11T17:05:34.561004Z",
     "start_time": "2023-04-11T17:05:34.500627Z"
    }
   },
   "outputs": [],
   "source": [
    "# Calcular la matriz de similitud de Tanimoto solo para los primeros 10 compuestos\n",
    "similarity_matrix = tanimoto_matrix(list_fingerprints)\n",
    "\n",
    "# Mostrar la matriz de similitud\n",
    "similarity_matrix"
   ]
  },
  {
   "cell_type": "markdown",
   "metadata": {},
   "source": [
    "Podemos representarla por medio de un mapa de calor:"
   ]
  },
  {
   "cell_type": "code",
   "execution_count": null,
   "metadata": {
    "ExecuteTime": {
     "end_time": "2023-04-11T17:05:34.957033Z",
     "start_time": "2023-04-11T17:05:34.517122Z"
    }
   },
   "outputs": [],
   "source": [
    "similarity_matrix = tanimoto_matrix(list_fingerprints) # Solo para los 10 primeros compuestos\n",
    "ax = sns.heatmap(similarity_matrix, annot=True, fmt='.2f', cmap=\"vlag\") # annot= True imprime el coeficiente de Tanimoto y fmt='.2f' me da solo dos decimales\n",
    "ax.set(xlabel=\"\", ylabel=\"\")\n",
    "ax.xaxis.tick_top()"
   ]
  },
  {
   "cell_type": "markdown",
   "metadata": {},
   "source": [
    "#### Agrupamiento por distancias\n",
    "Como lo explicamos inicialmente, el **agrupamiento por aglomeración** consiste en fusionar consecutivamente aquellos clústers que estén más cercados, para entender el agrupamiento podemos utilizar el método [`linkage`](https://docs.scipy.org/doc/scipy/reference/generated/scipy.cluster.hierarchy.linkage.html#scipy.cluster.hierarchy.linkage), el cual crea una *matriz de enlace* (linkage matrix) con el orden con el cual se agruparon los diferentes clústers (por defecto, la metrica de medida es la *distancia euclideana* y el método de agrupamiento es el *punto más cercano*), nosotros vamos a trabajar con la distancia media de los elementos del agrupamiento (*average*)."
   ]
  },
  {
   "cell_type": "code",
   "execution_count": null,
   "metadata": {
    "ExecuteTime": {
     "end_time": "2023-04-11T17:05:35.059279Z",
     "start_time": "2023-04-11T17:05:34.957033Z"
    }
   },
   "outputs": [],
   "source": [
    "# Realizar el clustering jerárquico utilizando el método de enlace promedio (average linkage)\n",
    "# 'similarity_matrix' es la matriz de similitud de Tanimoto calculada previamente\n",
    "Z = linkage(similarity_matrix, method='average')\n",
    "\n",
    "# Mostrar la estructura del clustering jerárquico resultante\n",
    "Z"
   ]
  },
  {
   "cell_type": "markdown",
   "metadata": {},
   "source": [
    "En la *i-ésima* fila, `Z[i,0]` y `Z[i,1]` indican los clusters que son combinaron para formar el clúster $n+i$. `Z[i,2]` indica la distancia entre los clústers y `Z[i,3]` representa el número de compuestos del nuevo clúster.\n",
    "Recordemos que iniciamos con diez clústers enumerados del 0 al 9 (las diez moléculas iniciales), así, las filas de la matriz de enlace Z son:\n",
    "- **fila-0**: Se crea el clúster 10, conformado por la molécula 1 (clúster 1) y la mólecula 5 (clúster 5), la distancia entre el clúster 1 y 5 es de 0.235548, y el nuevo clúster tiene 2 moléculas\n",
    "- **fila-1**: Se crea el clúster 11, conformado por la molécula 8 (clúster 8) y la mólecula 9 (clúster 9), la distancia entre el clúster 8 y 9 es de 0.343349, y el nuevo clúster tiene 2 moléculas\n",
    "- **fila-2**: Se crea el clúster 12, conformado por la molécula 2 (clúster 2) y la mólecula 7 (clúster 7), la distancia entre el clúster 2 y 7 es de 0.364662, y el nuevo clúster tiene 2 moléculas\n",
    "- **fila-3**: Se crea el clúster 13, conformado por la molécula 4 (clúster 4) y el clúster 10 (creado en la **fila-0**), la distancia entre el clúster 4 y 10 es de 0.500123, y el nuevo clúster tiene 3 moléculas\n",
    "- **fila-4**: Se crea el clúster 14, conformado por el clúster 11 (creado en la **fila-1**) y el clúster 12 (creado en la **fila-2**), la distancia entre el clúster 11 y 12 es de 0.571593, y el nuevo clúster tiene 4 moléculas\n",
    "- **fila-5**: Se crea el clúster 15, conformado por la molécula 0 (clúster 0) y la mólecula 6 (clúster 6), la distancia entre el clúster 0 y 6 es de 0.639747, y el nuevo clúster tiene 2 moléculas\n",
    "- **fila-6**: Se crea el clúster 16, conformado por la molécula 3 (clúster 3) y el clúster 15 (creado en la **fila-5**), la distancia entre el clúster 3 y 15 es de 1.084561, y el nuevo clúster tiene 3 moléculas\n",
    "- **fila-7**: Se crea el clúster 17, conformado por el clúster 13 (creado en la **fila-3**) y el clúster 16 (creado en la **fila-6**), la distancia entre el clúster 13 y 16 es de 1.555059, y el nuevo clúster tiene 6 moléculas\n",
    "- **fila-8**: Se crea el clúster 18, conformado por el clúster 14 (creado en la **fila-4**) y el clúster 17 (creado en la **fila-17**), la distancia entre el clúster 14 y 17 es de 1.611812, y el nuevo clúster tiene 10 moléculas"
   ]
  },
  {
   "cell_type": "markdown",
   "metadata": {},
   "source": [
    "#### Representación: el *dendograma*\n",
    "La manera de representar un agrupamiento jerárquico es con un dendrograma"
   ]
  },
  {
   "cell_type": "code",
   "execution_count": null,
   "metadata": {
    "ExecuteTime": {
     "end_time": "2023-04-11T17:05:35.158846Z",
     "start_time": "2023-04-11T17:05:34.971992Z"
    }
   },
   "outputs": [],
   "source": [
    "# Generar el dendrograma a partir de la matriz de clustering 'Z'\n",
    "dn = dendrogram(Z)"
   ]
  },
  {
   "cell_type": "markdown",
   "metadata": {},
   "source": [
    "Las líneas verticales del dendrograma ilustran las fusiones (o divisiones) realizadas en cada etapa del agrupamiento. Podemos ver la distancia, los distintos niveles de asociaciones entre los datos individuales y también las asociaciones entre clústers. Recordemos que la distancia utilizada fue la euclidiana, la cual podemos modificar cuando armamos Z."
   ]
  },
  {
   "cell_type": "markdown",
   "metadata": {},
   "source": [
    "#### Clustermap\n",
    "Todo lo anterior se puede organizar en una matriz y graficar por medio de un mapa de calor de agrupamiento jerárquico, note que el orden de los compuestos no necesariamente es el mismo orden que el del dendograma"
   ]
  },
  {
   "cell_type": "code",
   "execution_count": null,
   "metadata": {
    "ExecuteTime": {
     "end_time": "2023-04-11T17:05:35.802237Z",
     "start_time": "2023-04-11T17:05:35.161823Z"
    }
   },
   "outputs": [],
   "source": [
    "# Crear un clustermap (mapa de calor con clustering jerárquico) basado en la matriz de similitud de Tanimoto\n",
    "g = sns.clustermap(similarity_matrix, method='average',\n",
    "                   cmap=\"vlag\",  # Mapa de colores\n",
    "                   dendrogram_ratio=(.1, .2),  # Proporción del dendrograma en los ejes (filas, columnas)\n",
    "                   linewidths=.5)  # Grosor de las líneas de separación en el mapa de calor\n",
    "\n",
    "# Eliminar el dendrograma de las filas para una visualización más clara\n",
    "g.ax_row_dendrogram.remove()"
   ]
  },
  {
   "cell_type": "markdown",
   "metadata": {},
   "source": [
    "#### Umbral de agrupamiento\n",
    "Podemos utilizar la distancia entre los clústers como **límite** para agrupar los compuestos, por ejemplo, si elegimos agrupar con una distancia es menor o igual que 0.6, se formarían 5 grupos con los siguientes compuestos:\n",
    "- Clúster-1: (1, 4, 8, 9)\n",
    "- Clúster-2: (7, 2, 5)\n",
    "- Clúster-3: 3\n",
    "- Clúster-4: 0\n",
    "- Clúster-5: 6\n",
    "\n",
    "El método ['fcluster'](https://docs.scipy.org/doc/scipy/reference/generated/scipy.cluster.hierarchy.fcluster.html#scipy.cluster.hierarchy.fcluster) organiza un arreglo de $n$ elementos, donde cada elemento indica número del clúster al que pertenece el compuesto de esa posición"
   ]
  },
  {
   "cell_type": "code",
   "execution_count": null,
   "metadata": {
    "ExecuteTime": {
     "end_time": "2023-04-11T17:05:35.816674Z",
     "start_time": "2023-04-11T17:05:35.803234Z"
    }
   },
   "outputs": [],
   "source": [
    "# Realizar el clustering jerárquico sobre la matriz de similitud de Tanimoto\n",
    "Z = linkage(similarity_matrix)\n",
    "\n",
    "# Obtener los clusters a partir de la matriz de enlace Z\n",
    "# 't=0.6' define el umbral de distancia para la formación de clusters\n",
    "# 'criterion=\"distance\"' indica que se usará la distancia de enlace para definir los clusters\n",
    "fcluster(Z, t=0.6, criterion='distance')"
   ]
  },
  {
   "cell_type": "markdown",
   "metadata": {},
   "source": [
    "### Algoritmo de agrupamiento *Butina*: Centroides y esferas de exclusión\n",
    "Un algoritmo utilizado comunmente para agrupar moléculas es el conocido como el *algortimo de agrupamiento Butina* (Butina clustering algorithm)<sup> **5** </sup>\n",
    "\n",
    "Podemos utilizar la librería `rdkit` para implementar este algorítmo (`Butina.ClusterData`). Como entrada se necesita una lista con las distancias de Tanimoto de los compuestos. Esta lista la podemos encontrar a partir de la matriz de similitud de Tanimoto donde las distancias se pueden hallar con la fórmula $distancia = 1 - similitud$.\n",
    "\n",
    "Para armar la lista podemos utilizar la función de la matriz de tanimoto, separar solamente los elementos que están debajo de la diagonal principal y hallar la distancia"
   ]
  },
  {
   "cell_type": "code",
   "execution_count": null,
   "metadata": {
    "ExecuteTime": {
     "end_time": "2023-04-11T17:05:35.966814Z",
     "start_time": "2023-04-11T17:05:35.818669Z"
    }
   },
   "outputs": [],
   "source": [
    "similarity_matrix = tanimoto_matrix(list_fingerprints)  # Matriz de similitud\n",
    "a, b = np.tril_indices(len(list_fingerprints), -1)  # índices de los elementos debajo de la diagonal principal\n",
    "dist_similarity_matrix = 1 - similarity_matrix[a, b]  # distancias de los compuestos"
   ]
  },
  {
   "cell_type": "markdown",
   "metadata": {},
   "source": [
    "Ahora escogemos un umbral de distancia para realizar el agrupamiento, por ejemplo, si escogemos como umbral 0.4, se obtienen cinco clústers."
   ]
  },
  {
   "cell_type": "code",
   "execution_count": null,
   "metadata": {
    "ExecuteTime": {
     "end_time": "2023-04-11T17:05:35.966814Z",
     "start_time": "2023-04-11T17:05:35.835642Z"
    }
   },
   "outputs": [],
   "source": [
    "# Aplicar el algoritmo de clustering de Butina basado en la matriz de similitud\n",
    "# 'dist_similarity_matrix' es la matriz de similitud de Tanimoto transformada en una matriz de distancia\n",
    "# 'len(list_fingerprints)' es el número total de fingerprints a considerar\n",
    "# 'distThresh=0.4' establece un umbral de distancia para definir los clusters\n",
    "# 'isDistData=True' indica que los datos de entrada son una matriz de distancias\n",
    "clusters = Butina.ClusterData(dist_similarity_matrix, len(list_fingerprints), distThresh=0.4, isDistData=True)\n",
    "\n",
    "# Ordenar los clusters por tamaño en orden descendente (los más grandes primero)\n",
    "clusters = sorted(clusters, key=len, reverse=True)\n",
    "\n",
    "# Mostrar los clusters obtenidos\n",
    "clusters\n"
   ]
  },
  {
   "cell_type": "markdown",
   "metadata": {},
   "source": [
    "**Observación**: Aunque el agrupamiento es similar al encontrado con el método `fcluster` note que el umbral utilizado es diferente, adicionalmente, el algoritmo de `Butina` determina el *centroide* del clúster, el cual será similar a cualquier otra molécula del clúster de acuerdo al valor del umbral dado. El primer elemento de cada clúster es el centroide."
   ]
  },
  {
   "cell_type": "markdown",
   "metadata": {},
   "source": [
    "## Método del codo (Elbow Method)\n",
    "Uno de los problemas que nos encontramos a la hora de aplicar el agrupamiento es la elección del número de Clusters. No existe un criterio objetivo ni ampliamente válido para la elección de un número óptimo de Clusters; pero tenemos que tener en cuenta, que una mala elección de los mismos puede dar lugar a realizar agrupaciones de datos muy heterogéneos (pocos Clusters); o datos, que siendo muy similares unos a otros los agrupemos en Clusters diferentes (muchos Clusters).\n",
    "\n",
    "El método del codo utiliza los valores de la inercia obtenidos tras aplicar el agrupamiento para diferentes números de clusters (desde 1 a N Clusters), siendo la **inercia** la *suma de las distancias al cuadrado de cada objeto del Cluster a su centroide*. Luego, podemos hallar el *promedio* de las inercias para cada N (comúnmente llamado *distorsión*) y representamos en una gráfica la distorsión respecto al número de clústers<sup> **6** </sup>. La gráfica nos dirve para apreciar el cambio y a partir de esta podemos estimar el número óptimo de clústers a seleccionar.\n",
    "\n",
    "Comenzamos definiendo una función que determine la inercia y distorsión, ya que vamos a utilizar el método de Butina para hacer el clústering, debemos tener en cuenta que este depende del *umbral de similitud* y a partir de este umbral se halla el número de clústers (entre más pequeño sea el umbral, más clústers, pues es menor la cantidad de moléculas similares)."
   ]
  },
  {
   "cell_type": "code",
   "execution_count": null,
   "metadata": {
    "ExecuteTime": {
     "end_time": "2023-04-11T17:05:35.966814Z",
     "start_time": "2023-04-11T17:05:35.852597Z"
    }
   },
   "outputs": [],
   "source": [
    "# Define una función llamada 'distorion_tanimoto' que calcula la distorsión de Tanimoto para un conjunto de clusters.\n",
    "def distorion_tanimoto(clusters, full_dataset):\n",
    "    # Inicializa una lista vacía llamada 'inertia' para almacenar las inercias de cada clúster.\n",
    "    inertia = list()\n",
    "\n",
    "    # Itera sobre cada clúster en la lista 'clusters'.\n",
    "    for cluster in clusters:\n",
    "        # Crea un subconjunto del DataFrame 'full_dataset' correspondiente a las moléculas en el clúster actual.\n",
    "        # 'cluster' contiene los índices de las moléculas pertenecientes al clúster.\n",
    "        # 'full_dataset.iloc[list(cluster)]' selecciona las filas del DataFrame usando estos índices.\n",
    "        cluster_dataset = full_dataset.iloc[list(cluster)]\n",
    "\n",
    "        # Selecciona el fingerprint de la primera molécula del clúster como el \"centroide\" del clúster.\n",
    "        circular_fp_query = cluster_dataset['morgan_fp'].iloc[0]\n",
    "\n",
    "        # Crea una lista de los fingerprints de todas las moléculas en el clúster.\n",
    "        circular_fp_list = list(cluster_dataset['morgan_fp'])\n",
    "\n",
    "        # Calcula el cuadrado de la distancia Tanimoto entre el centroide y cada molécula del clúster.\n",
    "        # DataStructs.BulkTanimotoSimilarity calcula la similitud Tanimoto entre el centroide y todos los demás.\n",
    "        # (1 - similitud) da la distancia, y luego se eleva al cuadrado.\n",
    "        sqrt_dist_to_centroid = (1 - np.array(DataStructs.BulkTanimotoSimilarity(circular_fp_query, circular_fp_list)))**2\n",
    "\n",
    "        # Calcula la suma de los cuadrados de las distancias de cada molécula al centroide del clúster.\n",
    "        # Esta suma representa la inercia del clúster, una medida de cuán dispersos están los puntos dentro del clúster.\n",
    "        inertia.append(sum(sqrt_dist_to_centroid))\n",
    "\n",
    "    # Calcula la media de las inercias de todos los clústeres.\n",
    "    # Esta media representa la distorsión total de la partición, una medida de cuán bien los clústeres representan los datos.\n",
    "    distortion = np.mean(inertia)\n",
    "    \n",
    "    # Devuelve el número de clústeres y la distorsión.\n",
    "    return len(clusters), distortion\n"
   ]
  },
  {
   "cell_type": "markdown",
   "metadata": {},
   "source": [
    "Ahora repetimos el proceso anterior, variando el umbral de similitud de 0 a 1 con pasos de 0.05 (*observe la linea 7: `np.arange(0,1,0.05)`*), luego creamos una tabla de resultados para poder graficarlos"
   ]
  },
  {
   "cell_type": "code",
   "execution_count": null,
   "metadata": {},
   "outputs": [],
   "source": [
    "# Inicializa una lista vacía llamada 'result' para almacenar los resultados del análisis de clustering.\n",
    "result = list()\n",
    "\n",
    "# Crea un subconjunto del DataFrame 'molecule_dataset' que contiene las primeras 10 moléculas.\n",
    "molecule_mini_dataset = molecule_dataset[:10]\n",
    "\n",
    "# Extrae la columna de fingerprints de Morgan ('morgan_fp') del subconjunto de datos y la asigna a la variable 'list_fingerprints'.\n",
    "list_fingerprints = molecule_mini_dataset['morgan_fp']\n",
    "\n",
    "# Calcula la matriz de similitud de Tanimoto entre los fingerprints en 'list_fingerprints' utilizando la función 'tanimoto_matrix'.\n",
    "# El resultado es una matriz cuadrada donde cada elemento (i, j) representa la similitud entre el fingerprint i y el fingerprint j.\n",
    "similarity_matrix = tanimoto_matrix(list_fingerprints)  # Matriz de similitud\n",
    "\n",
    "# Genera los índices de las posiciones que están por debajo de la diagonal principal de una matriz cuadrada.\n",
    "# 'a' contiene los índices de las filas, y 'b' contiene los índices de las columnas.\n",
    "# El argumento '-1' asegura que la diagonal principal no se incluya.\n",
    "a, b = np.tril_indices(len(list_fingerprints), -1)  # índices de los elementos debajo de la diagonal principal\n",
    "\n",
    "# Calcula la matriz de distancias a partir de la matriz de similitud.\n",
    "# La distancia se calcula como 1 - similitud.  Esto convierte las similitudes en distancias,\n",
    "# donde una similitud de 1 (máxima similitud) corresponde a una distancia de 0, y una similitud de 0\n",
    "# (mínima similitud) corresponde a una distancia de 1.  Luego, se seleccionan solo las distancias\n",
    "# correspondientes a la parte triangular inferior de la matriz (excluyendo la diagonal) usando los índices 'a' y 'b'.\n",
    "dist_similarity_matrix = 1 - similarity_matrix[a, b] # distancias de los compuestos\n",
    "\n",
    "# Itera sobre un rango de valores de umbral (cutoff) de 0 a 1 con un incremento de 0.05.\n",
    "for i in np.arange(0,1,0.05):\n",
    "    # Redondea el valor del umbral a 2 decimales.\n",
    "    cutoff = round(i,2)\n",
    "\n",
    "    # Realiza el clustering de Butina utilizando la matriz de distancias y el umbral actual.\n",
    "    # 'dist_similarity_matrix' contiene las distancias entre los compuestos.\n",
    "    # 'len(list_fingerprints)' es el número de compuestos.\n",
    "    # 'distThresh' es el umbral de distancia para formar los clusters.\n",
    "    # 'isDistData=True' indica que los datos de entrada son distancias, no similitudes.\n",
    "    clusters = Butina.ClusterData(dist_similarity_matrix,len(list_fingerprints), distThresh=cutoff, isDistData=True)\n",
    "\n",
    "    # Calcula el número de clusters ('n') y la distorsión ('dist') para el clustering actual.\n",
    "    # La distorsión es una medida de cuán bien los clusters representan los datos.\n",
    "    n, dist = distorion_tanimoto(clusters, molecule_mini_dataset)\n",
    "\n",
    "    # Agrega los resultados (cutoff, número de clusters, distorsión) a la lista 'result'.\n",
    "    result.append((cutoff, n, dist))\n",
    "\n",
    "# Crea un DataFrame de Pandas llamado 'table' a partir de la lista 'result'.\n",
    "# Las columnas del DataFrame son 'cutoff', 'N_clusters' y 'distortion'.\n",
    "table = pd.DataFrame(result, columns=['cutoff', 'N_clusters', 'distortion'])\n",
    "\n",
    "# Imprime el DataFrame 'table'.\n",
    "# Este DataFrame contiene los resultados del análisis de clustering para diferentes valores de umbral.\n",
    "print(table)\n"
   ]
  },
  {
   "cell_type": "code",
   "execution_count": null,
   "metadata": {
    "ExecuteTime": {
     "end_time": "2023-04-11T17:05:36.189833Z",
     "start_time": "2023-04-11T17:05:35.912946Z"
    }
   },
   "outputs": [],
   "source": [
    "# Graficar la distorsión promedio intra-cluster en función del número de clusters\n",
    "# ---------------------------------------------------------------\n",
    "# Este gráfico permite visualizar cómo cambia la distorsión (1 - similitud media)\n",
    "# al variar el número de clusters generados con diferentes umbrales de corte (cutoff).\n",
    "# Un buen valor de \"cutoff\" se encuentra típicamente donde se balancea\n",
    "# un número razonable de clusters con una baja distorsión.\n",
    "# ---------------------------------------------------------------\n",
    "table.plot(x='N_clusters', y='distortion')"
   ]
  },
  {
   "cell_type": "markdown",
   "metadata": {},
   "source": [
    "La gráfica muestra que cuando el número de clústers es `N=4` hay un cambio brusco (como si fuera el codo de un brazo), por tanto, podemos escoger este como el número óptimo de clústers. Al revisar la tabla vemos que el umbral que debemos escoger es `cutoff=0.45`."
   ]
  },
  {
   "cell_type": "markdown",
   "metadata": {},
   "source": [
    "## Agrupamiento jeráquico del total de datos\n",
    "Podemos utilizar lo aprendido con el agrupamiento de diez compuestos para representar el agrupamiento de todo el conjunto de compuestos.\n",
    "\n",
    "Iniciemos encontrando la matriz de similitud de Tanimoto, ya que son 2605 compuestos, la matriz de similitud tiene un tamaño de 2605 x 2605\n",
    "\n",
    "**Observación**: la variable *circular_fp_list* tiene la lista de todas las fingerprints de los compuestos"
   ]
  },
  {
   "cell_type": "code",
   "execution_count": null,
   "metadata": {
    "ExecuteTime": {
     "end_time": "2023-04-11T17:05:41.880036Z",
     "start_time": "2023-04-11T17:05:36.100845Z"
    }
   },
   "outputs": [],
   "source": [
    "# Calcular la matriz de similitud de Tanimoto para todas las moléculas en la lista de fingerprints\n",
    "# ----------------------------------------------------------------------------\n",
    "# Esta matriz es cuadrada (n x n), donde n es el número total de moléculas.\n",
    "# Cada elemento [i, j] de la matriz representa la similitud de Tanimoto entre la molécula i y la j.\n",
    "# La similitud de Tanimoto compara la superposición entre dos vectores binarios (fingerprints).\n",
    "# ----------------------------------------------------------------------------\n",
    "similarity_matrix_full = tanimoto_matrix(circular_fp_list)\n",
    "\n",
    "# Mostrar la forma (dimensiones) de la matriz de similitud\n",
    "# Debe devolver una tupla (n, n), confirmando que hay una fila y columna por molécula\n",
    "similarity_matrix_full.shape"
   ]
  },
  {
   "cell_type": "markdown",
   "metadata": {},
   "source": [
    "Observemos el mapa de calor de la matriz de similitud, la cual aún no está organizada"
   ]
  },
  {
   "cell_type": "code",
   "execution_count": null,
   "metadata": {
    "ExecuteTime": {
     "end_time": "2023-04-11T17:05:48.088979Z",
     "start_time": "2023-04-11T17:05:41.881017Z"
    }
   },
   "outputs": [],
   "source": [
    "# Crear una figura y ejes para visualizar la matriz de similitud\n",
    "# --------------------------------------------------------------\n",
    "# figsize=(10, 10) define el tamaño de la figura en pulgadas.\n",
    "# Esto es útil para evitar que una matriz grande se vea comprimida o ilegible.\n",
    "fig, ax = plt.subplots(figsize=(10, 10))\n",
    "\n",
    "# Dibujar la matriz de similitud como un mapa de calor (heatmap)\n",
    "# --------------------------------------------------------------\n",
    "# sns.heatmap visualiza los valores de la matriz como colores.\n",
    "# cmap=\"vlag\" define la paleta de colores, que en este caso es divergente\n",
    "# (útil para representar diferencias centradas en un valor medio, como la similitud ~0.5).\n",
    "# yticklabels=False y xticklabels=False eliminan las etiquetas de los ejes para una vista más limpia,\n",
    "# especialmente útil cuando se visualiza una gran cantidad de moléculas.\n",
    "ax = sns.heatmap(similarity_matrix_full, cmap=\"vlag\",\n",
    "                 yticklabels=False, xticklabels=False)\n"
   ]
  },
  {
   "cell_type": "markdown",
   "metadata": {},
   "source": [
    "### Agrupación: Algoritmo de agrupamiento Butina\n",
    "Similar a la agrupación realizada con los diez compuestos, vamos a crear una función en donde podemos decidir el umbral de la distancia de Tanimoto, por ejemplo, supongamos que queremos agrupar moléculas cuya similitud es menor o igual a *cutoff*=0.2.\n",
    "**Observación**: Recordemos que estamos utilizando el algoritmo de agrupamiento *Butina*"
   ]
  },
  {
   "cell_type": "code",
   "execution_count": null,
   "metadata": {
    "ExecuteTime": {
     "end_time": "2023-04-11T17:05:48.097955Z",
     "start_time": "2023-04-11T17:05:48.088979Z"
    }
   },
   "outputs": [],
   "source": [
    "# Define una función llamada 'cluster_fingerprints' que realiza el agrupamiento de fingerprints basado en la similitud de Tanimoto.\n",
    "def cluster_fingerprints(fp_list, cutoff=0.2):\n",
    "    # Calcula la matriz de similitud de Tanimoto para la lista de fingerprints proporcionada.\n",
    "    # El resultado es una matriz cuadrada donde cada elemento (i, j) representa la similitud entre el fingerprint i y el fingerprint j.\n",
    "    similarity_matrix = tanimoto_matrix(fp_list)  # Matriz de similitud\n",
    "\n",
    "    # Calcula las distancias entre los compuestos a partir de la matriz de similitud.\n",
    "    # 'np.tril_indices' genera los índices para la parte triangular inferior de la matriz (sin la diagonal).\n",
    "    # La distancia se calcula como 1 - similitud.\n",
    "    a, b = np.tril_indices(len(fp_list), -1)\n",
    "    dist_similarity_matrix = 1 - similarity_matrix[a, b]\n",
    "\n",
    "    # Agrupa los datos utilizando el algoritmo de clustering de Butina.\n",
    "    # 'dist_similarity_matrix' contiene las distancias entre los fingerprints.\n",
    "    # 'len(fp_list)' es el número total de fingerprints.\n",
    "    # 'cutoff' es el umbral de distancia para formar un cluster; los puntos dentro de este umbral se agrupan.\n",
    "    # 'isDistData=True' indica que se están proporcionando distancias, no similitudes.\n",
    "    clusters = Butina.ClusterData(dist_similarity_matrix, len(fp_list), cutoff, isDistData=True)\n",
    "\n",
    "    # Ordena los clusters en orden descendente según su tamaño (número de elementos).\n",
    "    # Esto permite identificar fácilmente los clusters más grandes.\n",
    "    clusters = sorted(clusters, key=len, reverse=True)\n",
    "\n",
    "    # Devuelve la lista de clusters ordenados.  Cada cluster es una lista de índices que indican qué fingerprints pertenecen a ese cluster.\n",
    "    return clusters\n"
   ]
  },
  {
   "cell_type": "markdown",
   "metadata": {},
   "source": [
    "Al ejecutar la función *cluster_fingerprints* se crean los agrupamientos, iniciando por aquellos que mayor cantidad de moléculas tiene, veamos los 10 primeros."
   ]
  },
  {
   "cell_type": "code",
   "execution_count": null,
   "metadata": {
    "ExecuteTime": {
     "end_time": "2023-04-11T17:05:54.358519Z",
     "start_time": "2023-04-11T17:05:48.097955Z"
    }
   },
   "outputs": [],
   "source": [
    "# Ejecutar el procedimiento de agrupación para el conjunto de datos, distancia: 0.2\n",
    "clusters = cluster_fingerprints(morgan_fp_list, cutoff=0.2)\n",
    "# Clústers más grandes\n",
    "print(clusters[:10])"
   ]
  },
  {
   "cell_type": "markdown",
   "metadata": {},
   "source": [
    "Como estamos trabajando con un conjunto grande de datos, no es buena idea imprimir toda la lista de los clústers, sin embargo, podemos resumir la información en una tabla de frecuencias."
   ]
  },
  {
   "cell_type": "code",
   "execution_count": null,
   "metadata": {
    "ExecuteTime": {
     "end_time": "2023-04-11T17:05:54.365052Z",
     "start_time": "2023-04-11T17:05:54.349524Z"
    }
   },
   "outputs": [],
   "source": [
    "# Obtener el tamaño de cada grupo (número de elementos en cada cluster)\n",
    "# 'clusters' es una lista de listas, donde cada sublista contiene los índices de las moléculas en ese cluster\n",
    "agrup = list(map(len, clusters))\n",
    "\n",
    "# Calcular cuántos clusters tienen la misma cantidad de elementos\n",
    "# np.unique devuelve los valores únicos (tamaños de cluster) y cuántas veces se repiten\n",
    "unique, counts = np.unique(agrup, return_counts=True)\n",
    "\n",
    "# Crear una tabla de frecuencias donde:\n",
    "# - Cada fila representa un tamaño de cluster y su frecuencia\n",
    "# - np.flip invierte el orden de las filas para mostrar los clusters grandes primero\n",
    "frec_table = np.flip(np.array([unique, counts]).T)  # orden invertido para claridad\n",
    "\n",
    "# Mostrar la tabla: cada fila indica [tamaño del cluster, cantidad de clusters de ese tamaño]\n",
    "frec_table"
   ]
  },
  {
   "cell_type": "markdown",
   "metadata": {},
   "source": [
    "Podemos ver que el clúster más grande (el primero) tiene 14 elementos y que hay 1494 compuestos que no se agruparon (clústers individuales)\n",
    "Veamos gráficamente la cantidad de elementos en los clústers de mayor tamaño y cuántos hay de cada uno"
   ]
  },
  {
   "cell_type": "code",
   "execution_count": null,
   "metadata": {
    "ExecuteTime": {
     "end_time": "2023-04-11T17:05:54.534200Z",
     "start_time": "2023-04-11T17:05:54.365052Z"
    }
   },
   "outputs": [],
   "source": [
    "# Configura la figura y los ejes para un gráfico de barras utilizando matplotlib.\n",
    "# 'figsize' especifica el tamaño de la figura en pulgadas (ancho x alto).\n",
    "fig, ax = plt.subplots(figsize=(10, 3))  # Configurar la figura de matplotlib\n",
    "\n",
    "# Crea un gráfico de barras.\n",
    "# 'list(map(str, frec_table[:, 0]))' convierte los valores del primer columna de frec_table a cadenas and use it as x-axis.\n",
    "# 'frec_table[:, 1]' proporciona los valores de la segunda columna de frec_table para el eje y (alturas de las barras).\n",
    "ax.bar(list(map(str, frec_table[:, 0])), frec_table[:, 1])\n",
    "\n",
    "# Establece la etiqueta del eje x del gráfico.\n",
    "ax.set_xlabel(\"# total de clústers\")\n",
    "\n",
    "# Establece la etiqueta del eje y del gráfico.\n",
    "ax.set_ylabel(\"# total de elementos\")\n",
    "\n",
    "# Muestra el gráfico en pantalla.\n",
    "plt.show()\n",
    "\n",
    "# Cierra la figura para liberar memoria.\n",
    "plt.close()\n"
   ]
  },
  {
   "cell_type": "markdown",
   "metadata": {},
   "source": [
    "Podemos examinar con más detalle el primer clúster de 14 elementos:"
   ]
  },
  {
   "cell_type": "code",
   "execution_count": null,
   "metadata": {
    "ExecuteTime": {
     "end_time": "2023-04-11T17:05:54.640459Z",
     "start_time": "2023-04-11T17:05:54.561666Z"
    }
   },
   "outputs": [],
   "source": [
    "# Convierte el primer cluster (índice 0) de 'clusters' a una lista de índices.\n",
    "list_ind_cluster0 = list(clusters[0])\n",
    "\n",
    "# Utiliza los índices del primer clúster para seleccionar las filas correspondientes del DataFrame 'molecule_dataset'.\n",
    "# El resultado es un nuevo DataFrame, 'molecules_cluster0', que contiene solo las moléculas que pertenecen al primer clúster.\n",
    "molecules_cluster0 = molecule_dataset.iloc[list_ind_cluster0]\n",
    "\n",
    "# Imprime el DataFrame 'molecules_cluster0'.\n",
    "# Esto muestra las moléculas que forman parte del primer clúster.\n",
    "molecules_cluster0\n"
   ]
  },
  {
   "cell_type": "code",
   "execution_count": null,
   "metadata": {
    "ExecuteTime": {
     "end_time": "2023-04-11T17:05:54.813826Z",
     "start_time": "2023-04-11T17:05:54.566656Z"
    }
   },
   "outputs": [],
   "source": [
    "# Imprime el número de moléculas en el DataFrame 'molecules_cluster0', junto con un mensaje descriptivo.\n",
    "print(f'{len(molecules_cluster0)} moleculas del clúster de mayor tamaño')\n",
    "\n",
    "# Crea una lista de leyendas para las moléculas que se van a dibujar en la imagen de la cuadrícula.\n",
    "# Itera sobre las filas del DataFrame 'molecules_cluster0'.\n",
    "# Para cada molécula, formatea una cadena que incluye el índice de la fila y el valor de la columna 'molecule_chembl_id'.\n",
    "legends = [\n",
    "    f\"#{index} {molecule['molecule_chembl_id']}\"\n",
    "    for index, molecule in molecules_cluster0.iterrows()\n",
    "]\n",
    "\n",
    "# Genera una imagen de cuadrícula que muestra las moléculas del primer clúster.\n",
    "# 'mols' es una lista de objetos Mol de RDKit para dibujar, obtenida de la columna \"ROMol\" de 'molecules_cluster0'.\n",
    "# 'legends' es la lista de cadenas creadas anteriormente, que se utilizan para etiquetar cada molécula en la cuadrícula.\n",
    "# 'molsPerRow' especifica el número de moléculas por fila en la cuadrícula.\n",
    "# 'subImgSize' especifica el tamaño de cada subimagen (molécula) en la cuadrícula.\n",
    "Chem.Draw.MolsToGridImage(\n",
    "    mols= molecules_cluster0[\"ROMol\"].tolist(),\n",
    "    legends=legends,\n",
    "    molsPerRow=5,\n",
    "    subImgSize=(250, 270),\n",
    ")"
   ]
  },
  {
   "cell_type": "markdown",
   "metadata": {},
   "source": [
    "También podemos tener un breve informe sobre el número de grupos y sus tamaños, dependiendo del tamaño del cúlster:"
   ]
  },
  {
   "cell_type": "code",
   "execution_count": null,
   "metadata": {
    "ExecuteTime": {
     "end_time": "2023-04-11T17:05:54.988385Z",
     "start_time": "2023-04-11T17:05:54.662993Z"
    }
   },
   "outputs": [],
   "source": [
    "# Calcula el número de clústeres que contienen exactamente 1 compuesto.\n",
    "# Itera a través de la lista 'clusters', donde cada elemento 'c' es un clúster (una lista de índices).\n",
    "# La expresión 'len(c) == 1' verifica si el tamaño del clúster es 1.\n",
    "# 'sum(...)' cuenta cuántas veces esta condición es verdadera.\n",
    "num_clust_g1 = sum(1 for c in clusters if len(c) == 1)\n",
    "\n",
    "# Calcula el número de clústeres que contienen más de 5 compuestos.\n",
    "# Similar al anterior, pero la condición es 'len(c) > 5'.\n",
    "num_clust_g5 = sum(1 for c in clusters if len(c) > 5)\n",
    "\n",
    "# Calcula el número de clústeres que contienen más de 10 compuestos.\n",
    "# Similar a los anteriores, pero la condición es 'len(c) > 10'.\n",
    "num_clust_g10 = sum(1 for c in clusters if len(c) > 10)\n",
    "\n",
    "# Imprime el número total de clústeres.\n",
    "print(\"Número total de clústeres: \", len(clusters))\n",
    "\n",
    "# Imprime el número de clústeres con solo 1 compuesto.\n",
    "print(\"# clusters con solo 1 compuesto: \", num_clust_g1)\n",
    "\n",
    "# Imprime el número de clústeres con más de 5 compuestos.\n",
    "print(\"# clusters con >5 compuestos: \", num_clust_g5)\n",
    "\n",
    "# Imprime el número de clústeres con más de 10 compuestos.\n",
    "print(\"# clusters con >10 compuestos: \", num_clust_g10)\n"
   ]
  },
  {
   "cell_type": "markdown",
   "metadata": {},
   "source": [
    "#### Número óptimo de clústers y umbral de similitid"
   ]
  },
  {
   "cell_type": "markdown",
   "metadata": {},
   "source": [
    "Utilizando el algoritmo que usamos para los diez elementos, podemos hallar la *distorsión* para diferentes números de clúster (`N`).\n"
   ]
  },
  {
   "cell_type": "code",
   "execution_count": null,
   "metadata": {
    "ExecuteTime": {
     "end_time": "2023-04-11T17:07:43.910318Z",
     "start_time": "2023-04-11T17:07:19.005223Z"
    }
   },
   "outputs": [],
   "source": [
    "# Inicializa una lista vacía llamada 'result' para almacenar los resultados del análisis de clustering.\n",
    "result = list()\n",
    "\n",
    "# Asigna la columna de fingerprints de Morgan del DataFrame molecule_dataset a la variable list_fingerprints.\n",
    "# A diferencia del fragmento anterior, este utiliza el DataFrame completo, no solo las primeras 10 filas.\n",
    "list_fingerprints = molecule_dataset['morgan_fp']\n",
    "\n",
    "# Calcula la matriz de similitud de Tanimoto entre los fingerprints en list_fingerprints.\n",
    "# El resultado es una matriz cuadrada donde cada elemento (i, j) representa la similitud entre el fingerprint i y el fingerprint j.\n",
    "similarity_matrix = tanimoto_matrix(list_fingerprints)  # Matriz de similitud\n",
    "\n",
    "# Genera los índices de las posiciones que están por debajo de la diagonal principal de una matriz cuadrada.\n",
    "# 'a' contiene los índices de las filas, y 'b' contiene los índices de las columnas.\n",
    "# El argumento '-1' asegura que la diagonal principal no se incluya.\n",
    "a, b = np.tril_indices(len(list_fingerprints), -1)  # índices de los elementos debajo de la diagonal principal\n",
    "\n",
    "# Calcula la matriz de distancias a partir de la matriz de similitud.\n",
    "# La distancia se calcula como 1 - similitud. Esto convierte las similitudes en distancias,\n",
    "# donde una similitud de 1 (máxima similitud) corresponde a una distancia de 0, y una similitud de 0\n",
    "# (mínima similitud) corresponde a una distancia de 1. Luego, se seleccionan solo las distancias\n",
    "# correspondientes a la parte triangular inferior de la matriz (excluyendo la diagonal) usando los índices 'a' y 'b'.\n",
    "dist_similarity_matrix = 1 - similarity_matrix[a, b] # distancias de los compuestos\n",
    "\n",
    "# Itera sobre un rango de valores de umbral (cutoff) de 0 a 1 con un incremento de 0.05.\n",
    "for i in np.arange(0,1,0.05):\n",
    "    # Redondea el valor del umbral a 2 decimales.\n",
    "    cutoff = round(i,2)\n",
    "\n",
    "    # Realiza el clustering de Butina utilizando la matriz de distancias y el umbral actual.\n",
    "    # 'dist_similarity_matrix' contiene las distancias entre los compuestos.\n",
    "    # 'len(list_fingerprints)' es el número total de compuestos.\n",
    "    # 'distThresh' es el umbral de distancia para formar los clusters; los puntos dentro de este umbral se agrupan.\n",
    "    # 'isDistData=True' indica que los datos de entrada son distancias, no similitudes.\n",
    "    clusters = Butina.ClusterData(dist_similarity_matrix,len(list_fingerprints), distThresh=cutoff, isDistData=True)\n",
    "\n",
    "    # Calcula el número de clusters ('n') y la distorsión ('dist') para el clustering actual.\n",
    "    # La distorsión es una medida de cuán bien los clusters representan los datos.  Aquí, se utiliza el dataset completo.\n",
    "    n, dist = distorion_tanimoto(clusters, molecule_dataset)\n",
    "\n",
    "    # Agrega los resultados (cutoff, número de clusters, distorsión) a la lista 'result'.\n",
    "    result.append((cutoff, n, dist))\n",
    "\n",
    "# Crea un DataFrame de Pandas llamado 'table' a partir de la lista 'result'.\n",
    "# Las columnas del DataFrame son 'cutoff', 'N_clusters' y 'distortion'.\n",
    "table = pd.DataFrame(result, columns=['cutoff', 'N_clusters', 'distortion'])\n",
    "\n",
    "# Imprime el DataFrame 'table'.\n",
    "# Este DataFrame contiene los resultados del análisis de clustering para diferentes valores de umbral.\n",
    "print(table)\n"
   ]
  },
  {
   "cell_type": "code",
   "execution_count": null,
   "metadata": {
    "ExecuteTime": {
     "end_time": "2023-04-11T17:06:20.415126Z",
     "start_time": "2023-04-11T17:06:20.146829Z"
    }
   },
   "outputs": [],
   "source": [
    "table.plot(x='N_clusters', y='distortion')"
   ]
  },
  {
   "cell_type": "markdown",
   "metadata": {},
   "source": [
    "Como vemos, después de `N=200` (número de clústers) no hay gran variación de la distorsión, por tanto, no necesitamos variar de 0 a 1 el umbral de similitud (`cutoff`).  Vamos a cambiar la línea 7 para que solo llegue a 0.5 en lugar de 1."
   ]
  },
  {
   "cell_type": "code",
   "execution_count": null,
   "metadata": {
    "ExecuteTime": {
     "end_time": "2023-04-11T17:06:40.052874Z",
     "start_time": "2023-04-11T17:06:20.353292Z"
    }
   },
   "outputs": [],
   "source": [
    "# Inicializa una lista vacía llamada 'result' para almacenar los resultados del análisis de clustering.\n",
    "result = list()\n",
    "\n",
    "# Asigna la columna de fingerprints de Morgan del DataFrame molecule_dataset a la variable list_fingerprints.\n",
    "# A diferencia del fragmento anterior, este utiliza el DataFrame completo, no solo las primeras 10 filas.\n",
    "list_fingerprints = molecule_dataset['morgan_fp']\n",
    "\n",
    "# Calcula la matriz de similitud de Tanimoto entre los fingerprints en 'list_fingerprints'.\n",
    "# El resultado es una matriz cuadrada donde cada elemento (i, j) representa la similitud entre el fingerprint i y el fingerprint j.\n",
    "similarity_matrix = tanimoto_matrix(list_fingerprints)  # Matriz de similitud\n",
    "\n",
    "# Genera los índices de las posiciones que están por debajo de la diagonal principal de una matriz cuadrada.\n",
    "# 'a' contiene los índices de las filas, y 'b' contiene los índices de las columnas.\n",
    "# El argumento '-1' asegura que la diagonal principal no se incluya.\n",
    "a, b = np.tril_indices(len(list_fingerprints), -1)  # índices de los elementos debajo de la diagonal principal\n",
    "\n",
    "# Calcula la matriz de distancias a partir de la matriz de similitud.\n",
    "# La distancia se calcula como 1 - similitud. Esto convierte las similitudes en distancias,\n",
    "# donde una similitud de 1 (máxima similitud) corresponde a una distancia de 0, y una similitud de 0\n",
    "# (mínima similitud) corresponde a una distancia de 1. Luego, se seleccionan solo las distancias\n",
    "# correspondientes a la parte triangular inferior de la matriz (excluyendo la diagonal) usando los índices 'a' y 'b'.\n",
    "dist_similarity_matrix = 1 - similarity_matrix[a, b] # distancias de los compuestos\n",
    "\n",
    "# Itera sobre un rango de valores de umbral (cutoff) de 0 a 0.5 con un incremento de 0.05.\n",
    "for i in np.arange(0, 0.5, 0.05):\n",
    "    # Redondea el valor del umbral a 2 decimales.\n",
    "    cutoff = round(i, 2)\n",
    "\n",
    "    # Realiza el clustering de Butina utilizando la matriz de distancias y el umbral actual.\n",
    "    # 'dist_similarity_matrix' contiene las distancias entre los compuestos.\n",
    "    # 'len(list_fingerprints)' es el número total de compuestos.\n",
    "    # 'distThresh' es el umbral de distancia para formar los clusters; los puntos dentro de este umbral se agrupan.\n",
    "    # 'isDistData=True' indica que los datos de entrada son distancias, no similitudes.\n",
    "    clusters = Butina.ClusterData(dist_similarity_matrix, len(list_fingerprints), distThresh=cutoff, isDistData=True)\n",
    "\n",
    "    # Calcula el número de clusters ('n') y la distorsión ('dist') para el clustering actual.\n",
    "    # La distorsión es una medida de cuán bien los clusters representan los datos.  Aquí, se utiliza el dataset completo.\n",
    "    n, dist = distorion_tanimoto(clusters, molecule_dataset)\n",
    "\n",
    "    # Agrega los resultados (cutoff, número de clusters, distorsión) a la lista 'result'.\n",
    "    result.append((cutoff, n, dist))\n",
    "\n",
    "# Crea un DataFrame de Pandas llamado 'table' a partir de la lista 'result'.\n",
    "# Las columnas del DataFrame son 'cutoff', 'N_clusters' y 'distortion'.\n",
    "table = pd.DataFrame(result, columns=['cutoff', 'N_clusters', 'distortion'])\n",
    "\n",
    "# Imprime el DataFrame 'table'.\n",
    "# Este DataFrame contiene los resultados del análisis de clustering para diferentes valores de umbral.\n",
    "print(table)\n"
   ]
  },
  {
   "cell_type": "code",
   "execution_count": null,
   "metadata": {
    "ExecuteTime": {
     "end_time": "2023-04-11T17:06:40.373637Z",
     "start_time": "2023-04-11T17:06:40.068848Z"
    }
   },
   "outputs": [],
   "source": [
    "table.plot(x='N_clusters', y='distortion')"
   ]
  },
  {
   "cell_type": "markdown",
   "metadata": {},
   "source": [
    "En la gráfica pordemos apreciar que al rededor de `N = 1500` hay un cambio brusco en la distorsión. La Tabla nos permite ver que para `N=1502` el `cutoff=0.25`. Veamos como queda el clústering con este valor:"
   ]
  },
  {
   "cell_type": "code",
   "execution_count": null,
   "metadata": {
    "ExecuteTime": {
     "end_time": "2023-04-11T17:06:47.163667Z",
     "start_time": "2023-04-11T17:06:40.319765Z"
    }
   },
   "outputs": [],
   "source": [
    "# Realiza el clustering de los fingerprints de Morgan ('morgan_fp_list') utilizando la función 'cluster_fingerprints'.\n",
    "# El umbral de distancia para formar los clusters se establece en 0.25.\n",
    "clusters = cluster_fingerprints(morgan_fp_list, cutoff=0.25)\n",
    "\n",
    "# Configura la figura y los ejes para un gráfico de barras utilizando matplotlib.\n",
    "# 'figsize' especifica el tamaño de la figura en pulgadas (ancho x alto).\n",
    "fig, ax = plt.subplots(figsize=(10, 3)) # Configurar la figura de matplotlib\n",
    "\n",
    "# Calcula el tamaño de cada cluster y lo almacena en una lista llamada 'agrup'.\n",
    "# 'map(len, clusters)' aplica la función 'len' (longitud) a cada cluster en la lista 'clusters',\n",
    "# obteniendo el número de elementos en cada cluster.\n",
    "agrup = list(map(len, clusters))\n",
    "\n",
    "# Calcula la frecuencia de cada tamaño de cluster.\n",
    "# 'np.unique(agrup, return_counts=True)' devuelve dos arrays:\n",
    "#  - 'unique': los tamaños de cluster únicos.\n",
    "#  - 'counts': el número de veces que aparece cada tamaño de cluster.\n",
    "unique, counts = np.unique(agrup, return_counts=True)\n",
    "\n",
    "# Crea una tabla de frecuencia a partir de los tamaños de cluster únicos y sus recuentos.\n",
    "# 'np.array([unique, counts]).T' crea un array 2D donde cada fila representa un tamaño de cluster y su frecuencia.\n",
    "# 'np.flip(...)' invierte el orden de las filas, lo cual no is necessary for the code to run.\n",
    "frec_table = np.flip(np.array([unique, counts]).T) # reversed order\n",
    "\n",
    "# Crea un gráfico de barras.\n",
    "# 'list(map(str, frec_table[:, 0]))' convierte los tamaños de cluster (primera columna de 'frec_table') a cadenas para usarlos como etiquetas en el eje x.\n",
    "# 'frec_table[:, 1]' proporciona las frecuencias (segunda columna de 'frec_table') para el eje y (alturas de las barras).\n",
    "# 'color=\"mediumseagreen\"' establece el color de las barras en verde medio.\n",
    "ax.bar(list(map(str, frec_table[:, 0])), frec_table[:, 1], color=\"mediumseagreen\")\n",
    "\n",
    "# Establece el título del gráfico.\n",
    "ax.set_title(f\"Límite: 0.25\")\n",
    "\n",
    "# Establece la etiqueta del eje x del gráfico.\n",
    "ax.set_xlabel(\"# total de clústers\") # corrected the typo in the original\n",
    "\n",
    "# Establece la etiqueta del eje y del gráfico.\n",
    "ax.set_ylabel(\"# total de elementos\") # corrected the typo in the original\n",
    "\n",
    "# Muestra el gráfico en pantalla.\n",
    "plt.show()\n",
    "\n",
    "# Cierra la figura para liberar memoria.\n",
    "plt.close()"
   ]
  },
  {
   "cell_type": "markdown",
   "metadata": {},
   "source": [
    "El clúster con más moléculas similares tiene 18 moléculas"
   ]
  },
  {
   "cell_type": "code",
   "execution_count": null,
   "metadata": {
    "ExecuteTime": {
     "end_time": "2023-04-11T17:06:47.256999Z",
     "start_time": "2023-04-11T17:06:47.163667Z"
    }
   },
   "outputs": [],
   "source": [
    "# Convierte el primer cluster (índice 0) de la lista 'clusters' a una lista de índices.\n",
    "# Esto asume que 'clusters' es una lista de listas, donde cada sublista contiene los índices\n",
    "# de las moléculas que pertenecen a ese cluster.  El primer cluster se considera el más grande.\n",
    "list_ind_cluster0 = list(clusters[0])\n",
    "\n",
    "# Utiliza los índices del primer clúster para seleccionar las filas correspondientes del DataFrame 'molecule_dataset'.\n",
    "# 'molecule_dataset.iloc[list_ind_cluster0]' selecciona las filas del DataFrame\n",
    "# cuyos índices coinciden con los índices de las moléculas en el primer clúster.\n",
    "# El resultado es un nuevo DataFrame llamado 'molecules_cluster0' que contiene solo las moléculas del primer clúster.\n",
    "molecules_cluster0 = molecule_dataset.iloc[list_ind_cluster0]\n",
    "\n",
    "# Imprime el DataFrame 'molecules_cluster0'.\n",
    "# Esto muestra todas las columnas y filas del DataFrame, permitiendo inspeccionar las propiedades\n",
    "# de las moléculas que pertenecen al cluster más grande.\n",
    "molecules_cluster0\n"
   ]
  },
  {
   "cell_type": "code",
   "execution_count": null,
   "metadata": {
    "ExecuteTime": {
     "end_time": "2023-04-11T17:06:47.381205Z",
     "start_time": "2023-04-11T17:06:47.210124Z"
    }
   },
   "outputs": [],
   "source": [
    "# Imprime el número de moléculas en el DataFrame 'molecules_cluster0', junto con un mensaje descriptivo.\n",
    "print(f'{len(molecules_cluster0)} moleculas del clúster de mayor tamaño')\n",
    "\n",
    "# Crea una lista de leyendas para las moléculas que se van a dibujar en la imagen de la cuadrícula.\n",
    "# Itera sobre las filas del DataFrame 'molecules_cluster0'.\n",
    "# Para cada molécula, formatea una cadena que incluye el índice de la fila y el valor de la columna 'molecule_chembl_id'.\n",
    "legends = [\n",
    "    f\"#{index} {molecule['molecule_chembl_id']}\"\n",
    "    for index, molecule in molecules_cluster0.iterrows()\n",
    "]\n",
    "\n",
    "# Genera una imagen de cuadrícula que muestra las moléculas del primer clúster.\n",
    "# 'mols' es una lista de objetos Mol de RDKit para dibujar, obtenida de la columna \"ROMol\" de 'molecules_cluster0'.\n",
    "# 'legends' es la lista de cadenas creadas anteriormente, que se utilizan para etiquetar cada molécula en la cuadrícula.\n",
    "# 'molsPerRow' especifica el número de moléculas por fila en la cuadrícula.\n",
    "# 'subImgSize' especifica el tamaño de cada subimagen (molécula) en la cuadrícula.\n",
    "Chem.Draw.MolsToGridImage(\n",
    "    mols= molecules_cluster0[\"ROMol\"].tolist(),\n",
    "    legends=legends,\n",
    "    molsPerRow=5,\n",
    "    subImgSize=(250, 270),\n",
    ")\n"
   ]
  },
  {
   "cell_type": "markdown",
   "metadata": {},
   "source": [
    "## Clustermap\n",
    "También podemos organizar la matriz de similitud de Tanimoto en un mapa de calor del agrupamiento jerárquico donde podemos ver cómo se agrupan las moléculas que mayor simlitud presentan"
   ]
  },
  {
   "cell_type": "code",
   "execution_count": null,
   "metadata": {
    "ExecuteTime": {
     "end_time": "2023-04-11T17:07:14.489055Z",
     "start_time": "2023-04-11T17:06:47.305884Z"
    }
   },
   "outputs": [],
   "source": [
    "# Importa la función 'figure' del módulo 'matplotlib.pyplot', aunque no se usa directamente en este código.\n",
    "from matplotlib.pyplot import figure\n",
    "\n",
    "# Calcula la matriz de similitud de Tanimoto para la lista completa de fingerprints circulares ('circular_fp_list').\n",
    "# Esto genera una matriz cuadrada donde cada elemento (i, j) representa la similitud de Tanimoto entre el fingerprint i y el fingerprint j.\n",
    "similarity_matrix_full = tanimoto_matrix(circular_fp_list)\n",
    "\n",
    "# Crea un mapa de calor agrupado (clustermap) de la matriz de similitud de Tanimoto utilizando la biblioteca Seaborn.\n",
    "# 'similarity_matrix_full' es la matriz de entrada que se va a visualizar.\n",
    "# 'cmap=\"vlag\"' especifica la paleta de colores a utilizar (útil para visualizar similitudes, donde los colores extremos representan alta y baja similitud).\n",
    "# 'dendrogram_ratio=(.1,.2)' ajusta la proporción de espacio dedicado a los dendrogramas de filas y columnas, respectivamente.\n",
    "# 'yticklabels=False' y 'xticklabels=False' ocultan las etiquetas de los ejes y, lo que simplifica la visualización cuando el número de puntos es grande.\n",
    "# 'figsize=(10,10)' establece el tamaño de la figura en pulgadas (ancho x alto).\n",
    "g = sns.clustermap(similarity_matrix_full, cmap=\"vlag\",\n",
    "                   dendrogram_ratio=(.1,.2),\n",
    "                   yticklabels=False,xticklabels=False,\n",
    "                   figsize=(10,10))\n",
    "\n",
    "# Elimina el dendrograma de las filas del mapa de calor agrupado.\n",
    "# Esto puede ser útil para simplificar la visualización si solo se necesita el dendrograma de las columnas.\n",
    "g.ax_row_dendrogram.remove()\n",
    "\n",
    "# Crea un directorio llamado 'data/' si no existe.\n",
    "# 'mkdir -p data/' es un comando de shell que crea el directorio 'data/' y sus directorios padres si es necesario.\n",
    "# El signo '-p' evita que se genere un error si el directorio ya existe.  El '!' ejecuta el command shell.\n",
    "!mkdir -p data/\n",
    "\n",
    "# Guarda el mapa de calor agrupado en un archivo PNG.\n",
    "# './data/TanimotoSimilarity.png' especifica la ruta y el nombre del archivo.\n",
    "# 'bbox_inches='tight'' ajusta los límites de la figura para que todo el gráfico se ajuste en la imagen guardada.\n",
    "# 'dpi=500' sets the resolution of the image\n",
    "plt.savefig('./data/TanimotoSimilarity.png', bbox_inches='tight', dpi=500)\n",
    "\n",
    "# Muestra el mapa de calor agrupado en pantalla.\n",
    "plt.show()\n",
    "\n",
    "# Cierra la figura para liberar memoria.\n",
    "plt.close()\n"
   ]
  },
  {
   "cell_type": "markdown",
   "metadata": {},
   "source": [
    "# Actividad práctica\n",
    "\n",
    "Teniendo en cuenta lo revisado en esta segunda parte, realice un código en python con el cual pueda:\n",
    "\n",
    "1. Seleccionar el clúster número 20 realizado con el algoritmo de agrupamiento Butina y un cutoff de 0.25 en esta práctica.\n",
    "2. Calcular la matriz de similitud de Tanimoto, encontrar las distancias entre los compuestos que integran este clúster y hallar la distorsión para diferentes números de clústers utilizando el algoritmo de agrupamiento Butina.\n",
    "3. Selecionar el umbral de similitud más adecuado según el método del codo.\n",
    "\n",
    "\n",
    "Al finalizar deberá preparar un documento en formato \".ipynb\" (Jupyter notebook)\" en el cual adjunte:\n",
    "1. Tabla con cutoff, N_clusters y distortion.\n",
    "2. Gráfico de lineas N_clusters vs Distortion.\n",
    "3. Gráfico de barras para el # total de clústers y # total de elementos según el cutoff seleccionado.\n"
   ]
  },
  {
   "cell_type": "markdown",
   "metadata": {},
   "source": [
    "# Conclusión\n",
    "\n",
    "En esta práctica, hemos aprendido cómo usar huellas dactilares y medidas de similitud para comparar una molécula de consulta con un conjunto de datos de moléculas y clasificar la molécula por similitud. Además, aprendimos sobre la agrupación en clústeres de un conjunto de datos compuesto y discutimos cómo elegir un umbral de agrupación razonable."
   ]
  },
  {
   "cell_type": "markdown",
   "metadata": {},
   "source": [
    "# Referencias\n",
    "\n",
    "1.  Seo, M., Shin, H. K., Myung, Y., Hwang, S., & No, K. T. (2020). Development of natural compound molecular fingerprint (Nc-mfp) with the dictionary of natural products (Dnp) for natural product-based drug development. Journal of Cheminformatics, 12(1), 6. https://doi.org/10.1186/s13321-020-0410-3\n",
    "2. Capecchi, A., Probst, D., & Reymond, J.-L. (2020). One molecular fingerprint to rule them all: Drugs, biomolecules, and the metabolome. Journal of Cheminformatics, 12(1), 43. https://doi.org/10.1186/s13321-020-00445-4\n",
    "3. Rácz, A., Bajusz, D., & Héberger, K. (2018). Life beyond the Tanimoto coefficient: Similarity measures for interaction fingerprints. Journal of Cheminformatics, 10(1), 48. https://doi.org/10.1186/s13321-018-0302-y\n",
    "4. Nielsen, F. (2016). Hierarchical clustering. En F. Nielsen (Ed.), Introduction to HPC with MPI for Data Science (pp. 195-211). Springer International Publishing. https://doi.org/10.1007/978-3-319-21903-5_8\n",
    "5. Butina, D. (1999). Unsupervised data base clustering based on daylight’s fingerprint and tanimoto similarity: A fast and automated way to cluster small and large data sets. Journal of Chemical Information and Computer Sciences, 39(4), 747-750. https://doi.org/10.1021/ci9803381\n",
    "6. Shi, C., Wei, B., Wei, S., Wang, W., Liu, H., & Liu, J. (2021). A quantitative discriminant method of elbow point for the optimal number of clusters in clustering algorithm. EURASIP Journal on Wireless Communications and Networking, 2021(1), 31. https://doi.org/10.1186/s13638-021-01910-w"
   ]
  }
 ],
 "metadata": {
  "kernelspec": {
   "display_name": "chemo",
   "language": "python",
   "name": "python3"
  },
  "language_info": {
   "codemirror_mode": {
    "name": "ipython",
    "version": 3
   },
   "file_extension": ".py",
   "mimetype": "text/x-python",
   "name": "python",
   "nbconvert_exporter": "python",
   "pygments_lexer": "ipython3",
   "version": "3.8.17"
  }
 },
 "nbformat": 4,
 "nbformat_minor": 4
}
