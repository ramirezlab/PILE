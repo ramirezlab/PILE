{
 "cells": [
  {
   "cell_type": "markdown",
   "id": "592732f2",
   "metadata": {},
   "source": [
    "# Practice 2: Ligand-based screening: Compound similarity and compound clustering\n",
    "\n",
    "> **Note:** This book is available in two ways:\n",
    "> 1. Downloading the repository and following the instructions in the file [README.md](https://github.com/ramirezlab/CHEMO/blob/main/README.md)\n",
    "> 2. Clicking here on [![Open In Colab](https://colab.research.google.com/assets/colab-badge.svg)](https://colab.research.google.com/github/ramirezlab/CHEMO/blob/main/2_PART_TWO/2.4_Practice-2.en.ipynb?hl=es)\n",
    "\n",
    "\n",
    "## Theory\n",
    "\n",
    "### **Molecular fingerprints**\n",
    "Molecular fingerprints are essential cheminformatics tools for virtual screening and mapping chemical space. These is a way to describe a molecular structure that can convert a molecular structure into a bit string<sup> **1** </sup>. Each bit corresponds to a predefined molecular feature or environment, where \"1\" represents the presence and \"0\" the absence of a feature. Since molecular fingerprint encodes the structure of a molecule, it is a useful method to describe the structural similarity among the molecules as a molecular descriptor. \n",
    "\n",
    "#### **Morgan fingerprints**\n",
    "The most popular molecular fingerprint is the Morgan fingerprint that is based on the Morgan algorithm.These algorithmm generated bits correspond to the circular environments of each atom in a molecule and the number of neighboring bonds and atoms to consider is set by the radius, which are predictive of the biological activities of small organic molecules<sup> **2** </sup>.\n",
    "\n",
    "### **Molecular similarity measure: Tanimoto coefficient**\n",
    "Two such fingerprints are most commonly compared with the Tanimoto similarity metric. These metric take  a value between 0 and 1, with 1 corresponding to identical fingerprints<sup> **3** </sup>.\n",
    "\n",
    "\n",
    "<img src=\"img/Tanimoto-coefficient-en.jpg\" alt=\"Tanimoto-coefficient\" width=\"800\"/>\n",
    "\n",
    "### **Clustering**\n",
    "Is the task of grouping a set of objects in such a way that objects in the same group (called a cluster) are more similar to each other than to those in other groups (clusters). Compound clustering in pharmaceutical research is often based on chemical or structural similarity between compounds to find groups that share properties.\n",
    "\n",
    "There are [key steps](https://www.sciencedirect.com/science/article/pii/B008045044X001474) in the clustering approach that we will folound:\n",
    "\n",
    "**1. Data preparation and compound encoding:**\n",
    "\n",
    "- The compounds in the input data will be encoded as molecular fingerprints.\n",
    "    \n",
    "**2. Tanimoto similarity (or distance) matrix:**\n",
    "\n",
    "- The similarity between two fingerprints is calculated using the Tanimoto coefficient.\n",
    "- Matrix with Tanimoto similarities between all possible molecule/fingerprint pairs (n * n similarity matrix with =number of molecules, upper triangle matrix used only).\n",
    "- Equally, the distances matrix can be calculated (1 - similarity).\n",
    "    \n",
    "**3. Clustering molecules**\n",
    "\n",
    "- The clustering result depends on the threshold chosen by the user:\n",
    "    - The smaller the distance value cut-off, the more similar the compounds are required to belong to one cluster.\n",
    "    - The higher the threshold (distance cutoff), the more molecules are considered as similar, you will have less clusters.\n",
    "    - The lower the threshold, the more small clusters and \"singletons\" appear."
   ]
  },
  {
   "cell_type": "markdown",
   "id": "daa5a07d",
   "metadata": {},
   "source": [
    "## Problem Statement\n",
    "We have a dataset with many compounds and we want to group them because similar compounds might bind to the same targets and show similar effects. From such a clustering, a diverse set of compounds can also be selected from a larger set of screening compounds for further experimental testing."
   ]
  },
  {
   "cell_type": "code",
   "execution_count": null,
   "id": "b2373b9c",
   "metadata": {
    "ExecuteTime": {
     "end_time": "2023-04-11T17:03:14.328556Z",
     "start_time": "2023-04-11T17:03:14.031732Z"
    }
   },
   "outputs": [],
   "source": [
    "# Import the necessary libraries\n",
    "!pip install rdkit\n",
    "from pathlib import Path\n",
    "import seaborn as sns\n",
    "import pandas as pd\n",
    "import numpy as np\n",
    "import matplotlib.pyplot as plt\n",
    "from scipy.cluster.hierarchy import linkage, dendrogram, fcluster\n",
    "from rdkit import Chem, DataStructs\n",
    "from rdkit.ML.Cluster import Butina\n",
    "from rdkit.Chem import (\n",
    "    PandasTools,\n",
    "    Draw,\n",
    "    Descriptors,\n",
    "    rdFingerprintGenerator,\n",
    ")"
   ]
  },
  {
   "cell_type": "markdown",
   "id": "bd4516a6",
   "metadata": {},
   "source": [
    "# Example 1: Compare a molecule with a data set\n",
    "\n",
    "Initially, we want to compare a query molecule with all the molecules in the dataset containing the bioactive compounds against *glycogen synthase kinase-3 beta*. In this case the query molecule is **Ruboxistaurin**, we want to look for similar molecules."
   ]
  },
  {
   "cell_type": "markdown",
   "id": "2aaa8734",
   "metadata": {},
   "source": [
    "## Step 1: Load data set\n",
    "\n",
    "The dataset contain the bioactive compounds against Glycogen synthase kinase-3 beta that we built in the tutorial 2.1_Dataframes. "
   ]
  },
  {
   "cell_type": "code",
   "execution_count": null,
   "id": "45fd11cf",
   "metadata": {
    "ExecuteTime": {
     "end_time": "2023-04-11T17:03:40.183087Z",
     "start_time": "2023-04-11T17:03:40.124223Z"
    }
   },
   "outputs": [],
   "source": [
    "import pandas as pd\n",
    "\n",
    "# URL to the CSV file\n",
    "csv_url = 'https://raw.githubusercontent.com/ramirezlab/CHEMO/main/2_PART_TWO/data/compounds_P49841_full.csv'\n",
    "\n",
    "# Read the CSV file from the URL and extract specific columns\n",
    "columns_to_use = [\"molecule_chembl_id\", \"smiles\"]\n",
    "molecule_dataset = pd.read_csv(csv_url, usecols=columns_to_use)\n",
    "\n",
    "# Print the total number of compounds and display the first few rows\n",
    "print(f'# total de compuestos: {len(molecule_dataset)}')\n",
    "molecule_dataset.head()"
   ]
  },
  {
   "cell_type": "markdown",
   "id": "53468fb3",
   "metadata": {},
   "source": [
    "## Step 2: Generate the fingerprint of the query molecule\n",
    "For the Ruboxistaurin molecule, we generated the ROMol object from SMILES."
   ]
  },
  {
   "cell_type": "code",
   "execution_count": null,
   "id": "a5b325b0",
   "metadata": {},
   "outputs": [],
   "source": [
    "query = Chem.MolFromSmiles(\"CN(C)CC1CCN2C=C(C3=CC=CC=C32)C4=C(C5=CN(CCO1)C6=CC=CC=C65)C(=O)NC4=O\") # SMILES of Ruboxistaurin\n",
    "query"
   ]
  },
  {
   "cell_type": "markdown",
   "id": "7a07ffd8",
   "metadata": {},
   "source": [
    "We then generated Morgan's fingerprints for the Ruboxistaurin molecule."
   ]
  },
  {
   "cell_type": "code",
   "execution_count": null,
   "id": "b9deb536",
   "metadata": {},
   "outputs": [],
   "source": [
    "circular_fp_query = rdFingerprintGenerator.GetFPs([query])[0]\n",
    "\n",
    "# See the fingerprint as a bit\n",
    "circular_fp_query.ToBitString()"
   ]
  },
  {
   "cell_type": "markdown",
   "id": "9e24beb2",
   "metadata": {},
   "source": [
    "## Step 3: Calculate the fingerprints of the dataset\n",
    "We now generate Morgan fingerprints for all the molecules in our data set."
   ]
  },
  {
   "cell_type": "code",
   "execution_count": null,
   "id": "62c989b8",
   "metadata": {},
   "outputs": [],
   "source": [
    "PandasTools.AddMoleculeColumnToFrame(molecule_dataset, \"smiles\")\n",
    "circular_fp_list = rdFingerprintGenerator.GetFPs(molecule_dataset[\"ROMol\"].tolist())"
   ]
  },
  {
   "cell_type": "markdown",
   "id": "dc089f96",
   "metadata": {},
   "source": [
    "## Step 4: We calculate the similarity between the molecule and the data set\n",
    "We calculated the Tanimoto similarity between the Ruboxistaurin molecule and all molecules in our data set using Morgan fingerprints."
   ]
  },
  {
   "cell_type": "code",
   "execution_count": null,
   "id": "97442486",
   "metadata": {},
   "outputs": [],
   "source": [
    "molecule_dataset[\"tanimoto_morgan\"] = DataStructs.BulkTanimotoSimilarity(circular_fp_query, circular_fp_list)\n",
    "molecule_dataset[[\"molecule_chembl_id\", \"tanimoto_morgan\"]].head()"
   ]
  },
  {
   "cell_type": "markdown",
   "id": "a67e550e",
   "metadata": {},
   "source": [
    "We can now organize the values to identify the molecules most similar to Ruboxistaurin."
   ]
  },
  {
   "cell_type": "code",
   "execution_count": null,
   "id": "663911cc",
   "metadata": {},
   "outputs": [],
   "source": [
    "molecule_dataset.sort_values(by = [\"tanimoto_morgan\"], ascending=False, inplace=True)\n",
    "molecule_dataset.head(5)"
   ]
  },
  {
   "cell_type": "markdown",
   "id": "67f9c6a9",
   "metadata": {},
   "source": [
    "Finally, we can see the Ruboxistaurin molecule and the five most similar molecules in the data set."
   ]
  },
  {
   "cell_type": "code",
   "execution_count": null,
   "id": "785dc975",
   "metadata": {},
   "outputs": [],
   "source": [
    "top_n_molecules = 5\n",
    "top_molecules = molecule_dataset[:top_n_molecules]\n",
    "legends = [\n",
    "    f\"#{index} {molecule['molecule_chembl_id']}\"\n",
    "    for index, molecule in top_molecules.iterrows()\n",
    "]\n",
    "Chem.Draw.MolsToGridImage(\n",
    "    mols=[query] + top_molecules[\"ROMol\"].tolist(),\n",
    "    legends=([\"Ruboxistaurin\"] + legends),\n",
    "    molsPerRow=4,\n",
    "    subImgSize=(250, 270),\n",
    ")"
   ]
  },
  {
   "cell_type": "markdown",
   "id": "c79ccc62",
   "metadata": {},
   "source": [
    "## Similarity distribution\n",
    "To graphically see the Tanimoto similarity distribution, we can make a histogram, remember that the closer the number is to 1, the more similar the molecules are."
   ]
  },
  {
   "cell_type": "code",
   "execution_count": null,
   "id": "928fd39a",
   "metadata": {},
   "outputs": [],
   "source": [
    "fig, axes = plt.subplots(figsize=(10, 6), nrows=1, ncols=1) # Set up the matplotlib figure\n",
    "molecule_dataset.hist([\"tanimoto_morgan\"], ax=axes, color = \"darkorchid\") # You can see more color name in the link https://www.w3schools.com/colors/colors_names.asp\n",
    "axes.set_xlabel(\"Similarity value\")\n",
    "axes.set_ylabel(\"# molecules\")\n",
    "fig;"
   ]
  },
  {
   "cell_type": "markdown",
   "id": "d32a1cd9",
   "metadata": {},
   "source": [
    "We can also do a histogram with a kernel density estimates curve using seaborn. With this plot We can see how easier is the dataset distributed."
   ]
  },
  {
   "cell_type": "code",
   "execution_count": null,
   "id": "1491bb62",
   "metadata": {},
   "outputs": [],
   "source": [
    "sns.displot(data=molecule_dataset[\"tanimoto_morgan\"], kde=True, height=8, aspect=2, color=\"darkorchid\")"
   ]
  },
  {
   "cell_type": "markdown",
   "id": "63282aeb",
   "metadata": {},
   "source": [
    "# Example 2: Hierarchical clustering\n",
    "\n",
    "Hierarchical clustering (**Hierarchical Clustering**) is a method commonly used to group data with similar characteristics (groups of data are called **clusters**)<sup> **4** </sup>.\n",
    "\n",
    "The hierarchical clustering algorithm groups the data based on the distance between each one and looking for the data that are within a cluster to be the most similar to each other. For our case, we can group the most similar compounds according to the Tanimoto distance.\n",
    "\n",
    "Initially, we are going to use **Agglomerative clustering** which starts with each compound as a separate cluster. At each step, the two closest clusters are merged creating a new cluster. These mergers continue to take place successively until at the end of the process there is only one single cluster that agglomerates all the elements.\n",
    "\n",
    "Another aspect to take into account is the way in which the **distance** between two clusters is measured, by definition the * Euclidean distance* is used, but the algorithms allow this metric to be modified."
   ]
  },
  {
   "cell_type": "markdown",
   "id": "f16752cf",
   "metadata": {},
   "source": [
    "## Data preparation\n",
    "\n",
    "We start by loading the dataset that contains the bioactive compounds against *glycogen synthase kinase-3 beta* we built it in tutorial 2.1_Dataframes.\n",
    "\n",
    "From the SMILES we create the *ROMol* objects and the *fingerprints* of each compound"
   ]
  },
  {
   "cell_type": "code",
   "execution_count": null,
   "id": "7f5c96e5",
   "metadata": {},
   "outputs": [],
   "source": [
    "molecule_dataset = pd.read_csv('https://raw.githubusercontent.com/ramirezlab/CHEMO/main/2_PART_TWO/data/compounds_P49841_full.csv', usecols=[\"molecule_chembl_id\", \"smiles\"])\n",
    "print(f'# total de compuestos: {len(molecule_dataset)}')\n",
    "PandasTools.AddMoleculeColumnToFrame(molecule_dataset, \"smiles\") # add ROMol\n",
    "morgan_fp_list = rdFingerprintGenerator.GetFPs(molecule_dataset[\"ROMol\"].tolist()) # Morrgan FP\n",
    "molecule_dataset['morgan_fp'] = morgan_fp_list\n",
    "molecule_dataset.head()"
   ]
  },
  {
   "cell_type": "markdown",
   "id": "ae35a340",
   "metadata": {},
   "source": [
    "## Tanimoto similarity matrix\n",
    "Similar to what was worked on in example 1, we are going to find the similarity of each molecule with the rest of the molecules in the set.\n",
    "\n",
    "We are going to create a function whose input is the set of *fingerprints* of the compounds, and whose output is the Tanimoto similarity matrix, where the similarity between two compounds is measured."
   ]
  },
  {
   "cell_type": "code",
   "execution_count": null,
   "id": "40f92aeb",
   "metadata": {},
   "outputs": [],
   "source": [
    "def tanimoto_matrix(fp_list):\n",
    "    # Create an identity matrix\n",
    "    N = len(fp_list)\n",
    "    similarity_matrix = np.identity(N)\n",
    "    # indices of the positions of the lower triangular matrixngular inferior\n",
    "    a, b = np.tril_indices(N, 0)\n",
    "    similarities = list()\n",
    "    for ind, i in enumerate(fp_list):\n",
    "        # Compare the current fingerprint with all the previous ones in the list\n",
    "        similarities = np.append(similarities, DataStructs.BulkTanimotoSimilarity(i, fp_list[:ind+1]))\n",
    "        # Build the distance matrix\n",
    "    similarity_matrix[a,b] = similarities\n",
    "    similarity_matrix[b,a] = similarity_matrix[a,b]\n",
    "    return similarity_matrix"
   ]
  },
  {
   "cell_type": "markdown",
   "id": "882180c8",
   "metadata": {},
   "source": [
    "### Cluster of ten molecules\n",
    "To understand the clustering process we are going to work only with the first ten molecules of the set. We start by creating a list with the fingerprints of the ten molecules."
   ]
  },
  {
   "cell_type": "code",
   "execution_count": null,
   "id": "78cd2946",
   "metadata": {},
   "outputs": [],
   "source": [
    "list_fingerprints = morgan_fp_list[0:10]"
   ]
  },
  {
   "cell_type": "markdown",
   "id": "a0efc2f2",
   "metadata": {},
   "source": [
    "Now, we find the tanimoto similarity matrix with the ten fingerprints"
   ]
  },
  {
   "cell_type": "code",
   "execution_count": null,
   "id": "85a2433d",
   "metadata": {
    "collapsed": false,
    "jupyter": {
     "outputs_hidden": false
    }
   },
   "outputs": [],
   "source": [
    "similarity_matrix = tanimoto_matrix(list_fingerprints) # Solo para los 10 primeros compuestos\n",
    "similarity_matrix"
   ]
  },
  {
   "cell_type": "markdown",
   "id": "89258754",
   "metadata": {},
   "source": [
    "We can represent it by means of a heat map:"
   ]
  },
  {
   "cell_type": "code",
   "execution_count": null,
   "id": "4fbb8ef0",
   "metadata": {},
   "outputs": [],
   "source": [
    "similarity_matrix = tanimoto_matrix(list_fingerprints) # Solo para los 10 primeros compuestos\n",
    "ax = sns.heatmap(similarity_matrix, annot=True, fmt='.2f', cmap=\"vlag\") # annot= True imprime el coeficiente de Tanimoto y fmt='.2f' me da solo dos decimales\n",
    "ax.set(xlabel=\"\", ylabel=\"\")\n",
    "ax.xaxis.tick_top()"
   ]
  },
  {
   "cell_type": "markdown",
   "id": "1c4d1e2f",
   "metadata": {},
   "source": [
    "#### Grouping by distances\n",
    "As we explained initially, the **grouping by agglomeration** consists of merging consecutively those clusters that are closest, to understand the grouping we can use the method [`linkage`](https://docs.scipy.org/doc/scipy/reference/generated/scipy.cluster.hierarchy.linkage.html#scipy.cluster.hierarchy.linkage), which creates a *linkage matrix* with the order in which the different clusters were grouped ( By default, the measurement metric is the *Euclidean distance* and the grouping method is the *closest point*), we are going to work with the mean distance of the grouping elements (*average*)."
   ]
  },
  {
   "cell_type": "code",
   "execution_count": null,
   "id": "0eec0bf1",
   "metadata": {},
   "outputs": [],
   "source": [
    "Z = linkage(similarity_matrix, method='average')\n",
    "Z"
   ]
  },
  {
   "cell_type": "markdown",
   "id": "e13c3a19",
   "metadata": {},
   "source": [
    "In the *i-th* row, `Z[i,0]` and `Z[i,1]` indicate the clusters that are combined to form cluster $n+i$. `Z[i,2]` indicates the distance between the clusters and `Z[i,3]` represents the number of compounds in the new cluster.\n",
    "Recall that we start with ten clusters numbered from 0 to 9 (the initial ten molecules), so the rows of the Z bond matrix are:\n",
    "- **row-0**: Cluster 10 is created, made up of molecule 1 (cluster 1) and molecule 5 (cluster 5), the distance between cluster 1 and 5 is 0.235548, and the new cluster has 2 molecules\n",
    "- **row-1**: Cluster 11 is created, made up of molecule 8 (cluster 8) and molecule 9 (cluster 9), the distance between cluster 8 and 9 is 0.343349, and the new cluster has 2 molecules\n",
    "- **row-2**: Cluster 12 is created, made up of molecule 2 (cluster 2) and molecule 7 (cluster 7), the distance between cluster 2 and 7 is 0.364662, and the new cluster has 2 molecules\n",
    "- **row-3**: Cluster 13 is created, made up of molecule 4 (cluster 4) and cluster 10 (created in **row-0**), the distance between cluster 4 and 10 is of 0.500123, and the new cluster has 3 molecules\n",
    "- **row-4**: Cluster 14 is created, made up of cluster 11 (created in **row-1**) and cluster 12 (created in **row-2**), the distance between cluster 11 and 12 is 0.571593, and the new cluster has 4 molecules\n",
    "- **row-5**: Cluster 15 is created, made up of molecule 0 (cluster 0) and molecule 6 (cluster 6), the distance between cluster 0 and 6 is 0.639747, and the new cluster has 2 molecules\n",
    "- **row-6**: Cluster 16 is created, made up of molecule 3 (cluster 3) and cluster 15 (created in **row-5**), the distance between cluster 3 and 15 is of 1.084561, and the new cluster has 3 molecules\n",
    "- **row-7**: Cluster 17 is created, made up of cluster 13 (created in **row-3**) and cluster 16 (created in **row-6**), the distance between cluster 13 and 16 is 1.555059, and the new cluster has 6 molecules\n",
    "- **row-8**: Cluster 18 is created, made up of cluster 14 (created in **row-4**) and cluster 17 (created in **row-17**), the distance between cluster 14 and 17 is 1.611812, and the new cluster has 10 molecules"
   ]
  },
  {
   "cell_type": "markdown",
   "id": "b5745e22",
   "metadata": {},
   "source": [
    "#### Representation: the *dendrogram*\n",
    "The way to represent a hierarchical grouping is with a dendrogram"
   ]
  },
  {
   "cell_type": "code",
   "execution_count": null,
   "id": "4db7009f",
   "metadata": {},
   "outputs": [],
   "source": [
    "dn = dendrogram(Z)"
   ]
  },
  {
   "cell_type": "markdown",
   "id": "e0498c52",
   "metadata": {},
   "source": [
    "The vertical lines in the dendrogram illustrate the mergers (or splits) made at each stage of clustering. We can see the distance, the different levels of associations between the individual data and also the associations between clusters. Let's remember that the distance used was the Euclidean distance, which we can modify when we build Z."
   ]
  },
  {
   "cell_type": "markdown",
   "id": "8eba9ca8",
   "metadata": {},
   "source": [
    "#### Clustermap\n",
    "All of the above can be arranged in a matrix and plotted by means of a hierarchical clustering heatmap, note that the order of the compounds is not necessarily the same order as the dendrogram"
   ]
  },
  {
   "cell_type": "code",
   "execution_count": null,
   "id": "c5f9edef",
   "metadata": {},
   "outputs": [],
   "source": [
    "g = sns.clustermap(similarity_matrix, method='average',\n",
    "                   cmap=\"vlag\", dendrogram_ratio=(.1,.2),\n",
    "                   linewidths=.5)\n",
    "g.ax_row_dendrogram.remove()"
   ]
  },
  {
   "cell_type": "markdown",
   "id": "82aef22e",
   "metadata": {},
   "source": [
    "#### Clustering threshold\n",
    "We can use the distance between the clusters as **limit** to group the compounds, for example, if we choose to group with a distance less than or equal to 0.6, 5 would be formed with the following compounds:\n",
    "- Cluster-1: (1, 4, 8, 9)\n",
    "- Cluster-2: (7, 2, 5)\n",
    "- Cluster-3: 3\n",
    "- Cluster-4: 0\n",
    "- Cluster-5: 6\n",
    "\n",
    "The method ['fcluster'](https://docs.scipy.org/doc/scipy/reference/generated/scipy.cluster.hierarchy.fcluster.html#scipy.cluster.hierarchy.fcluster) organizes an array of $n $ elements, where each element indicates the number of the cluster to which the composite of that position belongs"
   ]
  },
  {
   "cell_type": "code",
   "execution_count": null,
   "id": "beb4d2a4",
   "metadata": {},
   "outputs": [],
   "source": [
    "Z = linkage(similarity_matrix)\n",
    "fcluster(Z, t=0.6, criterion='distance')"
   ]
  },
  {
   "cell_type": "markdown",
   "id": "49a2d26f",
   "metadata": {},
   "source": [
    "### *Butina* Clustering Algorithm: Centroids and Exclusion Spheres\n",
    "A commonly used algorithm for clustering molecules is known as the *Butina clustering algorithm*<sup> **5** </sup>\n",
    "\n",
    "We can use the `rdkit` library to implement this algorithm (`Butina.ClusterData`). As input you need a list with the Tanimoto distances of the compounds. This list can be found from the Tanimoto similarity matrix where the distances can be found with the formula $distance = 1 - similarity$.\n",
    "\n",
    "To build the list we can use the function of the tanimoto matrix, separate only the elements that are below the main diagonal and find the distance"
   ]
  },
  {
   "cell_type": "code",
   "execution_count": null,
   "id": "21969ad5",
   "metadata": {},
   "outputs": [],
   "source": [
    "similarity_matrix = tanimoto_matrix(list_fingerprints) # Similarity matrix\n",
    "a, b = np.tril_indices(len(list_fingerprints), -1) # indices of the elements below the main diagonal\n",
    "dist_similarity_matrix = 1 - similarity_matrix[a, b] # distances of compounds"
   ]
  },
  {
   "cell_type": "markdown",
   "id": "39c2d882",
   "metadata": {},
   "source": [
    "Now we choose a distance threshold to carry out the grouping, for example, if we choose 0.4 as the threshold, five clusters are obtained."
   ]
  },
  {
   "cell_type": "code",
   "execution_count": null,
   "id": "8ee2567f",
   "metadata": {},
   "outputs": [],
   "source": [
    "clusters = Butina.ClusterData(dist_similarity_matrix,len(list_fingerprints), distThresh=0.4, isDistData=True)\n",
    "clusters = sorted(clusters, key=len, reverse=True)\n",
    "clusters"
   ]
  },
  {
   "cell_type": "markdown",
   "id": "eef0b476",
   "metadata": {},
   "source": [
    "**Note**: Although the clustering is similar to that found with the `fcluster` method, note that the threshold used is different, additionally, `Butina`'s algorithm determines the *centroid* of the cluster, which will be similar to any other cluster molecule according to the given threshold value. The first element of each cluster is the centroid."
   ]
  },
  {
   "cell_type": "markdown",
   "id": "5cf68866",
   "metadata": {},
   "source": [
    "## Elbow Method\n",
    "One of the problems that we find when applying the grouping is the choice of the number of Clusters. There is no objective or broadly valid criterion for choosing an optimal number of Clusters; but we have to keep in mind that a bad choice of them can lead to very heterogeneous data groupings (few Clusters); or data, that being very similar to each other, we group them into different Clusters (many Clusters).\n",
    "\n",
    "The elbow method uses the inertia values obtained after applying the clustering for different numbers of clusters (from 1 to N Clusters), where the **inertia** is the *sum of the squared distances of each Cluster object from its centroid*. Then, we can find the *average* of the inertias for each N (commonly called *distortion*) and plot the distortion against the number of clusters<sup> **6** </sup>. The graph guides us to appreciate the change and from this we can estimate the optimal number of clusters to select.\n",
    "\n",
    "We begin by defining a function that determines the inertia and distortion, since we are going to use Butina's method to do the clustering, we must bear in mind that this depends on the *similarity threshold* and from this threshold the number of clusters is found ( the smaller the threshold, the more clusters, since the number of similar molecules is smaller)."
   ]
  },
  {
   "cell_type": "code",
   "execution_count": null,
   "id": "c0bd4b83",
   "metadata": {},
   "outputs": [],
   "source": [
    "def distorion_tanimoto(clusters, full_dataset):\n",
    "    inertia = list()\n",
    "    for cluster in clusters:\n",
    "        cluster_dataset = full_dataset.iloc[list(cluster)]\n",
    "        # centroide\n",
    "        circular_fp_query = cluster_dataset['morgan_fp'].iloc[0]\n",
    "        # lista de elementos del clúster\n",
    "        circular_fp_list = list(cluster_dataset['morgan_fp'])\n",
    "        #cuadrado de la distancia intra-cluster\n",
    "        sqrt_dist_to_centroid = (1 - np.array(DataStructs.BulkTanimotoSimilarity(circular_fp_query, circular_fp_list)))**2\n",
    "        # suma del cuadrado de la distancia de cada elemento al centro del clúster\n",
    "        inertia.append(sum(sqrt_dist_to_centroid))\n",
    "    # media de las inercias de cada clúster\n",
    "    distortion = np.mean(inertia)\n",
    "    return len(clusters), distortion"
   ]
  },
  {
   "cell_type": "markdown",
   "id": "d5ce36de",
   "metadata": {},
   "source": [
    "Now we repeat the above process, varying the similarity threshold from 0 to 1 with steps of 0.05 (*note line 7: `np.arange(0,1,0.05)`*), then we create a table of results to be able to graph them."
   ]
  },
  {
   "cell_type": "code",
   "execution_count": null,
   "id": "2e7b41a8",
   "metadata": {},
   "outputs": [],
   "source": [
    "result = list()\n",
    "molecule_mini_dataset = molecule_dataset[:10]\n",
    "list_fingerprints = molecule_mini_dataset['morgan_fp']\n",
    "similarity_matrix = tanimoto_matrix(list_fingerprints)  # Matriz de similitud\n",
    "a, b = np.tril_indices(len(list_fingerprints), -1)  # índices de los elementos debajo de la diagonal principal\n",
    "dist_similarity_matrix = 1 - similarity_matrix[a, b] # distancias de los compuestos\n",
    "for i in np.arange(0,1,0.05):\n",
    "    cutoff = round(i,2)\n",
    "    clusters = Butina.ClusterData(dist_similarity_matrix,len(list_fingerprints), distThresh=cutoff, isDistData=True)\n",
    "    n, dist = distorion_tanimoto(clusters, molecule_mini_dataset)\n",
    "    result.append((cutoff, n, dist))\n",
    "table = pd.DataFrame(result, columns=['cutoff', 'N_clusters', 'distortion'])\n",
    "table"
   ]
  },
  {
   "cell_type": "code",
   "execution_count": null,
   "id": "8cafde1b",
   "metadata": {},
   "outputs": [],
   "source": [
    "table.plot(x='N_clusters', y='distortion')"
   ]
  },
  {
   "cell_type": "markdown",
   "id": "95b08262",
   "metadata": {},
   "source": [
    "The graph shows that when the number of clusters is `N=4` there is an abrupt change (as if it were the elbow of an arm), therefore, we can choose this as the optimal number of clusters. Reviewing the table we see that the threshold we must choose is `cutoff=0.45`."
   ]
  },
  {
   "cell_type": "markdown",
   "id": "f1c70b78",
   "metadata": {},
   "source": [
    "## Hierarchical grouping of the total data\n",
    "We can use what we learned with the clustering of ten compounds to represent the clustering of the entire set of compounds.\n",
    "\n",
    "Let's start by finding the Tanimoto similarity matrix, since there are 2605 compounds, the similarity matrix has a size of 2605 x 2605\n",
    "\n",
    "**Note**: the variable *circular_fp_list* has the list of all fingerprints of the compounds"
   ]
  },
  {
   "cell_type": "code",
   "execution_count": null,
   "id": "847c6757",
   "metadata": {},
   "outputs": [],
   "source": [
    "similarity_matrix_full = tanimoto_matrix(circular_fp_list)\n",
    "similarity_matrix_full.shape"
   ]
  },
  {
   "cell_type": "markdown",
   "id": "d2df0827",
   "metadata": {},
   "source": [
    "Let's look at the heat map of the similarity matrix, which is not yet organized."
   ]
  },
  {
   "cell_type": "code",
   "execution_count": null,
   "id": "40175c24",
   "metadata": {},
   "outputs": [],
   "source": [
    "fig, ax = plt.subplots(figsize=(10, 10))\n",
    "ax = sns.heatmap(similarity_matrix_full, cmap=\"vlag\",\n",
    "                 yticklabels=False,xticklabels=False)"
   ]
  },
  {
   "cell_type": "markdown",
   "id": "2b9368ac",
   "metadata": {},
   "source": [
    "### Clustering: Butina Clustering Algorithm\n",
    "Similar to the clustering performed with the ten compounds, we are going to create a function where we can decide the Tanimoto distance threshold, for example, suppose we want to cluster molecules whose similarity is less than or equal to *cutoff*=0.2.\n",
    "**Note**: Let's remember that we are using the clustering algorithm *Butina*"
   ]
  },
  {
   "cell_type": "code",
   "execution_count": null,
   "id": "7b6a2976",
   "metadata": {},
   "outputs": [],
   "source": [
    "def cluster_fingerprints(fp_list, cutoff=0.2):\n",
    "     # Compute the Tanimoto similarity matrix\n",
    "     similarity_matrix = tanimoto_matrix(fp_list) # Similarity matrix\n",
    "     # find the distances between the compounds, save the data as a list\n",
    "     a, b = np.tril_indices(len(fp_list), -1)\n",
    "     dist_similarity_matrix = 1 - similarity_matrix[a, b]\n",
    "     # Now group the data with the Butina algorithm:\n",
    "     clusters = Butina.ClusterData(dist_similarity_matrix, len(fp_list), cutoff, isDistData=True)\n",
    "     clusters = sorted(clusters, key=len, reverse=True)\n",
    "     return clusters"
   ]
  },
  {
   "cell_type": "markdown",
   "id": "a7bb57d1",
   "metadata": {},
   "source": [
    "When executing the *cluster_fingerprints* function, the clusters are created, starting with those with the largest number of molecules, let's see the first 10."
   ]
  },
  {
   "cell_type": "code",
   "execution_count": null,
   "id": "291bcc19",
   "metadata": {},
   "outputs": [],
   "source": [
    "# Run the clustering procedure for the data set, distance: 0.2\n",
    "clusters = cluster_fingerprints(morgan_fp_list, cutoff=0.2)\n",
    "# Larger clusters\n",
    "print(clusters[:10])"
   ]
  },
  {
   "cell_type": "markdown",
   "id": "90cb1d37",
   "metadata": {},
   "source": [
    "Since we are working with a large data set, it is not a good idea to print all of the clusters, however, we can summarize the information in a frequency table."
   ]
  },
  {
   "cell_type": "code",
   "execution_count": null,
   "id": "1a80679b",
   "metadata": {},
   "outputs": [],
   "source": [
    "agrup = list(map(len, clusters))\n",
    "unique, counts = np.unique(agrup, return_counts=True)\n",
    "frec_table = np.flip(np.array([unique, counts]).T) # reversed order\n",
    "frec_table"
   ]
  },
  {
   "cell_type": "markdown",
   "id": "376595be",
   "metadata": {},
   "source": [
    "We can see that the largest cluster (the first one) has 14 elements and that there are 1494 compounds that did not cluster (individual clusters).\n",
    "Let's see graphically the number of elements in the largest clusters and how many of each one there are"
   ]
  },
  {
   "cell_type": "code",
   "execution_count": null,
   "id": "004f12b0",
   "metadata": {},
   "outputs": [],
   "source": [
    "fig, ax = plt.subplots(figsize=(10, 3)) # Set the matplotlib figure\n",
    "ax.bar(list(map(str, frec_table[:, 0])), frec_table[:, 1])\n",
    "ax.set_xlabel(\"total # of clusters\")\n",
    "ax.set_ylabel(\"# total elements\")\n",
    "plt.show()\n",
    "plt.close()"
   ]
  },
  {
   "cell_type": "markdown",
   "id": "7dfcff88",
   "metadata": {},
   "source": [
    "We can examine the first 14-element cluster in more detail:"
   ]
  },
  {
   "cell_type": "code",
   "execution_count": null,
   "id": "3a7cacfe",
   "metadata": {},
   "outputs": [],
   "source": [
    "list_ind_cluster0 = list(clusters[0])\n",
    "molecules_cluster0 = molecule_dataset.iloc[list_ind_cluster0]\n",
    "molecules_cluster0"
   ]
  },
  {
   "cell_type": "code",
   "execution_count": null,
   "id": "2127db0c",
   "metadata": {},
   "outputs": [],
   "source": [
    "print(f'{len(molecules_cluster0)} molecules of the largest cluster')\n",
    "legends = [\n",
    "     f\"#{index} {molecule['molecule_chembl_id']}\"\n",
    "     for index, molecule in molecules_cluster0.iterrows()\n",
    "]\n",
    "\n",
    "Chem.Draw.MolsToGridImage(\n",
    "     mols= molecules_cluster0[\"ROMol\"].tolist(),\n",
    "     legends=legends,\n",
    "     molsPerRow=5,\n",
    "     subImgSize=(250, 270),\n",
    ")"
   ]
  },
  {
   "cell_type": "markdown",
   "id": "f3c3d9db",
   "metadata": {},
   "source": [
    "We can also have a brief report on the number of groups and their sizes, depending on the size of the cluster:"
   ]
  },
  {
   "cell_type": "code",
   "execution_count": null,
   "id": "b9ad1159",
   "metadata": {},
   "outputs": [],
   "source": [
    "num_clust_g1 = sum(1 for c in clusters if len(c) == 1)\n",
    "num_clust_g5 = sum(1 for c in clusters if len(c) > 5)\n",
    "num_clust_g10 = sum(1 for c in clusters if len(c) > 10)\n",
    "\n",
    "print(\"Total number of clusters: \", len(clusters))\n",
    "print(\"# clusters with only 1 compound: \", num_clust_g1)\n",
    "print(\"# clusters with >5 compounds: \", num_clust_g5)\n",
    "print(\"# clusters with >10 compounds: \", num_clust_g10)"
   ]
  },
  {
   "cell_type": "markdown",
   "id": "1f87195e",
   "metadata": {},
   "source": [
    "#### Optimal number of clusters and similarity threshold"
   ]
  },
  {
   "cell_type": "markdown",
   "id": "b7b3bf99",
   "metadata": {},
   "source": [
    "Using the algorithm we used for the ten elements, we can vary finding the *distortion* for different cluster numbers (`N`)."
   ]
  },
  {
   "cell_type": "code",
   "execution_count": null,
   "id": "86ad6b09",
   "metadata": {},
   "outputs": [],
   "source": [
    "result = list()\n",
    "# Now we use the total number of molecules\n",
    "list_fingerprints = molecule_dataset['morgan_fp']\n",
    "similarity_matrix = tanimoto_matrix(list_fingerprints) # Similarity matrix\n",
    "a, b = np.tril_indices(len(list_fingerprints), -1) # indices of the elements below the main diagonal\n",
    "dist_similarity_matrix = 1 - similarity_matrix[a, b] # distances of compounds\n",
    "for i in np.arange(0,1,0.05):\n",
    "     cutoff = round(i,2)\n",
    "     clusters = Butina.ClusterData(dist_similarity_matrix,len(list_fingerprints), distThresh=cutoff, isDistData=True)\n",
    "     n, dist = distorion_tanimoto(clusters, molecule_dataset)\n",
    "     result.append((cutoff, n, dist))\n",
    "table = pd.DataFrame(result, columns=['cutoff', 'N_clusters', 'distortion'])\n",
    "table"
   ]
  },
  {
   "cell_type": "code",
   "execution_count": null,
   "id": "e3c17e0f",
   "metadata": {},
   "outputs": [],
   "source": [
    "table.plot(x='N_clusters', y='distortion')"
   ]
  },
  {
   "cell_type": "markdown",
   "id": "2051c318",
   "metadata": {},
   "source": [
    "As we can see, after `N=200` (number of clusters) there is no great variation of the distortion, therefore, we do not need to vary the similarity threshold from 0 to 1 (`cutoff`). Let's change line 7 so that it only goes to 0.5 instead of 1."
   ]
  },
  {
   "cell_type": "code",
   "execution_count": null,
   "id": "d0053046",
   "metadata": {},
   "outputs": [],
   "source": [
    "result = list()\n",
    "# Now we use the total number of molecules\n",
    "list_fingerprints = molecule_dataset['morgan_fp']\n",
    "similarity_matrix = tanimoto_matrix(list_fingerprints) # Similarity matrix\n",
    "a, b = np.tril_indices(len(list_fingerprints), -1) # indices of the elements below the main diagonal\n",
    "dist_similarity_matrix = 1 - similarity_matrix[a, b] # distances of compounds\n",
    "for i in np.arange(0,0.5,0.05):\n",
    "     cutoff = round(i,2)\n",
    "     clusters = Butina.ClusterData(dist_similarity_matrix,len(list_fingerprints), distThresh=cutoff, isDistData=True)\n",
    "     n, dist = distorion_tanimoto(clusters, molecule_dataset)\n",
    "     result.append((cutoff, n, dist))\n",
    "table = pd.DataFrame(result, columns=['cutoff', 'N_clusters', 'distortion'])\n",
    "table"
   ]
  },
  {
   "cell_type": "code",
   "execution_count": null,
   "id": "fb066e07",
   "metadata": {},
   "outputs": [],
   "source": [
    "table.plot(x='N_clusters', y='distortion')"
   ]
  },
  {
   "cell_type": "markdown",
   "id": "b48f2ce7",
   "metadata": {},
   "source": [
    "In the graph we can appreciate that around `N = 1500` there is an abrupt change in the distortion. The Table allows us to see that for `N=1470` the `cutoff=0.25`. Let's see how the clustering looks with this value:"
   ]
  },
  {
   "cell_type": "code",
   "execution_count": null,
   "id": "9b03ee9e",
   "metadata": {},
   "outputs": [],
   "source": [
    "clusters = cluster_fingerprints(morgan_fp_list, cutoff=0.25)\n",
    "fig, ax = plt.subplots(figsize=(10, 3)) # Set the matplotlib figure\n",
    "cluster = list(map(len, clusters))\n",
    "unique, counts = np.unique(agrup, return_counts=True)\n",
    "frec_table = np.flip(np.array([unique, counts]).T) # reversed order\n",
    "\n",
    "ax.bar(list(map(str, frec_table[:, 0])), frec_table[:, 1], color=\"mediumseagreen\")\n",
    "ax.set_title(f\"Limit: 0.25\")\n",
    "ax.set_xlabel(\"total # of clusters\")\n",
    "ax.set_ylabel(\"# total elements\")\n",
    "plt.show()\n",
    "plt.close()"
   ]
  },
  {
   "cell_type": "markdown",
   "id": "ea9c03da",
   "metadata": {},
   "source": [
    "The cluster with the most similar molecules has 18 molecules."
   ]
  },
  {
   "cell_type": "code",
   "execution_count": null,
   "id": "8d61b012",
   "metadata": {},
   "outputs": [],
   "source": [
    "list_ind_cluster0 = list(clusters[0])\n",
    "molecules_cluster0 = molecule_dataset.iloc[list_ind_cluster0]\n",
    "molecules_cluster0"
   ]
  },
  {
   "cell_type": "code",
   "execution_count": null,
   "id": "1717878f",
   "metadata": {},
   "outputs": [],
   "source": [
    "print(f'{len(molecules_cluster0)} molecules of the largest cluster')\n",
    "legends = [\n",
    "     f\"#{index} {molecule['molecule_chembl_id']}\"\n",
    "     for index, molecule in molecules_cluster0.iterrows()\n",
    "]\n",
    "\n",
    "Chem.Draw.MolsToGridImage(\n",
    "     mols= molecules_cluster0[\"ROMol\"].tolist(),\n",
    "     legends=legends,\n",
    "     molsPerRow=5,\n",
    "     subImgSize=(250, 270),\n",
    ")"
   ]
  },
  {
   "cell_type": "markdown",
   "id": "c0453fd2",
   "metadata": {},
   "source": [
    "## Clustermap\n",
    "We can also organize the Tanimoto similarity matrix into a hierarchical clustering heat map where we can see how the most similar molecules cluster together."
   ]
  },
  {
   "cell_type": "code",
   "execution_count": null,
   "id": "627d93f4",
   "metadata": {},
   "outputs": [],
   "source": [
    "from matplotlib.pyplot import figure\n",
    "similarity_matrix_full = tanimoto_matrix(circular_fp_list)\n",
    "\n",
    "g = sns.clustermap(similarity_matrix_full, cmap=\"vlag\",\n",
    "                   dendrogram_ratio=(.1,.2),\n",
    "                   yticklabels=False,xticklabels=False,\n",
    "                   figsize=(10,10))\n",
    "g.ax_row_dendrogram.remove()\n",
    "!mkdir -p data/\n",
    "plt.savefig('./data/TanimotoSimilarity.png', bbox_inches='tight', dpi=500)\n",
    "plt.show()\n",
    "plt.close()"
   ]
  },
  {
   "cell_type": "markdown",
   "id": "3e535097",
   "metadata": {},
   "source": [
    "# Practical activity\n",
    "\n",
    "Taking into account what has been reviewed in this second part, make a code in python with which you can:\n",
    "\n",
    "1. Vary the similarity threshold from 0 to 0.7. Discuss your results.\n",
    "2. Select a different appropriate threshold and display the cluster centers of the first 10 clusters.\n",
    "\n",
    "At the end, you must prepare a document in PDF format in which you attach the proposed code and the output of the execution."
   ]
  },
  {
   "cell_type": "markdown",
   "id": "fc3f4ed5",
   "metadata": {},
   "source": [
    "# Conclusion\n",
    "\n",
    "In this lab, we have learned how to use fingerprints and similarity measures to compare a query molecule against a data set of molecules and rank the molecule by similarity. Additionally, we learned about clustering a composite data set and discussed how to choose a reasonable clustering threshold."
   ]
  },
  {
   "cell_type": "markdown",
   "id": "7263cd8a-97c0-4b4c-bca1-391010bc5130",
   "metadata": {},
   "source": [
    "# References\n",
    "\n",
    "1.  Seo, M., Shin, H. K., Myung, Y., Hwang, S., & No, K. T. (2020). Development of natural compound molecular fingerprint (Nc-mfp) with the dictionary of natural products (Dnp) for natural product-based drug development. Journal of Cheminformatics, 12(1), 6. https://doi.org/10.1186/s13321-020-0410-3\n",
    "2. Capecchi, A., Probst, D., & Reymond, J.-L. (2020). One molecular fingerprint to rule them all: Drugs, biomolecules, and the metabolome. Journal of Cheminformatics, 12(1), 43. https://doi.org/10.1186/s13321-020-00445-4\n",
    "3. Rácz, A., Bajusz, D., & Héberger, K. (2018). Life beyond the Tanimoto coefficient: Similarity measures for interaction fingerprints. Journal of Cheminformatics, 10(1), 48. https://doi.org/10.1186/s13321-018-0302-y\n",
    "4. Nielsen, F. (2016). Hierarchical clustering. En F. Nielsen (Ed.), Introduction to HPC with MPI for Data Science (pp. 195-211). Springer International Publishing. https://doi.org/10.1007/978-3-319-21903-5_8\n",
    "5. Butina, D. (1999). Unsupervised data base clustering based on daylight’s fingerprint and tanimoto similarity: A fast and automated way to cluster small and large data sets. Journal of Chemical Information and Computer Sciences, 39(4), 747-750. https://doi.org/10.1021/ci9803381\n",
    "6. Shi, C., Wei, B., Wei, S., Wang, W., Liu, H., & Liu, J. (2021). A quantitative discriminant method of elbow point for the optimal number of clusters in clustering algorithm. EURASIP Journal on Wireless Communications and Networking, 2021(1), 31. https://doi.org/10.1186/s13638-021-01910-w"
   ]
  }
 ],
 "metadata": {
  "kernelspec": {
   "display_name": "Python 3 (ipykernel)",
   "language": "python",
   "name": "python3"
  },
  "language_info": {
   "codemirror_mode": {
    "name": "ipython",
    "version": 3
   },
   "file_extension": ".py",
   "mimetype": "text/x-python",
   "name": "python",
   "nbconvert_exporter": "python",
   "pygments_lexer": "ipython3",
   "version": "3.8.17"
  }
 },
 "nbformat": 4,
 "nbformat_minor": 5
}
