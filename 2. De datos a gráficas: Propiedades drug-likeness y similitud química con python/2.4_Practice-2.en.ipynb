{
 "cells": [
  {
   "cell_type": "markdown",
   "id": "592732f2",
   "metadata": {},
   "source": [
    "# Practice 2: Ligand-based screening: Compound similarity and compound clustering\n",
    "\n",
    "> **Note:** This book is available in two ways:\n",
    "> 1. Downloading the repository and following the instructions in the file [README.md](https://github.com/ramirezlab/CHEMO/blob/main/README.md)\n",
    "> 2. Clicking here on [![Open In Colab](https://colab.research.google.com/assets/colab-badge.svg)](https://colab.research.google.com/github/ramirezlab/PILE/blob/main/2.%20De%20datos%20a%20gr%C3%A1ficas%3A%20Propiedades%20drug-likeness%20y%20similitud%20qu%C3%ADmica%20con%20python/2.4_Practice-2.en.ipynb?hl=es)\n",
    "\n",
    "## Theory\n",
    "\n",
    "### **Molecular fingerprints**\n",
    "Molecular fingerprints are essential cheminformatics tools for virtual screening and mapping chemical space. These is a way to describe a molecular structure that can convert a molecular structure into a bit string<sup> **1** </sup>. Each bit corresponds to a predefined molecular feature or environment, where \"1\" represents the presence and \"0\" the absence of a feature. Since molecular fingerprint encodes the structure of a molecule, it is a useful method to describe the structural similarity among the molecules as a molecular descriptor. \n",
    "\n",
    "#### **Morgan fingerprints**\n",
    "The most popular molecular fingerprint is the Morgan fingerprint that is based on the Morgan algorithm.These algorithmm generated bits correspond to the circular environments of each atom in a molecule and the number of neighboring bonds and atoms to consider is set by the radius, which are predictive of the biological activities of small organic molecules<sup> **2** </sup>.\n",
    "\n",
    "### **Molecular similarity measure: Tanimoto coefficient**\n",
    "Two such fingerprints are most commonly compared with the Tanimoto similarity metric. These metric take  a value between 0 and 1, with 1 corresponding to identical fingerprints<sup> **3** </sup>.\n",
    "\n",
    "\n",
    "<img src=\"img/Tanimoto-coefficient-en.jpg\" alt=\"Tanimoto-coefficient\" width=\"800\"/>\n",
    "\n",
    "### **Clustering**\n",
    "Is the task of grouping a set of objects in such a way that objects in the same group (called a cluster) are more similar to each other than to those in other groups (clusters). Compound clustering in pharmaceutical research is often based on chemical or structural similarity between compounds to find groups that share properties.\n",
    "\n",
    "There are [key steps](https://www.sciencedirect.com/science/article/pii/B008045044X001474) in the clustering approach that we will follow:\n",
    "\n",
    "**1. Data preparation and compound encoding:**\n",
    "\n",
    "- The compounds in the input data will be encoded as molecular fingerprints.\n",
    "    \n",
    "**2. Tanimoto similarity (or distance) matrix:**\n",
    "\n",
    "- The similarity between two fingerprints is calculated using the Tanimoto coefficient.\n",
    "- Matrix with Tanimoto similarities between all possible molecule/fingerprint pairs (n * n similarity matrix with =number of molecules, upper triangle matrix used only).\n",
    "- Equally, the distances matrix can be calculated (1 - similarity).\n",
    "    \n",
    "**3. Clustering molecules**\n",
    "\n",
    "- The clustering result depends on the threshold chosen by the user:\n",
    "    - The smaller the distance value cut-off, the more similar the compounds are required to belong to one cluster.\n",
    "    - The higher the threshold (distance cutoff), the more molecules are considered as similar, you will have less clusters.\n",
    "    - The lower the threshold, the more small clusters and \"singletons\" appear."
   ]
  },
  {
   "cell_type": "markdown",
   "id": "daa5a07d",
   "metadata": {},
   "source": [
    "## Problem Statement\n",
    "We have a dataset with many compounds and we want to group them because similar compounds might bind to the same targets and show similar effects. From such a clustering, a diverse set of compounds can also be selected from a larger set of screening compounds for further experimental testing."
   ]
  },
  {
   "cell_type": "code",
   "execution_count": null,
   "id": "b2373b9c",
   "metadata": {
    "ExecuteTime": {
     "end_time": "2023-04-11T17:03:14.328556Z",
     "start_time": "2023-04-11T17:03:14.031732Z"
    }
   },
   "outputs": [],
   "source": [
    "# Import libraries needed to run this notebook\n",
    "!pip install rdkit\n",
    "from pathlib import Path\n",
    "import seaborn as sns\n",
    "import pandas as pd\n",
    "import numpy as np\n",
    "import matplotlib.pyplot as plt\n",
    "from scipy.cluster.hierarchy import linkage, dendrogram, fcluster\n",
    "from rdkit import Chem, DataStructs\n",
    "from rdkit.ML.Cluster import Butina\n",
    "from rdkit.Chem import (\n",
    "    PandasTools,\n",
    "    Draw,\n",
    "    Descriptors,\n",
    "    rdFingerprintGenerator,\n",
    ")"
   ]
  },
  {
   "cell_type": "markdown",
   "id": "bd4516a6",
   "metadata": {},
   "source": [
    "# Example 1: Compare a molecule with a data set\n",
    "\n",
    "Initially, we want to compare a query molecule with all the molecules in the dataset containing the bioactive compounds against *glycogen synthase kinase-3 beta*. In this case the query molecule is **Ruboxistaurin**, we want to look for similar molecules."
   ]
  },
  {
   "cell_type": "markdown",
   "id": "2aaa8734",
   "metadata": {},
   "source": [
    "## Step 1: Load data set\n",
    "\n",
    "The dataset contain the bioactive compounds against Glycogen synthase kinase-3 beta that we built in the tutorial 2.1_Dataframes. "
   ]
  },
  {
   "cell_type": "code",
   "execution_count": null,
   "id": "45fd11cf",
   "metadata": {
    "ExecuteTime": {
     "end_time": "2023-04-11T17:03:40.183087Z",
     "start_time": "2023-04-11T17:03:40.124223Z"
    }
   },
   "outputs": [],
   "source": [
    "import pandas as pd\n",
    "\n",
    "# CSV file URL\n",
    "csv_url = 'https://raw.githubusercontent.com/ramirezlab/PILE/refs/heads/main/2.%20De%20datos%20a%20gr%C3%A1ficas%3A%20Propiedades%20drug-likeness%20y%20similitud%20qu%C3%ADmica%20con%20python/data/compounds_P49841_full.csv'\n",
    "# Read the CSV file from the URL and extract specific columns\n",
    "columns_to_use = [\"molecule_chembl_id\", \"smiles\"]\n",
    "molecule_dataset = pd.read_csv(csv_url, usecols=columns_to_use)\n",
    "\n",
    "# Print the total number of compounds and show the first rows\n",
    "print(f'# total compounds: {len(molecule_dataset)}')\n",
    "molecule_dataset.head()"
   ]
  },
  {
   "cell_type": "markdown",
   "id": "53468fb3",
   "metadata": {},
   "source": [
    "## Step 2: Generate the fingerprint of the query molecule\n",
    "For the Ruboxistaurin molecule, we generated the ROMol object from SMILES."
   ]
  },
  {
   "cell_type": "code",
   "execution_count": null,
   "id": "a5b325b0",
   "metadata": {},
   "outputs": [],
   "source": [
    "from rdkit import Chem  # Make sure to import Chem from RDKit\n",
    "\n",
    "# Create a molecule from a SMILES string (Simplified Molecular Input Line Entry System)\n",
    "# This string represents the chemical structure of Ruboxistaurin, a protein kinase C inhibitor\n",
    "# RDKit interprets the SMILES string and internally builds a Mol (molecule) object\n",
    "query = Chem.MolFromSmiles(\"CN(C)CC1CCN2C=C(C3=CC=CC=C32)C4=C(C5=CN(CCO1)C6=CC=CC=C65)C(=O)NC4=O\")\n",
    "\n",
    "# Display the generated Mol object. This object can be used in chemical computations,\n",
    "# substructure searches, similarity comparisons, visualization, etc.\n",
    "query\n"
   ]
  },
  {
   "cell_type": "markdown",
   "id": "7a07ffd8",
   "metadata": {},
   "source": [
    "We then generated Morgan's fingerprints for the Ruboxistaurin molecule."
   ]
  },
  {
   "cell_type": "code",
   "execution_count": null,
   "id": "b9deb536",
   "metadata": {},
   "outputs": [],
   "source": [
    "# Generate the circular fingerprint (ECFP) for the molecule represented by 'query'.\n",
    "# GetFPs takes a list of molecules as input. Here, it is passed a list\n",
    "# containing only one molecule ('[query]'). The result is a list of\n",
    "# fingerprints, even if only one molecule is processed.\n",
    "# [0] is used to extract the first (and only) fingerprint from the resulting list.\n",
    "circular_fp_query = rdFingerprintGenerator.GetFPs([query])[0]\n",
    "\n",
    "# Convert the circular fingerprint, which is in an object format,\n",
    "# to a bit string (a sequence of 0s and 1s).\n",
    "# This allows viewing the fingerprint as a string representation.\n",
    "circular_fp_query.ToBitString()\n"
   ]
  },
  {
   "cell_type": "markdown",
   "id": "9e24beb2",
   "metadata": {},
   "source": [
    "## Step 3: Calculate the fingerprints of the dataset\n",
    "We now generate Morgan fingerprints for all the molecules in our data set."
   ]
  },
  {
   "cell_type": "code",
   "execution_count": null,
   "id": "62c989b8",
   "metadata": {},
   "outputs": [],
   "source": [
    "# Add a column named \"ROMol\" to the DataFrame molecule_dataset.\n",
    "# This column contains RDKit Mol objects generated from the SMILES strings\n",
    "# in the \"smiles\" column of the DataFrame.\n",
    "PandasTools.AddMoleculeColumnToFrame(molecule_dataset, \"smiles\")\n",
    "\n",
    "# Generate a list of circular fingerprints (ECFP) for the molecules\n",
    "# in the molecule_dataset DataFrame.\n",
    "# molecule_dataset[\"ROMol\"] accesses the \"ROMol\" column (which contains RDKit Mol objects).\n",
    "# .tolist() converts this column into a Python list of RDKit Mol objects, which is\n",
    "# the expected input for rdFingerprintGenerator.GetFPs().\n",
    "# The result, circular_fp_list, is a list of fingerprint objects.\n",
    "circular_fp_list = rdFingerprintGenerator.GetFPs(molecule_dataset[\"ROMol\"].tolist())\n"
   ]
  },
  {
   "cell_type": "markdown",
   "id": "dc089f96",
   "metadata": {},
   "source": [
    "## Step 4: We calculate the similarity between the molecule and the data set\n",
    "We calculated the Tanimoto similarity between the Ruboxistaurin molecule and all molecules in our data set using Morgan fingerprints."
   ]
  },
  {
   "cell_type": "code",
   "execution_count": null,
   "id": "97442486",
   "metadata": {},
   "outputs": [],
   "source": [
    "# Calculate the Tanimoto similarity between the query fingerprint and the fingerprints of the molecules in the DataFrame\n",
    "molecule_dataset[\"tanimoto_morgan\"] = DataStructs.BulkTanimotoSimilarity(circular_fp_query, circular_fp_list)\n",
    "\n",
    "# Display the first rows with the ChEMBL identifier of the molecule and its Tanimoto similarity\n",
    "molecule_dataset[[\"molecule_chembl_id\", \"tanimoto_morgan\"]].head()\n"
   ]
  },
  {
   "cell_type": "markdown",
   "id": "a67e550e",
   "metadata": {},
   "source": [
    "We can now organize the values to identify the molecules most similar to Ruboxistaurin."
   ]
  },
  {
   "cell_type": "code",
   "execution_count": null,
   "id": "663911cc",
   "metadata": {},
   "outputs": [],
   "source": [
    "# Sort the molecule_dataset DataFrame in descending order based on the values in the \"tanimoto_morgan\" column.\n",
    "# The 'by' argument specifies the column to sort by, 'ascending=False' indicates descending order,\n",
    "# and 'inplace=True' modifies the original DataFrame instead of returning a new one.\n",
    "molecule_dataset.sort_values(by = [\"tanimoto_morgan\"], ascending=False, inplace=True)\n",
    "\n",
    "# Return the first 5 rows of the sorted molecule_dataset DataFrame.\n",
    "# This allows inspection of the molecules with the highest \"tanimoto_morgan\" values.\n",
    "molecule_dataset.head(5)"
   ]
  },
  {
   "cell_type": "markdown",
   "id": "67f9c6a9",
   "metadata": {},
   "source": [
    "Finally, we can see the Ruboxistaurin molecule and the five most similar molecules in the data set."
   ]
  },
  {
   "cell_type": "code",
   "execution_count": null,
   "id": "785dc975",
   "metadata": {},
   "outputs": [],
   "source": [
    "# Set the variable top_n_molecules to 5, indicating that the top 5 molecules will be selected.\n",
    "top_n_molecules = 5\n",
    "\n",
    "# Create a new DataFrame, top_molecules, containing the first 5 rows of molecule_dataset.\n",
    "# This selects the 5 molecules with the highest \"tanimoto_morgan\" values (due to the previous sorting).\n",
    "top_molecules = molecule_dataset[:top_n_molecules]\n",
    "\n",
    "legends = [\n",
    "    f\"#{index} {molecule['molecule_chembl_id']}\"\n",
    "    for index, molecule in top_molecules.iterrows()\n",
    "]\n",
    "# Create a list of legends for the molecules to be drawn.\n",
    "# Iterate over the rows of the top_molecules DataFrame.\n",
    "# For each molecule, format a string that includes the row index and the 'molecule_chembl_id' value.\n",
    "# This list will be used to label the molecules in the grid image.\n",
    "\n",
    "Chem.Draw.MolsToGridImage(\n",
    "    mols=[query] + top_molecules[\"ROMol\"].tolist(),\n",
    "    # Generate a grid image showing the molecules.\n",
    "    # 'mols' is a list of RDKit Mol objects to draw.\n",
    "    #  [query] is the reference molecule.\n",
    "    #  top_molecules[\"ROMol\"].tolist() is the list of Mol objects for the 5 most similar molecules.\n",
    "    legends=([\"Ruboxistaurin\"] + legends),\n",
    "    # 'legends' is a list of strings to label each molecule in the grid.\n",
    "    #  [\"Ruboxistaurin\"] is the label for the reference molecule ('query').\n",
    "    molsPerRow=4,\n",
    "    # 'molsPerRow' specifies the number of molecules per row in the grid.\n",
    "    subImgSize=(250, 270),\n",
    "    # 'subImgSize' specifies the size of each subimage (molecule) in the grid.\n",
    ")\n",
    "# Generate the grid image using RDKit's MolsToGridImage function.\n"
   ]
  },
  {
   "cell_type": "markdown",
   "id": "c79ccc62",
   "metadata": {},
   "source": [
    "## Similarity distribution\n",
    "To graphically see the Tanimoto similarity distribution, we can make a histogram, remember that the closer the number is to 1, the more similar the molecules are."
   ]
  },
  {
   "cell_type": "code",
   "execution_count": null,
   "id": "928fd39a",
   "metadata": {},
   "outputs": [],
   "source": [
    "# Set up the Matplotlib figure with a size of 10x6\n",
    "fig, axes = plt.subplots(figsize=(10, 6), nrows=1, ncols=1)\n",
    "\n",
    "# Generate a histogram of the Tanimoto similarity values in the \"tanimoto_morgan\" column\n",
    "# You can find more color names at: https://www.w3schools.com/colors/colors_names.asp\n",
    "molecule_dataset.hist([\"tanimoto_morgan\"], ax=axes, color=\"darkorchid\")\n",
    "\n",
    "# X-axis label\n",
    "axes.set_xlabel(\"Similarity value\")\n",
    "\n",
    "# Y-axis label\n",
    "axes.set_ylabel(\"# molecules\")\n",
    "\n",
    "# Display the figure\n",
    "fig;"
   ]
  },
  {
   "cell_type": "markdown",
   "id": "d32a1cd9",
   "metadata": {},
   "source": [
    "We can also do a histogram with a kernel density estimates curve using seaborn. With this plot We can see how easier is the dataset distributed."
   ]
  },
  {
   "cell_type": "code",
   "execution_count": null,
   "id": "1491bb62",
   "metadata": {},
   "outputs": [],
   "source": [
    "# Generate a distribution plot (displot) with kernel density estimation (kde) enabled\n",
    "# Set the height to 8 and the aspect ratio to 2 for a wider visualization\n",
    "# Use the color \"darkorchid\" for the plot\n",
    "sns.displot(data=molecule_dataset[\"tanimoto_morgan\"], kde=True, height=8, aspect=2, color=\"darkorchid\")"
   ]
  },
  {
   "cell_type": "markdown",
   "id": "63282aeb",
   "metadata": {},
   "source": [
    "# Example 2: Hierarchical clustering\n",
    "\n",
    "Hierarchical clustering (**Hierarchical Clustering**) is a method commonly used to group data with similar characteristics (groups of data are called **clusters**)<sup> **4** </sup>.\n",
    "\n",
    "The hierarchical clustering algorithm groups the data based on the distance between each one and looking for the data that are within a cluster to be the most similar to each other. For our case, we can group the most similar compounds according to the Tanimoto distance.\n",
    "\n",
    "Initially, we are going to use **Agglomerative clustering** which starts with each compound as a separate cluster. At each step, the two closest clusters are merged creating a new cluster. These mergers continue to take place successively until at the end of the process there is only one single cluster that agglomerates all the elements.\n",
    "\n",
    "Another aspect to take into account is the way in which the **distance** between two clusters is measured, by definition the * Euclidean distance* is used, but the algorithms allow this metric to be modified."
   ]
  },
  {
   "cell_type": "markdown",
   "id": "f16752cf",
   "metadata": {},
   "source": [
    "## Data preparation\n",
    "\n",
    "We start by loading the dataset that contains the bioactive compounds against *glycogen synthase kinase-3 beta* we built it in tutorial 2.1_Dataframes.\n",
    "\n",
    "From the SMILES we create the *ROMol* objects and the *fingerprints* of each compound"
   ]
  },
  {
   "cell_type": "code",
   "execution_count": null,
   "id": "7f5c96e5",
   "metadata": {},
   "outputs": [],
   "source": [
    "# Read a CSV file from a GitHub URL and load it into a Pandas DataFrame.\n",
    "# The file contains compound data, and only the 'molecule_chembl_id' and 'smiles' columns are read.\n",
    "molecule_dataset = pd.read_csv('https://raw.githubusercontent.com/ramirezlab/PILE/refs/heads/main/2.%20De%20datos%20a%20gr%C3%A1ficas%3A%20Propiedades%20drug-likeness%20y%20similitud%20qu%C3%ADmica%20con%20python/data/compounds_P49841_full.csv', usecols=[\"molecule_chembl_id\", \"smiles\"])\n",
    "\n",
    "# Print the total number of compounds (rows) in the molecule_dataset DataFrame.\n",
    "print(f'# total compounds: {len(molecule_dataset)}')\n",
    "\n",
    "# Add a column named \"ROMol\" to the molecule_dataset DataFrame.\n",
    "# This column contains RDKit Mol objects, which are representations of the molecules\n",
    "# derived from the SMILES strings in the \"smiles\" column.\n",
    "PandasTools.AddMoleculeColumnToFrame(molecule_dataset, \"smiles\") # add ROMol\n",
    "\n",
    "# Generate a list of Morgan (ECFP) fingerprints for the molecules in the DataFrame.\n",
    "# First, extract the \"ROMol\" column from the DataFrame, which contains the RDKit Mol objects.\n",
    "# .tolist() is used to convert the column into a list of Mol objects.\n",
    "# rdFingerprintGenerator.GetFPs() generates the fingerprints for each molecule in the list.\n",
    "morgan_fp_list = rdFingerprintGenerator.GetFPs(molecule_dataset[\"ROMol\"].tolist()) # Morgan FP\n",
    "\n",
    "# Add a new column named \"morgan_fp\" to the molecule_dataset DataFrame.\n",
    "# This column contains the Morgan fingerprints generated in the previous step.\n",
    "molecule_dataset['morgan_fp'] = morgan_fp_list\n",
    "\n",
    "# Print the first 5 rows of the molecule_dataset DataFrame.\n",
    "# This allows you to view the columns and initial data, including the new \"morgan_fp\" column.\n",
    "molecule_dataset.head()"
   ]
  },
  {
   "cell_type": "markdown",
   "id": "ae35a340",
   "metadata": {},
   "source": [
    "## Tanimoto similarity matrix\n",
    "Similar to what was worked on in example 1, we are going to find the similarity of each molecule with the rest of the molecules in the set.\n",
    "\n",
    "We are going to create a function whose input is the set of *fingerprints* of the compounds, and whose output is the Tanimoto similarity matrix, where the similarity between two compounds is measured."
   ]
  },
  {
   "cell_type": "code",
   "execution_count": null,
   "id": "40f92aeb",
   "metadata": {},
   "outputs": [],
   "source": [
    "def tanimoto_matrix(fp_list):\n",
    "    # Create an identity matrix\n",
    "    N = len(fp_list)\n",
    "    similarity_matrix = np.identity(N)\n",
    "    # Indices of the lower triangular positions of the matrix\n",
    "    a, b = np.tril_indices(N, 0)\n",
    "    similarities = list()\n",
    "    for ind, i in enumerate(fp_list):\n",
    "        # Compare the current fingerprint with all previous ones in the list\n",
    "        similarities = np.append(similarities, DataStructs.BulkTanimotoSimilarity(i, fp_list[:ind+1]))\n",
    "        # Build the distance matrix\n",
    "    similarity_matrix[a,b] = similarities\n",
    "    similarity_matrix[b,a] = similarity_matrix[a,b]\n",
    "    return similarity_matrix"
   ]
  },
  {
   "cell_type": "markdown",
   "id": "882180c8",
   "metadata": {},
   "source": [
    "### Cluster of ten molecules\n",
    "To understand the clustering process we are going to work only with the first ten molecules of the set. We start by creating a list with the fingerprints of the ten molecules."
   ]
  },
  {
   "cell_type": "code",
   "execution_count": null,
   "id": "78cd2946",
   "metadata": {},
   "outputs": [],
   "source": [
    "# Select the first 10 fingerprints from the list of Morgan fingerprints\n",
    "list_fingerprints = morgan_fp_list[0:10]"
   ]
  },
  {
   "cell_type": "markdown",
   "id": "a0efc2f2",
   "metadata": {},
   "source": [
    "Now, we find the tanimoto similarity matrix with the ten fingerprints"
   ]
  },
  {
   "cell_type": "code",
   "execution_count": null,
   "id": "85a2433d",
   "metadata": {
    "collapsed": false,
    "jupyter": {
     "outputs_hidden": false
    }
   },
   "outputs": [],
   "source": [
    "# Calculate the Tanimoto similarity matrix for only the first 10 compounds\n",
    "similarity_matrix = tanimoto_matrix(list_fingerprints)\n",
    "\n",
    "# Display the similarity matrix\n",
    "similarity_matrix"
   ]
  },
  {
   "cell_type": "markdown",
   "id": "89258754",
   "metadata": {},
   "source": [
    "We can represent it by means of a heat map:"
   ]
  },
  {
   "cell_type": "code",
   "execution_count": null,
   "id": "4fbb8ef0",
   "metadata": {},
   "outputs": [],
   "source": [
    "similarity_matrix = tanimoto_matrix(list_fingerprints) # Only for the first 10 compounds\n",
    "ax = sns.heatmap(similarity_matrix, annot=True, fmt='.2f', cmap=\"vlag\") # annot=True displays the Tanimoto coefficient and fmt='.2f' shows only two decimal places\n",
    "ax.set(xlabel=\"\", ylabel=\"\")\n",
    "ax.xaxis.tick_top()"
   ]
  },
  {
   "cell_type": "markdown",
   "id": "1c4d1e2f",
   "metadata": {},
   "source": [
    "#### Grouping by distances\n",
    "As we explained initially, the **grouping by agglomeration** consists of merging consecutively those clusters that are closest, to understand the grouping we can use the method [`linkage`](https://docs.scipy.org/doc/scipy/reference/generated/scipy.cluster.hierarchy.linkage.html#scipy.cluster.hierarchy.linkage), which creates a *linkage matrix* with the order in which the different clusters were grouped ( By default, the measurement metric is the *Euclidean distance* and the grouping method is the *closest point*), we are going to work with the mean distance of the grouping elements (*average*)."
   ]
  },
  {
   "cell_type": "code",
   "execution_count": null,
   "id": "0eec0bf1",
   "metadata": {},
   "outputs": [],
   "source": [
    "# Perform hierarchical clustering using the average linkage method\n",
    "# 'similarity_matrix' is the previously computed Tanimoto similarity matrix\n",
    "Z = linkage(similarity_matrix, method='average')\n",
    "\n",
    "# Display the resulting hierarchical clustering structure\n",
    "Z"
   ]
  },
  {
   "cell_type": "markdown",
   "id": "e13c3a19",
   "metadata": {},
   "source": [
    "In the *i-th* row, `Z[i,0]` and `Z[i,1]` indicate the clusters that are combined to form cluster $n+i$. `Z[i,2]` indicates the distance between the clusters and `Z[i,3]` represents the number of compounds in the new cluster.\n",
    "Recall that we start with ten clusters numbered from 0 to 9 (the initial ten molecules), so the rows of the Z bond matrix are:\n",
    "- **row-0**: Cluster 10 is created, made up of molecule 1 (cluster 1) and molecule 5 (cluster 5), the distance between cluster 1 and 5 is 0.235548, and the new cluster has 2 molecules\n",
    "- **row-1**: Cluster 11 is created, made up of molecule 8 (cluster 8) and molecule 9 (cluster 9), the distance between cluster 8 and 9 is 0.343349, and the new cluster has 2 molecules\n",
    "- **row-2**: Cluster 12 is created, made up of molecule 2 (cluster 2) and molecule 7 (cluster 7), the distance between cluster 2 and 7 is 0.364662, and the new cluster has 2 molecules\n",
    "- **row-3**: Cluster 13 is created, made up of molecule 4 (cluster 4) and cluster 10 (created in **row-0**), the distance between cluster 4 and 10 is of 0.500123, and the new cluster has 3 molecules\n",
    "- **row-4**: Cluster 14 is created, made up of cluster 11 (created in **row-1**) and cluster 12 (created in **row-2**), the distance between cluster 11 and 12 is 0.571593, and the new cluster has 4 molecules\n",
    "- **row-5**: Cluster 15 is created, made up of molecule 0 (cluster 0) and molecule 6 (cluster 6), the distance between cluster 0 and 6 is 0.639747, and the new cluster has 2 molecules\n",
    "- **row-6**: Cluster 16 is created, made up of molecule 3 (cluster 3) and cluster 15 (created in **row-5**), the distance between cluster 3 and 15 is of 1.084561, and the new cluster has 3 molecules\n",
    "- **row-7**: Cluster 17 is created, made up of cluster 13 (created in **row-3**) and cluster 16 (created in **row-6**), the distance between cluster 13 and 16 is 1.555059, and the new cluster has 6 molecules\n",
    "- **row-8**: Cluster 18 is created, made up of cluster 14 (created in **row-4**) and cluster 17 (created in **row-17**), the distance between cluster 14 and 17 is 1.611812, and the new cluster has 10 molecules"
   ]
  },
  {
   "cell_type": "markdown",
   "id": "b5745e22",
   "metadata": {},
   "source": [
    "#### Representation: the *dendrogram*\n",
    "The way to represent a hierarchical grouping is with a dendrogram"
   ]
  },
  {
   "cell_type": "code",
   "execution_count": null,
   "id": "4db7009f",
   "metadata": {},
   "outputs": [],
   "source": [
    "# Generate the dendrogram from the clustering matrix 'Z'\n",
    "dn = dendrogram(Z)"
   ]
  },
  {
   "cell_type": "markdown",
   "id": "e0498c52",
   "metadata": {},
   "source": [
    "The vertical lines in the dendrogram illustrate the mergers (or splits) made at each stage of clustering. We can see the distance, the different levels of associations between the individual data and also the associations between clusters. Let's remember that the distance used was the Euclidean distance, which we can modify when we build Z."
   ]
  },
  {
   "cell_type": "markdown",
   "id": "8eba9ca8",
   "metadata": {},
   "source": [
    "#### Clustermap\n",
    "All of the above can be arranged in a matrix and plotted by means of a hierarchical clustering heatmap, note that the order of the compounds is not necessarily the same order as the dendrogram"
   ]
  },
  {
   "cell_type": "code",
   "execution_count": null,
   "id": "c5f9edef",
   "metadata": {},
   "outputs": [],
   "source": [
    "# Create a clustermap (heatmap with hierarchical clustering) based on the Tanimoto similarity matrix\n",
    "g = sns.clustermap(similarity_matrix, method='average',\n",
    "                   cmap=\"vlag\",  # Color map\n",
    "                   dendrogram_ratio=(.1, .2),  # Dendrogram size ratio on the axes (rows, columns)\n",
    "                   linewidths=.5)  # Line width between heatmap cells\n",
    "\n",
    "# Remove the row dendrogram for a clearer visualization\n",
    "g.ax_row_dendrogram.remove()"
   ]
  },
  {
   "cell_type": "markdown",
   "id": "82aef22e",
   "metadata": {},
   "source": [
    "#### Clustering threshold\n",
    "We can use the distance between the clusters as **limit** to group the compounds, for example, if we choose to group with a distance less than or equal to 0.6, 5 would be formed with the following compounds:\n",
    "- Cluster-1: (1, 4, 8, 9)\n",
    "- Cluster-2: (7, 2, 5)\n",
    "- Cluster-3: 3\n",
    "- Cluster-4: 0\n",
    "- Cluster-5: 6\n",
    "\n",
    "The method ['fcluster'](https://docs.scipy.org/doc/scipy/reference/generated/scipy.cluster.hierarchy.fcluster.html#scipy.cluster.hierarchy.fcluster) organizes an array of $n $ elements, where each element indicates the number of the cluster to which the composite of that position belongs"
   ]
  },
  {
   "cell_type": "code",
   "execution_count": null,
   "id": "beb4d2a4",
   "metadata": {},
   "outputs": [],
   "source": [
    "# Perform hierarchical clustering on the Tanimoto similarity matrix\n",
    "Z = linkage(similarity_matrix)\n",
    "\n",
    "# Obtain clusters from the linkage matrix Z\n",
    "# 't=0.6' defines the distance threshold for forming clusters\n",
    "# 'criterion=\"distance\"' indicates that linkage distance will be used to define the clusters\n",
    "fcluster(Z, t=0.6, criterion='distance')"
   ]
  },
  {
   "cell_type": "markdown",
   "id": "49a2d26f",
   "metadata": {},
   "source": [
    "### *Butina* Clustering Algorithm: Centroids and Exclusion Spheres\n",
    "A commonly used algorithm for clustering molecules is known as the *Butina clustering algorithm*<sup> **5** </sup>\n",
    "\n",
    "We can use the `rdkit` library to implement this algorithm (`Butina.ClusterData`). As input you need a list with the Tanimoto distances of the compounds. This list can be found from the Tanimoto similarity matrix where the distances can be found with the formula $distance = 1 - similarity$.\n",
    "\n",
    "To build the list we can use the function of the tanimoto matrix, separate only the elements that are below the main diagonal and find the distance"
   ]
  },
  {
   "cell_type": "code",
   "execution_count": null,
   "id": "21969ad5",
   "metadata": {},
   "outputs": [],
   "source": [
    "similarity_matrix = tanimoto_matrix(list_fingerprints)  # Similarity matrix\n",
    "a, b = np.tril_indices(len(list_fingerprints), -1)  # Indices of the elements below the main diagonal\n",
    "dist_similarity_matrix = 1 - similarity_matrix[a, b]  # Compound distances\n"
   ]
  },
  {
   "cell_type": "markdown",
   "id": "39c2d882",
   "metadata": {},
   "source": [
    "Now we choose a distance threshold to carry out the grouping, for example, if we choose 0.4 as the threshold, five clusters are obtained."
   ]
  },
  {
   "cell_type": "code",
   "execution_count": null,
   "id": "8ee2567f",
   "metadata": {},
   "outputs": [],
   "source": [
    "# Apply the Butina clustering algorithm based on the similarity matrix\n",
    "# 'dist_similarity_matrix' is the Tanimoto similarity matrix transformed into a distance matrix\n",
    "# 'len(list_fingerprints)' is the total number of fingerprints to consider\n",
    "# 'distThresh=0.4' sets a distance threshold to define the clusters\n",
    "# 'isDistData=True' indicates that the input data is a distance matrix\n",
    "clusters = Butina.ClusterData(dist_similarity_matrix, len(list_fingerprints), distThresh=0.4, isDistData=True)\n",
    "\n",
    "# Sort the clusters by size in descending order (largest first)\n",
    "clusters = sorted(clusters, key=len, reverse=True)\n",
    "\n",
    "# Display the obtained clusters\n",
    "clusters"
   ]
  },
  {
   "cell_type": "markdown",
   "id": "eef0b476",
   "metadata": {},
   "source": [
    "**Note**: Although the clustering is similar to that found with the `fcluster` method, note that the threshold used is different, additionally, `Butina`'s algorithm determines the *centroid* of the cluster, which will be similar to any other cluster molecule according to the given threshold value. The first element of each cluster is the centroid."
   ]
  },
  {
   "cell_type": "markdown",
   "id": "5cf68866",
   "metadata": {},
   "source": [
    "## Elbow Method\n",
    "One of the problems that we find when applying the grouping is the choice of the number of Clusters. There is no objective or broadly valid criterion for choosing an optimal number of Clusters; but we have to keep in mind that a bad choice of them can lead to very heterogeneous data groupings (few Clusters); or data, that being very similar to each other, we group them into different Clusters (many Clusters).\n",
    "\n",
    "The elbow method uses the inertia values obtained after applying the clustering for different numbers of clusters (from 1 to N Clusters), where the **inertia** is the *sum of the squared distances of each Cluster object from its centroid*. Then, we can find the *average* of the inertias for each N (commonly called *distortion*) and plot the distortion against the number of clusters<sup> **6** </sup>. The graph guides us to appreciate the change and from this we can estimate the optimal number of clusters to select.\n",
    "\n",
    "We begin by defining a function that determines the inertia and distortion, since we are going to use Butina's method to do the clustering, we must bear in mind that this depends on the *similarity threshold* and from this threshold the number of clusters is found ( the smaller the threshold, the more clusters, since the number of similar molecules is smaller)."
   ]
  },
  {
   "cell_type": "code",
   "execution_count": null,
   "id": "c0bd4b83",
   "metadata": {},
   "outputs": [],
   "source": [
    "# Define a function called 'distorion_tanimoto' that calculates the Tanimoto distortion for a set of clusters.\n",
    "def distorion_tanimoto(clusters, full_dataset):\n",
    "    # Initialize an empty list called 'inertia' to store the inertia of each cluster.\n",
    "    inertia = list()\n",
    "\n",
    "    # Iterate over each cluster in the 'clusters' list.\n",
    "    for cluster in clusters:\n",
    "        # Create a subset of the 'full_dataset' DataFrame corresponding to the molecules in the current cluster.\n",
    "        # 'cluster' contains the indices of the molecules belonging to the cluster.\n",
    "        # 'full_dataset.iloc[list(cluster)]' selects the rows of the DataFrame using these indices.\n",
    "        cluster_dataset = full_dataset.iloc[list(cluster)]\n",
    "\n",
    "        # Select the fingerprint of the first molecule in the cluster as the \"centroid\" of the cluster.\n",
    "        circular_fp_query = cluster_dataset['morgan_fp'].iloc[0]\n",
    "\n",
    "        # Create a list of fingerprints for all molecules in the cluster.\n",
    "        circular_fp_list = list(cluster_dataset['morgan_fp'])\n",
    "\n",
    "        # Compute the squared Tanimoto distance between the centroid and each molecule in the cluster.\n",
    "        # DataStructs.BulkTanimotoSimilarity calculates Tanimoto similarity between the centroid and the rest.\n",
    "        # (1 - similarity) gives the distance, which is then squared.\n",
    "        sqrt_dist_to_centroid = (1 - np.array(DataStructs.BulkTanimotoSimilarity(circular_fp_query, circular_fp_list)))**2\n",
    "\n",
    "        # Compute the sum of squared distances from each molecule to the centroid of the cluster.\n",
    "        # This sum represents the cluster's inertia, a measure of how dispersed the points are within the cluster.\n",
    "        inertia.append(sum(sqrt_dist_to_centroid))\n",
    "\n",
    "    # Calculate the mean inertia of all clusters.\n",
    "    # This mean represents the total distortion of the partition, a measure of how well the clusters represent the data.\n",
    "    distortion = np.mean(inertia)\n",
    "    \n",
    "    # Return the number of clusters and the distortion.\n",
    "    return len(clusters), distortion"
   ]
  },
  {
   "cell_type": "markdown",
   "id": "d5ce36de",
   "metadata": {},
   "source": [
    "Now we repeat the above process, varying the similarity threshold from 0 to 1 with steps of 0.05 (*note line 7: `np.arange(0,1,0.05)`*), then we create a table of results to be able to graph them."
   ]
  },
  {
   "cell_type": "code",
   "execution_count": null,
   "id": "2e7b41a8",
   "metadata": {},
   "outputs": [],
   "source": [
    "# Initialize an empty list called 'result' to store the clustering analysis results.\n",
    "result = list()\n",
    "\n",
    "# Create a subset of the 'molecule_dataset' DataFrame containing the first 10 molecules.\n",
    "molecule_mini_dataset = molecule_dataset[:10]\n",
    "\n",
    "# Extract the Morgan fingerprint column ('morgan_fp') from the subset and assign it to the variable 'list_fingerprints'.\n",
    "list_fingerprints = molecule_mini_dataset['morgan_fp']\n",
    "\n",
    "# Calculate the Tanimoto similarity matrix between the fingerprints in 'list_fingerprints' using the 'tanimoto_matrix' function.\n",
    "# The result is a square matrix where each element (i, j) represents the similarity between fingerprint i and fingerprint j.\n",
    "similarity_matrix = tanimoto_matrix(list_fingerprints)  # Similarity matrix\n",
    "\n",
    "# Generate the indices for the positions below the main diagonal of a square matrix.\n",
    "# 'a' contains the row indices, and 'b' contains the column indices.\n",
    "# The argument '-1' ensures that the main diagonal is excluded.\n",
    "a, b = np.tril_indices(len(list_fingerprints), -1)  # Indices of elements below the main diagonal\n",
    "\n",
    "# Calculate the distance matrix from the similarity matrix.\n",
    "# Distance is computed as 1 - similarity. This converts similarities into distances,\n",
    "# where a similarity of 1 (maximum similarity) corresponds to a distance of 0, and a similarity of 0\n",
    "# (minimum similarity) corresponds to a distance of 1. Then, only the distances\n",
    "# corresponding to the lower triangle of the matrix (excluding the diagonal) are selected using indices 'a' and 'b'.\n",
    "dist_similarity_matrix = 1 - similarity_matrix[a, b]  # Compound distances\n",
    "\n",
    "# Iterate over a range of threshold (cutoff) values from 0 to 1 with a step of 0.05.\n",
    "for i in np.arange(0,1,0.05):\n",
    "    # Round the threshold value to 2 decimal places.\n",
    "    cutoff = round(i,2)\n",
    "\n",
    "    # Perform Butina clustering using the distance matrix and the current threshold.\n",
    "    # 'dist_similarity_matrix' contains the distances between compounds.\n",
    "    # 'len(list_fingerprints)' is the number of compounds.\n",
    "    # 'distThresh' is the distance threshold for forming clusters.\n",
    "    # 'isDistData=True' indicates that the input data are distances, not similarities.\n",
    "    clusters = Butina.ClusterData(dist_similarity_matrix,len(list_fingerprints), distThresh=cutoff, isDistData=True)\n",
    "\n",
    "    # Compute the number of clusters ('n') and the distortion ('dist') for the current clustering.\n",
    "    # Distortion is a measure of how well the clusters represent the data.\n",
    "    n, dist = distorion_tanimoto(clusters, molecule_mini_dataset)\n",
    "\n",
    "    # Append the results (cutoff, number of clusters, distortion) to the 'result' list.\n",
    "    result.append((cutoff, n, dist))\n",
    "\n",
    "# Create a Pandas DataFrame called 'table' from the 'result' list.\n",
    "# The columns of the DataFrame are 'cutoff', 'N_clusters', and 'distortion'.\n",
    "table = pd.DataFrame(result, columns=['cutoff', 'N_clusters', 'distortion'])\n",
    "\n",
    "# Print the 'table' DataFrame.\n",
    "# This DataFrame contains the results of the clustering analysis for different threshold values.\n",
    "print(table)\n"
   ]
  },
  {
   "cell_type": "code",
   "execution_count": null,
   "id": "8cafde1b",
   "metadata": {},
   "outputs": [],
   "source": [
    "# Plot the average intra-cluster distortion as a function of the number of clusters\n",
    "# ---------------------------------------------------------------\n",
    "# This plot allows visualization of how distortion (1 - average similarity)\n",
    "# changes as the number of clusters varies with different cutoff thresholds.\n",
    "# A good \"cutoff\" value is typically found where there is a balance\n",
    "# between a reasonable number of clusters and low distortion.\n",
    "# ---------------------------------------------------------------\n",
    "table.plot(x='N_clusters', y='distortion')\n"
   ]
  },
  {
   "cell_type": "markdown",
   "id": "95b08262",
   "metadata": {},
   "source": [
    "The graph shows that when the number of clusters is `N=4` there is an abrupt change (as if it were the elbow of an arm), therefore, we can choose this as the optimal number of clusters. Reviewing the table we see that the threshold we must choose is `cutoff=0.45`."
   ]
  },
  {
   "cell_type": "markdown",
   "id": "f1c70b78",
   "metadata": {},
   "source": [
    "## Hierarchical grouping of the total data\n",
    "We can use what we learned with the clustering of ten compounds to represent the clustering of the entire set of compounds.\n",
    "\n",
    "Let's start by finding the Tanimoto similarity matrix, since there are 2605 compounds, the similarity matrix has a size of 2605 x 2605\n",
    "\n",
    "**Note**: the variable *circular_fp_list* has the list of all fingerprints of the compounds"
   ]
  },
  {
   "cell_type": "code",
   "execution_count": null,
   "id": "847c6757",
   "metadata": {},
   "outputs": [],
   "source": [
    "# Calculate the Tanimoto similarity matrix for all molecules in the fingerprint list\n",
    "# ----------------------------------------------------------------------------\n",
    "# This is a square matrix (n x n), where n is the total number of molecules.\n",
    "# Each element [i, j] of the matrix represents the Tanimoto similarity between molecule i and molecule j.\n",
    "# Tanimoto similarity compares the overlap between two binary vectors (fingerprints).\n",
    "# ----------------------------------------------------------------------------\n",
    "similarity_matrix_full = tanimoto_matrix(circular_fp_list)\n",
    "\n",
    "# Show the shape (dimensions) of the similarity matrix\n",
    "# It should return a tuple (n, n), confirming that there is one row and column per molecule\n",
    "similarity_matrix_full.shape"
   ]
  },
  {
   "cell_type": "markdown",
   "id": "d2df0827",
   "metadata": {},
   "source": [
    "Let's look at the heat map of the similarity matrix, which is not yet organized."
   ]
  },
  {
   "cell_type": "code",
   "execution_count": null,
   "id": "40175c24",
   "metadata": {},
   "outputs": [],
   "source": [
    "# Create a figure and axes to visualize the similarity matrix\n",
    "# --------------------------------------------------------------\n",
    "# figsize=(10, 10) sets the size of the figure in inches.\n",
    "# This is useful to prevent a large matrix from appearing compressed or unreadable.\n",
    "fig, ax = plt.subplots(figsize=(10, 10))\n",
    "\n",
    "# Draw the similarity matrix as a heatmap\n",
    "# --------------------------------------------------------------\n",
    "# sns.heatmap visualizes the matrix values as colors.\n",
    "# cmap=\"vlag\" defines the color palette, which in this case is divergent\n",
    "# (useful for representing differences centered around a middle value, like similarity ~0.5).\n",
    "# yticklabels=False and xticklabels=False remove axis labels for a cleaner view,\n",
    "# especially helpful when visualizing a large number of molecules.\n",
    "ax = sns.heatmap(similarity_matrix_full, cmap=\"vlag\",\n",
    "                 yticklabels=False, xticklabels=False)"
   ]
  },
  {
   "cell_type": "markdown",
   "id": "2b9368ac",
   "metadata": {},
   "source": [
    "### Clustering: Butina Clustering Algorithm\n",
    "Similar to the clustering performed with the ten compounds, we are going to create a function where we can decide the Tanimoto distance threshold, for example, suppose we want to cluster molecules whose similarity is less than or equal to *cutoff*=0.2.\n",
    "**Note**: Let's remember that we are using the clustering algorithm *Butina*"
   ]
  },
  {
   "cell_type": "code",
   "execution_count": null,
   "id": "7b6a2976",
   "metadata": {},
   "outputs": [],
   "source": [
    "# Define a function called 'cluster_fingerprints' that performs clustering of fingerprints based on Tanimoto similarity.\n",
    "def cluster_fingerprints(fp_list, cutoff=0.2):\n",
    "    # Compute the Tanimoto similarity matrix for the provided fingerprint list.\n",
    "    # The result is a square matrix where each element (i, j) represents the similarity between fingerprint i and fingerprint j.\n",
    "    similarity_matrix = tanimoto_matrix(fp_list)  # Similarity matrix\n",
    "\n",
    "    # Compute the distances between compounds from the similarity matrix.\n",
    "    # 'np.tril_indices' generates the indices for the lower triangle of the matrix (excluding the diagonal).\n",
    "    # Distance is calculated as 1 - similarity.\n",
    "    a, b = np.tril_indices(len(fp_list), -1)\n",
    "    dist_similarity_matrix = 1 - similarity_matrix[a, b]\n",
    "\n",
    "    # Cluster the data using the Butina clustering algorithm.\n",
    "    # 'dist_similarity_matrix' contains the distances between fingerprints.\n",
    "    # 'len(fp_list)' is the total number of fingerprints.\n",
    "    # 'cutoff' is the distance threshold for forming a cluster; points within this threshold are grouped together.\n",
    "    # 'isDistData=True' indicates that distances, not similarities, are being provided.\n",
    "    clusters = Butina.ClusterData(dist_similarity_matrix, len(fp_list), cutoff, isDistData=True)\n",
    "\n",
    "    # Sort the clusters in descending order by size (number of elements).\n",
    "    # This allows easy identification of the largest clusters.\n",
    "    clusters = sorted(clusters, key=len, reverse=True)\n",
    "\n",
    "    # Return the list of sorted clusters. Each cluster is a list of indices indicating which fingerprints belong to that cluster.\n",
    "    return clusters"
   ]
  },
  {
   "cell_type": "markdown",
   "id": "a7bb57d1",
   "metadata": {},
   "source": [
    "When executing the *cluster_fingerprints* function, the clusters are created, starting with those with the largest number of molecules, let's see the first 10."
   ]
  },
  {
   "cell_type": "code",
   "execution_count": null,
   "id": "291bcc19",
   "metadata": {},
   "outputs": [],
   "source": [
    "# Execute the clustering procedure for the dataset, distance: 0.2\n",
    "clusters = cluster_fingerprints(morgan_fp_list, cutoff=0.2)\n",
    "# Largest clusters\n",
    "print(clusters[:10])"
   ]
  },
  {
   "cell_type": "markdown",
   "id": "90cb1d37",
   "metadata": {},
   "source": [
    "Since we are working with a large data set, it is not a good idea to print all of the clusters, however, we can summarize the information in a frequency table."
   ]
  },
  {
   "cell_type": "code",
   "execution_count": null,
   "id": "1a80679b",
   "metadata": {},
   "outputs": [],
   "source": [
    "# Get the size of each group (number of elements in each cluster)\n",
    "# 'clusters' is a list of lists, where each sublist contains the indices of the molecules in that cluster\n",
    "agrup = list(map(len, clusters))\n",
    "\n",
    "# Calculate how many clusters have the same number of elements\n",
    "# np.unique returns the unique values (cluster sizes) and how many times each appears\n",
    "unique, counts = np.unique(agrup, return_counts=True)\n",
    "\n",
    "# Create a frequency table where:\n",
    "# - Each row represents a cluster size and its frequency\n",
    "# - np.flip reverses the order of the rows to show the largest clusters first\n",
    "frec_table = np.flip(np.array([unique, counts]).T)  # reversed order for clarity\n",
    "\n",
    "# Display the table: each row shows [cluster size, number of clusters of that size]\n",
    "frec_table"
   ]
  },
  {
   "cell_type": "markdown",
   "id": "376595be",
   "metadata": {},
   "source": [
    "We can see that the largest cluster (the first one) has 14 elements and that there are 1494 compounds that did not cluster (individual clusters).\n",
    "Let's see graphically the number of elements in the largest clusters and how many of each one there are"
   ]
  },
  {
   "cell_type": "code",
   "execution_count": null,
   "id": "004f12b0",
   "metadata": {},
   "outputs": [],
   "source": [
    "# Set up the figure and axes for a bar chart using matplotlib.\n",
    "# 'figsize' specifies the size of the figure in inches (width x height).\n",
    "fig, ax = plt.subplots(figsize=(10, 3))  # Set up the matplotlib figure\n",
    "\n",
    "# Create a bar chart.\n",
    "# 'list(map(str, frec_table[:, 0]))' converts the first column values of frec_table to strings and uses them as the x-axis.\n",
    "# 'frec_table[:, 1]' provides the values of the second column of frec_table for the y-axis (bar heights).\n",
    "ax.bar(list(map(str, frec_table[:, 0])), frec_table[:, 1])\n",
    "\n",
    "# Set the x-axis label for the chart.\n",
    "ax.set_xlabel(\"# total clusters\")\n",
    "\n",
    "# Set the y-axis label for the chart.\n",
    "ax.set_ylabel(\"# total elements\")\n",
    "\n",
    "# Display the chart on screen.\n",
    "plt.show()\n",
    "\n",
    "# Close the figure to free memory.\n",
    "plt.close()\n"
   ]
  },
  {
   "cell_type": "markdown",
   "id": "7dfcff88",
   "metadata": {},
   "source": [
    "We can examine the first 14-element cluster in more detail:"
   ]
  },
  {
   "cell_type": "code",
   "execution_count": null,
   "id": "3a7cacfe",
   "metadata": {},
   "outputs": [],
   "source": [
    "# Convert the first cluster (index 0) from 'clusters' into a list of indices.\n",
    "list_ind_cluster0 = list(clusters[0])\n",
    "\n",
    "# Use the indices from the first cluster to select the corresponding rows from the 'molecule_dataset' DataFrame.\n",
    "# The result is a new DataFrame, 'molecules_cluster0', containing only the molecules that belong to the first cluster.\n",
    "molecules_cluster0 = molecule_dataset.iloc[list_ind_cluster0]\n",
    "\n",
    "# Print the 'molecules_cluster0' DataFrame.\n",
    "# This displays the molecules that are part of the first cluster.\n",
    "molecules_cluster0"
   ]
  },
  {
   "cell_type": "code",
   "execution_count": null,
   "id": "2127db0c",
   "metadata": {},
   "outputs": [],
   "source": [
    "# Print the number of molecules in the 'molecules_cluster0' DataFrame, along with a descriptive message.\n",
    "print(f'{len(molecules_cluster0)} molecules from the largest cluster')\n",
    "\n",
    "# Create a list of legends for the molecules to be drawn in the grid image.\n",
    "# Iterate over the rows of the 'molecules_cluster0' DataFrame.\n",
    "# For each molecule, format a string that includes the row index and the value from the 'molecule_chembl_id' column.\n",
    "legends = [\n",
    "    f\"#{index} {molecule['molecule_chembl_id']}\"\n",
    "    for index, molecule in molecules_cluster0.iterrows()\n",
    "]\n",
    "\n",
    "# Generate a grid image showing the molecules from the first cluster.\n",
    "# 'mols' is a list of RDKit Mol objects to draw, taken from the \"ROMol\" column of 'molecules_cluster0'.\n",
    "# 'legends' is the list of strings created earlier, used to label each molecule in the grid.\n",
    "# 'molsPerRow' specifies the number of molecules per row in the grid.\n",
    "# 'subImgSize' specifies the size of each subimage (molecule) in the grid.\n",
    "Chem.Draw.MolsToGridImage(\n",
    "    mols= molecules_cluster0[\"ROMol\"].tolist(),\n",
    "    legends=legends,\n",
    "    molsPerRow=5,\n",
    "    subImgSize=(250, 270),\n",
    ")"
   ]
  },
  {
   "cell_type": "markdown",
   "id": "f3c3d9db",
   "metadata": {},
   "source": [
    "We can also have a brief report on the number of groups and their sizes, depending on the size of the cluster:"
   ]
  },
  {
   "cell_type": "code",
   "execution_count": null,
   "id": "b9ad1159",
   "metadata": {},
   "outputs": [],
   "source": [
    "# Calculate the number of clusters that contain exactly 1 compound.\n",
    "# Iterate through the 'clusters' list, where each element 'c' is a cluster (a list of indices).\n",
    "# The expression 'len(c) == 1' checks if the cluster size is 1.\n",
    "# 'sum(...)' counts how many times this condition is true.\n",
    "num_clust_g1 = sum(1 for c in clusters if len(c) == 1)\n",
    "\n",
    "# Calculate the number of clusters that contain more than 5 compounds.\n",
    "# Similar to the above, but the condition is 'len(c) > 5'.\n",
    "num_clust_g5 = sum(1 for c in clusters if len(c) > 5)\n",
    "\n",
    "# Calculate the number of clusters that contain more than 10 compounds.\n",
    "# Similar to the above, but the condition is 'len(c) > 10'.\n",
    "num_clust_g10 = sum(1 for c in clusters if len(c) > 10)\n",
    "\n",
    "# Print the total number of clusters.\n",
    "print(\"Total number of clusters: \", len(clusters))\n",
    "\n",
    "# Print the number of clusters with only 1 compound.\n",
    "print(\"# clusters with only 1 compound: \", num_clust_g1)\n",
    "\n",
    "# Print the number of clusters with more than 5 compounds.\n",
    "print(\"# clusters with >5 compounds: \", num_clust_g5)\n",
    "\n",
    "# Print the number of clusters with more than 10 compounds.\n",
    "print(\"# clusters with >10 compounds: \", num_clust_g10)"
   ]
  },
  {
   "cell_type": "markdown",
   "id": "1f87195e",
   "metadata": {},
   "source": [
    "#### Optimal number of clusters and similarity threshold"
   ]
  },
  {
   "cell_type": "markdown",
   "id": "b7b3bf99",
   "metadata": {},
   "source": [
    "Using the algorithm we used for the ten elements, we can vary finding the *distortion* for different cluster numbers (`N`)."
   ]
  },
  {
   "cell_type": "code",
   "execution_count": null,
   "id": "86ad6b09",
   "metadata": {},
   "outputs": [],
   "source": [
    "# Initialize an empty list called 'result' to store the clustering analysis results.\n",
    "result = list()\n",
    "\n",
    "# Assign the Morgan fingerprint column from the molecule_dataset DataFrame to the variable list_fingerprints.\n",
    "# Unlike the earlier snippet, this uses the full DataFrame, not just the first 10 rows.\n",
    "list_fingerprints = molecule_dataset['morgan_fp']\n",
    "\n",
    "# Calculate the Tanimoto similarity matrix between the fingerprints in list_fingerprints.\n",
    "# The result is a square matrix where each element (i, j) represents the similarity between fingerprint i and fingerprint j.\n",
    "similarity_matrix = tanimoto_matrix(list_fingerprints)  # Similarity matrix\n",
    "\n",
    "# Generate the indices for the positions below the main diagonal of a square matrix.\n",
    "# 'a' contains the row indices, and 'b' contains the column indices.\n",
    "# The argument '-1' ensures that the main diagonal is not included.\n",
    "a, b = np.tril_indices(len(list_fingerprints), -1)  # Indices of elements below the main diagonal\n",
    "\n",
    "# Calculate the distance matrix from the similarity matrix.\n",
    "# Distance is calculated as 1 - similarity. This converts similarities into distances,\n",
    "# where a similarity of 1 (maximum similarity) corresponds to a distance of 0, and a similarity of 0\n",
    "# (minimum similarity) corresponds to a distance of 1. Only the distances\n",
    "# corresponding to the lower triangle of the matrix (excluding the diagonal) are selected using indices 'a' and 'b'.\n",
    "dist_similarity_matrix = 1 - similarity_matrix[a, b]  # Compound distances\n",
    "\n",
    "# Iterate over a range of cutoff threshold values from 0 to 1 with a step of 0.05.\n",
    "for i in np.arange(0,1,0.05):\n",
    "    # Round the cutoff value to 2 decimal places.\n",
    "    cutoff = round(i,2)\n",
    "\n",
    "    # Perform Butina clustering using the distance matrix and the current threshold.\n",
    "    # 'dist_similarity_matrix' contains the distances between compounds.\n",
    "    # 'len(list_fingerprints)' is the total number of compounds.\n",
    "    # 'distThresh' is the distance threshold to form clusters; points within this threshold are grouped together.\n",
    "    # 'isDistData=True' indicates that the input data are distances, not similarities.\n",
    "    clusters = Butina.ClusterData(dist_similarity_matrix,len(list_fingerprints), distThresh=cutoff, isDistData=True)\n",
    "\n",
    "    # Compute the number of clusters ('n') and the distortion ('dist') for the current clustering.\n",
    "    # Distortion is a measure of how well the clusters represent the data. Here, the full dataset is used.\n",
    "    n, dist = distorion_tanimoto(clusters, molecule_dataset)\n",
    "\n",
    "    # Append the results (cutoff, number of clusters, distortion) to the 'result' list.\n",
    "    result.append((cutoff, n, dist))\n",
    "\n",
    "# Create a Pandas DataFrame called 'table' from the 'result' list.\n",
    "# The columns of the DataFrame are 'cutoff', 'N_clusters', and 'distortion'.\n",
    "table = pd.DataFrame(result, columns=['cutoff', 'N_clusters', 'distortion'])\n",
    "\n",
    "# Print the 'table' DataFrame.\n",
    "# This DataFrame contains the clustering analysis results for different threshold values.\n",
    "print(table)"
   ]
  },
  {
   "cell_type": "code",
   "execution_count": null,
   "id": "e3c17e0f",
   "metadata": {},
   "outputs": [],
   "source": [
    "table.plot(x='N_clusters', y='distortion')"
   ]
  },
  {
   "cell_type": "markdown",
   "id": "2051c318",
   "metadata": {},
   "source": [
    "As we can see, after `N=200` (number of clusters) there is no great variation of the distortion, therefore, we do not need to vary the similarity threshold from 0 to 1 (`cutoff`). Let's change line 7 so that it only goes to 0.5 instead of 1."
   ]
  },
  {
   "cell_type": "code",
   "execution_count": null,
   "id": "d0053046",
   "metadata": {},
   "outputs": [],
   "source": [
    "# Initialize an empty list called 'result' to store the clustering analysis results.\n",
    "result = list()\n",
    "\n",
    "# Assign the Morgan fingerprint column from the molecule_dataset DataFrame to the variable list_fingerprints.\n",
    "# Unlike the previous snippet, this uses the full DataFrame, not just the first 10 rows.\n",
    "list_fingerprints = molecule_dataset['morgan_fp']\n",
    "\n",
    "# Calculate the Tanimoto similarity matrix between the fingerprints in 'list_fingerprints'.\n",
    "# The result is a square matrix where each element (i, j) represents the similarity between fingerprint i and fingerprint j.\n",
    "similarity_matrix = tanimoto_matrix(list_fingerprints)  # Similarity matrix\n",
    "\n",
    "# Generate the indices for the positions below the main diagonal of a square matrix.\n",
    "# 'a' contains the row indices, and 'b' contains the column indices.\n",
    "# The argument '-1' ensures that the main diagonal is not included.\n",
    "a, b = np.tril_indices(len(list_fingerprints), -1)  # Indices of elements below the main diagonal\n",
    "\n",
    "# Calculate the distance matrix from the similarity matrix.\n",
    "# Distance is calculated as 1 - similarity. This converts similarities into distances,\n",
    "# where a similarity of 1 (maximum similarity) corresponds to a distance of 0, and a similarity of 0\n",
    "# (minimum similarity) corresponds to a distance of 1. Only the distances\n",
    "# corresponding to the lower triangle of the matrix (excluding the diagonal) are selected using indices 'a' and 'b'.\n",
    "dist_similarity_matrix = 1 - similarity_matrix[a, b]  # Compound distances\n",
    "\n",
    "# Iterate over a range of cutoff threshold values from 0 to 0.5 with a step of 0.05.\n",
    "for i in np.arange(0, 0.5, 0.05):\n",
    "    # Round the cutoff value to 2 decimal places.\n",
    "    cutoff = round(i, 2)\n",
    "\n",
    "    # Perform Butina clustering using the distance matrix and the current threshold.\n",
    "    # 'dist_similarity_matrix' contains the distances between compounds.\n",
    "    # 'len(list_fingerprints)' is the total number of compounds.\n",
    "    # 'distThresh' is the distance threshold to form clusters; points within this threshold are grouped together.\n",
    "    # 'isDistData=True' indicates that the input data are distances, not similarities.\n",
    "    clusters = Butina.ClusterData(dist_similarity_matrix, len(list_fingerprints), distThresh=cutoff, isDistData=True)\n",
    "\n",
    "    # Compute the number of clusters ('n') and the distortion ('dist') for the current clustering.\n",
    "    # Distortion is a measure of how well the clusters represent the data. Here, the full dataset is used.\n",
    "    n, dist = distorion_tanimoto(clusters, molecule_dataset)\n",
    "\n",
    "    # Append the results (cutoff, number of clusters, distortion) to the 'result' list.\n",
    "    result.append((cutoff, n, dist))\n",
    "\n",
    "# Create a Pandas DataFrame called 'table' from the 'result' list.\n",
    "# The columns of the DataFrame are 'cutoff', 'N_clusters', and 'distortion'.\n",
    "table = pd.DataFrame(result, columns=['cutoff', 'N_clusters', 'distortion'])\n",
    "\n",
    "# Print the 'table' DataFrame.\n",
    "# This DataFrame contains the clustering analysis results for different cutoff values.\n",
    "print(table)"
   ]
  },
  {
   "cell_type": "code",
   "execution_count": null,
   "id": "fb066e07",
   "metadata": {},
   "outputs": [],
   "source": [
    "table.plot(x='N_clusters', y='distortion')"
   ]
  },
  {
   "cell_type": "markdown",
   "id": "b48f2ce7",
   "metadata": {},
   "source": [
    "In the graph we can appreciate that around `N = 1500` there is an abrupt change in the distortion. The Table allows us to see that for `N=1470` the `cutoff=0.25`. Let's see how the clustering looks with this value:"
   ]
  },
  {
   "cell_type": "code",
   "execution_count": null,
   "id": "9b03ee9e",
   "metadata": {},
   "outputs": [],
   "source": [
    "# Perform clustering of the Morgan fingerprints ('morgan_fp_list') using the 'cluster_fingerprints' function.\n",
    "# The distance threshold to form clusters is set to 0.25.\n",
    "clusters = cluster_fingerprints(morgan_fp_list, cutoff=0.25)\n",
    "\n",
    "# Set up the figure and axes for a bar chart using matplotlib.\n",
    "# 'figsize' specifies the size of the figure in inches (width x height).\n",
    "fig, ax = plt.subplots(figsize=(10, 3))  # Set up the matplotlib figure\n",
    "\n",
    "# Calculate the size of each cluster and store it in a list called 'agrup'.\n",
    "# 'map(len, clusters)' applies the 'len' function to each cluster in the 'clusters' list,\n",
    "# obtaining the number of elements in each cluster.\n",
    "agrup = list(map(len, clusters))\n",
    "\n",
    "# Calculate the frequency of each cluster size.\n",
    "# 'np.unique(agrup, return_counts=True)' returns two arrays:\n",
    "#  - 'unique': the unique cluster sizes.\n",
    "#  - 'counts': the number of times each cluster size appears.\n",
    "unique, counts = np.unique(agrup, return_counts=True)\n",
    "\n",
    "# Create a frequency table from the unique cluster sizes and their counts.\n",
    "# 'np.array([unique, counts]).T' creates a 2D array where each row represents a cluster size and its frequency.\n",
    "# 'np.flip(...)' reverses the order of the rows, which is not necessary for the code to run.\n",
    "frec_table = np.flip(np.array([unique, counts]).T)  # Reversed order\n",
    "\n",
    "# Create a bar chart.\n",
    "# 'list(map(str, frec_table[:, 0]))' converts the cluster sizes (first column of 'frec_table') to strings for use as x-axis labels.\n",
    "# 'frec_table[:, 1]' provides the frequencies (second column of 'frec_table') for the y-axis (bar heights).\n",
    "# 'color=\"mediumseagreen\"' sets the color of the bars to medium sea green.\n",
    "ax.bar(list(map(str, frec_table[:, 0])), frec_table[:, 1], color=\"mediumseagreen\")\n",
    "\n",
    "# Set the chart title.\n",
    "ax.set_title(f\"Threshold: 0.25\")\n",
    "\n",
    "# Set the x-axis label.\n",
    "ax.set_xlabel(\"# total clusters\")\n",
    "\n",
    "# Set the y-axis label.\n",
    "ax.set_ylabel(\"# total elements\")\n",
    "\n",
    "# Display the chart on screen.\n",
    "plt.show()\n",
    "\n",
    "# Close the figure to free up memory.\n",
    "plt.close()"
   ]
  },
  {
   "cell_type": "markdown",
   "id": "ea9c03da",
   "metadata": {},
   "source": [
    "The cluster with the most similar molecules has 18 molecules."
   ]
  },
  {
   "cell_type": "code",
   "execution_count": null,
   "id": "8d61b012",
   "metadata": {},
   "outputs": [],
   "source": [
    "# Convert the first cluster (index 0) from the 'clusters' list into a list of indices.\n",
    "# This assumes that 'clusters' is a list of lists, where each sublist contains the indices\n",
    "# of the molecules that belong to that cluster. The first cluster is considered the largest.\n",
    "list_ind_cluster0 = list(clusters[0])\n",
    "\n",
    "# Use the indices from the first cluster to select the corresponding rows from the 'molecule_dataset' DataFrame.\n",
    "# 'molecule_dataset.iloc[list_ind_cluster0]' selects the rows in the DataFrame\n",
    "# whose indices match the indices of the molecules in the first cluster.\n",
    "# The result is a new DataFrame called 'molecules_cluster0' containing only the molecules from the first cluster.\n",
    "molecules_cluster0 = molecule_dataset.iloc[list_ind_cluster0]\n",
    "\n",
    "# Print the 'molecules_cluster0' DataFrame.\n",
    "# This displays all the columns and rows of the DataFrame, allowing inspection of the properties\n",
    "# of the molecules belonging to the largest cluster.\n",
    "molecules_cluster0"
   ]
  },
  {
   "cell_type": "code",
   "execution_count": null,
   "id": "1717878f",
   "metadata": {},
   "outputs": [],
   "source": [
    "# Print the number of molecules in the 'molecules_cluster0' DataFrame, along with a descriptive message.\n",
    "print(f'{len(molecules_cluster0)} molecules from the largest cluster')\n",
    "\n",
    "# Create a list of legends for the molecules to be drawn in the grid image.\n",
    "# Iterate over the rows of the 'molecules_cluster0' DataFrame.\n",
    "# For each molecule, format a string that includes the row index and the value from the 'molecule_chembl_id' column.\n",
    "legends = [\n",
    "    f\"#{index} {molecule['molecule_chembl_id']}\"\n",
    "    for index, molecule in molecules_cluster0.iterrows()\n",
    "]\n",
    "\n",
    "# Generate a grid image showing the molecules from the first cluster.\n",
    "# 'mols' is a list of RDKit Mol objects to draw, obtained from the \"ROMol\" column of 'molecules_cluster0'.\n",
    "# 'legends' is the list of strings created earlier, used to label each molecule in the grid.\n",
    "# 'molsPerRow' specifies the number of molecules per row in the grid.\n",
    "# 'subImgSize' specifies the size of each subimage (molecule) in the grid.\n",
    "Chem.Draw.MolsToGridImage(\n",
    "    mols= molecules_cluster0[\"ROMol\"].tolist(),\n",
    "    legends=legends,\n",
    "    molsPerRow=5,\n",
    "    subImgSize=(250, 270),\n",
    ")"
   ]
  },
  {
   "cell_type": "markdown",
   "id": "c0453fd2",
   "metadata": {},
   "source": [
    "## Clustermap\n",
    "We can also organize the Tanimoto similarity matrix into a hierarchical clustering heat map where we can see how the most similar molecules cluster together."
   ]
  },
  {
   "cell_type": "code",
   "execution_count": null,
   "id": "627d93f4",
   "metadata": {},
   "outputs": [],
   "source": [
    "# Import the 'figure' function from the 'matplotlib.pyplot' module, although it's not used directly in this code.\n",
    "from matplotlib.pyplot import figure\n",
    "\n",
    "# Calculate the Tanimoto similarity matrix for the full list of circular fingerprints ('circular_fp_list').\n",
    "# This generates a square matrix where each element (i, j) represents the Tanimoto similarity between fingerprint i and fingerprint j.\n",
    "similarity_matrix_full = tanimoto_matrix(circular_fp_list)\n",
    "\n",
    "# Create a clustered heatmap (clustermap) of the Tanimoto similarity matrix using the Seaborn library.\n",
    "# 'similarity_matrix_full' is the input matrix to visualize.\n",
    "# 'cmap=\"vlag\"' specifies the color palette to use (useful for showing similarities, where extreme colors represent high and low similarity).\n",
    "# 'dendrogram_ratio=(.1,.2)' adjusts the proportion of space dedicated to the row and column dendrograms, respectively.\n",
    "# 'yticklabels=False' and 'xticklabels=False' hide the axis labels, which simplifies visualization when the number of points is large.\n",
    "# 'figsize=(10,10)' sets the figure size in inches (width x height).\n",
    "g = sns.clustermap(similarity_matrix_full, cmap=\"vlag\",\n",
    "                   dendrogram_ratio=(.1,.2),\n",
    "                   yticklabels=False,xticklabels=False,\n",
    "                   figsize=(10,10))\n",
    "\n",
    "# Remove the row dendrogram from the clustered heatmap.\n",
    "# This can be useful to simplify the visualization if only the column dendrogram is needed.\n",
    "g.ax_row_dendrogram.remove()\n",
    "\n",
    "# Create a directory named 'data/' if it doesn't already exist.\n",
    "# 'mkdir -p data/' is a shell command that creates the 'data/' directory and its parent directories if needed.\n",
    "# The '-p' flag prevents an error if the directory already exists. The '!' executes the shell command.\n",
    "!mkdir -p data/\n",
    "\n",
    "# Save the clustered heatmap as a PNG file.\n",
    "# './data/TanimotoSimilarity.png' specifies the path and filename.\n",
    "# 'bbox_inches=\"tight\"' adjusts the figure boundaries to ensure everything fits in the saved image.\n",
    "# 'dpi=500' sets the resolution of the image\n",
    "plt.savefig('./data/TanimotoSimilarity.png', bbox_inches='tight', dpi=500)\n",
    "\n",
    "# Display the clustered heatmap on screen.\n",
    "plt.show()\n",
    "\n",
    "# Close the figure to free up memory.\n",
    "plt.close()"
   ]
  },
  {
   "cell_type": "markdown",
   "id": "3e535097",
   "metadata": {},
   "source": [
    "# Practical activity\n",
    "\n",
    "Taking into account what has been reviewed in this second part, make a code in python with which you can:\n",
    "\n",
    "1. Vary the similarity threshold from 0 to 0.7. Discuss your results.\n",
    "2. Select a different appropriate threshold and display the cluster centers of the first 10 clusters.\n",
    "\n",
    "At the end, you must prepare a document in PDF format in which you attach the proposed code and the output of the execution."
   ]
  },
  {
   "cell_type": "markdown",
   "id": "fc3f4ed5",
   "metadata": {},
   "source": [
    "# Conclusion\n",
    "\n",
    "In this lab, we have learned how to use fingerprints and similarity measures to compare a query molecule against a data set of molecules and rank the molecule by similarity. Additionally, we learned about clustering a composite data set and discussed how to choose a reasonable clustering threshold."
   ]
  },
  {
   "cell_type": "markdown",
   "id": "7263cd8a-97c0-4b4c-bca1-391010bc5130",
   "metadata": {},
   "source": [
    "# References\n",
    "\n",
    "1.  Seo, M., Shin, H. K., Myung, Y., Hwang, S., & No, K. T. (2020). Development of natural compound molecular fingerprint (Nc-mfp) with the dictionary of natural products (Dnp) for natural product-based drug development. Journal of Cheminformatics, 12(1), 6. https://doi.org/10.1186/s13321-020-0410-3\n",
    "2. Capecchi, A., Probst, D., & Reymond, J.-L. (2020). One molecular fingerprint to rule them all: Drugs, biomolecules, and the metabolome. Journal of Cheminformatics, 12(1), 43. https://doi.org/10.1186/s13321-020-00445-4\n",
    "3. Rácz, A., Bajusz, D., & Héberger, K. (2018). Life beyond the Tanimoto coefficient: Similarity measures for interaction fingerprints. Journal of Cheminformatics, 10(1), 48. https://doi.org/10.1186/s13321-018-0302-y\n",
    "4. Nielsen, F. (2016). Hierarchical clustering. En F. Nielsen (Ed.), Introduction to HPC with MPI for Data Science (pp. 195-211). Springer International Publishing. https://doi.org/10.1007/978-3-319-21903-5_8\n",
    "5. Butina, D. (1999). Unsupervised data base clustering based on daylight’s fingerprint and tanimoto similarity: A fast and automated way to cluster small and large data sets. Journal of Chemical Information and Computer Sciences, 39(4), 747-750. https://doi.org/10.1021/ci9803381\n",
    "6. Shi, C., Wei, B., Wei, S., Wang, W., Liu, H., & Liu, J. (2021). A quantitative discriminant method of elbow point for the optimal number of clusters in clustering algorithm. EURASIP Journal on Wireless Communications and Networking, 2021(1), 31. https://doi.org/10.1186/s13638-021-01910-w"
   ]
  }
 ],
 "metadata": {
  "kernelspec": {
   "display_name": "chemo",
   "language": "python",
   "name": "python3"
  },
  "language_info": {
   "codemirror_mode": {
    "name": "ipython",
    "version": 3
   },
   "file_extension": ".py",
   "mimetype": "text/x-python",
   "name": "python",
   "nbconvert_exporter": "python",
   "pygments_lexer": "ipython3",
   "version": "3.8.17"
  }
 },
 "nbformat": 4,
 "nbformat_minor": 5
}
