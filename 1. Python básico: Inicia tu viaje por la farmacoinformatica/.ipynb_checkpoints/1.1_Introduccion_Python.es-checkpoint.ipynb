{
 "cells": [
  {
   "cell_type": "markdown",
   "metadata": {},
   "source": [
    "# Introducción al lenguaje de programación Python \n",
    "El curso “Collaborative Chemoinformatics Open Platform” (CHEMO) es una plataforma de aprendizaje autónomo dirigido a estudiantes e investigadores interesados en el desarrollo de herramientas biocomputaciones, desde Python, siendo este, el lenguaje de programación más empleado. Con el avance en las ciencias ómicas y las nuevas tecnologías se ha visto necesario adquirir habilidades informáticas aplicadas en las ciencias y el manejo de bases de datos biológicas.\n",
    "\n",
    "Bienvenido a la introducción del curso CHEMO, en la primera parte encontrará los fundamentos para comprender el lenguaje de programación de Python, está enfocado en la manipulación, extracción y análisis de datos provenientes de bases de datos biológicos (ómicos), partiendo desde lo conceptos básicos de programación y sus aplicaciones, con ejemplos basados en manipulación de secuencias de DNA.\n",
    "## Contenidos\n",
    "En este primer Jupyter notebook de *Python_basic* aprenderá:\n",
    "1. Introducción a Python\n",
    "2. Variables\n",
    "3. Tipos de datos\n",
    "4. Tipos de arreglos\n",
    "5. Cargar archivos\n",
    "6. Manipulación de strings\n",
    "7. Estructuras de control de flujo\n",
    "8. Funciones"
   ]
  },
  {
   "cell_type": "markdown",
   "metadata": {},
   "source": [
    "# Resultados del aprendizaje\n",
    "Se espera que al finalizar este cuaderno el usuario pueda:\n",
    "1. Entender los conceptos básicos del lenguaje de programación de Python\n",
    "2. Comprender los formatos de variables:\n",
    "    - ¿Qué son?\n",
    "    - Las asignaciones\n",
    "    - Las operaciones básicas\n",
    "3. Comprender los usos y los tipos de datos:\n",
    "    - Numérico\n",
    "    - Booleano\n",
    "    - Texto\n",
    "    - Arreglo\n",
    "4. Identificar los tipos de arreglos y su uso:\n",
    "    - Listas\n",
    "    - Tuplas\n",
    "    - Conjuntos\n",
    "    - Diccionarios\n",
    "5. Cargar y modificar archivos en diferentes formatos y tamaños, visualizarlos, analizarlos, leerlos y escribir sobre ellos.\n",
    "6. Manejar las estructuras de control de flujo básicas:\n",
    "    - Condicionales\n",
    "    - Iteraciones\n",
    "7. Comprender las herramientas de Python que se pueden emplear en la biología.\n",
    "\n",
    "# Generalidades de jupyter notebook\n",
    "\n",
    "Un jupyter notebook está compuesto de un título, una barra de herramientas y las celdas. La barra de herramientas nos permite guardar, insertar una nueva celda, cortar, copiar y pegar celdas. Además, cuenta con una sección con funciones para manipular el componente Kernel, el cual es la parte encargada de ejecutar el código que contiene el notebook. En esta sección podremos correr la celda seleccionada y avanzar, interrumpir el kernel, reiniciar el kernel y reiniciar el kernel y correr todas las celdas. Para todos los tutoriales recomendamos reiniciar el kernel, esto se realiza con el haciendo clic en el botón con una flecha del signo devolver. Finalmente, tenemos una opción en la barra de herramientas para las celdas que pueden ser de tipo código y se identifican por la etiqueta In [ ]: que aparece al inicio de la celda. Otra opción para la celda es markdown, es allí donde podemos incluir comentarios, imágenes y enlaces usando el lenguaje Markdown."
   ]
  },
  {
   "cell_type": "markdown",
   "metadata": {},
   "source": [
    "# Teoría: conceptos básicos"
   ]
  },
  {
   "cell_type": "markdown",
   "metadata": {},
   "source": [
    "## Variables\n",
    "\n",
    "Una variable es una referencia a un valor en la memoria del computador, en donde se pueden almacenar diferentes **tipos de datos**. Por lo general se asignan valores a nombres de variables, un ejemplo de esto es: `texto = \"hola mundo\"`, `texto` es el nombre de la variable y hace referencia a `hola mundo` el cual seria el valor de la variable, y en el ejemplo anterior se utilizo el operador `=`, luego la operación que se realizó fue de asignación. A esto se le conoce como una expresión de asignación.\n",
    "\n",
    "Por lo general es el programador del software quien le asigna un nombre de variable que sea fácil de recordar y utilizar en el programa. Es importante saber que el nombre de las variables no puede comenzar por un número y distinguen entre mayusculas y minúsculas, además no se puede incluir espacios.\n",
    "\n",
    "La siguiente tabla muestra algunos de los datos que se pueden trabajar en Python:\n",
    "\n",
    "### Tipos de datos nativos de Python\n",
    "\n",
    "| Nombre en Inglés          | Nombre del tipo  | Categoria  | Descripción                                   | Ejemplo                                      |\n",
    "| :-------------------- | :--------- | :------------- | :-------------------------------------------- |:---------------------------------------------|\n",
    "| integer               | `int`      | Númerico  | Enteros positivos/negativos               | 1, 2, ..., n                                 |\n",
    "| floating point number | `float`    | Númerico   | Números reales en forma décimal                  | 1.0, 1.1, 1.22, 1.333, ..., n                |\n",
    "| boolean               | `bool`     | Lógico | Verdadero ó Falso                                 | True, False                                  |\n",
    "| string                | `str`      | Cadena  | Texto                                          | 'Hola mundo...'                              |\n",
    "| list                  | `list`     | Secuencia  | Una colección de objetos ordenada y mutable   | [0, 1, 2, 3, ..., n]                         |\n",
    "| tuple                 | `tuple`    | Secuencia  | Una colección de objetos ordenada y inmutable | (1, 2, 3, ..., n)                            |\n",
    "| dictionary            | `dict`     | Mapa   | Mapa de pares de objetos                    | { \"Nombre\": \"Doe\", 'Apellido: \"Laden\" } |\n",
    "| none                  | `NoneType` | Nulo    | Representa ningun valor                           | `None`                                       |\n",
    "\n",
    "(_Nota: El nombre de las variables no puede ser igual a las palabras reservadas de python_)"
   ]
  },
  {
   "cell_type": "markdown",
   "metadata": {},
   "source": [
    "## Tipos de datos"
   ]
  },
  {
   "cell_type": "markdown",
   "metadata": {},
   "source": [
    "### Datos tipo: numéricos\n",
    "\n",
    "Hay varios tipos de datos numéricos (`enteros`, `punto flotante`, `decimal`, `complejos`, entre otros), aquí trabajaremos generalmente con dos de ellos: `enteros` (`int`) y `punto flotante` (`float`) **<sup> 1 </sup>**. La función `type()` nos ayuda a determinar el tipo de un objeto en Python\n",
    "\n",
    "* **Enteros (int)**: este tipo de dato comprende todos los números enteros, ya que este conjunto es infinito, el lenguaje `Python` está limitado por la capacidad de memoria disponible.\n",
    "* **Punto flotante (float)**: este tipo de datos sirve para representar sin problemas la mayoría de números reales, los valores `float` son almacenados de una forma muy particular, denominada representación en coma flotante, en [el estándar IEEE 754](https://en.wikipedia.org/wiki/IEEE_754) se explica con detalle. Así, si un número entero se define con punto decimal, por ejemplo: 1.0, este será almacenado tipo flotante"
   ]
  },
  {
   "cell_type": "code",
   "execution_count": 1,
   "metadata": {},
   "outputs": [
    {
     "name": "stdout",
     "output_type": "stream",
     "text": [
      "El tipo de la variable entero_1 es: <class 'int'>\n",
      "El tipo de la variable flotante_1 es: <class 'float'>\n",
      "El tipo de la variable flotante_2 es: <class 'float'>\n"
     ]
    }
   ],
   "source": [
    "# Ejemplo Entero\n",
    "entero_1 = 12361\n",
    "flotante_1 = 123.215\n",
    "flotante_2 = 1236.0\n",
    "\n",
    "print(\"El tipo de la variable entero_1 es: \" + str(type(entero_1)))\n",
    "print(\"El tipo de la variable flotante_1 es: \" +  str(type(flotante_1)))\n",
    "print(\"El tipo de la variable flotante_2 es: \" + str(type(flotante_2)))"
   ]
  },
  {
   "cell_type": "markdown",
   "metadata": {},
   "source": [
    "#### Operaciones aritméticas\n",
    "| Símbolo |   Descripción   |\n",
    "|:-------:|:---------------:|\n",
    "|   `+`   |     adición     |\n",
    "|   `-`   |  sustracción   |\n",
    "|   `*`   | multiplicación  |\n",
    "|   `/`   |    división     |\n",
    "|  `**`   |    potencia     |\n",
    "|  `//`   | división entera |\n",
    "|   `%`   |     módulo      |\n",
    "\n",
    "*Observación*: En adelante trabajaremos con los `f-strings` que permiten hacer líneas cortas de texto con variables integradas. Más información en: [f-strings](https://platzi.com/blog/f-strings-en-python/?utm_source=google&utm_medium=cpc&utm_campaign=12915366154&utm_adgroup=&utm_content=&gclid=Cj0KCQjw3IqSBhCoARIsAMBkTb2p5ZOBtPtlGG2B7P0qrtnp8Wwvbgd2OY_F3_P-6OOU1YE_QHHCMaYaAnTaEALw_wcB&gclsrc=aw.ds), [f-strings](https://peps.python.org/pep-0498/)\n"
   ]
  },
  {
   "cell_type": "code",
   "execution_count": 2,
   "metadata": {},
   "outputs": [
    {
     "name": "stdout",
     "output_type": "stream",
     "text": [
      "La suma de dos números enteros es un entero, por ejemplo: 15\n"
     ]
    }
   ],
   "source": [
    "# Ejemplo operaciones con números enteros\n",
    "x = 10\n",
    "y = 5\n",
    "\n",
    "print(f'La suma de dos números enteros es un entero, por ejemplo: {x + y}')"
   ]
  },
  {
   "cell_type": "code",
   "execution_count": 3,
   "metadata": {},
   "outputs": [
    {
     "name": "stdout",
     "output_type": "stream",
     "text": [
      "La suma de dos números de tipo flotantes da como resultado un número flotante, por ejemplo: 15.0\n"
     ]
    }
   ],
   "source": [
    "# Ejemplo operaciones con números reales en forma décimal\n",
    "x = 10.0\n",
    "y = 5.0\n",
    "\n",
    "print(f'La suma de dos números de tipo flotantes da como resultado un número flotante, por ejemplo: {x + y}')"
   ]
  },
  {
   "cell_type": "code",
   "execution_count": 4,
   "metadata": {},
   "outputs": [
    {
     "name": "stdout",
     "output_type": "stream",
     "text": [
      "La suma un entero y un flotante es un flotante, por ejemplo: 15.0\n"
     ]
    }
   ],
   "source": [
    "# Ejemplo operaciones con números reales y enteros\n",
    "x = 10\n",
    "y = 5.0\n",
    "\n",
    "# Note que el interprete de Python da relevanciá a los tipos float sobre los tipos int.\n",
    "print(f'La suma un entero y un flotante es un flotante, por ejemplo: {x + y}')"
   ]
  },
  {
   "cell_type": "markdown",
   "metadata": {},
   "source": [
    "En los cuadernos `Jupyter` (versión interactiva de Python), la última línea de la celda será mostrada automáticamente.\n",
    "Esto quiere decir que no siempre es necesario utilizar la función `print()`"
   ]
  },
  {
   "cell_type": "code",
   "execution_count": 5,
   "metadata": {},
   "outputs": [
    {
     "data": {
      "text/plain": [
       "35"
      ]
     },
     "execution_count": 5,
     "metadata": {},
     "output_type": "execute_result"
    }
   ],
   "source": [
    "#Ejemplo\n",
    "x = 15\n",
    "y = 20\n",
    "\n",
    "x + y  # La operación de esta celda es mostrada automáticamente"
   ]
  },
  {
   "cell_type": "markdown",
   "metadata": {},
   "source": [
    "### Datos tipo: Booleano (bool)\n",
    "Este tipo de dato (`bool`) tiene únicamente dos valores: verdadero: `True` o falso: `False` **<sup> 1 </sup>**. Puede ser usado para operadores lógicos donde se necesite evaluar si una afirmación es cierta o no."
   ]
  },
  {
   "cell_type": "markdown",
   "metadata": {},
   "source": [
    "### Datos tipo: texto (String)\n",
    "Los strings ó cadenas de texto, se denotan como <code>str</code> y son una secuencia de símbolos que pueden incluir letras mayúsculas y minúsculas, números, signos de puntuación y espacios **<sup> 1 </sup>**.\n",
    "\n",
    "Existen tres formas de representar este tipo de datos, cualquiera de ellas es válida y no afecta el código:\n",
    "* **Entre comillas sencillas:** 'Donepezil'\n",
    "* **Entre comillas dobles:** \"Donepezil\"\n",
    "* **Entre tres comillas sencillas o tres comillas dobles:** '''Donepezil''' o \"\"\"Donepezil\"\"\" *(Sé usa principalmente para definir cadenas de textos en múltiples lineas)*"
   ]
  },
  {
   "cell_type": "code",
   "execution_count": 6,
   "metadata": {},
   "outputs": [
    {
     "name": "stdout",
     "output_type": "stream",
     "text": [
      "texto: Hola mundo\n"
     ]
    }
   ],
   "source": [
    "# Ejemplo de variable del tipo string\n",
    "texto = 'Hola mundo'\n",
    "print(f'texto: {texto}')"
   ]
  },
  {
   "cell_type": "code",
   "execution_count": 7,
   "metadata": {},
   "outputs": [
    {
     "name": "stdout",
     "output_type": "stream",
     "text": [
      "Texto - Comillas Doble: Hola mundo, comillas doble\n"
     ]
    }
   ],
   "source": [
    "# Ejemplo de definiciones de variables tipo string, con comillas, sencillas, dobles y triples.\n",
    "texto = \"Hola mundo, comillas doble\"\n",
    "print(f'Texto - Comillas Doble: {texto}')"
   ]
  },
  {
   "cell_type": "code",
   "execution_count": 8,
   "metadata": {},
   "outputs": [
    {
     "name": "stdout",
     "output_type": "stream",
     "text": [
      "Texto - Comillas Sencillas: Hola Mundo, comillas sencillas\n"
     ]
    }
   ],
   "source": [
    "texto = 'Hola Mundo, comillas sencillas'\n",
    "print(f'Texto - Comillas Sencillas: {texto}')"
   ]
  },
  {
   "cell_type": "code",
   "execution_count": 9,
   "metadata": {},
   "outputs": [
    {
     "name": "stdout",
     "output_type": "stream",
     "text": [
      "Texto - Triple Comilla Doble: Hola mundo,\n",
      "triple comilla doble\n"
     ]
    }
   ],
   "source": [
    "# La triple comilla conserva los separadores (espacios, saltos de línea)\n",
    "texto = \"\"\"Hola mundo,\n",
    "triple comilla doble\"\"\"\n",
    "print(f'Texto - Triple Comilla Doble: {texto}')"
   ]
  },
  {
   "cell_type": "code",
   "execution_count": 10,
   "metadata": {},
   "outputs": [
    {
     "name": "stdout",
     "output_type": "stream",
     "text": [
      "Texto - Triple Comilla Sencillas: Hola mundo,\n",
      "triple comilla sencilla\n"
     ]
    }
   ],
   "source": [
    "texto = '''Hola mundo,\n",
    "triple comilla sencilla'''\n",
    "print(f'Texto - Triple Comilla Sencillas: {texto}')"
   ]
  },
  {
   "cell_type": "markdown",
   "metadata": {},
   "source": [
    "Sí el texto es una cadena muy larga, es posible escribirla en modo multilinea, como se ve a continuación:"
   ]
  },
  {
   "cell_type": "code",
   "execution_count": 11,
   "metadata": {},
   "outputs": [
    {
     "name": "stdout",
     "output_type": "stream",
     "text": [
      "Texto multilinea \n",
      "Este texto es multilinea\n",
      "porque posee diferentes lineas\n",
      "para ello se imprime\n",
      "\n"
     ]
    }
   ],
   "source": [
    "texto_multilinea = \"\"\"Este texto es multilinea\n",
    "porque posee diferentes lineas\n",
    "para ello se imprime\n",
    "\"\"\"\n",
    "# \\n es un separador de linea\n",
    "print(f'Texto multilinea \\n{texto_multilinea}')"
   ]
  },
  {
   "cell_type": "markdown",
   "metadata": {},
   "source": [
    "#### Indexación"
   ]
  },
  {
   "cell_type": "markdown",
   "metadata": {},
   "source": [
    "Una de las formas más sencillas de manipular una cadena de caracteres, es a través del método de indexación:\n",
    "\n",
    "Un texto es similar a una lista, donde cada elemento tiene un _índice_, en `Python` el primer elemento tiene índice cero. De esta manera se puede hacer uso de la indexación para manipular partes del texto.\n"
   ]
  },
  {
   "cell_type": "code",
   "execution_count": 12,
   "metadata": {},
   "outputs": [
    {
     "name": "stdout",
     "output_type": "stream",
     "text": [
      "Extraer una palabra del texto (texto[6:9]): que\n"
     ]
    }
   ],
   "source": [
    "texto = \"Texto que se quiere manipular\"\n",
    "\n",
    "### EJEMPLO 1\n",
    "print(f'Extraer una palabra del texto (texto[6:9]): {texto[6:9]}')  # del principio al final"
   ]
  },
  {
   "cell_type": "code",
   "execution_count": 13,
   "metadata": {},
   "outputs": [
    {
     "name": "stdout",
     "output_type": "stream",
     "text": [
      "Extraer la palabra 'quiere' del texto recorriendo en string de adelante hacia atrás: quiere\n",
      "Extraer la palabra 'quiere' del texto recorriendo en string de atrás hacia adelante: quiere\n"
     ]
    }
   ],
   "source": [
    "#### EJEMPLO 2\n",
    "print(f'Extraer la palabra \\'quiere\\' del texto recorriendo en string de adelante hacia atrás: {texto[13:19]}')  # del principio al final\n",
    "print(f'Extraer la palabra \\'quiere\\' del texto recorriendo en string de atrás hacia adelante: {texto[-16:-10]}')  # del final al principio"
   ]
  },
  {
   "cell_type": "markdown",
   "metadata": {},
   "source": [
    "Incluso es posible hacer comprobaciones lógicas con las cadenas de carácteres como se ve a continuación:"
   ]
  },
  {
   "cell_type": "code",
   "execution_count": 14,
   "metadata": {},
   "outputs": [
    {
     "name": "stdout",
     "output_type": "stream",
     "text": [
      "¿Será que 'para' esta en texto?\n",
      "False\n",
      "\n",
      "¿Será que 'quiere' esta en texto?\n",
      "True\n"
     ]
    }
   ],
   "source": [
    "texto = \"Texto que se quiere manipular\"\n",
    "\n",
    "### EJEMPLO 1\n",
    "print(f'¿Será que \\'para\\' esta en texto?')\n",
    "print(\"para\" in texto)\n",
    "\n",
    "#### EJEMPLO 2\n",
    "\n",
    "print(f'\\n¿Será que \\'quiere\\' esta en texto?')\n",
    "print(\"quiere\" in texto)\n"
   ]
  },
  {
   "cell_type": "markdown",
   "metadata": {},
   "source": [
    "#### Métodos de String\n",
    "Hay varios operadores en el lenguaje de Python que permiten trabajar con los datos de los String mediante operaciones en las que se devuelven los valores sin cambiar la cadena. Entre las que se encuentran **<sup> 1 </sup>**:\n",
    "* <code>.replace()</code>: sustituye en el string un valor específico por otro.\n",
    "* <code>.split()</code>: divide el string en subcadenas según el parámetro establecido. Da como resultado una lista de elementos.\n",
    "* <code>.find()</code>:  Busca en el string un valor específico y evidencia la posición en la que se encuentra. Da como resultado el índice (posición) del elemento buscado.\n"
   ]
  },
  {
   "cell_type": "code",
   "execution_count": 15,
   "metadata": {},
   "outputs": [
    {
     "name": "stdout",
     "output_type": "stream",
     "text": [
      "Hola mundo. Este es un texto de ejemplo\n"
     ]
    },
    {
     "data": {
      "text/plain": [
       "'Hi mundo. Este es un texto de ejemplo'"
      ]
     },
     "execution_count": 15,
     "metadata": {},
     "output_type": "execute_result"
    }
   ],
   "source": [
    "texto = \"Hola mundo. Este es un texto de ejemplo\"\n",
    "print(texto)\n",
    "\n",
    "# Reemplazar una palabra\n",
    "texto.replace(\"Hola\", \"Hi\")\n"
   ]
  },
  {
   "cell_type": "code",
   "execution_count": 16,
   "metadata": {},
   "outputs": [
    {
     "data": {
      "text/plain": [
       "['Hola', 'mundo.', 'Este', 'es', 'un', 'texto', 'de', 'ejemplo']"
      ]
     },
     "execution_count": 16,
     "metadata": {},
     "output_type": "execute_result"
    }
   ],
   "source": [
    "# Separa la frase por espacios\n",
    "lista_separada = texto.split(\" \")\n",
    "lista_separada"
   ]
  },
  {
   "cell_type": "code",
   "execution_count": 17,
   "metadata": {},
   "outputs": [
    {
     "data": {
      "text/plain": [
       "5"
      ]
     },
     "execution_count": 17,
     "metadata": {},
     "output_type": "execute_result"
    }
   ],
   "source": [
    "# Encontrar la posición de la palabra 'mundo' en texto\n",
    "texto.find(\"mundo\")"
   ]
  },
  {
   "cell_type": "markdown",
   "metadata": {},
   "source": [
    "### Datos tipo: Arreglos\n",
    "Las listas, tuplas, diccionarios y conjuntos se emplean para almacenar varios elementos en una misma variable **<sup> 1 </sup>**.\n",
    "* **Listas (list):** los elementos tienen un índice y órden, pero pueden ser modificados, además puede tener elementos duplicados\n",
    "* **Tuplas (tuple):** los elementos tienen un índice y orden, pero no se puede cambiar, agregar o eliminar una vez creada la tupla, además pueden hacer duplicados\n",
    "* **Conjuntos (set):** los elementos no tienen un orden y no están indexados, tampoco puede haber duplicados. Se pueden usar operaciones entre conjuntos (por ejemplo la _union_ o _intersección_)\n",
    "* **Diccionarios (dict):** se emplean para almacenar valores de datos en pares `clave:valor` (`keys:values`)), los elementos tienen un orden no modificable, se pueden hacer modificaciones y no se permiten duplicados"
   ]
  },
  {
   "cell_type": "markdown",
   "metadata": {},
   "source": [
    "#### Listas\n",
    "Las listas se emplean para almacenar varios elementos en una sola variable. Los elementos o datos que se almacenan pueden ser de cualquier tipo. A continuación se encuentran las características de este tipo de datos:\n",
    "* Los elementos de las listas **están ordenados**, tienen un orden definido que no cambiará. Al agregar nuevos elementos a la lista por defecto estos se ubicarán al final de la misma.\n",
    "* tienen un orden definido que no cambiará pues al agregar nuevos elementos a la lista se colocaran al final de la misma\n",
    "* Los elementos de las listas **son modificables**, es decir, que se pueden cambiar, agregar y eliminar elementos después de que se haya creado la lista\n",
    "* Las listas **permiten duplicados**, es decir, que pueden haber elementos con el mismo valor"
   ]
  },
  {
   "cell_type": "code",
   "execution_count": 18,
   "metadata": {},
   "outputs": [
    {
     "name": "stdout",
     "output_type": "stream",
     "text": [
      "La lista de enteros del 0 al 10 es:\n"
     ]
    },
    {
     "data": {
      "text/plain": [
       "[0, 1, 2, 3, 4, 5, 6, 7, 8, 9, 10]"
      ]
     },
     "execution_count": 18,
     "metadata": {},
     "output_type": "execute_result"
    }
   ],
   "source": [
    "# Guardar en la variable num una lista ordenada de elementos del 0 al 10\n",
    "num = [0, 1, 2, 3, 4, 5, 6, 7, 8, 9, 10]\n",
    "print(f'La lista de enteros del 0 al 10 es:')\n",
    "num\n"
   ]
  },
  {
   "cell_type": "code",
   "execution_count": 19,
   "metadata": {},
   "outputs": [
    {
     "data": {
      "text/plain": [
       "[0, 1, 2, 3, 4, 5, 6, 7, 8, 9, 10]"
      ]
     },
     "execution_count": 19,
     "metadata": {},
     "output_type": "execute_result"
    }
   ],
   "source": [
    "# para escribir la misma lista se puede utilizar la función range\n",
    "num = list(range(11))\n",
    "num"
   ]
  },
  {
   "cell_type": "markdown",
   "metadata": {},
   "source": [
    "La listas se pueden definir a partir de diferentes tipos de datos:"
   ]
  },
  {
   "cell_type": "code",
   "execution_count": 20,
   "metadata": {},
   "outputs": [
    {
     "name": "stdout",
     "output_type": "stream",
     "text": [
      "La lista es:\n"
     ]
    },
    {
     "data": {
      "text/plain": [
       "[1, '2', 3, '4', 5, '6', 7, 8, '9', 10]"
      ]
     },
     "execution_count": 20,
     "metadata": {},
     "output_type": "execute_result"
    }
   ],
   "source": [
    "num = [1, \"2\", 3, \"4\", 5, \"6\", 7, 8, \"9\", 10]\n",
    "# Notar como los elementos tipo string están entre comillas\n",
    "print(f'La lista es:')\n",
    "num"
   ]
  },
  {
   "cell_type": "markdown",
   "metadata": {},
   "source": [
    "En el anterior ejemplo se ve la forma en la que esta escrita una lista:\n",
    "* Se encuentra delimitada por corchetes cuadrados `[ ]`\n",
    "* Cada elemento está separado por comas `,`\n",
    "\n",
    "Como los elementos de la listas están ordenados se puede saber el índice de un elemento con la función <code>index()</code> la cual devuelve el índice del elemento en la primera aparición que encuentra a partir del índice 0 independientemente de cuántas veces este el elemento dentro de la lista."
   ]
  },
  {
   "cell_type": "markdown",
   "metadata": {},
   "source": [
    "##### Indexación\n",
    "Utilizando la misma técnica para manipular las variables tipo string, por el método de indexación se puede manipular de manera similar las listas:"
   ]
  },
  {
   "cell_type": "code",
   "execution_count": 21,
   "metadata": {},
   "outputs": [
    {
     "name": "stdout",
     "output_type": "stream",
     "text": [
      "la lista es:\n",
      "[0, 1, 2, 3, 4, 5, 6, 7, 8, 9, 10]\n",
      "----------------------\n",
      "En la posición 0 de la lista está el elemento (primer elemento):\n",
      "0\n",
      "----------------------\n",
      "Los dos primeros elementos de la lista son:\n",
      "[0, 1]\n",
      "----------------------\n",
      "Los dos últimos elementos  de la lista son:\n",
      "[9, 10]\n"
     ]
    }
   ],
   "source": [
    "# num: una lista ordenada de elementos del 0-10\n",
    "num = [0, 1, 2, 3, 4, 5, 6, 7, 8, 9, 10]\n",
    "print('la lista es:')\n",
    "print(num)\n",
    "print('----------------------')\n",
    "\n",
    "#### EJEMPLO 1\n",
    "print(f'En la posición 0 de la lista está el elemento (primer elemento):')\n",
    "print(num[0])\n",
    "print('----------------------')\n",
    "\n",
    "#### EJEMPLO 2\n",
    "print(f'Los dos primeros elementos de la lista son:')\n",
    "print(num[0:2])\n",
    "print('----------------------')\n",
    "\n",
    "#### EJEMPLO 3\n",
    "print(f'Los dos últimos elementos  de la lista son:')\n",
    "print(num[-2:])"
   ]
  },
  {
   "cell_type": "markdown",
   "metadata": {},
   "source": [
    "##### Métodos de listas\n",
    "A veces es necesario realizar algunas operaciones básicas sobre las listas, algunos de los métodos existentes son:\n",
    "\n",
    "* <code>.len()</code>\n",
    "* <code>.index()</code>\n",
    "* <code>.pop()</code>\n",
    "* <code>.append()</code>\n",
    "* <code>.remove()</code>\n",
    "* <code>.reverse()</code>"
   ]
  },
  {
   "cell_type": "markdown",
   "metadata": {},
   "source": [
    "###### Método .len()\n",
    "Con `.len(<lista>)` se puede determinar el número de elementos de la lista:"
   ]
  },
  {
   "cell_type": "code",
   "execution_count": 22,
   "metadata": {},
   "outputs": [
    {
     "name": "stdout",
     "output_type": "stream",
     "text": [
      "Número de elementos de la lista:\n"
     ]
    },
    {
     "data": {
      "text/plain": [
       "11"
      ]
     },
     "execution_count": 22,
     "metadata": {},
     "output_type": "execute_result"
    }
   ],
   "source": [
    "num = [0, 1, 2, 3, 4, 5, 6, 7, 8, 9, 10]\n",
    "print('Número de elementos de la lista:')\n",
    "len(num)\n"
   ]
  },
  {
   "cell_type": "markdown",
   "metadata": {},
   "source": [
    "###### Método .index()\n",
    "Con `.index(<elemento>)` se puede encontrar la posición ó index de un elemento en la lista:"
   ]
  },
  {
   "cell_type": "code",
   "execution_count": 23,
   "metadata": {},
   "outputs": [
    {
     "name": "stdout",
     "output_type": "stream",
     "text": [
      "¿En que posición se encuentra el 5?\n"
     ]
    },
    {
     "data": {
      "text/plain": [
       "5"
      ]
     },
     "execution_count": 23,
     "metadata": {},
     "output_type": "execute_result"
    }
   ],
   "source": [
    "#Es posible averiguar la posición de un elemento, incluso el valor en un lugar de la lista\n",
    "print(f'¿En que posición se encuentra el 5?')\n",
    "num.index(5)"
   ]
  },
  {
   "cell_type": "markdown",
   "metadata": {},
   "source": [
    "###### Método .pop()\n",
    "Con `.pop(<índice>)`. Se puede eliminar un elemento de la lista y retornarlo.\n",
    "- En caso de que no se especifique el índice, se elimina el último elemento\n",
    "\n",
    "Este método **sobreescribe** la lista:"
   ]
  },
  {
   "cell_type": "code",
   "execution_count": 24,
   "metadata": {},
   "outputs": [
    {
     "name": "stdout",
     "output_type": "stream",
     "text": [
      "Eliminar el último elemento de la lista\n",
      "10\n",
      "[0, 1, 2, 3, 4, 5, 6, 7, 8, 9]\n"
     ]
    }
   ],
   "source": [
    "print('Eliminar el último elemento de la lista')\n",
    "print(num.pop())\n",
    "print(num)"
   ]
  },
  {
   "cell_type": "markdown",
   "metadata": {},
   "source": [
    "###### Método  .append()\n",
    "Con `.append(<elemento>)` se agrega el elemento al final la lista. Este método __sobreescribe__ la lista."
   ]
  },
  {
   "cell_type": "code",
   "execution_count": 25,
   "metadata": {},
   "outputs": [
    {
     "name": "stdout",
     "output_type": "stream",
     "text": [
      "La lista ahora con el elemento 6 al final:\n",
      "[0, 1, 2, 3, 4, 5, 6, 7, 8, 9, 6]\n"
     ]
    }
   ],
   "source": [
    "num.append(6)\n",
    "print(f'La lista ahora con el elemento 6 al final:')\n",
    "print(num)"
   ]
  },
  {
   "cell_type": "markdown",
   "metadata": {},
   "source": [
    "###### Método  .remove()\n",
    "Con `.remove(<elemento>)` se elimina un elemento de una lista, es necesario indicar el elemento a eliminar:\n",
    "- En caso de tener varios elementos iguales, solo se elimina el primero\n",
    "- Si el elemento no está en la lista, devuelve un error 'ValueError'\n",
    "\n",
    "Este método __sobreescribe__ la lista."
   ]
  },
  {
   "cell_type": "code",
   "execution_count": 26,
   "metadata": {},
   "outputs": [
    {
     "name": "stdout",
     "output_type": "stream",
     "text": [
      "La lista ahora sin el 2:\n",
      "[0, 1, 3, 4, 5, 6, 7, 8, 9, 6]\n"
     ]
    }
   ],
   "source": [
    "num.remove(2)\n",
    "print(f'La lista ahora sin el 2:')\n",
    "print(num)"
   ]
  },
  {
   "cell_type": "markdown",
   "metadata": {},
   "source": [
    "###### Método  .reverse()\n",
    "Con `.reverse()` se reordena la lista, del último elemento al primero. Este método __sobreescribe__ la lista."
   ]
  },
  {
   "cell_type": "code",
   "execution_count": 27,
   "metadata": {},
   "outputs": [
    {
     "name": "stdout",
     "output_type": "stream",
     "text": [
      "Lista en orden contrario\n",
      "[10, 9, 8, 7, 6, 5, 4, 3, 2, 1, 0]\n"
     ]
    }
   ],
   "source": [
    "# volver a crear num\n",
    "num = [0, 1, 2, 3, 4, 5, 6, 7, 8, 9, 10]\n",
    "num.reverse()  # Cambiar el orden\n",
    "print('Lista en orden contrario')\n",
    "print(num)\n"
   ]
  },
  {
   "cell_type": "markdown",
   "metadata": {},
   "source": [
    "#### Tuplas\n",
    "Las tuplas se emplean para almacenar varios elementos en una sola variable. Los elementos o datos que se almacenan pueden ser de cualquier tipo. A continuación se encuentran las características de este tipo de datos:\n",
    "* Los elementos de las tuplas **están ordenados**, es decir, tienen un orden definido que no cambiará pues al agregar nuevos elementos a la lista se colocaran al final de la misma.\n",
    "* Los elementos de las tuplas **son inmutables**, es decir, que no se pueden cambiar, agregar y eliminar elementos después de que se haya creado la tupla.\n",
    "* Las tuplas **permiten duplicados**, es decir, que pueden haber elementos con el mismo valor."
   ]
  },
  {
   "cell_type": "code",
   "execution_count": 28,
   "metadata": {},
   "outputs": [
    {
     "name": "stdout",
     "output_type": "stream",
     "text": [
      "La tupla de elementos del 1 al 10 es:\n",
      "(1, 2, 3, 4, 5, 6, 7, 8, 9, 10)\n"
     ]
    }
   ],
   "source": [
    "# Sea tupla_num una tupla ordenada de elementos del 1 al 10\n",
    "tupla_num = (1, 2, 3, 4, 5, 6, 7, 8, 9, 10)\n",
    "\n",
    "print(f'La tupla de elementos del 1 al 10 es:')\n",
    "print(tupla_num)"
   ]
  },
  {
   "cell_type": "markdown",
   "metadata": {},
   "source": [
    "Una tupla es inmutable, por lo cual no se pueden asignar nuevos valores a sus elementos"
   ]
  },
  {
   "cell_type": "code",
   "execution_count": 29,
   "metadata": {},
   "outputs": [],
   "source": [
    "# tupla_num[3] = 12"
   ]
  },
  {
   "cell_type": "markdown",
   "metadata": {},
   "source": [
    "A los elementos de la tupla se pueden acceder de la misma forma que una lista\n"
   ]
  },
  {
   "cell_type": "code",
   "execution_count": 30,
   "metadata": {},
   "outputs": [
    {
     "name": "stdout",
     "output_type": "stream",
     "text": [
      "Tupla de elementos\n",
      "(1, 2, 3, 4, 5, 6, 7, 8, 9, 10)\n",
      "----------------------\n",
      "Primer elemento (posición cero)\n",
      "1\n",
      "----------------------\n",
      "Últimos cuatro elementos\n",
      "(7, 8, 9, 10)\n",
      "----------------------\n",
      "tupla de elementos de la posición dos a la cinco\n",
      "(3, 4, 5)\n",
      "----------------------\n"
     ]
    }
   ],
   "source": [
    "tupla_num = (1, 2, 3, 4, 5, 6, 7, 8, 9, 10)\n",
    "print('Tupla de elementos')\n",
    "print(tupla_num)\n",
    "print('----------------------')\n",
    "\n",
    "#### EJEMPLO 1\n",
    "print('Primer elemento (posición cero)')\n",
    "print(tupla_num[0])\n",
    "print('----------------------')\n",
    "\n",
    "#### EJEMPLO 2\n",
    "print('Últimos cuatro elementos')\n",
    "print(tupla_num[-4:])\n",
    "print('----------------------')\n",
    "\n",
    "#### EJEMPLO 3\n",
    "print('tupla de elementos de la posición dos a la cinco')\n",
    "print(tupla_num[2:5])\n",
    "print('----------------------')"
   ]
  },
  {
   "cell_type": "markdown",
   "metadata": {},
   "source": [
    "#### Conjuntos\n",
    "Los conjuntos se emplean para almacenar varios elementos en una sola variable. Los elementos o datos que se almacenan pueden ser de cualquier tipo. A continuación se encuentran las características de este tipo de datos:\n",
    "* Los elementos de los conjuntos **no están ordenados**, es decir, no tienen un orden definido ya que los elementos pueden aparecer en un orden diferente cada vez que los usa y no se puede hacer referencia a ellos por índice o clave.\n",
    "* Los elementos de los conjuntos **son inmutables**, es decir, que no se pueden cambiar elementos después de que se haya creado el conjunto.\n",
    "* Los conjuntos **no permiten duplicados**, es decir, no pueden haber elementos con el mismo valor."
   ]
  },
  {
   "cell_type": "code",
   "execution_count": 31,
   "metadata": {},
   "outputs": [
    {
     "name": "stdout",
     "output_type": "stream",
     "text": [
      "El conjunto de elementos es:\n"
     ]
    },
    {
     "data": {
      "text/plain": [
       "{0, 1, 2, 3, 4, 5, 6, 7, 8, 9, 10}"
      ]
     },
     "execution_count": 31,
     "metadata": {},
     "output_type": "execute_result"
    }
   ],
   "source": [
    "# Conjunto de elementos con algunos repetidos\n",
    "conjunto_num_1 = {1, 2, 1, 2, 3, 5, 8, 1, 3, 9, 10, 2, 3, 4, 5, 6, 7, 8, 1, 0}\n",
    "\n",
    "print('El conjunto de elementos es:')\n",
    "conjunto_num_1"
   ]
  },
  {
   "cell_type": "markdown",
   "metadata": {},
   "source": [
    "#### Diccionarios\n",
    "\n",
    "Los diccionarios son una estructura de datos especial, que nos aporta un poco más flexibilidad debido a su naturaleza de lista de objetos donde cada par contiene una clave y un valor. Por clave hacemos referencia a un valor que describe el tipo de dato guardado, a este tipo de estructuras se les conoce como una lista de objetos clave-valor.\n",
    "\n",
    "Veamos un ejemplo, para ello definiremos un diccionario de codones con su traducción a su código genético:"
   ]
  },
  {
   "cell_type": "code",
   "execution_count": 32,
   "metadata": {},
   "outputs": [
    {
     "name": "stdout",
     "output_type": "stream",
     "text": [
      "{'GUU': 'V', 'GUC': 'V', 'GUA': 'V', 'GUG': 'V', 'GCU': 'A', 'GCC': 'A', 'GCA': 'A', 'GCG': 'A', 'GAU': 'D', 'GAC': 'D', 'GAA': 'E', 'GAG': 'E', 'GGU': 'G', 'GGC': 'G', 'GGA': 'G', 'GGG': 'G', 'AGA': 'R', 'AGG': 'R', 'AGU': 'S', 'AGC': 'S', 'AAU': 'N', 'AAC': 'N', 'AAA': 'K', 'AAG': 'K', 'ACU': 'T', 'ACC': 'T', 'ACA': 'T', 'ACG': 'T', 'AUU': 'I', 'AUC': 'I', 'AUA': 'I', 'AUG': 'M', 'CGU': 'R', 'CGC': 'R', 'CGA': 'R', 'CGG': 'R', 'CCU': 'P', 'CCC': 'P', 'CCA': 'P', 'CCG': 'P', 'CAU': 'H', 'CAC': 'H', 'CAA': 'Q', 'CAG': 'Q', 'UUU': 'F', 'UUC': 'F', 'UUA': 'L', 'UUG': 'L', 'UCU': 'S', 'UCC': 'S', 'UCA': 'S', 'UCG': 'S', 'UAU': 'Y', 'UAC': 'Y', 'UAA': 'STOP', 'UAG': 'STOP', 'UGU': 'C', 'UGC': 'C', 'UGA': 'STOP', 'UGG': 'W', 'CUU': 'L', 'CUC': 'L', 'CUA': 'L', 'CUG': 'L'}\n"
     ]
    }
   ],
   "source": [
    "codigo_genetico= {\n",
    "    \"GUU\": \"V\", \"GUC\": \"V\", \"GUA\": \"V\",\n",
    "    \"GUG\": \"V\", \"GCU\": \"A\", \"GCC\": \"A\",\n",
    "    \"GCA\": \"A\", \"GCG\": \"A\", \"GAU\": \"D\",\n",
    "    \"GAC\": \"D\", \"GAA\": \"E\", \"GAG\": \"E\",\n",
    "    \"GGU\": \"G\", \"GGC\": \"G\", \"GGA\": \"G\",\n",
    "    \"GGG\": \"G\", \"AGA\": \"R\", \"AGG\": \"R\",\n",
    "    \"AGU\": \"S\", \"AGC\": \"S\", \"AAU\": \"N\",\n",
    "    \"AAC\": \"N\", \"AAA\": \"K\", \"AAG\": \"K\",\n",
    "    \"ACU\": \"T\", \"ACC\": \"T\", \"ACA\": \"T\",\n",
    "    \"ACG\": \"T\", \"AUU\": \"I\", \"AUC\": \"I\",\n",
    "    \"AUA\": \"I\", \"AUG\": \"M\", \"CGU\": \"R\",\n",
    "    \"CGC\": \"R\", \"CGA\": \"R\", \"CGG\": \"R\",\n",
    "    \"CCU\": \"P\", \"CCC\": \"P\", \"CCA\": \"P\",\n",
    "    \"CCG\": \"P\", \"CAU\": \"H\", \"CAC\": \"H\",\n",
    "    \"CAA\": \"Q\", \"CAG\": \"Q\", \"UUU\": \"F\",\n",
    "    \"UUC\": \"F\", \"UUA\": \"L\", \"UUG\": \"L\",\n",
    "    \"UCU\": \"S\", \"UCC\": \"S\", \"UCA\": \"S\",\n",
    "    \"UCG\": \"S\", \"UAU\": \"Y\", \"UAC\": \"Y\",\n",
    "    \"UAA\": \"STOP\", \"UAG\": \"STOP\", \"UGU\":\"C\",\n",
    "    \"UGC\": \"C\", \"UGA\": \"STOP\", \"UGG\": \"W\",\n",
    "    \"CUU\": \"L\", \"CUC\": \"L\", \"CUA\": \"L\",\n",
    "    \"CUG\": \"L\"}\n",
    "\n",
    "# Se imprime el diccionario previamente creado\n",
    "print(codigo_genetico)"
   ]
  },
  {
   "cell_type": "markdown",
   "metadata": {},
   "source": [
    "Python tiene su propia forma de definir diccionarios, a través de la palabra clave `dict`. Lo que nos daria una forma más elegante de creación:"
   ]
  },
  {
   "cell_type": "markdown",
   "metadata": {},
   "source": [
    "Por lo general podemos acceder a los valores del diccionario de la misma manera que lo hacemos con los arreglos y las listas."
   ]
  },
  {
   "cell_type": "code",
   "execution_count": 33,
   "metadata": {},
   "outputs": [
    {
     "name": "stdout",
     "output_type": "stream",
     "text": [
      "El aminoácido de GGG es: G\n",
      "----------------------\n"
     ]
    },
    {
     "ename": "KeyError",
     "evalue": "'YYY'",
     "output_type": "error",
     "traceback": [
      "\u001b[1;31m---------------------------------------------------------------------------\u001b[0m",
      "\u001b[1;31mKeyError\u001b[0m                                  Traceback (most recent call last)",
      "Cell \u001b[1;32mIn[33], line 6\u001b[0m\n\u001b[0;32m      3\u001b[0m \u001b[38;5;28mprint\u001b[39m(\u001b[38;5;124m'\u001b[39m\u001b[38;5;124m----------------------\u001b[39m\u001b[38;5;124m'\u001b[39m)\n\u001b[0;32m      5\u001b[0m \u001b[38;5;66;03m### Ejemplo 2: ¿Cuál es el valor del código genético de YYY?\u001b[39;00m\n\u001b[1;32m----> 6\u001b[0m \u001b[43mcodigo_genetico\u001b[49m\u001b[43m[\u001b[49m\u001b[38;5;124;43m'\u001b[39;49m\u001b[38;5;124;43mYYY\u001b[39;49m\u001b[38;5;124;43m'\u001b[39;49m\u001b[43m]\u001b[49m\n",
      "\u001b[1;31mKeyError\u001b[0m: 'YYY'"
     ]
    }
   ],
   "source": [
    "### Ejemplo 1: ¿Cuál es el valor del código genético de GGG?\n",
    "print(f'El aminoácido de GGG es: {codigo_genetico[\"GGG\"]}')\n",
    "print('----------------------')\n",
    "\n",
    "### Ejemplo 2: ¿Cuál es el valor del código genético de YYY?\n",
    "codigo_genetico['YYY']\n",
    "\n"
   ]
  },
  {
   "cell_type": "markdown",
   "metadata": {},
   "source": [
    "En ejemplo 2 de la celda anterior arrojó el error `KeyError` debido a que `YYY` no está definida en el diccionario. En `Python` se pueden usar excepciones para definir de que manera manejar los errores. Esto se hace con la secuencia de comandos `try/except`. Por lo general un bloque del tipo `try/except` tiene la siguiente estructura:"
   ]
  },
  {
   "cell_type": "markdown",
   "metadata": {},
   "source": [
    "```markdown\n",
    "try:\n",
    "    bloque código\n",
    "except <tipo>:\n",
    "    bloque código\n",
    "```"
   ]
  },
  {
   "cell_type": "markdown",
   "metadata": {},
   "source": [
    "Ahora, el ejemplo se puede escribir de la siguiente manera:"
   ]
  },
  {
   "cell_type": "code",
   "execution_count": 34,
   "metadata": {},
   "outputs": [
    {
     "name": "stdout",
     "output_type": "stream",
     "text": [
      "La propiedad YYY no existe en el diccionario, intenta con otra!\n"
     ]
    }
   ],
   "source": [
    "### Ejemplo 2: Uso de try/catch para cuando una clave no existe en el diccionario\n",
    "try:\n",
    "    codigo_genetico['YYY']\n",
    "except KeyError:\n",
    "    print(f'La propiedad YYY no existe en el diccionario, intenta con otra!')"
   ]
  },
  {
   "cell_type": "markdown",
   "metadata": {},
   "source": [
    "# Teoría: Estructuras de control de flujo\n",
    "Python tiene sentencias de control de flujo que permite agrupar comandos de manera controlada. Dos de las más empleadas son:\n",
    "1. Estructuras de control condicionales\n",
    "2. Estructuras de control iterativas"
   ]
  },
  {
   "cell_type": "markdown",
   "metadata": {},
   "source": [
    "### 1. Condicionales\n",
    "\n",
    "Los condicionales permiten ejecutar una instrucción o tomar una decisión si se cumple una determinada condición, dando como resultado un valor booleano de verdadero o falso. Las funciones más empleadas **<sup> 2 </sup>**:\n",
    "* <code>if</code>: donde si se cumple la expresión se ejecuta el bloque de sentencias seguidas.\n",
    "* <code>elif</code>: donde si no se cumplen las condiciones anteriores, se intenta con otra sentencia.\n",
    "* <code>else</code>:  donde la expresión booleana es falsa o no se cumple una condición tomar esta otra opción."
   ]
  },
  {
   "cell_type": "markdown",
   "metadata": {},
   "source": [
    "#### Estructura de un condicional:\n",
    "\n",
    "Por lo general un bloque de código de un condicional debe seguir la siguiente forma:\n",
    "\n",
    "```markdown\n",
    "if <condicion_1>:\n",
    "    bloque código\n",
    "    \n",
    "elif <condicion_2>:\n",
    "    bloque código\n",
    " ...\n",
    "else:\n",
    "    bloque código\n",
    "```"
   ]
  },
  {
   "cell_type": "markdown",
   "metadata": {},
   "source": [
    "Evalúa la expresión lógica condicion_1 y ejecuta el primer bloque de código si es `True`; si no, evalúa las siguientes condiciones hasta llegar a la primera que es `True` y ejecuta el bloque de código asociado. Si ninguna condición es `True` ejecuta el bloque de código después de `else`.\n",
    "*Observaciones*\n",
    "- Un condicional `if` no necesariamente necesita `elif` o `else`\n",
    "- Solo puede aparecer un `else`, y debe ir al final\n",
    "- Los bloques de código deben estar indentados por 4 espacios\n",
    "- El final del bloque condicional es cuando la línea vuelve al nivel anterior"
   ]
  },
  {
   "cell_type": "markdown",
   "metadata": {},
   "source": [
    "En ciertos escenarios se pueden tomar decisiones, como puede ser aumentar el valor de x ó en su defecto disminuir su valor"
   ]
  },
  {
   "cell_type": "code",
   "execution_count": 35,
   "metadata": {},
   "outputs": [
    {
     "name": "stdout",
     "output_type": "stream",
     "text": [
      "2\n"
     ]
    }
   ],
   "source": [
    "x = 1  # valor inicial (pruebe cambiando este valor)\n",
    "\n",
    "# Condición\n",
    "if x == 1:\n",
    "    x = x + 1\n",
    "else:\n",
    "    x = x -1\n",
    "\n",
    "print(x) # valor final"
   ]
  },
  {
   "cell_type": "markdown",
   "metadata": {},
   "source": [
    "(_Nota: El operador == es uno de los operadores de comparación también llamado relacional. Un error común es utilizar un signo igual sencillo (=) el cual es un operador de asignación, en lugar del doble (==)._)"
   ]
  },
  {
   "cell_type": "markdown",
   "metadata": {},
   "source": [
    "Más de una expresión de comprobación puede ser parte del bloque a través de `elif`, ejemplo:"
   ]
  },
  {
   "cell_type": "code",
   "execution_count": 36,
   "metadata": {},
   "outputs": [
    {
     "name": "stdout",
     "output_type": "stream",
     "text": [
      "0\n"
     ]
    }
   ],
   "source": [
    "x = 3  # valor inicial (pruebe cambiando este valor)\n",
    "\n",
    "if x == 1:\n",
    "    x = x + 1\n",
    "elif x == 2:\n",
    "    x = x - 1\n",
    "else:\n",
    "    x = 0\n",
    "\n",
    "print(x) # valor final"
   ]
  },
  {
   "cell_type": "markdown",
   "metadata": {},
   "source": [
    "En ocasiones se pueden incluir expresiones **if** anidadas tanto como sea necesario, no es recomendable como práctica de desarrollo de software, por ejemplo:"
   ]
  },
  {
   "cell_type": "code",
   "execution_count": 37,
   "metadata": {},
   "outputs": [
    {
     "name": "stdout",
     "output_type": "stream",
     "text": [
      "Se espera que x,y sean iguales a 1. x=1 y=1\n"
     ]
    }
   ],
   "source": [
    "x = 2\n",
    "y = 2\n",
    "if x == 1:\n",
    "    if y == 2:\n",
    "        x = x + 1\n",
    "        y = y + 1\n",
    "elif x == 2:\n",
    "    if y == 2:\n",
    "        x = x - 1\n",
    "        y = y - 1\n",
    "else:\n",
    "    x = 0\n",
    "    y = 0\n",
    "\n",
    "print(f'Se espera que x,y sean iguales a 1. x={x} y={y}')"
   ]
  },
  {
   "cell_type": "markdown",
   "metadata": {},
   "source": [
    "### 2. Iteraciones\n",
    "Las iteraciones o bucles permiten repetir una porción del código las veces que sea necesario, mientras la condición booleana sea verdadera o falsa, en python se incluyen únicamente dos funciones **<sup> 3 </sup>**:\n",
    "* <code>while</code>: permite realizar múltiples iteraciones ejecutando un código mientras la condición sea verdadera.\n",
    "* <code>for</code>: permite iterar en orden sobre cada uno de los elementos de una secuencia, ya sea lista, tupla, diccionario, conjunto o cadena\n"
   ]
  },
  {
   "cell_type": "markdown",
   "metadata": {},
   "source": [
    "#### Estructura de While:\n",
    "\n",
    "Por lo general un bloque de código While debe seguir la siguiente forma:\n",
    "\n",
    "```markdown\n",
    "while <condicion>:\n",
    "    bloque de código\n",
    "```\n",
    "\n",
    "*Recordemos que en Python no es necesario la palabra clave `return` al final de un bloqué de código ya que la convención es que siempre se retorna la última línea del código.*"
   ]
  },
  {
   "cell_type": "code",
   "execution_count": 38,
   "metadata": {},
   "outputs": [
    {
     "name": "stdout",
     "output_type": "stream",
     "text": [
      "El valor inicial de x es:\n",
      "1\n",
      "El nuevo valor de x es 1\n",
      "El nuevo valor de x es 2\n",
      "El nuevo valor de x es 3\n",
      "El nuevo valor de x es 4\n",
      "El nuevo valor de x es 5\n",
      "El nuevo valor de x es 6\n",
      "El nuevo valor de x es 7\n",
      "El nuevo valor de x es 8\n",
      "El nuevo valor de x es 9\n",
      "Al finalizar el bucle, el valor de x es:\n",
      "10\n"
     ]
    }
   ],
   "source": [
    "#### EJEMPLO 1\n",
    "# Aumentemos el valor de x hasta 10\n",
    "x = 1\n",
    "print('El valor inicial de x es:')\n",
    "print(x)\n",
    "\n",
    "while x < 10:\n",
    "    print(f'El nuevo valor de x es {x}')\n",
    "    x = x + 1\n",
    "\n",
    "print('Al finalizar el bucle, el valor de x es:')\n",
    "print(x)"
   ]
  },
  {
   "cell_type": "markdown",
   "metadata": {},
   "source": [
    "#### Estructura For\n",
    "\n",
    "De la misma forma el bloque `for` sigue una estructura estandar para su definición:\n",
    "\n",
    "```markdown\n",
    "for <var> in <secuencia>:\n",
    "    bloque de código\n",
    "```\n",
    "\n",
    "*Recordemos: no es necesario la palabra clave `return` como en otros lenguajes.*"
   ]
  },
  {
   "cell_type": "code",
   "execution_count": 39,
   "metadata": {},
   "outputs": [
    {
     "name": "stdout",
     "output_type": "stream",
     "text": [
      "El aminoácido de GUU es V\n",
      "El aminoácido de GUC es V\n",
      "El aminoácido de GUA es V\n",
      "El aminoácido de GUG es V\n",
      "El aminoácido de GCU es A\n",
      "El aminoácido de GCC es A\n",
      "El aminoácido de GCA es A\n",
      "El aminoácido de GCG es A\n",
      "El aminoácido de GAU es D\n",
      "El aminoácido de GAC es D\n",
      "El aminoácido de GAA es E\n",
      "El aminoácido de GAG es E\n",
      "El aminoácido de GGU es G\n",
      "El aminoácido de GGC es G\n",
      "El aminoácido de GGA es G\n",
      "El aminoácido de GGG es G\n",
      "El aminoácido de AGA es R\n",
      "El aminoácido de AGG es R\n",
      "El aminoácido de AGU es S\n",
      "El aminoácido de AGC es S\n",
      "El aminoácido de AAU es N\n",
      "El aminoácido de AAC es N\n",
      "El aminoácido de AAA es K\n",
      "El aminoácido de AAG es K\n",
      "El aminoácido de ACU es T\n",
      "El aminoácido de ACC es T\n",
      "El aminoácido de ACA es T\n",
      "El aminoácido de ACG es T\n",
      "El aminoácido de AUU es I\n",
      "El aminoácido de AUC es I\n",
      "El aminoácido de AUA es I\n",
      "El aminoácido de AUG es M\n",
      "El aminoácido de CGU es R\n",
      "El aminoácido de CGC es R\n",
      "El aminoácido de CGA es R\n",
      "El aminoácido de CGG es R\n",
      "El aminoácido de CCU es P\n",
      "El aminoácido de CCC es P\n",
      "El aminoácido de CCA es P\n",
      "El aminoácido de CCG es P\n",
      "El aminoácido de CAU es H\n",
      "El aminoácido de CAC es H\n"
     ]
    }
   ],
   "source": [
    "#### EJEMPLO 2\n",
    "# tomemos como ejemplo una lista de objetos, por ejemplo los tipos de codones y su código genético:\n",
    "codigo_genetico= [\n",
    "    [\"GUU\", \"V\"], [\"GUC\", \"V\"], [\"GUA\", \"V\"],\n",
    "    [\"GUG\", \"V\"], [\"GCU\", \"A\"], [\"GCC\", \"A\"],\n",
    "    [\"GCA\", \"A\"], [\"GCG\", \"A\"], [\"GAU\", \"D\"],\n",
    "    [\"GAC\", \"D\"], [\"GAA\", \"E\"], [\"GAG\", \"E\"],\n",
    "    [\"GGU\", \"G\"], [\"GGC\", \"G\"], [\"GGA\", \"G\"],\n",
    "    [\"GGG\", \"G\"], [\"AGA\", \"R\"], [\"AGG\", \"R\"],\n",
    "    [\"AGU\", \"S\"], [\"AGC\", \"S\"], [\"AAU\", \"N\"],\n",
    "    [\"AAC\", \"N\"], [\"AAA\", \"K\"], [\"AAG\", \"K\"],\n",
    "    [\"ACU\", \"T\"], [\"ACC\", \"T\"], [\"ACA\", \"T\"],\n",
    "    [\"ACG\", \"T\"], [\"AUU\", \"I\"], [\"AUC\", \"I\"],\n",
    "    [\"AUA\", \"I\"], [\"AUG\", \"M\"], [\"CGU\", \"R\"],\n",
    "    [\"CGC\", \"R\"], [\"CGA\", \"R\"], [\"CGG\", \"R\"],\n",
    "    [\"CCU\", \"P\"], [\"CCC\", \"P\"], [\"CCA\", \"P\"],\n",
    "    [\"CCG\", \"P\"], [\"CAU\", \"H\"], [\"CAC\", \"H\"]\n",
    "]\n",
    "\n",
    "# Se puede recorrer todos los elementos de la lista lista_prot e imprimir la proteína y su tipo:\n",
    "for codon in codigo_genetico:\n",
    "    print(f'El aminoácido de {codon[0]} es {codon[1]}')"
   ]
  },
  {
   "cell_type": "markdown",
   "metadata": {},
   "source": [
    "Podemos iterar los elementos de un diccionario a través de los pares `key-value` usando el método `.items()`."
   ]
  },
  {
   "cell_type": "code",
   "execution_count": 40,
   "metadata": {},
   "outputs": [
    {
     "name": "stdout",
     "output_type": "stream",
     "text": [
      "El aminoácido de GUU es V\n",
      "El aminoácido de GUC es V\n",
      "El aminoácido de GUA es V\n",
      "El aminoácido de GUG es V\n",
      "El aminoácido de GCU es A\n",
      "El aminoácido de GCC es A\n",
      "El aminoácido de GCA es A\n",
      "El aminoácido de GCG es A\n",
      "El aminoácido de GAU es D\n",
      "El aminoácido de GAC es D\n",
      "El aminoácido de GAA es E\n",
      "El aminoácido de GAG es E\n",
      "El aminoácido de GGU es G\n",
      "El aminoácido de GGC es G\n",
      "El aminoácido de GGA es G\n",
      "El aminoácido de GGG es G\n",
      "El aminoácido de AGA es R\n",
      "El aminoácido de AGG es R\n",
      "El aminoácido de AGU es S\n",
      "El aminoácido de AGC es S\n",
      "El aminoácido de AAU es N\n",
      "El aminoácido de AAC es N\n",
      "El aminoácido de AAA es K\n",
      "El aminoácido de AAG es K\n",
      "El aminoácido de ACU es T\n",
      "El aminoácido de ACC es T\n",
      "El aminoácido de ACA es T\n",
      "El aminoácido de ACG es T\n",
      "El aminoácido de AUU es I\n",
      "El aminoácido de AUC es I\n",
      "El aminoácido de AUA es I\n",
      "El aminoácido de AUG es M\n",
      "El aminoácido de CGU es R\n",
      "El aminoácido de CGC es R\n",
      "El aminoácido de CGA es R\n",
      "El aminoácido de CGG es R\n",
      "El aminoácido de CCU es P\n",
      "El aminoácido de CCC es P\n",
      "El aminoácido de CCA es P\n",
      "El aminoácido de CCG es P\n",
      "El aminoácido de CAU es H\n",
      "El aminoácido de CAC es H\n",
      "El aminoácido de CAA es Q\n",
      "El aminoácido de CAG es Q\n",
      "El aminoácido de UUU es F\n",
      "El aminoácido de UUC es F\n",
      "El aminoácido de UUA es L\n",
      "El aminoácido de UUG es L\n",
      "El aminoácido de UCU es S\n",
      "El aminoácido de UCC es S\n",
      "El aminoácido de UCA es S\n",
      "El aminoácido de UCG es S\n",
      "El aminoácido de UAU es Y\n",
      "El aminoácido de UAC es Y\n",
      "El aminoácido de UAA es STOP\n",
      "El aminoácido de UAG es STOP\n",
      "El aminoácido de UGU es C\n",
      "El aminoácido de UGC es C\n",
      "El aminoácido de UGA es STOP\n",
      "El aminoácido de UGG es W\n",
      "El aminoácido de CUU es L\n",
      "El aminoácido de CUC es L\n",
      "El aminoácido de CUA es L\n",
      "El aminoácido de CUG es L\n"
     ]
    }
   ],
   "source": [
    "#### EJEMPLO 3: Uso de for para recorrer los elementos de un diccionario\n",
    "codigo_genetico= {\n",
    "    \"GUU\": \"V\", \"GUC\": \"V\", \"GUA\": \"V\",\n",
    "    \"GUG\": \"V\", \"GCU\": \"A\", \"GCC\": \"A\",\n",
    "    \"GCA\": \"A\", \"GCG\": \"A\", \"GAU\": \"D\",\n",
    "    \"GAC\": \"D\", \"GAA\": \"E\", \"GAG\": \"E\",\n",
    "    \"GGU\": \"G\", \"GGC\": \"G\", \"GGA\": \"G\",\n",
    "    \"GGG\": \"G\", \"AGA\": \"R\", \"AGG\": \"R\",\n",
    "    \"AGU\": \"S\", \"AGC\": \"S\", \"AAU\": \"N\",\n",
    "    \"AAC\": \"N\", \"AAA\": \"K\", \"AAG\": \"K\",\n",
    "    \"ACU\": \"T\", \"ACC\": \"T\", \"ACA\": \"T\",\n",
    "    \"ACG\": \"T\", \"AUU\": \"I\", \"AUC\": \"I\",\n",
    "    \"AUA\": \"I\", \"AUG\": \"M\", \"CGU\": \"R\",\n",
    "    \"CGC\": \"R\", \"CGA\": \"R\", \"CGG\": \"R\",\n",
    "    \"CCU\": \"P\", \"CCC\": \"P\", \"CCA\": \"P\",\n",
    "    \"CCG\": \"P\", \"CAU\": \"H\", \"CAC\": \"H\",\n",
    "    \"CAA\": \"Q\", \"CAG\": \"Q\", \"UUU\": \"F\",\n",
    "    \"UUC\": \"F\", \"UUA\": \"L\", \"UUG\": \"L\",\n",
    "    \"UCU\": \"S\", \"UCC\": \"S\", \"UCA\": \"S\",\n",
    "    \"UCG\": \"S\", \"UAU\": \"Y\", \"UAC\": \"Y\",\n",
    "    \"UAA\": \"STOP\", \"UAG\": \"STOP\", \"UGU\":\"C\",\n",
    "    \"UGC\": \"C\", \"UGA\": \"STOP\", \"UGG\": \"W\",\n",
    "    \"CUU\": \"L\", \"CUC\": \"L\", \"CUA\": \"L\",\n",
    "    \"CUG\": \"L\"}\n",
    "\n",
    "for codon, gen in codigo_genetico.items():\n",
    "    print(f\"El aminoácido de {codon} es {gen}\")"
   ]
  },
  {
   "cell_type": "markdown",
   "metadata": {},
   "source": [
    "# Teoría: Funciones\n",
    "\n",
    "A parte de las expresiones y funcionalidades nativas de Python conocidas hasta ahora a través del libro, existen otras que son muy relevantes y necesarias a la hora de escribir cualquier programa de computadora. Y hablamos de las **funciones**: Una función básicamente es un fragmento de código que se puede reutilizar, que tiene un nombre que la identifica, y recibe unos parámetros de entrada **<sup> 4 </sup>**. Las funciones por lo general no siempre devuelven un mismo resultado, ellas tienen un comportamiento basado en los valores de sus argumentos.\n",
    "\n",
    "A la hora de definir una función, es importante tener en cuenta que:\n",
    "\n",
    "1. Tener un nombre que explique a primera vista, el resultado y la operación que realiza.\n",
    "2. La mayoría de las funciones reciben uno o varios parámetros necesarios para realizar la operación, aunque pueden no recibir ninguno.\n",
    "3. Por lo general devuelven un resultado, aunque no siempre sucede.\n"
   ]
  },
  {
   "cell_type": "markdown",
   "metadata": {},
   "source": [
    "#### Estructura de una función:\n",
    "\n",
    "Por lo general un bloque de código de una función debe seguir la siguiente forma:\n",
    "\n",
    "```markdown\n",
    "def <nombre_funcion>(<parámetros>):\n",
    "    bloque código\n",
    "    bloque código\n",
    "    ...\n",
    "    retun <objeto>\n",
    "```"
   ]
  },
  {
   "cell_type": "markdown",
   "metadata": {},
   "source": [
    "Veamos un ejemplo:\n",
    "La siguiente función al ser ejecutada devuelve un dato del tipo `string` si la proteína se encuentra en el diccionario o en su defecto devuelve `None`."
   ]
  },
  {
   "cell_type": "code",
   "execution_count": 41,
   "metadata": {},
   "outputs": [
    {
     "name": "stdout",
     "output_type": "stream",
     "text": [
      "El aminiácido de GCG es: A\n"
     ]
    }
   ],
   "source": [
    "#### EJEMPLO 1: Verificación de existencia de codon de una lista de codones\n",
    "# Diccionario de proteínas y su tipo:\n",
    "codigo_genetico = {\"GUU\": \"V\", \"GUC\": \"V\", \"GUA\": \"V\", \"GUG\": \"V\", \"GCU\": \"A\", \"GCC\": \"A\", \"GCA\": \"A\", \"GCG\": \"A\",\n",
    "                \"GAU\": \"D\", \"GAC\": \"D\", \"GAA\": \"E\", \"GAG\": \"E\", \"GGU\": \"G\", \"GGC\": \"G\", \"GGA\": \"G\", \"GGG\": \"G\",\n",
    "                \"AGA\": \"R\", \"AGG\": \"R\", \"AGU\": \"S\", \"AGC\": \"S\", \"AAU\": \"N\", \"AAC\": \"N\", \"AAA\": \"K\", \"AAG\": \"K\",\n",
    "                \"ACU\": \"T\", \"ACC\": \"T\", \"ACA\": \"T\", \"ACG\": \"T\", \"AUU\": \"I\", \"AUC\": \"I\", \"AUA\": \"I\", \"AUG\": \"M\",\n",
    "                \"CGU\": \"R\", \"CGC\": \"R\", \"CGA\": \"R\", \"CGG\": \"R\", \"CCU\": \"P\", \"CCC\": \"P\", \"CCA\": \"P\", \"CCG\": \"P\",\n",
    "                \"CAU\": \"H\", \"CAC\": \"H\", \"CAA\": \"Q\", \"CAG\": \"Q\", \"UUU\": \"F\", \"UUC\": \"F\", \"UUA\": \"L\", \"UUG\": \"L\",\n",
    "                \"UCU\": \"S\", \"UCC\": \"S\", \"UCA\": \"S\", \"UCG\": \"S\", \"UAU\": \"Y\", \"UAC\": \"Y\", \"UAA\": \"STOP\", \"UAG\": \"STOP\",\n",
    "                \"UGU\": \"C\", \"UGC\": \"C\", \"UGA\": \"STOP\", \"UGG\": \"W\", \"CUU\": \"L\", \"CUC\": \"L\", \"CUA\": \"L\", \"CUG\": \"L\"}\n",
    "\n",
    "# función que verifica si existe un codon definido en el diccionario y devuelve su código genético o su defecto devuelve un valor None.\n",
    "def codigo_gen_de_codon(codon):\n",
    "    if codon in codigo_genetico:\n",
    "        return codigo_genetico[codon]\n",
    "\n",
    "# Ejecutar la función\n",
    "print(f'El aminiácido de GCG es: {codigo_gen_de_codon(\"GCG\")}')"
   ]
  },
  {
   "cell_type": "markdown",
   "metadata": {},
   "source": [
    "*Observaciones*:\n",
    "* Toda función debe iniciar con la palabra clave **def** seguido del nombre, seguido de los parámetros entre paréntesis y finalizar la línea con dos puntos\n",
    "    * El nombre de la función es: **tipo_de_proteina**\n",
    "    * El parámetro que recibe la función es: **nombre_proteina**\n",
    "* El cuerpo de la función esta indentado cuatro espacios\n",
    "* El final del bloque es cuando la línea vuelve al nivel anterior\n",
    "* Una vez creada la función se puede invocar con su nombre seguido de paréntesis y si es necesario enviar los parámetros por referencia.\n",
    "\n",
    "\n",
    "\n"
   ]
  },
  {
   "cell_type": "markdown",
   "metadata": {},
   "source": [
    "### Parámetros de una función\n",
    "\n",
    "Una función puede recibir más de un parámetro, en el ejemplo anterior la función solo recibía uno, pero podemos agregar más. Por ejemplo, modifiquemos la función para que reciba también la lista de `proteinas`:"
   ]
  },
  {
   "cell_type": "code",
   "execution_count": 42,
   "metadata": {},
   "outputs": [
    {
     "data": {
      "text/plain": [
       "'T'"
      ]
     },
     "execution_count": 42,
     "metadata": {},
     "output_type": "execute_result"
    }
   ],
   "source": [
    "#### EJEMPLO 2\n",
    "\n",
    "# función que verifica si existe un codon definido en el diccionario y devuelve su código genético o su defecto devuelve un valor None.\n",
    "# notar que esta función recibe dos paramétros\n",
    "def codigo_gen_de_codon(tipo_de_codones, nombre):\n",
    "    if nombre in tipo_de_codones:\n",
    "        return tipo_de_codones[nombre]\n",
    "\n",
    "# Forma de ejecutar la función previamente creada\n",
    "codigo_gen_de_codon(codigo_genetico, \"ACC\")"
   ]
  },
  {
   "cell_type": "markdown",
   "metadata": {},
   "source": [
    "Ahora que no es necesario definir la variable proteínas antes de la función, esto es porque las funciones poseen su propio contexto de ejecución, ahora el valor de la variable `proteínas` es referenciada al momento de ejecutar la función, como su primer parametro.\n",
    "\n",
    "Sobre los parametros es importante resaltar que:\n",
    "\n",
    "* Deben tener nombres claros y legibles que complementen lo que la función realiza\n",
    "* Pueden ser de cualquier tipo como es el caso del ejemplo anterior `proteinas` es un diccionario mientras que `nombre_proteina` es de tipo string\n",
    "* Pueden tener valores por defecto, veamos un ejemplo a continuación."
   ]
  },
  {
   "cell_type": "code",
   "execution_count": 43,
   "metadata": {},
   "outputs": [
    {
     "data": {
      "text/plain": [
       "'N'"
      ]
     },
     "execution_count": 43,
     "metadata": {},
     "output_type": "execute_result"
    }
   ],
   "source": [
    "#### EJEMPLO 3\n",
    "\n",
    "# Parámetro por defecto nombre_proteina='AAU'\n",
    "def codigo_gen_de_codon(tipo_de_codones, nombre='AAU'):\n",
    "    if nombre in tipo_de_codones:\n",
    "        return tipo_de_codones[nombre]\n",
    "\n",
    "# nombre_proteina no es necesario pasarlo como referencia ya que tiene un valor por defecto en la definición de la función.\n",
    "codigo_gen_de_codon(codigo_genetico)"
   ]
  },
  {
   "cell_type": "markdown",
   "metadata": {},
   "source": [
    "Ahora revisemos la implementación de la práctica #1 y realizemos una función que sea del tipo general y que nos sirva para encontrar cualquier proteína."
   ]
  },
  {
   "cell_type": "code",
   "execution_count": 44,
   "metadata": {},
   "outputs": [
    {
     "name": "stdout",
     "output_type": "stream",
     "text": [
      ">> Proteína encontrada\n",
      "Proteina: MDSLVVLVLCLSCLLLLSLWRQSSGRGKLPPGPTPLPVIGNILQIGIKDISKSLTNLSKVYGPVFTLYFGLKPIVVLHGYEAVKEALIDLGEEFSGRGIFPLAERANRGFGIVFSNGKKWKEIRRFSLMTLRNFGMGKRSIEDRVQEEARCLVEELRKTKASPCDPTFILGCAPCNVICSIIFHKRFDYKDQQFLNLMEKLNENIKILSSPWIQICNNFSPIIDYFPGTHNKLLKNVAFMKSYILEKVKEHQESMDMNNPQDFIDCFLMKMEKEKHNQPSEFTIESLENTAVDLFGAGTETTSTTLRYALLLLLKHPEVTAKVQEEIERVIGRNRSPCMQDRSHMPYTDAVVHEVQRYIDLLPTSLPHAVTCDIKFRNYLIPKGTTILISLTSVLHDNKEFPNPEMFDPHHFLDEGGNFKKSKYFMPFSAGKRICVGEALAGMELFLFLTSILQNFNLKSLVDPKNLDTTPVVNGFASVPPFYQLCFIPV\n"
     ]
    }
   ],
   "source": [
    "#### EJEMPLO 4: Función que se encarga de encontrar una proteína a partir de RNA y un codon inicial.\n",
    "\n",
    "# Volver a cargar la secuencia\n",
    "with open(\"data/sec_CYP2C9.fasta\", \"r\") as GEN:\n",
    "    sec_CYP2C9 = GEN.read()\n",
    "DNA_CYP2C9 =(''.join(sec_CYP2C9.split('\\n')[1:]))\n",
    "RNA_CYP2C9 = DNA_CYP2C9.replace(\"T\",\"U\")\n",
    "\n",
    "\n",
    "def rna_a_proteina(rna, codon_inicial='AUG'):\n",
    "    run = True\n",
    "    # busqueda codón inicio AUG\n",
    "    i = 0\n",
    "    for i in range(len(rna)):\n",
    "        if rna[i:i + 3] == codon_inicial:  # Inicio de proteína encontrado\n",
    "            rna = rna[i:]  # recorte de secuencia. Nuevo RNA\n",
    "            break  # terminar el ciclo for\n",
    "        if i >= (len(rna) - 3):  # Inicio de proteína NO encontrado\n",
    "            print('No se encontró el codon de inicio AUG')\n",
    "            rna = rna[i:i + 3]\n",
    "            run = False  # terminar\n",
    "            break  # terminar el ciclo for\n",
    "\n",
    "    # Este código solo se ejecuta si se encontró el inicio de la proteína\n",
    "    # Se ejecuta con la secuencia recortada\n",
    "    if run:\n",
    "        i = 0\n",
    "        proteina = list()\n",
    "        # inicio traducción\n",
    "        while i <= len(rna) - 2:\n",
    "            codon = codigo_genetico[rna[i:i + 3]]\n",
    "            proteina.append(codon)\n",
    "            i += 3\n",
    "            if codon == 'STOP':\n",
    "                print(f'>> Proteína encontrada')\n",
    "                rna = rna[i:]  # nuevo RNA (recortado)\n",
    "                proteina = proteina[:-1]\n",
    "                texto_proteina = ''.join(proteina)\n",
    "                print(f'Proteina: {texto_proteina}')\n",
    "                break\n",
    "            if i >= (len(rna) - 3):\n",
    "                print('No se encontró el codon STOP')\n",
    "                rna = rna[i:i + 3]\n",
    "                break\n",
    "\n",
    "#Invocamos la función con los argumentos necesarios\n",
    "rna_a_proteina(RNA_CYP2C9, \"AUG\")"
   ]
  },
  {
   "cell_type": "markdown",
   "metadata": {},
   "source": [
    "# Referencias\n",
    "1. Tipos integrados. (2023). Python documentation. https://docs.python.org/3/library/stdtypes.html\n",
    "2. Más herramientas para control de flujo. (2023). Python documentation. https://docs.python.org/3/tutorial/controlflow.html\n",
    "3. Sentencias compuestas. (2023). Python documentation. https://docs.python.org/es/3/reference/compound_stmts.html#while\n",
    "4. Sentencias compuestas. (2023). Python documentation. https://docs.python.org/es/3/reference/compound_stmts.html#function-definitions"
   ]
  }
 ],
 "metadata": {
  "kernelspec": {
   "display_name": "Python 3 (ipykernel)",
   "language": "python",
   "name": "python3"
  },
  "language_info": {
   "codemirror_mode": {
    "name": "ipython",
    "version": 3
   },
   "file_extension": ".py",
   "mimetype": "text/x-python",
   "name": "python",
   "nbconvert_exporter": "python",
   "pygments_lexer": "ipython3",
   "version": "3.8.17"
  }
 },
 "nbformat": 4,
 "nbformat_minor": 4
}
