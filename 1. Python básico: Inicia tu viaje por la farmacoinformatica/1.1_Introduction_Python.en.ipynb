{
 "cells": [
  {
   "cell_type": "markdown",
   "metadata": {},
   "source": [
    "# Introduction to the Python programming language\n",
    "\n",
    "The \"Collaborative Chemoinformatics Open Platform\" (CHEMO) course is an autonomous learning platform aimed at students and researchers interested in the development of biocomputing tools, from Python, which is the most widely used programming language. With advances in omic sciences and new technologies, it has become necessary to acquire computer skills applied to science and the management of biological databases.\n",
    "\n",
    "Welcome to the introduction of the course CHEMO, in the first part you will find the fundamentals to understand the Python programming language, it is focused on the manipulation, extraction and analysis of data from biological databases (omics) , starting from the basic concepts of programming and its applications, with examples based on manipulation of DNA sequences.\n",
    "\n",
    "> **Note:** This book is available in two ways\n",
    "> 1. Downloading the repository and following the instructions in the file [README.md](https://github.com/ramirezlab/CHEMO/blob/main/README.md)\n",
    "> 2. Clicking here on[![Open In Colab](https://colab.research.google.com/assets/colab-badge.svg)](https://colab.research.google.com/github/ramirezlab/CHEMO/blob/main/1_PART_ONE/1.1_Introduction_Python.en.ipynb?hl=es)\n",
    "\n",
    "## Contents\n",
    "\n",
    "In this first *Python_basic* Jupyter notebook you will learn:\n",
    "\n",
    "1. Introduction to Python\n",
    "2. Variables\n",
    "3. Types of data\n",
    "4. Types of arrangements\n",
    "5. Upload files\n",
    "6. String manipulation\n",
    "7. Flow control structures\n",
    "8. Functions"
   ]
  },
  {
   "cell_type": "markdown",
   "metadata": {},
   "source": [
    "## JupyternoNotebook Overview\n",
    "A jupyter notebook is made up of a title, a toolbar, and cells. The toolbar allows us to save, insert a new cell, cut, copy and paste cells. In addition, it has a section with functions to manipulate the Kernel component, which is the part in charge of executing the code contained in the notebook. In this section we will be able to run the selected cell and move forward, interrupt the kernel, restart the kernel and restart the kernel and run all the cells. For all tutorials we recommend rebooting the kernel, this is done by clicking on the button with an arrow with the return sign. Finally, we have an option in the toolbar for cells that can be of type code and are identified by the In [ ]: label that appears at the beginning of the cell. Another option for the cell is markdown, it is there where we can include comments, images and links using the Markdown language."
   ]
  },
  {
   "cell_type": "markdown",
   "metadata": {},
   "source": [
    "# Theory: basic concepts\n",
    "\n",
    "## Variables\n",
    "\n",
    "A variable is a reference to a value in the computer's memory, where different **types of data** can be stored. Values ​​are usually assigned to variable names, an example of this is: `text = \"hello world\"`, `text` is the name of the variable and refers to `hello world` which would be the value of the variable, and in the previous example the operator `=` was used, then the operation that was performed was assignment. This is known as an assignment expression.\n",
    "\n",
    "It is usually the software developer who assigns a variable name that is easy to remember and use in the program. It is important to know that the name of the variables cannot begin with a number and they are case sensitive, and spaces cannot be included.\n",
    "\n",
    "The following table shows some of the data that can be worked on in Python:\n",
    "\n",
    "### Native Python data types\n",
    "\n",
    "|          Name         | Type name  |  Category  |                  Description                  |        Example                                |\n",
    "| :-------------------- | :--------- | :--------- | :-------------------------------------------- |:---------------------------------------------|\n",
    "| integer               | `int`      |   Numeric  |          Positive/negative integers           | 1, 2, ..., n                                 |\n",
    "| floating point number | `float`    |   Numeric  |        Real numbers in decimal form           | 1.0, 1.1, 1.22, 1.333, ..., n                |\n",
    "| boolean               | `bool`     |   Logical  |           True or False                       | True, False                                  |\n",
    "| string                | `str`      |   Chain    | Text                                           | 'Hello world...'                              |\n",
    "| list                  | `list`     |  Sequence  | An ordered and mutable collection of objects   | [0, 1, 2, 3, ..., n]                         |\n",
    "| tuple                 | `tuple`    |  Sequence  | An immutable, ordered collection of objects   | (1, 2, 3, ..., n)                            |\n",
    "| dictionary            | `dict`     |     Map    |             Object Pair Map                   | { \"First Name\": \"Doe\", 'Last Name: \"Laden\" } |\n",
    "| none                  | `NoneType` |     Null   | Represents no value                           | `None`                                       |\n",
    "\n",
    "(_Note: Variable names cannot be equal to python_ reserved words)"
   ]
  },
  {
   "cell_type": "markdown",
   "metadata": {},
   "source": [
    "## Type of data"
   ]
  },
  {
   "cell_type": "markdown",
   "metadata": {},
   "source": [
    "### Data type: numeric\n",
    "\n",
    "There are three types of numeric data, here we will generally work with two of them: `integers` (`int`) and `Floating point` (`float`) **<sup> 1 </sup>**. The `type()` function helps us determine the type of an object in Python\n",
    "\n",
    "* **Integers (int)**: this data type includes all integers, since this set is infinite, the `Python` language is limited by the available memory capacity.\n",
    "* **Floating point (float)**: This type of data is used to represent most real numbers without problems. `Float` values are stored in a very particular way, called floating point representation, which is explained in detail in [the IEEE 754 standard](https://en.wikipedia.org/wiki/IEEE_754) Thus, if an integer is defined with a decimal point, for example: 1.0, it will be stored as a float.\n"
   ]
  },
  {
   "cell_type": "code",
   "execution_count": null,
   "metadata": {},
   "outputs": [],
   "source": [
    "# Example Integer\n",
    "integer_1 = 12361\n",
    "float_1 = 123,215\n",
    "float_2 = 1236.0\n",
    "\n",
    "print(\"The type of the variable integer_1 is: \" + str(type(integer_1)))\n",
    "print(\"The type of the variable float_1 is: \" + str(type(float_1)))\n",
    "print(\"The type of float_2 is: \" + str(type(float_2)))"
   ]
  },
  {
   "cell_type": "markdown",
   "metadata": {},
   "source": [
    "#### Arithmetic operations\n",
    "\n",
    "| Symbol | Description |\n",
    "|:-------:|:---------------:|\n",
    "| `+` | addition |\n",
    "| `-` | subtraction |\n",
    "| `*` | multiplication |\n",
    "| `/` | division |\n",
    "| `**` | power |\n",
    "| `//` | integer division |\n",
    "| `%` | module |\n",
    "\n",
    "*Note*: From now on we will work with `f-strings` that allow you to make short lines of text with built-in variables. For more information click here: [f-strings](https://platzi.com/blog/f-strings-en-python/?utm_source=google&utm_medium=cpc&utm_campaign=12915366154&utm_adgroup=&utm_content=&gclid=Cj0KCQjw3IqSBhCoARIsAMBkTb2p5ZOBtPtlGG2B7P0qrtnp8Wwvbgd2OY_F3_P-6OOU1YE_QHHCMaYaAnTaEALw_wcB&gclsrc=aw.ds), [f-strings](https://peps.python.org/pep-0498/)"
   ]
  },
  {
   "cell_type": "code",
   "execution_count": null,
   "metadata": {},
   "outputs": [],
   "source": [
    "# Example operations with integers\n",
    "x = 10\n",
    "y = 5\n",
    "\n",
    "print(f'The sum of two integers is an integer, for example: {x + y}')"
   ]
  },
  {
   "cell_type": "code",
   "execution_count": null,
   "metadata": {},
   "outputs": [],
   "source": [
    "# Example operations with real numbers in decimal form\n",
    "x = 10.0\n",
    "y = 5.0\n",
    "\n",
    "print(f'The sum of two float numbers results in a float number, for example: {x + y}')"
   ]
  },
  {
   "cell_type": "code",
   "execution_count": null,
   "metadata": {},
   "outputs": [],
   "source": [
    "# Example operations with real numbers and integers\n",
    "x = 10\n",
    "y = 5.0\n",
    "\n",
    "# Note that the Python interpreter gives importance to float types over int types.\n",
    "print(f'The sum of an integer and a float is a float, for example: {x + y}')"
   ]
  },
  {
   "cell_type": "markdown",
   "metadata": {},
   "source": [
    "\n",
    "In `Jupyter` (interactive version of Python) notebooks, the last line of the cell will be displayed automatically. This means that it is not always necessary to use the print() function."
   ]
  },
  {
   "cell_type": "code",
   "execution_count": null,
   "metadata": {},
   "outputs": [],
   "source": [
    "#Example\n",
    "x = 15\n",
    "y = 20\n",
    "\n",
    "x + y # The operation of this cell is displayed automatically"
   ]
  },
  {
   "cell_type": "markdown",
   "metadata": {},
   "source": [
    "### Data type: Boolean (bool)\n",
    "\n",
    "This data type (`bool`) has only two values: true: `True` or false: `False` **<sup> 1 </sup>**. It can be used for logical operators where it is necessary to evaluate if a statement is true or not."
   ]
  },
  {
   "cell_type": "markdown",
   "metadata": {},
   "source": [
    "### Data type: text (String)\n",
    "\n",
    "Strings are denoted as <code>str</code> and are a sequence of symbols that can include uppercase and lowercase letters, numbers, punctuation marks, and spaces **<sup> 1 </sup>**.\n",
    "\n",
    "There are three ways to represent this type of data, any of them is valid and does not affect the code:\n",
    "* **Enter single quotes:** 'Donepezil'\n",
    "* **Enter double quotes:** \"Donepezil\"\n",
    "* **Enter three single quotes or three double quotes:** '''Donepezil''' or \"\"\"Donepezil\"\"\" *(Mainly used to define multi-line strings)*"
   ]
  },
  {
   "cell_type": "code",
   "execution_count": null,
   "metadata": {},
   "outputs": [],
   "source": [
    "# Example of a variable of type string\n",
    "text = 'Hello world'\n",
    "print(f'text: {text}')"
   ]
  },
  {
   "cell_type": "code",
   "execution_count": null,
   "metadata": {},
   "outputs": [],
   "source": [
    "# Example of definitions of string type variables, with single, double and triple quotes.\n",
    "text = \"Hello world, double quotes\"\n",
    "print(f'Text - Double Quotes: {text}')"
   ]
  },
  {
   "cell_type": "code",
   "execution_count": null,
   "metadata": {},
   "outputs": [],
   "source": [
    "text = 'Hello World, single quotes'\n",
    "print(f'Text - Single Quotes: {text}')"
   ]
  },
  {
   "cell_type": "code",
   "execution_count": null,
   "metadata": {},
   "outputs": [],
   "source": [
    "# Triple quotes preserve separators (spaces, newlines)\n",
    "text = \"\"\"Hello world,\n",
    "triple double quote\"\"\"\n",
    "print(f'Text - Triple Double Quote: {text}')"
   ]
  },
  {
   "cell_type": "code",
   "execution_count": null,
   "metadata": {},
   "outputs": [],
   "source": [
    "text = '''Hello world,\n",
    "triple single quote'''\n",
    "print(f'Text - Triple Single Quote: {text}')"
   ]
  },
  {
   "cell_type": "markdown",
   "metadata": {},
   "source": [
    "If the text is a very long string, it is possible to write it in multiline mode, as shown below:"
   ]
  },
  {
   "cell_type": "code",
   "execution_count": null,
   "metadata": {},
   "outputs": [],
   "source": [
    "multiline_text = \"\"\"This text is multiline\n",
    "because it has different lines\n",
    "for this it is printed\n",
    "\"\"\"\n",
    "# \\n is a line separator\n",
    "print(f'Multiline text \\n{multiline_text}')"
   ]
  },
  {
   "cell_type": "markdown",
   "metadata": {},
   "source": [
    "#### Indexing"
   ]
  },
  {
   "cell_type": "markdown",
   "metadata": {},
   "source": [
    "One of the easiest ways to manipulate a string is through the indexing method:\n",
    "\n",
    "A text is similar to a list, where each element has an _index_, in `Python` the first element has zero index. This way you can make use of indexing to manipulate parts of the text."
   ]
  },
  {
   "cell_type": "code",
   "execution_count": null,
   "metadata": {},
   "outputs": [],
   "source": [
    "text = \"Text to be manipulated\"\n",
    "\n",
    "### EXAMPLE 1\n",
    "print(f'Extract a word from text (text[5:10]): {text[5:10]}') # from beginning to end"
   ]
  },
  {
   "cell_type": "code",
   "execution_count": null,
   "metadata": {},
   "outputs": [],
   "source": [
    "#### EXAMPLE 2\n",
    "print(f'Extract the word \\'be\\' from the text by traversing the string from front to back: {text[8:10]}') # from beginning to end\n",
    "print(f'Extract the word \\'be\\' from the text by traversing the string from back to front: {text[-14:-12]}') # from the end to the beginning"
   ]
  },
  {
   "cell_type": "markdown",
   "metadata": {},
   "source": [
    "It is even possible to do logic checks with strings as seen below:"
   ]
  },
  {
   "cell_type": "code",
   "execution_count": null,
   "metadata": {},
   "outputs": [],
   "source": [
    "text = \"Text to be manipulated\"\n",
    "\n",
    "### EXAMPLE 1\n",
    "print(f'Could it be that \\'for\\' is in text?')\n",
    "print(\"for\" in text)\n",
    "\n",
    "#### EXAMPLE 2\n",
    "\n",
    "print(f'\\nDoes it \\'Text\\' to be in text?')\n",
    "print(\"Text\" in text)"
   ]
  },
  {
   "cell_type": "markdown",
   "metadata": {},
   "source": [
    "#### String Methods\n",
    "\n",
    "There are several operators in the Python language that allow you to work with String data using operations that return the values ​​without changing the string. Among which are **<sup> 1 </sup>**:\n",
    "* <code>.replace() </code>: Replaces a specific value in the string with another.\n",
    "* <code>.split()</code> - Splits the string into substrings based on the parameter set. Returns a list of items.\n",
    "* <code>.find()</code>: Searches the string for a specific value and shows the position in which it is found. Returns the index (position) of the searched element"
   ]
  },
  {
   "cell_type": "code",
   "execution_count": null,
   "metadata": {},
   "outputs": [],
   "source": [
    "text = \"Hello world. This is sample text\"\n",
    "print(text)\n",
    "\n",
    "# replace a word\n",
    "text.replace(\"Hello\", \"Hi\")"
   ]
  },
  {
   "cell_type": "code",
   "execution_count": null,
   "metadata": {},
   "outputs": [],
   "source": [
    "# Separate the phrase by spaces\n",
    "split_list = text.split(\" \")\n",
    "split_list"
   ]
  },
  {
   "cell_type": "code",
   "execution_count": null,
   "metadata": {},
   "outputs": [],
   "source": [
    "# Find the position of the word 'world' in text\n",
    "text.find(\"world\")"
   ]
  },
  {
   "cell_type": "markdown",
   "metadata": {},
   "source": [
    "### Data type: Arrays\n",
    "\n",
    "Lists, tuples, dictionaries, and arrays are used to store multiple items in the same variable **<sup> 1 </sup>**.\n",
    "* **Lists (list):** the elements have a modifiable order, modifications can be made and there may be duplicates, they are also indexed\n",
    "* **Tuples (tuple):** the elements have an order and cannot be changed, added or deleted once the tuple is created, they can also make duplicates\n",
    "* **Sets (set):** the elements do not have an order, they cannot be changed, added or deleted once the set is created, they are not indexed nor can there be duplicates\n",
    "* **Dictionaries (dict):** are used to store data values in `key:value` pairs, elements have a non-modifiable order, modifications can be made and duplicates are not allowed"
   ]
  },
  {
   "cell_type": "markdown",
   "metadata": {},
   "source": [
    "#### Lists\n",
    "\n",
    "Lists are used to store multiple items in a single variable. The elements or data that are stored can be of any type. The following are the characteristics of this type of data:\n",
    "* The elements of the lists **are ordered**, that is, they have a defined order that will not change because when adding new elements to the list they will be placed at the end of it.\n",
    "* Items in lists are **modifiable**, meaning you can change, add, and remove items after the list has been created.\n",
    "* Lists **allow duplicates**, that is, there can be elements with the same value."
   ]
  },
  {
   "cell_type": "code",
   "execution_count": null,
   "metadata": {},
   "outputs": [],
   "source": [
    "# Store in the num variable an ordered list of elements from 0 to 10\n",
    "num = [0, 1, 2, 3, 4, 5, 6, 7, 8, 9, 10]\n",
    "print(f'The list of integers from 0 to 10 is:')\n",
    "num"
   ]
  },
  {
   "cell_type": "code",
   "execution_count": null,
   "metadata": {},
   "outputs": [],
   "source": [
    "# to write the same list you can use the range function\n",
    "num = list(range(11))\n",
    "num"
   ]
  },
  {
   "cell_type": "markdown",
   "metadata": {},
   "source": [
    "Lists can be defined from different types of data:"
   ]
  },
  {
   "cell_type": "code",
   "execution_count": null,
   "metadata": {},
   "outputs": [],
   "source": [
    "num = [1, \"2\", 3, \"4\", 5, \"6\", 7, 8, \"9\", 10]\n",
    "# Note how string elements are enclosed in quotes\n",
    "print(f'The list is:')\n",
    "num"
   ]
  },
  {
   "cell_type": "markdown",
   "metadata": {},
   "source": [
    "In the previous example you can see the way in which a list is written:\n",
    "* It is delimited by square brackets `[ ]`\n",
    "* Each element is separated by commas `,`\n",
    "\n",
    "Since the elements of the lists are ordered, the index of an element can be known with the function <code>index()</code> which returns the index of the element in the first occurrence that it finds from index 0 regardless of how many times is the element inside the list."
   ]
  },
  {
   "cell_type": "markdown",
   "metadata": {},
   "source": [
    "##### Indexing \n",
    "Using the same technique to manipulate string variables, the indexing method can manipulate lists in a similar way:"
   ]
  },
  {
   "cell_type": "code",
   "execution_count": null,
   "metadata": {},
   "outputs": [],
   "source": [
    "# num: an ordered list of elements from 0-10\n",
    "num = [0, 1, 2, 3, 4, 5, 6, 7, 8, 9, 10]\n",
    "print('list is:')\n",
    "print(num)\n",
    "print('---------------------')\n",
    "\n",
    "#### EXAMPLE 1\n",
    "print(f'In position 0 of the list is the element (first element):')\n",
    "print(num[0])\n",
    "print('---------------------')\n",
    "\n",
    "#### EXAMPLE 2\n",
    "print(f'The first two elements of the list are:')\n",
    "print(num[0:2])\n",
    "print('---------------------')\n",
    "\n",
    "#### EXAMPLE 3\n",
    "print(f'The last two elements of the list are:')\n",
    "print(num[-2:])"
   ]
  },
  {
   "cell_type": "markdown",
   "metadata": {},
   "source": [
    "##### List Methods\n",
    "Sometimes it is necessary to perform some basic operations on the lists, some of the existing methods are:\n",
    "\n",
    "* <code>len()</code>\n",
    "* <code>.index() </code>\n",
    "* <code>.pop() </code>\n",
    "* <code>.append()</code>\n",
    "* <code>.remove() </code>\n",
    "* <code>.reverse()</code>"
   ]
  },
  {
   "cell_type": "markdown",
   "metadata": {},
   "source": [
    "###### .len() Method\n",
    "With `.len(<list>)` you can determine the number of elements in the list:"
   ]
  },
  {
   "cell_type": "code",
   "execution_count": null,
   "metadata": {},
   "outputs": [],
   "source": [
    "num = [0, 1, 2, 3, 4, 5, 6, 7, 8, 9, 10]\n",
    "print('Number of elements in the list:')\n",
    "len(num)"
   ]
  },
  {
   "cell_type": "markdown",
   "metadata": {},
   "source": [
    "###### .index() Method\n",
    "With `.index(<element>)` you can find the position or index of an element in the list:"
   ]
  },
  {
   "cell_type": "code",
   "execution_count": null,
   "metadata": {},
   "outputs": [],
   "source": [
    "# It is possible to find out the position of an element, even the value in a place of the list\n",
    "print(f'What is the position of number 5?')\n",
    "num.index(5)"
   ]
  },
  {
   "cell_type": "markdown",
   "metadata": {},
   "source": [
    "###### .pop() method\n",
    "With `.pop(<index>)`. An item can be removed from the list and returned.\n",
    "- In case the index is not specified, the last element is removed\n",
    "\n",
    "This method **overwrites** the list:"
   ]
  },
  {
   "cell_type": "code",
   "execution_count": null,
   "metadata": {},
   "outputs": [],
   "source": [
    "print('Remove the last item in the list')\n",
    "print(num.pop())\n",
    "print(num)"
   ]
  },
  {
   "cell_type": "markdown",
   "metadata": {},
   "source": [
    "###### .append() Method\n",
    "`.append(<element>)` adds the element to the end of the list. This method __overwrites__ the list."
   ]
  },
  {
   "cell_type": "code",
   "execution_count": null,
   "metadata": {},
   "outputs": [],
   "source": [
    "num.append(6)\n",
    "print(f'The list now with element 6 at the end:')\n",
    "print(num)"
   ]
  },
  {
   "cell_type": "markdown",
   "metadata": {},
   "source": [
    "###### .remove() Method\n",
    "With `.remove(<element>)` an element is removed from a list, its element must be indicated:\n",
    "- In case of having several identical elements, only the first one is eliminated\n",
    "- If the element is not in the list, return a 'ValueError' error\n",
    "\n",
    "This method __overwrites__ the list."
   ]
  },
  {
   "cell_type": "code",
   "execution_count": null,
   "metadata": {},
   "outputs": [],
   "source": [
    "num.remove(2)\n",
    "print(f'The list now without the 2:')\n",
    "print(num)"
   ]
  },
  {
   "cell_type": "markdown",
   "metadata": {},
   "source": [
    "###### .reverse() Method\n",
    "With `.reverse()` the list is reordered, from the last element to the first. This method __overwrites__ the list."
   ]
  },
  {
   "cell_type": "code",
   "execution_count": null,
   "metadata": {},
   "outputs": [],
   "source": [
    "# recreate num\n",
    "num = [0, 1, 2, 3, 4, 5, 6, 7, 8, 9, 10]\n",
    "num.reverse() # Change the order\n",
    "print('List in reverse order')\n",
    "print(num)"
   ]
  },
  {
   "cell_type": "markdown",
   "metadata": {},
   "source": [
    "#### Tuples\n",
    "Tuples are used to store multiple items in a single variable. The elements or data that are stored can be of any type. The following are the characteristics of this type of data:\n",
    "* The elements of the tuples **are ordered**, that is, they have a defined order that will not change because when adding new elements to the list they will be placed at the end of it.\n",
    "* Elements in tuples **are immutable**, that is, elements cannot be changed, added, and removed after the tuple has been created.\n",
    "* Tuples **allow duplicates**, that is, there can be elements with the same value."
   ]
  },
  {
   "cell_type": "code",
   "execution_count": null,
   "metadata": {},
   "outputs": [],
   "source": [
    "# Let tuple_num be an ordered tuple of elements from 1 to 10\n",
    "tuple_num = (1, 2, 3, 4, 5, 6, 7, 8, 9, 10)\n",
    "\n",
    "print(f'The tuple of elements from 1 to 10 is:')\n",
    "print(tuple_num)"
   ]
  },
  {
   "cell_type": "markdown",
   "metadata": {},
   "source": [
    "A tuple is immutable, so new values ​​cannot be assigned to its elements."
   ]
  },
  {
   "cell_type": "code",
   "execution_count": null,
   "metadata": {},
   "outputs": [],
   "source": [
    "# tuple_num[3] = 12"
   ]
  },
  {
   "cell_type": "markdown",
   "metadata": {},
   "source": [
    "Tuple elements can be accessed in the same way as a list"
   ]
  },
  {
   "cell_type": "code",
   "execution_count": null,
   "metadata": {},
   "outputs": [],
   "source": [
    "tuple_num = (1, 2, 3, 4, 5, 6, 7, 8, 9, 10)\n",
    "print('Tuple of elements')\n",
    "print(tuple_num)\n",
    "print('---------------------')\n",
    "\n",
    "#### EXAMPLE 1\n",
    "print('First element (zero position)')\n",
    "print(tuple_num[0])\n",
    "print('---------------------')\n",
    "\n",
    "#### EXAMPLE 2\n",
    "print('Last four items')\n",
    "print(tuple_num[-4:])\n",
    "print('---------------------')\n",
    "\n",
    "#### EXAMPLE 3\n",
    "print('tuple of elements from position two to five')\n",
    "print(tuple_num[2:5])\n",
    "print('---------------------')"
   ]
  },
  {
   "cell_type": "markdown",
   "metadata": {},
   "source": [
    "#### Sets\n",
    "Sets are used to store multiple items in a single variable. The elements or data that are stored can be of any type. The following are the characteristics of this type of data:\n",
    "* Elements in arrays are **unordered**, that is, they do not have a defined order since the elements may appear in a different order each time you use them and cannot be referenced by index or key.\n",
    "* Elements in arrays **are immutable**, ie no elements can be changed after the array has been created.\n",
    "* Sets **do not allow duplicates**, that is, there cannot be elements with the same value."
   ]
  },
  {
   "cell_type": "code",
   "execution_count": null,
   "metadata": {},
   "outputs": [],
   "source": [
    "# Set of elements with some repetitions\n",
    "set_num_1 = {1, 2, 1, 2, 3, 5, 8, 1, 3, 9, 10, 2, 3, 4, 5, 6, 7, 8, 1, 0}\n",
    "\n",
    "print('The set of elements is:')\n",
    "set_num_1"
   ]
  },
  {
   "cell_type": "markdown",
   "metadata": {},
   "source": [
    "#### Dictionaries\n",
    "Dictionaries are a special data structure, which gives us a bit more flexibility due to their nature of a list of objects where each pair contains a key and a value. By key we refer to a value that describes the type of data stored, this type of structure is known as a list of key-value objects.\n",
    "\n",
    "Let's see an example, for this we will define a codon dictionary with its translation into its genetic code:"
   ]
  },
  {
   "cell_type": "code",
   "execution_count": null,
   "metadata": {},
   "outputs": [],
   "source": [
    "genetic_code = {\n",
    "    \"GUU\": \"V\", \"GUC\": \"V\", \"GUA\": \"V\",\n",
    "    \"GUG\": \"V\", \"GCU\": \"A\", \"GCC\": \"A\",\n",
    "    \"GCA\": \"A\", \"GCG\": \"A\", \"GAU\": \"D\",\n",
    "    \"GAC\": \"D\", \"GAA\": \"E\", \"GAG\": \"E\",\n",
    "    \"GGU\": \"G\", \"GGC\": \"G\", \"GGA\": \"G\",\n",
    "    \"GGG\": \"G\", \"AGA\": \"R\", \"AGG\": \"R\",\n",
    "    \"AGU\": \"Y\", \"AGC\": \"Y\", \"AAU\": \"N\",\n",
    "    \"AAC\": \"N\", \"AAA\": \"K\", \"AAG\": \"K\",\n",
    "    \"ACU\": \"T\", \"ACC\": \"T\", \"ACA\": \"T\",\n",
    "    \"ACG\": \"T\", \"AUU\": \"I\", \"AUC\": \"I\",\n",
    "    \"AUA\": \"I\", \"AUG\": \"M\", \"CGU\": \"R\",\n",
    "    \"CGC\": \"R\", \"CGA\": \"R\", \"CGG\": \"R\",\n",
    "    \"CCU\": \"P\", \"CCC\": \"P\", \"CCA\": \"P\",\n",
    "    \"CCG\": \"P\", \"CAU\": \"H\", \"CAC\": \"H\",\n",
    "    \"CAA\": \"Q\", \"CAG\": \"Q\", \"UUU\": \"F\",\n",
    "    \"UUC\": \"F\", \"UUA\": \"L\", \"UUG\": \"L\",\n",
    "    \"UCU\": \"Y\", \"UCC\": \"Y\", \"UCA\": \"Y\",\n",
    "    \"UCG\": \"Y\", \"UAU\": \"Y\", \"UAC\": \"Y\",\n",
    "    \"UAA\": \"STOP\", \"UAG\": \"STOP\", \"UGU\":\"C\",\n",
    "    \"UGC\": \"C\", \"UGA\": \"STOP\", \"UGG\": \"W\",\n",
    "    \"CUU\": \"L\", \"CUC\": \"L\", \"CUA\": \"L\",\n",
    "    \"CUG\": \"L\"}\n",
    "\n",
    "# The previously created dictionary is printed\n",
    "print(genetic_code)"
   ]
  },
  {
   "cell_type": "markdown",
   "metadata": {},
   "source": [
    "Python has its own way of defining dictionaries, via the `dict` keyword. Which would give us a more elegant form of creation:"
   ]
  },
  {
   "cell_type": "markdown",
   "metadata": {},
   "source": [
    "We can generally access dictionary values ​​in the same way that we can access arrays and lists."
   ]
  },
  {
   "cell_type": "code",
   "execution_count": null,
   "metadata": {},
   "outputs": [],
   "source": [
    "### Example 1: What is the value of the genetic code of GGG?\n",
    "print(f'The amino acid of GGG is: {genetic_code[\"GGG\"]}')\n",
    "print('---------------------')\n",
    "\n",
    "### Example 2: Using try/catch for when a key does not exist in the dictionary\n",
    "genetic_code['YYY']\n"
   ]
  },
  {
   "cell_type": "markdown",
   "metadata": {},
   "source": [
    "In example 2 of the cell above it threw the error `KeyError` because `YYY` is not defined in the dictionary. In `Python` you can use exceptions to define how to handle errors. This is done with the `try/except` script. In general, a `try/except` type block has the following structure:"
   ]
  },
  {
   "cell_type": "markdown",
   "metadata": {},
   "source": [
    "```markdown\n",
    "try:\n",
    "    code block\n",
    "except <type>:\n",
    "    code block\n",
    "```"
   ]
  },
  {
   "cell_type": "markdown",
   "metadata": {},
   "source": [
    "Now, the example can be written as follows:"
   ]
  },
  {
   "cell_type": "code",
   "execution_count": null,
   "metadata": {},
   "outputs": [],
   "source": [
    "### Example 2: Using try/catch for when a key does not exist in the dictionary\n",
    "try:\n",
    "     genetic_code['YYY']\n",
    "except KeyError:\n",
    "     print(f'Property YYY does not exist in the dictionary, try another one!')"
   ]
  },
  {
   "cell_type": "markdown",
   "metadata": {},
   "source": [
    "# Theory: Flow control structures\n",
    "Python has control flow statements that allow you to group commands in a controlled manner. Two of the most used are:\n",
    "1. Conditional control structures\n",
    "2. Iterative control structures"
   ]
  },
  {
   "cell_type": "markdown",
   "metadata": {},
   "source": [
    "### 1. Conditionals\n",
    "\n",
    "Conditionals allow you to execute a statement or make a decision if a certain condition is met, resulting in a Boolean value of true or false. The most used functions **<sup> 2 </sup>**:\n",
    "* <code>if</code>: where if the expression is true, the block of followed statements is executed.\n",
    "* <code>elif</code>: where if the above conditions are not met, another statement is tried.\n",
    "* <code>else</code>: where the boolean expression is false or a condition is not met take this other option."
   ]
  },
  {
   "cell_type": "markdown",
   "metadata": {},
   "source": [
    "#### Structure of a conditional:\n",
    "\n",
    "In general, a block of code for a conditional must follow the following form:\n",
    "\n",
    "```markdown\n",
    "if <condition_1>:\n",
    "    code block\n",
    "elif <condition_2>:\n",
    "    code block\n",
    " ...\n",
    " else:\n",
    "    code block\n",
    "```"
   ]
  },
  {
   "cell_type": "markdown",
   "metadata": {},
   "source": [
    "Evaluates the logical expression condition_1 and executes the first block of code if it is `True`; if not, it evaluates the following conditions until it reaches the first one that is `True` and executes the associated block of code. If neither condition is `True` execute the block of code after `else`.\n",
    "*Observations*\n",
    "- An `if` conditional does not necessarily need `elif` or `else`\n",
    "- Only one `else` can appear, and it must go at the end\n",
    "- Code blocks must be indented by 4 spaces\n",
    "- The end of the conditional block is when the line returns to the previous level"
   ]
  },
  {
   "cell_type": "markdown",
   "metadata": {},
   "source": [
    "In certain scenarios, decisions can be made, such as increasing the value of x or, failing that, decreasing its value."
   ]
  },
  {
   "cell_type": "code",
   "execution_count": null,
   "metadata": {},
   "outputs": [],
   "source": [
    "x = 1 # initial value (try changing this value)\n",
    "\n",
    "# Condition\n",
    "if x == 1:\n",
    "    x = x + 1\n",
    "else:\n",
    "    x = x -1\n",
    "\n",
    "print(x) # final value"
   ]
  },
  {
   "cell_type": "markdown",
   "metadata": {},
   "source": [
    "(_Note: The == operator is one of the comparison operators also called relational. A common mistake is to use a single equal sign (=) which is an assignment operator, instead of the double (==)._)"
   ]
  },
  {
   "cell_type": "markdown",
   "metadata": {},
   "source": [
    "More than one check expression can be part of the block via `elif`, example:"
   ]
  },
  {
   "cell_type": "code",
   "execution_count": null,
   "metadata": {},
   "outputs": [],
   "source": [
    "x = 3 # initial value (try changing this value)\n",
    "\n",
    "if x == 1:\n",
    "    x = x + 1\n",
    "elif x == 2:\n",
    "    x = x - 1\n",
    "else:\n",
    "    x = 0\n",
    "\n",
    "print(x) # final value"
   ]
  },
  {
   "cell_type": "markdown",
   "metadata": {},
   "source": [
    "Sometimes you can include nested **if** expressions as much as necessary, it is not recommended as a software development practice, for example:"
   ]
  },
  {
   "cell_type": "code",
   "execution_count": null,
   "metadata": {},
   "outputs": [],
   "source": [
    "x = 2\n",
    "y = 2\n",
    "if x == 1:\n",
    "    if y == 2:\n",
    "        x = x + 1\n",
    "        y = y + 1\n",
    "elif x == 2:\n",
    "    if y == 2:\n",
    "        x = x - 1\n",
    "        y = y - 1\n",
    "else:\n",
    "    x = 0\n",
    "    y = 0\n",
    "\n",
    "print(f'Expect x,y to be equal to 1. x={x} y={y}')"
   ]
  },
  {
   "cell_type": "markdown",
   "metadata": {},
   "source": [
    "### 2. Iterations\n",
    "The iterations or loops allow you to repeat a portion of the code as many times as necessary, while the boolean condition is true or false, in python only two functions are included **<sup> 3 </sup>**:\n",
    "* <code>while</code> - Allows multiple iterations executing code while the condition is true.\n",
    "* <code>for</code>: allows iterating in order over each of the elements of a sequence, be it list, tuple, dictionary, array or string\n",
    "\n"
   ]
  },
  {
   "cell_type": "markdown",
   "metadata": {},
   "source": [
    "#### Structure of While:\n",
    "\n",
    "In general, a While code block should follow the following form:\n",
    "\n",
    "```markdown\n",
    "while <condition>:\n",
    "    code block\n",
    "```\n",
    "\n",
    "*Remember that in Python the `return` keyword is not necessary at the end of a code block since the convention is that the last line of code is always returned.*"
   ]
  },
  {
   "cell_type": "code",
   "execution_count": null,
   "metadata": {},
   "outputs": [],
   "source": [
    "#### EXAMPLE 1\n",
    "# Let's increase the value of x up to 10\n",
    "x = 1\n",
    "print('The initial value of x is:')\n",
    "print(x)\n",
    "\n",
    "while x < 10:\n",
    "    print(f'The new value of x is {x}')\n",
    "    x = x + 1\n",
    "\n",
    "print('At the end of the loop, the value of x is:')\n",
    "print(x)"
   ]
  },
  {
   "cell_type": "markdown",
   "metadata": {},
   "source": [
    "#### Structure for\n",
    "\n",
    "In the same way, the `for` block follows a standard structure for its definition:\n",
    "\n",
    "```markdown\n",
    "for <var> in <sequence>:\n",
    "    code block\n",
    "```\n",
    "\n",
    "*Remember: you don't need the `return` keyword like in other languages.*"
   ]
  },
  {
   "cell_type": "code",
   "execution_count": null,
   "metadata": {},
   "outputs": [],
   "source": [
    "#### EXAMPLE 2\n",
    "# Let's take as an example a list of objects, for example the types of codons and their genetic code:\n",
    "genetic_code= [\n",
    "    [\"GUU\", \"V\"], [\"GUC\", \"V\"], [\"GUA\", \"V\"],\n",
    "    [\"GUG\", \"V\"], [\"GCU\", \"A\"], [\"GCC\", \"A\"],\n",
    "    [\"GCA\", \"A\"], [\"GCG\", \"A\"], [\"GAU\", \"D\"],\n",
    "    [\"GAC\", \"D\"], [\"GAA\", \"E\"], [\"GAG\", \"E\"],\n",
    "    [\"GGU\", \"G\"], [\"GGC\", \"G\"], [\"GGA\", \"G\"],\n",
    "    [\"GGG\", \"G\"], [\"AGA\", \"R\"], [\"AGG\", \"R\"],\n",
    "    [\"AGU\", \"S\"], [\"AGC\", \"S\"], [\"AAU\", \"N\"],\n",
    "    [\"AAC\", \"N\"], [\"AAA\", \"K\"], [\"AAG\", \"K\"],\n",
    "    [\"ACU\", \"T\"], [\"ACC\", \"T\"], [\"ACA\", \"T\"],\n",
    "    [\"ACG\", \"T\"], [\"AUU\", \"I\"], [\"AUC\", \"I\"],\n",
    "    [\"AUA\", \"I\"], [\"AUG\", \"M\"], [\"CGU\", \"R\"],\n",
    "    [\"CGC\", \"R\"], [\"CGA\", \"R\"], [\"CGC\", \"R\"],\n",
    "    [\"CCU\", \"P\"], [\"CCC\", \"P\"], [\"CCA\", \"P\"],\n",
    "    [\"CCG\", \"P\"], [\"CAU\", \"H\"], [\"CAC\", \"H\"]\n",
    "]\n",
    "\n",
    "# You can iterate through all the list elements prot_list and print the protein and its type:\n",
    "for codon in genetic_code:\n",
    "    print(f'The amino acid of {codon[0]} is {codon[1]}')"
   ]
  },
  {
   "cell_type": "markdown",
   "metadata": {},
   "source": [
    "We can iterate the items in a dictionary through the `key-value` pairs using the `.items()` method."
   ]
  },
  {
   "cell_type": "code",
   "execution_count": null,
   "metadata": {},
   "outputs": [],
   "source": [
    "#### EXAMPLE 3: Using for to loop through the elements of a dictionary\n",
    "genetic_code = {\n",
    "    \"GUU\": \"V\", \"GUC\": \"V\", \"GUA\": \"V\",\n",
    "    \"GUG\": \"V\", \"GCU\": \"A\", \"GCC\": \"A\",\n",
    "    \"GCA\": \"A\", \"GCG\": \"A\", \"GAU\": \"D\",\n",
    "    \"GAC\": \"D\", \"GAA\": \"E\", \"GAG\": \"E\",\n",
    "    \"GGU\": \"G\", \"GGC\": \"G\", \"GGA\": \"G\",\n",
    "    \"GGG\": \"G\", \"AGA\": \"R\", \"AGG\": \"R\",\n",
    "    \"AGU\": \"Y\", \"AGC\": \"Y\", \"AAU\": \"N\",\n",
    "    \"AAC\": \"N\", \"AAA\": \"K\", \"AAG\": \"K\",\n",
    "    \"ACU\": \"T\", \"ACC\": \"T\", \"ACA\": \"T\",\n",
    "    \"ACG\": \"T\", \"AUU\": \"I\", \"AUC\": \"I\",\n",
    "    \"AUA\": \"I\", \"AUG\": \"M\", \"CGU\": \"R\",\n",
    "    \"CGC\": \"R\", \"CGA\": \"R\", \"CGG\": \"R\",\n",
    "    \"CCU\": \"P\", \"CCC\": \"P\", \"CCA\": \"P\",\n",
    "    \"CCG\": \"P\", \"CAU\": \"H\", \"CAC\": \"H\",\n",
    "    \"CAA\": \"Q\", \"CAG\": \"Q\", \"UUU\": \"F\",\n",
    "    \"UUC\": \"F\", \"UUA\": \"L\", \"UUG\": \"L\",\n",
    "    \"UCU\": \"Y\", \"UCC\": \"Y\", \"UCA\": \"Y\",\n",
    "    \"UCG\": \"Y\", \"UAU\": \"Y\", \"UAC\": \"Y\",\n",
    "    \"UAA\": \"STOP\", \"UAG\": \"STOP\", \"UGU\":\"C\",\n",
    "    \"UGC\": \"C\", \"UGA\": \"STOP\", \"UGG\": \"W\",\n",
    "    \"CUU\": \"L\", \"CUC\": \"L\", \"CUA\": \"L\",\n",
    "    \"CUG\": \"L\"}\n",
    "\n",
    "for codon, gene in genetic_code.items():\n",
    "    print(f\"The amino acid of {codon} is {gene}\")"
   ]
  },
  {
   "cell_type": "markdown",
   "metadata": {},
   "source": [
    "# Theory: Functions\n",
    "\n",
    "Apart from the native Python expressions and functionalities known so far throughout the book, there are others that are very relevant and necessary when writing any computer program. And we are talking about **functions**: A function is basically a piece of code that can be reused, that has a name that identifies it, and receives some input parameters **<sup> 4 </sup>**. Functions generally do not always return the same result, they have a behavior based on the values ​​of their arguments.\n",
    "\n",
    "When defining a function, it is important to keep in mind that:\n",
    "\n",
    "1. Have a name that explains at first sight, the result and the operation it performs.\n",
    "2. Most functions receive one or more parameters necessary to perform the operation, although they may not receive any.\n",
    "3. They usually return a result, although this is not always the case."
   ]
  },
  {
   "cell_type": "markdown",
   "metadata": {},
   "source": [
    "#### Structure of a function:\n",
    "\n",
    "In general, a block of code for a function should follow the following form:\n",
    "\n",
    "```markdown\n",
    "def <function_name>(<parameters>):\n",
    "    code block\n",
    "    code block\n",
    "    ...\n",
    "    return <object>\n",
    "```"
   ]
  },
  {
   "cell_type": "markdown",
   "metadata": {},
   "source": [
    "Let's see an example:\n",
    "The following function, when executed, returns a data of the `string` type if the protein is found in the dictionary or, failing that, it returns `None`."
   ]
  },
  {
   "cell_type": "code",
   "execution_count": null,
   "metadata": {},
   "outputs": [],
   "source": [
    "#### EXAMPLE 1: Checking for codon existence of a codon list\n",
    "# Dictionary of proteins and their type:\n",
    "genetic_code = {\"GUU\": \"V\", \"GUC\": \"V\", \"GUA\": \"V\", \"GUG\": \"V\", \"GCU\": \"A\", \"GCC\": \"A\", \"GCA\": \"A\", \"GCG\": \"A\",\n",
    "                \"GAU\": \"D\", \"GAC\": \"D\", \"GAA\": \"E\", \"GAG\": \"E\", \"GGU\": \"G\", \"GGC\": \"G\", \"GGA\": \"G\", \"GGG\": \"G\",\n",
    "                \"AGA\": \"R\", \"AGG\": \"R\", \"AGU\": \"S\", \"AGC\": \"S\", \"AAU\": \"N\", \"AAC\": \"N\", \"AAA\": \"K\", \"AAG\": \"K\",\n",
    "                \"ACU\": \"T\", \"ACC\": \"T\", \"ACA\": \"T\", \"ACG\": \"T\", \"AUU\": \"I\", \"AUC\": \"I\", \"AUA\": \"I\", \"AUG\": \"M\",\n",
    "                \"CGU\": \"R\", \"CGC\": \"R\", \"CGA\": \"R\", \"CGG\": \"R\", \"CCU\": \"P\", \"CCC\": \"P\", \"CCA\": \"P\", \"CCG\": \"P\",\n",
    "                \"CAU\": \"H\", \"CAC\": \"H\", \"CAA\": \"Q\", \"CAG\": \"Q\", \"UUU\": \"F\", \"UUC\": \"F\", \"UUA\": \"L\", \"UUG\": \"L\",\n",
    "                \"UCU\": \"S\", \"UCC\": \"S\", \"UCA\": \"S\", \"UCG\": \"S\", \"UAU\": \"Y\", \"UAC\": \"Y\", \"UAA\": \"STOP\", \"UAG\": \"STOP\",\n",
    "                \"UGU\": \"C\", \"UGC\": \"C\", \"UGA\": \"STOP\", \"UGG\": \"W\", \"CUU\": \"L\", \"CUC\": \"L\", \"CUA\": \"L\", \"CUG\": \"L\"}\n",
    "\n",
    "\n",
    "# function that checks if there is a codon defined in the dictionary and returns its genetic code or its default returns a None value.\n",
    "def codon_gen_code(codon):\n",
    "    if codon in genetic_code:\n",
    "        return genetic_code[codon]\n",
    "\n",
    "# execute the function\n",
    "print(f'The amino acid of GCG is: {codon_gen_code(\"GCG\")}')"
   ]
  },
  {
   "cell_type": "markdown",
   "metadata": {},
   "source": [
    "*Observations*:\n",
    "* Every function must start with the keyword **def** followed by the name, followed by the parameters in parentheses and end the line with a colon\n",
    "    * The name of the function is: **type_of_protein**\n",
    "    * The parameter that the function receives is: **protein_name**\n",
    "* The body of the function is indented four spaces.\n",
    "* The end of the block is when the line returns to the previous level\n",
    "* Once the function has been created, it can be called with its name followed by parentheses and, if necessary, send the parameters by reference."
   ]
  },
  {
   "cell_type": "markdown",
   "metadata": {},
   "source": [
    "### Parameters of a function\n",
    "\n",
    "A function can receive more than one parameter, in the previous example the function only received one, but we can add more. For example, let's modify the function so that it also receives the list of `proteins`:"
   ]
  },
  {
   "cell_type": "code",
   "execution_count": null,
   "metadata": {},
   "outputs": [],
   "source": [
    "#### EXAMPLE 2\n",
    "\n",
    "# function that checks if there is a codon defined in the dictionary and returns its genetic code or its default returns a None value.\n",
    "# notice that this function takes two parameters\n",
    "def codon_gen_code (codones_type, name):\n",
    "    if name in codones_type:\n",
    "        return codones_type[name]\n",
    "\n",
    "# Way to execute the previously created function\n",
    "codon_gen_code(genetic_code, \"ACC\")"
   ]
  },
  {
   "cell_type": "markdown",
   "metadata": {},
   "source": [
    "Now that it is not necessary to define the variable proteins before the function, this is because the functions have their own execution context, now the value of the variable `proteins` is referenced when executing the function, as its first parameter.\n",
    "\n",
    "About the parameters it is important to highlight that:\n",
    "\n",
    "* They must have clear and legible names that complement what the function does\n",
    "* They can be of any type as in the case of the previous example `proteins` is a dictionary while `protein_name` is of type string\n",
    "* They can have default values, let's see an example below."
   ]
  },
  {
   "cell_type": "code",
   "execution_count": null,
   "metadata": {},
   "outputs": [],
   "source": [
    "#### EXAMPLE 3\n",
    "\n",
    "# Default parameter protein_name='AAU'\n",
    "def codon_gen_code(codon_types, name='AAU'):\n",
    "    if name in codon_types:\n",
    "        return codon_types[name]\n",
    "\n",
    "# protein_name it is not necessary to pass it as a reference since it has a default value in the function definition.\n",
    "codon_gen_code(genetic_code)"
   ]
  },
  {
   "cell_type": "markdown",
   "metadata": {},
   "source": [
    "Now let's make a function that is of the general type and that helps us find any protein."
   ]
  },
  {
   "cell_type": "code",
   "execution_count": null,
   "metadata": {},
   "outputs": [],
   "source": [
    "#### EXAMPLE 4: Function that is responsible for finding a protein from RNA and an initial codon.\n",
    "\n",
    "import requests\n",
    "\n",
    "# Define the document URL link\n",
    "url = \"https://raw.githubusercontent.com/ramirezlab/CHEMO/main/1_PART_ONE/data/sec_CYP2C9.fasta\"\n",
    "\n",
    "# Make an HTTP GET request to the URL link\n",
    "response = requests.get(url)\n",
    "\n",
    "if response.status_code == 200:\n",
    "     # Get the content of the file from the response\n",
    "     sec_CYP2C9 = response.text\n",
    "\n",
    "     # Process the DNA sequence into RNA in a similar way to the previous code\n",
    "     DNA_CYP2C9 = ''.join(sec_CYP2C9.split('\\n')[1:])\n",
    "     RNA_CYP2C9 = DNA_CYP2C9.replace(\"T\", \"U\")\n",
    "\n",
    "\n",
    "def rna_a_protein(rna, start_codon='AUG'):\n",
    "    run = True\n",
    "   # search start codon AUG\n",
    "    i = 0\n",
    "    for i in range(len(rna)):\n",
    "        if rna[i:i + 3] == start_codon:  # Start of protein found\n",
    "            rna = rna[i:]  # trim sequence. new RNA\n",
    "            break  # end the for loop\n",
    "        if i >= (len(rna) - 3):  # Protein start NOT found\n",
    "            print('Start codon not found AUG')\n",
    "            rna = rna[i:i + 3]\n",
    "            run = False  # end up\n",
    "            break  # end the for loop\n",
    "\n",
    "    # This code is only executed if the start of the protein was found\n",
    "    # Executes with the sequence trimmed\n",
    "    if run:\n",
    "        i = 0\n",
    "        protein = list()\n",
    "# start translation\n",
    "        while i <= len(rna) - 2:\n",
    "            codon = genetic_code[rna[i:i + 3]]\n",
    "            protein.append(codon)\n",
    "            i += 3\n",
    "            if codon == 'STOP':\n",
    "                print(f'>> Protein found')\n",
    "                rna = rna[i:]  # new RNA (trimmed)\n",
    "                protein = protein[:-1]\n",
    "                protein_text = ''.join(protein)\n",
    "                print(f'Protein: {protein_text}')\n",
    "                break\n",
    "            if i >= (len(rna) - 3):\n",
    "                print('No codon found STOP')\n",
    "                rna = rna[i:i + 3]\n",
    "                break\n",
    "\n",
    "# We call the function with the necessary arguments\n",
    "rna_a_protein(RNA_CYP2C9, \"AUG\")"
   ]
  },
  {
   "cell_type": "markdown",
   "metadata": {},
   "source": [
    "# References\n",
    "\n",
    "1. Built-in types. (2023). Python documentation. https://docs.python.org/3/library/stdtypes.html\n",
    "2. More control flow tools. (2023). Python documentation. https://docs.python.org/3/tutorial/controlflow.html\n",
    "3. Compound statements. (2023). Python documentation. https://docs.python.org/3/reference/compound_stmts.html#while\n",
    "4.  Compound statements. (s. f.). Python documentation. https://docs.python.org/3/reference/compound_stmts.html#function-definitions"
   ]
  }
 ],
 "metadata": {
  "kernelspec": {
   "display_name": "Python 3 (ipykernel)",
   "language": "python",
   "name": "python3"
  },
  "language_info": {
   "codemirror_mode": {
    "name": "ipython",
    "version": 3
   },
   "file_extension": ".py",
   "mimetype": "text/x-python",
   "name": "python",
   "nbconvert_exporter": "python",
   "pygments_lexer": "ipython3",
   "version": "3.8.17"
  }
 },
 "nbformat": 4,
 "nbformat_minor": 4
}
