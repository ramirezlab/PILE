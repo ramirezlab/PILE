{
 "cells": [
  {
   "cell_type": "markdown",
   "metadata": {},
   "source": [
    "# Practice 2: Expression of genetic material\n",
    "\n",
    "> **Note:** This book is available in two ways:\n",
    "> 1. Downloading the repository and following the instructions in the file [README.md](https://github.com/ramirezlab/CHEMO/blob/main/README.md)\n",
    "> 2. Clicking here on [![Open In Colab](https://colab.research.google.com/assets/colab-badge.svg)](https://colab.research.google.com/github/ramirezlab/CHEMO/blob/main/1_PART_ONE/1.3_Practice-2_and_Practice-3.en.ipynb?hl=es)\n",
    "\n",
    "\n",
    "## Concepts to work\n",
    "\n",
    "**Translation**, is the synthesis of a protein from the mRNA chain, this occurs within proteins called ribosomes, during this process, the mRNA sequence is read in groups of three nucleotides, called **codons**, which are interpreted by a **genetic code** resulting in an amino acid coding **<sup> 1 </sup>** (fig. 1), which will fold and form proteins.\n",
    "\n",
    "<img src=\"img/Figura4-en-es.png\" alt=\"code\" width=\"1000\"/>\n",
    "\n",
    "*Figure 1. Essential genetic code in the expression of proteins where the formation of a codon from a nucleotide (uracil, adenine, guanine, or cytokine) is evidenced, from the start sequence (green) and the stop sequences (red ). Figure modified from: [Molecular biology of the gene, (2008), 15, 509-569]( https://books.google.com.co/books?id=7tadzgEACAAJ&dq=Molecular+biology+of+the+gene&hl=es-419&sa=X&redir_esc=y)*\n",
    "\n",
    "The ribosome reads the sequence in order, looking for the AUG **start** codon, which, in turn, codes for the methionine amino acid and begins the translation, as it continues advancing it builds the chain of amino acids, it is a process that repeats many times, in which the nucleotide triplets are read and the corresponding amino acid is attached (fig. 3). The resulting chain can be long or short, it is addressed until it finds one of the three codons that code for **stop** (UAA, UGA or UAG) (fig. 4), when synthesized, the chain is released from the ribosome and it is modified or combined to form a functional protein with a specific structure involved in some essential process for the cell or organism **<sup> 2 </sup>**."
   ]
  },
  {
   "cell_type": "markdown",
   "metadata": {},
   "source": [
    "## Problem Statement\n",
    "Continuing with the general objective, to obtain basic information on the cytochrome P450 enzyme, a protein previously worked on. To do this, we are going to carry out the second phase involved in gene expression, in order to obtain the amino acids that code for the protein.\n",
    "\n",
    "First, we must create a dictionary in which the genetic code is found, where they specify the codons (nucleotide triplets) that synthesize their corresponding amino acid. We must take into account the `key-value` pairs, where the `key` would be the codons and the `value` would be the amino acids."
   ]
  },
  {
   "cell_type": "code",
   "execution_count": null,
   "metadata": {},
   "outputs": [],
   "source": [
    "#Dictionary of codons for translation\n",
    "genetic_code = {\"GUU\": \"V\", \"GUC\": \"V\", \"GUA\": \"V\", \"GUG\": \"V\", \"GCU\": \"A\", \"GCC\": \"A\", \"GCA\": \"A\", \"GCG\": \"A\",\n",
    "                \"GAU\": \"D\", \"GAC\": \"D\", \"GAA\": \"E\", \"GAG\": \"E\", \"GGU\": \"G\", \"GGC\": \"G\", \"GGA\": \"G\", \"GGG\": \"G\",\n",
    "                \"AGA\": \"R\", \"AGG\": \"R\", \"AGU\": \"S\", \"AGC\": \"S\", \"AAU\": \"N\", \"AAC\": \"N\", \"AAA\": \"K\", \"AAG\": \"K\",\n",
    "                \"ACU\": \"T\", \"ACC\": \"T\", \"ACA\": \"T\", \"ACG\": \"T\", \"AUU\": \"I\", \"AUC\": \"I\", \"AUA\": \"I\", \"AUG\": \"M\",\n",
    "                \"CGU\": \"R\", \"CGC\": \"R\", \"CGA\": \"R\", \"CGG\": \"R\", \"CCU\": \"P\", \"CCC\": \"P\", \"CCA\": \"P\", \"CCG\": \"P\",\n",
    "                \"CAU\": \"H\", \"CAC\": \"H\", \"CAA\": \"Q\", \"CAG\": \"Q\", \"UUU\": \"F\", \"UUC\": \"F\", \"UUA\": \"L\", \"UUG\": \"L\",\n",
    "                \"UCU\": \"S\", \"UCC\": \"S\", \"UCA\": \"S\", \"UCG\": \"S\", \"UAU\": \"Y\", \"UAC\": \"Y\", \"UAA\": \"STOP\", \"UAG\": \"STOP\",\n",
    "                \"UGU\": \"C\", \"UGC\": \"C\", \"UGA\": \"STOP\", \"UGG\": \"W\", \"CUU\": \"L\", \"CUC\": \"L\", \"CUA\": \"L\", \"CUG\": \"L\"}\n",
    "\n",
    "print(f' Codons are: \\n{list(genetic_code.keys())}')\n",
    "print('-----------------')\n",
    "print(f' Amino acids are: \\n{list(genetic_code.values())}')"
   ]
  },
  {
   "cell_type": "markdown",
   "metadata": {},
   "source": [
    "## Control Structures\n",
    "Next, we will use the **control structures** to be able to analyze the RNA sequence of the cytochrome `RNA_CYP2C9` to synthesize the protein, following these steps:\n",
    "1. Identify the start of the protein: AUG\n",
    "2. Divide by threes\n",
    "3. Find the stop (there can be several, look at the dictionary)\n",
    "4. Print the protein: AUG(codons - in threes)STOP"
   ]
  },
  {
   "cell_type": "code",
   "execution_count": null,
   "metadata": {},
   "outputs": [],
   "source": [
    "# reload the sequence\n",
    "with open(\"data/sec_CYP2C9.fasta\", \"r\") as GEN:\n",
    "    sec_CYP2C9 = GEN.read()\n",
    "DNA_CYP2C9 =(''.join(sec_CYP2C9.split('\\n')[1:]))\n",
    "RNA_CYP2C9 = DNA_CYP2C9.replace(\"T\",\"U\")\n",
    "\n",
    "run = True\n",
    "# search start codon AUG\n",
    "i = 0\n",
    "for i in range(len(RNA_CYP2C9)):\n",
    "    if RNA_CYP2C9[i:i + 3] == 'AUG':  # Start of protein found\n",
    "        RNA_CYP2C9 = RNA_CYP2C9[i:]  # trim sequence. new RNA\n",
    "        break  # end the for loop\n",
    "    if i >= (len(RNA_CYP2C9) - 3):   # Protein start NOT found\n",
    "        print('Start codon not found AUG')\n",
    "        RNA_CYP2C9 = RNA_CYP2C9[i:i + 3]\n",
    "        run = False   # end up\n",
    "        break   # end the for loop\n",
    "\n",
    "# This code is only executed if the start of the protein was found\n",
    "# Executes with the sequence trimmed\n",
    "\n",
    "protein = list()\n",
    "if run:\n",
    "    i = 0\n",
    "    # start translation\n",
    "    while i <= len(RNA_CYP2C9) - 2:\n",
    "        codon = genetic_code[RNA_CYP2C9[i:i + 3]]\n",
    "        protein.append(codon)\n",
    "        i += 3\n",
    "        if codon == 'STOP':\n",
    "            print(f'>> Protein found')\n",
    "            RNA_CYP2C9 = RNA_CYP2C9[i:]  # new RNA (trimmed)\n",
    "            protein = protein[:-1]\n",
    "            protein_text = ''.join(protein)\n",
    "            print(f'Protein: {protein_text}')\n",
    "            break\n",
    "        if i >= (len(RNA_CYP2C9) - 3):\n",
    "            print('Codon not found STOP')\n",
    "            RNA_KR711927 = RNA_CYP2C9[i:i + 3]\n",
    "            break"
   ]
  },
  {
   "cell_type": "code",
   "execution_count": null,
   "metadata": {},
   "outputs": [],
   "source": [
    "# the protein variable stores a list of each amino acid\n",
    "print(protein)"
   ]
  },
  {
   "cell_type": "markdown",
   "metadata": {},
   "source": [
    "## Practice activity 2\n",
    "Based on what you have learned, analyze the sequence of amino acids obtained from the RNA protein and answer:\n",
    "1. How many amino acids does the protein have?\n",
    "2. What is the most repeated amino acid?\n",
    "3. Identify the nucleotide at which amino acid synthesis begins\n",
    "4. At which nucleotide does amino acid synthesis end?"
   ]
  },
  {
   "cell_type": "markdown",
   "metadata": {},
   "source": [
    "## Conclusions\n",
    "\n",
    "At this point in the practice, we use various commands and methods in order to obtain an amino acid sequence from a DNA `strings`, this being a process that can be used in nucleotide sequences of different sizes and from different organisms.\n",
    "\n",
    "Thus, to obtain the amino acids that make up the proteins, we used **arrangements** and **control structures**, where basic information on the amino acids of the cytochrome P450 protein was obtained, which we will use to classify them and obtain general information. of the enzyme from its subunits (practice 3)."
   ]
  },
  {
   "cell_type": "markdown",
   "metadata": {},
   "source": [
    "# Practice 3: Proteins and amino acids\n",
    "## Concepts to work\n",
    "The functional diversity expressed by the proteins starts from the molecular variety and the specific sequence that composes them. Amino acids are low molecular weight subunits, which fulfill a specific function in the structure of the protein, due to their physicochemical properties, such as polarity, acidity or basicity, aromaticity, size, capacity to form bonds or their chemical reactivity **<sup> 3 </sup>** (Fig. 2). For this reason, they can be classified in different ways:\n",
    "\n",
    "1. By polarity, the ability to interact with water molecules, dividing into:\n",
    "\n",
    "   * Apolar: hydrophobic.\n",
    "   * Polar: hydrophilic.\n",
    "   * Acids: negative charge at pH.\n",
    "   * Basic: positive charge at physiological pH.\n",
    "\n",
    "<img src=\"img/Figura6-en.jpg\" alt=\"aminoácidos2\" width=\"600\"/>\n",
    "\n",
    "*Figure 2. Structure and classification of amino acids by their polarity. Figure modified from: [A Brief Guide to the Twenty Common Amino Acids (2014)](https://www.compoundchem.com/2014/09/16/aminoacids/)*\n",
    "\n",
    "2. Due to the conformation of their side chain, they can be grouped into:\n",
    "   * Aliphatic\n",
    "   * Aromatics\n",
    "   * Hydroxyamino acids\n",
    "   * Thioamino acids\n",
    "   * Imino acids\n",
    "   * Dicarboxylic\n",
    "   * Amides\n",
    "   * Dibasic\n",
    "\n",
    "Knowing the physicochemical properties of proteins have facilitated the prediction of their secondary structures, that is, understanding the folding of proteins for the three-dimensional formation from the chain of amino acids that form it, this through the possible links established between the proteins. subunits and between proteins."
   ]
  },
  {
   "cell_type": "markdown",
   "metadata": {},
   "source": [
    "## Problem Statement\n",
    "To solve the general objective of the practice, we will analyze 2 physicochemical properties of the cytochrome P450 enzyme, using the information in figures 6 and 7 as a guide. In this way, we will obtain the basic information of the protein, which would facilitate a prediction of its folding through the use of omic sciences. The properties we are going to evaluate are:\n",
    "* Polarity\n",
    "* Acidity or basicity\n",
    "\n",
    "Before beginning, we must create a dictionary of the physicochemical properties that we want to evaluate, with the classification of each amino acid. Where, the `key` would be the amino acids and the `value` the properties."
   ]
  },
  {
   "cell_type": "code",
   "execution_count": null,
   "metadata": {},
   "outputs": [],
   "source": [
    "#Dictionary of amino acids for their classification\n",
    "properties= {\"A\": \"Nonpolar\", \"V\": \"Nonpolar\", \"L\": \"Nonpolar\", \"G\": \"Nonpolar\", \"I\": \"Nonpolar\", \"F\": \"Nonpolar\",\"W\": \"Nonpolar\", \"M\": \"Nonpolar\", \"P\": \"Nonpolar\", \"S\": \"Polar\", \"T\": \"Polar\", \"Y\": \"Polar\", \"N\": \"Polar\", \"Q\": \"Polar\", \"C\": \"Polar\", \"D\": \"Acid\", \"E\": \"Acid\", \"K\": \"Basic\", \"R\": \"Basic\",  \"H\": \"Basic\"}\n",
    "\n",
    "print(f'Amino acids are: \\n{list(properties.keys())}')\n",
    "print('-----------------')\n",
    "print(f'The properties are: \\n{set(properties.values())}')\n",
    "# an array is used from the list so that the properties are not repeated"
   ]
  },
  {
   "cell_type": "markdown",
   "metadata": {},
   "source": [
    "Next, we are going to create the `total_elements` function to get the number of polar, nonpolar, acidic, and basic nucleotides present in the protein.\n",
    "The `collections.Counter` module will be used, which organizes the elements of a list in a `Counter` that tells how many times each element is repeated.\n",
    "The `Counter` object can then be turned into a `dictionary` where we can see the information.\n",
    "\n",
    "`Counter` also has useful methods, for example: `.most_common(n)`, which returns the most common n-element of `Counter`.\n",
    "\n",
    "More information https://docs.python.org/3/library/collections.html"
   ]
  },
  {
   "cell_type": "code",
   "execution_count": null,
   "metadata": {},
   "outputs": [],
   "source": [
    "def total_elements(protein_list):\n",
    "    # The module to be used is imported\n",
    "    from collections import Counter\n",
    "    # An empty list is created where the property of each amino acid is to be stored\n",
    "    list_protein_properties = list()\n",
    "    counter_1 = list()\n",
    "\n",
    "    # Will iterate for each amino acid in the protein\n",
    "    for element in protein_list:\n",
    "\n",
    "        # The amino acid property is found and stored in the list (.append())\n",
    "        list_protein_properties.append(properties[element])\n",
    "        # The Counter method is called to arrange the data\n",
    "        counter_1 = Counter(list_protein_properties)\n",
    "    print(f'Summary of protein properties:')\n",
    "    print(f'Total items: {len(protein_list)}')\n",
    "    print(f'Frequency of properties: {dict(counter_1)}')\n",
    "    print(f'Most common property: {counter_1.most_common(1)[0]}')\n",
    "\n",
    "    return None"
   ]
  },
  {
   "cell_type": "code",
   "execution_count": null,
   "metadata": {},
   "outputs": [],
   "source": [
    "# Protein enzyme cytochrome P450 (found in activity 2)\n",
    "print(protein)\n",
    "print('-----------')\n",
    "total_elements(protein)"
   ]
  },
  {
   "cell_type": "markdown",
   "metadata": {},
   "source": [
    "With this information, we already know the length of the amino acid sequence and the physicochemical properties of its structure, which has both polar and apolar regions, the latter being the most common, which allows us to have an approximation of the character of the amino acids. functional groups with which it tends to react."
   ]
  },
  {
   "cell_type": "markdown",
   "metadata": {},
   "source": [
    "## Practice activities\n",
    "\n",
    "Taking into account what was reviewed in this first part, make a code in python with which you can:\n",
    "\n",
    "1. Count the amount of thiamines that were replaced by uracil. The mRNA sequence is found below:\n",
    "   \n",
    "GUCUUAACAAGAAGAGAAGGCUUCAAUGGAUUCUCUUGUGGUCCUUGUGCUCUGUCUCUCAUGUUUGCUUCUCCUUUCACUCUGGAGACAGAGCUCUGGGAGAGGAAAACUCCCUCCUGGCCCCACUCCUCUCCCAGUGAU\n",
    "UGGAAAUAUCCUACAGAUAGGUAUUAAGGACAUCAGCAAAUCCUUAACCAAUCUCUCAAAGGUCUAUGGCCCUGUGUUCACUCUGUAUUUUGGCCUGAAACCCAUAGUGGUGCUGCAUGGAUAUGAAGCAGUGAAGGAAGC\n",
    "CCUGAUUGAUCUUGGAGAGGAGUUUUCUGGAAGAGGCAUUUUCCCACUGGCUGAAAGAGCUAACAGAGGAUUUGGAAUUGUUUUCAGCAAUGGAAAGAAAUGGAAGGAGAUCCGGCGUUUCUCCCUCAUGACGCUGCGGAA\n",
    "UUUUGGGAUGGGGAAGAGGAGCAUUGAGGACCGUGUUCAAGAGGAAGCCCGCUGCCUUGUGGAGGAGUUGAGAAAAACCAAGGCCUCACCCUGUGAUCCCACUUUCAUCCUGGGCUGUGCUCCCUGCAAUGUGAUCUGCUC\n",
    "CAUUAUUUUCCAUAAACGUUUUGAUUAUAAAGAUCAGCAAUUUCUUAACUUAAUGGAAAAGUUGAAUGAAAACAUCAAGAUUUUGAGCAGCCCCUGGAUCCAGAUCUGCAAUAAUUUUUCUCCUAUCAUUGAUUACUUCCC\n",
    "GGGAACUCACAACAAAUUACUUAAAAACGUUGCUUUUAUGAAAAGUUAUAUUUUGGAAAAAGUAAAAGAACACCAAGAAUCAAUGGACAUGAACAACCCUCAGGACUUUAUUGAUUGCUUCCUGAUGAAAAUGGAGAAGGA\n",
    "AAAGCACAACCAACCAUCUGAAUUUACUAUUGAAAGCUUGGAAAACACUGCAGUUGACUUGUUUGGAGCUGGGACAGAGACGACAAGCACAACCCUGAGAUAUGCUCUCCUUCUCCUGCUGAAGCACCCAGAGGUCACAGC\n",
    "UAAAGUCCAGGAAGAGAUUGAACGUGUGAUUGGCAGAAACCGGAGCCCCUGCAUGCAAGACAGGAGCCACAUGCCCUACACAGAUGCUGUGGUGCACGAGGUCCAGAGAUACAUUGACCUUCUCCCCACCAGCCUGCCCCA\n",
    "UGCAGUGACCUGUGACAUUAAAUUCAGAAACUAUCUCAUUCCCAAGGGCACAACCAUAUUAAUUUCCCUGACUUCUGUGCUACAUGACAACAAAGAAUUUCCCAACCCAGAGAUGUUUGACCCUCAUCACUUUCUGGAUGA\n",
    "AGGUGGCAAUUUUAAGAAAAGUAAAUACUUCAUGCCUUUCUCAGCAGGAAAACGGAUUUGUGUGGGAGAAGCCCUGGCCGGCAUGGAGCUGUUUUUAUUCCUGACCUCCAUUUUACAGAACUUUAACCUGAAAUCUCUGGU\n",
    "UGACCCAAAGAACCUUGACACCACUCCAGUUGUCAAUGGAUUUGCCUCUGUGCCGCCCUUCUACCAGCUGUGCUUCAUUCCUGUCUGAAGAAGAGCAGAUGGCCUGGCUGCUGCUGUGCAGUCCCUGCAGCUCUCUUUCCU\n",
    "CUGGGGCAUUAUCCAUCUUUCACUAUCUGUAAUGCCUUUUCUCACCUGUCAUCUCACAUUUUCCCUUCCCUGAAGAUCUAGUGAACAUUCGACCUCCAUUACGGAGAGUUUCCUAUGUUUCACUGUGCAAAUAUAUCUGCU\n",
    "AUUCUCCAUACUCUGUAACAGUUGCAUUGACUGUCACAUAAUGCUCAUACUUAUCUAAUGUUGAGUUAUUAAUAUGUUAUUAUUAAAUAGAGAAAUAUGAUUUGUGUAUUAUAAUUCAAAGGCAUUUCUUUUCUGCAUGUU\n",
    "CUAAAUAAAAAGCAUUAUUAUUUGCUGAGUCAGUUUAUUAGACCUUCCUUCUUUUAUGCAUAAUGUAGGUCAGAAAUUAAAGAAAAUAGAGUUCCAGGAGGCCAUGCUGGUUCUCAAAAUGAUAAGGACAGAAAGGACAAA\n",
    "GAGGAAGAGGGUAGGGAAGCUAUUUUGGGUGAGUGUUAGAGUUACUUGAGGAUUGGAUUUGAAAGUGAGAAACUGUGUCCAGGGGCAGCUCUAACCUCUAGGGAAAUAUUCAGAGGAUCAGUCAAAGGGUGGAAUGGACAU\n",
    "UAAAUGCUAGAAUUCUUAUAUCCACAUUGGUGUUCCUUUUUUUUUGAGACAAAGUCUUGCUCUGUCACCCAGGCUGGAGUGCAGUGGUGUGAUCUCAGCUCUCUAUAACCUCCGCCUCCCAGGUUCAAGUGAUUCUCCUGC\n",
    "CUCAGCCUCCUGAGUAGCUGGGAUUACAGGUGCAUGCCACCACACCUGGCUAAUUUUUUGUAUUUUUAGUACAGACGGGUUUUCACCGUGUUAGCCAGGAUGGUCUUAAUCUCCUGACCUUGUGAUCUGCCUGCCUCAGCC\n",
    "UCCCAAAGUGCUGGGAUUACAGGUGUGAGCCACUGCGCCUGGCCUGGUGUUACUUUGAAGUGUCAUUACUUUAUCUCUAAAUAAAGAAUCAGAUUACUUUUAUUACUUCAUGUUUCCAACUUAGAAUGAUGUAAUGAAGUA\n",
    "UAAAUACAUGCUUUCAUAUCGCU\n",
    "\n",
    "2. Perform a new classification of the protein based on the conformation of the side chain.\n",
    "3. Identify the difference between the final amino acid sequence compared to the CYP2C19 sequence (NM_000769.4), a sequence from the same family of cytochrome P450 proteins that presents a polymorphism (mutation) in the amino acid sequence.\n",
    "   \n",
    "At the end, you must prepare a document in PDF format in which you attach the proposed code and the output of the execution."
   ]
  },
  {
   "cell_type": "markdown",
   "metadata": {},
   "source": [
    "## Conclusions\n",
    "In this tutorial, you understood the uses of basic Python tools used in bioinformatics practices, ranging from data collection and management, to the use of commands and methods for data management and analysis. This was done through two phases, a theory and a practice, where we carried out the expression of the genetic material of a protein from a DNA sequence, until obtaining the corresponding amino acids and their properties.\n",
    "In the next tutorials, we will explain more Python tools used in collecting and organizing data obtained from electronic resources, implementing different libraries and their development."
   ]
  },
  {
   "cell_type": "markdown",
   "metadata": {},
   "source": [
    "# Reference\n",
    "\n",
    "1. Translation. (2023). Genome.Gov. https://www.genome.gov/genetics-glossary/Translation\n",
    "2. Genetic code. (2023). Genome.Gov. https://www.genome.gov/genetics-glossary/Genetic-Code\n",
    "3. Cortés, G. & Aguilar-Ruiz, J. (2006). Importancia de las Propiedades Físico-Químicas de los Aminoácidos en la Predicción de Estructuras de Proteínas usando Vecinos más Cercanos"
   ]
  }
 ],
 "metadata": {
  "kernelspec": {
   "display_name": "Python 3 (ipykernel)",
   "language": "python",
   "name": "python3"
  },
  "language_info": {
   "codemirror_mode": {
    "name": "ipython",
    "version": 3
   },
   "file_extension": ".py",
   "mimetype": "text/x-python",
   "name": "python",
   "nbconvert_exporter": "python",
   "pygments_lexer": "ipython3",
   "version": "3.8.17"
  }
 },
 "nbformat": 4,
 "nbformat_minor": 4
}
