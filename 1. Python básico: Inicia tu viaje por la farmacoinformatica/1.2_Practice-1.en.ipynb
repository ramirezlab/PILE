{
 "cells": [
  {
   "cell_type": "markdown",
   "metadata": {},
   "source": [
    "# Practice 1: Expression of genetic material\n",
    "\n",
    "> **Note:** This book is available in two ways:\n",
    "> 1. Downloading the repository and following the instructions in the file [README.md](https://github.com/ramirezlab/CHEMO/blob/main/README.md)\n",
    "> 2. Clicking here on  [![Open In Colab](https://colab.research.google.com/assets/colab-badge.svg)](https://colab.research.google.com/github/ramirezlab/CHEMO/blob/main/1_PART_ONE/1.2_Practice-1.en.ipynb)\n",
    "\n",
    "## Concepts to work\n",
    "\n",
    "Nucleic acids are the basic unit that make up the genetic material, it is present in prokaryotic and eukaryotic cells and viruses **<sup> 1 </sup>**, it is made up of pentoses, a phosphate group and nitrogenous bases, divided into two groups: purines that are adenine (A) and guanine (G), and the pyrimidines that are cytosine (C), thymine (T) and uracil (U)**<sup> 2 </sup>**. The union of nucleic acids forms the essential macromolecules for life:\n",
    "\n",
    "<img src=\"img/Figura1-en.jpg\" alt=\"estructure\" width=\"600\"/>\n",
    "\n",
    "*Figure 1. Structure of DNA and RNA showing its characteristics and the nucleic acids that compose it. Own elaboration.*\n",
    "\n",
    "**DNA (deoxyribonucleic acid)**: is a macromolecule in charge of storing and expressing essential genetic information for the functions of any organism, it has an ordered organization of four nitrogenous bases A, G, T and C, which form a antiparallel and complementary double helix chain, where A always binds to T, and G to C, if any base is modified or its order changes the information, which can trigger mutations **<sup> 3 </sup>**.\n",
    "\n",
    "**RNA (ribonucleic acid)**: It is the macromolecular resulting from the transcription of DNA, where the T becomes a U, that is, it is the copy determined by the sequence of one of the DNA strands **<sup> 4 </sup>**.\n",
    "\n",
    "One of the functions of the double stranded DNA is the expression of the genetic material, it is the process in charge of the synthesis of the proteins that the cell needs (fig. 2). It consists of two main phases, **transcription** and **translation** where a DNA sequence codes for a particular protein involved in different processes such as metabolism or cell identity.\n",
    "\n",
    "<img src=\"img/Figura2-en.jpg\" alt=\"transcription-translation\" width=\"600\"/>\n",
    "\n",
    "*Figure 2. Central dogma of molecular biology, where the expression of the genetic material, the transcription of DNA to RNAm, translation to amino acids and the formation of the protein are evident. Figure modified from: [Dogma](https://www.brainvta.tech/plus/list.php?tid=110).*\n",
    "\n",
    "**Transcription** is the first step for the generation of proteins, in which from a DNA strand, called template DNA, an RNA strand is synthesized by means of the enzyme RNA polymerase, where a copy is established. Almost identical to the DNA sequence, with the variation of substituting the T for the U throughout the sequence, however, like the T, the U pairs with the A (fig. 3). In eukaryotic cells, this first transcript undergoes a second process called \"splicing\" in which specific fractions of the sequence that do not code for proteins. Transcription is like translating a book from one language to another **<sup> 5 </sup>**.\n",
    "\n",
    "<img src=\"img/Figura3-en.png\" alt=\"transcription\" width=\"600\"/>\n",
    "\n",
    "*Figure 3. Synthesis of mRNA, showing the transcription of DNA to RNA with the construction of the mRNA chain from the DNA template chain, in the absence of the enzymes involved. Figure modified from: [Molecular biology of the gene, (2008), 13, 429-464]( https://books.google.com.co/books?id=7tadzgEACAAJ&dq=Molecular+biology+of+the+gene&hl=es-419&sa=X&redir_esc=y)*"
   ]
  },
  {
   "cell_type": "markdown",
   "metadata": {},
   "source": [
    "## Problem Statement\n",
    "Suppose we want to obtain basic information on the cytochrome P450 enzyme, which encodes a protein involved in drug metabolism and lipid synthesis such as cholesterol and steroids. To analyze the sequence we can use bioinformatics tools, we will start with the manipulation of <code>strings</code> of the sequence, transcribing the DNA sequence to mRNA.\n",
    "\n",
    "First, we must download the document with which we are going to work. We can do a gene search in the Genbank database: we look for the DNA sequence of cytochrome P450, specifically the C9 subfamily of homo sapiens, ID: [NM_000771.4](https://www.ncbi.nlm.nih.gov/nuccore/NM_000771.4?report=genbank)\n",
    "\n",
    "To download the sequence, select the **\"Fasta\"** section, then, in the **\"Send to\"** section and then **\"Complete Record\"**, choose the file **(File) ** and the format to obtain the sequence **(Fasta)**, then click on **\"Create File\"** and the document will be downloaded. To recognize the file, change the name of the document, in this case \"sec_CYP2C9.fasta\".\n",
    "- *The `sec_CYP2C9.fasta` file can be found in the `/data/` folder*\n",
    "\n",
    "Next, the file is loaded in order to carry out the transcription process, for this, the `with` command is used, where the `GEN` variable is saving an object (in this case, a file). These objects can be called different ways. The line `sec_CYP2C9 = (GEN.read())` saves in the `sec_CYP2C9` variable a string with the content of the GEN variable."
   ]
  },
  {
   "cell_type": "markdown",
   "metadata": {},
   "source": [
    "### Sequence NM_000771"
   ]
  },
  {
   "cell_type": "code",
   "execution_count": null,
   "metadata": {},
   "outputs": [],
   "source": [
    "\n",
    "import requests\n",
    "\n",
    "url = \"https://raw.githubusercontent.com/ramirezlab/CHEMO/main/1_PART_ONE/data/sec_CYP2C9.fasta\"\n",
    "response = requests.get(url)\n",
    "\n",
    "if response.status_code == 200:\n",
    "    sec_CYP2C9 = response.text\n",
    "    print(f'Tipo variable sec_CYP2C9: {type(sec_CYP2C9)}')\n",
    "else:\n",
    "    print(f\"Error al acceder al archivo. Código de estado: {response.status_code}\")"
   ]
  },
  {
   "cell_type": "code",
   "execution_count": null,
   "metadata": {},
   "outputs": [],
   "source": [
    "print('The downloaded GenBank file of the cytochrome P450 gene is:')\n",
    "sec_CYP2C9"
   ]
  },
  {
   "cell_type": "markdown",
   "metadata": {},
   "source": [
    "We see that the variable sec_CYP2C9 stored a line of text with the **special character** `\\n`. This character means line break. If we print the sequence it looks better:"
   ]
  },
  {
   "cell_type": "code",
   "execution_count": null,
   "metadata": {},
   "outputs": [],
   "source": [
    "print(sec_CYP2C9)"
   ]
  },
  {
   "cell_type": "markdown",
   "metadata": {},
   "source": [
    "## String manipulation"
   ]
  },
  {
   "cell_type": "markdown",
   "metadata": {},
   "source": [
    "### Loading and manipulation of text files\n",
    "When downloading a sequence from Genbak in fasta format, the first line contains the sequence references and the text is separated by `\\n`, with the following procedure you can clean the text and leave only the sequence:\n",
    " - Use the `.split()` method that splits the string into a list of elements. It is useful for us to separate it into line breaks, which are represented with **'\\n'**.\n",
    " - Then the first element (zero index) should be removed.\n",
    " - Finally, rejoin the entire string in a single string, for this, the `.join()` method is used"
   ]
  },
  {
   "cell_type": "code",
   "execution_count": null,
   "metadata": {},
   "outputs": [],
   "source": [
    "# 1. Separate the string by lines\n",
    "separated_sec = sec_CYP2C9.split('\\n')\n",
    "print (\"Separated list:\\n\", str (separated_sec))"
   ]
  },
  {
   "cell_type": "code",
   "execution_count": null,
   "metadata": {},
   "outputs": [],
   "source": [
    "#2. Save the list of elements from the second (index 1) to the end, dereferencing the sequence (index 0).\n",
    "separated_sec = separated_sec[1:]\n",
    "# View the list without the first item\n",
    "print(\"Separated list, without the first line:\\n\" + str (separated_sec))"
   ]
  },
  {
   "cell_type": "code",
   "execution_count": null,
   "metadata": {},
   "outputs": [],
   "source": [
    "# Join the string to compile the sequence.\n",
    "DNA_CYP2C9 =(''.join(separated_sec))\n",
    "print('Final sequence:')\n",
    "DNA_CYP2C9"
   ]
  },
  {
   "cell_type": "markdown",
   "metadata": {},
   "source": [
    "The entire process, from uploading the file, to cleaning it up, and saving it to a variable can be combined into a single cell:"
   ]
  },
  {
   "cell_type": "code",
   "execution_count": null,
   "metadata": {},
   "outputs": [],
   "source": [
    "import requests\n",
    "\n",
    "url = \"https://raw.githubusercontent.com/ramirezlab/CHEMO/main/1_PART_ONE/data/sec_CYP2C9.fasta\"\n",
    "response = requests.get(url)\n",
    "\n",
    "if response.status_code == 200:\n",
    "    sec_CYP2C9 = response.text\n",
    "    ADN_CYP2C9 = (''.join(sec_CYP2C9.split('\\n')[1:]))\n",
    "    print('Final sequence:')\n",
    "    print(ADN_CYP2C9)\n",
    "else:\n",
    "    print(f\"Error accessing file. Status code:{response.status_code}\")"
   ]
  },
  {
   "cell_type": "markdown",
   "metadata": {},
   "source": [
    "### Indexing and sequencing of lists\n",
    "To handle very long `string` data, you can reference variables by position, from different sections, using brackets <code>\"[start:end]\"</code> to access certain elements of a string.\n",
    "Let's see some examples:"
   ]
  },
  {
   "cell_type": "markdown",
   "metadata": {},
   "source": [
    "#### Example 1\n",
    "Print parts of the `DNA_CYP2C9` sequence\n",
    "(_the count starts from zero_)\n",
    "*Note*: From now on we will work with `f-strings` that allow you to make short lines of text with built-in variables. Más información en: [f-strings](https://platzi.com/blog/f-strings-en-python/?utm_source=google&utm_medium=cpc&utm_campaign=12915366154&utm_adgroup=&utm_content=&gclid=Cj0KCQjw3IqSBhCoARIsAMBkTb2p5ZOBtPtlGG2B7P0qrtnp8Wwvbgd2OY_F3_P-6OOU1YE_QHHCMaYaAnTaEALw_wcB&gclsrc=aw.ds), [f-strings](https://peps.python.org/pep-0498/)"
   ]
  },
  {
   "cell_type": "code",
   "execution_count": null,
   "metadata": {},
   "outputs": [],
   "source": [
    "print(f'The first nucleotide of the sequence is: {DNA_CYP2C9[0]}')\n",
    "\n",
    "print(f'The first ten nucleotides of the sequence are: {DNA_CYP2C9[:10]}')"
   ]
  },
  {
   "cell_type": "code",
   "execution_count": null,
   "metadata": {},
   "outputs": [],
   "source": [
    "print(f'The sequence spanning 2 to 10 nucleotides is: {DNA_CYP2C9[2:10]}')"
   ]
  },
  {
   "cell_type": "code",
   "execution_count": null,
   "metadata": {},
   "outputs": [],
   "source": [
    "print(f'The nucleotide sequence from position 1100 is: {DNA_CYP2C9[1100:]}')"
   ]
  },
  {
   "cell_type": "code",
   "execution_count": null,
   "metadata": {},
   "outputs": [],
   "source": [
    "# Using negative indices starts counting from the end of the String, useful in long documents\n",
    "print(f'The last 25 nucleotides of the sequence are: {DNA_CYP2C9[-25:]}')"
   ]
  },
  {
   "cell_type": "code",
   "execution_count": null,
   "metadata": {},
   "outputs": [],
   "source": [
    "print(f'total nucleotides: {len(DNA_CYP2C9)}')"
   ]
  },
  {
   "cell_type": "markdown",
   "metadata": {},
   "source": [
    "### DNA Transcription\n",
    "The second thing we are going to do is the **transcription** process, being the first phase of gene expression. To do this, we will replace thymine (T) with uracil (U) throughout the sequence. Using the String <code>.replace() </code> method, obtaining the mRNA sequence, which will be synthesized into a protein."
   ]
  },
  {
   "cell_type": "code",
   "execution_count": null,
   "metadata": {},
   "outputs": [],
   "source": [
    "# Transcribe the woodchuck sequence from DNA to RNA, using the \".replace()\" function\n",
    "RNA_CYP2C9 = DNA_CYP2C9.replace(\"T\",\"U\")\n",
    "print(\"mRNA Sequence:\\n\", str(RNA_CYP2C9))"
   ]
  },
  {
   "cell_type": "code",
   "execution_count": null,
   "metadata": {},
   "outputs": [],
   "source": [
    "RNA_CYP2C9.count('U')"
   ]
  },
  {
   "cell_type": "markdown",
   "metadata": {},
   "source": [
    "## Handling large strings\n",
    "The tools we saw above can be applied to large files with long sequences, such as the complete genome of the Marmot monax, ID: [JAIQCD010000022.1](https://www.ncbi.nlm.nih.gov/nuccore/JAIQCD010000022.1?report=fasta), gene that will be worked on in what remains of this notebook.\n",
    "\n",
    "The file is in the location `data/dna_marmota.fasta`, below is how it can be loaded and saved in the variable `DNA_marmota`"
   ]
  },
  {
   "cell_type": "code",
   "execution_count": null,
   "metadata": {},
   "outputs": [],
   "source": [
    "\n",
    "import requests\n",
    "\n",
    "url = \"https://raw.githubusercontent.com/ramirezlab/CHEMO/main/1_PART_ONE/data/dna_marmota.fasta\"\n",
    "response = requests.get(url)\n",
    "\n",
    "if response.status_code == 200:\n",
    "    ADN_marmota = ''.join((response.text).split('\\n')[1:])\n",
    "    print(f'The groundhog genome sequence has{len(ADN_marmota)} nucleótidos')\n",
    "    print(f'The first 100 nucleotides of the groundhog genome are: {ADN_marmota[:100]}')\n",
    "else:\n",
    "    print(f\"Error accessing file. Status code: {response.status_code}\")"
   ]
  },
  {
   "cell_type": "code",
   "execution_count": null,
   "metadata": {},
   "outputs": [],
   "source": [
    "# Transcribe the marmot sequence from DNA to RNA, using the \".replace()\" function\n",
    "ARN_marmota = ADN_marmota.replace(\"T\",\"U\")\n",
    "print(\"The first nucleotides of the RNA sequence are: \"+ (ARN_marmota[:1000]))"
   ]
  },
  {
   "cell_type": "markdown",
   "metadata": {},
   "source": [
    "## Conclusions\n",
    "In this first practice, commands and methods related to the manipulation of `strings` of files of different sizes were used, using as a starting point we worked with two different DNA chains, where we saw the tools that can be implemented in biological practices. .\n",
    "\n",
    "At the same time, basic information on the complete cytochrome P450 genome was obtained, starting from the DNA chain to obtain the RNAm of the sequence, which will be translated into amino acids (practice 2)."
   ]
  },
  {
   "cell_type": "markdown",
   "metadata": {},
   "source": [
    "# References\n",
    "\n",
    "1. Nucleic acids. (2023). Genome.Gov. https://www.genome.gov/genetics-glossary/Nucleic-Acids\n",
    "2. Base pair. (2023). Genome.Gov. https://www.genome.gov/genetics-glossary/Base-Pair\n",
    "3. Deoxyribonucleic acid (Dna). (2023). Genome.Gov. https://www.genome.gov/genetics-glossary/Deoxyribonucleic-Acid\n",
    "4. Ribonucleic acid(Rna). (2023). Genome.Gov. https://www.genome.gov/genetics-glossary/RNA-Ribonucleic-Acid\n",
    "5. Transcription. (2023). Genome.Gov. https://www.genome.gov/genetics-glossary/Transcription"
   ]
  }
 ],
 "metadata": {
  "kernelspec": {
   "display_name": "Python 3 (ipykernel)",
   "language": "python",
   "name": "python3"
  },
  "language_info": {
   "codemirror_mode": {
    "name": "ipython",
    "version": 3
   },
   "file_extension": ".py",
   "mimetype": "text/x-python",
   "name": "python",
   "nbconvert_exporter": "python",
   "pygments_lexer": "ipython3",
   "version": "3.8.17"
  }
 },
 "nbformat": 4,
 "nbformat_minor": 4
}
